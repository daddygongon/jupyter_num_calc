{
 "cells": [
  {
   "cell_type": "markdown",
   "metadata": {
    "toc": "true"
   },
   "source": [
    "# Table of Contents\n",
    " <p><div class=\"lev1 toc-item\"><a href=\"#数式処理\" data-toc-modified-id=\"数式処理-1\"><span class=\"toc-item-num\">1&nbsp;&nbsp;</span>数式処理</a></div><div class=\"lev1 toc-item\"><a href=\"#式変形に関連したコマンド\" data-toc-modified-id=\"式変形に関連したコマンド-2\"><span class=\"toc-item-num\">2&nbsp;&nbsp;</span>式変形に関連したコマンド</a></div><div class=\"lev2 toc-item\"><a href=\"#簡単化(simplify)\" data-toc-modified-id=\"簡単化(simplify)-21\"><span class=\"toc-item-num\">2.1&nbsp;&nbsp;</span>簡単化(simplify)</a></div><div class=\"lev2 toc-item\"><a href=\"#展開(expand)\" data-toc-modified-id=\"展開(expand)-22\"><span class=\"toc-item-num\">2.2&nbsp;&nbsp;</span>展開(expand)</a></div><div class=\"lev2 toc-item\"><a href=\"#因数分解(factor)\" data-toc-modified-id=\"因数分解(factor)-23\"><span class=\"toc-item-num\">2.3&nbsp;&nbsp;</span>因数分解(factor)</a></div><div class=\"lev2 toc-item\"><a href=\"#約分・通分(normal)\" data-toc-modified-id=\"約分・通分(normal)-24\"><span class=\"toc-item-num\">2.4&nbsp;&nbsp;</span>約分・通分(normal)</a></div><div class=\"lev2 toc-item\"><a href=\"#項を変数でまとめる(collect)\" data-toc-modified-id=\"項を変数でまとめる(collect)-25\"><span class=\"toc-item-num\">2.5&nbsp;&nbsp;</span>項を変数でまとめる(collect)</a></div><div class=\"lev2 toc-item\"><a href=\"#分母，分子(denom,numer)\" data-toc-modified-id=\"分母，分子(denom,numer)-26\"><span class=\"toc-item-num\">2.6&nbsp;&nbsp;</span>分母，分子(denom,numer)</a></div><div class=\"lev2 toc-item\"><a href=\"#係数(coeff)\" data-toc-modified-id=\"係数(coeff)-27\"><span class=\"toc-item-num\">2.7&nbsp;&nbsp;</span>係数(coeff)</a></div><div class=\"lev2 toc-item\"><a href=\"#分数をそのまま使いたい\" data-toc-modified-id=\"分数をそのまま使いたい-28\"><span class=\"toc-item-num\">2.8&nbsp;&nbsp;</span>分数をそのまま使いたい</a></div><div class=\"lev2 toc-item\"><a href=\"#課題\" data-toc-modified-id=\"課題-29\"><span class=\"toc-item-num\">2.9&nbsp;&nbsp;</span>課題</a></div><div class=\"lev3 toc-item\"><a href=\"#因数分解\" data-toc-modified-id=\"因数分解-291\"><span class=\"toc-item-num\">2.9.1&nbsp;&nbsp;</span>因数分解</a></div><div class=\"lev3 toc-item\"><a href=\"#部分分数\" data-toc-modified-id=\"部分分数-292\"><span class=\"toc-item-num\">2.9.2&nbsp;&nbsp;</span>部分分数</a></div><div class=\"lev3 toc-item\"><a href=\"#分母の有理化\" data-toc-modified-id=\"分母の有理化-293\"><span class=\"toc-item-num\">2.9.3&nbsp;&nbsp;</span>分母の有理化</a></div><div class=\"lev3 toc-item\"><a href=\"#複合問題\" data-toc-modified-id=\"複合問題-294\"><span class=\"toc-item-num\">2.9.4&nbsp;&nbsp;</span>複合問題</a></div><div class=\"lev3 toc-item\"><a href=\"#解答例\" data-toc-modified-id=\"解答例-295\"><span class=\"toc-item-num\">2.9.5&nbsp;&nbsp;</span>解答例</a></div><div class=\"lev1 toc-item\"><a href=\"#式の変形の基本(BottomLine)\" data-toc-modified-id=\"式の変形の基本(BottomLine)-3\"><span class=\"toc-item-num\">3&nbsp;&nbsp;</span>式の変形の基本(BottomLine)</a></div><div class=\"lev2 toc-item\"><a href=\"#鉄則\" data-toc-modified-id=\"鉄則-31\"><span class=\"toc-item-num\">3.1&nbsp;&nbsp;</span>鉄則</a></div><div class=\"lev2 toc-item\"><a href=\"#数式変形の実践（大学入試センター試験の解法を通して）\" data-toc-modified-id=\"数式変形の実践（大学入試センター試験の解法を通して）-32\"><span class=\"toc-item-num\">3.2&nbsp;&nbsp;</span>数式変形の実践（大学入試センター試験の解法を通して）</a></div><div class=\"lev3 toc-item\"><a href=\"#数式処理問題の典型例:2次関数の頂点\" data-toc-modified-id=\"数式処理問題の典型例:2次関数の頂点-321\"><span class=\"toc-item-num\">3.2.1&nbsp;&nbsp;</span>数式処理問題の典型例:2次関数の頂点</a></div><div class=\"lev3 toc-item\"><a href=\"#解答例\" data-toc-modified-id=\"解答例-322\"><span class=\"toc-item-num\">3.2.2&nbsp;&nbsp;</span>解答例</a></div><div class=\"lev2 toc-item\"><a href=\"#課題\" data-toc-modified-id=\"課題-33\"><span class=\"toc-item-num\">3.3&nbsp;&nbsp;</span>課題</a></div><div class=\"lev3 toc-item\"><a href=\"#課題1\" data-toc-modified-id=\"課題1-331\"><span class=\"toc-item-num\">3.3.1&nbsp;&nbsp;</span>課題1</a></div><div class=\"lev4 toc-item\"><a href=\"#解答例\" data-toc-modified-id=\"解答例-3311\"><span class=\"toc-item-num\">3.3.1.1&nbsp;&nbsp;</span>解答例</a></div><div class=\"lev3 toc-item\"><a href=\"#課題2\" data-toc-modified-id=\"課題2-332\"><span class=\"toc-item-num\">3.3.2&nbsp;&nbsp;</span>課題2</a></div><div class=\"lev4 toc-item\"><a href=\"#解答例\" data-toc-modified-id=\"解答例-3321\"><span class=\"toc-item-num\">3.3.2.1&nbsp;&nbsp;</span>解答例</a></div><div class=\"lev1 toc-item\"><a href=\"#追記(ちょっとしたコツ)\" data-toc-modified-id=\"追記(ちょっとしたコツ)-4\"><span class=\"toc-item-num\">4&nbsp;&nbsp;</span>追記(ちょっとしたコツ)</a></div><div class=\"lev2 toc-item\"><a href=\"#式フォローのデフォルト\" data-toc-modified-id=\"式フォローのデフォルト-41\"><span class=\"toc-item-num\">4.1&nbsp;&nbsp;</span>式フォローのデフォルト</a></div><div class=\"lev2 toc-item\"><a href=\"#assumeの具体例：無限積分\" data-toc-modified-id=\"assumeの具体例：無限積分-42\"><span class=\"toc-item-num\">4.2&nbsp;&nbsp;</span>assumeの具体例：無限積分</a></div>"
   ]
  },
  {
   "cell_type": "markdown",
   "metadata": {},
   "source": [
    "<br />\n",
    "\n",
    "<div style=\"text-align: center;\">\n",
    "<font size=\"7\">式変形(equation manipulation)</font>\n",
    "</div>\n",
    "<br />\n",
    "<div style=\"text-align: right;\">\n",
    "<font size=\"4\">file:/~/python/doing_math_with_python/equation_manipulation.ipynb</font>\n",
    "<br />\n",
    "<font size=\"4\">cc by Shigeto R. Nishitani 2017 </font>\n",
    "</div>"
   ]
  },
  {
   "cell_type": "markdown",
   "metadata": {},
   "source": [
    "# 数式処理"
   ]
  },
  {
   "cell_type": "markdown",
   "metadata": {},
   "source": [
    "\n",
    "数式の変形は，手で直すほうが圧倒的に早くきれいになる場合が多い．しかし，テイラー展開や，複雑な積分公式，三角関数とexp関数の変換などの手間がかかるところを，数式処理ソフトは間違いなく変形してくれる．ここで示すコマンドを全て覚える必要は全くない．というか忘れるもの．ここでは，できるだけコンパクトにまとめて，悩んだときに参照できるようにする．初めての人は，ざっと眺めた後，鉄則からじっくりフォローせよ．\n"
   ]
  },
  {
   "cell_type": "markdown",
   "metadata": {},
   "source": [
    "# 式変形に関連したコマンド"
   ]
  },
  {
   "cell_type": "markdown",
   "metadata": {},
   "source": [
    "## 簡単化(simplify) \n"
   ]
  },
  {
   "cell_type": "code",
   "execution_count": 1,
   "metadata": {},
   "outputs": [
    {
     "data": {
      "text/plain": [
       "7*x + 2*y"
      ]
     },
     "execution_count": 1,
     "metadata": {},
     "output_type": "execute_result"
    }
   ],
   "source": [
    "from sympy import *\n",
    "x,y=symbols('x y')\n",
    "simplify(3*x+4*x+2*y)"
   ]
  },
  {
   "cell_type": "code",
   "execution_count": 5,
   "metadata": {},
   "outputs": [
    {
     "data": {
      "text/plain": [
       "4*sin(x)**3 - sin(x)"
      ]
     },
     "execution_count": 5,
     "metadata": {},
     "output_type": "execute_result"
    }
   ],
   "source": [
    "exp1=3*sin(x)**3-sin(x)*cos(x)**2\n",
    "simplify(exp1)"
   ]
  },
  {
   "cell_type": "markdown",
   "metadata": {},
   "source": [
    "## 展開(expand) \n"
   ]
  },
  {
   "cell_type": "code",
   "execution_count": 6,
   "metadata": {},
   "outputs": [
    {
     "data": {
      "text/plain": [
       "x**2 + 2*x*y + y**2"
      ]
     },
     "execution_count": 6,
     "metadata": {},
     "output_type": "execute_result"
    }
   ],
   "source": [
    "expand((x+y)**2)"
   ]
  },
  {
   "cell_type": "markdown",
   "metadata": {},
   "source": [
    "## 因数分解(factor) \n"
   ]
  },
  {
   "cell_type": "code",
   "execution_count": 7,
   "metadata": {},
   "outputs": [
    {
     "data": {
      "text/plain": [
       "2*(x - y)*(2*x - y)"
      ]
     },
     "execution_count": 7,
     "metadata": {},
     "output_type": "execute_result"
    }
   ],
   "source": [
    "factor(4*x**2-6*x*y+2*y**2)"
   ]
  },
  {
   "cell_type": "markdown",
   "metadata": {},
   "source": [
    "## 約分・通分(normal) \n"
   ]
  },
  {
   "cell_type": "code",
   "execution_count": 11,
   "metadata": {},
   "outputs": [
    {
     "data": {
      "text/plain": [
       "1/(x - 4*y)"
      ]
     },
     "execution_count": 11,
     "metadata": {},
     "output_type": "execute_result"
    }
   ],
   "source": [
    "simplify((x+y)/(x**2-3*x*y-4*y**2))"
   ]
  },
  {
   "cell_type": "code",
   "execution_count": 19,
   "metadata": {},
   "outputs": [
    {
     "data": {
      "text/plain": [
       "(x + y)/(x*y)"
      ]
     },
     "execution_count": 19,
     "metadata": {},
     "output_type": "execute_result"
    }
   ],
   "source": [
    "together(1/x+1/y)"
   ]
  },
  {
   "cell_type": "code",
   "execution_count": 9,
   "metadata": {
    "collapsed": true
   },
   "outputs": [],
   "source": [
    "?sqrtdenest"
   ]
  },
  {
   "cell_type": "markdown",
   "metadata": {},
   "source": [
    "## 項を変数でまとめる(collect) \n"
   ]
  },
  {
   "cell_type": "code",
   "execution_count": 18,
   "metadata": {},
   "outputs": [
    {
     "data": {
      "text/plain": [
       "4*a*x**2 + y**2*(2 - 3/x) + y*(6*b*x + 3*c)"
      ]
     },
     "execution_count": 18,
     "metadata": {},
     "output_type": "execute_result"
    }
   ],
   "source": [
    "a,b,c = symbols('a b c')\n",
    "collect(4*a*x**2-3*y**2/x+6*b*x*y+3*c*y+2*y**2,y)"
   ]
  },
  {
   "cell_type": "markdown",
   "metadata": {},
   "source": [
    "## 分母，分子(denom,numer) \n"
   ]
  },
  {
   "cell_type": "markdown",
   "metadata": {},
   "source": [
    "分数を英語でfractionというが，これでとり出せる．出力は，numerator(分子)，denominator(分母)の順．"
   ]
  },
  {
   "cell_type": "code",
   "execution_count": 21,
   "metadata": {},
   "outputs": [
    {
     "name": "stdout",
     "output_type": "stream",
     "text": [
      "       2\n",
      "(x + 1) \n",
      "a⋅(x - 1) + b⋅(x + 3)\n"
     ]
    }
   ],
   "source": [
    "a,b,c, x = symbols('a b c x')\n",
    "frac = (1+x)**2/(a*(x-1)+b*(x+3))\n",
    "n,d = fraction(frac)\n",
    "pprint(n)\n",
    "pprint(d)"
   ]
  },
  {
   "cell_type": "markdown",
   "metadata": {},
   "source": [
    "## 係数(coeff) \n"
   ]
  },
  {
   "cell_type": "code",
   "execution_count": 25,
   "metadata": {},
   "outputs": [
    {
     "name": "stdout",
     "output_type": "stream",
     "text": [
      "             2    \n",
      "a + b⋅x + c⋅x  + x\n"
     ]
    },
    {
     "data": {
      "text/plain": [
       "b + 1"
      ]
     },
     "execution_count": 25,
     "metadata": {},
     "output_type": "execute_result"
    }
   ],
   "source": [
    "eq = a+x+b*x+c*x**2\n",
    "pprint(eq)\n",
    "eq.coeff(x)"
   ]
  },
  {
   "cell_type": "code",
   "execution_count": 34,
   "metadata": {},
   "outputs": [
    {
     "data": {
      "text/plain": [
       "defaultdict(int, {a: 1, x: 1, b*x: 1, c*x**2: 1})"
      ]
     },
     "execution_count": 34,
     "metadata": {},
     "output_type": "execute_result"
    }
   ],
   "source": [
    "eq.as_coefficients_dict()"
   ]
  },
  {
   "cell_type": "code",
   "execution_count": 49,
   "metadata": {},
   "outputs": [
    {
     "name": "stdout",
     "output_type": "stream",
     "text": [
      "[a, b + 1, c]\n"
     ]
    }
   ],
   "source": [
    "eq0 = Poly(eq, x)\n",
    "coeffs = eq0.coeffs()\n",
    "print(coeffs[::-1])"
   ]
  },
  {
   "cell_type": "markdown",
   "metadata": {},
   "source": [
    "## 分数をそのまま使いたい\n",
    "\n",
    "方程式などで，係数として分数を使うとうまく扱ってくれません．\n",
    "そんなときは，Rationalで有理数と指定してしまいます．"
   ]
  },
  {
   "cell_type": "code",
   "execution_count": 7,
   "metadata": {},
   "outputs": [
    {
     "data": {
      "text/plain": [
       "1.0*(0.25*x - 0.5*y)*(0.25*x + 0.5*y)"
      ]
     },
     "execution_count": 7,
     "metadata": {},
     "output_type": "execute_result"
    }
   ],
   "source": [
    "factor(1/4*x**2-y**2)"
   ]
  },
  {
   "cell_type": "code",
   "execution_count": 8,
   "metadata": {},
   "outputs": [
    {
     "data": {
      "text/plain": [
       "(x - 2*y)*(x + 2*y)/4"
      ]
     },
     "execution_count": 8,
     "metadata": {},
     "output_type": "execute_result"
    }
   ],
   "source": [
    "factor(Rational(1,4)*x**2-y**2)"
   ]
  },
  {
   "cell_type": "markdown",
   "metadata": {},
   "source": [
    "## 課題\n",
    "### 因数分解\n",
    "1. $x^3-8$\n",
    "1. $abc−abx−acx+ax^2+bcx−bx^2−cx^2+x^3$\n",
    "\n",
    "### 部分分数\n",
    "1. $ \\frac{x+1}{(x-1)(x^2+1)^2}$\n",
    "1. $ \\frac{3}{1-x^4} = \\frac{a}{x^2+1}+\\frac{b}{x+1}+\\frac{c}{x-1}$が常に成立する$a, b, c$を定めよ．\n",
    "\n",
    "### 分母の有理化\n",
    "$ \\frac{8}{3-\\sqrt{5}}-\\frac{2}{2+\\sqrt{5}}$を簡単化せよ．\n",
    "\n",
    "### 複合問題\n",
    "$ x^2+2kx+5-k=0$が重根をもつように$k$を定めよ．\n",
    "\n",
    "### 解答例"
   ]
  },
  {
   "cell_type": "code",
   "execution_count": 8,
   "metadata": {},
   "outputs": [
    {
     "data": {
      "image/png": "[encoded data removed]",
      "text/latex": [
       "$$\\left(x - 2\\right) \\left(x^{2} + 2 x + 4\\right)$$"
      ],
      "text/plain": [
       "        ⎛ 2          ⎞\n",
       "(x - 2)⋅⎝x  + 2⋅x + 4⎠"
      ]
     },
     "execution_count": 8,
     "metadata": {},
     "output_type": "execute_result"
    }
   ],
   "source": [
    "factor(x**3-8)"
   ]
  },
  {
   "cell_type": "code",
   "execution_count": 14,
   "metadata": {},
   "outputs": [
    {
     "data": {
      "image/png": "[encoded data removed]",
      "text/latex": [
       "$$\\left(a + x\\right) \\left(- b + x\\right) \\left(- c + x\\right)$$"
      ],
      "text/plain": [
       "(a + x)⋅(-b + x)⋅(-c + x)"
      ]
     },
     "execution_count": 14,
     "metadata": {},
     "output_type": "execute_result"
    }
   ],
   "source": [
    "c = symbols('c')\n",
    "factor(a*b*c - a*b*x - a*c*x + a*x**2 + b*c*x - b*x**2 - c*x**2 + x**3)"
   ]
  },
  {
   "cell_type": "code",
   "execution_count": 17,
   "metadata": {},
   "outputs": [
    {
     "data": {
      "image/png": "[encoded data removed]",
      "text/latex": [
       "$$- \\frac{x}{\\left(x^{2} + 1\\right)^{2}} - \\frac{x + 1}{2 x^{2} + 2} + \\frac{1}{2 x - 2}$$"
      ],
      "text/plain": [
       "      x         x + 1          1    \n",
       "- ───────── - ────────── + ─────────\n",
       "          2     ⎛ 2    ⎞   2⋅(x - 1)\n",
       "  ⎛ 2    ⎞    2⋅⎝x  + 1⎠            \n",
       "  ⎝x  + 1⎠                          "
      ]
     },
     "execution_count": 17,
     "metadata": {},
     "output_type": "execute_result"
    }
   ],
   "source": [
    "apart((x+1)/((x-1)*(x**2+1)**2))"
   ]
  },
  {
   "cell_type": "code",
   "execution_count": 21,
   "metadata": {},
   "outputs": [
    {
     "data": {
      "image/png": "[encoded data removed]",
      "text/latex": [
       "$$\\frac{3}{2 x^{2} + 2} + \\frac{3}{4 x + 4} - \\frac{3}{4 x - 4}$$"
      ],
      "text/plain": [
       "    3            3           3    \n",
       "────────── + ───────── - ─────────\n",
       "  ⎛ 2    ⎞   4⋅(x + 1)   4⋅(x - 1)\n",
       "2⋅⎝x  + 1⎠                        "
      ]
     },
     "execution_count": 21,
     "metadata": {},
     "output_type": "execute_result"
    }
   ],
   "source": [
    "apart(3/(1-x**4))"
   ]
  },
  {
   "cell_type": "code",
   "execution_count": 5,
   "metadata": {},
   "outputs": [
    {
     "data": {
      "text/plain": [
       "10"
      ]
     },
     "execution_count": 5,
     "metadata": {},
     "output_type": "execute_result"
    }
   ],
   "source": [
    "from sympy import *\n",
    "radsimp(8/(3-sqrt(5)))\n",
    "radsimp(2/(2+sqrt(5)))\n",
    "\n",
    "simplify(8/(3-sqrt(5))-2/(2+sqrt(5)))"
   ]
  },
  {
   "cell_type": "code",
   "execution_count": 12,
   "metadata": {},
   "outputs": [
    {
     "data": {
      "text/plain": [
       "[-1/2 + sqrt(21)/2, -sqrt(21)/2 - 1/2]"
      ]
     },
     "execution_count": 12,
     "metadata": {},
     "output_type": "execute_result"
    }
   ],
   "source": [
    "k,x = symbols('k x')\n",
    "eq=x**2 +2*k*x+5-k\n",
    "sol = solve(eq,x)\n",
    "solve(sol[0]-sol[1],k)"
   ]
  },
  {
   "cell_type": "markdown",
   "metadata": {},
   "source": [
    "# 式の変形の基本(BottomLine)\n"
   ]
  },
  {
   "cell_type": "markdown",
   "metadata": {},
   "source": [
    "\n",
    "どうしても解かなければならない課題を前にコマンドリファレンスのあちこちを参照しながら解いていくのが数式処理を修得する最速法である．とびかかる前にちょっとした共通\n",
    "のコツがある．それをここでは示す．数式処理ソフトでの数式処理とは，数式処理ソフトが『自動的にやって』くれるのではなく，実際に紙と鉛筆で解いていく手順を数式処理ソ\n",
    "フトに『やらせる』ことであることを肝に銘じよ．\n"
   ]
  },
  {
   "cell_type": "markdown",
   "metadata": {},
   "source": [
    "## 鉄則 \n"
   ]
  },
  {
   "cell_type": "markdown",
   "metadata": {},
   "source": [
    "数式処理ソフトの習得にあたって初心者がつまづく共通の過ちを回避する鉄則がある．\n",
    "\n",
    "<dl>\n",
    "<dt>鉄則０：restart をかける</dt><dd></dd>\n",
    "</dl>\n",
    "続けて入力すると前の入力が生きている．違う問題へ移るときや，もう一度入力をし直すときには，Kernel->Restartを押して初期状態からはじめる．入力した順番が狂っている場合もある．頭から順にshift-returnをやり直す．\n",
    "さらに，\n",
    "\n",
    "``` python\n",
    "# kernel->Restart\n",
    "from sympy import *\n",
    "init_session()\n",
    "```\n",
    "\n",
    "として，sympyのimport，init_sessionによる綺麗な表示を強制しておく．\n",
    "<dl>\n",
    "<dt>鉄則１：出力してみる</dt><dd></dd>\n",
    "</dl>\n",
    "テキストではページ数の関係で出力を抑止しているが，初心者が問題を解いていく段階ではデータやグラフをできるだけ多く出力する．途中の結果を明示するためにpprint文を入れる．\n",
    "<dl>\n",
    "<dt>鉄則２：関数に値を代入してみる</dt><dd></dd>\n",
    "</dl>\n",
    "数値が返ってくるべき時に変数があればどこかで入力をミスっている．plotで以下のようなエラーが出た場合にチェック．\n",
    "\n",
    "```　python\n",
    "ValueError: The same variable should be used in \n",
    "all univariate expressions being plotted.\n",
    "```\n",
    "\n",
    "<dl>\n",
    "<dt>鉄則３：内側から順に入力する</dt><dd></dd>\n",
    "</dl>\n",
    "長い入力やfor-loopを頭から打ち込んではいけない！！　内側から順に何をしているか解読・確認しながら打ち込む．括弧が合わなかったり，読み飛ばしていたりというエラーが回避できる．\n",
    "\n",
    "\n"
   ]
  },
  {
   "cell_type": "markdown",
   "metadata": {},
   "source": [
    "## 数式変形の実践（大学入試センター試験の解法を通して） \n",
    "\n",
    "今まで出てきたコマンドを使えば，典型的なセンター試験の問題を解くのも容易である．以下の例題を参照して課題を解いてみよ．使うコマンドは，unapply, solve, diff, expand(展開), factor(因数分解)とsubs(一時的代入)である．\n",
    "\n"
   ]
  },
  {
   "cell_type": "markdown",
   "metadata": {},
   "source": [
    "### 数式処理問題の典型例:2次関数の頂点 \n"
   ]
  },
  {
   "cell_type": "markdown",
   "metadata": {},
   "source": [
    "$a,b$を定数とし, $a \\neq 0$とする．2次関数\n",
    "\n",
    "$$\n",
    "y = a\\,x^2-b\\,x-a+b\\,\\cdots(1)\n",
    "$$\n",
    "のグラフが点 $(-2, 6)$ を通るとする．このとき\n",
    "\n",
    "$$\n",
    "b = -a+\\fbox{ ア }\n",
    "$$\n",
    "であり，グラフの頂点の座標を$a$を用いて表すと\n",
    "\n",
    "$$\n",
    "\\left(\\frac{-a+\\fbox{ イ }}{\\fbox{ ウ }\\,a}, -\\frac{(\\fbox{ エ }\\,a- \\fbox{ オ })^2}{\\fbox{ カ }\\,a}\\right)\n",
    "$$\n",
    "である (2008 年度大学入試センター試験数学 I 第2問より抜粋)．\n",
    "\n",
    "\n"
   ]
  },
  {
   "cell_type": "markdown",
   "metadata": {},
   "source": [
    "### 解答例 \n"
   ]
  },
  {
   "cell_type": "code",
   "execution_count": 1,
   "metadata": {},
   "outputs": [
    {
     "name": "stdout",
     "output_type": "stream",
     "text": [
      "IPython console for SymPy 1.0 (Python 3.6.1-64-bit) (ground types: python)\n",
      "\n",
      "These commands were executed:\n",
      ">>> from __future__ import division\n",
      ">>> from sympy import *\n",
      ">>> x, y, z, t = symbols('x y z t')\n",
      ">>> k, m, n = symbols('k m n', integer=True)\n",
      ">>> f, g, h = symbols('f g h', cls=Function)\n",
      ">>> init_printing()\n",
      "\n",
      "Documentation can be found at http://docs.sympy.org/1.0/\n",
      "-a + 2\n",
      "-a + 2\n",
      "──────\n",
      " 2⋅a  \n",
      "          2 \n",
      "-(3⋅a - 2)  \n",
      "────────────\n",
      "    4⋅a     \n"
     ]
    }
   ],
   "source": [
    "from sympy import *\n",
    "init_session()\n",
    "\n",
    "a,b,x = symbols('a b x')\n",
    "f = a*x**2-b*x-a+b\n",
    "bb = solve(f.subs({x:-2})-6,b)[0]\n",
    "pprint(bb)\n",
    "\n",
    "x0=solve(diff(f,x),x)[0].subs({b:bb})\n",
    "pprint(x0)\n",
    "y0=factor(f.subs({x:x0,b:bb}))\n",
    "pprint(y0)"
   ]
  },
  {
   "cell_type": "markdown",
   "metadata": {},
   "source": [
    "解答の一例は以上のとおりであるが，これはだいぶ整理されたあとの記述になる．\n",
    "普通の答案ではここまで綺麗に初めから求まるものではない．\n",
    "\n",
    "そこで，綺麗な解答を導く一つ一つのステップをはしょることなくここで示しておく．\n",
    "今後巡り会うであろう解答例やコードサンプルにおいても，\n",
    "ここで示した導出のコンセプトを参考に数式処理コードを理解していってもらいたい．\n",
    "\n",
    "まずはRestartをかける．これもcodeに示しておくと忘れない．\n",
    "それとsympyのimportとinit_sessionによる綺麗なprint outを癖付けておく．"
   ]
  },
  {
   "cell_type": "code",
   "execution_count": 1,
   "metadata": {},
   "outputs": [
    {
     "name": "stdout",
     "output_type": "stream",
     "text": [
      "IPython console for SymPy 1.0 (Python 3.6.1-64-bit) (ground types: python)\n",
      "\n",
      "These commands were executed:\n",
      ">>> from __future__ import division\n",
      ">>> from sympy import *\n",
      ">>> x, y, z, t = symbols('x y z t')\n",
      ">>> k, m, n = symbols('k m n', integer=True)\n",
      ">>> f, g, h = symbols('f g h', cls=Function)\n",
      ">>> init_printing()\n",
      "\n",
      "Documentation can be found at http://docs.sympy.org/1.0/\n"
     ]
    }
   ],
   "source": [
    "# kernel->Restart\n",
    "from sympy import *\n",
    "init_session()"
   ]
  },
  {
   "cell_type": "markdown",
   "metadata": {},
   "source": [
    "与えられた2次関数を$f(x)$で定義する"
   ]
  },
  {
   "cell_type": "code",
   "execution_count": 2,
   "metadata": {},
   "outputs": [
    {
     "ename": "NameError",
     "evalue": "name 'a' is not defined",
     "output_type": "error",
     "traceback": [
      "\u001b[0;31m---------------------------------------------------------------------------\u001b[0m",
      "\u001b[0;31mNameError\u001b[0m                                 Traceback (most recent call last)",
      "\u001b[0;32m<ipython-input-2-de84ddc8e8d5>\u001b[0m in \u001b[0;36m<module>\u001b[0;34m()\u001b[0m\n\u001b[0;32m----> 1\u001b[0;31m \u001b[0mf\u001b[0m \u001b[0;34m=\u001b[0m \u001b[0ma\u001b[0m\u001b[0;34m*\u001b[0m\u001b[0mx\u001b[0m\u001b[0;34m**\u001b[0m\u001b[0;36m2\u001b[0m\u001b[0;34m-\u001b[0m\u001b[0mb\u001b[0m\u001b[0;34m*\u001b[0m\u001b[0mx\u001b[0m\u001b[0;34m-\u001b[0m\u001b[0ma\u001b[0m\u001b[0;34m+\u001b[0m\u001b[0mb\u001b[0m\u001b[0;34m\u001b[0m\u001b[0m\n\u001b[0m",
      "\u001b[0;31mNameError\u001b[0m: name 'a' is not defined"
     ]
    }
   ],
   "source": [
    "f = a*x**2-b*x-a+b "
   ]
  },
  {
   "cell_type": "markdown",
   "metadata": {},
   "source": [
    "すると早速エラー．sympyでは変数を明示的に宣言しないといけない．"
   ]
  },
  {
   "cell_type": "code",
   "execution_count": 3,
   "metadata": {
    "collapsed": true
   },
   "outputs": [],
   "source": [
    "a,b,x = symbols('a b x')\n",
    "f = a*x**2-b*x-a+b   # 与えられた2次関数を$f(x)$で定義する"
   ]
  },
  {
   "cell_type": "markdown",
   "metadata": {},
   "source": [
    "関数fが点(−2,6)を通る式を立てる．まずはx=-2を代入(subs)"
   ]
  },
  {
   "cell_type": "code",
   "execution_count": 4,
   "metadata": {},
   "outputs": [
    {
     "data": {
      "image/png": "[encoded data removed]",
      "text/latex": [
       "$$3 a + 3 b$$"
      ],
      "text/plain": [
       "3⋅a + 3⋅b"
      ]
     },
     "execution_count": 4,
     "metadata": {},
     "output_type": "execute_result"
    }
   ],
   "source": [
    "f.subs({x:-2})"
   ]
  },
  {
   "cell_type": "markdown",
   "metadata": {},
   "source": [
    "こいつがy=-6をみたすのだから，yに前の式を代入して，左辺にまとめて見る．"
   ]
  },
  {
   "cell_type": "code",
   "execution_count": 5,
   "metadata": {},
   "outputs": [
    {
     "data": {
      "image/png": "[encoded data removed]",
      "text/latex": [
       "$$3 a + 3 b - 6$$"
      ],
      "text/plain": [
       "3⋅a + 3⋅b - 6"
      ]
     },
     "execution_count": 5,
     "metadata": {},
     "output_type": "execute_result"
    }
   ],
   "source": [
    "y = f.subs({x:-2})\n",
    "y-6"
   ]
  },
  {
   "cell_type": "markdown",
   "metadata": {},
   "source": [
    "これをeq1と置いて，bについて解く．"
   ]
  },
  {
   "cell_type": "code",
   "execution_count": 6,
   "metadata": {},
   "outputs": [
    {
     "data": {
      "image/png": "[encoded data removed]",
      "text/latex": [
       "$$\\left [ - a + 2\\right ]$$"
      ],
      "text/plain": [
       "[-a + 2]"
      ]
     },
     "execution_count": 6,
     "metadata": {},
     "output_type": "execute_result"
    }
   ],
   "source": [
    "eq1 = y-6\n",
    "solve(eq1,b)"
   ]
  },
  {
   "cell_type": "markdown",
   "metadata": {},
   "source": [
    "これがbの表式．配列の一番目の要素となっているので，それを取り出しておく．"
   ]
  },
  {
   "cell_type": "code",
   "execution_count": 7,
   "metadata": {},
   "outputs": [
    {
     "name": "stdout",
     "output_type": "stream",
     "text": [
      "-a + 2\n"
     ]
    }
   ],
   "source": [
    "bb = solve(eq1,b)[0]\n",
    "pprint(bb)"
   ]
  },
  {
   "cell_type": "markdown",
   "metadata": {},
   "source": [
    "頂点の座標(x0,y0)で傾きが0になることを用いて解いていく．鉄則3を思い出して，中から見ていく．\n",
    "微分diffを思い出して，"
   ]
  },
  {
   "cell_type": "code",
   "execution_count": 8,
   "metadata": {},
   "outputs": [
    {
     "data": {
      "image/png": "[encoded data removed]",
      "text/latex": [
       "$$2 a x - b$$"
      ],
      "text/plain": [
       "2⋅a⋅x - b"
      ]
     },
     "execution_count": 8,
     "metadata": {},
     "output_type": "execute_result"
    }
   ],
   "source": [
    "diff(f,x)"
   ]
  },
  {
   "cell_type": "markdown",
   "metadata": {},
   "source": [
    "これをxについて解く．"
   ]
  },
  {
   "cell_type": "code",
   "execution_count": 9,
   "metadata": {},
   "outputs": [
    {
     "data": {
      "image/png": "[encoded data removed]",
      "text/latex": [
       "$$\\left [ \\frac{b}{2 a}\\right ]$$"
      ],
      "text/plain": [
       "⎡ b ⎤\n",
       "⎢───⎥\n",
       "⎣2⋅a⎦"
      ]
     },
     "execution_count": 9,
     "metadata": {},
     "output_type": "execute_result"
    }
   ],
   "source": [
    "solve(diff(f,x),x)"
   ]
  },
  {
   "cell_type": "code",
   "execution_count": 10,
   "metadata": {},
   "outputs": [
    {
     "ename": "AttributeError",
     "evalue": "'list' object has no attribute 'subs'",
     "output_type": "error",
     "traceback": [
      "\u001b[0;31m---------------------------------------------------------------------------\u001b[0m",
      "\u001b[0;31mAttributeError\u001b[0m                            Traceback (most recent call last)",
      "\u001b[0;32m<ipython-input-10-33528e910811>\u001b[0m in \u001b[0;36m<module>\u001b[0;34m()\u001b[0m\n\u001b[0;32m----> 1\u001b[0;31m \u001b[0msolve\u001b[0m\u001b[0;34m(\u001b[0m\u001b[0mdiff\u001b[0m\u001b[0;34m(\u001b[0m\u001b[0mf\u001b[0m\u001b[0;34m,\u001b[0m\u001b[0mx\u001b[0m\u001b[0;34m)\u001b[0m\u001b[0;34m,\u001b[0m\u001b[0mx\u001b[0m\u001b[0;34m)\u001b[0m\u001b[0;34m.\u001b[0m\u001b[0msubs\u001b[0m\u001b[0;34m(\u001b[0m\u001b[0;34m{\u001b[0m\u001b[0mb\u001b[0m\u001b[0;34m:\u001b[0m\u001b[0mbb\u001b[0m\u001b[0;34m}\u001b[0m\u001b[0;34m)\u001b[0m\u001b[0;34m\u001b[0m\u001b[0m\n\u001b[0m",
      "\u001b[0;31mAttributeError\u001b[0m: 'list' object has no attribute 'subs'"
     ]
    }
   ],
   "source": [
    "solve(diff(f,x),x).subs({b:bb})"
   ]
  },
  {
   "cell_type": "markdown",
   "metadata": {},
   "source": [
    "oops. このエラーはlistに対してはsubsは使えないとのこと．\n",
    "先に中身を取り出しておいて，代入．"
   ]
  },
  {
   "cell_type": "code",
   "execution_count": 11,
   "metadata": {},
   "outputs": [
    {
     "data": {
      "image/png": "[encoded data removed]",
      "text/latex": [
       "$$\\frac{- a + 2}{2 a}$$"
      ],
      "text/plain": [
       "-a + 2\n",
       "──────\n",
       " 2⋅a  "
      ]
     },
     "execution_count": 11,
     "metadata": {},
     "output_type": "execute_result"
    }
   ],
   "source": [
    "solve(diff(f,x),x)[0].subs({b:bb})"
   ]
  },
  {
   "cell_type": "markdown",
   "metadata": {},
   "source": [
    "これが頂点x0．これをfに代入してやる．ついでにb=bbも．．．"
   ]
  },
  {
   "cell_type": "code",
   "execution_count": 12,
   "metadata": {},
   "outputs": [
    {
     "ename": "NameError",
     "evalue": "name 'x0' is not defined",
     "output_type": "error",
     "traceback": [
      "\u001b[0;31m---------------------------------------------------------------------------\u001b[0m",
      "\u001b[0;31mNameError\u001b[0m                                 Traceback (most recent call last)",
      "\u001b[0;32m<ipython-input-12-0738cd0e61b9>\u001b[0m in \u001b[0;36m<module>\u001b[0;34m()\u001b[0m\n\u001b[0;32m----> 1\u001b[0;31m \u001b[0mf\u001b[0m\u001b[0;34m.\u001b[0m\u001b[0msubs\u001b[0m\u001b[0;34m(\u001b[0m\u001b[0;34m{\u001b[0m\u001b[0mx\u001b[0m\u001b[0;34m:\u001b[0m\u001b[0mx0\u001b[0m\u001b[0;34m,\u001b[0m\u001b[0mb\u001b[0m\u001b[0;34m:\u001b[0m\u001b[0mbb\u001b[0m\u001b[0;34m}\u001b[0m\u001b[0;34m)\u001b[0m\u001b[0;34m\u001b[0m\u001b[0m\n\u001b[0m",
      "\u001b[0;31mNameError\u001b[0m: name 'x0' is not defined"
     ]
    }
   ],
   "source": [
    "f.subs({x:x0,b:bb})"
   ]
  },
  {
   "cell_type": "markdown",
   "metadata": {},
   "source": [
    "せやった．x0に代入してない．"
   ]
  },
  {
   "cell_type": "code",
   "execution_count": 13,
   "metadata": {},
   "outputs": [
    {
     "data": {
      "image/png": "[encoded data removed]",
      "text/latex": [
       "$$- 2 a + 2 - \\frac{\\left(- a + 2\\right)^{2}}{4 a}$$"
      ],
      "text/plain": [
       "                   2\n",
       "           (-a + 2) \n",
       "-2⋅a + 2 - ─────────\n",
       "              4⋅a   "
      ]
     },
     "execution_count": 13,
     "metadata": {},
     "output_type": "execute_result"
    }
   ],
   "source": [
    "x0=solve(diff(f,x),x)[0].subs({b:bb})\n",
    "f.subs({x:x0,b:bb})"
   ]
  },
  {
   "cell_type": "markdown",
   "metadata": {},
   "source": [
    "こいつを簡単化simplifyすればOK."
   ]
  },
  {
   "cell_type": "code",
   "execution_count": 14,
   "metadata": {},
   "outputs": [
    {
     "data": {
      "image/png": "[encoded data removed]",
      "text/latex": [
       "$$- 2 a + 2 - \\frac{\\left(a - 2\\right)^{2}}{4 a}$$"
      ],
      "text/plain": [
       "                  2\n",
       "           (a - 2) \n",
       "-2⋅a + 2 - ────────\n",
       "             4⋅a   "
      ]
     },
     "execution_count": 14,
     "metadata": {},
     "output_type": "execute_result"
    }
   ],
   "source": [
    "simplify(f.subs({x:x0,b:bb}))"
   ]
  },
  {
   "cell_type": "markdown",
   "metadata": {},
   "source": [
    "あかん．ここは明示的に因数分解factorを指定する．"
   ]
  },
  {
   "cell_type": "code",
   "execution_count": 15,
   "metadata": {},
   "outputs": [
    {
     "data": {
      "image/png": "[encoded data removed]",
      "text/latex": [
       "$$- \\frac{\\left(3 a - 2\\right)^{2}}{4 a}$$"
      ],
      "text/plain": [
       "          2 \n",
       "-(3⋅a - 2)  \n",
       "────────────\n",
       "    4⋅a     "
      ]
     },
     "execution_count": 15,
     "metadata": {},
     "output_type": "execute_result"
    }
   ],
   "source": [
    "factor(f.subs({x:x0,b:bb}))"
   ]
  },
  {
   "cell_type": "markdown",
   "metadata": {},
   "source": [
    "でや？！　これをまとめて表示すると，"
   ]
  },
  {
   "cell_type": "code",
   "execution_count": 16,
   "metadata": {},
   "outputs": [
    {
     "name": "stdout",
     "output_type": "stream",
     "text": [
      "IPython console for SymPy 1.0 (Python 3.6.1-64-bit) (ground types: python)\n",
      "\n",
      "These commands were executed:\n",
      ">>> from __future__ import division\n",
      ">>> from sympy import *\n",
      ">>> x, y, z, t = symbols('x y z t')\n",
      ">>> k, m, n = symbols('k m n', integer=True)\n",
      ">>> f, g, h = symbols('f g h', cls=Function)\n",
      ">>> init_printing()\n",
      "\n",
      "Documentation can be found at http://docs.sympy.org/1.0/\n",
      "-a + 2\n",
      "-a + 2\n",
      "──────\n",
      " 2⋅a  \n"
     ]
    },
    {
     "data": {
      "image/png": "[encoded data removed]",
      "text/latex": [
       "$$- \\frac{\\left(3 a - 2\\right)^{2}}{4 a}$$"
      ],
      "text/plain": [
       "          2 \n",
       "-(3⋅a - 2)  \n",
       "────────────\n",
       "    4⋅a     "
      ]
     },
     "execution_count": 16,
     "metadata": {},
     "output_type": "execute_result"
    }
   ],
   "source": [
    "# kernel->Restart\n",
    "from sympy import *\n",
    "init_session()\n",
    "\n",
    "a,b,x = symbols('a b x')\n",
    "f = a*x**2-b*x-a+b   # 与えられた2次関数を$f(x)$で定義する\n",
    "y = f.subs({x:-2})\n",
    "eq1 = y-6\n",
    "bb = solve(eq1,b)[0]\n",
    "pprint(bb)\n",
    "\n",
    "x0=solve(diff(f,x),x)[0].subs({b:bb})\n",
    "pprint(x0)\n",
    "factor(f.subs({x:x0,b:bb}))"
   ]
  },
  {
   "cell_type": "markdown",
   "metadata": {},
   "source": [
    "あれれ．．．なんか途中が抜けとるで？？\n",
    "\n",
    "途中の重要な結果は変数に置き換えて明示pprintしておくのが鉄則１．\n",
    "それを意識して修正すると，"
   ]
  },
  {
   "cell_type": "code",
   "execution_count": 2,
   "metadata": {},
   "outputs": [
    {
     "name": "stdout",
     "output_type": "stream",
     "text": [
      "IPython console for SymPy 1.0 (Python 3.6.1-64-bit) (ground types: python)\n",
      "\n",
      "These commands were executed:\n",
      ">>> from __future__ import division\n",
      ">>> from sympy import *\n",
      ">>> x, y, z, t = symbols('x y z t')\n",
      ">>> k, m, n = symbols('k m n', integer=True)\n",
      ">>> f, g, h = symbols('f g h', cls=Function)\n",
      ">>> init_printing()\n",
      "\n",
      "Documentation can be found at http://docs.sympy.org/1.0/\n",
      "-a + 2\n",
      "-a + 2\n",
      "──────\n",
      " 2⋅a  \n",
      "          2 \n",
      "-(3⋅a - 2)  \n",
      "────────────\n",
      "    4⋅a     \n"
     ]
    }
   ],
   "source": [
    "# kernel->Restart\n",
    "from sympy import *\n",
    "init_session()\n",
    "\n",
    "a,b,x = symbols('a b x')\n",
    "f = a*x**2-b*x-a+b   # 与えられた2次関数を$f(x)$で定義する\n",
    "bb = solve(f.subs({x:-2})-6,b)[0]\n",
    "pprint(bb)\n",
    "\n",
    "x0=solve(diff(f,x),x)[0].subs({b:bb})\n",
    "pprint(x0)\n",
    "y0=factor(f.subs({x:x0,b:bb}))\n",
    "pprint(y0)"
   ]
  },
  {
   "cell_type": "markdown",
   "metadata": {},
   "source": [
    "## 課題"
   ]
  },
  {
   "cell_type": "markdown",
   "metadata": {},
   "source": [
    "### 課題1"
   ]
  },
  {
   "cell_type": "markdown",
   "metadata": {},
   "source": [
    "（例題1に続いて)\n",
    "\n",
    "さらに，2次関数(1)のグラフの頂点の$y$座標が-2であるとする．このとき，$a$は\n",
    "\\begin{equation*}\n",
    "\\fbox{ キ }\\,a^2-\\fbox{ クケ }\\,a+\\fbox{ コ } = 0\n",
    "\\end{equation*}\n",
    "を満たす．これより，$a$の値は\n",
    "\\begin{equation*}\n",
    "a = \\fbox{ サ }, \\frac{\\fbox{ シ }}{\\fbox{ ス }}\n",
    "\\end{equation*}\n",
    "である．\n",
    "以下，$a = \\frac{\\fbox{ シ }}{\\fbox{ ス }}$であるとする．\n",
    "\n",
    "このとき，2次関数(1)のグラフの頂点のx座標は$\\fbox{ セ }$であり，(1)のグラフと$x$軸の2交点の$x$座標は$\\fbox{ ソ },\\fbox{ タ }$である．\n",
    "\n",
    "また，関数(1)は$0 \\leqq x \\leqq 9$において\n",
    "\n",
    "$x = \\fbox{ チ }$のとき，最小値$\\fbox{ ツテ }$をとり，\n",
    "\n",
    "$x = \\fbox{ ト }$のとき，最大値$\\frac{\\fbox{ ナニ }}{\\fbox{ ヌ }}$をとる．\n",
    "\n",
    "\n",
    "(2008 年度大学入試センター試験数学 I より抜粋)."
   ]
  },
  {
   "cell_type": "markdown",
   "metadata": {},
   "source": [
    "#### 解答例"
   ]
  },
  {
   "cell_type": "code",
   "execution_count": 4,
   "metadata": {},
   "outputs": [
    {
     "name": "stdout",
     "output_type": "stream",
     "text": [
      "   2           \n",
      "9⋅a  - 20⋅a + 4\n",
      "[2/9, 2]\n",
      "2/9\n",
      "4\n",
      "[1, 7]\n"
     ]
    }
   ],
   "source": [
    "# 実践の解答例に続けて．．．\n",
    "eq2 = expand((y0 +2)*(-4*a)) # -4aをかけて，展開\n",
    "pprint(eq2)    # キクケコ\n",
    "s_a=solve(eq2,a)  # 方程式を解く\n",
    "pprint(s_a)    # サシス\n",
    "aa = min(s_a)  #二つの解の小さい方が題意，シス\n",
    "pprint(aa)\n",
    "\n",
    "pprint(x0.subs({a:aa})) # セ\n",
    "eq3 = f.subs({b:bb}).subs({a:aa}) # fに得られたa,bを代入\n",
    "pprint(solve(eq3,x))    # そいつを解いてx軸との交点を，ソタ"
   ]
  },
  {
   "cell_type": "code",
   "execution_count": 5,
   "metadata": {},
   "outputs": [
    {
     "data": {
      "image/png": "[encoded data removed]",
      "text/plain": [
       "<matplotlib.figure.Figure at 0x1132dfda0>"
      ]
     },
     "metadata": {},
     "output_type": "display_data"
    },
    {
     "data": {
      "text/plain": [
       "<sympy.plotting.plot.Plot at 0x110133f98>"
      ]
     },
     "execution_count": 5,
     "metadata": {},
     "output_type": "execute_result"
    }
   ],
   "source": [
    "%matplotlib inline\n",
    "plot(eq3, (x,0,9))  # 得られたeq3をplot"
   ]
  },
  {
   "cell_type": "code",
   "execution_count": 6,
   "metadata": {},
   "outputs": [
    {
     "name": "stdout",
     "output_type": "stream",
     "text": [
      "-2\n",
      "32/9\n"
     ]
    }
   ],
   "source": [
    "print(eq3.subs({x:4}))  # min at x=4\n",
    "print(eq3.subs({x:9}))  # 目視でmax at x=9"
   ]
  },
  {
   "cell_type": "markdown",
   "metadata": {},
   "source": [
    "### 課題2\n",
    "$P = x(x+3)(2x-3)$とする．\n",
    "また，$a$を定数とする．\n",
    "$x = a+1$のときの\n",
    "$P$の値は\n",
    "\\begin{equation*}\n",
    "2a^3+\\fbox{  ア  }a^2+\\fbox{  イ  }a-\\fbox{  ウ  }\n",
    "\\end{equation*}\n",
    "である．\n",
    "\n",
    "$x=a+1$のときの$P$の値と，$x=a$のときの$P$の値が等しいとする．このとき，$a$は\n",
    "\\begin{equation*}\n",
    "3a^2+\\fbox{ エ }a-\\fbox{ オ } = 0\n",
    "\\end{equation*}\n",
    "を満たす．したがって\n",
    "\\begin{equation*}\n",
    "a = \\frac{\\fbox{ カキ }\\pm \\sqrt{\\fbox{ クケ }}}{\\fbox{ コ }}\n",
    "\\end{equation*}\n",
    "である.\n",
    "\n",
    " (2008 年度大学入試センター試験数学 I 第4問より抜粋)"
   ]
  },
  {
   "cell_type": "markdown",
   "metadata": {},
   "source": [
    "#### 解答例 "
   ]
  },
  {
   "cell_type": "code",
   "execution_count": 21,
   "metadata": {
    "scrolled": true
   },
   "outputs": [
    {
     "name": "stdout",
     "output_type": "stream",
     "text": [
      "   3      2          \n",
      "2⋅a  + 9⋅a  + 3⋅a - 4\n",
      "   2          \n",
      "3⋅a  + 6⋅a - 2\n"
     ]
    },
    {
     "data": {
      "image/png": "[encoded data removed]",
      "text/latex": [
       "$$\\left [ -1 + \\frac{\\sqrt{15}}{3}, \\quad - \\frac{\\sqrt{15}}{3} - 1\\right ]$$"
      ],
      "text/plain": [
       "⎡     √15    √15    ⎤\n",
       "⎢-1 + ───, - ─── - 1⎥\n",
       "⎣      3      3     ⎦"
      ]
     },
     "execution_count": 21,
     "metadata": {},
     "output_type": "execute_result"
    }
   ],
   "source": [
    "from sympy import *\n",
    "a,b,x = symbols('a b x')\n",
    "P = x*(x+3)*(2*x-3)   # $P$を$x$の関数として定義\n",
    "\n",
    "pprint(expand(P.subs({x:a+1}))) # $$P(a)$を形式的に出してみる．\n",
    "eq1 = expand(P.subs({x:a+1}) - P.subs({x:a})) #2式を差し引く\n",
    "pprint(eq1/2)         # 出題にそろえるため2で割っている．\n",
    "solve(eq1,a)          # eq1=0をaについて解く(solve)"
   ]
  },
  {
   "cell_type": "markdown",
   "metadata": {},
   "source": [
    "# 追記(ちょっとしたコツ)"
   ]
  },
  {
   "cell_type": "markdown",
   "metadata": {},
   "source": [
    "## 式フォローのデフォルト \n"
   ]
  },
  {
   "cell_type": "markdown",
   "metadata": {},
   "source": [
    "数式処理ソフトで実際に数式をいじる状況というのは，ほとんどの場合が既知の数式変形のフォローだろう．例えば，論文で「(1)式から(2)式への変形は自明である」とかいう\n",
    "文章で済ましている変形が本当にあっているのかを確かめたい時．一番単純なやり方は自明と言われた前後の式が一致していることを確かめるだけで十分である．\n",
    "最も単純な確認法は以下の通り，変形の前後の式を手入力してその差をexpandした結果が0か否かでする．\n"
   ]
  },
  {
   "cell_type": "code",
   "execution_count": 19,
   "metadata": {},
   "outputs": [
    {
     "data": {
      "image/png": "[encoded data removed]",
      "text/latex": [
       "$$0$$"
      ],
      "text/plain": [
       "0"
      ]
     },
     "execution_count": 19,
     "metadata": {},
     "output_type": "execute_result"
    }
   ],
   "source": [
    "from sympy import *\n",
    "x = symbols('x')\n",
    "\n",
    "ex1=(x-3)**4\n",
    "ex2 = x**4-12*x**3+54*x**2-108*x+81\n",
    "\n",
    "expand(ex1-ex2)"
   ]
  },
  {
   "cell_type": "markdown",
   "metadata": {},
   "source": [
    "0ならば式の変形は保証されているので，その導出が間違いでなく誤植などもないことが確認できる．ただ，これだけでは変形の哲学や技法が身に付くわけではない．あくまでも\n",
    "苦し紛れのデフォルトであることは心に留めておくように．\n",
    "論理値(True or False)として確かめたいときには，==0で出てくる．"
   ]
  },
  {
   "cell_type": "markdown",
   "metadata": {},
   "source": [
    "## assumeの具体例：無限積分 "
   ]
  },
  {
   "cell_type": "markdown",
   "metadata": {},
   "source": [
    "以下に示す積分を実行せよ．\n",
    "\n",
    "$$\n",
    "\\int _{-\\infty }^{\\infty }x \\exp(-\\beta c\\,{x}^{2}) \\left( 1+\\beta g\\,{x}^{3} \\right) {dx}\n",
    "$$\n",
    "最新版のMapleでは改良が施されていて，このような複雑な積分も一発で求まる．\n",
    "\n",
    "```maple\n",
    "> int(f1(x),x=-infinity..infinity);\n",
    "```\n",
    "$$\n",
    "\\left\\{\\, \\begin {array}{cc} { \\frac{3}{4}\\,\\frac {g \\sqrt{\\pi }}{\\beta\\,{c}^{2} \\sqrt{c\\beta}}}&csgn \\left( c\\beta \\right) =1\\\\  \\infty&otherwise\\end {array} \\right.\n",
    "$$\n",
    "ここでは，$c \\beta$が正の場合(csgn(beta c)=1)とそれ以外の場合(otherwise)に分けて答えを返している．しかしこのような意図したきれいな結果をいつも数式処理ソフトが返してくれるとは限らない．これだけしか知らないと，なにかうまくいかないときにお手上げになってしまう．"
   ]
  },
  {
   "cell_type": "code",
   "execution_count": 1,
   "metadata": {},
   "outputs": [
    {
     "name": "stdout",
     "output_type": "stream",
     "text": [
      "                      2\n",
      "  ⎛     3    ⎞  -β⋅c⋅x \n",
      "x⋅⎝β⋅g⋅x  + 1⎠⋅ℯ       \n",
      "⎧                3⋅√π⋅g                                                       \n",
      "⎪─────────────────────────────────────  for │periodic_argument(polar_lift(β)⋅p\n",
      "⎪              3/2              3/2                                           \n",
      "⎪4⋅c⋅polar_lift   (β)⋅polar_lift   (c)                                        \n",
      "⎪                                                                             \n",
      "⎪    ∞                                                                        \n",
      "⎨    ⌠                                                                        \n",
      "⎪    ⎮                        2                                               \n",
      "⎪    ⎮    ⎛     3    ⎞  -β⋅c⋅x                                                \n",
      "⎪    ⎮  x⋅⎝β⋅g⋅x  + 1⎠⋅ℯ        dx                               otherwise    \n",
      "⎪    ⌡                                                                        \n",
      "⎪    -∞                                                                       \n",
      "⎩                                                                             \n",
      "\n",
      "                    π\n",
      "olar_lift(c), ∞)│ < ─\n",
      "                    2\n",
      "                     \n",
      "                     \n",
      "                     \n",
      "                     \n",
      "                     \n",
      "                     \n",
      "                     \n",
      "                     \n",
      "                     \n",
      "                     \n"
     ]
    }
   ],
   "source": [
    "from sympy import *\n",
    "init_printing()\n",
    "\n",
    "\n",
    "x,beta,c,g = symbols('x beta c g')\n",
    "f1 = x*exp(-beta*c*x**2)*(1+beta*g*x**3)\n",
    "\n",
    "pprint(f1)\n",
    "pprint(integrate(f1,(x,-oo,oo)))"
   ]
  },
  {
   "cell_type": "markdown",
   "metadata": {},
   "source": [
    "この辺りの記述をやり直したけど，\n",
    "assumeのためにassumpitons moduleを使ってやったんだけど，\n",
    "どうもうまくいかない．\n",
    "``` python\n",
    "assumes = Q.positive(beta), Q.positive(c)\n",
    "with assuming(*assumes):\n",
    "    print ask(beta*c, positive)\n",
    "```\n",
    "とかは通るけど，integrateの結果は変わらない．\n",
    "結局，symbols('x',positive = True)とかで初めに指定するとすっと通る．\n",
    "\n"
   ]
  },
  {
   "cell_type": "code",
   "execution_count": null,
   "metadata": {
    "collapsed": true
   },
   "outputs": [],
   "source": []
  }
 ],
 "metadata": {
  "kernelspec": {
   "display_name": "Python 3",
   "language": "python",
   "name": "python3"
  },
  "language_info": {
   "codemirror_mode": {
    "name": "ipython",
    "version": 3
   },
   "file_extension": ".py",
   "mimetype": "text/x-python",
   "name": "python",
   "nbconvert_exporter": "python",
   "pygments_lexer": "ipython3",
   "version": "3.6.1"
  },
  "latex_envs": {
   "LaTeX_envs_menu_present": true,
   "autocomplete": true,
   "bibliofile": "biblio.bib",
   "cite_by": "apalike",
   "current_citInitial": 1,
   "eqLabelWithNumbers": true,
   "eqNumInitial": 1,
   "hotkeys": {
    "equation": "Ctrl-E",
    "itemize": "Ctrl-I"
   },
   "labels_anchors": false,
   "latex_user_defs": false,
   "report_style_numbering": false,
   "user_envs_cfg": false
  },
  "toc": {
   "colors": {
    "hover_highlight": "#DAA520",
    "navigate_num": "#000000",
    "navigate_text": "#333333",
    "running_highlight": "#FF0000",
    "selected_highlight": "#FFD700",
    "sidebar_border": "#EEEEEE",
    "wrapper_background": "#FFFFFF"
   },
   "moveMenuLeft": true,
   "nav_menu": {
    "height": "12px",
    "width": "252px"
   },
   "navigate_menu": true,
   "number_sections": true,
   "sideBar": true,
   "threshold": 4,
   "toc_cell": true,
   "toc_position": {
    "height": "581px",
    "left": "0px",
    "right": "844.184814453125px",
    "top": "105px",
    "width": "323px"
   },
   "toc_section_display": "block",
   "toc_window_display": false,
   "widenNotebook": false
  }
 },
 "nbformat": 4,
 "nbformat_minor": 2
}
