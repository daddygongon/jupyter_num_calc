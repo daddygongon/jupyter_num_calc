{
 "cells": [
  {
   "cell_type": "markdown",
   "metadata": {
    "toc": "true"
   },
   "source": [
    "<h1>Table of Contents<span class=\"tocSkip\"></span></h1>\n",
    "<div class=\"toc\"><ul class=\"toc-item\"><li><span><a href=\"#問1:-$2^x$のplot\" data-toc-modified-id=\"問1:-$2^x$のplot-1\"><span class=\"toc-item-num\">1&nbsp;&nbsp;</span>問1: $2^x$のplot</a></span></li><li><span><a href=\"#問2:-平均変化率\" data-toc-modified-id=\"問2:-平均変化率-2\"><span class=\"toc-item-num\">2&nbsp;&nbsp;</span>問2: 平均変化率</a></span></li><li><span><a href=\"#問3:-接線\" data-toc-modified-id=\"問3:-接線-3\"><span class=\"toc-item-num\">3&nbsp;&nbsp;</span>問3: 接線</a></span></li><li><span><a href=\"#問4:-関数とその一次導関数の同時プロット\" data-toc-modified-id=\"問4:-関数とその一次導関数の同時プロット-4\"><span class=\"toc-item-num\">4&nbsp;&nbsp;</span>問4: 関数とその一次導関数の同時プロット</a></span></li><li><span><a href=\"#問5:-一次導関数が恒等的にほぼ一致する$b$\" data-toc-modified-id=\"問5:-一次導関数が恒等的にほぼ一致する$b$-5\"><span class=\"toc-item-num\">5&nbsp;&nbsp;</span>問5: 一次導関数が恒等的にほぼ一致する$b$</a></span></li><li><span><a href=\"#問6:-ネイピア数のオイラーによる定義\" data-toc-modified-id=\"問6:-ネイピア数のオイラーによる定義-6\"><span class=\"toc-item-num\">6&nbsp;&nbsp;</span>問6: ネイピア数のオイラーによる定義</a></span></li><li><span><a href=\"#問7:-おまけ(時間が余ったらやってください)\" data-toc-modified-id=\"問7:-おまけ(時間が余ったらやってください)-7\"><span class=\"toc-item-num\">7&nbsp;&nbsp;</span>問7: おまけ(時間が余ったらやってください)</a></span></li></ul></div>"
   ]
  },
  {
   "cell_type": "markdown",
   "metadata": {},
   "source": [
    "<br />\n",
    "\n",
    "<div style=\"text-align: center;\">\n",
    "<font size=\"5\">数式処理group work-2(関数と微分)</font>\n",
    "</div>\n",
    "<br />\n",
    "<div style=\"text-align: right;\">\n",
    "<font size=\"4\">file:/~/python/doing_math_with_python/symbolic_math/group_works/group_work_2_ans.ipynb</font>\n",
    "<br />\n",
    "<font size=\"4\">cc by Shigeto R. Nishitani 2009-2018  </font>\n",
    "</div> \n",
    "\n"
   ]
  },
  {
   "cell_type": "markdown",
   "metadata": {},
   "source": [
    "対数関数の狙いが先週の課題で明らかになったでしょうか．\n",
    "主な応用分野は制御系の計算で，その昔は大砲の着弾距離を計算するのが主な仕事でした．\n",
    "では，対数・指数でexpってのがありますが，\n",
    "なんであんな中途半端な数を使わにゃいかんニャロって思ったことないですか．\n",
    "それを導いてもらおうというのが今日の狙いです．\n",
    "\n",
    "# 問1: $2^x$のplot\n",
    "指数関数\n",
    "$$\n",
    "f(x; b=2) = b^x\n",
    "$$\n",
    "について考える．\n",
    "$f(x; b=2)$の表記は，$b$が助変数で，そのデフォルト値が2であることを意図している．\n",
    "1. 次の表を埋めよ．また，\n",
    "2. 関数$f(x; 2)$をプロットして確認せよ．\n",
    "\n",
    "| x   | -1 | 0 | 1 | 2 | 3 |\n",
    "| ---|---|---|---|---|---|\n",
    "| f(x; 2)|"
   ]
  },
  {
   "cell_type": "markdown",
   "metadata": {},
   "source": [
    "# 問2: 平均変化率\n",
    "問1.の指数関数に対して，平均変化率\n",
    "$$\n",
    "m0(x; h) = \\frac{f(x+h)-f(x)}{x+h-x}\n",
    "$$\n",
    "を求める式を考える．\n",
    "\n",
    "1. x=0..2およびx=0..1の傾きを求めよ．\n",
    "2. それらの点の間を結ぶ直線の方程式を求めよ．\n",
    "3. また，元の関数と同時にプロットせよ．\n"
   ]
  },
  {
   "cell_type": "markdown",
   "metadata": {},
   "source": [
    "# 問3: 接線\n",
    "1. 問1.の関数に対して，x=0における接線の傾きを微分により求めよ．また問2.でx=0..0.1に対して求めた値と小数点以下5桁で比べよ．\n",
    "   1. なお浮動小数点数での表示は，`print(\"%10.5f\" % log(2))`が便利．\n",
    "1. 問1.の関数に対して，x=0における接線の方程式を求め，同時にプロットせよ．\n",
    "2. 問2.で作成したプロットをx=0..0.1に対して行い,1.で作成した関数と同時プロットして比較せよ．"
   ]
  },
  {
   "cell_type": "markdown",
   "metadata": {},
   "source": [
    "\n",
    "問3，4，5の解答例では問1,2の解答例と違って，テキストの表記に従っているので注意せよ．"
   ]
  },
  {
   "cell_type": "markdown",
   "metadata": {},
   "source": [
    "# 問4: 関数とその一次導関数の同時プロット\n",
    "問1.の関数とその一次導関数を同時にプロットすると次のようになる．一次導関数の意味を言葉で述べよ．"
   ]
  },
  {
   "cell_type": "code",
   "execution_count": 6,
   "metadata": {},
   "outputs": [
    {
     "name": "stdout",
     "output_type": "stream",
     "text": [
      "2**x\n"
     ]
    },
    {
     "data": {
      "image/png": "[encoded data removed]",
      "text/plain": [
       "<Figure size 432x288 with 1 Axes>"
      ]
     },
     "metadata": {
      "needs_background": "light"
     },
     "output_type": "display_data"
    }
   ],
   "source": [
    "%matplotlib inline\n",
    "from sympy.plotting import plot\n",
    "from sympy import *\n",
    "\n",
    "x = symbols('x')\n",
    "\n",
    "f0 = 2**x\n",
    "print(f0)\n",
    "f1 = diff(f0,x)\n",
    "p = plot(f0,f1,\n",
    "         (x, -1,3), ylim=[0,8],\n",
    "         show=False)\n",
    "p[0].line_color = 'b'\n",
    "p[1].line_color = 'r'\n",
    "p.show()"
   ]
  },
  {
   "cell_type": "markdown",
   "metadata": {},
   "source": [
    "# 問5: 一次導関数が恒等的にほぼ一致する$b$\n",
    "関数\n",
    "$$\n",
    "f(x) = b^x, \\, \\textrm{where} \\,2 < b < 3\n",
    "$$\n",
    "とその一次導関数が恒等的にほぼ一致する$b$を上のグラフの指数関数の底’2’を色々変えて小数点以下1桁で求めよ．"
   ]
  },
  {
   "cell_type": "markdown",
   "metadata": {},
   "source": [
    "# 問6: ネイピア数のオイラーによる定義\n",
    "問5で求めた数は自然対数の底e(ネイピア数)のオイラーによる定義である．\n",
    "1. ネイピア数の定義を，この導出にしたがって，言葉で述べよ．\n",
    "2. $f(x; b)=b^x$を問2.の平均変化率の定義に代入し変形することによって，\n",
    "$$\n",
    "m2(h; b) = \\frac{b^h-1}{h}\n",
    "$$\n",
    "としたときに，$b$がネイピア数であるならば$m2(h; b)$が$h \\rightarrow 0$で取るべき値はなんであるか．\n",
    "3. また，\n",
    "\n",
    "> plot(m2(h, 2),m2(h, exp(1)),m2(h, 3),(h, -1, 3))\n",
    "\n",
    "で結果を確かめよ． "
   ]
  },
  {
   "cell_type": "markdown",
   "metadata": {},
   "source": [
    "この$m1(x; h, b)$には少し注意が必要．\n",
    "$m1(x, h; b)$として扱った方がいいかも．\n",
    "なぜならば，平均変化率を取るときには，\n",
    "$h$を助変数としていたが，最後のplotでは\n",
    "独立変数として導いている．"
   ]
  },
  {
   "cell_type": "markdown",
   "metadata": {},
   "source": [
    "# 問7: おまけ(時間が余ったらやってください)\n",
    "関数\n",
    "$$\n",
    "f_1(x) = \\frac{x}{x^2-2x+4}\n",
    "$$\n",
    "を考える．\n",
    "1. $f_1(x)$を積分した関数$f_0(x)$を求めよ．\n",
    "2. 関数$f_1(x)$の１次導関数$f_2(x)$を求め，３つの関数を同時にプロットせよ．\n",
    "3. この$f_0$関数の極小値，変曲点の$x$座標をグラフから求めよ．\n",
    "4. この$f_0$関数の増減表を作れ．"
   ]
  }
 ],
 "metadata": {
  "kernelspec": {
   "display_name": "Python 3",
   "language": "python",
   "name": "python3"
  },
  "language_info": {
   "codemirror_mode": {
    "name": "ipython",
    "version": 3
   },
   "file_extension": ".py",
   "mimetype": "text/x-python",
   "name": "python",
   "nbconvert_exporter": "python",
   "pygments_lexer": "ipython3",
   "version": "3.8.3"
  },
  "latex_envs": {
   "LaTeX_envs_menu_present": true,
   "autocomplete": false,
   "bibliofile": "biblio.bib",
   "cite_by": "apalike",
   "current_citInitial": 1,
   "eqLabelWithNumbers": true,
   "eqNumInitial": 1,
   "hotkeys": {
    "equation": "Ctrl-E",
    "itemize": "Ctrl-I"
   },
   "labels_anchors": false,
   "latex_user_defs": false,
   "report_style_numbering": false,
   "user_envs_cfg": false
  },
  "toc": {
   "base_numbering": 1,
   "nav_menu": {
    "height": "13px",
    "width": "253px"
   },
   "number_sections": true,
   "sideBar": true,
   "skip_h1_title": false,
   "title_cell": "Table of Contents",
   "title_sidebar": "Contents",
   "toc_cell": true,
   "toc_position": {},
   "toc_section_display": "block",
   "toc_window_display": true
  }
 },
 "nbformat": 4,
 "nbformat_minor": 2
}
