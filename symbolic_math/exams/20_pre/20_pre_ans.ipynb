{
 "cells": [
  {
   "cell_type": "markdown",
   "metadata": {
    "toc": "true"
   },
   "source": [
    "<h1>Table of Contents<span class=\"tocSkip\"></span></h1>\n",
    "<div class=\"toc\"><ul class=\"toc-item\"><li><span><a href=\"#線形代数\" data-toc-modified-id=\"線形代数-1\"><span class=\"toc-item-num\">1&nbsp;&nbsp;</span>線形代数</a></span><ul class=\"toc-item\"><li><span><a href=\"#基底，次元，成分(15点)\" data-toc-modified-id=\"基底，次元，成分(15点)-1.1\"><span class=\"toc-item-num\">1.1&nbsp;&nbsp;</span>基底，次元，成分(15点)</a></span></li><li><span><a href=\"#Ker,-Im(15点)\" data-toc-modified-id=\"Ker,-Im(15点)-1.2\"><span class=\"toc-item-num\">1.2&nbsp;&nbsp;</span>Ker, Im(15点)</a></span></li></ul></li><li><span><a href=\"#微積分\" data-toc-modified-id=\"微積分-2\"><span class=\"toc-item-num\">2&nbsp;&nbsp;</span>微積分</a></span><ul class=\"toc-item\"><li><span><a href=\"#正規分布の概形(15点)\" data-toc-modified-id=\"正規分布の概形(15点)-2.1\"><span class=\"toc-item-num\">2.1&nbsp;&nbsp;</span>正規分布の概形(15点)</a></span></li><li><span><a href=\"#積分(15点)\" data-toc-modified-id=\"積分(15点)-2.2\"><span class=\"toc-item-num\">2.2&nbsp;&nbsp;</span>積分(15点)</a></span></li></ul></li><li><span><a href=\"#センター試験原題(10点)\" data-toc-modified-id=\"センター試験原題(10点)-3\"><span class=\"toc-item-num\">3&nbsp;&nbsp;</span>センター試験原題(10点)</a></span><ul class=\"toc-item\"><li><span><a href=\"#2\" data-toc-modified-id=\"2-3.1\"><span class=\"toc-item-num\">3.1&nbsp;&nbsp;</span>2</a></span></li></ul></li><li><span><a href=\"#数値改変(30点)\" data-toc-modified-id=\"数値改変(30点)-4\"><span class=\"toc-item-num\">4&nbsp;&nbsp;</span>数値改変(30点)</a></span></li></ul></div>"
   ]
  },
  {
   "cell_type": "markdown",
   "metadata": {},
   "source": [
    "<div style=\"text-align: center;\">\n",
    "   <font size=\"5\"> 2020年度　数式処理演習　pre試験問題 </font>\n",
    "</div>\n",
    "   <div style=\"text-align: right;\">\n",
    "   <font size=\"3\"> cc by Shigeto R. Nishitani, 2020/11/19 実施 </font>\n",
    "</div>\n",
    "\n",
    "* file: ~/symboic_math/exams/20_pre_ans.ipynb\n",
    "\n",
    "# 線形代数\n",
    "## 基底，次元，成分(15点)\n",
    "$\\boldsymbol{R}^3$において\n",
    "$a_1=(2,-1,0)$,\n",
    "$a_2=(1,0,1)$,\n",
    "$a_3=(1,2,-2)$は基底をなす．\n",
    "$a=(-4,-2,1)$の基底\n",
    "${\\cal{B}}=\\{a_1,a_2,a_3\\}$に関する成分を求めよ．\n"
   ]
  },
  {
   "cell_type": "code",
   "execution_count": 1,
   "metadata": {},
   "outputs": [
    {
     "name": "stdout",
     "output_type": "stream",
     "text": [
      "IPython console for SymPy 1.6.1 (Python 3.8.3-64-bit) (ground types: gmpy)\n",
      "\n",
      "These commands were executed:\n",
      ">>> from __future__ import division\n",
      ">>> from sympy import *\n",
      ">>> x, y, z, t = symbols('x y z t')\n",
      ">>> k, m, n = symbols('k m n', integer=True)\n",
      ">>> f, g, h = symbols('f g h', cls=Function)\n",
      ">>> init_printing()\n",
      "\n",
      "Documentation can be found at https://docs.sympy.org/1.6.1/\n",
      "\n"
     ]
    },
    {
     "data": {
      "image/png": "[encoded data removed]",
      "text/latex": [
       "$\\displaystyle \\left[\\begin{matrix}2 & 1 & 1 & -4\\\\-1 & 0 & 2 & -2\\\\0 & 1 & -2 & 1\\end{matrix}\\right]$"
      ],
      "text/plain": [
       "⎡2   1  1   -4⎤\n",
       "⎢             ⎥\n",
       "⎢-1  0  2   -2⎥\n",
       "⎢             ⎥\n",
       "⎣0   1  -2  1 ⎦"
      ]
     },
     "execution_count": 1,
     "metadata": {},
     "output_type": "execute_result"
    }
   ],
   "source": [
    "from sympy import *\n",
    "init_session()\n",
    "\n",
    "A=Matrix([[2,1,1,-4],[-1,0,2,-2],[0,1,-2,1]])\n",
    "A"
   ]
  },
  {
   "cell_type": "code",
   "execution_count": 2,
   "metadata": {},
   "outputs": [
    {
     "data": {
      "image/png": "[encoded data removed]",
      "text/latex": [
       "$\\displaystyle \\left( \\left[\\begin{matrix}1 & 0 & 0 & - \\frac{4}{7}\\\\0 & 1 & 0 & - \\frac{11}{7}\\\\0 & 0 & 1 & - \\frac{9}{7}\\end{matrix}\\right], \\  \\left( 0, \\  1, \\  2\\right)\\right)$"
      ],
      "text/plain": [
       "⎛⎡1  0  0  -4/7 ⎤           ⎞\n",
       "⎜⎢              ⎥           ⎟\n",
       "⎜⎢0  1  0  -11/7⎥, (0, 1, 2)⎟\n",
       "⎜⎢              ⎥           ⎟\n",
       "⎝⎣0  0  1  -9/7 ⎦           ⎠"
      ]
     },
     "execution_count": 2,
     "metadata": {},
     "output_type": "execute_result"
    }
   ],
   "source": [
    "A.rref()"
   ]
  },
  {
   "cell_type": "markdown",
   "metadata": {},
   "source": [
    "## Ker, Im(15点)\n",
    "$A=\\left(\n",
    "\\begin{array}{@{\\,}cccc@{\\,}}\n",
    "1 & 0 & -1 & -2\\\\\n",
    "-2 & 1 & 3 & 5\\\\\n",
    "1 & 1 & 0 & -1\n",
    "\\end{array}\n",
    "\\right)$\n",
    "とする．$R^4$から$R^3$への線形写像$f$を\n",
    "$f(x)=Ax$で\n",
    "与えるとき，$f$のIm$f$およびKer$f$の次元と1組の基底を求めよ．"
   ]
  },
  {
   "cell_type": "code",
   "execution_count": 3,
   "metadata": {},
   "outputs": [
    {
     "name": "stdout",
     "output_type": "stream",
     "text": [
      "IPython console for SymPy 1.6.1 (Python 3.8.3-64-bit) (ground types: gmpy)\n",
      "\n",
      "These commands were executed:\n",
      ">>> from __future__ import division\n",
      ">>> from sympy import *\n",
      ">>> x, y, z, t = symbols('x y z t')\n",
      ">>> k, m, n = symbols('k m n', integer=True)\n",
      ">>> f, g, h = symbols('f g h', cls=Function)\n",
      ">>> init_printing()\n",
      "\n",
      "Documentation can be found at https://docs.sympy.org/1.6.1/\n",
      "\n"
     ]
    },
    {
     "data": {
      "image/png": "[encoded data removed]",
      "text/latex": [
       "$\\displaystyle \\left[\\begin{matrix}1 & 0 & -1 & -2\\\\-2 & 1 & 3 & 5\\\\1 & 1 & 0 & -1\\end{matrix}\\right]$"
      ],
      "text/plain": [
       "⎡1   0  -1  -2⎤\n",
       "⎢             ⎥\n",
       "⎢-2  1  3   5 ⎥\n",
       "⎢             ⎥\n",
       "⎣1   1  0   -1⎦"
      ]
     },
     "execution_count": 3,
     "metadata": {},
     "output_type": "execute_result"
    }
   ],
   "source": [
    "from sympy import *\n",
    "init_session()\n",
    "A=Matrix([[1,0,-1,-2],[-2,1,3,5],[1,1,0,-1]])\n",
    "A"
   ]
  },
  {
   "cell_type": "code",
   "execution_count": 4,
   "metadata": {},
   "outputs": [
    {
     "data": {
      "image/png": "[encoded data removed]",
      "text/latex": [
       "$\\displaystyle \\left( \\left[\\begin{matrix}1 & 0 & -1 & -2\\\\0 & 1 & 1 & 1\\\\0 & 0 & 0 & 0\\end{matrix}\\right], \\  \\left( 0, \\  1\\right)\\right)$"
      ],
      "text/plain": [
       "⎛⎡1  0  -1  -2⎤        ⎞\n",
       "⎜⎢            ⎥        ⎟\n",
       "⎜⎢0  1  1   1 ⎥, (0, 1)⎟\n",
       "⎜⎢            ⎥        ⎟\n",
       "⎝⎣0  0  0   0 ⎦        ⎠"
      ]
     },
     "execution_count": 4,
     "metadata": {},
     "output_type": "execute_result"
    }
   ],
   "source": [
    "A.rref()"
   ]
  },
  {
   "cell_type": "code",
   "execution_count": 5,
   "metadata": {},
   "outputs": [
    {
     "data": {
      "image/png": "[encoded data removed]",
      "text/latex": [
       "$\\displaystyle \\left[ \\left[\\begin{matrix}1\\\\-1\\\\1\\\\0\\end{matrix}\\right], \\  \\left[\\begin{matrix}2\\\\-1\\\\0\\\\1\\end{matrix}\\right]\\right]$"
      ],
      "text/plain": [
       "⎡⎡1 ⎤  ⎡2 ⎤⎤\n",
       "⎢⎢  ⎥  ⎢  ⎥⎥\n",
       "⎢⎢-1⎥  ⎢-1⎥⎥\n",
       "⎢⎢  ⎥, ⎢  ⎥⎥\n",
       "⎢⎢1 ⎥  ⎢0 ⎥⎥\n",
       "⎢⎢  ⎥  ⎢  ⎥⎥\n",
       "⎣⎣0 ⎦  ⎣1 ⎦⎦"
      ]
     },
     "execution_count": 5,
     "metadata": {},
     "output_type": "execute_result"
    }
   ],
   "source": [
    "A.nullspace()"
   ]
  },
  {
   "cell_type": "markdown",
   "metadata": {},
   "source": [
    "# 微積分\n",
    "## 正規分布の概形(15点)\n",
    "関数\n",
    "    \\begin{equation*}\n",
    "      f(x) = e^{-x^2}\n",
    "    \\end{equation*}\n",
    "    の増減，極値，凹凸を調べ，曲線$y=f(x)$の概形を描け．"
   ]
  },
  {
   "cell_type": "code",
   "execution_count": 6,
   "metadata": {},
   "outputs": [
    {
     "name": "stdout",
     "output_type": "stream",
     "text": [
      "IPython console for SymPy 1.6.1 (Python 3.8.3-64-bit) (ground types: gmpy)\n",
      "\n",
      "These commands were executed:\n",
      ">>> from __future__ import division\n",
      ">>> from sympy import *\n",
      ">>> x, y, z, t = symbols('x y z t')\n",
      ">>> k, m, n = symbols('k m n', integer=True)\n",
      ">>> f, g, h = symbols('f g h', cls=Function)\n",
      ">>> init_printing()\n",
      "\n",
      "Documentation can be found at https://docs.sympy.org/1.6.1/\n",
      "\n"
     ]
    },
    {
     "data": {
      "image/png": "[encoded data removed]",
      "text/latex": [
       "$\\displaystyle e^{- x^{2}}$"
      ],
      "text/plain": [
       "   2\n",
       " -x \n",
       "ℯ   "
      ]
     },
     "execution_count": 6,
     "metadata": {},
     "output_type": "execute_result"
    }
   ],
   "source": [
    "from sympy import *\n",
    "init_session()\n",
    "\n",
    "f = exp(-x**2)\n",
    "f"
   ]
  },
  {
   "cell_type": "code",
   "execution_count": 7,
   "metadata": {},
   "outputs": [
    {
     "data": {
      "image/png": "[encoded data removed]",
      "text/latex": [
       "$\\displaystyle - 2 x e^{- x^{2}}$"
      ],
      "text/plain": [
       "        2\n",
       "      -x \n",
       "-2⋅x⋅ℯ   "
      ]
     },
     "execution_count": 7,
     "metadata": {},
     "output_type": "execute_result"
    }
   ],
   "source": [
    "df = f.diff(x)\n",
    "df"
   ]
  },
  {
   "cell_type": "code",
   "execution_count": 8,
   "metadata": {},
   "outputs": [
    {
     "data": {
      "image/png": "[encoded data removed]",
      "text/latex": [
       "$\\displaystyle 2 \\left(2 x^{2} - 1\\right) e^{- x^{2}}$"
      ],
      "text/plain": [
       "                2\n",
       "  ⎛   2    ⎞  -x \n",
       "2⋅⎝2⋅x  - 1⎠⋅ℯ   "
      ]
     },
     "execution_count": 8,
     "metadata": {},
     "output_type": "execute_result"
    }
   ],
   "source": [
    "df2 = f.diff(x,x)\n",
    "df2"
   ]
  },
  {
   "cell_type": "code",
   "execution_count": 9,
   "metadata": {},
   "outputs": [
    {
     "data": {
      "image/png": "[encoded data removed]",
      "text/plain": [
       "<Figure size 432x288 with 1 Axes>"
      ]
     },
     "metadata": {
      "needs_background": "light"
     },
     "output_type": "display_data"
    },
    {
     "data": {
      "text/plain": [
       "<sympy.plotting.plot.Plot at 0x7fde72ef2040>"
      ]
     },
     "execution_count": 9,
     "metadata": {},
     "output_type": "execute_result"
    }
   ],
   "source": [
    "%matplotlib inline\n",
    "\n",
    "plot(f,df,df2,(x,-5,5))"
   ]
  },
  {
   "cell_type": "code",
   "execution_count": 10,
   "metadata": {},
   "outputs": [
    {
     "data": {
      "image/png": "[encoded data removed]",
      "text/latex": [
       "$\\displaystyle \\left[ 0\\right]$"
      ],
      "text/plain": [
       "[0]"
      ]
     },
     "execution_count": 10,
     "metadata": {},
     "output_type": "execute_result"
    }
   ],
   "source": [
    "solve(df,x)"
   ]
  },
  {
   "cell_type": "code",
   "execution_count": 11,
   "metadata": {
    "scrolled": true
   },
   "outputs": [
    {
     "data": {
      "image/png": "[encoded data removed]",
      "text/latex": [
       "$\\displaystyle \\left[ - \\frac{\\sqrt{2}}{2}, \\  \\frac{\\sqrt{2}}{2}\\right]$"
      ],
      "text/plain": [
       "⎡-√2   √2⎤\n",
       "⎢────, ──⎥\n",
       "⎣ 2    2 ⎦"
      ]
     },
     "execution_count": 11,
     "metadata": {},
     "output_type": "execute_result"
    }
   ],
   "source": [
    "solve(df2,x)"
   ]
  },
  {
   "cell_type": "markdown",
   "metadata": {},
   "source": [
    "\n",
    "\n",
    "|  x | $-\\infty$ | $\\cdots$  | $-\\frac{\\sqrt{2}}{2}$  |   $\\cdots$  |  0  |   $\\cdots$  |  $\\frac{\\sqrt{2}}{2}$  |   $\\cdots$  | $\\infty$ |\n",
    "| ---- | ---- | ---- | ---- | ---- | ---- | ---- | ---- | ---- | ---- |\n",
    "|  f(x) | 0 | $\\nearrow$  |  $\\nearrow$   |  $\\nearrow$  |  1.0  |  $\\searrow$  |  $\\searrow$ |  $\\searrow$  | 0 |\n",
    "|  f'(x) | 0 |  +  |  +  |  +  |  0  |  -  |  -  |  -  | 0 |\n",
    "|  f''(x) | 0 |  +  |  0  |  -  |  -  |  -  |  0  |  +  | 0 |"
   ]
  },
  {
   "cell_type": "markdown",
   "metadata": {},
   "source": [
    "## 積分(15点)\n",
    "\n",
    "関数\n",
    "    \\begin{equation*}\n",
    "      f(x) = \\frac{1}{\\cos x + 1}\n",
    "    \\end{equation*}\n",
    "    の不定積分を求めよ．また，$x=0..\\pi/2$の定積分を求めよ．\n"
   ]
  },
  {
   "cell_type": "code",
   "execution_count": 12,
   "metadata": {},
   "outputs": [
    {
     "name": "stdout",
     "output_type": "stream",
     "text": [
      "IPython console for SymPy 1.6.1 (Python 3.8.3-64-bit) (ground types: gmpy)\n",
      "\n",
      "These commands were executed:\n",
      ">>> from __future__ import division\n",
      ">>> from sympy import *\n",
      ">>> x, y, z, t = symbols('x y z t')\n",
      ">>> k, m, n = symbols('k m n', integer=True)\n",
      ">>> f, g, h = symbols('f g h', cls=Function)\n",
      ">>> init_printing()\n",
      "\n",
      "Documentation can be found at https://docs.sympy.org/1.6.1/\n",
      "\n"
     ]
    },
    {
     "data": {
      "image/png": "[encoded data removed]",
      "text/latex": [
       "$\\displaystyle \\frac{1}{\\cos{\\left(x \\right)} + 1}$"
      ],
      "text/plain": [
       "    1     \n",
       "──────────\n",
       "cos(x) + 1"
      ]
     },
     "execution_count": 12,
     "metadata": {},
     "output_type": "execute_result"
    }
   ],
   "source": [
    "from sympy import *\n",
    "init_session()\n",
    "\n",
    "1/(cos(x)+1)"
   ]
  },
  {
   "cell_type": "code",
   "execution_count": 13,
   "metadata": {},
   "outputs": [
    {
     "data": {
      "image/png": "[encoded data removed]",
      "text/latex": [
       "$\\displaystyle \\tan{\\left(\\frac{x}{2} \\right)}$"
      ],
      "text/plain": [
       "   ⎛x⎞\n",
       "tan⎜─⎟\n",
       "   ⎝2⎠"
      ]
     },
     "execution_count": 13,
     "metadata": {},
     "output_type": "execute_result"
    }
   ],
   "source": [
    "integrate(1/(cos(x)+1),x)"
   ]
  },
  {
   "cell_type": "code",
   "execution_count": 14,
   "metadata": {},
   "outputs": [
    {
     "data": {
      "image/png": "[encoded data removed]",
      "text/latex": [
       "$\\displaystyle 1$"
      ],
      "text/plain": [
       "1"
      ]
     },
     "execution_count": 14,
     "metadata": {},
     "output_type": "execute_result"
    }
   ],
   "source": [
    "integrate(1/(cos(x)+1),(x,0,pi/2))"
   ]
  },
  {
   "cell_type": "markdown",
   "metadata": {},
   "source": [
    "# センター試験原題(10点)\n",
    "(2017大学入試センター試験　追試験 数学II・B 第2問)\n",
    "\n",
    "  関数$f(x)=x^3-5x^2+3x-4$について考える．\n",
    "    関数$f(x)$の増減を調べよう．$f(x)$の導関数は\n",
    "    \\begin{equation*}\n",
    "      f'(x) = \\fbox{ ア }\\,x^2 - \\fbox{ イウ }\\,x + \\fbox{ エ }\n",
    "    \\end{equation*}\n",
    "    であり．$f(x)$は$x=\\frac{\\fbox{ オ }}{\\fbox{ カ }}$で極大値，\n",
    "    $x=\\fbox{ キ }$で極小値をとる．\n",
    "    よって，$x \\geqq 0$の範囲における$f(x)$の最小値は$\\fbox{ クケコ }$\n",
    "    である．\n",
    "\n",
    "また，方程式$f(x)=0$の異なる実数解の個数は$\\fbox{ サ }$個である．\n"
   ]
  },
  {
   "cell_type": "code",
   "execution_count": 15,
   "metadata": {
    "scrolled": true
   },
   "outputs": [
    {
     "name": "stdout",
     "output_type": "stream",
     "text": [
      "IPython console for SymPy 1.6.1 (Python 3.8.3-64-bit) (ground types: gmpy)\n",
      "\n",
      "These commands were executed:\n",
      ">>> from __future__ import division\n",
      ">>> from sympy import *\n",
      ">>> x, y, z, t = symbols('x y z t')\n",
      ">>> k, m, n = symbols('k m n', integer=True)\n",
      ">>> f, g, h = symbols('f g h', cls=Function)\n",
      ">>> init_printing()\n",
      "\n",
      "Documentation can be found at https://docs.sympy.org/1.6.1/\n",
      "\n"
     ]
    }
   ],
   "source": [
    "from sympy import *\n",
    "init_session()"
   ]
  },
  {
   "cell_type": "code",
   "execution_count": 16,
   "metadata": {},
   "outputs": [
    {
     "data": {
      "image/png": "[encoded data removed]",
      "text/latex": [
       "$\\displaystyle x^{3} - 5 x^{2} + 3 x - 4$"
      ],
      "text/plain": [
       " 3      2          \n",
       "x  - 5⋅x  + 3⋅x - 4"
      ]
     },
     "execution_count": 16,
     "metadata": {},
     "output_type": "execute_result"
    }
   ],
   "source": [
    "aa=1\n",
    "f= aa*x**3-5*x**2+3*x-4\n",
    "f"
   ]
  },
  {
   "cell_type": "code",
   "execution_count": 17,
   "metadata": {},
   "outputs": [
    {
     "data": {
      "image/png": "[encoded data removed]",
      "text/latex": [
       "$\\displaystyle 3 x^{2} - 10 x + 3$"
      ],
      "text/plain": [
       "   2           \n",
       "3⋅x  - 10⋅x + 3"
      ]
     },
     "execution_count": 17,
     "metadata": {},
     "output_type": "execute_result"
    }
   ],
   "source": [
    "df = diff(f,x)\n",
    "df"
   ]
  },
  {
   "cell_type": "code",
   "execution_count": 18,
   "metadata": {},
   "outputs": [
    {
     "data": {
      "image/png": "[encoded data removed]",
      "text/latex": [
       "$\\displaystyle \\left[ \\left\\{ x : \\frac{1}{3}\\right\\}, \\  \\left\\{ x : 3\\right\\}\\right]$"
      ],
      "text/plain": [
       "[{x: 1/3}, {x: 3}]"
      ]
     },
     "execution_count": 18,
     "metadata": {},
     "output_type": "execute_result"
    }
   ],
   "source": [
    "s1=solve(df,x, dict=true)\n",
    "s1"
   ]
  },
  {
   "cell_type": "code",
   "execution_count": 19,
   "metadata": {},
   "outputs": [
    {
     "data": {
      "image/png": "[encoded data removed]",
      "text/latex": [
       "$\\displaystyle - \\frac{95}{27}$"
      ],
      "text/plain": [
       "-95 \n",
       "────\n",
       " 27 "
      ]
     },
     "execution_count": 19,
     "metadata": {},
     "output_type": "execute_result"
    }
   ],
   "source": [
    "f.subs(s1[0])"
   ]
  },
  {
   "cell_type": "code",
   "execution_count": 20,
   "metadata": {},
   "outputs": [
    {
     "data": {
      "image/png": "[encoded data removed]",
      "text/latex": [
       "$\\displaystyle -13$"
      ],
      "text/plain": [
       "-13"
      ]
     },
     "execution_count": 20,
     "metadata": {},
     "output_type": "execute_result"
    }
   ],
   "source": [
    "f.subs(s1[1])"
   ]
  },
  {
   "cell_type": "code",
   "execution_count": 21,
   "metadata": {},
   "outputs": [
    {
     "data": {
      "image/png": "[encoded data removed]",
      "text/latex": [
       "$\\displaystyle 3 x - 4$"
      ],
      "text/plain": [
       "3⋅x - 4"
      ]
     },
     "execution_count": 21,
     "metadata": {},
     "output_type": "execute_result"
    }
   ],
   "source": [
    "x0=0\n",
    "m = df.subs({x:x0})\n",
    "yl=m*x+f.subs({x:x0})\n",
    "yl"
   ]
  },
  {
   "cell_type": "code",
   "execution_count": 22,
   "metadata": {
    "scrolled": true
   },
   "outputs": [
    {
     "data": {
      "image/png": "[encoded data removed]",
      "text/plain": [
       "<Figure size 432x288 with 1 Axes>"
      ]
     },
     "metadata": {
      "needs_background": "light"
     },
     "output_type": "display_data"
    },
    {
     "data": {
      "text/plain": [
       "<sympy.plotting.plot.Plot at 0x7fde730dd280>"
      ]
     },
     "execution_count": 22,
     "metadata": {},
     "output_type": "execute_result"
    }
   ],
   "source": [
    "%matplotlib inline\n",
    "\n",
    "from sympy import *\n",
    "plot(f,yl,(x,-2,4))"
   ]
  },
  {
   "cell_type": "markdown",
   "metadata": {},
   "source": [
    "## 2\n",
    "曲線$y=f(x)$上の点$(0, f(0))$における接線を$l$とすると，\n",
    "    $l$の方程式は$y=\\fbox{ シ }\\,x - \\fbox{ ス }$である．\n",
    "    また，放物線$y=x^2+px+q$を$C$とし，\n",
    "    $C$は点$(a, \\fbox{ シ }\\,a - \\fbox{ ス })$で\n",
    "    $l$と接しているとする．\n",
    "このとき，$p,q$は$a$を用いて\n",
    "    \\begin{equation*}\n",
    "      p = \\fbox{ セソ }\\, a + \\fbox{ タ }\\,, q = a^{\\fbox{ チ }} - \\fbox{ ツ }\n",
    "    \\end{equation*}\n",
    "と表される．\n"
   ]
  },
  {
   "cell_type": "code",
   "execution_count": 23,
   "metadata": {},
   "outputs": [
    {
     "data": {
      "image/png": "[encoded data removed]",
      "text/latex": [
       "$\\displaystyle p x + q + x^{2}$"
      ],
      "text/plain": [
       "           2\n",
       "p⋅x + q + x "
      ]
     },
     "execution_count": 23,
     "metadata": {},
     "output_type": "execute_result"
    }
   ],
   "source": [
    "a, p, q = symbols('a, p,q')\n",
    "g=x**2+p*x+q\n",
    "g"
   ]
  },
  {
   "cell_type": "code",
   "execution_count": 24,
   "metadata": {},
   "outputs": [
    {
     "data": {
      "image/png": "[encoded data removed]",
      "text/latex": [
       "$\\displaystyle a^{2} + a p - 3 a + q + 4$"
      ],
      "text/plain": [
       " 2                    \n",
       "a  + a⋅p - 3⋅a + q + 4"
      ]
     },
     "execution_count": 24,
     "metadata": {},
     "output_type": "execute_result"
    }
   ],
   "source": [
    "eq1=g.subs({x:a})-yl.subs({x:a})\n",
    "eq1"
   ]
  },
  {
   "cell_type": "code",
   "execution_count": 25,
   "metadata": {},
   "outputs": [
    {
     "data": {
      "image/png": "[encoded data removed]",
      "text/latex": [
       "$\\displaystyle 2 a + p - 3$"
      ],
      "text/plain": [
       "2⋅a + p - 3"
      ]
     },
     "execution_count": 25,
     "metadata": {},
     "output_type": "execute_result"
    }
   ],
   "source": [
    "eq2=g.diff(x).subs({x:a})-m\n",
    "eq2"
   ]
  },
  {
   "cell_type": "code",
   "execution_count": 26,
   "metadata": {},
   "outputs": [
    {
     "data": {
      "image/png": "[encoded data removed]",
      "text/latex": [
       "$\\displaystyle \\left\\{ p : 3 - 2 a\\right\\}$"
      ],
      "text/plain": [
       "{p: 3 - 2⋅a}"
      ]
     },
     "execution_count": 26,
     "metadata": {},
     "output_type": "execute_result"
    }
   ],
   "source": [
    "s2=solve(eq2,p,dict=true)\n",
    "s2[0]"
   ]
  },
  {
   "cell_type": "code",
   "execution_count": 27,
   "metadata": {
    "scrolled": true
   },
   "outputs": [
    {
     "data": {
      "image/png": "[encoded data removed]",
      "text/latex": [
       "$\\displaystyle \\left[ a^{2} - 4\\right]$"
      ],
      "text/plain": [
       "⎡ 2    ⎤\n",
       "⎣a  - 4⎦"
      ]
     },
     "execution_count": 27,
     "metadata": {},
     "output_type": "execute_result"
    }
   ],
   "source": [
    "solve(eq1.subs(s2[0]),q)"
   ]
  },
  {
   "cell_type": "markdown",
   "metadata": {},
   "source": [
    "# 数値改変(30点)\n",
    "問3.において，\n",
    "  関数$f(x)=1.1x^3-5x^2+3x-4$，\n",
    "  また，曲線$y=f(x)$上の点$(0.1, f(0.1))$における接線を$l$として問題を解け．\n",
    "$\\fbox{ ツ }$は3.9522となる．"
   ]
  },
  {
   "cell_type": "code",
   "execution_count": 28,
   "metadata": {
    "scrolled": true
   },
   "outputs": [
    {
     "name": "stdout",
     "output_type": "stream",
     "text": [
      "IPython console for SymPy 1.6.1 (Python 3.8.3-64-bit) (ground types: gmpy)\n",
      "\n",
      "These commands were executed:\n",
      ">>> from __future__ import division\n",
      ">>> from sympy import *\n",
      ">>> x, y, z, t = symbols('x y z t')\n",
      ">>> k, m, n = symbols('k m n', integer=True)\n",
      ">>> f, g, h = symbols('f g h', cls=Function)\n",
      ">>> init_printing()\n",
      "\n",
      "Documentation can be found at https://docs.sympy.org/1.6.1/\n",
      "\n"
     ]
    }
   ],
   "source": [
    "from sympy import *\n",
    "init_session()"
   ]
  },
  {
   "cell_type": "code",
   "execution_count": 29,
   "metadata": {},
   "outputs": [
    {
     "data": {
      "image/png": "[encoded data removed]",
      "text/latex": [
       "$\\displaystyle 1.1 x^{3} - 5 x^{2} + 3 x - 4$"
      ],
      "text/plain": [
       "     3      2          \n",
       "1.1⋅x  - 5⋅x  + 3⋅x - 4"
      ]
     },
     "execution_count": 29,
     "metadata": {},
     "output_type": "execute_result"
    }
   ],
   "source": [
    "aa=1.1\n",
    "f= aa*x**3-5*x**2+3*x-4\n",
    "f"
   ]
  },
  {
   "cell_type": "code",
   "execution_count": 46,
   "metadata": {},
   "outputs": [
    {
     "name": "stdout",
     "output_type": "stream",
     "text": [
      "f'(x): 3.3*x**2 - 10*x + 3\n"
     ]
    }
   ],
   "source": [
    "df = diff(f,x)\n",
    "print(\"f'(x):\",df)"
   ]
  },
  {
   "cell_type": "code",
   "execution_count": 47,
   "metadata": {},
   "outputs": [
    {
     "name": "stdout",
     "output_type": "stream",
     "text": [
      "極大，極小 :  [{x: 0.337614592259064}, {x: 2.69268843804397}]\n"
     ]
    }
   ],
   "source": [
    "s1=solve(df,x, dict=true)\n",
    "print(\"極大，極小 : \",s1)"
   ]
  },
  {
   "cell_type": "code",
   "execution_count": 48,
   "metadata": {},
   "outputs": [
    {
     "data": {
      "image/png": "[encoded data removed]",
      "text/latex": [
       "$\\displaystyle -3.51474350365896$"
      ],
      "text/plain": [
       "-3.51474350365896"
      ]
     },
     "execution_count": 48,
     "metadata": {},
     "output_type": "execute_result"
    }
   ],
   "source": [
    "f.subs(s1[0])"
   ]
  },
  {
   "cell_type": "code",
   "execution_count": 49,
   "metadata": {},
   "outputs": [
    {
     "name": "stdout",
     "output_type": "stream",
     "text": [
      "最小値: -10.6989081645382\n"
     ]
    }
   ],
   "source": [
    "print(\"最小値:\", f.subs(s1[1]))"
   ]
  },
  {
   "cell_type": "code",
   "execution_count": 50,
   "metadata": {},
   "outputs": [
    {
     "data": {
      "image/png": "[encoded data removed]",
      "text/plain": [
       "<Figure size 432x288 with 1 Axes>"
      ]
     },
     "metadata": {
      "needs_background": "light"
     },
     "output_type": "display_data"
    },
    {
     "data": {
      "text/plain": [
       "<sympy.plotting.plot.Plot at 0x7fde7345dfa0>"
      ]
     },
     "execution_count": 50,
     "metadata": {},
     "output_type": "execute_result"
    }
   ],
   "source": [
    "%matplotlib inline\n",
    "\n",
    "from sympy import *\n",
    "plot(f,yl,(x,-2,4))"
   ]
  },
  {
   "cell_type": "code",
   "execution_count": 53,
   "metadata": {},
   "outputs": [
    {
     "name": "stdout",
     "output_type": "stream",
     "text": [
      "接線の傾き: 2.03300000000000\n",
      "lの方程式: 2.033*x - 3.9522\n"
     ]
    }
   ],
   "source": [
    "x0=0.1\n",
    "m = df.subs({x:x0})\n",
    "print(\"接線の傾き:\", m)\n",
    "#yl=m*x+f.subs({x:x0}) # HERE!!!\n",
    "yl=m*(x-x0)+f.subs({x:x0})\n",
    "print(\"lの方程式:\",yl)"
   ]
  },
  {
   "cell_type": "code",
   "execution_count": 36,
   "metadata": {},
   "outputs": [
    {
     "data": {
      "image/png": "[encoded data removed]",
      "text/latex": [
       "$\\displaystyle p x + q + x^{2}$"
      ],
      "text/plain": [
       "           2\n",
       "p⋅x + q + x "
      ]
     },
     "execution_count": 36,
     "metadata": {},
     "output_type": "execute_result"
    }
   ],
   "source": [
    "a, p,q = symbols('a, p,q')\n",
    "g=x**2+p*x+q\n",
    "g"
   ]
  },
  {
   "cell_type": "code",
   "execution_count": 54,
   "metadata": {},
   "outputs": [
    {
     "name": "stdout",
     "output_type": "stream",
     "text": [
      "接線の方程式: a**2 + a*p - 2.033*a + q + 3.9522\n"
     ]
    }
   ],
   "source": [
    "eq1=g.subs({x:a})-yl.subs({x:a})\n",
    "print(\"接線の方程式:\",eq1)"
   ]
  },
  {
   "cell_type": "code",
   "execution_count": 61,
   "metadata": {
    "collapsed": true
   },
   "outputs": [
    {
     "name": "stdout",
     "output_type": "stream",
     "text": [
      "a,pの満たすべき方程式: 2*a + p - 2.033\n"
     ]
    }
   ],
   "source": [
    "eq2=g.diff(x).subs({x:a})-m\n",
    "print(\"a,pの満たすべき方程式:\",eq2)"
   ]
  },
  {
   "cell_type": "code",
   "execution_count": 56,
   "metadata": {},
   "outputs": [
    {
     "name": "stdout",
     "output_type": "stream",
     "text": [
      "p: {p: 2.033 - 2.0*a}\n"
     ]
    }
   ],
   "source": [
    "s2=solve(eq2,p,dict=true)\n",
    "print(\"p:\",s2[0])"
   ]
  },
  {
   "cell_type": "code",
   "execution_count": 63,
   "metadata": {
    "scrolled": true
   },
   "outputs": [
    {
     "name": "stdout",
     "output_type": "stream",
     "text": [
      "q: [a**2 - 3.9522]\n"
     ]
    }
   ],
   "source": [
    "s3 = solve(eq1.subs(s2[0]),q)\n",
    "print(\"q:\",s3)"
   ]
  },
  {
   "cell_type": "code",
   "execution_count": null,
   "metadata": {},
   "outputs": [],
   "source": []
  }
 ],
 "metadata": {
  "kernelspec": {
   "display_name": "Python 3",
   "language": "python",
   "name": "python3"
  },
  "language_info": {
   "codemirror_mode": {
    "name": "ipython",
    "version": 3
   },
   "file_extension": ".py",
   "mimetype": "text/x-python",
   "name": "python",
   "nbconvert_exporter": "python",
   "pygments_lexer": "ipython3",
   "version": "3.8.5"
  },
  "latex_envs": {
   "LaTeX_envs_menu_present": true,
   "autocomplete": true,
   "bibliofile": "biblio.bib",
   "cite_by": "apalike",
   "current_citInitial": 1,
   "eqLabelWithNumbers": true,
   "eqNumInitial": 1,
   "hotkeys": {
    "equation": "Ctrl-E",
    "itemize": "Ctrl-I"
   },
   "labels_anchors": false,
   "latex_user_defs": false,
   "report_style_numbering": false,
   "user_envs_cfg": false
  },
  "toc": {
   "base_numbering": 1,
   "nav_menu": {
    "height": "12.666666984558105px",
    "width": "252.6666717529297px"
   },
   "number_sections": true,
   "sideBar": true,
   "skip_h1_title": false,
   "title_cell": "Table of Contents",
   "title_sidebar": "Contents",
   "toc_cell": true,
   "toc_position": {
    "height": "538.3287963867188px",
    "left": "0px",
    "right": "1189.3333740234375px",
    "top": "60.801631927490234px",
    "width": "179.0353240966797px"
   },
   "toc_section_display": "block",
   "toc_window_display": true
  }
 },
 "nbformat": 4,
 "nbformat_minor": 2
}
