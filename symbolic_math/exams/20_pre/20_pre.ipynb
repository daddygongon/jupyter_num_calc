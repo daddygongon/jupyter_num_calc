{
 "cells": [
  {
   "cell_type": "markdown",
   "metadata": {
    "toc": "true"
   },
   "source": [
    "<h1>Table of Contents<span class=\"tocSkip\"></span></h1>\n",
    "<div class=\"toc\"><ul class=\"toc-item\"><li><span><a href=\"#線形代数\" data-toc-modified-id=\"線形代数-1\"><span class=\"toc-item-num\">1&nbsp;&nbsp;</span>線形代数</a></span><ul class=\"toc-item\"><li><span><a href=\"#基底，次元，成分(15点)\" data-toc-modified-id=\"基底，次元，成分(15点)-1.1\"><span class=\"toc-item-num\">1.1&nbsp;&nbsp;</span>基底，次元，成分(15点)</a></span></li><li><span><a href=\"#Ker,-Im(15点)\" data-toc-modified-id=\"Ker,-Im(15点)-1.2\"><span class=\"toc-item-num\">1.2&nbsp;&nbsp;</span>Ker, Im(15点)</a></span></li></ul></li><li><span><a href=\"#微積分\" data-toc-modified-id=\"微積分-2\"><span class=\"toc-item-num\">2&nbsp;&nbsp;</span>微積分</a></span><ul class=\"toc-item\"><li><span><a href=\"#正規分布の概形(15点)\" data-toc-modified-id=\"正規分布の概形(15点)-2.1\"><span class=\"toc-item-num\">2.1&nbsp;&nbsp;</span>正規分布の概形(15点)</a></span></li><li><span><a href=\"#積分(15点)\" data-toc-modified-id=\"積分(15点)-2.2\"><span class=\"toc-item-num\">2.2&nbsp;&nbsp;</span>積分(15点)</a></span></li></ul></li><li><span><a href=\"#センター試験原題(10点)\" data-toc-modified-id=\"センター試験原題(10点)-3\"><span class=\"toc-item-num\">3&nbsp;&nbsp;</span>センター試験原題(10点)</a></span><ul class=\"toc-item\"><li><span><a href=\"#2\" data-toc-modified-id=\"2-3.1\"><span class=\"toc-item-num\">3.1&nbsp;&nbsp;</span>2</a></span></li></ul></li><li><span><a href=\"#数値改変(30点)\" data-toc-modified-id=\"数値改変(30点)-4\"><span class=\"toc-item-num\">4&nbsp;&nbsp;</span>数値改変(30点)</a></span></li></ul></div>"
   ]
  },
  {
   "cell_type": "markdown",
   "metadata": {},
   "source": [
    "<div style=\"text-align: center;\">\n",
    "   <font size=\"5\"> 2020年度　数式処理演習　pre試験問題 </font>\n",
    "</div>\n",
    "   <div style=\"text-align: right;\">\n",
    "   <font size=\"3\"> cc by Shigeto R. Nishitani, 2020/11/19 実施 </font>\n",
    "</div>\n",
    "\n",
    "* file: ~/symboic_math/exams/20_pre_ans.ipynb\n",
    "\n",
    "# 線形代数\n",
    "## 基底，次元，成分(15点)\n",
    "$\\boldsymbol{R}^3$において\n",
    "$a_1=(2,-1,0)$,\n",
    "$a_2=(1,0,1)$,\n",
    "$a_3=(1,2,-2)$は基底をなす．\n",
    "$a=(-4,-2,1)$の基底\n",
    "${\\cal{B}}=\\{a_1,a_2,a_3\\}$に関する成分を求めよ．\n"
   ]
  },
  {
   "cell_type": "markdown",
   "metadata": {},
   "source": [
    "## Ker, Im(15点)\n",
    "$A=\\left(\n",
    "\\begin{array}{@{\\,}cccc@{\\,}}\n",
    "1 & 0 & -1 & -2\\\\\n",
    "-2 & 1 & 3 & 5\\\\\n",
    "1 & 1 & 0 & -1\n",
    "\\end{array}\n",
    "\\right)$\n",
    "とする．$R^4$から$R^3$への線形写像$f$を\n",
    "$f(x)=Ax$で\n",
    "与えるとき，$f$のIm$f$およびKer$f$の次元と1組の基底を求めよ．"
   ]
  },
  {
   "cell_type": "markdown",
   "metadata": {},
   "source": [
    "# 微積分\n",
    "## 正規分布の概形(15点)\n",
    "関数\n",
    "    \\begin{equation*}\n",
    "      f(x) = e^{-x^2}\n",
    "    \\end{equation*}\n",
    "    の増減，極値，凹凸を調べ，曲線$y=f(x)$の概形を描け．"
   ]
  },
  {
   "cell_type": "markdown",
   "metadata": {},
   "source": [
    "\n",
    "\n",
    "|  x | $-\\infty$ | $\\cdots$  | $-\\frac{\\sqrt{2}}{2}$  |   $\\cdots$  |  0  |   $\\cdots$  |  $\\frac{\\sqrt{2}}{2}$  |   $\\cdots$  | $\\infty$ |\n",
    "| ---- | ---- | ---- | ---- | ---- | ---- | ---- | ---- | ---- | ---- |\n",
    "|  f(x) | 0 | $\\nearrow$  |  $\\nearrow$   |  $\\nearrow$  |  1.0  |  $\\searrow$  |  $\\searrow$ |  $\\searrow$  | 0 |\n",
    "|  f'(x) | 0 |  +  |  +  |  +  |  0  |  -  |  -  |  -  | 0 |\n",
    "|  f''(x) | 0 |  +  |  0  |  -  |  -  |  -  |  0  |  +  | 0 |"
   ]
  },
  {
   "cell_type": "markdown",
   "metadata": {},
   "source": [
    "## 積分(15点)\n",
    "\n",
    "関数\n",
    "    \\begin{equation*}\n",
    "      f(x) = \\frac{1}{\\cos x + 1}\n",
    "    \\end{equation*}\n",
    "    の不定積分を求めよ．また，$x=0..\\pi/2$の定積分を求めよ．\n"
   ]
  },
  {
   "cell_type": "markdown",
   "metadata": {},
   "source": [
    "# センター試験原題(10点)\n",
    "(2017大学入試センター試験　追試験 数学II・B 第2問)\n",
    "\n",
    "  関数$f(x)=x^3-5x^2+3x-4$について考える．\n",
    "    関数$f(x)$の増減を調べよう．$f(x)$の導関数は\n",
    "    \\begin{equation*}\n",
    "      f'(x) = \\fbox{ ア }\\,x^2 - \\fbox{ イウ }\\,x + \\fbox{ エ }\n",
    "    \\end{equation*}\n",
    "    であり．$f(x)$は$x=\\frac{\\fbox{ オ }}{\\fbox{ カ }}$で極大値，\n",
    "    $x=\\fbox{ キ }$で極小値をとる．\n",
    "    よって，$x \\geqq 0$の範囲における$f(x)$の最小値は$\\fbox{ クケコ }$\n",
    "    である．\n",
    "\n",
    "また，方程式$f(x)=0$の異なる実数解の個数は$\\fbox{ サ }$個である．\n"
   ]
  },
  {
   "cell_type": "markdown",
   "metadata": {},
   "source": [
    "## 2\n",
    "曲線$y=f(x)$上の点$(0, f(0))$における接線を$l$とすると，\n",
    "    $l$の方程式は$y=\\fbox{ シ }\\,x - \\fbox{ ス }$である．\n",
    "    また，放物線$y=x^2+px+q$を$C$とし，\n",
    "    $C$は点$(a, \\fbox{ シ }\\,a - \\fbox{ ス })$で\n",
    "    $l$と接しているとする．\n",
    "このとき，$p,q$は$a$を用いて\n",
    "    \\begin{equation*}\n",
    "      p = \\fbox{ セソ }\\, a + \\fbox{ タ }\\,, q = a^{\\fbox{ チ }} - \\fbox{ ツ }\n",
    "    \\end{equation*}\n",
    "と表される．\n"
   ]
  },
  {
   "cell_type": "markdown",
   "metadata": {},
   "source": [
    "# 数値改変(30点)\n",
    "問3.において，\n",
    "  関数$f(x)=1.1x^3-5x^2+3x-4$，\n",
    "  また，曲線$y=f(x)$上の点$(0.1, f(0.1))$における接線を$l$として問題を解け．\n",
    "$\\fbox{ ツ }$は3.9522となる．"
   ]
  }
 ],
 "metadata": {
  "kernelspec": {
   "display_name": "Python 3",
   "language": "python",
   "name": "python3"
  },
  "language_info": {
   "codemirror_mode": {
    "name": "ipython",
    "version": 3
   },
   "file_extension": ".py",
   "mimetype": "text/x-python",
   "name": "python",
   "nbconvert_exporter": "python",
   "pygments_lexer": "ipython3",
   "version": "3.8.3"
  },
  "latex_envs": {
   "LaTeX_envs_menu_present": true,
   "autocomplete": true,
   "bibliofile": "biblio.bib",
   "cite_by": "apalike",
   "current_citInitial": 1,
   "eqLabelWithNumbers": true,
   "eqNumInitial": 1,
   "hotkeys": {
    "equation": "Ctrl-E",
    "itemize": "Ctrl-I"
   },
   "labels_anchors": false,
   "latex_user_defs": false,
   "report_style_numbering": false,
   "user_envs_cfg": false
  },
  "toc": {
   "base_numbering": 1,
   "nav_menu": {
    "height": "12.666666984558105px",
    "width": "252.6666717529297px"
   },
   "number_sections": true,
   "sideBar": true,
   "skip_h1_title": false,
   "title_cell": "Table of Contents",
   "title_sidebar": "Contents",
   "toc_cell": true,
   "toc_position": {
    "height": "538.3287963867188px",
    "left": "0px",
    "right": "1189.3333740234375px",
    "top": "60.801631927490234px",
    "width": "179.0353240966797px"
   },
   "toc_section_display": "block",
   "toc_window_display": true
  }
 },
 "nbformat": 4,
 "nbformat_minor": 2
}
