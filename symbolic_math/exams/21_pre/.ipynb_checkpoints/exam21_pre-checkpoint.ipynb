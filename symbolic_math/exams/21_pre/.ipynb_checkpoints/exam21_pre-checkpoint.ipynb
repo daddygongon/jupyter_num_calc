{
 "cells": [
  {
   "cell_type": "markdown",
   "metadata": {},
   "source": [
    "<div style=\"text-align: center;\">\n",
    "      <font size=\"5\">2021年度秋学期　予備試験（21/11/25実施）</font>\n",
    "</div>\n",
    "      <div style=\"text-align: right;\">\n",
    "      <font size=\"3\">団員名簿： </font>\n",
    "</div>\n",
    "\n",
    "* file: ./math_python/exam16_pre_ans.ipynb"
   ]
  },
  {
   "cell_type": "markdown",
   "metadata": {},
   "source": [
    "資料を参考にして以下の問題を解き，出力して提出せよ．何番をやっているかが分かるようにせよ.\n",
    "\n",
    "\n",
    "# 1(a)\n",
    "次の関数の導関数を求めよ．(10点)\n",
    "\\begin{equation*}\n",
    "\\sqrt{x^2+1}\\sqrt[3]{x^3+1}\n",
    "\\end{equation*}\n",
    "\n",
    "\\footnote{寺田・坂田，「演習と応用 微分積分」(サイエンス社,2003)，p.18, 問題9.1(3).}\n",
    "\n",
    "# 1(b)\n",
    "資料を参考にして次の関係から$\\displaystyle \\frac{dy}{dx}$を求めよ．結果は$t$の関数のままでよい.(15点) \n",
    "\\begin{eqnarray*}\n",
    "x &=& a \\cos^3 t\\\\\n",
    "y &=& a \\sin^3 t \\hspace{5mm} (a>0)\n",
    "\\end{eqnarray*}\n",
    "\n",
    "\\footnote{寺田・坂田，「演習と応用 微分積分」(サイエンス社,2003)，p.19, 問題10.1(1).}"
   ]
  },
  {
   "cell_type": "markdown",
   "metadata": {},
   "source": [
    "# 2(a,b) \n",
    "積分, 省略"
   ]
  },
  {
   "cell_type": "markdown",
   "metadata": {},
   "source": [
    "あきらめましょう．積分はパスろう．"
   ]
  },
  {
   "cell_type": "markdown",
   "metadata": {},
   "source": [
    "# 3(a)\n",
    "\n",
    "行列$\\displaystyle A= \\left( \\begin {array}{ccc} 1&-1&1\\\\ \n",
    "-7&2&1 \\\\ \n",
    "2&1&2\n",
    "\\end {array} \\right)$\n",
    "を対角化せよ(10点).\n",
    "\n",
    "\\footnote{寺田・木村，「演習と応用 線形代数」(サイエンス社,2005)，p.78, 問題8.1{b}}\n"
   ]
  },
  {
   "cell_type": "markdown",
   "metadata": {},
   "source": [
    "# 3(b)\n",
    "\n",
    "$\\displaystyle A= \\left( \\begin {array}{ccc} 0&c&b\\\\ \n",
    "c&0&a \\\\ \n",
    "b&a&0\n",
    "\\end {array} \\right)$,\n",
    "$\\displaystyle B= \\left( \\begin {array}{ccc} 0&1&1\\\\ \n",
    "1&0&1 \\\\ \n",
    "1&1&0\n",
    "\\end {array} \\right)$\n",
    "として，$BA$を計算することにより，\n",
    "$\\displaystyle \\left| \\begin {array}{ccc} b+c&a&a\\\\ \n",
    "b&c+a&b \\\\ \n",
    "c&c&a+b\n",
    "\\end {array} \\right|$\n",
    "を求めよ(15点).\n",
    "\n",
    "\\footnote{寺田・木村，「演習と応用 線形代数」(サイエンス社,2005)，p.39, 問題10.1{a}}\n"
   ]
  },
  {
   "cell_type": "markdown",
   "metadata": {},
   "source": [
    "# 4\n",
    "関数$f(x)$は\n",
    "\\begin{eqnarray*}\n",
    "x \\leqq 3 &のとき& f(x)=x \\\\\n",
    "x > 3 &のとき& f(x)=-3x+12\n",
    "\\end{eqnarray*}\n",
    "で与えられている．このとき，$x \\geqq 0$に対して，関数$g(x)$を\n",
    "\\begin{equation*}\n",
    "g(x)=\\int_0^x f(t) dt\n",
    "\\end{equation*}\n",
    "と定める．\n",
    "\n",
    "## (a)\n",
    "$0 \\leqq x \\leqq 3$のとき\n",
    "\\begin{equation*}\n",
    "g(x) = \\frac{\\fbox{ ア }}{\\fbox{ イ }}\\,x ^{\\fbox{ ウ }}\n",
    "\\end{equation*}\n",
    "であり，$x \\geqq 3$のとき\n",
    "\\begin{equation*}\n",
    "g(x) = -\\frac{3}{2} x^2 + \\fbox{ エオ }\\,x - \\fbox{ カキ }\n",
    "\\end{equation*}\n",
    "である．\n"
   ]
  },
  {
   "cell_type": "markdown",
   "metadata": {},
   "source": [
    "## (b)\n",
    "曲線$y=g(x)$を$C$とする．$C$上の点P$(a,\\,g(a))$(ただし，$0 < a < 3$)における$C$の接線$l$の傾きは\\fbox{ ク }であるから，$l$の方程式は\n",
    "\\begin{equation*}\n",
    "y= \\fbox{ ク }\\, x-\\frac{\\fbox{ ケ }}{\\fbox{ コ }}\\, a^2\n",
    "\\end{equation*}\n",
    "である．\n"
   ]
  },
  {
   "cell_type": "markdown",
   "metadata": {},
   "source": [
    "\n",
    "## (c)\n",
    "$l$と$x$軸の交点をQとするとQの座標は\n",
    "\\begin{equation*}\n",
    "\\left(\\frac{\\fbox{ サ }}{\\fbox{ シ }}\\,a,\\, 0\\right)\n",
    "\\end{equation*}\n",
    "であり，$l$と$C$のP以外の交点をRとするとRの座標は\n",
    "\\begin{equation*}\n",
    "\\left(\\fbox{ ス }\\,-a,\\,\\fbox{ セ }\\,a-\\frac{\\fbox{ ソ }}{\\fbox{ タ }}\\,a^2\\right)\n",
    "\\end{equation*}\n",
    "である．\n"
   ]
  },
  {
   "cell_type": "markdown",
   "metadata": {},
   "source": [
    "\n",
    "## (d)\n",
    "Rから$x$軸に垂線を引き，$x$軸と交わる点をHとするとき，三角形QRHの面積$S$は\n",
    "\\begin{equation}\n",
    "S = \\frac{\\fbox{ チ }}{\\fbox{ ツ }}\\,a^3- \\fbox{ テ }\\,a^2 + \\fbox{ トナ }\\,a  \\,\\,\\,\\, (1)\n",
    "\\end{equation}\n",
    "である．$S$は$a=\\frac{\\fbox{ 二 }}{\\fbox{ ヌ }}$のとき最大値をとる． \n",
    "\n",
    "\\footnote{2003年度大学入試センター試験数学II・数学B第2問改}(5点)\n"
   ]
  },
  {
   "cell_type": "markdown",
   "metadata": {},
   "source": [
    "# 5\n",
    "大問4.において，関数$f(x)$として\n",
    "\\begin{eqnarray*}\n",
    "x \\leqq x_0 &のとき& f(x)=x \\\\\n",
    "x > x_0 &のとき& f(x)=-3.1x+12\n",
    "\\end{eqnarray*}\n",
    "を考える．2つの直線が交わる点を$x_0$として，それ以降の領域を読み替えて問題を解け．ただし係数を変えたので， $\\fbox{ ア }，\\fbox{ イウ }$ 等の箱にはこだわらず，小数が入る．特にRの座標以降2次方程式の解の平方根が残り，(1)式では定数項も残るがビビらんように．(20点)\n"
   ]
  }
 ],
 "metadata": {
  "kernelspec": {
   "display_name": "Python 3",
   "language": "python",
   "name": "python3"
  },
  "language_info": {
   "codemirror_mode": {
    "name": "ipython",
    "version": 3
   },
   "file_extension": ".py",
   "mimetype": "text/x-python",
   "name": "python",
   "nbconvert_exporter": "python",
   "pygments_lexer": "ipython3",
   "version": "3.8.5"
  }
 },
 "nbformat": 4,
 "nbformat_minor": 4
}
