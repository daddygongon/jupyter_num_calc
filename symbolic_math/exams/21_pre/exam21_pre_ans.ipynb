{
 "cells": [
  {
   "cell_type": "markdown",
   "metadata": {},
   "source": [
    "<div style=\"text-align: center;\">\n",
    "      <font size=\"5\">2021年度秋学期　予備試験（21/11/25実施）</font>\n",
    "</div>\n",
    "      <div style=\"text-align: right;\">\n",
    "      <font size=\"3\">団員名簿： </font>\n",
    "</div>\n",
    "\n",
    "* file: ./math_python/exam16_pre_ans.ipynb"
   ]
  },
  {
   "cell_type": "markdown",
   "metadata": {},
   "source": [
    "資料を参考にして以下の問題を解き，出力して提出せよ．80点以上が合格．何番をやっているかが分かるようにせよ.\n",
    "\n",
    "\n",
    "# 1(a)\n",
    "次の関数の導関数を求めよ．(10点)\n",
    "\\begin{equation*}\n",
    "\\sqrt{x^2+1}\\sqrt[3]{x^3+1}\n",
    "\\end{equation*}\n",
    "\n",
    "\\footnote{寺田・坂田，「演習と応用 微分積分」(サイエンス社,2003)，p.18, 問題9.1(3).}\n",
    "\n",
    "# 1(b)\n",
    "資料を参考にして次の関係から$\\displaystyle \\frac{dy}{dx}$を求めよ．結果は$t$の関数のままでよい.(15点) \n",
    "\\begin{eqnarray*}\n",
    "x &=& a \\cos^3 t\\\\\n",
    "y &=& a \\sin^3 t \\hspace{5mm} (a>0)\n",
    "\\end{eqnarray*}\n",
    "\n",
    "\\footnote{寺田・坂田，「演習と応用 微分積分」(サイエンス社,2003)，p.19, 問題10.1(1).}"
   ]
  },
  {
   "cell_type": "code",
   "execution_count": 1,
   "metadata": {},
   "outputs": [],
   "source": [
    "from sympy import *\n",
    "a,x,y,t = symbols('a, x y t')"
   ]
  },
  {
   "cell_type": "code",
   "execution_count": 2,
   "metadata": {},
   "outputs": [],
   "source": [
    "eq1 = sqrt(x**2+1)*(x**3+1)**(Rational(1,3))"
   ]
  },
  {
   "cell_type": "code",
   "execution_count": 4,
   "metadata": {},
   "outputs": [
    {
     "data": {
      "text/latex": [
       "$\\displaystyle \\frac{x \\left(2 x^{3} + x + 1\\right)}{\\sqrt{x^{2} + 1} \\left(x^{3} + 1\\right)^{\\frac{2}{3}}}$"
      ],
      "text/plain": [
       "x*(2*x**3 + x + 1)/(sqrt(x**2 + 1)*(x**3 + 1)**(2/3))"
      ]
     },
     "execution_count": 4,
     "metadata": {},
     "output_type": "execute_result"
    }
   ],
   "source": [
    "simplify(diff(eq1,x))"
   ]
  },
  {
   "cell_type": "code",
   "execution_count": 22,
   "metadata": {},
   "outputs": [],
   "source": [
    "x = a*cos(t)**3\n",
    "y = a*sin(t)**3"
   ]
  },
  {
   "cell_type": "code",
   "execution_count": 25,
   "metadata": {},
   "outputs": [
    {
     "data": {
      "text/latex": [
       "$\\displaystyle - \\frac{\\sin{\\left(t \\right)}}{\\cos{\\left(t \\right)}}$"
      ],
      "text/plain": [
       "-sin(t)/cos(t)"
      ]
     },
     "execution_count": 25,
     "metadata": {},
     "output_type": "execute_result"
    }
   ],
   "source": [
    "diff(y,t)/diff(x,t)"
   ]
  },
  {
   "cell_type": "markdown",
   "metadata": {},
   "source": [
    "# 2(a,b) \n",
    "積分, 省略"
   ]
  },
  {
   "cell_type": "code",
   "execution_count": 33,
   "metadata": {},
   "outputs": [
    {
     "data": {
      "text/latex": [
       "$\\displaystyle \\frac{1}{4 \\sin^{2}{\\left(x \\right)} + \\cos^{2}{\\left(x \\right)}}$"
      ],
      "text/plain": [
       "1/(4*sin(x)**2 + cos(x)**2)"
      ]
     },
     "execution_count": 33,
     "metadata": {},
     "output_type": "execute_result"
    }
   ],
   "source": [
    "from sympy import *\n",
    "a,x,y,t = symbols('a x y t')\n",
    "\n",
    "1/(cos(x)**2+4*sin(x)**2)"
   ]
  },
  {
   "cell_type": "code",
   "execution_count": null,
   "metadata": {},
   "outputs": [],
   "source": [
    "simplify(integrate(1/(cos(x)**2+4*sin(x)**2),x))"
   ]
  },
  {
   "cell_type": "markdown",
   "metadata": {},
   "source": [
    "あきらめましょう．積分はパスろう．"
   ]
  },
  {
   "cell_type": "markdown",
   "metadata": {},
   "source": [
    "# 3(a)\n",
    "\n",
    "行列$\\displaystyle A= \\left( \\begin {array}{ccc} 1&-1&1\\\\ \n",
    "-7&2&1 \\\\ \n",
    "2&1&2\n",
    "\\end {array} \\right)$\n",
    "を対角化せよ(10点).\n",
    "\n",
    "\\footnote{寺田・木村，「演習と応用 線形代数」(サイエンス社,2005)，p.78, 問題8.1{b}}\n"
   ]
  },
  {
   "cell_type": "code",
   "execution_count": 9,
   "metadata": {},
   "outputs": [
    {
     "data": {
      "text/latex": [
       "$\\displaystyle \\left[\\begin{matrix}1 & -1 & 1\\\\-7 & 2 & 1\\\\2 & 1 & 2\\end{matrix}\\right]$"
      ],
      "text/plain": [
       "⎡1   -1  1⎤\n",
       "⎢         ⎥\n",
       "⎢-7  2   1⎥\n",
       "⎢         ⎥\n",
       "⎣2   1   2⎦"
      ]
     },
     "execution_count": 9,
     "metadata": {},
     "output_type": "execute_result"
    }
   ],
   "source": [
    "from sympy import *\n",
    "\n",
    "#init_session()\n",
    "#init_printing(use_unicode=True)\n",
    "init_printing()\n",
    "list_a = [1,-1,1]\n",
    "list_b = [-7,2,1]\n",
    "list_c = [2,1,2]\n",
    "A=Matrix([list_a, list_b, list_c])\n",
    "A"
   ]
  },
  {
   "cell_type": "code",
   "execution_count": 10,
   "metadata": {},
   "outputs": [
    {
     "data": {
      "text/latex": [
       "$\\displaystyle \\left[ \\left( -2, \\  1, \\  \\left[ \\left[\\begin{matrix}-1\\\\-2\\\\1\\end{matrix}\\right]\\right]\\right), \\  \\left( 3, \\  1, \\  \\left[ \\left[\\begin{matrix}0\\\\1\\\\1\\end{matrix}\\right]\\right]\\right), \\  \\left( 4, \\  1, \\  \\left[ \\left[\\begin{matrix}-1\\\\4\\\\1\\end{matrix}\\right]\\right]\\right)\\right]$"
      ],
      "text/plain": [
       "⎡⎛       ⎡⎡-1⎤⎤⎞  ⎛      ⎡⎡0⎤⎤⎞  ⎛      ⎡⎡-1⎤⎤⎞⎤\n",
       "⎢⎜       ⎢⎢  ⎥⎥⎟  ⎜      ⎢⎢ ⎥⎥⎟  ⎜      ⎢⎢  ⎥⎥⎟⎥\n",
       "⎢⎜-2, 1, ⎢⎢-2⎥⎥⎟, ⎜3, 1, ⎢⎢1⎥⎥⎟, ⎜4, 1, ⎢⎢4 ⎥⎥⎟⎥\n",
       "⎢⎜       ⎢⎢  ⎥⎥⎟  ⎜      ⎢⎢ ⎥⎥⎟  ⎜      ⎢⎢  ⎥⎥⎟⎥\n",
       "⎣⎝       ⎣⎣1 ⎦⎦⎠  ⎝      ⎣⎣1⎦⎦⎠  ⎝      ⎣⎣1 ⎦⎦⎠⎦"
      ]
     },
     "execution_count": 10,
     "metadata": {},
     "output_type": "execute_result"
    }
   ],
   "source": [
    "A.eigenvects()"
   ]
  },
  {
   "cell_type": "code",
   "execution_count": 12,
   "metadata": {},
   "outputs": [],
   "source": [
    "P,D = A.diagonalize()"
   ]
  },
  {
   "cell_type": "code",
   "execution_count": 13,
   "metadata": {},
   "outputs": [
    {
     "data": {
      "text/latex": [
       "$\\displaystyle \\left( \\left[\\begin{matrix}-1 & 0 & -1\\\\-2 & 1 & 4\\\\1 & 1 & 1\\end{matrix}\\right], \\  \\left[\\begin{matrix}-2 & 0 & 0\\\\0 & 3 & 0\\\\0 & 0 & 4\\end{matrix}\\right]\\right)$"
      ],
      "text/plain": [
       "⎛⎡-1  0  -1⎤  ⎡-2  0  0⎤⎞\n",
       "⎜⎢         ⎥  ⎢        ⎥⎟\n",
       "⎜⎢-2  1  4 ⎥, ⎢0   3  0⎥⎟\n",
       "⎜⎢         ⎥  ⎢        ⎥⎟\n",
       "⎝⎣1   1  1 ⎦  ⎣0   0  4⎦⎠"
      ]
     },
     "execution_count": 13,
     "metadata": {},
     "output_type": "execute_result"
    }
   ],
   "source": [
    "P,D"
   ]
  },
  {
   "cell_type": "code",
   "execution_count": 15,
   "metadata": {},
   "outputs": [
    {
     "data": {
      "text/latex": [
       "$\\displaystyle \\left[\\begin{matrix}-2 & 0 & 0\\\\0 & 3 & 0\\\\0 & 0 & 4\\end{matrix}\\right]$"
      ],
      "text/plain": [
       "⎡-2  0  0⎤\n",
       "⎢        ⎥\n",
       "⎢0   3  0⎥\n",
       "⎢        ⎥\n",
       "⎣0   0  4⎦"
      ]
     },
     "execution_count": 15,
     "metadata": {},
     "output_type": "execute_result"
    }
   ],
   "source": [
    "P.inv()*A*P"
   ]
  },
  {
   "cell_type": "markdown",
   "metadata": {},
   "source": [
    "# 3(b)\n",
    "\n",
    "$\\displaystyle A= \\left( \\begin {array}{ccc} 0&c&b\\\\ \n",
    "c&0&a \\\\ \n",
    "b&a&0\n",
    "\\end {array} \\right)$,\n",
    "$\\displaystyle B= \\left( \\begin {array}{ccc} 0&1&1\\\\ \n",
    "1&0&1 \\\\ \n",
    "1&1&0\n",
    "\\end {array} \\right)$\n",
    "として，$BA$を計算することにより，\n",
    "$\\displaystyle \\left| \\begin {array}{ccc} b+c&a&a\\\\ \n",
    "b&c+a&b \\\\ \n",
    "c&c&a+b\n",
    "\\end {array} \\right|$\n",
    "を求めよ(15点).\n",
    "\n",
    "\\footnote{寺田・木村，「演習と応用 線形代数」(サイエンス社,2005)，p.39, 問題10.1{a}}\n"
   ]
  },
  {
   "cell_type": "code",
   "execution_count": 16,
   "metadata": {},
   "outputs": [
    {
     "data": {
      "text/latex": [
       "$\\displaystyle \\left[\\begin{matrix}0 & c & b\\\\c & 0 & a\\\\b & a & 0\\end{matrix}\\right]$"
      ],
      "text/plain": [
       "⎡0  c  b⎤\n",
       "⎢       ⎥\n",
       "⎢c  0  a⎥\n",
       "⎢       ⎥\n",
       "⎣b  a  0⎦"
      ]
     },
     "execution_count": 16,
     "metadata": {},
     "output_type": "execute_result"
    }
   ],
   "source": [
    "from sympy import *\n",
    "a,b,c = symbols('a b c')\n",
    "#init_session()\n",
    "#init_printing(use_unicode=True)\n",
    "init_printing()\n",
    "list_a = [0,c,b]\n",
    "list_b = [c,0,a]\n",
    "list_c = [b,a,0]\n",
    "A=Matrix([list_a, list_b, list_c])\n",
    "A"
   ]
  },
  {
   "cell_type": "code",
   "execution_count": 17,
   "metadata": {},
   "outputs": [
    {
     "data": {
      "text/latex": [
       "$\\displaystyle \\left[\\begin{matrix}0 & 1 & 1\\\\1 & 0 & 1\\\\1 & 1 & 0\\end{matrix}\\right]$"
      ],
      "text/plain": [
       "⎡0  1  1⎤\n",
       "⎢       ⎥\n",
       "⎢1  0  1⎥\n",
       "⎢       ⎥\n",
       "⎣1  1  0⎦"
      ]
     },
     "execution_count": 17,
     "metadata": {},
     "output_type": "execute_result"
    }
   ],
   "source": [
    "list_a = [0,1,1]\n",
    "list_b = [1,0,1]\n",
    "list_c = [1,1,0]\n",
    "B=Matrix([list_a, list_b, list_c])\n",
    "B"
   ]
  },
  {
   "cell_type": "code",
   "execution_count": 20,
   "metadata": {},
   "outputs": [
    {
     "data": {
      "image/png": "[encoded data removed]",
      "text/latex": [
       "$\\displaystyle 4 a b c$"
      ],
      "text/plain": [
       "4⋅a⋅b⋅c"
      ]
     },
     "execution_count": 20,
     "metadata": {},
     "output_type": "execute_result"
    }
   ],
   "source": [
    "det(B*A)"
   ]
  },
  {
   "cell_type": "markdown",
   "metadata": {},
   "source": [
    "# 4\n",
    "関数$f(x)$は\n",
    "\\begin{eqnarray*}\n",
    "x \\leqq 3 &のとき& f(x)=x \\\\\n",
    "x > 3 &のとき& f(x)=-3x+12\n",
    "\\end{eqnarray*}\n",
    "で与えられている．このとき，$x \\geqq 0$に対して，関数$g(x)$を\n",
    "\\begin{equation*}\n",
    "g(x)=\\int_0^x f(t) dt\n",
    "\\end{equation*}\n",
    "と定める．\n",
    "\n",
    "## (a)\n",
    "$0 \\leqq x \\leqq 3$のとき\n",
    "\\begin{equation*}\n",
    "g(x) = \\frac{\\fbox{ ア }}{\\fbox{ イ }}\\,x ^{\\fbox{ ウ }}\n",
    "\\end{equation*}\n",
    "であり，$x \\geqq 3$のとき\n",
    "\\begin{equation*}\n",
    "g(x) = -\\frac{3}{2} x^2 + \\fbox{ エオ }\\,x - \\fbox{ カキ }\n",
    "\\end{equation*}\n",
    "である．\n"
   ]
  },
  {
   "cell_type": "code",
   "execution_count": 150,
   "metadata": {},
   "outputs": [],
   "source": [
    "from sympy import *\n",
    "x,x0,y0 = symbols('x x0 y0')\n",
    "f1 = x\n",
    "f2=-3*x+12"
   ]
  },
  {
   "cell_type": "code",
   "execution_count": 151,
   "metadata": {
    "scrolled": true
   },
   "outputs": [
    {
     "data": {
      "image/png": "[encoded data removed]",
      "text/plain": [
       "<Figure size 432x288 with 1 Axes>"
      ]
     },
     "metadata": {
      "needs_background": "light"
     },
     "output_type": "display_data"
    }
   ],
   "source": [
    "from sympy.plotting import plot\n",
    "p1 = plot(f1, f2, (x,-1,5),\n",
    "         legend=True, show=False)\n",
    "p1[0].line_color = 'b'\n",
    "p1[1].line_color = 'r'\n",
    "p1.show()"
   ]
  },
  {
   "cell_type": "code",
   "execution_count": 156,
   "metadata": {},
   "outputs": [],
   "source": [
    "x00 = solve(f1-f2,x)[0]"
   ]
  },
  {
   "cell_type": "code",
   "execution_count": 157,
   "metadata": {},
   "outputs": [
    {
     "data": {
      "image/png": "[encoded data removed]",
      "text/latex": [
       "$\\displaystyle \\frac{x^{2}}{2}$"
      ],
      "text/plain": [
       " 2\n",
       "x \n",
       "──\n",
       "2 "
      ]
     },
     "execution_count": 157,
     "metadata": {},
     "output_type": "execute_result"
    }
   ],
   "source": [
    "g1 =  integrate(f1.subs({x:t}),(t,0,x))\n",
    "g1"
   ]
  },
  {
   "cell_type": "code",
   "execution_count": 158,
   "metadata": {},
   "outputs": [
    {
     "data": {
      "image/png": "[encoded data removed]",
      "text/latex": [
       "$\\displaystyle - \\frac{3 x^{2}}{2} + 12 x - 18$"
      ],
      "text/plain": [
       "     2            \n",
       "  3⋅x             \n",
       "- ──── + 12⋅x - 18\n",
       "   2              "
      ]
     },
     "execution_count": 158,
     "metadata": {},
     "output_type": "execute_result"
    }
   ],
   "source": [
    "integrate(f2.subs({x:t}),(t,x00,x))+g1.subs({x:x00})"
   ]
  },
  {
   "cell_type": "code",
   "execution_count": 159,
   "metadata": {},
   "outputs": [
    {
     "data": {
      "image/png": "[encoded data removed]",
      "text/latex": [
       "$\\displaystyle - \\frac{3 x^{2}}{2} + 12 x - 18$"
      ],
      "text/plain": [
       "     2            \n",
       "  3⋅x             \n",
       "- ──── + 12⋅x - 18\n",
       "   2              "
      ]
     },
     "execution_count": 159,
     "metadata": {},
     "output_type": "execute_result"
    }
   ],
   "source": [
    "g2 =  integrate(f2.subs({x:t}),(t,3,x))+g1.subs({x:3})\n",
    "g2"
   ]
  },
  {
   "cell_type": "code",
   "execution_count": 160,
   "metadata": {},
   "outputs": [
    {
     "data": {
      "image/png": "[encoded data removed]",
      "text/plain": [
       "<Figure size 432x288 with 1 Axes>"
      ]
     },
     "metadata": {
      "needs_background": "light"
     },
     "output_type": "display_data"
    }
   ],
   "source": [
    "from sympy.plotting import plot\n",
    "p1 = plot(g1, g2, (x,-1,5),\n",
    "         legend=True, show=False)\n",
    "p1[0].line_color = 'b'\n",
    "p1[1].line_color = 'r'\n",
    "p1.show()"
   ]
  },
  {
   "cell_type": "markdown",
   "metadata": {},
   "source": [
    "## (b)\n",
    "曲線$y=g(x)$を$C$とする．$C$上の点P$(a,\\,g(a))$(ただし，$0 < a < 3$)における$C$の接線$l$の傾きは\\fbox{ ク }であるから，$l$の方程式は\n",
    "\\begin{equation*}\n",
    "y= \\fbox{ ク }\\, x-\\frac{\\fbox{ ケ }}{\\fbox{ コ }}\\, a^2\n",
    "\\end{equation*}\n",
    "である．\n"
   ]
  },
  {
   "cell_type": "code",
   "execution_count": 161,
   "metadata": {},
   "outputs": [
    {
     "data": {
      "image/png": "[encoded data removed]",
      "text/latex": [
       "$\\displaystyle x$"
      ],
      "text/plain": [
       "x"
      ]
     },
     "execution_count": 161,
     "metadata": {},
     "output_type": "execute_result"
    }
   ],
   "source": [
    "diff(g1,x)"
   ]
  },
  {
   "cell_type": "code",
   "execution_count": 162,
   "metadata": {},
   "outputs": [
    {
     "data": {
      "image/png": "[encoded data removed]",
      "text/latex": [
       "$\\displaystyle - \\frac{a^{2}}{2} + a x$"
      ],
      "text/plain": [
       "   2      \n",
       "  a       \n",
       "- ── + a⋅x\n",
       "  2       "
      ]
     },
     "execution_count": 162,
     "metadata": {},
     "output_type": "execute_result"
    }
   ],
   "source": [
    "yl = diff(g1,x).subs({x:a})*(x-a)+g1.subs({x:a})\n",
    "expand(yl)"
   ]
  },
  {
   "cell_type": "markdown",
   "metadata": {},
   "source": [
    "\n",
    "## (c)\n",
    "$l$と$x$軸の交点をQとするとQの座標は\n",
    "\\begin{equation*}\n",
    "\\left(\\frac{\\fbox{ サ }}{\\fbox{ シ }}\\,a,\\, 0\\right)\n",
    "\\end{equation*}\n",
    "であり，$l$と$C$のP以外の交点をRとするとRの座標は\n",
    "\\begin{equation*}\n",
    "\\left(\\fbox{ ス }\\,-a,\\,\\fbox{ セ }\\,a-\\frac{\\fbox{ ソ }}{\\fbox{ タ }}\\,a^2\\right)\n",
    "\\end{equation*}\n",
    "である．\n"
   ]
  },
  {
   "cell_type": "code",
   "execution_count": 163,
   "metadata": {},
   "outputs": [
    {
     "data": {
      "image/png": "[encoded data removed]",
      "text/latex": [
       "$\\displaystyle \\frac{a}{2}$"
      ],
      "text/plain": [
       "a\n",
       "─\n",
       "2"
      ]
     },
     "execution_count": 163,
     "metadata": {},
     "output_type": "execute_result"
    }
   ],
   "source": [
    "s1=solve(yl,x)\n",
    "qx = s1[0]\n",
    "qx"
   ]
  },
  {
   "cell_type": "code",
   "execution_count": 164,
   "metadata": {},
   "outputs": [
    {
     "data": {
      "image/png": "[encoded data removed]",
      "text/latex": [
       "$\\displaystyle \\left[ 6 - a, \\  \\frac{a}{3} + 2\\right]$"
      ],
      "text/plain": [
       "⎡       a    ⎤\n",
       "⎢6 - a, ─ + 2⎥\n",
       "⎣       3    ⎦"
      ]
     },
     "execution_count": 164,
     "metadata": {},
     "output_type": "execute_result"
    }
   ],
   "source": [
    "s2=solve(yl-g2,x)\n",
    "s2"
   ]
  },
  {
   "cell_type": "code",
   "execution_count": 165,
   "metadata": {},
   "outputs": [
    {
     "data": {
      "image/png": "[encoded data removed]",
      "text/latex": [
       "$\\displaystyle 6 - a$"
      ],
      "text/plain": [
       "6 - a"
      ]
     },
     "execution_count": 165,
     "metadata": {},
     "output_type": "execute_result"
    }
   ],
   "source": [
    "rx=s2[0]\n",
    "rx"
   ]
  },
  {
   "cell_type": "code",
   "execution_count": 166,
   "metadata": {},
   "outputs": [
    {
     "data": {
      "image/png": "[encoded data removed]",
      "text/latex": [
       "$\\displaystyle - \\frac{3 a^{2}}{2} + 6 a$"
      ],
      "text/plain": [
       "     2      \n",
       "  3⋅a       \n",
       "- ──── + 6⋅a\n",
       "   2        "
      ]
     },
     "execution_count": 166,
     "metadata": {},
     "output_type": "execute_result"
    }
   ],
   "source": [
    "ry = expand(g2.subs({x:rx}))\n",
    "ry"
   ]
  },
  {
   "cell_type": "markdown",
   "metadata": {},
   "source": [
    "\n",
    "## (d)\n",
    "Rから$x$軸に垂線を引き，$x$軸と交わる点をHとするとき，三角形QRHの面積$S$は\n",
    "\\begin{equation}\n",
    "S = \\frac{\\fbox{ チ }}{\\fbox{ ツ }}\\,a^3- \\fbox{ テ }\\,a^2 + \\fbox{ トナ }\\,a  \\,\\,\\,\\, (1)\n",
    "\\end{equation}\n",
    "である．$S$は$a=\\frac{\\fbox{ 二 }}{\\fbox{ ヌ }}$のとき最大値をとる． \n",
    "\n",
    "\\footnote{2003年度大学入試センター試験数学II・数学B第2問改}(5点)\n"
   ]
  },
  {
   "cell_type": "code",
   "execution_count": 167,
   "metadata": {},
   "outputs": [
    {
     "data": {
      "image/png": "[encoded data removed]",
      "text/latex": [
       "$\\displaystyle \\frac{9 a^{3}}{8} - 9 a^{2} + 18 a$"
      ],
      "text/plain": [
       "   3              \n",
       "9⋅a       2       \n",
       "──── - 9⋅a  + 18⋅a\n",
       " 8                "
      ]
     },
     "execution_count": 167,
     "metadata": {},
     "output_type": "execute_result"
    }
   ],
   "source": [
    "S = expand((rx-qx)*ry/2)\n",
    "S"
   ]
  },
  {
   "cell_type": "code",
   "execution_count": 168,
   "metadata": {
    "scrolled": false
   },
   "outputs": [
    {
     "data": {
      "image/png": "[encoded data removed]",
      "text/latex": [
       "$\\displaystyle \\left[ \\frac{4}{3}, \\  4\\right]$"
      ],
      "text/plain": [
       "[4/3, 4]"
      ]
     },
     "execution_count": 168,
     "metadata": {},
     "output_type": "execute_result"
    }
   ],
   "source": [
    "solve(diff(S,a),a)"
   ]
  },
  {
   "cell_type": "markdown",
   "metadata": {},
   "source": [
    "# 5\n",
    "大問4.において，関数$f(x)$として\n",
    "\\begin{eqnarray*}\n",
    "x \\leqq x_0 &のとき& f(x)=x \\\\\n",
    "x > x_0 &のとき& f(x)=-3.1x+12\n",
    "\\end{eqnarray*}\n",
    "を考える．2つの直線が交わる点を$x_0$として，それ以降の領域を読み替えて問題を解け．ただし係数を変えたので， $\\fbox{ ア }，\\fbox{ イウ }$ 等の箱にはこだわらず，小数が入る．特にRの座標以降2次方程式の解の平方根が残り，(1)式では定数項も残るがビビらんように．(20点)\n"
   ]
  },
  {
   "cell_type": "code",
   "execution_count": 13,
   "metadata": {},
   "outputs": [],
   "source": [
    "from sympy import *\n",
    "a, x, t, x0,y0 = symbols('a x t x0 y0')\n",
    "f1 = x\n",
    "f2=-3.1*x+12"
   ]
  },
  {
   "cell_type": "code",
   "execution_count": 14,
   "metadata": {},
   "outputs": [
    {
     "data": {
      "image/png": "[encoded data removed]",
      "text/plain": [
       "<Figure size 432x288 with 1 Axes>"
      ]
     },
     "metadata": {
      "needs_background": "light"
     },
     "output_type": "display_data"
    }
   ],
   "source": [
    "from sympy.plotting import plot\n",
    "p1 = plot(f1, f2, (x,-1,5),\n",
    "         legend=True, show=False)\n",
    "p1[0].line_color = 'b'\n",
    "p1[1].line_color = 'r'\n",
    "p1.show()"
   ]
  },
  {
   "cell_type": "code",
   "execution_count": 15,
   "metadata": {},
   "outputs": [
    {
     "data": {
      "text/latex": [
       "$\\displaystyle 2.92682926829268$"
      ],
      "text/plain": [
       "2.92682926829268"
      ]
     },
     "execution_count": 15,
     "metadata": {},
     "output_type": "execute_result"
    }
   ],
   "source": [
    "x00 = solve(f1-f2,x)[0]\n",
    "x00"
   ]
  },
  {
   "cell_type": "code",
   "execution_count": 16,
   "metadata": {},
   "outputs": [
    {
     "data": {
      "text/latex": [
       "$\\displaystyle \\frac{x^{2}}{2}$"
      ],
      "text/plain": [
       "x**2/2"
      ]
     },
     "execution_count": 16,
     "metadata": {},
     "output_type": "execute_result"
    }
   ],
   "source": [
    "g1 =  integrate(f1.subs({x:t}),(t,0,x))\n",
    "g1"
   ]
  },
  {
   "cell_type": "code",
   "execution_count": 17,
   "metadata": {},
   "outputs": [],
   "source": [
    "g2 = integrate(f2.subs({x:t}),(t,x00,x))+g1.subs({x:x00})"
   ]
  },
  {
   "cell_type": "code",
   "execution_count": 18,
   "metadata": {},
   "outputs": [
    {
     "data": {
      "image/png": "[encoded data removed]",
      "text/plain": [
       "<Figure size 432x288 with 1 Axes>"
      ]
     },
     "metadata": {
      "needs_background": "light"
     },
     "output_type": "display_data"
    }
   ],
   "source": [
    "from sympy.plotting import plot\n",
    "p1 = plot(g1, g2, (x,-1,5),\n",
    "         legend=True, show=False)\n",
    "p1[0].line_color = 'b'\n",
    "p1[1].line_color = 'r'\n",
    "p1.show()"
   ]
  },
  {
   "cell_type": "code",
   "execution_count": 19,
   "metadata": {},
   "outputs": [
    {
     "data": {
      "text/latex": [
       "$\\displaystyle x$"
      ],
      "text/plain": [
       "x"
      ]
     },
     "execution_count": 19,
     "metadata": {},
     "output_type": "execute_result"
    }
   ],
   "source": [
    "diff(g1,x)"
   ]
  },
  {
   "cell_type": "code",
   "execution_count": 20,
   "metadata": {},
   "outputs": [
    {
     "data": {
      "text/latex": [
       "$\\displaystyle - \\frac{a^{2}}{2} + a x$"
      ],
      "text/plain": [
       "-a**2/2 + a*x"
      ]
     },
     "execution_count": 20,
     "metadata": {},
     "output_type": "execute_result"
    }
   ],
   "source": [
    "yl = diff(g1,x).subs({x:a})*(x-a)+g1.subs({x:a})\n",
    "expand(yl)"
   ]
  },
  {
   "cell_type": "code",
   "execution_count": 21,
   "metadata": {},
   "outputs": [
    {
     "data": {
      "text/latex": [
       "$\\displaystyle \\frac{a}{2}$"
      ],
      "text/plain": [
       "a/2"
      ]
     },
     "execution_count": 21,
     "metadata": {},
     "output_type": "execute_result"
    }
   ],
   "source": [
    "s1=solve(yl,x)\n",
    "qx = s1[0]\n",
    "qx"
   ]
  },
  {
   "cell_type": "code",
   "execution_count": 22,
   "metadata": {},
   "outputs": [
    {
     "data": {
      "text/plain": [
       "[5.78270244512824 - 0.975756668752148*a,\n",
       " 0.330595378429567*a + 1.95923303874273]"
      ]
     },
     "execution_count": 22,
     "metadata": {},
     "output_type": "execute_result"
    }
   ],
   "source": [
    "s2=solve(yl-g2,x)\n",
    "s2"
   ]
  },
  {
   "cell_type": "code",
   "execution_count": 23,
   "metadata": {},
   "outputs": [
    {
     "data": {
      "text/latex": [
       "$\\displaystyle 5.78270244512824 - 0.975756668752148 a$"
      ],
      "text/plain": [
       "5.78270244512824 - 0.975756668752148*a"
      ]
     },
     "execution_count": 23,
     "metadata": {},
     "output_type": "execute_result"
    }
   ],
   "source": [
    "rx=s2[0]\n",
    "rx"
   ]
  },
  {
   "cell_type": "code",
   "execution_count": 24,
   "metadata": {},
   "outputs": [
    {
     "data": {
      "text/latex": [
       "$\\displaystyle - 1.47575666875215 a^{2} + 5.78270244512825 a - 7.105427357601 \\cdot 10^{-15}$"
      ],
      "text/plain": [
       "-1.47575666875215*a**2 + 5.78270244512825*a - 7.105427357601e-15"
      ]
     },
     "execution_count": 24,
     "metadata": {},
     "output_type": "execute_result"
    }
   ],
   "source": [
    "ry = expand(g2.subs({x:rx}))\n",
    "ry"
   ]
  },
  {
   "cell_type": "code",
   "execution_count": 25,
   "metadata": {},
   "outputs": [
    {
     "data": {
      "text/latex": [
       "$\\displaystyle 1.08892887268322 a^{3} - 8.53386169680736 a^{2} + 16.7198237844461 a - 2.05442860772402 \\cdot 10^{-14}$"
      ],
      "text/plain": [
       "1.08892887268322*a**3 - 8.53386169680736*a**2 + 16.7198237844461*a - 2.05442860772402e-14"
      ]
     },
     "execution_count": 25,
     "metadata": {},
     "output_type": "execute_result"
    }
   ],
   "source": [
    "S = expand((rx-qx)*ry/2)\n",
    "S"
   ]
  },
  {
   "cell_type": "code",
   "execution_count": 26,
   "metadata": {
    "scrolled": false
   },
   "outputs": [
    {
     "data": {
      "text/plain": [
       "[1.30615535916183, 3.91846607748545]"
      ]
     },
     "execution_count": 26,
     "metadata": {},
     "output_type": "execute_result"
    }
   ],
   "source": [
    "solve(diff(S,a),a)"
   ]
  }
 ],
 "metadata": {
  "kernelspec": {
   "display_name": "Python 3",
   "language": "python",
   "name": "python3"
  },
  "language_info": {
   "codemirror_mode": {
    "name": "ipython",
    "version": 3
   },
   "file_extension": ".py",
   "mimetype": "text/x-python",
   "name": "python",
   "nbconvert_exporter": "python",
   "pygments_lexer": "ipython3",
   "version": "3.8.5"
  }
 },
 "nbformat": 4,
 "nbformat_minor": 4
}
