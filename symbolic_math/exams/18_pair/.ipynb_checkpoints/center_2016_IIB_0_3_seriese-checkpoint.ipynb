{
 "cells": [
  {
   "cell_type": "markdown",
   "metadata": {
    "toc": "true"
   },
   "source": [
    "# Table of Contents\n",
    " <p><div class=\"lev1 toc-item\"><a href=\"#センター試験数学2017_IIB(本)第3問\" data-toc-modified-id=\"センター試験数学2017_IIB(本)第3問-1\"><span class=\"toc-item-num\">1&nbsp;&nbsp;</span>センター試験数学2017_IIB(本)第3問</a></div><div class=\"lev2 toc-item\"><a href=\"#(1)\" data-toc-modified-id=\"(1)-11\"><span class=\"toc-item-num\">1.1&nbsp;&nbsp;</span>(1)</a></div><div class=\"lev1 toc-item\"><a href=\"#(2)\" data-toc-modified-id=\"(2)-2\"><span class=\"toc-item-num\">2&nbsp;&nbsp;</span>(2)</a></div><div class=\"lev1 toc-item\"><a href=\"#(3)\" data-toc-modified-id=\"(3)-3\"><span class=\"toc-item-num\">3&nbsp;&nbsp;</span>(3)</a></div>"
   ]
  },
  {
   "cell_type": "markdown",
   "metadata": {
    "collapsed": true
   },
   "source": [
    "# センター試験数学2017_IIB(本)第3問\n",
    "\n",
    "## (1)"
   ]
  },
  {
   "cell_type": "code",
   "execution_count": 1,
   "metadata": {
    "scrolled": true
   },
   "outputs": [
    {
     "name": "stdout",
     "output_type": "stream",
     "text": [
      "IPython console for SymPy 1.0 (Python 3.6.1-64-bit) (ground types: python)\n",
      "\n",
      "These commands were executed:\n",
      ">>> from __future__ import division\n",
      ">>> from sympy import *\n",
      ">>> x, y, z, t = symbols('x y z t')\n",
      ">>> k, m, n = symbols('k m n', integer=True)\n",
      ">>> f, g, h = symbols('f g h', cls=Function)\n",
      ">>> init_printing()\n",
      "\n",
      "Documentation can be found at http://docs.sympy.org/1.0/\n"
     ]
    }
   ],
   "source": [
    "from sympy import *\n",
    "init_session()\n",
    "n,a,b,r,Un=symbols('n,a,b,r,Un')"
   ]
  },
  {
   "cell_type": "code",
   "execution_count": 2,
   "metadata": {},
   "outputs": [
    {
     "data": {
      "image/png": "[encoded data removed]",
      "text/latex": [
       "$$8$$"
      ],
      "text/plain": [
       "8"
      ]
     },
     "execution_count": 2,
     "metadata": {},
     "output_type": "execute_result"
    }
   ],
   "source": [
    "def s(n):\n",
    "    return 1*2**(n-1)\n",
    "\n",
    "s(1)*s(2)*s(3)\n"
   ]
  },
  {
   "cell_type": "code",
   "execution_count": 3,
   "metadata": {},
   "outputs": [
    {
     "data": {
      "image/png": "[encoded data removed]",
      "text/latex": [
       "$$7$$"
      ],
      "text/plain": [
       "7"
      ]
     },
     "execution_count": 3,
     "metadata": {},
     "output_type": "execute_result"
    }
   ],
   "source": [
    "s(1)+s(2)+s(3)"
   ]
  },
  {
   "cell_type": "markdown",
   "metadata": {},
   "source": [
    "# (2)"
   ]
  },
  {
   "cell_type": "code",
   "execution_count": 4,
   "metadata": {},
   "outputs": [
    {
     "data": {
      "image/png": "[encoded data removed]",
      "text/latex": [
       "$$r^{3} x^{3}$$"
      ],
      "text/plain": [
       " 3  3\n",
       "r ⋅x "
      ]
     },
     "execution_count": 4,
     "metadata": {},
     "output_type": "execute_result"
    }
   ],
   "source": [
    "def s(n):\n",
    "    return x*r**(n-1)\n",
    "\n",
    "eq1=s(1)*s(2)*s(3)\n",
    "eq1"
   ]
  },
  {
   "cell_type": "code",
   "execution_count": 5,
   "metadata": {},
   "outputs": [
    {
     "data": {
      "image/png": "[encoded data removed]",
      "text/latex": [
       "$$- b + r^{2} x + r x + x$$"
      ],
      "text/plain": [
       "      2            \n",
       "-b + r ⋅x + r⋅x + x"
      ]
     },
     "execution_count": 5,
     "metadata": {},
     "output_type": "execute_result"
    }
   ],
   "source": [
    "eq2=s(1)+s(2)+s(3)-b\n",
    "eq2"
   ]
  },
  {
   "cell_type": "code",
   "execution_count": 6,
   "metadata": {},
   "outputs": [
    {
     "data": {
      "image/png": "[encoded data removed]",
      "text/latex": [
       "$$\\left [ \\frac{a}{r}, \\quad \\frac{a}{r} \\left(- \\frac{1}{2} - \\frac{\\sqrt{3} i}{2}\\right), \\quad \\frac{a}{r} \\left(- \\frac{1}{2} + \\frac{\\sqrt{3} i}{2}\\right)\\right ]$$"
      ],
      "text/plain": [
       "⎡     ⎛  1   √3⋅ⅈ⎞    ⎛  1   √3⋅ⅈ⎞⎤\n",
       "⎢   a⋅⎜- ─ - ────⎟  a⋅⎜- ─ + ────⎟⎥\n",
       "⎢a    ⎝  2    2  ⎠    ⎝  2    2  ⎠⎥\n",
       "⎢─, ──────────────, ──────────────⎥\n",
       "⎣r        r               r       ⎦"
      ]
     },
     "execution_count": 6,
     "metadata": {},
     "output_type": "execute_result"
    }
   ],
   "source": [
    "s1=solve(eq1-a**3,x)\n",
    "s1"
   ]
  },
  {
   "cell_type": "code",
   "execution_count": 7,
   "metadata": {},
   "outputs": [
    {
     "data": {
      "image/png": "[encoded data removed]",
      "text/latex": [
       "$$\\frac{a}{r} - x$$"
      ],
      "text/plain": [
       "a    \n",
       "─ - x\n",
       "r    "
      ]
     },
     "execution_count": 7,
     "metadata": {},
     "output_type": "execute_result"
    }
   ],
   "source": [
    "eq3=s1[0]-x\n",
    "eq3"
   ]
  },
  {
   "cell_type": "code",
   "execution_count": 8,
   "metadata": {},
   "outputs": [
    {
     "data": {
      "image/png": "[encoded data removed]",
      "text/latex": [
       "$$a r + a + \\frac{a}{r} - b$$"
      ],
      "text/plain": [
       "          a    \n",
       "a⋅r + a + ─ - b\n",
       "          r    "
      ]
     },
     "execution_count": 8,
     "metadata": {},
     "output_type": "execute_result"
    }
   ],
   "source": [
    "eq2.subs({x:s1[0]})"
   ]
  },
  {
   "cell_type": "code",
   "execution_count": 9,
   "metadata": {},
   "outputs": [
    {
     "data": {
      "image/png": "[encoded data removed]",
      "text/latex": [
       "$$a r^{2} + a + r \\left(a - b\\right)$$"
      ],
      "text/plain": [
       "   2                \n",
       "a⋅r  + a + r⋅(a - b)"
      ]
     },
     "execution_count": 9,
     "metadata": {},
     "output_type": "execute_result"
    }
   ],
   "source": [
    "eq4=collect(expand(eq2.subs({x:s1[0]})*r),r)\n",
    "eq4"
   ]
  },
  {
   "cell_type": "code",
   "execution_count": 10,
   "metadata": {
    "collapsed": true
   },
   "outputs": [],
   "source": [
    "DD=(a-b)**2-4*a*a"
   ]
  },
  {
   "cell_type": "code",
   "execution_count": 11,
   "metadata": {},
   "outputs": [
    {
     "data": {
      "image/png": "[encoded data removed]",
      "text/latex": [
       "$$- 3 a^{2} - 2 a b + b^{2}$$"
      ],
      "text/plain": [
       "     2            2\n",
       "- 3⋅a  - 2⋅a⋅b + b "
      ]
     },
     "execution_count": 11,
     "metadata": {},
     "output_type": "execute_result"
    }
   ],
   "source": [
    "expand(DD)"
   ]
  },
  {
   "cell_type": "markdown",
   "metadata": {},
   "source": [
    "# (3)"
   ]
  },
  {
   "cell_type": "code",
   "execution_count": 12,
   "metadata": {},
   "outputs": [
    {
     "data": {
      "image/png": "[encoded data removed]",
      "text/latex": [
       "$$\\left [ \\frac{1}{4}, \\quad 4\\right ]$$"
      ],
      "text/plain": [
       "[1/4, 4]"
      ]
     },
     "execution_count": 12,
     "metadata": {},
     "output_type": "execute_result"
    }
   ],
   "source": [
    "s1=solve(eq4.subs({a:64,b:336}),r)\n",
    "s1"
   ]
  },
  {
   "cell_type": "code",
   "execution_count": 13,
   "metadata": {},
   "outputs": [
    {
     "data": {
      "image/png": "[encoded data removed]",
      "text/latex": [
       "$$4$$"
      ],
      "text/plain": [
       "4"
      ]
     },
     "execution_count": 13,
     "metadata": {},
     "output_type": "execute_result"
    }
   ],
   "source": [
    "s1[1]"
   ]
  },
  {
   "cell_type": "code",
   "execution_count": 14,
   "metadata": {},
   "outputs": [
    {
     "data": {
      "image/png": "[encoded data removed]",
      "text/latex": [
       "$$\\left [ 16\\right ]$$"
      ],
      "text/plain": [
       "[16]"
      ]
     },
     "execution_count": 14,
     "metadata": {},
     "output_type": "execute_result"
    }
   ],
   "source": [
    "solve(eq3.subs({r:s1[1],a:64}),x)"
   ]
  },
  {
   "cell_type": "code",
   "execution_count": 15,
   "metadata": {},
   "outputs": [
    {
     "data": {
      "image/png": "[encoded data removed]",
      "text/latex": [
       "$$\\frac{r^{n - 1} x}{\\log{\\left (4 \\right )}} \\log{\\left (r^{n - 1} x \\right )}$$"
      ],
      "text/plain": [
       " n - 1      ⎛ n - 1  ⎞\n",
       "r     ⋅x⋅log⎝r     ⋅x⎠\n",
       "──────────────────────\n",
       "        log(4)        "
      ]
     },
     "execution_count": 15,
     "metadata": {},
     "output_type": "execute_result"
    }
   ],
   "source": [
    "s(n)*log(s(n),4)"
   ]
  },
  {
   "cell_type": "code",
   "execution_count": 16,
   "metadata": {},
   "outputs": [
    {
     "data": {
      "image/png": "[encoded data removed]",
      "text/latex": [
       "$$\\frac{2 \\cdot 4^{n} \\log{\\left (4^{n} \\right )}}{\\log{\\left (2 \\right )}} + 4 \\cdot 4^{n}$$"
      ],
      "text/plain": [
       "   n    ⎛ n⎞       \n",
       "2⋅4 ⋅log⎝4 ⎠      n\n",
       "──────────── + 4⋅4 \n",
       "   log(2)          "
      ]
     },
     "execution_count": 16,
     "metadata": {},
     "output_type": "execute_result"
    }
   ],
   "source": [
    "tn_0=(s(n)*log(s(n),4)).subs({r:4,x:16})\n",
    "expand(tn_0)"
   ]
  },
  {
   "cell_type": "code",
   "execution_count": 17,
   "metadata": {},
   "outputs": [
    {
     "data": {
      "image/png": "[encoded data removed]",
      "text/latex": [
       "$$4 \\cdot 4^{n} n + 4 \\cdot 4^{n}$$"
      ],
      "text/plain": [
       "   n        n\n",
       "4⋅4 ⋅n + 4⋅4 "
      ]
     },
     "execution_count": 17,
     "metadata": {},
     "output_type": "execute_result"
    }
   ],
   "source": [
    "collect(expand(tn_0).subs({log(4**n):2*n*log(2)}),n)"
   ]
  },
  {
   "cell_type": "code",
   "execution_count": 18,
   "metadata": {
    "collapsed": true
   },
   "outputs": [],
   "source": [
    "def t(n):\n",
    "    return (n+1)*4**(n+1)"
   ]
  },
  {
   "cell_type": "code",
   "execution_count": 19,
   "metadata": {},
   "outputs": [
    {
     "data": {
      "image/png": "[encoded data removed]",
      "text/latex": [
       "$$32$$"
      ],
      "text/plain": [
       "32"
      ]
     },
     "execution_count": 19,
     "metadata": {},
     "output_type": "execute_result"
    }
   ],
   "source": [
    "t(1)"
   ]
  },
  {
   "cell_type": "code",
   "execution_count": 20,
   "metadata": {},
   "outputs": [
    {
     "data": {
      "image/png": "[encoded data removed]",
      "text/latex": [
       "$$4^{n + 1} \\left(n + 1\\right)$$"
      ],
      "text/plain": [
       " n + 1        \n",
       "4     ⋅(n + 1)"
      ]
     },
     "execution_count": 20,
     "metadata": {},
     "output_type": "execute_result"
    }
   ],
   "source": [
    "t(n)"
   ]
  },
  {
   "cell_type": "code",
   "execution_count": 21,
   "metadata": {},
   "outputs": [
    {
     "data": {
      "image/png": "[encoded data removed]",
      "text/latex": [
       "$$\\frac{64}{3} 4^{n - 1} - 4 \\cdot 4^{n + 1} \\left(n + 1\\right) + 3 Un + \\frac{32}{3}$$"
      ],
      "text/plain": [
       "    n - 1                               \n",
       "64⋅4           n + 1                  32\n",
       "───────── - 4⋅4     ⋅(n + 1) + 3⋅Un + ──\n",
       "    3                                 3 "
      ]
     },
     "execution_count": 21,
     "metadata": {},
     "output_type": "execute_result"
    }
   ],
   "source": [
    "eq_f=3*Un+t(1)+4**3*(1-4**(n-1))/(-3)-4*t(n)\n",
    "eq_f"
   ]
  },
  {
   "cell_type": "code",
   "execution_count": 22,
   "metadata": {
    "scrolled": true
   },
   "outputs": [
    {
     "data": {
      "image/png": "[encoded data removed]",
      "text/latex": [
       "$$\\left [ \\frac{16 n}{3} 2^{2 n} + \\frac{32}{9} 2^{2 n} - \\frac{32}{9}\\right ]$$"
      ],
      "text/plain": [
       "⎡    2⋅n         2⋅n     ⎤\n",
       "⎢16⋅2   ⋅n   32⋅2      32⎥\n",
       "⎢───────── + ─────── - ──⎥\n",
       "⎣    3          9      9 ⎦"
      ]
     },
     "execution_count": 22,
     "metadata": {},
     "output_type": "execute_result"
    }
   ],
   "source": [
    "solve(eq_f,Un)"
   ]
  },
  {
   "cell_type": "code",
   "execution_count": null,
   "metadata": {
    "collapsed": true
   },
   "outputs": [],
   "source": []
  }
 ],
 "metadata": {
  "kernelspec": {
   "display_name": "Python 3",
   "language": "python",
   "name": "python3"
  },
  "language_info": {
   "codemirror_mode": {
    "name": "ipython",
    "version": 3
   },
   "file_extension": ".py",
   "mimetype": "text/x-python",
   "name": "python",
   "nbconvert_exporter": "python",
   "pygments_lexer": "ipython3",
   "version": "3.6.1"
  },
  "latex_envs": {
   "LaTeX_envs_menu_present": true,
   "autocomplete": true,
   "bibliofile": "biblio.bib",
   "cite_by": "apalike",
   "current_citInitial": 1,
   "eqLabelWithNumbers": true,
   "eqNumInitial": 1,
   "hotkeys": {
    "equation": "Ctrl-E",
    "itemize": "Ctrl-I"
   },
   "labels_anchors": false,
   "latex_user_defs": false,
   "report_style_numbering": false,
   "user_envs_cfg": false
  },
  "toc": {
   "colors": {
    "hover_highlight": "#DAA520",
    "navigate_num": "#000000",
    "navigate_text": "#333333",
    "running_highlight": "#FF0000",
    "selected_highlight": "#FFD700",
    "sidebar_border": "#EEEEEE",
    "wrapper_background": "#FFFFFF"
   },
   "moveMenuLeft": true,
   "nav_menu": {
    "height": "13px",
    "width": "253px"
   },
   "navigate_menu": true,
   "number_sections": true,
   "sideBar": true,
   "threshold": 4,
   "toc_cell": true,
   "toc_section_display": "block",
   "toc_window_display": true,
   "widenNotebook": false
  }
 },
 "nbformat": 4,
 "nbformat_minor": 2
}
