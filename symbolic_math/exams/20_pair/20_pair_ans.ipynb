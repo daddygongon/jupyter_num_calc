{
 "cells": [
  {
   "cell_type": "markdown",
   "metadata": {
    "toc": "true"
   },
   "source": [
    "<h1>Table of Contents<span class=\"tocSkip\"></span></h1>\n",
    "<div class=\"toc\"><ul class=\"toc-item\"><li><span><a href=\"#微積分\" data-toc-modified-id=\"微積分-1\"><span class=\"toc-item-num\">1&nbsp;&nbsp;</span>微積分</a></span><ul class=\"toc-item\"><li><span><a href=\"#ソフトマックス関数の概形(15点)\" data-toc-modified-id=\"ソフトマックス関数の概形(15点)-1.1\"><span class=\"toc-item-num\">1.1&nbsp;&nbsp;</span>ソフトマックス関数の概形(15点)</a></span></li><li><span><a href=\"#3D関数のプロット(15点)\" data-toc-modified-id=\"3D関数のプロット(15点)-1.2\"><span class=\"toc-item-num\">1.2&nbsp;&nbsp;</span>3D関数のプロット(15点)</a></span></li></ul></li><li><span><a href=\"#線形代数\" data-toc-modified-id=\"線形代数-2\"><span class=\"toc-item-num\">2&nbsp;&nbsp;</span>線形代数</a></span><ul class=\"toc-item\"><li><span><a href=\"#線形結合の確認(p.173,-5-39)(15点)\" data-toc-modified-id=\"線形結合の確認(p.173,-5-39)(15点)-2.1\"><span class=\"toc-item-num\">2.1&nbsp;&nbsp;</span>線形結合の確認(p.173, 5-39)(15点)</a></span></li><li><span><a href=\"#解析解の確認(p.177,-5-60)(15点)\" data-toc-modified-id=\"解析解の確認(p.177,-5-60)(15点)-2.2\"><span class=\"toc-item-num\">2.2&nbsp;&nbsp;</span>解析解の確認(p.177, 5-60)(15点)</a></span></li></ul></li><li><span><a href=\"#センター試験原題(10点)\" data-toc-modified-id=\"センター試験原題(10点)-3\"><span class=\"toc-item-num\">3&nbsp;&nbsp;</span>センター試験原題(10点)</a></span></li><li><span><a href=\"#数値改変(30点)\" data-toc-modified-id=\"数値改変(30点)-4\"><span class=\"toc-item-num\">4&nbsp;&nbsp;</span>数値改変(30点)</a></span></li></ul></div>"
   ]
  },
  {
   "cell_type": "markdown",
   "metadata": {},
   "source": [
    "<div style=\"text-align: center;\">\n",
    "   <font size=\"5\"> 2020年度　数式処理演習　pair試験問題 </font>\n",
    "</div>\n",
    "   <div style=\"text-align: right;\">\n",
    "   <font size=\"3\"> cc by Shigeto R. Nishitani, 2020/11/26 実施 </font>\n",
    "</div>\n",
    "\n",
    "* file: ~/symboic_math/exams/20_pre_ans.ipynb\n",
    "\n",
    "以下の問題をpythonで解き，LUNAへ提出せよ．LUNAへはipynbとpdf形式の２種類を提出すること．"
   ]
  },
  {
   "cell_type": "markdown",
   "metadata": {},
   "source": [
    "# 微積分\n",
    "## ソフトマックス関数の概形(15点)\n",
    "ソフトマックス関数\n",
    "    \\begin{equation*}\n",
    "      f(x) = \\frac{1}{1+e^{-x}}\n",
    "    \\end{equation*}\n",
    "    の増減，極値，凹凸を調べ，曲線$y=f(x)$の概形を描け．"
   ]
  },
  {
   "cell_type": "code",
   "execution_count": 1,
   "metadata": {},
   "outputs": [
    {
     "data": {
      "text/latex": [
       "$\\displaystyle \\frac{1}{1 + e^{- x}}$"
      ],
      "text/plain": [
       "1/(1 + exp(-x))"
      ]
     },
     "execution_count": 1,
     "metadata": {},
     "output_type": "execute_result"
    }
   ],
   "source": [
    "from sympy import *\n",
    "x, y  = symbols('x y')\n",
    "\n",
    "f = 1/(1+exp(-x))\n",
    "f"
   ]
  },
  {
   "cell_type": "code",
   "execution_count": 2,
   "metadata": {},
   "outputs": [
    {
     "data": {
      "text/latex": [
       "$\\displaystyle \\frac{e^{- x}}{\\left(1 + e^{- x}\\right)^{2}}$"
      ],
      "text/plain": [
       "exp(-x)/(1 + exp(-x))**2"
      ]
     },
     "execution_count": 2,
     "metadata": {},
     "output_type": "execute_result"
    }
   ],
   "source": [
    "df = f.diff(x)\n",
    "df"
   ]
  },
  {
   "cell_type": "code",
   "execution_count": 3,
   "metadata": {},
   "outputs": [
    {
     "data": {
      "text/latex": [
       "$\\displaystyle \\frac{\\left(-1 + \\frac{2 e^{- x}}{1 + e^{- x}}\\right) e^{- x}}{\\left(1 + e^{- x}\\right)^{2}}$"
      ],
      "text/plain": [
       "(-1 + 2*exp(-x)/(1 + exp(-x)))*exp(-x)/(1 + exp(-x))**2"
      ]
     },
     "execution_count": 3,
     "metadata": {},
     "output_type": "execute_result"
    }
   ],
   "source": [
    "df2 = f.diff(x,x)\n",
    "df2"
   ]
  },
  {
   "cell_type": "code",
   "execution_count": 4,
   "metadata": {},
   "outputs": [
    {
     "data": {
      "image/png": "[encoded data removed]",
      "text/plain": [
       "<Figure size 432x288 with 1 Axes>"
      ]
     },
     "metadata": {
      "needs_background": "light"
     },
     "output_type": "display_data"
    },
    {
     "data": {
      "text/plain": [
       "<sympy.plotting.plot.Plot at 0x7fd634e6db50>"
      ]
     },
     "execution_count": 4,
     "metadata": {},
     "output_type": "execute_result"
    }
   ],
   "source": [
    "%matplotlib inline\n",
    "\n",
    "plot(f,df,df2,(x,-5,5))"
   ]
  },
  {
   "cell_type": "code",
   "execution_count": 5,
   "metadata": {},
   "outputs": [
    {
     "data": {
      "text/plain": [
       "[]"
      ]
     },
     "execution_count": 5,
     "metadata": {},
     "output_type": "execute_result"
    }
   ],
   "source": [
    "solve(df,x)"
   ]
  },
  {
   "cell_type": "code",
   "execution_count": 6,
   "metadata": {
    "scrolled": true
   },
   "outputs": [
    {
     "data": {
      "text/plain": [
       "[0]"
      ]
     },
     "execution_count": 6,
     "metadata": {},
     "output_type": "execute_result"
    }
   ],
   "source": [
    "solve(df2,x)"
   ]
  },
  {
   "cell_type": "markdown",
   "metadata": {},
   "source": [
    "|  x | $-\\infty$ | $\\cdots$   |  0  |   $\\cdots$   | $\\infty$ |\n",
    "| ---- | ----  | ---- | ---- | ---- | ---- |\n",
    "|  f(x) | 0 | $\\nearrow$  |    0.5  |   $\\nearrow$  | 0 |\n",
    "|  f'(x) | 0 |  +  |    +  |  +  |   0 |\n",
    "|  f''(x) | 0 |  +  |  0  |  -  |  0  "
   ]
  },
  {
   "cell_type": "markdown",
   "metadata": {},
   "source": [
    "## 3D関数のプロット(15点)\n",
    "\n",
    "３変数のシグモイド関数で，１変数を固定すると次のような関数となる．\n",
    "``` python\n",
    "import numpy as np\n",
    "\n",
    "def softmax(x,y):\n",
    "    return np.exp(-x)/(np.exp(-x)+np.exp(-y)+np.exp(-1))\n",
    "```\n",
    "\n",
    "この関数を\n",
    "``` python\n",
    "x = np.arange(-4, 4, 0.5)\n",
    "y = np.arange(-4, 4, 0.5)\n",
    "```\n",
    "で３次元プロットせよ．"
   ]
  },
  {
   "cell_type": "code",
   "execution_count": 7,
   "metadata": {},
   "outputs": [],
   "source": [
    "import numpy as np\n",
    "\n",
    "def softmax(x,y):\n",
    "    return np.exp(-x)/(np.exp(-x)+np.exp(-y)+np.exp(-1))"
   ]
  },
  {
   "cell_type": "code",
   "execution_count": 8,
   "metadata": {},
   "outputs": [],
   "source": [
    "from mpl_toolkits.mplot3d import Axes3D\n",
    "import matplotlib.pyplot as plt"
   ]
  },
  {
   "cell_type": "code",
   "execution_count": 9,
   "metadata": {},
   "outputs": [
    {
     "data": {
      "image/png": "[encoded data removed]",
      "text/plain": [
       "<Figure size 432x288 with 1 Axes>"
      ]
     },
     "metadata": {
      "needs_background": "light"
     },
     "output_type": "display_data"
    }
   ],
   "source": [
    "%matplotlib inline\n",
    "\n",
    "x = np.arange(-3, 3, 0.25)\n",
    "y = np.arange(-3, 3, 0.25)\n",
    "X, Y = np.meshgrid(x, y)\n",
    "Z1 = softmax(X,Y)\n",
    "\n",
    "\n",
    "fig = plt.figure()\n",
    "plot3d = Axes3D(fig)\n",
    "plot3d.plot_surface(X,Y,Z1) \n",
    "\n",
    "\n",
    "plt.show()"
   ]
  },
  {
   "cell_type": "markdown",
   "metadata": {},
   "source": [
    "# 線形代数\n",
    "## 線形結合の確認(p.173, 5-39)(15点)\n",
    "\n",
    "sympyを使って，$w^T x$で線形結合が得られることを確認せよ．\n",
    "1. $ w=\\left(\\begin{array}c w_0\\\\w_1\\\\w_2\\end{array}\\right)$, $ x=\\left(\\begin{array}c x_0\\\\x_1\\\\x_2\\end{array}\\right)$を作る．\n",
    "1. wを転置する\n",
    "1. `ww.T*xx`で線形結合となることを確認する．\n",
    "1. `ww*xx.T`では3x3の行列が得られることも確認せよ．"
   ]
  },
  {
   "cell_type": "code",
   "execution_count": 10,
   "metadata": {},
   "outputs": [
    {
     "data": {
      "text/latex": [
       "$\\displaystyle \\left[\\begin{matrix}w_{0}\\\\w_{1}\\\\w_{2}\\end{matrix}\\right]$"
      ],
      "text/plain": [
       "Matrix([\n",
       "[w0],\n",
       "[w1],\n",
       "[w2]])"
      ]
     },
     "execution_count": 10,
     "metadata": {},
     "output_type": "execute_result"
    }
   ],
   "source": [
    "from sympy import *\n",
    "w0,w1,w2  = symbols('w0,w1,w2')\n",
    "x0,x1,x2  = symbols('x0,x1,x2')\n",
    "\n",
    "ww = Matrix([w0,w1,w2])\n",
    "xx = Matrix([x0,x1,x2])\n",
    "ww"
   ]
  },
  {
   "cell_type": "code",
   "execution_count": 11,
   "metadata": {},
   "outputs": [
    {
     "data": {
      "text/latex": [
       "$\\displaystyle \\left[\\begin{matrix}w_{0} x_{0} + w_{1} x_{1} + w_{2} x_{2}\\end{matrix}\\right]$"
      ],
      "text/plain": [
       "Matrix([[w0*x0 + w1*x1 + w2*x2]])"
      ]
     },
     "execution_count": 11,
     "metadata": {},
     "output_type": "execute_result"
    }
   ],
   "source": [
    "ww.T*xx"
   ]
  },
  {
   "cell_type": "code",
   "execution_count": 12,
   "metadata": {
    "scrolled": false
   },
   "outputs": [
    {
     "data": {
      "text/latex": [
       "$\\displaystyle \\left[\\begin{matrix}w_{0} x_{0} & w_{0} x_{1} & w_{0} x_{2}\\\\w_{1} x_{0} & w_{1} x_{1} & w_{1} x_{2}\\\\w_{2} x_{0} & w_{2} x_{1} & w_{2} x_{2}\\end{matrix}\\right]$"
      ],
      "text/plain": [
       "Matrix([\n",
       "[w0*x0, w0*x1, w0*x2],\n",
       "[w1*x0, w1*x1, w1*x2],\n",
       "[w2*x0, w2*x1, w2*x2]])"
      ]
     },
     "execution_count": 12,
     "metadata": {},
     "output_type": "execute_result"
    }
   ],
   "source": [
    "ww*xx.T"
   ]
  },
  {
   "cell_type": "markdown",
   "metadata": {},
   "source": [
    "## 解析解の確認(p.177, 5-60)(15点)\n",
    "\n",
    "``` python\n",
    "xdata=np.array([1,2,3,4])\n",
    "ydata=np.array([0,5,15,24])\n",
    "```\n",
    "を対象データとして，(5-53)にしたがって，N=4, n=3で\n",
    "$$\n",
    "y=a_0 + a_1\\,x +a_2\\, x^2\n",
    "$$\n",
    "に対するfittingを行う．得られたデザイン行列$X$は\n",
    "$$X=\\left(\n",
    "\\begin{array}{@{\\,}ccc@{\\,}}\n",
    "1 & 1 & 1\\\\\n",
    "1 & 2 & 4\\\\\n",
    "1 & 3 & 9\\\\\n",
    "1 & 4 & 16\\\\\\end{array}\n",
    "\\right)$$\n",
    "となる．(5-59)式の左辺の$X^TX$が3x3行列になることを確認せよ．\n",
    "\n",
    "ヒント：https://nbviewer.jupyter.org/github/daddygongon/jupyter_num_calc/blob/master/numerical_calc/least_square_fit.ipynb\n",
    "の「正規方程式(Normal Equations)による解」の「python codeによる具体例」を参照せよ．"
   ]
  },
  {
   "cell_type": "code",
   "execution_count": 13,
   "metadata": {},
   "outputs": [
    {
     "data": {
      "text/plain": [
       "(3, 3)"
      ]
     },
     "execution_count": 13,
     "metadata": {},
     "output_type": "execute_result"
    }
   ],
   "source": [
    "import numpy as np\n",
    "from pprint import pprint\n",
    "import scipy.linalg as linalg\n",
    "\n",
    "X = Matrix([[ 1.,  1.,  1.],\n",
    "       [ 1.,  2.,  4.],\n",
    "       [ 1.,  3.,  9.],\n",
    "       [ 1.,  4., 16.]])\n",
    "\n",
    "np.dot(X.T,X).shape"
   ]
  },
  {
   "cell_type": "markdown",
   "metadata": {},
   "source": [
    "# センター試験原題(10点)\n",
    "(2018大学入試センター試験　追試験 数学II・B 第2問)\n",
    "\n",
    "$a$ を正の実数とし，\n",
    "放物線$y=3x^2$ を$C_1$,\n",
    "放物線$y=2x^2+a^2$ を$C_2$ とする．\n",
    "$C_1$ と$C_2$ の二つの共有点を $x$ 座標の小さい順にA,Bとする．\n",
    "また，$C_1$ と$C_2$ の両方に第1象限で接する直線を$l$ とする．\n",
    "\n",
    "(1) Bの座標を$a$ を用いて表すと\n",
    "$(\\fbox{ ア }\\,, \\fbox{ イ }\\,a^{ \\fbox{ ウ }})$\n",
    "である\n"
   ]
  },
  {
   "cell_type": "code",
   "execution_count": 14,
   "metadata": {},
   "outputs": [],
   "source": [
    "from sympy import *\n",
    "a, s, t, x = symbols('a, s, t, x')"
   ]
  },
  {
   "cell_type": "code",
   "execution_count": 15,
   "metadata": {
    "scrolled": true
   },
   "outputs": [
    {
     "data": {
      "text/latex": [
       "$\\displaystyle 3 x^{2}$"
      ],
      "text/plain": [
       "3*x**2"
      ]
     },
     "execution_count": 15,
     "metadata": {},
     "output_type": "execute_result"
    }
   ],
   "source": [
    "yC1 = 3*x**2\n",
    "yC1"
   ]
  },
  {
   "cell_type": "code",
   "execution_count": 16,
   "metadata": {},
   "outputs": [
    {
     "data": {
      "text/latex": [
       "$\\displaystyle a^{2} + 2 x^{2}$"
      ],
      "text/plain": [
       "a**2 + 2*x**2"
      ]
     },
     "execution_count": 16,
     "metadata": {},
     "output_type": "execute_result"
    }
   ],
   "source": [
    "yC2 = 2*x**2+a**2\n",
    "yC2"
   ]
  },
  {
   "cell_type": "code",
   "execution_count": 17,
   "metadata": {},
   "outputs": [],
   "source": [
    "eq = yC1 - yC2"
   ]
  },
  {
   "cell_type": "code",
   "execution_count": 18,
   "metadata": {},
   "outputs": [
    {
     "data": {
      "text/latex": [
       "$\\displaystyle a$"
      ],
      "text/plain": [
       "a"
      ]
     },
     "execution_count": 18,
     "metadata": {},
     "output_type": "execute_result"
    }
   ],
   "source": [
    "xB = solve(eq,x)[1]\n",
    "xB"
   ]
  },
  {
   "cell_type": "code",
   "execution_count": 19,
   "metadata": {},
   "outputs": [
    {
     "data": {
      "text/latex": [
       "$\\displaystyle 3 a^{2}$"
      ],
      "text/plain": [
       "3*a**2"
      ]
     },
     "execution_count": 19,
     "metadata": {},
     "output_type": "execute_result"
    }
   ],
   "source": [
    "yC2.subs({x:xB})"
   ]
  },
  {
   "cell_type": "markdown",
   "metadata": {},
   "source": [
    "直線$l$ と二つの放物線$C_1, C_2$ の接点の$x$ 座標をそれぞれ$s,t$ とおく．\n",
    "$l$ は$x=s$ で$C_1$ と接するので，$l$ の方程式は\n",
    "\\begin{equation*}\n",
    "  y = \\fbox{ エ }\\,sx - \\fbox{ オ }\\,s^{ \\fbox{ カ }}\n",
    "\\end{equation*}\n",
    "と表せる．\n",
    "同様に，$l$ は$x=t$ で$C_2$ と接するので，$l$ の方程式は\n",
    "\\begin{equation*}\n",
    "  y = \\fbox{ キ }\\,tx - \\fbox{ ク }\\,t^{ \\fbox{ カ }} + a^2\n",
    "\\end{equation*}\n",
    "とも表せる．これらにより，$s,t$ は\n",
    "\\begin{equation*}\n",
    "  s = \\frac{\\sqrt{\\fbox{ ケ }}}{\\fbox{ コ }}a , \\,\\,\\,\\, \n",
    "t= \\frac{\\sqrt{\\fbox{ ケ }}}{\\fbox{ サ }}a \n",
    "\\end{equation*}\n",
    "である．"
   ]
  },
  {
   "cell_type": "code",
   "execution_count": 20,
   "metadata": {},
   "outputs": [],
   "source": [
    "m1 = diff(yC1)"
   ]
  },
  {
   "cell_type": "code",
   "execution_count": 21,
   "metadata": {},
   "outputs": [],
   "source": [
    "#y - y0 = m*(x-x0)\n",
    "yl1 = m1.subs({x:s})*(x-s)+yC1.subs({x:s})"
   ]
  },
  {
   "cell_type": "code",
   "execution_count": 22,
   "metadata": {},
   "outputs": [
    {
     "data": {
      "text/latex": [
       "$\\displaystyle - 3 s^{2} + 6 s x$"
      ],
      "text/plain": [
       "-3*s**2 + 6*s*x"
      ]
     },
     "execution_count": 22,
     "metadata": {},
     "output_type": "execute_result"
    }
   ],
   "source": [
    "yl1.expand()"
   ]
  },
  {
   "cell_type": "code",
   "execution_count": 23,
   "metadata": {},
   "outputs": [],
   "source": [
    "m2 = diff(yC2,x)\n",
    "yl2 = m2.subs({x:t})*(x-t)+yC2.subs({x:t})"
   ]
  },
  {
   "cell_type": "code",
   "execution_count": 24,
   "metadata": {},
   "outputs": [
    {
     "data": {
      "text/latex": [
       "$\\displaystyle a^{2} - 2 t^{2} + 4 t x$"
      ],
      "text/plain": [
       "a**2 - 2*t**2 + 4*t*x"
      ]
     },
     "execution_count": 24,
     "metadata": {},
     "output_type": "execute_result"
    }
   ],
   "source": [
    "yl2.expand()"
   ]
  },
  {
   "cell_type": "code",
   "execution_count": 25,
   "metadata": {},
   "outputs": [
    {
     "data": {
      "text/latex": [
       "$\\displaystyle \\frac{3 s}{2}$"
      ],
      "text/plain": [
       "3*s/2"
      ]
     },
     "execution_count": 25,
     "metadata": {},
     "output_type": "execute_result"
    }
   ],
   "source": [
    "t0=solve(m1.subs({x:s})-m2.subs({x:t}),t)[0]\n",
    "t0"
   ]
  },
  {
   "cell_type": "code",
   "execution_count": 26,
   "metadata": {},
   "outputs": [
    {
     "data": {
      "text/latex": [
       "$\\displaystyle \\frac{\\sqrt{6} a}{3}$"
      ],
      "text/plain": [
       "sqrt(6)*a/3"
      ]
     },
     "execution_count": 26,
     "metadata": {},
     "output_type": "execute_result"
    }
   ],
   "source": [
    "s0=solve((yl1-yl2).subs({x:0}).subs({t:t0}),s)[1]\n",
    "s0"
   ]
  },
  {
   "cell_type": "code",
   "execution_count": 27,
   "metadata": {},
   "outputs": [
    {
     "data": {
      "text/latex": [
       "$\\displaystyle \\frac{\\sqrt{6} a}{2}$"
      ],
      "text/plain": [
       "sqrt(6)*a/2"
      ]
     },
     "execution_count": 27,
     "metadata": {},
     "output_type": "execute_result"
    }
   ],
   "source": [
    "t0.subs({s:s0})"
   ]
  },
  {
   "cell_type": "markdown",
   "metadata": {},
   "source": [
    "放物線$C_1$ の$s \\leqq x \\leqq {\\fbox{ ア }}$ の部分\n",
    "放物線$C_2$ の${\\fbox{ ア }} \\leqq x \\leqq t$ の部分,\n",
    "$x$ 軸，\n",
    "および2直線$x=s, x=t$で囲まれた図形の面積は\n",
    "\\begin{equation*}\n",
    "  \\frac{\\fbox{ シ }\\sqrt{\\fbox{ ス }}-\\fbox{ セ }}{\\fbox{ ソ }}a^{\\fbox{ タ }}\n",
    "\\end{equation*}\n",
    "である．"
   ]
  },
  {
   "cell_type": "code",
   "execution_count": 28,
   "metadata": {},
   "outputs": [],
   "source": [
    "SS=integrate(yC1,(x,s,a))+integrate(yC2,(x,a,t))"
   ]
  },
  {
   "cell_type": "code",
   "execution_count": 29,
   "metadata": {
    "scrolled": false
   },
   "outputs": [
    {
     "data": {
      "text/latex": [
       "$\\displaystyle \\frac{a^{3} \\left(-6 + 7 \\sqrt{6}\\right)}{9}$"
      ],
      "text/plain": [
       "a**3*(-6 + 7*sqrt(6))/9"
      ]
     },
     "execution_count": 29,
     "metadata": {},
     "output_type": "execute_result"
    }
   ],
   "source": [
    "together(SS.subs({t:t0}).subs({s:s0}))"
   ]
  },
  {
   "cell_type": "markdown",
   "metadata": {},
   "source": [
    "# 数値改変(30点)\n",
    "\n",
    "問3.において，放物線$C_1$ が\n",
    "$$\n",
    "y = 2.9 x^2\n",
    "$$\n",
    "である場合について解きなさい．\n",
    "ただし，係数が浮動小数点数に変わったので，$\\fbox{ ア }\\,, \\fbox{ イ }$などには浮動小数点数が入る．最後の図形の面積は，$1.284186\\ldots a^3$ となる．(30点)"
   ]
  },
  {
   "cell_type": "code",
   "execution_count": 30,
   "metadata": {},
   "outputs": [],
   "source": [
    "from sympy import *\n",
    "a, s, t, x = symbols('a, s, t, x')"
   ]
  },
  {
   "cell_type": "code",
   "execution_count": 31,
   "metadata": {
    "scrolled": true
   },
   "outputs": [
    {
     "data": {
      "text/latex": [
       "$\\displaystyle 2.9 x^{2}$"
      ],
      "text/plain": [
       "2.9*x**2"
      ]
     },
     "execution_count": 31,
     "metadata": {},
     "output_type": "execute_result"
    }
   ],
   "source": [
    "yC1 = 2.9*x**2\n",
    "yC1"
   ]
  },
  {
   "cell_type": "code",
   "execution_count": 32,
   "metadata": {},
   "outputs": [
    {
     "data": {
      "text/latex": [
       "$\\displaystyle a^{2} + 2 x^{2}$"
      ],
      "text/plain": [
       "a**2 + 2*x**2"
      ]
     },
     "execution_count": 32,
     "metadata": {},
     "output_type": "execute_result"
    }
   ],
   "source": [
    "yC2 = 2*x**2+a**2\n",
    "yC2"
   ]
  },
  {
   "cell_type": "code",
   "execution_count": 33,
   "metadata": {},
   "outputs": [],
   "source": [
    "eq = yC1 - yC2"
   ]
  },
  {
   "cell_type": "code",
   "execution_count": 34,
   "metadata": {},
   "outputs": [
    {
     "data": {
      "text/latex": [
       "$\\displaystyle 1.05409255338946 a$"
      ],
      "text/plain": [
       "1.05409255338946*a"
      ]
     },
     "execution_count": 34,
     "metadata": {},
     "output_type": "execute_result"
    }
   ],
   "source": [
    "xB = solve(eq,x)[1]\n",
    "xB"
   ]
  },
  {
   "cell_type": "code",
   "execution_count": 35,
   "metadata": {},
   "outputs": [
    {
     "data": {
      "text/latex": [
       "$\\displaystyle 3.22222222222222 a^{2}$"
      ],
      "text/plain": [
       "3.22222222222222*a**2"
      ]
     },
     "execution_count": 35,
     "metadata": {},
     "output_type": "execute_result"
    }
   ],
   "source": [
    "yC2.subs({x:xB})"
   ]
  },
  {
   "cell_type": "code",
   "execution_count": 36,
   "metadata": {},
   "outputs": [],
   "source": [
    "m1 = diff(yC1)"
   ]
  },
  {
   "cell_type": "code",
   "execution_count": 37,
   "metadata": {},
   "outputs": [],
   "source": [
    "#y - y0 = m*(x-x0)\n",
    "yl1 = m1.subs({x:s})*(x-s)+yC1.subs({x:s})"
   ]
  },
  {
   "cell_type": "code",
   "execution_count": 38,
   "metadata": {},
   "outputs": [
    {
     "data": {
      "text/latex": [
       "$\\displaystyle - 2.9 s^{2} + 5.8 s x$"
      ],
      "text/plain": [
       "-2.9*s**2 + 5.8*s*x"
      ]
     },
     "execution_count": 38,
     "metadata": {},
     "output_type": "execute_result"
    }
   ],
   "source": [
    "yl1.expand()"
   ]
  },
  {
   "cell_type": "code",
   "execution_count": 39,
   "metadata": {},
   "outputs": [],
   "source": [
    "m2 = diff(yC2,x)\n",
    "yl2 = m2.subs({x:t})*(x-t)+yC2.subs({x:t})"
   ]
  },
  {
   "cell_type": "code",
   "execution_count": 40,
   "metadata": {},
   "outputs": [
    {
     "data": {
      "text/latex": [
       "$\\displaystyle a^{2} - 2 t^{2} + 4 t x$"
      ],
      "text/plain": [
       "a**2 - 2*t**2 + 4*t*x"
      ]
     },
     "execution_count": 40,
     "metadata": {},
     "output_type": "execute_result"
    }
   ],
   "source": [
    "yl2.expand()"
   ]
  },
  {
   "cell_type": "code",
   "execution_count": 41,
   "metadata": {},
   "outputs": [
    {
     "data": {
      "text/latex": [
       "$\\displaystyle 1.45 s$"
      ],
      "text/plain": [
       "1.45*s"
      ]
     },
     "execution_count": 41,
     "metadata": {},
     "output_type": "execute_result"
    }
   ],
   "source": [
    "t0=solve(m1.subs({x:s})-m2.subs({x:t}),t)[0]\n",
    "t0"
   ]
  },
  {
   "cell_type": "code",
   "execution_count": 42,
   "metadata": {},
   "outputs": [
    {
     "data": {
      "text/latex": [
       "$\\displaystyle 0.875376219064817 a$"
      ],
      "text/plain": [
       "0.875376219064817*a"
      ]
     },
     "execution_count": 42,
     "metadata": {},
     "output_type": "execute_result"
    }
   ],
   "source": [
    "s0=solve((yl1-yl2).subs({x:0}).subs({t:t0}),s)[1]\n",
    "s0"
   ]
  },
  {
   "cell_type": "code",
   "execution_count": 43,
   "metadata": {},
   "outputs": [
    {
     "data": {
      "text/latex": [
       "$\\displaystyle 1.26929551764398 a$"
      ],
      "text/plain": [
       "1.26929551764398*a"
      ]
     },
     "execution_count": 43,
     "metadata": {},
     "output_type": "execute_result"
    }
   ],
   "source": [
    "t0.subs({s:s0})"
   ]
  },
  {
   "cell_type": "code",
   "execution_count": 44,
   "metadata": {},
   "outputs": [],
   "source": [
    "SS=integrate(yC1,(x,s,a))+integrate(yC2,(x,a,t))"
   ]
  },
  {
   "cell_type": "code",
   "execution_count": 45,
   "metadata": {
    "scrolled": false
   },
   "outputs": [
    {
     "data": {
      "text/latex": [
       "$\\displaystyle 1.28418609654692 a^{3}$"
      ],
      "text/plain": [
       "1.28418609654692*a**3"
      ]
     },
     "execution_count": 45,
     "metadata": {},
     "output_type": "execute_result"
    }
   ],
   "source": [
    "together(SS.subs({t:t0}).subs({s:s0}))"
   ]
  },
  {
   "cell_type": "code",
   "execution_count": 46,
   "metadata": {},
   "outputs": [
    {
     "data": {
      "text/latex": [
       "$\\displaystyle 1.23849202216469$"
      ],
      "text/plain": [
       "1.23849202216469"
      ]
     },
     "execution_count": 46,
     "metadata": {},
     "output_type": "execute_result"
    }
   ],
   "source": [
    "(-6+7*sqrt(6.0))/9"
   ]
  },
  {
   "cell_type": "code",
   "execution_count": null,
   "metadata": {},
   "outputs": [],
   "source": []
  }
 ],
 "metadata": {
  "kernelspec": {
   "display_name": "Python 3",
   "language": "python",
   "name": "python3"
  },
  "language_info": {
   "codemirror_mode": {
    "name": "ipython",
    "version": 3
   },
   "file_extension": ".py",
   "mimetype": "text/x-python",
   "name": "python",
   "nbconvert_exporter": "python",
   "pygments_lexer": "ipython3",
   "version": "3.8.5"
  },
  "latex_envs": {
   "LaTeX_envs_menu_present": true,
   "autocomplete": true,
   "bibliofile": "biblio.bib",
   "cite_by": "apalike",
   "current_citInitial": 1,
   "eqLabelWithNumbers": true,
   "eqNumInitial": 1,
   "hotkeys": {
    "equation": "Ctrl-E",
    "itemize": "Ctrl-I"
   },
   "labels_anchors": false,
   "latex_user_defs": false,
   "report_style_numbering": false,
   "user_envs_cfg": false
  },
  "toc": {
   "base_numbering": 1,
   "nav_menu": {
    "height": "12.666666984558105px",
    "width": "252.6666717529297px"
   },
   "number_sections": true,
   "sideBar": true,
   "skip_h1_title": false,
   "title_cell": "Table of Contents",
   "title_sidebar": "Contents",
   "toc_cell": true,
   "toc_position": {
    "height": "538.3287963867188px",
    "left": "0px",
    "right": "1189.3333740234375px",
    "top": "60.801631927490234px",
    "width": "295.28533935546875px"
   },
   "toc_section_display": "block",
   "toc_window_display": true
  }
 },
 "nbformat": 4,
 "nbformat_minor": 2
}
