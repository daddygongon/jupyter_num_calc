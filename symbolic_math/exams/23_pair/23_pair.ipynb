{
 "cells": [
  {
   "cell_type": "markdown",
   "metadata": {},
   "source": [
    "<div style=\"text-align: center;\">\n",
    "   <font size=\"5\"> 2023年度　数式処理演習　pair試験問題 </font>\n",
    "</div>\n",
    "   <div style=\"text-align: right;\">\n",
    "   <font size=\"3\"> cc by Shigeto R. Nishitani, 2023/11/30実施 </font>\n",
    "</div>\n",
    "\n",
    "- file: ~/symbolic_math/23_pair_ans.ipynb\n",
    "- make problem: pick_works_from_ans 23_pair_ans.ipynb -1 '' '4, 11'\n",
    "\n",
    "以下の問題を python で解き，LUNA へ提出せよ．LUNA へは ipynb と pdf 形式の２種類を提出すること．\n"
   ]
  },
  {
   "cell_type": "markdown",
   "metadata": {},
   "source": [
    "# 問 1 微積分\n",
    "\n",
    "## 1(a) データ点のプロット(15 点)\n",
    "\n",
    "以下の3点のデータ点をxy平面上にプロットせよ．\n",
    "```\n",
    "import numpy as np\n",
    "xdata = np.array( [1,2,3])\n",
    "ydata = np.array([0,5,15])\n",
    "```\n"
   ]
  },
  {
   "attachments": {
    "image.png": {
     "image/png": "[encoded data removed]"
    }
   },
   "cell_type": "markdown",
   "metadata": {},
   "source": [
    "## 1(b) 関数の微分(15 点)\n",
    "上記のデータ点に対して，一次関数\n",
    "$$\n",
    "F(x) = a0 + a1*x\n",
    "$$\n",
    "でのフィッティングを考える．\n",
    "\n",
    "データと関数との誤差の2乗で得られたsum関数のa0, a1に対する最安定(最小値)点を求めよ．\n",
    "微分して連立方程式で解けばもとまります．\n",
    "\n",
    "また，得られた関数と1(a)のデータ点を同時にプロットせよ．\n",
    "うまくいけば，次のplotのようになります．\n",
    "\n",
    "![image.png](attachment:image.png)"
   ]
  },
  {
   "cell_type": "code",
   "execution_count": 2,
   "metadata": {},
   "outputs": [
    {
     "data": {
      "text/latex": [
       "$\\displaystyle 3 a_{0}^{2} + 12 a_{0} a_{1} - 40 a_{0} + 14 a_{1}^{2} - 110 a_{1} + 250$"
      ],
      "text/plain": [
       "3*a0**2 + 12*a0*a1 - 40*a0 + 14*a1**2 - 110*a1 + 250"
      ]
     },
     "execution_count": 2,
     "metadata": {},
     "output_type": "execute_result"
    }
   ],
   "source": [
    "import numpy as np\n",
    "xdata = np.array( [1,2,3])\n",
    "ydata = np.array([0,5,15])\n",
    "\n",
    "from sympy import *\n",
    "a0, a1, x,y = symbols('a0, a1, x, y')\n",
    "\n",
    "def func(x):\n",
    "    return a0+a1*x\n",
    "\n",
    "sum = 0\n",
    "for i in range(0,3):\n",
    "  sum += (ydata[i]-func(xdata[i]))**2\n",
    "\n",
    "expand(sum)\n"
   ]
  },
  {
   "cell_type": "markdown",
   "metadata": {},
   "source": [
    "# 問 2 線形代数\n",
    "\n",
    "## 2(a) ノルム(15 点)\n",
    "\n",
    "次のデータ\n",
    "\n",
    "```\n",
    "edata = [0.1, -0.2, 0.4]\n",
    "\n",
    "```\n",
    "の平均と，　ユークリッドノルム \n",
    "$$\n",
    "||x|| = \\sqrt{x_1^2+x_2^2+\\cdots + x_n^2}\n",
    "$$　をベクトルの内積を使って求めよ．\n",
    "\n",
    "平均は，  $n$をベクトルのサイズとしたとき，全ての要素を$1/n$で満たす(full)ベクトルとの内積で，\n",
    "ユークリッドノルムはそのベクトル自身との内積の平方根で求められる．"
   ]
  },
  {
   "cell_type": "markdown",
   "metadata": {},
   "source": [
    "## 2(b) ヴァンデルモンド行列(15 点)\n",
    "\n",
    "ヴァンデルモンド(Vandermonde)行列　$V$　を\n",
    "\n",
    "$$\n",
    "V = \\begin{bmatrix}\n",
    "1 & x_1 & x_1^2\\\\\n",
    "1 & x_2 & x_2^2\\\\\n",
    "1 & x_3 & x_3^2\\\\\n",
    "\\end{bmatrix}\n",
    "$$\n",
    "として，\n",
    "$$\n",
    "V \\begin{bmatrix}\n",
    "a_0\\\\\n",
    "a_1\\\\\n",
    "a_2\\\\\n",
    "\\end{bmatrix}\n",
    "=\\begin{bmatrix}\n",
    "y_0\\\\\n",
    "y_1\\\\\n",
    "y_2\\\\\n",
    "\\end{bmatrix}\n",
    "$$\n",
    "の逆行列から, 2次のフィッティング関数\n",
    "$$\n",
    "f(x)　= a_0 + a_1 x+a_2x^2\n",
    "$$\n",
    "を求めよ．\n",
    "\n",
    "データは\n",
    "``` python\n",
    "xdata = np.array([1,2,3])\n",
    "ydata = np.array([0,5,15])\n",
    "```\n",
    "を使え．\n",
    "\n",
    "ただし，以下に添付したBingの解答例(2023/11/28)は，題意から正解ではありません．"
   ]
  },
  {
   "cell_type": "code",
   "execution_count": 7,
   "metadata": {},
   "outputs": [
    {
     "name": "stdout",
     "output_type": "stream",
     "text": [
      "a0: 2.499999999999999\n",
      "a1: -2.499999999999998\n",
      "a2: -1.3322676295501882e-15\n"
     ]
    }
   ],
   "source": [
    "# Bingの解答例(2023/11/28)\n",
    "import numpy as np\n",
    "\n",
    "# データを定義します\n",
    "xdata = np.array([1,2,3])\n",
    "ydata = np.array([0,5,15])\n",
    "\n",
    "# ヴァンデルモンド行列を生成します\n",
    "V = np.vander(xdata, N=3)\n",
    "\n",
    "# 逆行列を計算し、フィッティングパラメータを求めます\n",
    "a = np.linalg.solve(V, ydata)\n",
    "\n",
    "print(\"a0:\", a[0])\n",
    "print(\"a1:\", a[1])\n",
    "print(\"a2:\", a[2])\n"
   ]
  },
  {
   "cell_type": "markdown",
   "metadata": {},
   "source": [
    "# 問 3 センター試験原題(20 点)\n",
    "\n",
    "(2021 大学入試センター試験　数学 II・B/本試験 第 2 問)\n",
    "\n",
    "$a$ を実数とし，\n",
    "$f(x)=(x-a)(x-2)$とおく．\n",
    "また，\n",
    "$F(x)= \\int_0^x f(t)dt$とする．\n",
    "\n",
    "(1) $a=1$のとき，　$F(x)$は\n",
    "$x = \\fbox{ ア }$で極小になる．\n",
    "\n",
    "(2) $a = \\fbox{ イ }$のとき，$F(x)$はつねに増加する．\n",
    "また，$F(0) = \\fbox{ ウ }$であるから，\n",
    "$a = \\fbox{ イ }$のとき，$F(2)$ の値は$\\fbox{ エ }$である．\n",
    "\n",
    "$\\fbox{ エ }$の解答群:[0，　 正，　負]\n",
    "\n",
    "(3) $a > \\fbox{ イ }$とする．\n",
    "\n",
    "$b$を実数とし，$G(x)= \\int_b^x f(t)dt$とおく．\n",
    "\n",
    "関数$y=G(x)$のグラフは，\n",
    "$y=F(x)$のグラフを\n",
    "$\\fbox{ オ }$方向に\n",
    "$\\fbox{ カ }$だけ並行移動したものと一致する．\n",
    "また，$G(x)$は$x = \\fbox{ キ }$で極大になり，\n",
    "$x = \\fbox{ ク }$で極小になる．\n",
    "\n",
    "$G(b) = \\fbox{ ケ }$であるから，\n",
    "$b = \\fbox{ キ }$のとき，\n",
    "曲線$y=G(x)$と\n",
    "$x$軸との共有点の個数は$\\fbox{ コ }$個である．\n",
    "\n",
    "$\\fbox{ オ }$の解答群:[$x$軸，　$y$軸]\n",
    "\n",
    "$\\fbox{ カ }$の解答群:[$b$, $-b$, $F(b)$, $-F(b)$, $F(-b)$, $-F(-b)$]"
   ]
  },
  {
   "cell_type": "markdown",
   "metadata": {},
   "source": [
    "# 問 4 センター試験改変(20 点)\n",
    "\n",
    "問３で$f(x)=(x-a)(x-\\sqrt{5})$として同様に求めよ．\n",
    "さらに， 得られたG(x)関数をsubs({a: 3}), (x,2,3.5)でプロットせよ．"
   ]
  }
 ],
 "metadata": {
  "kernelspec": {
   "display_name": "Python 3",
   "language": "python",
   "name": "python3"
  },
  "language_info": {
   "codemirror_mode": {
    "name": "ipython",
    "version": 3
   },
   "file_extension": ".py",
   "mimetype": "text/x-python",
   "name": "python",
   "nbconvert_exporter": "python",
   "pygments_lexer": "ipython3",
   "version": "3.8.5"
  },
  "toc": {
   "base_numbering": 1,
   "nav_menu": {},
   "number_sections": true,
   "sideBar": true,
   "skip_h1_title": false,
   "title_cell": "Table of Contents",
   "title_sidebar": "Contents",
   "toc_cell": false,
   "toc_position": {},
   "toc_section_display": true,
   "toc_window_display": false
  },
  "vscode": {
   "interpreter": {
    "hash": "f3f87633aac09da3bda522f97956bee375b5501d1579e6458804e567301cb62a"
   }
  }
 },
 "nbformat": 4,
 "nbformat_minor": 2
}
