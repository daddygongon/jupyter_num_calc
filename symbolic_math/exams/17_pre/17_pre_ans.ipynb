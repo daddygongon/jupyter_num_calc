{
 "cells": [
  {
   "cell_type": "markdown",
   "metadata": {},
   "source": [
    "# 17のpre試験\n",
    "\n",
    "1234 西谷滋人\n",
    "\n",
    "# 1(a)\n",
    "(Einstein 結晶のエネルギー) 次の関数 E(x) を求めて x=0..2 でプロットせよ.\n",
    "\\begin{align*}\n",
    "Z(x) = \\frac{\\exp(1/x)}{1-\\exp(-1/x)} \\\\\n",
    "E(x) = x^2 \\frac{\\rm d}{{\\rm d}x} \\log \\left(Z(x)\\right)\n",
    "\\end{align*}\n"
   ]
  },
  {
   "cell_type": "code",
   "execution_count": 4,
   "metadata": {},
   "outputs": [],
   "source": [
    "%matplotlib inline\n",
    "\n",
    "from sympy import *\n",
    "from sympy.plotting import plot\n",
    "\n",
    "x=symbols('x')\n",
    "\n",
    "ZZ = exp(1/x)/(1-exp(-1/x))"
   ]
  },
  {
   "cell_type": "code",
   "execution_count": 7,
   "metadata": {},
   "outputs": [],
   "source": [
    "EE = x**2*diff(log(ZZ),x)"
   ]
  },
  {
   "cell_type": "code",
   "execution_count": 9,
   "metadata": {},
   "outputs": [
    {
     "data": {
      "image/png": "[encoded data removed]",
      "text/plain": [
       "<Figure size 432x288 with 1 Axes>"
      ]
     },
     "metadata": {
      "needs_background": "light"
     },
     "output_type": "display_data"
    },
    {
     "data": {
      "text/plain": [
       "<sympy.plotting.plot.Plot at 0x7fbc4917f0a0>"
      ]
     },
     "execution_count": 9,
     "metadata": {},
     "output_type": "execute_result"
    }
   ],
   "source": [
    "plot(EE,(x,0,2))"
   ]
  },
  {
   "cell_type": "markdown",
   "metadata": {},
   "source": [
    "# 1(b)\n",
    "資料を参考にして，次の2重積分を求めよ．(15点)\n",
    "\\begin{equation*}\n",
    "\\int \\int_D \\sqrt{2x^2-y^2}dxdy,\\hspace{5mm} D:0\\leqq y \\leqq x \\leqq 1 \n",
    "\\end{equation*}\n"
   ]
  },
  {
   "cell_type": "code",
   "execution_count": 15,
   "metadata": {},
   "outputs": [],
   "source": [
    "from sympy import *\n",
    "x, y = symbols('x y', positive = True)\n",
    "\n",
    "f = sqrt(2*x**2-y**2)"
   ]
  },
  {
   "cell_type": "code",
   "execution_count": 16,
   "metadata": {},
   "outputs": [
    {
     "data": {
      "text/latex": [
       "$\\displaystyle \\frac{1}{6} + \\frac{\\pi}{12}$"
      ],
      "text/plain": [
       "1/6 + pi/12"
      ]
     },
     "execution_count": 16,
     "metadata": {},
     "output_type": "execute_result"
    }
   ],
   "source": [
    "integrate(integrate(f,(y,0,x)),(x,0,1))"
   ]
  },
  {
   "cell_type": "markdown",
   "metadata": {},
   "source": [
    "# 2(a)\n",
    "\n",
    "行列$\\displaystyle A= \n",
    "\\left( \\begin {array}{ccc} \n",
    "1&1&3\\\\ \n",
    "-1&0&1\\\\ \n",
    "1&2&1\n",
    "\\end {array} \\right) $\n",
    "の対角化行列を求めて，対角化せよ．(15点)\n"
   ]
  },
  {
   "cell_type": "code",
   "execution_count": 59,
   "metadata": {},
   "outputs": [
    {
     "data": {
      "text/latex": [
       "$\\displaystyle \\left[\\begin{matrix}1 & 1 & 3\\\\-1 & 0 & 1\\\\1 & 2 & 1\\end{matrix}\\right]$"
      ],
      "text/plain": [
       "Matrix([\n",
       "[ 1, 1, 3],\n",
       "[-1, 0, 1],\n",
       "[ 1, 2, 1]])"
      ]
     },
     "execution_count": 59,
     "metadata": {},
     "output_type": "execute_result"
    }
   ],
   "source": [
    "from sympy import *\n",
    "\n",
    "A=Matrix([[2,0,1],[0,3,0],[1,0,2]])\n",
    "A=Matrix([[1,1,3],[-1,0,1],[1,2,1]])\n",
    "A"
   ]
  },
  {
   "cell_type": "code",
   "execution_count": 60,
   "metadata": {},
   "outputs": [
    {
     "data": {
      "text/latex": [
       "$\\displaystyle \\left[\\begin{matrix}7 & 1 - \\sqrt{3} & 1 + \\sqrt{3}\\\\-2 & -1 & -1\\\\3 & 1 & 1\\end{matrix}\\right]$"
      ],
      "text/plain": [
       "Matrix([\n",
       "[ 7, 1 - sqrt(3), 1 + sqrt(3)],\n",
       "[-2,          -1,          -1],\n",
       "[ 3,           1,           1]])"
      ]
     },
     "execution_count": 60,
     "metadata": {},
     "output_type": "execute_result"
    }
   ],
   "source": [
    "P,D=A.diagonalize()\n",
    "P"
   ]
  },
  {
   "cell_type": "code",
   "execution_count": 72,
   "metadata": {},
   "outputs": [
    {
     "data": {
      "text/latex": [
       "$\\displaystyle \\left[\\begin{matrix}2 & 0 & 0\\\\- \\frac{14 \\left(2 \\sqrt{3} + 5\\right)}{12 + 10 \\sqrt{3}} + \\frac{4 \\left(-2 + 7 \\sqrt{3}\\right)}{12 + 10 \\sqrt{3}} - \\frac{546}{- 70 \\sqrt{3} - 84} & - \\frac{2 \\left(2 \\sqrt{3} + 5\\right)}{12 + 10 \\sqrt{3}} + \\frac{91}{- 70 \\sqrt{3} - 84} + \\left(1 - \\sqrt{3}\\right) \\left(- \\frac{2 \\sqrt{3} + 5}{12 + 10 \\sqrt{3}} + \\frac{-2 + 7 \\sqrt{3}}{12 + 10 \\sqrt{3}} - \\frac{91}{- 70 \\sqrt{3} - 84}\\right) - \\frac{-2 + 7 \\sqrt{3}}{12 + 10 \\sqrt{3}} & - \\frac{2 \\left(2 \\sqrt{3} + 5\\right)}{12 + 10 \\sqrt{3}} + \\frac{91}{- 70 \\sqrt{3} - 84} - \\frac{-2 + 7 \\sqrt{3}}{12 + 10 \\sqrt{3}} + \\left(1 + \\sqrt{3}\\right) \\left(- \\frac{2 \\sqrt{3} + 5}{12 + 10 \\sqrt{3}} + \\frac{-2 + 7 \\sqrt{3}}{12 + 10 \\sqrt{3}} - \\frac{91}{- 70 \\sqrt{3} - 84}\\right)\\\\0 & 0 & \\sqrt{3}\\end{matrix}\\right]$"
      ],
      "text/plain": [
       "Matrix([\n",
       "[                                                                                                    2,                                                                                                                                                                                                                   0,                                                                                                                                                                                                                   0],\n",
       "[-14*(2*sqrt(3) + 5)/(12 + 10*sqrt(3)) + 4*(-2 + 7*sqrt(3))/(12 + 10*sqrt(3)) - 546/(-70*sqrt(3) - 84), -2*(2*sqrt(3) + 5)/(12 + 10*sqrt(3)) + 91/(-70*sqrt(3) - 84) + (1 - sqrt(3))*(-(2*sqrt(3) + 5)/(12 + 10*sqrt(3)) + (-2 + 7*sqrt(3))/(12 + 10*sqrt(3)) - 91/(-70*sqrt(3) - 84)) - (-2 + 7*sqrt(3))/(12 + 10*sqrt(3)), -2*(2*sqrt(3) + 5)/(12 + 10*sqrt(3)) + 91/(-70*sqrt(3) - 84) - (-2 + 7*sqrt(3))/(12 + 10*sqrt(3)) + (1 + sqrt(3))*(-(2*sqrt(3) + 5)/(12 + 10*sqrt(3)) + (-2 + 7*sqrt(3))/(12 + 10*sqrt(3)) - 91/(-70*sqrt(3) - 84))],\n",
       "[                                                                                                    0,                                                                                                                                                                                                                   0,                                                                                                                                                                                                             sqrt(3)]])"
      ]
     },
     "execution_count": 72,
     "metadata": {},
     "output_type": "execute_result"
    }
   ],
   "source": [
    "DD=(P.inv()*A*P)\n",
    "DD"
   ]
  },
  {
   "cell_type": "code",
   "execution_count": 71,
   "metadata": {},
   "outputs": [
    {
     "name": "stdout",
     "output_type": "stream",
     "text": [
      "0\n",
      "-sqrt(3)\n",
      "sqrt(3)\n"
     ]
    }
   ],
   "source": [
    "print(DD[1,0].simplify())\n",
    "print(DD[1,1].simplify())\n",
    "print(DD[2,2].simplify())"
   ]
  },
  {
   "cell_type": "markdown",
   "metadata": {},
   "source": [
    "# 2(b)\n",
    "\n",
    "資料を参考にして，行列$\\displaystyle  \n",
    "\\left[ \\begin {array}{cc} \n",
    "1/\\sqrt{2}&a\\\\ \n",
    "b&-1/\\sqrt{2}\n",
    "\\end {array} \\right] $が直交行列であるとき，$a,b$を求めよ．(15点)\n"
   ]
  },
  {
   "cell_type": "code",
   "execution_count": 73,
   "metadata": {},
   "outputs": [
    {
     "data": {
      "text/latex": [
       "$\\displaystyle \\left[\\begin{matrix}\\frac{\\sqrt{2}}{2} & a\\\\b & - \\frac{\\sqrt{2}}{2}\\end{matrix}\\right]$"
      ],
      "text/plain": [
       "Matrix([\n",
       "[sqrt(2)/2,          a],\n",
       "[        b, -sqrt(2)/2]])"
      ]
     },
     "execution_count": 73,
     "metadata": {},
     "output_type": "execute_result"
    }
   ],
   "source": [
    "from sympy import *\n",
    "a,b=symbols('a b')\n",
    "A=Matrix([[1/sqrt(2),a],[b,-1/sqrt(2)]])\n",
    "A"
   ]
  },
  {
   "cell_type": "code",
   "execution_count": 74,
   "metadata": {},
   "outputs": [
    {
     "data": {
      "text/latex": [
       "$\\displaystyle \\left[\\begin{matrix}\\frac{\\sqrt{2}}{2}\\\\b\\end{matrix}\\right]$"
      ],
      "text/plain": [
       "Matrix([\n",
       "[sqrt(2)/2],\n",
       "[        b]])"
      ]
     },
     "execution_count": 74,
     "metadata": {},
     "output_type": "execute_result"
    }
   ],
   "source": [
    "col_0 = A[:,0]\n",
    "col_0"
   ]
  },
  {
   "cell_type": "code",
   "execution_count": 75,
   "metadata": {},
   "outputs": [
    {
     "data": {
      "text/latex": [
       "$\\displaystyle \\left[\\begin{matrix}a\\\\- \\frac{\\sqrt{2}}{2}\\end{matrix}\\right]$"
      ],
      "text/plain": [
       "Matrix([\n",
       "[         a],\n",
       "[-sqrt(2)/2]])"
      ]
     },
     "execution_count": 75,
     "metadata": {},
     "output_type": "execute_result"
    }
   ],
   "source": [
    "col_1 = A[:,1]\n",
    "col_1"
   ]
  },
  {
   "cell_type": "code",
   "execution_count": 85,
   "metadata": {},
   "outputs": [
    {
     "data": {
      "text/plain": [
       "[{a: -sqrt(2)/2, b: -sqrt(2)/2},\n",
       " {a: -sqrt(2)/2, b: sqrt(2)/2},\n",
       " {a: sqrt(2)/2, b: -sqrt(2)/2},\n",
       " {a: sqrt(2)/2, b: sqrt(2)/2}]"
      ]
     },
     "execution_count": 85,
     "metadata": {},
     "output_type": "execute_result"
    }
   ],
   "source": [
    "ss=solve({col_0.T.dot(col_0)-1,col_1.T.dot(col_1)-1},{a,b})\n",
    "ss"
   ]
  },
  {
   "cell_type": "code",
   "execution_count": 103,
   "metadata": {},
   "outputs": [
    {
     "name": "stdout",
     "output_type": "stream",
     "text": [
      "0 0 0\n",
      "1 -1 -1\n",
      "2 1 1\n",
      "3 0 0\n"
     ]
    }
   ],
   "source": [
    "for i in range(4):\n",
    "    ss10=col_0.T.dot(col_1).subs(ss[i])\n",
    "    ss01=col_1.T.dot(col_0).subs(ss[i])\n",
    "    print(i,ss10,ss01)\n"
   ]
  },
  {
   "cell_type": "code",
   "execution_count": 106,
   "metadata": {},
   "outputs": [
    {
     "name": "stdout",
     "output_type": "stream",
     "text": [
      "{a: -sqrt(2)/2, b: -sqrt(2)/2}\n",
      "{a: -sqrt(2)/2, b: sqrt(2)/2}\n"
     ]
    }
   ],
   "source": [
    "print(ss[0])\n",
    "print(ss[1])"
   ]
  },
  {
   "cell_type": "markdown",
   "metadata": {},
   "source": [
    "# 3(a)\n",
    "\n",
    "$p$を実数とし，$f(x)=x^3-p\\,\\, x$とする．\n",
    "\n",
    "関数$f(x)$が極値をもつための$p$の条件を求めよう．$f(x)$の導関数は，\n",
    "\\begin{equation*}\n",
    "f'(x) = \\fbox{ ア }\\,\\,  x^{\\,\\,\\fbox{ イ }}-p\n",
    "\\end{equation*}\n",
    "である．したがって，$f(x)$が$x=a$で極値をとるならば，\n",
    "\\begin{equation*}\n",
    "\\fbox{ ア }\\,\\,  a^{\\,\\,\\fbox{ イ }}-p=\\fbox{ ウ }\n",
    "\\end{equation*}\n",
    "が成り立つ．さらに$x=a$の前後での$f'(x)$の符号の変化を考えることにより，\n",
    "$p$が条件$\\fbox{ エ $(p>0)$}$を満たす場合は$f(x)$は必ず極値を持つことがわかる．"
   ]
  },
  {
   "cell_type": "code",
   "execution_count": 176,
   "metadata": {},
   "outputs": [
    {
     "data": {
      "text/latex": [
       "$\\displaystyle - p x + x^{3}$"
      ],
      "text/plain": [
       "-p*x + x**3"
      ]
     },
     "execution_count": 176,
     "metadata": {},
     "output_type": "execute_result"
    }
   ],
   "source": [
    "from sympy import *\n",
    "x, p, k=symbols('x p k')\n",
    "\n",
    "f = x**3-p*x\n",
    "f"
   ]
  },
  {
   "cell_type": "code",
   "execution_count": 177,
   "metadata": {},
   "outputs": [
    {
     "data": {
      "text/latex": [
       "$\\displaystyle - p + 3 x^{2}$"
      ],
      "text/plain": [
       "-p + 3*x**2"
      ]
     },
     "execution_count": 177,
     "metadata": {},
     "output_type": "execute_result"
    }
   ],
   "source": [
    "df = diff(f,x)\n",
    "df"
   ]
  },
  {
   "cell_type": "code",
   "execution_count": 178,
   "metadata": {},
   "outputs": [
    {
     "data": {
      "text/latex": [
       "$\\displaystyle 3 a^{2} - p$"
      ],
      "text/plain": [
       "3*a**2 - p"
      ]
     },
     "execution_count": 178,
     "metadata": {},
     "output_type": "execute_result"
    }
   ],
   "source": [
    "df.subs({x:a})"
   ]
  },
  {
   "cell_type": "markdown",
   "metadata": {},
   "source": [
    "# 3(b)\n",
    "関数$f(x)$が$\\displaystyle x=\\frac{p}{3}$で極値をとるとする．また，曲線$y=f(x)$を$C$とし，$C$上の点$\\displaystyle \\left(\\frac{p}{3}, f\\left(\\frac{p}{3}\\right) \\right)$をAとする．\n",
    "\n",
    "$f(x)$が$\\displaystyle x=\\frac{p}{3}$で極値をとることから，$p=\\fbox{ オ }$であり，$f(x)$は$x=\\fbox{ カキ }$で極大値をとり，$x=\\fbox{ ク }$で極小値をとる．\n",
    "\n"
   ]
  },
  {
   "cell_type": "code",
   "execution_count": 179,
   "metadata": {},
   "outputs": [
    {
     "data": {
      "text/latex": [
       "$\\displaystyle \\frac{p^{2}}{3} - p$"
      ],
      "text/plain": [
       "p**2/3 - p"
      ]
     },
     "execution_count": 179,
     "metadata": {},
     "output_type": "execute_result"
    }
   ],
   "source": [
    "x0 = p/3\n",
    "df.subs({x:x0})"
   ]
  },
  {
   "cell_type": "code",
   "execution_count": 180,
   "metadata": {},
   "outputs": [
    {
     "data": {
      "text/plain": [
       "[0, 3]"
      ]
     },
     "execution_count": 180,
     "metadata": {},
     "output_type": "execute_result"
    }
   ],
   "source": [
    "pp = solve(df.subs({x:x0}),p)\n",
    "pp"
   ]
  },
  {
   "cell_type": "code",
   "execution_count": 181,
   "metadata": {},
   "outputs": [],
   "source": [
    "p0 = pp[1]"
   ]
  },
  {
   "cell_type": "code",
   "execution_count": 182,
   "metadata": {},
   "outputs": [
    {
     "data": {
      "image/png": "[encoded data removed]",
      "text/plain": [
       "<Figure size 432x288 with 1 Axes>"
      ]
     },
     "metadata": {
      "needs_background": "light"
     },
     "output_type": "display_data"
    },
    {
     "data": {
      "text/plain": [
       "<sympy.plotting.plot.Plot at 0x7fbc49eaa4f0>"
      ]
     },
     "execution_count": 182,
     "metadata": {},
     "output_type": "execute_result"
    }
   ],
   "source": [
    "%matplotlib inline\n",
    "\n",
    "from sympy import *\n",
    "from sympy.plotting import plot\n",
    "\n",
    "yC = f.subs({p:p0})\n",
    "plot(yC,(x,-2,2))"
   ]
  },
  {
   "cell_type": "code",
   "execution_count": 183,
   "metadata": {},
   "outputs": [
    {
     "data": {
      "text/plain": [
       "[-1, 1]"
      ]
     },
     "execution_count": 183,
     "metadata": {},
     "output_type": "execute_result"
    }
   ],
   "source": [
    "xx = solve(df.subs({p:p0}),x)\n",
    "xx"
   ]
  },
  {
   "cell_type": "code",
   "execution_count": 184,
   "metadata": {},
   "outputs": [
    {
     "data": {
      "text/latex": [
       "$\\displaystyle 2$"
      ],
      "text/plain": [
       "2"
      ]
     },
     "execution_count": 184,
     "metadata": {},
     "output_type": "execute_result"
    }
   ],
   "source": [
    "yC.subs({x:xx[0]})"
   ]
  },
  {
   "cell_type": "code",
   "execution_count": 185,
   "metadata": {},
   "outputs": [
    {
     "data": {
      "text/latex": [
       "$\\displaystyle -2$"
      ],
      "text/plain": [
       "-2"
      ]
     },
     "execution_count": 185,
     "metadata": {},
     "output_type": "execute_result"
    }
   ],
   "source": [
    "yC.subs({x:xx[1]})"
   ]
  },
  {
   "cell_type": "markdown",
   "metadata": {},
   "source": [
    "\n",
    "曲線$C$の接線で，点Aを通り傾きが0でないものを$l$とする．$l$の方程式を求めよう．$l$と$C$の接点の$x$座標を$b$とすると，$l$は点$(b, f(b))$における$C$の接線であるから，$l$の方程式は$b$を用いて\n",
    "\\begin{equation*}\n",
    "y= \\left(\\fbox{ ケ }\\,\\,  b^2 - \\fbox{ コ }\\right)(x-b)+f(b)\n",
    "\\end{equation*}\n",
    "と表すことができる．また，$l$は点Aを通るから，方程式\n",
    "\\begin{equation*}\n",
    "\\fbox{ サ }\\,\\, b^3-\\fbox{ シ }\\,\\, b^2+1=0\n",
    "\\end{equation*}\n",
    "を得る．この方程式を解くと，\n",
    "\\begin{equation*}\n",
    "b = \\fbox{ ス }\\,\\,, \\frac{\\fbox{ セソ }}{\\fbox{ タ }}\n",
    "\\end{equation*}\n",
    "であるが，$l$の傾きが0でないことから，$l$の方程式は\n",
    "\\begin{equation*}\n",
    "y = \\frac{\\fbox{ チツ }}{\\fbox{ テ }}\\,\\, x+\\frac{\\fbox{ ト }}{\\fbox{ ナ }}\n",
    "\\end{equation*}\n",
    "である．\n",
    "\n"
   ]
  },
  {
   "cell_type": "code",
   "execution_count": 186,
   "metadata": {},
   "outputs": [
    {
     "data": {
      "text/latex": [
       "$\\displaystyle b^{3} - 3 b + \\left(- b + x\\right) \\left(3 b^{2} - 3\\right)$"
      ],
      "text/plain": [
       "b**3 - 3*b + (-b + x)*(3*b**2 - 3)"
      ]
     },
     "execution_count": 186,
     "metadata": {},
     "output_type": "execute_result"
    }
   ],
   "source": [
    "yl=df.subs({p:p0}).subs({x:b})*(x-b)+yC.subs({x:b})\n",
    "yl"
   ]
  },
  {
   "cell_type": "code",
   "execution_count": 187,
   "metadata": {},
   "outputs": [
    {
     "data": {
      "text/latex": [
       "$\\displaystyle 2 b^{3} - 3 b^{2} + 1$"
      ],
      "text/plain": [
       "2*b**3 - 3*b**2 + 1"
      ]
     },
     "execution_count": 187,
     "metadata": {},
     "output_type": "execute_result"
    }
   ],
   "source": [
    "eq = -expand(yl.subs({x:xx[1]})-yC.subs({x:xx[1]}))\n",
    "eq"
   ]
  },
  {
   "cell_type": "code",
   "execution_count": 188,
   "metadata": {},
   "outputs": [
    {
     "data": {
      "text/plain": [
       "[-1/2, 1]"
      ]
     },
     "execution_count": 188,
     "metadata": {},
     "output_type": "execute_result"
    }
   ],
   "source": [
    "bb = solve(eq,b)\n",
    "bb"
   ]
  },
  {
   "cell_type": "code",
   "execution_count": 189,
   "metadata": {},
   "outputs": [
    {
     "data": {
      "text/latex": [
       "$\\displaystyle \\frac{1}{4} - \\frac{9 x}{4}$"
      ],
      "text/plain": [
       "1/4 - 9*x/4"
      ]
     },
     "execution_count": 189,
     "metadata": {},
     "output_type": "execute_result"
    }
   ],
   "source": [
    "b0=bb[0]\n",
    "yl.subs({b:b0})"
   ]
  },
  {
   "cell_type": "markdown",
   "metadata": {},
   "source": [
    "点Aを頂点とし，原点を通る放物線を$D$とする．$l$と$D$で囲まれた図形のうち，不等式$x \\geqq 0$の表す領域に含まれる部分の面積$S$を求めよう．$D$の方程式は，\n",
    "\\begin{equation*}\n",
    "y = \\fbox{ ニ }\\,\\, x^2 -\\fbox{ ヌ }\\,\\, x\n",
    "\\end{equation*}\n",
    "であるから，定積分を計算することにより，$\\displaystyle S=\\frac{\\fbox{ ネノ }}{24}$となる．(10点)\n",
    "\n",
    "(2014年度大学入試センター試験　本試験　数学II・B第2問)"
   ]
  },
  {
   "cell_type": "code",
   "execution_count": 211,
   "metadata": {},
   "outputs": [
    {
     "name": "stdout",
     "output_type": "stream",
     "text": [
      "k*(x - 1)**2 - 2\n"
     ]
    },
    {
     "data": {
      "text/latex": [
       "$\\displaystyle 2$"
      ],
      "text/plain": [
       "2"
      ]
     },
     "execution_count": 211,
     "metadata": {},
     "output_type": "execute_result"
    }
   ],
   "source": [
    "yD = k*(x-xx[1])**2+yC.subs({x:xx[1]})\n",
    "print(yD)\n",
    "kk = solve(yD.subs({x:0}),k)\n",
    "k0 = kk[0]\n",
    "k0"
   ]
  },
  {
   "cell_type": "code",
   "execution_count": 215,
   "metadata": {},
   "outputs": [
    {
     "data": {
      "text/latex": [
       "$\\displaystyle - 2 x^{2} + \\frac{7 x}{4} + \\frac{1}{4}$"
      ],
      "text/plain": [
       "-2*x**2 + 7*x/4 + 1/4"
      ]
     },
     "execution_count": 215,
     "metadata": {},
     "output_type": "execute_result"
    }
   ],
   "source": [
    "expand(yl.subs({b:b0}) - yD.subs({k:k0}))"
   ]
  },
  {
   "cell_type": "code",
   "execution_count": 216,
   "metadata": {},
   "outputs": [
    {
     "data": {
      "text/latex": [
       "$\\displaystyle \\frac{11}{24}$"
      ],
      "text/plain": [
       "11/24"
      ]
     },
     "execution_count": 216,
     "metadata": {},
     "output_type": "execute_result"
    }
   ],
   "source": [
    "integrate(yl.subs({b:b0}) - yD.subs({k:k0}),(x,0,xx[1]))"
   ]
  },
  {
   "cell_type": "markdown",
   "metadata": {},
   "source": [
    "# 4\n",
    "\n",
    "前問3(b)の$C$上の頂点Aの座標を$\\displaystyle \\left(\\frac{p}{4}, f\\left(\\frac{p}{4}\\right) \\right)$と変えて問題を解け．ただし数値を変えたので，それほど複雑な数字にはならないが，\\fbox{ オ }，\\fbox{ カキ }等には箱にこだわらず数字がはいる．最後は$\\displaystyle S=\\frac{11}{27}$ではなく，$\\displaystyle S=\\frac{352}{243}$になる．(30点)\n"
   ]
  },
  {
   "cell_type": "code",
   "execution_count": 234,
   "metadata": {},
   "outputs": [
    {
     "data": {
      "text/latex": [
       "$\\displaystyle - p x + x^{3}$"
      ],
      "text/plain": [
       "-p*x + x**3"
      ]
     },
     "execution_count": 234,
     "metadata": {},
     "output_type": "execute_result"
    }
   ],
   "source": [
    "from sympy import *\n",
    "x, p, k=symbols('x p k')\n",
    "\n",
    "f = x**3-p*x\n",
    "f"
   ]
  },
  {
   "cell_type": "code",
   "execution_count": 235,
   "metadata": {},
   "outputs": [
    {
     "data": {
      "text/latex": [
       "$\\displaystyle - p + 3 x^{2}$"
      ],
      "text/plain": [
       "-p + 3*x**2"
      ]
     },
     "execution_count": 235,
     "metadata": {},
     "output_type": "execute_result"
    }
   ],
   "source": [
    "df = diff(f,x)\n",
    "df"
   ]
  },
  {
   "cell_type": "code",
   "execution_count": 236,
   "metadata": {},
   "outputs": [
    {
     "data": {
      "text/latex": [
       "$\\displaystyle 3 a^{2} - p$"
      ],
      "text/plain": [
       "3*a**2 - p"
      ]
     },
     "execution_count": 236,
     "metadata": {},
     "output_type": "execute_result"
    }
   ],
   "source": [
    "df.subs({x:a})"
   ]
  },
  {
   "cell_type": "markdown",
   "metadata": {},
   "source": [
    "# 4(b)\n",
    "関数$f(x)$が$\\displaystyle x=\\frac{p}{4}$で極値をとるとする．また，曲線$y=f(x)$を$C$とし，$C$上の点$\\displaystyle \\left(\\frac{p}{4}, f\\left(\\frac{p}{4}\\right) \\right)$をAとする．\n",
    "\n",
    "$f(x)$が$\\displaystyle x=\\frac{p}{4}$で極値をとることから，$p=\\fbox{ オ }$であり，$f(x)$は$x=\\fbox{ カキ }$で極大値をとり，$x=\\fbox{ ク }$で極小値をとる．\n",
    "\n"
   ]
  },
  {
   "cell_type": "code",
   "execution_count": 237,
   "metadata": {},
   "outputs": [
    {
     "data": {
      "text/latex": [
       "$\\displaystyle \\frac{3 p^{2}}{16} - p$"
      ],
      "text/plain": [
       "3*p**2/16 - p"
      ]
     },
     "execution_count": 237,
     "metadata": {},
     "output_type": "execute_result"
    }
   ],
   "source": [
    "x0 = p/4\n",
    "df.subs({x:x0})"
   ]
  },
  {
   "cell_type": "code",
   "execution_count": 238,
   "metadata": {},
   "outputs": [
    {
     "data": {
      "text/plain": [
       "[0, 16/3]"
      ]
     },
     "execution_count": 238,
     "metadata": {},
     "output_type": "execute_result"
    }
   ],
   "source": [
    "pp = solve(df.subs({x:x0}),p)\n",
    "pp"
   ]
  },
  {
   "cell_type": "code",
   "execution_count": 239,
   "metadata": {},
   "outputs": [],
   "source": [
    "p0 = pp[1]"
   ]
  },
  {
   "cell_type": "code",
   "execution_count": 240,
   "metadata": {},
   "outputs": [
    {
     "data": {
      "image/png": "[encoded data removed]",
      "text/plain": [
       "<Figure size 432x288 with 1 Axes>"
      ]
     },
     "metadata": {
      "needs_background": "light"
     },
     "output_type": "display_data"
    },
    {
     "data": {
      "text/plain": [
       "<sympy.plotting.plot.Plot at 0x7fbc4b389bb0>"
      ]
     },
     "execution_count": 240,
     "metadata": {},
     "output_type": "execute_result"
    }
   ],
   "source": [
    "%matplotlib inline\n",
    "\n",
    "from sympy import *\n",
    "from sympy.plotting import plot\n",
    "\n",
    "yC = f.subs({p:p0})\n",
    "plot(yC,(x,-2,2))"
   ]
  },
  {
   "cell_type": "code",
   "execution_count": 241,
   "metadata": {},
   "outputs": [
    {
     "data": {
      "text/plain": [
       "[-4/3, 4/3]"
      ]
     },
     "execution_count": 241,
     "metadata": {},
     "output_type": "execute_result"
    }
   ],
   "source": [
    "xx = solve(df.subs({p:p0}),x)\n",
    "xx"
   ]
  },
  {
   "cell_type": "code",
   "execution_count": 242,
   "metadata": {},
   "outputs": [
    {
     "data": {
      "text/latex": [
       "$\\displaystyle \\frac{128}{27}$"
      ],
      "text/plain": [
       "128/27"
      ]
     },
     "execution_count": 242,
     "metadata": {},
     "output_type": "execute_result"
    }
   ],
   "source": [
    "yC.subs({x:xx[0]})"
   ]
  },
  {
   "cell_type": "code",
   "execution_count": 243,
   "metadata": {},
   "outputs": [
    {
     "data": {
      "text/latex": [
       "$\\displaystyle - \\frac{128}{27}$"
      ],
      "text/plain": [
       "-128/27"
      ]
     },
     "execution_count": 243,
     "metadata": {},
     "output_type": "execute_result"
    }
   ],
   "source": [
    "yC.subs({x:xx[1]})"
   ]
  },
  {
   "cell_type": "markdown",
   "metadata": {},
   "source": [
    "\n",
    "曲線$C$の接線で，点Aを通り傾きが0でないものを$l$とする．$l$の方程式を求めよう．$l$と$C$の接点の$x$座標を$b$とすると，$l$は点$(b, f(b))$における$C$の接線であるから，$l$の方程式は$b$を用いて\n",
    "\\begin{equation*}\n",
    "y= \\left(\\fbox{ ケ }\\,\\,  b^2 - \\fbox{ コ }\\right)(x-b)+f(b)\n",
    "\\end{equation*}\n",
    "と表すことができる．また，$l$は点Aを通るから，方程式\n",
    "\\begin{equation*}\n",
    "\\fbox{ サ }\\,\\, b^3-\\fbox{ シ }\\,\\, b^2+1=0\n",
    "\\end{equation*}\n",
    "を得る．この方程式を解くと，\n",
    "\\begin{equation*}\n",
    "b = \\fbox{ ス }\\,\\,, \\frac{\\fbox{ セソ }}{\\fbox{ タ }}\n",
    "\\end{equation*}\n",
    "であるが，$l$の傾きが0でないことから，$l$の方程式は\n",
    "\\begin{equation*}\n",
    "y = \\frac{\\fbox{ チツ }}{\\fbox{ テ }}\\,\\, x+\\frac{\\fbox{ ト }}{\\fbox{ ナ }}\n",
    "\\end{equation*}\n",
    "である．\n",
    "\n"
   ]
  },
  {
   "cell_type": "code",
   "execution_count": 244,
   "metadata": {},
   "outputs": [
    {
     "data": {
      "text/latex": [
       "$\\displaystyle b^{3} - \\frac{16 b}{3} + \\left(- b + x\\right) \\left(3 b^{2} - \\frac{16}{3}\\right)$"
      ],
      "text/plain": [
       "b**3 - 16*b/3 + (-b + x)*(3*b**2 - 16/3)"
      ]
     },
     "execution_count": 244,
     "metadata": {},
     "output_type": "execute_result"
    }
   ],
   "source": [
    "yl=df.subs({p:p0}).subs({x:b})*(x-b)+yC.subs({x:b})\n",
    "yl"
   ]
  },
  {
   "cell_type": "code",
   "execution_count": 245,
   "metadata": {},
   "outputs": [
    {
     "data": {
      "text/latex": [
       "$\\displaystyle 2 b^{3} - 4 b^{2} + \\frac{64}{27}$"
      ],
      "text/plain": [
       "2*b**3 - 4*b**2 + 64/27"
      ]
     },
     "execution_count": 245,
     "metadata": {},
     "output_type": "execute_result"
    }
   ],
   "source": [
    "eq = -expand(yl.subs({x:xx[1]})-yC.subs({x:xx[1]}))\n",
    "eq"
   ]
  },
  {
   "cell_type": "code",
   "execution_count": 246,
   "metadata": {},
   "outputs": [
    {
     "data": {
      "text/plain": [
       "[-2/3, 4/3]"
      ]
     },
     "execution_count": 246,
     "metadata": {},
     "output_type": "execute_result"
    }
   ],
   "source": [
    "bb = solve(eq,b)\n",
    "bb"
   ]
  },
  {
   "cell_type": "code",
   "execution_count": 247,
   "metadata": {},
   "outputs": [
    {
     "data": {
      "text/latex": [
       "$\\displaystyle \\frac{16}{27} - 4 x$"
      ],
      "text/plain": [
       "16/27 - 4*x"
      ]
     },
     "execution_count": 247,
     "metadata": {},
     "output_type": "execute_result"
    }
   ],
   "source": [
    "b0=bb[0]\n",
    "yl.subs({b:b0})"
   ]
  },
  {
   "cell_type": "markdown",
   "metadata": {},
   "source": [
    "点Aを頂点とし，原点を通る放物線を$D$とする．$l$と$D$で囲まれた図形のうち，不等式$x \\geqq 0$の表す領域に含まれる部分の面積$S$を求めよう．$D$の方程式は，\n",
    "\\begin{equation*}\n",
    "y = \\fbox{ ニ }\\,\\, x^2 -\\fbox{ ヌ }\\,\\, x\n",
    "\\end{equation*}\n",
    "であるから，定積分を計算することにより，$\\displaystyle S=\\frac{\\fbox{ ネノ }}{24}$となる．(10点)\n",
    "\n",
    "(2014年度大学入試センター試験　本試験　数学II・B第2問)"
   ]
  },
  {
   "cell_type": "code",
   "execution_count": 248,
   "metadata": {},
   "outputs": [
    {
     "name": "stdout",
     "output_type": "stream",
     "text": [
      "k*(x - 4/3)**2 - 128/27\n"
     ]
    },
    {
     "data": {
      "text/latex": [
       "$\\displaystyle \\frac{8}{3}$"
      ],
      "text/plain": [
       "8/3"
      ]
     },
     "execution_count": 248,
     "metadata": {},
     "output_type": "execute_result"
    }
   ],
   "source": [
    "yD = k*(x-xx[1])**2+yC.subs({x:xx[1]})\n",
    "print(yD)\n",
    "kk = solve(yD.subs({x:0}),k)\n",
    "k0 = kk[0]\n",
    "k0"
   ]
  },
  {
   "cell_type": "code",
   "execution_count": 249,
   "metadata": {},
   "outputs": [
    {
     "data": {
      "text/latex": [
       "$\\displaystyle - \\frac{8 x^{2}}{3} + \\frac{28 x}{9} + \\frac{16}{27}$"
      ],
      "text/plain": [
       "-8*x**2/3 + 28*x/9 + 16/27"
      ]
     },
     "execution_count": 249,
     "metadata": {},
     "output_type": "execute_result"
    }
   ],
   "source": [
    "expand(yl.subs({b:b0}) - yD.subs({k:k0}))"
   ]
  },
  {
   "cell_type": "code",
   "execution_count": 250,
   "metadata": {
    "scrolled": true
   },
   "outputs": [
    {
     "data": {
      "text/latex": [
       "$\\displaystyle \\frac{352}{243}$"
      ],
      "text/plain": [
       "352/243"
      ]
     },
     "execution_count": 250,
     "metadata": {},
     "output_type": "execute_result"
    }
   ],
   "source": [
    "integrate(yl.subs({b:b0}) - yD.subs({k:k0}),(x,0,xx[1]))"
   ]
  },
  {
   "cell_type": "code",
   "execution_count": null,
   "metadata": {},
   "outputs": [],
   "source": []
  }
 ],
 "metadata": {
  "kernelspec": {
   "display_name": "Python 3",
   "language": "python",
   "name": "python3"
  },
  "language_info": {
   "codemirror_mode": {
    "name": "ipython",
    "version": 3
   },
   "file_extension": ".py",
   "mimetype": "text/x-python",
   "name": "python",
   "nbconvert_exporter": "python",
   "pygments_lexer": "ipython3",
   "version": "3.8.3"
  },
  "toc": {
   "base_numbering": 1,
   "nav_menu": {},
   "number_sections": true,
   "sideBar": true,
   "skip_h1_title": false,
   "title_cell": "Table of Contents",
   "title_sidebar": "Contents",
   "toc_cell": false,
   "toc_position": {},
   "toc_section_display": true,
   "toc_window_display": true
  }
 },
 "nbformat": 4,
 "nbformat_minor": 4
}
