{
 "cells": [
  {
   "cell_type": "markdown",
   "metadata": {
    "toc": "true"
   },
   "source": [
    "# Table of Contents\n",
    " <p><div class=\"lev1 toc-item\"><a href=\"#微積分\" data-toc-modified-id=\"微積分-1\"><span class=\"toc-item-num\">1&nbsp;&nbsp;</span>微積分</a></div><div class=\"lev2 toc-item\"><a href=\"#微分\" data-toc-modified-id=\"微分-11\"><span class=\"toc-item-num\">1.1&nbsp;&nbsp;</span>微分</a></div><div class=\"lev2 toc-item\"><a href=\"#2重積分\" data-toc-modified-id=\"2重積分-12\"><span class=\"toc-item-num\">1.2&nbsp;&nbsp;</span>2重積分</a></div>"
   ]
  },
  {
   "cell_type": "markdown",
   "metadata": {},
   "source": [
    "# 微積分\n",
    "## 微分"
   ]
  },
  {
   "cell_type": "code",
   "execution_count": 114,
   "metadata": {
    "collapsed": true
   },
   "outputs": [],
   "source": [
    "from sympy import *\n",
    "init_printing()"
   ]
  },
  {
   "cell_type": "code",
   "execution_count": 115,
   "metadata": {
    "collapsed": true
   },
   "outputs": [],
   "source": [
    "x = symbols(\"x\")\n",
    "y = asin((x**2-1)/(x**2+1))"
   ]
  },
  {
   "cell_type": "code",
   "execution_count": 116,
   "metadata": {},
   "outputs": [
    {
     "data": {
      "image/png": "[encoded data removed]",
      "text/latex": [
       "$$\\frac{- \\frac{2 x \\left(x^{2} - 1\\right)}{\\left(x^{2} + 1\\right)^{2}} + \\frac{2 x}{x^{2} + 1}}{\\sqrt{- \\frac{\\left(x^{2} - 1\\right)^{2}}{\\left(x^{2} + 1\\right)^{2}} + 1}}$$"
      ],
      "text/plain": [
       "       ⎛ 2    ⎞          \n",
       "   2⋅x⋅⎝x  - 1⎠    2⋅x   \n",
       " - ──────────── + ────── \n",
       "            2      2     \n",
       "    ⎛ 2    ⎞      x  + 1 \n",
       "    ⎝x  + 1⎠             \n",
       "─────────────────────────\n",
       "        _________________\n",
       "       ╱           2     \n",
       "      ╱    ⎛ 2    ⎞      \n",
       "     ╱     ⎝x  - 1⎠      \n",
       "    ╱    - ───────── + 1 \n",
       "   ╱               2     \n",
       "  ╱        ⎛ 2    ⎞      \n",
       "╲╱         ⎝x  + 1⎠      "
      ]
     },
     "execution_count": 116,
     "metadata": {},
     "output_type": "execute_result"
    }
   ],
   "source": [
    "dy = diff(y,x)\n",
    "dy"
   ]
  },
  {
   "cell_type": "code",
   "execution_count": 117,
   "metadata": {},
   "outputs": [
    {
     "data": {
      "image/png": "[encoded data removed]",
      "text/latex": [
       "$$\\frac{2 x}{\\sqrt{\\frac{x^{2}}{x^{4} + 2 x^{2} + 1}} \\left(x^{4} + 2 x^{2} + 1\\right)}$$"
      ],
      "text/plain": [
       "                 2⋅x                 \n",
       "─────────────────────────────────────\n",
       "      _______________                \n",
       "     ╱        2                      \n",
       "    ╱        x        ⎛ 4      2    ⎞\n",
       "   ╱   ───────────── ⋅⎝x  + 2⋅x  + 1⎠\n",
       "  ╱     4      2                     \n",
       "╲╱     x  + 2⋅x  + 1                 "
      ]
     },
     "execution_count": 117,
     "metadata": {},
     "output_type": "execute_result"
    }
   ],
   "source": [
    "simplify(dy)"
   ]
  },
  {
   "cell_type": "code",
   "execution_count": 118,
   "metadata": {},
   "outputs": [
    {
     "name": "stdout",
     "output_type": "stream",
     "text": [
      "IPython console for SymPy 1.0 (Python 3.6.1-64-bit) (ground types: python)\n",
      "\n",
      "These commands were executed:\n",
      ">>> from __future__ import division\n",
      ">>> from sympy import *\n",
      ">>> x, y, z, t = symbols('x y z t')\n",
      ">>> k, m, n = symbols('k m n', integer=True)\n",
      ">>> f, g, h = symbols('f g h', cls=Function)\n",
      ">>> init_printing()\n",
      "\n",
      "Documentation can be found at http://docs.sympy.org/1.0/\n"
     ]
    }
   ],
   "source": [
    "from sympy import *\n",
    "init_session()"
   ]
  },
  {
   "cell_type": "markdown",
   "metadata": {},
   "source": [
    "## 2重積分"
   ]
  },
  {
   "cell_type": "code",
   "execution_count": 119,
   "metadata": {},
   "outputs": [
    {
     "data": {
      "image/png": "[encoded data removed]",
      "text/latex": [
       "$$\\sqrt{x^{2} + 4 y^{2}}$$"
      ],
      "text/plain": [
       "   ___________\n",
       "  ╱  2      2 \n",
       "╲╱  x  + 4⋅y  "
      ]
     },
     "execution_count": 119,
     "metadata": {},
     "output_type": "execute_result"
    }
   ],
   "source": [
    "x,y = symbols('x,y')\n",
    "\n",
    "f = sqrt(x**2+4*y**2)\n",
    "f"
   ]
  },
  {
   "cell_type": "code",
   "execution_count": 120,
   "metadata": {},
   "outputs": [
    {
     "data": {
      "image/png": "[encoded data removed]",
      "text/latex": [
       "$$\\frac{x^{2}}{4} \\operatorname{asinh}{\\left (2 \\right )} + \\frac{\\sqrt{5} x^{2}}{2}$$"
      ],
      "text/plain": [
       " 2                2\n",
       "x ⋅asinh(2)   √5⋅x \n",
       "─────────── + ─────\n",
       "     4          2  "
      ]
     },
     "execution_count": 120,
     "metadata": {},
     "output_type": "execute_result"
    }
   ],
   "source": [
    "dx = integrate(f,(y,0,x))\n",
    "dx"
   ]
  },
  {
   "cell_type": "code",
   "execution_count": 121,
   "metadata": {},
   "outputs": [
    {
     "data": {
      "image/png": "[encoded data removed]",
      "text/latex": [
       "$$\\frac{1}{12} \\operatorname{asinh}{\\left (2 \\right )} + \\frac{\\sqrt{5}}{6}$$"
      ],
      "text/plain": [
       "asinh(2)   √5\n",
       "──────── + ──\n",
       "   12      6 "
      ]
     },
     "execution_count": 121,
     "metadata": {},
     "output_type": "execute_result"
    }
   ],
   "source": [
    "integrate(dx,(x,0,1))"
   ]
  },
  {
   "cell_type": "code",
   "execution_count": null,
   "metadata": {
    "collapsed": true
   },
   "outputs": [],
   "source": []
  }
 ],
 "metadata": {
  "kernelspec": {
   "display_name": "Python 3",
   "language": "python",
   "name": "python3"
  },
  "language_info": {
   "codemirror_mode": {
    "name": "ipython",
    "version": 3
   },
   "file_extension": ".py",
   "mimetype": "text/x-python",
   "name": "python",
   "nbconvert_exporter": "python",
   "pygments_lexer": "ipython3",
   "version": "3.6.1"
  },
  "latex_envs": {
   "LaTeX_envs_menu_present": true,
   "autocomplete": true,
   "bibliofile": "biblio.bib",
   "cite_by": "apalike",
   "current_citInitial": 1,
   "eqLabelWithNumbers": true,
   "eqNumInitial": 1,
   "hotkeys": {
    "equation": "Ctrl-E",
    "itemize": "Ctrl-I"
   },
   "labels_anchors": false,
   "latex_user_defs": false,
   "report_style_numbering": false,
   "user_envs_cfg": false
  },
  "toc": {
   "colors": {
    "hover_highlight": "#DAA520",
    "navigate_num": "#000000",
    "navigate_text": "#333333",
    "running_highlight": "#FF0000",
    "selected_highlight": "#FFD700",
    "sidebar_border": "#EEEEEE",
    "wrapper_background": "#FFFFFF"
   },
   "moveMenuLeft": true,
   "nav_menu": {
    "height": "13px",
    "width": "253px"
   },
   "navigate_menu": true,
   "number_sections": true,
   "sideBar": true,
   "threshold": 4,
   "toc_cell": true,
   "toc_section_display": "block",
   "toc_window_display": true,
   "widenNotebook": false
  }
 },
 "nbformat": 4,
 "nbformat_minor": 2
}
