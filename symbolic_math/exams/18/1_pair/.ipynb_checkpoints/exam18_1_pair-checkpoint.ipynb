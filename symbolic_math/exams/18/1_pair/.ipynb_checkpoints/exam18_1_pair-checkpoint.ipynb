{
 "cells": [
  {
   "cell_type": "markdown",
   "metadata": {
    "toc": "true"
   },
   "source": [
    "# Table of Contents\n",
    " <p><div class=\"lev1 toc-item\"><a href=\"#微積分\" data-toc-modified-id=\"微積分-1\"><span class=\"toc-item-num\">1&nbsp;&nbsp;</span>微積分</a></div><div class=\"lev2 toc-item\"><a href=\"#微分\" data-toc-modified-id=\"微分-11\"><span class=\"toc-item-num\">1.1&nbsp;&nbsp;</span>微分</a></div><div class=\"lev2 toc-item\"><a href=\"#2重積分\" data-toc-modified-id=\"2重積分-12\"><span class=\"toc-item-num\">1.2&nbsp;&nbsp;</span>2重積分</a></div><div class=\"lev1 toc-item\"><a href=\"#線形代数\" data-toc-modified-id=\"線形代数-2\"><span class=\"toc-item-num\">2&nbsp;&nbsp;</span>線形代数</a></div><div class=\"lev2 toc-item\"><a href=\"#写像のIm,-Ker\" data-toc-modified-id=\"写像のIm,-Ker-21\"><span class=\"toc-item-num\">2.1&nbsp;&nbsp;</span>写像のIm, Ker</a></div><div class=\"lev2 toc-item\"><a href=\"#行列の対角化\" data-toc-modified-id=\"行列の対角化-22\"><span class=\"toc-item-num\">2.2&nbsp;&nbsp;</span>行列の対角化</a></div><div class=\"lev1 toc-item\"><a href=\"#数式変形\" data-toc-modified-id=\"数式変形-3\"><span class=\"toc-item-num\">3&nbsp;&nbsp;</span>数式変形</a></div><div class=\"lev2 toc-item\"><a href=\"#(1-a)--センター試験オリジナル\" data-toc-modified-id=\"(1-a)--センター試験オリジナル-31\"><span class=\"toc-item-num\">3.1&nbsp;&nbsp;</span>(1-a)  センター試験オリジナル</a></div><div class=\"lev2 toc-item\"><a href=\"#(1-b)\" data-toc-modified-id=\"(1-b)-32\"><span class=\"toc-item-num\">3.2&nbsp;&nbsp;</span>(1-b)</a></div><div class=\"lev1 toc-item\"><a href=\"#3-(a)-以降のpythonによる導出\" data-toc-modified-id=\"3-(a)-以降のpythonによる導出-4\"><span class=\"toc-item-num\">4&nbsp;&nbsp;</span>3-(a) 以降のpythonによる導出</a></div>"
   ]
  },
  {
   "cell_type": "markdown",
   "metadata": {},
   "source": [
    "# 微積分\n",
    "## 微分"
   ]
  },
  {
   "cell_type": "code",
   "execution_count": 1,
   "metadata": {
    "collapsed": true
   },
   "outputs": [],
   "source": [
    "from sympy import *\n",
    "init_printing()"
   ]
  },
  {
   "cell_type": "code",
   "execution_count": 2,
   "metadata": {},
   "outputs": [
    {
     "data": {
      "image/png": "[encoded data removed]",
      "text/latex": [
       "$$\\operatorname{asin}{\\left (\\frac{x^{2} - 1}{x^{2} + 1} \\right )}$$"
      ],
      "text/plain": [
       "    ⎛ 2    ⎞\n",
       "    ⎜x  - 1⎟\n",
       "asin⎜──────⎟\n",
       "    ⎜ 2    ⎟\n",
       "    ⎝x  + 1⎠"
      ]
     },
     "execution_count": 2,
     "metadata": {},
     "output_type": "execute_result"
    }
   ],
   "source": [
    "x = symbols('x',positive = True)\n",
    "# x = symbols('x')\n",
    "\n",
    "y = asin((x**2-1)/(x**2+1))\n",
    "y"
   ]
  },
  {
   "cell_type": "code",
   "execution_count": 3,
   "metadata": {},
   "outputs": [
    {
     "data": {
      "image/png": "[encoded data removed]",
      "text/latex": [
       "$$\\frac{- \\frac{2 x \\left(x^{2} - 1\\right)}{\\left(x^{2} + 1\\right)^{2}} + \\frac{2 x}{x^{2} + 1}}{\\sqrt{- \\frac{\\left(x^{2} - 1\\right)^{2}}{\\left(x^{2} + 1\\right)^{2}} + 1}}$$"
      ],
      "text/plain": [
       "       ⎛ 2    ⎞          \n",
       "   2⋅x⋅⎝x  - 1⎠    2⋅x   \n",
       " - ──────────── + ────── \n",
       "            2      2     \n",
       "    ⎛ 2    ⎞      x  + 1 \n",
       "    ⎝x  + 1⎠             \n",
       "─────────────────────────\n",
       "        _________________\n",
       "       ╱           2     \n",
       "      ╱    ⎛ 2    ⎞      \n",
       "     ╱     ⎝x  - 1⎠      \n",
       "    ╱    - ───────── + 1 \n",
       "   ╱               2     \n",
       "  ╱        ⎛ 2    ⎞      \n",
       "╲╱         ⎝x  + 1⎠      "
      ]
     },
     "execution_count": 3,
     "metadata": {},
     "output_type": "execute_result"
    }
   ],
   "source": [
    "dy = diff(y,x)\n",
    "dy"
   ]
  },
  {
   "cell_type": "code",
   "execution_count": 4,
   "metadata": {},
   "outputs": [
    {
     "data": {
      "image/png": "[encoded data removed]",
      "text/latex": [
       "$$\\frac{2}{x^{2} + 1}$$"
      ],
      "text/plain": [
       "  2   \n",
       "──────\n",
       " 2    \n",
       "x  + 1"
      ]
     },
     "execution_count": 4,
     "metadata": {},
     "output_type": "execute_result"
    }
   ],
   "source": [
    "simplify(dy)"
   ]
  },
  {
   "cell_type": "markdown",
   "metadata": {},
   "source": [
    "## 2重積分"
   ]
  },
  {
   "cell_type": "code",
   "execution_count": 5,
   "metadata": {},
   "outputs": [
    {
     "data": {
      "image/png": "[encoded data removed]",
      "text/latex": [
       "$$\\sqrt{x^{2} + 4 y^{2}}$$"
      ],
      "text/plain": [
       "   ___________\n",
       "  ╱  2      2 \n",
       "╲╱  x  + 4⋅y  "
      ]
     },
     "execution_count": 5,
     "metadata": {},
     "output_type": "execute_result"
    }
   ],
   "source": [
    "x,y = symbols('x,y')\n",
    "\n",
    "f = sqrt(x**2+4*y**2)\n",
    "f"
   ]
  },
  {
   "cell_type": "code",
   "execution_count": 9,
   "metadata": {},
   "outputs": [
    {
     "data": {
      "image/png": "[encoded data removed]",
      "text/latex": [
       "$$2 y^{2} \\operatorname{asinh}{\\left (\\frac{1}{2} \\right )} + \\frac{\\sqrt{5} y^{2}}{2}$$"
      ],
      "text/plain": [
       "                      2\n",
       "   2              √5⋅y \n",
       "2⋅y ⋅asinh(1/2) + ─────\n",
       "                    2  "
      ]
     },
     "execution_count": 9,
     "metadata": {},
     "output_type": "execute_result"
    }
   ],
   "source": [
    "dy = integrate(f,(x,0,y))\n",
    "dy"
   ]
  },
  {
   "cell_type": "code",
   "execution_count": 10,
   "metadata": {},
   "outputs": [
    {
     "data": {
      "image/png": "[encoded data removed]",
      "text/latex": [
       "$$\\frac{2}{3} \\operatorname{asinh}{\\left (\\frac{1}{2} \\right )} + \\frac{\\sqrt{5}}{6}$$"
      ],
      "text/plain": [
       "2⋅asinh(1/2)   √5\n",
       "──────────── + ──\n",
       "     3         6 "
      ]
     },
     "execution_count": 10,
     "metadata": {},
     "output_type": "execute_result"
    }
   ],
   "source": [
    "integrate(dy,(y,0,1))"
   ]
  },
  {
   "cell_type": "markdown",
   "metadata": {
    "collapsed": true
   },
   "source": [
    "# 線形代数\n",
    "## 写像のIm, Ker\n",
    "\n",
    "これ以降init_printing()していますが，Kernel->restartも忘れずに実行してください．"
   ]
  },
  {
   "cell_type": "code",
   "execution_count": 14,
   "metadata": {},
   "outputs": [
    {
     "data": {
      "image/png": "[encoded data removed]",
      "text/latex": [
       "$$\\left[\\begin{matrix}1 & 1 & 3 & 3\\\\0 & 1 & 1 & 2\\\\1 & 0 & 2 & 1\\end{matrix}\\right]$$"
      ],
      "text/plain": [
       "⎡1  1  3  3⎤\n",
       "⎢          ⎥\n",
       "⎢0  1  1  2⎥\n",
       "⎢          ⎥\n",
       "⎣1  0  2  1⎦"
      ]
     },
     "execution_count": 14,
     "metadata": {},
     "output_type": "execute_result"
    }
   ],
   "source": [
    "from sympy import *\n",
    "init_printing()\n",
    "A = Matrix([[1,1,3,3],[0,1,1,2],[1,0,2,1]])\n",
    "A"
   ]
  },
  {
   "cell_type": "code",
   "execution_count": 15,
   "metadata": {},
   "outputs": [
    {
     "data": {
      "image/png": "[encoded data removed]",
      "text/latex": [
       "$$\\left [ \\left[\\begin{matrix}-2\\\\-1\\\\1\\\\0\\end{matrix}\\right], \\quad \\left[\\begin{matrix}-1\\\\-2\\\\0\\\\1\\end{matrix}\\right]\\right ]$$"
      ],
      "text/plain": [
       "⎡⎡-2⎤, ⎡-1⎤⎤\n",
       "⎢⎢  ⎥  ⎢  ⎥⎥\n",
       "⎢⎢-1⎥  ⎢-2⎥⎥\n",
       "⎢⎢  ⎥  ⎢  ⎥⎥\n",
       "⎢⎢1 ⎥  ⎢0 ⎥⎥\n",
       "⎢⎢  ⎥  ⎢  ⎥⎥\n",
       "⎣⎣0 ⎦  ⎣1 ⎦⎦"
      ]
     },
     "execution_count": 15,
     "metadata": {},
     "output_type": "execute_result"
    }
   ],
   "source": [
    "A.nullspace()"
   ]
  },
  {
   "cell_type": "code",
   "execution_count": 16,
   "metadata": {},
   "outputs": [
    {
     "data": {
      "image/png": "[encoded data removed]",
      "text/latex": [
       "$$\\left [ \\left[\\begin{matrix}1\\\\0\\\\1\\end{matrix}\\right], \\quad \\left[\\begin{matrix}1\\\\1\\\\0\\end{matrix}\\right]\\right ]$$"
      ],
      "text/plain": [
       "⎡⎡1⎤, ⎡1⎤⎤\n",
       "⎢⎢ ⎥  ⎢ ⎥⎥\n",
       "⎢⎢0⎥  ⎢1⎥⎥\n",
       "⎢⎢ ⎥  ⎢ ⎥⎥\n",
       "⎣⎣1⎦  ⎣0⎦⎦"
      ]
     },
     "execution_count": 16,
     "metadata": {},
     "output_type": "execute_result"
    }
   ],
   "source": [
    "A.columnspace()"
   ]
  },
  {
   "cell_type": "code",
   "execution_count": 17,
   "metadata": {},
   "outputs": [
    {
     "data": {
      "image/png": "[encoded data removed]",
      "text/latex": [
       "$$\\left ( \\left[\\begin{matrix}1 & 0 & 2 & 1\\\\0 & 1 & 1 & 2\\\\0 & 0 & 0 & 0\\end{matrix}\\right], \\quad \\left [ 0, \\quad 1\\right ]\\right )$$"
      ],
      "text/plain": [
       "⎛⎡1  0  2  1⎤, [0, 1]⎞\n",
       "⎜⎢          ⎥        ⎟\n",
       "⎜⎢0  1  1  2⎥        ⎟\n",
       "⎜⎢          ⎥        ⎟\n",
       "⎝⎣0  0  0  0⎦        ⎠"
      ]
     },
     "execution_count": 17,
     "metadata": {},
     "output_type": "execute_result"
    }
   ],
   "source": [
    "A.rref()"
   ]
  },
  {
   "cell_type": "markdown",
   "metadata": {},
   "source": [
    "## 行列の対角化"
   ]
  },
  {
   "cell_type": "code",
   "execution_count": 18,
   "metadata": {},
   "outputs": [
    {
     "data": {
      "image/png": "[encoded data removed]",
      "text/latex": [
       "$$\\left[\\begin{matrix}0.5 & 0 & 0.5\\\\0 & 0.5 & 0.5\\\\0.5 & 0.5 & 0\\end{matrix}\\right]$$"
      ],
      "text/plain": [
       "⎡0.5   0   0.5⎤\n",
       "⎢             ⎥\n",
       "⎢ 0   0.5  0.5⎥\n",
       "⎢             ⎥\n",
       "⎣0.5  0.5   0 ⎦"
      ]
     },
     "execution_count": 18,
     "metadata": {},
     "output_type": "execute_result"
    }
   ],
   "source": [
    "from sympy import *\n",
    "init_printing()\n",
    "A = Matrix([[1/2,0,1/2],[0,1/2,1/2],[1/2,1/2,0]])\n",
    "A"
   ]
  },
  {
   "cell_type": "code",
   "execution_count": 19,
   "metadata": {
    "collapsed": true
   },
   "outputs": [],
   "source": [
    "P,D = A.diagonalize()"
   ]
  },
  {
   "cell_type": "code",
   "execution_count": 20,
   "metadata": {},
   "outputs": [
    {
     "data": {
      "image/png": "[encoded data removed]",
      "text/latex": [
       "$$\\left[\\begin{matrix}-0.5 & 0 & -5.55111512312578 \\cdot 10^{-17}\\\\0 & 0.5 & 0\\\\0 & 0 & 1.0\\end{matrix}\\right]$$"
      ],
      "text/plain": [
       "⎡-0.5   0   -5.55111512312578e-17⎤\n",
       "⎢                                ⎥\n",
       "⎢ 0    0.5            0          ⎥\n",
       "⎢                                ⎥\n",
       "⎣ 0     0            1.0         ⎦"
      ]
     },
     "execution_count": 20,
     "metadata": {},
     "output_type": "execute_result"
    }
   ],
   "source": [
    "P.inv()*A*P"
   ]
  },
  {
   "cell_type": "markdown",
   "metadata": {},
   "source": [
    "# 数式変形"
   ]
  },
  {
   "cell_type": "markdown",
   "metadata": {},
   "source": [
    "## (1-a)  センター試験オリジナル"
   ]
  },
  {
   "cell_type": "code",
   "execution_count": 21,
   "metadata": {
    "collapsed": true
   },
   "outputs": [],
   "source": [
    "%matplotlib inline\n",
    "from sympy import *\n",
    "init_printing()\n",
    "\n",
    "a,x,t = symbols('a,x,t')"
   ]
  },
  {
   "cell_type": "code",
   "execution_count": 22,
   "metadata": {},
   "outputs": [
    {
     "data": {
      "image/png": "[encoded data removed]",
      "text/latex": [
       "$$x^{2} + 1$$"
      ],
      "text/plain": [
       " 2    \n",
       "x  + 1"
      ]
     },
     "execution_count": 22,
     "metadata": {},
     "output_type": "execute_result"
    }
   ],
   "source": [
    "y_1 = x**2+1\n",
    "y_1 #放物線Cの関数"
   ]
  },
  {
   "cell_type": "code",
   "execution_count": 23,
   "metadata": {},
   "outputs": [
    {
     "data": {
      "image/png": "[encoded data removed]",
      "text/latex": [
       "$$2 x$$"
      ],
      "text/plain": [
       "2⋅x"
      ]
     },
     "execution_count": 23,
     "metadata": {},
     "output_type": "execute_result"
    }
   ],
   "source": [
    "l_a = 2*x\n",
    "l_a #Pの軌跡"
   ]
  },
  {
   "cell_type": "code",
   "execution_count": 24,
   "metadata": {},
   "outputs": [
    {
     "data": {
      "image/png": "[encoded data removed]",
      "text/latex": [
       "$$2 x$$"
      ],
      "text/plain": [
       "2⋅x"
      ]
     },
     "execution_count": 24,
     "metadata": {},
     "output_type": "execute_result"
    }
   ],
   "source": [
    "m = diff(y_1,x)\n",
    "m"
   ]
  },
  {
   "cell_type": "code",
   "execution_count": 25,
   "metadata": {},
   "outputs": [
    {
     "data": {
      "image/png": "[encoded data removed]",
      "text/latex": [
       "$$- t^{2} + 2 t x + 1$$"
      ],
      "text/plain": [
       "   2            \n",
       "- t  + 2⋅t⋅x + 1"
      ]
     },
     "execution_count": 25,
     "metadata": {},
     "output_type": "execute_result"
    }
   ],
   "source": [
    "x0 = t\n",
    "y0 = y_1.subs({x:x0})\n",
    "l0 = m.subs({x:t})*(x-x0)+y0\n",
    "expand(l0) #アイ, 接線の方程式"
   ]
  },
  {
   "cell_type": "code",
   "execution_count": 26,
   "metadata": {},
   "outputs": [
    {
     "data": {
      "image/png": "[encoded data removed]",
      "text/latex": [
       "$$- 2 a t + 2 a + t^{2} - 1$$"
      ],
      "text/plain": [
       "                2    \n",
       "-2⋅a⋅t + 2⋅a + t  - 1"
      ]
     },
     "execution_count": 26,
     "metadata": {},
     "output_type": "execute_result"
    }
   ],
   "source": [
    "eq1 = -(l0.subs({x:a})-l_a.subs({x:a}))\n",
    "expand(eq1) #ウエオ，tの方程式"
   ]
  },
  {
   "cell_type": "code",
   "execution_count": 27,
   "metadata": {},
   "outputs": [
    {
     "data": {
      "image/png": "[encoded data removed]",
      "text/latex": [
       "$$\\left [ 1, \\quad 2 a - 1\\right ]$$"
      ],
      "text/plain": [
       "[1, 2⋅a - 1]"
      ]
     },
     "execution_count": 27,
     "metadata": {},
     "output_type": "execute_result"
    }
   ],
   "source": [
    "s1 = solve(eq1,t)\n",
    "s1 #カキク, tの値"
   ]
  },
  {
   "cell_type": "code",
   "execution_count": 28,
   "metadata": {},
   "outputs": [
    {
     "data": {
      "image/png": "[encoded data removed]",
      "text/latex": [
       "$$- 4 a^{2} + 4 a + x \\left(4 a - 2\\right)$$"
      ],
      "text/plain": [
       "     2                    \n",
       "- 4⋅a  + 4⋅a + x⋅(4⋅a - 2)"
      ]
     },
     "execution_count": 28,
     "metadata": {},
     "output_type": "execute_result"
    }
   ],
   "source": [
    "l_1 = collect(expand(l0.subs({t:s1[1]})),x)\n",
    "l_1"
   ]
  },
  {
   "cell_type": "code",
   "execution_count": 29,
   "metadata": {},
   "outputs": [
    {
     "data": {
      "image/png": "[encoded data removed]",
      "text/latex": [
       "$$2 x$$"
      ],
      "text/plain": [
       "2⋅x"
      ]
     },
     "execution_count": 29,
     "metadata": {},
     "output_type": "execute_result"
    }
   ],
   "source": [
    "l_0 = l0.subs({t:s1[0]})\n",
    "l_0 #"
   ]
  },
  {
   "cell_type": "markdown",
   "metadata": {},
   "source": [
    "## (1-b)"
   ]
  },
  {
   "cell_type": "code",
   "execution_count": 39,
   "metadata": {
    "collapsed": true
   },
   "outputs": [],
   "source": [
    "%matplotlib inline\n",
    "from sympy import *\n",
    "init_printing()"
   ]
  },
  {
   "cell_type": "code",
   "execution_count": 40,
   "metadata": {
    "collapsed": true
   },
   "outputs": [],
   "source": [
    "a,x,t = symbols('a,x,t')"
   ]
  },
  {
   "cell_type": "code",
   "execution_count": 41,
   "metadata": {},
   "outputs": [
    {
     "data": {
      "image/png": "[encoded data removed]",
      "text/latex": [
       "$$x^{2} + 2$$"
      ],
      "text/plain": [
       " 2    \n",
       "x  + 2"
      ]
     },
     "execution_count": 41,
     "metadata": {},
     "output_type": "execute_result"
    }
   ],
   "source": [
    "y_1 = x**2+2\n",
    "y_1"
   ]
  },
  {
   "cell_type": "code",
   "execution_count": 42,
   "metadata": {},
   "outputs": [
    {
     "data": {
      "image/png": "[encoded data removed]",
      "text/latex": [
       "$$2 \\sqrt{2} x$$"
      ],
      "text/plain": [
       "2⋅√2⋅x"
      ]
     },
     "execution_count": 42,
     "metadata": {},
     "output_type": "execute_result"
    }
   ],
   "source": [
    "l_a = sqrt(8)*x\n",
    "l_a"
   ]
  },
  {
   "cell_type": "code",
   "execution_count": 43,
   "metadata": {},
   "outputs": [
    {
     "data": {
      "image/png": "[encoded data removed]",
      "text/latex": [
       "$$2 x$$"
      ],
      "text/plain": [
       "2⋅x"
      ]
     },
     "execution_count": 43,
     "metadata": {},
     "output_type": "execute_result"
    }
   ],
   "source": [
    "m = diff(y_1,x)\n",
    "m"
   ]
  },
  {
   "cell_type": "code",
   "execution_count": 44,
   "metadata": {},
   "outputs": [
    {
     "data": {
      "image/png": "[encoded data removed]",
      "text/latex": [
       "$$- t^{2} + 2 t x + 2$$"
      ],
      "text/plain": [
       "   2            \n",
       "- t  + 2⋅t⋅x + 2"
      ]
     },
     "execution_count": 44,
     "metadata": {},
     "output_type": "execute_result"
    }
   ],
   "source": [
    "x0 = t\n",
    "y0 = y_1.subs({x:x0})\n",
    "l0 = m.subs({x:t})*(x-x0)+y0\n",
    "expand(l0) #アイ, 接線の方程式"
   ]
  },
  {
   "cell_type": "code",
   "execution_count": 45,
   "metadata": {},
   "outputs": [
    {
     "data": {
      "image/png": "[encoded data removed]",
      "text/latex": [
       "$$- 2 a t + 2 \\sqrt{2} a + t^{2} - 2$$"
      ],
      "text/plain": [
       "                   2    \n",
       "-2⋅a⋅t + 2⋅√2⋅a + t  - 2"
      ]
     },
     "execution_count": 45,
     "metadata": {},
     "output_type": "execute_result"
    }
   ],
   "source": [
    "eq1 = -(l0.subs({x:a})-l_a.subs({x:a}))\n",
    "expand(eq1) #ウエオ，tの方程式"
   ]
  },
  {
   "cell_type": "code",
   "execution_count": 46,
   "metadata": {},
   "outputs": [
    {
     "data": {
      "image/png": "[encoded data removed]",
      "text/latex": [
       "$$\\left [ a - \\sqrt{a^{2} - 2 \\sqrt{2} a + 2}, \\quad a + \\sqrt{a^{2} - 2 \\sqrt{2} a + 2}\\right ]$$"
      ],
      "text/plain": [
       "⎡       _________________         _________________⎤\n",
       "⎢      ╱  2                      ╱  2              ⎥\n",
       "⎣a - ╲╱  a  - 2⋅√2⋅a + 2 , a + ╲╱  a  - 2⋅√2⋅a + 2 ⎦"
      ]
     },
     "execution_count": 46,
     "metadata": {},
     "output_type": "execute_result"
    }
   ],
   "source": [
    "s1 = solve(eq1,t)\n",
    "s1 #カキク, tの値"
   ]
  },
  {
   "cell_type": "markdown",
   "metadata": {},
   "source": [
    "# 3-(a) 以降のpythonによる導出\n",
    "\n",
    "順番が前後しているので，入力の順序を間違えないように．\n",
    "ここは3-(a)からの続きになる．"
   ]
  },
  {
   "cell_type": "code",
   "execution_count": 30,
   "metadata": {},
   "outputs": [
    {
     "data": {
      "image/png": "[encoded data removed]",
      "text/latex": [
       "$$- 4 a^{2} + 4 a$$"
      ],
      "text/plain": [
       "     2      \n",
       "- 4⋅a  + 4⋅a"
      ]
     },
     "execution_count": 30,
     "metadata": {},
     "output_type": "execute_result"
    }
   ],
   "source": [
    "# ll = -4*a**2+4*a+x*(4*a−2)\n",
    " \n",
    "rr = l_1.subs({x:0})\n",
    "rr #シス"
   ]
  },
  {
   "cell_type": "code",
   "execution_count": 31,
   "metadata": {},
   "outputs": [
    {
     "data": {
      "image/png": "[encoded data removed]",
      "text/plain": [
       "<matplotlib.figure.Figure at 0x11983af60>"
      ]
     },
     "metadata": {},
     "output_type": "display_data"
    },
    {
     "data": {
      "text/plain": [
       "<sympy.plotting.plot.Plot at 0x11885a710>"
      ]
     },
     "execution_count": 31,
     "metadata": {},
     "output_type": "execute_result"
    }
   ],
   "source": [
    "%matplotlib inline\n",
    "\n",
    "plot(rr,(a,-1,2))"
   ]
  },
  {
   "cell_type": "code",
   "execution_count": 32,
   "metadata": {},
   "outputs": [
    {
     "data": {
      "image/png": "[encoded data removed]",
      "text/latex": [
       "$$2 a^{2} \\left(- a + 1\\right)$$"
      ],
      "text/plain": [
       "   2         \n",
       "2⋅a ⋅(-a + 1)"
      ]
     },
     "execution_count": 32,
     "metadata": {},
     "output_type": "execute_result"
    }
   ],
   "source": [
    "S = simplify(a*rr/2)\n",
    "S #チツテ"
   ]
  },
  {
   "cell_type": "code",
   "execution_count": 33,
   "metadata": {},
   "outputs": [
    {
     "data": {
      "image/png": "[encoded data removed]",
      "text/plain": [
       "<matplotlib.figure.Figure at 0x1131daba8>"
      ]
     },
     "metadata": {},
     "output_type": "display_data"
    },
    {
     "data": {
      "text/plain": [
       "<sympy.plotting.plot.Plot at 0x119840b00>"
      ]
     },
     "execution_count": 33,
     "metadata": {},
     "output_type": "execute_result"
    }
   ],
   "source": [
    "%matplotlib inline\n",
    "\n",
    "plot(S,(a,0,1))"
   ]
  },
  {
   "cell_type": "code",
   "execution_count": 34,
   "metadata": {},
   "outputs": [
    {
     "data": {
      "image/png": "[encoded data removed]",
      "text/latex": [
       "$$\\left [ 0, \\quad \\frac{2}{3}\\right ]$$"
      ],
      "text/plain": [
       "[0, 2/3]"
      ]
     },
     "execution_count": 34,
     "metadata": {},
     "output_type": "execute_result"
    }
   ],
   "source": [
    "s2 = solve(diff(S,a),a)\n",
    "s2 "
   ]
  },
  {
   "cell_type": "code",
   "execution_count": 35,
   "metadata": {},
   "outputs": [
    {
     "data": {
      "image/png": "[encoded data removed]",
      "text/latex": [
       "$$\\frac{2}{3}$$"
      ],
      "text/plain": [
       "2/3"
      ]
     },
     "execution_count": 35,
     "metadata": {},
     "output_type": "execute_result"
    }
   ],
   "source": [
    "s2[1] # ト，ナ"
   ]
  },
  {
   "cell_type": "code",
   "execution_count": 36,
   "metadata": {},
   "outputs": [
    {
     "data": {
      "image/png": "[encoded data removed]",
      "text/latex": [
       "$$\\frac{8}{27}$$"
      ],
      "text/plain": [
       "8/27"
      ]
     },
     "execution_count": 36,
     "metadata": {},
     "output_type": "execute_result"
    }
   ],
   "source": [
    "S.subs({a:s2[1]}) # ニヌネ"
   ]
  },
  {
   "cell_type": "code",
   "execution_count": 37,
   "metadata": {},
   "outputs": [
    {
     "data": {
      "image/png": "[encoded data removed]",
      "text/latex": [
       "$$\\frac{7 a^{3}}{3} - 3 a^{2} + a$$"
      ],
      "text/plain": [
       "   3           \n",
       "7⋅a       2    \n",
       "──── - 3⋅a  + a\n",
       " 3             "
      ]
     },
     "execution_count": 37,
     "metadata": {},
     "output_type": "execute_result"
    }
   ],
   "source": [
    "T = expand(integrate(y_1-l_1,(x,0,a)))\n",
    "T # ノハヒフ"
   ]
  },
  {
   "cell_type": "code",
   "execution_count": 38,
   "metadata": {},
   "outputs": [
    {
     "data": {
      "image/png": "[encoded data removed]",
      "text/plain": [
       "<matplotlib.figure.Figure at 0x11d163da0>"
      ]
     },
     "metadata": {},
     "output_type": "display_data"
    },
    {
     "data": {
      "text/plain": [
       "<sympy.plotting.plot.Plot at 0x1197a3e10>"
      ]
     },
     "execution_count": 38,
     "metadata": {},
     "output_type": "execute_result"
    }
   ],
   "source": [
    "%matplotlib inline\n",
    "\n",
    "plot(T,(a,0,1))"
   ]
  },
  {
   "cell_type": "code",
   "execution_count": null,
   "metadata": {
    "collapsed": true
   },
   "outputs": [],
   "source": []
  }
 ],
 "metadata": {
  "kernelspec": {
   "display_name": "Python 3",
   "language": "python",
   "name": "python3"
  },
  "language_info": {
   "codemirror_mode": {
    "name": "ipython",
    "version": 3
   },
   "file_extension": ".py",
   "mimetype": "text/x-python",
   "name": "python",
   "nbconvert_exporter": "python",
   "pygments_lexer": "ipython3",
   "version": "3.6.1"
  },
  "latex_envs": {
   "LaTeX_envs_menu_present": true,
   "autocomplete": true,
   "bibliofile": "biblio.bib",
   "cite_by": "apalike",
   "current_citInitial": 1,
   "eqLabelWithNumbers": true,
   "eqNumInitial": 1,
   "hotkeys": {
    "equation": "Ctrl-E",
    "itemize": "Ctrl-I"
   },
   "labels_anchors": false,
   "latex_user_defs": false,
   "report_style_numbering": false,
   "user_envs_cfg": false
  },
  "toc": {
   "colors": {
    "hover_highlight": "#DAA520",
    "navigate_num": "#000000",
    "navigate_text": "#333333",
    "running_highlight": "#FF0000",
    "selected_highlight": "#FFD700",
    "sidebar_border": "#EEEEEE",
    "wrapper_background": "#FFFFFF"
   },
   "moveMenuLeft": true,
   "nav_menu": {
    "height": "13px",
    "width": "253px"
   },
   "navigate_menu": true,
   "number_sections": true,
   "sideBar": true,
   "threshold": 4,
   "toc_cell": true,
   "toc_section_display": "block",
   "toc_window_display": false,
   "widenNotebook": false
  }
 },
 "nbformat": 4,
 "nbformat_minor": 2
}
