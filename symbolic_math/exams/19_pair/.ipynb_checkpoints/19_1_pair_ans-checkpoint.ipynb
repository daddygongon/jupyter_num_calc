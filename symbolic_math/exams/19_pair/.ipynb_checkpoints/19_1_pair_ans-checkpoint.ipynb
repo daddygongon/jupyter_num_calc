{
 "cells": [
  {
   "cell_type": "markdown",
   "metadata": {
    "toc": "true"
   },
   "source": [
    "# Table of Contents\n",
    " <p><div class=\"lev1 toc-item\"><a href=\"#微積分\" data-toc-modified-id=\"微積分-1\"><span class=\"toc-item-num\">1&nbsp;&nbsp;</span>微積分</a></div><div class=\"lev2 toc-item\"><a href=\"#偏微分，saddle-point\" data-toc-modified-id=\"偏微分，saddle-point-11\"><span class=\"toc-item-num\">1.1&nbsp;&nbsp;</span>偏微分，saddle point</a></div><div class=\"lev2 toc-item\"><a href=\"#(フーリエ積分)\" data-toc-modified-id=\"(フーリエ積分)-12\"><span class=\"toc-item-num\">1.2&nbsp;&nbsp;</span>(フーリエ積分)</a></div><div class=\"lev1 toc-item\"><a href=\"#線形代数\" data-toc-modified-id=\"線形代数-2\"><span class=\"toc-item-num\">2&nbsp;&nbsp;</span>線形代数</a></div><div class=\"lev2 toc-item\"><a href=\"#ヌルスペース\" data-toc-modified-id=\"ヌルスペース-21\"><span class=\"toc-item-num\">2.1&nbsp;&nbsp;</span>ヌルスペース</a></div><div class=\"lev2 toc-item\"><a href=\"#対角化\" data-toc-modified-id=\"対角化-22\"><span class=\"toc-item-num\">2.2&nbsp;&nbsp;</span>対角化</a></div><div class=\"lev1 toc-item\"><a href=\"#2015年度大学入試センター試験-本試験-数学II・B第2問\" data-toc-modified-id=\"2015年度大学入試センター試験-本試験-数学II・B第2問-3\"><span class=\"toc-item-num\">3&nbsp;&nbsp;</span>2015年度大学入試センター試験 本試験 数学II・B第2問</a></div><div class=\"lev2 toc-item\"><a href=\"#微分係数\" data-toc-modified-id=\"微分係数-31\"><span class=\"toc-item-num\">3.1&nbsp;&nbsp;</span>微分係数</a></div><div class=\"lev2 toc-item\"><a href=\"#放物線，接線\" data-toc-modified-id=\"放物線，接線-32\"><span class=\"toc-item-num\">3.2&nbsp;&nbsp;</span>放物線，接線</a></div><div class=\"lev3 toc-item\"><a href=\"#プロット\" data-toc-modified-id=\"プロット-321\"><span class=\"toc-item-num\">3.2.1&nbsp;&nbsp;</span>プロット</a></div><div class=\"lev2 toc-item\"><a href=\"#面積\" data-toc-modified-id=\"面積-33\"><span class=\"toc-item-num\">3.3&nbsp;&nbsp;</span>面積</a></div><div class=\"lev1 toc-item\"><a href=\"#センター試験数値計算化\" data-toc-modified-id=\"センター試験数値計算化-4\"><span class=\"toc-item-num\">4&nbsp;&nbsp;</span>センター試験数値計算化</a></div>"
   ]
  },
  {
   "cell_type": "markdown",
   "metadata": {},
   "source": [
    "<br />\n",
    "\n",
    "<div style=\"text-align: center;\">\n",
    "<font size=\"7\">2019ペア試験解答例</font>\n",
    "</div>\n",
    "<br />\n",
    "<div style=\"text-align: right;\">\n",
    "<font size=\"4\">cc by Shigeto R. Nishitani 2019 </font>\n",
    "</div>"
   ]
  },
  {
   "cell_type": "markdown",
   "metadata": {},
   "source": [
    "# 微積分\n",
    "\n",
    "## 偏微分，saddle point\n",
    "  関数$f(x,y)=x^2 - y^2$の2次偏導関数$f_{xx}, f_{xy}, f_{yx}, f_{yy}$を求めよ．\n",
    "  また，$(x,y)=(0,0)$での判別式\n",
    "  \\begin{equation*}\n",
    "    D = {f_{xy}(0,0)}^2-f_{xx}(0,0)f_{yy}(0,0) > 0\n",
    "  \\end{equation*}\n",
    "  を確かめよ．さらに，関数$f(x,y)$をplot3dして鞍点(saddle point)の意味を確認せよ．\n",
    "  (15点)\n"
   ]
  },
  {
   "cell_type": "code",
   "execution_count": 13,
   "metadata": {},
   "outputs": [
    {
     "data": {
      "text/plain": [
       "2*x"
      ]
     },
     "execution_count": 13,
     "metadata": {},
     "output_type": "execute_result"
    }
   ],
   "source": [
    "from sympy import *\n",
    "x,y = symbols('x y')\n",
    "\n",
    "fx = diff(x**2-y**2,x)\n",
    "fx"
   ]
  },
  {
   "cell_type": "code",
   "execution_count": 18,
   "metadata": {},
   "outputs": [
    {
     "name": "stdout",
     "output_type": "stream",
     "text": [
      "2 , 0\n"
     ]
    }
   ],
   "source": [
    "fxx = diff(fx,x)\n",
    "fxy = diff(fx,y)\n",
    "print(fxx, ',', fxy)"
   ]
  },
  {
   "cell_type": "code",
   "execution_count": 6,
   "metadata": {},
   "outputs": [
    {
     "data": {
      "text/plain": [
       "-2*y"
      ]
     },
     "execution_count": 6,
     "metadata": {},
     "output_type": "execute_result"
    }
   ],
   "source": [
    "fy = diff(x**2-y**2,y)\n",
    "fy"
   ]
  },
  {
   "cell_type": "code",
   "execution_count": 19,
   "metadata": {},
   "outputs": [
    {
     "name": "stdout",
     "output_type": "stream",
     "text": [
      "0 , -2\n"
     ]
    }
   ],
   "source": [
    "fyx = diff(fy,x)\n",
    "fyy = diff(fy,y)\n",
    "print(fyx, ',', fyy)"
   ]
  },
  {
   "cell_type": "code",
   "execution_count": 21,
   "metadata": {},
   "outputs": [
    {
     "name": "stdout",
     "output_type": "stream",
     "text": [
      "4\n"
     ]
    }
   ],
   "source": [
    "D = fxy**2 - fxx*fyy\n",
    "print(D)"
   ]
  },
  {
   "cell_type": "code",
   "execution_count": 11,
   "metadata": {},
   "outputs": [
    {
     "data": {
      "application/javascript": [
       "/* Put everything inside the global mpl namespace */\n",
       "window.mpl = {};\n",
       "\n",
       "\n",
       "mpl.get_websocket_type = function() {\n",
       "    if (typeof(WebSocket) !== 'undefined') {\n",
       "        return WebSocket;\n",
       "    } else if (typeof(MozWebSocket) !== 'undefined') {\n",
       "        return MozWebSocket;\n",
       "    } else {\n",
       "        alert('Your browser does not have WebSocket support.' +\n",
       "              'Please try Chrome, Safari or Firefox ≥ 6. ' +\n",
       "              'Firefox 4 and 5 are also supported but you ' +\n",
       "              'have to enable WebSockets in about:config.');\n",
       "    };\n",
       "}\n",
       "\n",
       "mpl.figure = function(figure_id, websocket, ondownload, parent_element) {\n",
       "    this.id = figure_id;\n",
       "\n",
       "    this.ws = websocket;\n",
       "\n",
       "    this.supports_binary = (this.ws.binaryType != undefined);\n",
       "\n",
       "    if (!this.supports_binary) {\n",
       "        var warnings = document.getElementById(\"mpl-warnings\");\n",
       "        if (warnings) {\n",
       "            warnings.style.display = 'block';\n",
       "            warnings.textContent = (\n",
       "                \"This browser does not support binary websocket messages. \" +\n",
       "                    \"Performance may be slow.\");\n",
       "        }\n",
       "    }\n",
       "\n",
       "    this.imageObj = new Image();\n",
       "\n",
       "    this.context = undefined;\n",
       "    this.message = undefined;\n",
       "    this.canvas = undefined;\n",
       "    this.rubberband_canvas = undefined;\n",
       "    this.rubberband_context = undefined;\n",
       "    this.format_dropdown = undefined;\n",
       "\n",
       "    this.image_mode = 'full';\n",
       "\n",
       "    this.root = $('<div/>');\n",
       "    this._root_extra_style(this.root)\n",
       "    this.root.attr('style', 'display: inline-block');\n",
       "\n",
       "    $(parent_element).append(this.root);\n",
       "\n",
       "    this._init_header(this);\n",
       "    this._init_canvas(this);\n",
       "    this._init_toolbar(this);\n",
       "\n",
       "    var fig = this;\n",
       "\n",
       "    this.waiting = false;\n",
       "\n",
       "    this.ws.onopen =  function () {\n",
       "            fig.send_message(\"supports_binary\", {value: fig.supports_binary});\n",
       "            fig.send_message(\"send_image_mode\", {});\n",
       "            if (mpl.ratio != 1) {\n",
       "                fig.send_message(\"set_dpi_ratio\", {'dpi_ratio': mpl.ratio});\n",
       "            }\n",
       "            fig.send_message(\"refresh\", {});\n",
       "        }\n",
       "\n",
       "    this.imageObj.onload = function() {\n",
       "            if (fig.image_mode == 'full') {\n",
       "                // Full images could contain transparency (where diff images\n",
       "                // almost always do), so we need to clear the canvas so that\n",
       "                // there is no ghosting.\n",
       "                fig.context.clearRect(0, 0, fig.canvas.width, fig.canvas.height);\n",
       "            }\n",
       "            fig.context.drawImage(fig.imageObj, 0, 0);\n",
       "        };\n",
       "\n",
       "    this.imageObj.onunload = function() {\n",
       "        this.ws.close();\n",
       "    }\n",
       "\n",
       "    this.ws.onmessage = this._make_on_message_function(this);\n",
       "\n",
       "    this.ondownload = ondownload;\n",
       "}\n",
       "\n",
       "mpl.figure.prototype._init_header = function() {\n",
       "    var titlebar = $(\n",
       "        '<div class=\"ui-dialog-titlebar ui-widget-header ui-corner-all ' +\n",
       "        'ui-helper-clearfix\"/>');\n",
       "    var titletext = $(\n",
       "        '<div class=\"ui-dialog-title\" style=\"width: 100%; ' +\n",
       "        'text-align: center; padding: 3px;\"/>');\n",
       "    titlebar.append(titletext)\n",
       "    this.root.append(titlebar);\n",
       "    this.header = titletext[0];\n",
       "}\n",
       "\n",
       "\n",
       "\n",
       "mpl.figure.prototype._canvas_extra_style = function(canvas_div) {\n",
       "\n",
       "}\n",
       "\n",
       "\n",
       "mpl.figure.prototype._root_extra_style = function(canvas_div) {\n",
       "\n",
       "}\n",
       "\n",
       "mpl.figure.prototype._init_canvas = function() {\n",
       "    var fig = this;\n",
       "\n",
       "    var canvas_div = $('<div/>');\n",
       "\n",
       "    canvas_div.attr('style', 'position: relative; clear: both; outline: 0');\n",
       "\n",
       "    function canvas_keyboard_event(event) {\n",
       "        return fig.key_event(event, event['data']);\n",
       "    }\n",
       "\n",
       "    canvas_div.keydown('key_press', canvas_keyboard_event);\n",
       "    canvas_div.keyup('key_release', canvas_keyboard_event);\n",
       "    this.canvas_div = canvas_div\n",
       "    this._canvas_extra_style(canvas_div)\n",
       "    this.root.append(canvas_div);\n",
       "\n",
       "    var canvas = $('<canvas/>');\n",
       "    canvas.addClass('mpl-canvas');\n",
       "    canvas.attr('style', \"left: 0; top: 0; z-index: 0; outline: 0\")\n",
       "\n",
       "    this.canvas = canvas[0];\n",
       "    this.context = canvas[0].getContext(\"2d\");\n",
       "\n",
       "    var backingStore = this.context.backingStorePixelRatio ||\n",
       "\tthis.context.webkitBackingStorePixelRatio ||\n",
       "\tthis.context.mozBackingStorePixelRatio ||\n",
       "\tthis.context.msBackingStorePixelRatio ||\n",
       "\tthis.context.oBackingStorePixelRatio ||\n",
       "\tthis.context.backingStorePixelRatio || 1;\n",
       "\n",
       "    mpl.ratio = (window.devicePixelRatio || 1) / backingStore;\n",
       "\n",
       "    var rubberband = $('<canvas/>');\n",
       "    rubberband.attr('style', \"position: absolute; left: 0; top: 0; z-index: 1;\")\n",
       "\n",
       "    var pass_mouse_events = true;\n",
       "\n",
       "    canvas_div.resizable({\n",
       "        start: function(event, ui) {\n",
       "            pass_mouse_events = false;\n",
       "        },\n",
       "        resize: function(event, ui) {\n",
       "            fig.request_resize(ui.size.width, ui.size.height);\n",
       "        },\n",
       "        stop: function(event, ui) {\n",
       "            pass_mouse_events = true;\n",
       "            fig.request_resize(ui.size.width, ui.size.height);\n",
       "        },\n",
       "    });\n",
       "\n",
       "    function mouse_event_fn(event) {\n",
       "        if (pass_mouse_events)\n",
       "            return fig.mouse_event(event, event['data']);\n",
       "    }\n",
       "\n",
       "    rubberband.mousedown('button_press', mouse_event_fn);\n",
       "    rubberband.mouseup('button_release', mouse_event_fn);\n",
       "    // Throttle sequential mouse events to 1 every 20ms.\n",
       "    rubberband.mousemove('motion_notify', mouse_event_fn);\n",
       "\n",
       "    rubberband.mouseenter('figure_enter', mouse_event_fn);\n",
       "    rubberband.mouseleave('figure_leave', mouse_event_fn);\n",
       "\n",
       "    canvas_div.on(\"wheel\", function (event) {\n",
       "        event = event.originalEvent;\n",
       "        event['data'] = 'scroll'\n",
       "        if (event.deltaY < 0) {\n",
       "            event.step = 1;\n",
       "        } else {\n",
       "            event.step = -1;\n",
       "        }\n",
       "        mouse_event_fn(event);\n",
       "    });\n",
       "\n",
       "    canvas_div.append(canvas);\n",
       "    canvas_div.append(rubberband);\n",
       "\n",
       "    this.rubberband = rubberband;\n",
       "    this.rubberband_canvas = rubberband[0];\n",
       "    this.rubberband_context = rubberband[0].getContext(\"2d\");\n",
       "    this.rubberband_context.strokeStyle = \"#000000\";\n",
       "\n",
       "    this._resize_canvas = function(width, height) {\n",
       "        // Keep the size of the canvas, canvas container, and rubber band\n",
       "        // canvas in synch.\n",
       "        canvas_div.css('width', width)\n",
       "        canvas_div.css('height', height)\n",
       "\n",
       "        canvas.attr('width', width * mpl.ratio);\n",
       "        canvas.attr('height', height * mpl.ratio);\n",
       "        canvas.attr('style', 'width: ' + width + 'px; height: ' + height + 'px;');\n",
       "\n",
       "        rubberband.attr('width', width);\n",
       "        rubberband.attr('height', height);\n",
       "    }\n",
       "\n",
       "    // Set the figure to an initial 600x600px, this will subsequently be updated\n",
       "    // upon first draw.\n",
       "    this._resize_canvas(600, 600);\n",
       "\n",
       "    // Disable right mouse context menu.\n",
       "    $(this.rubberband_canvas).bind(\"contextmenu\",function(e){\n",
       "        return false;\n",
       "    });\n",
       "\n",
       "    function set_focus () {\n",
       "        canvas.focus();\n",
       "        canvas_div.focus();\n",
       "    }\n",
       "\n",
       "    window.setTimeout(set_focus, 100);\n",
       "}\n",
       "\n",
       "mpl.figure.prototype._init_toolbar = function() {\n",
       "    var fig = this;\n",
       "\n",
       "    var nav_element = $('<div/>')\n",
       "    nav_element.attr('style', 'width: 100%');\n",
       "    this.root.append(nav_element);\n",
       "\n",
       "    // Define a callback function for later on.\n",
       "    function toolbar_event(event) {\n",
       "        return fig.toolbar_button_onclick(event['data']);\n",
       "    }\n",
       "    function toolbar_mouse_event(event) {\n",
       "        return fig.toolbar_button_onmouseover(event['data']);\n",
       "    }\n",
       "\n",
       "    for(var toolbar_ind in mpl.toolbar_items) {\n",
       "        var name = mpl.toolbar_items[toolbar_ind][0];\n",
       "        var tooltip = mpl.toolbar_items[toolbar_ind][1];\n",
       "        var image = mpl.toolbar_items[toolbar_ind][2];\n",
       "        var method_name = mpl.toolbar_items[toolbar_ind][3];\n",
       "\n",
       "        if (!name) {\n",
       "            // put a spacer in here.\n",
       "            continue;\n",
       "        }\n",
       "        var button = $('<button/>');\n",
       "        button.addClass('ui-button ui-widget ui-state-default ui-corner-all ' +\n",
       "                        'ui-button-icon-only');\n",
       "        button.attr('role', 'button');\n",
       "        button.attr('aria-disabled', 'false');\n",
       "        button.click(method_name, toolbar_event);\n",
       "        button.mouseover(tooltip, toolbar_mouse_event);\n",
       "\n",
       "        var icon_img = $('<span/>');\n",
       "        icon_img.addClass('ui-button-icon-primary ui-icon');\n",
       "        icon_img.addClass(image);\n",
       "        icon_img.addClass('ui-corner-all');\n",
       "\n",
       "        var tooltip_span = $('<span/>');\n",
       "        tooltip_span.addClass('ui-button-text');\n",
       "        tooltip_span.html(tooltip);\n",
       "\n",
       "        button.append(icon_img);\n",
       "        button.append(tooltip_span);\n",
       "\n",
       "        nav_element.append(button);\n",
       "    }\n",
       "\n",
       "    var fmt_picker_span = $('<span/>');\n",
       "\n",
       "    var fmt_picker = $('<select/>');\n",
       "    fmt_picker.addClass('mpl-toolbar-option ui-widget ui-widget-content');\n",
       "    fmt_picker_span.append(fmt_picker);\n",
       "    nav_element.append(fmt_picker_span);\n",
       "    this.format_dropdown = fmt_picker[0];\n",
       "\n",
       "    for (var ind in mpl.extensions) {\n",
       "        var fmt = mpl.extensions[ind];\n",
       "        var option = $(\n",
       "            '<option/>', {selected: fmt === mpl.default_extension}).html(fmt);\n",
       "        fmt_picker.append(option)\n",
       "    }\n",
       "\n",
       "    // Add hover states to the ui-buttons\n",
       "    $( \".ui-button\" ).hover(\n",
       "        function() { $(this).addClass(\"ui-state-hover\");},\n",
       "        function() { $(this).removeClass(\"ui-state-hover\");}\n",
       "    );\n",
       "\n",
       "    var status_bar = $('<span class=\"mpl-message\"/>');\n",
       "    nav_element.append(status_bar);\n",
       "    this.message = status_bar[0];\n",
       "}\n",
       "\n",
       "mpl.figure.prototype.request_resize = function(x_pixels, y_pixels) {\n",
       "    // Request matplotlib to resize the figure. Matplotlib will then trigger a resize in the client,\n",
       "    // which will in turn request a refresh of the image.\n",
       "    this.send_message('resize', {'width': x_pixels, 'height': y_pixels});\n",
       "}\n",
       "\n",
       "mpl.figure.prototype.send_message = function(type, properties) {\n",
       "    properties['type'] = type;\n",
       "    properties['figure_id'] = this.id;\n",
       "    this.ws.send(JSON.stringify(properties));\n",
       "}\n",
       "\n",
       "mpl.figure.prototype.send_draw_message = function() {\n",
       "    if (!this.waiting) {\n",
       "        this.waiting = true;\n",
       "        this.ws.send(JSON.stringify({type: \"draw\", figure_id: this.id}));\n",
       "    }\n",
       "}\n",
       "\n",
       "\n",
       "mpl.figure.prototype.handle_save = function(fig, msg) {\n",
       "    var format_dropdown = fig.format_dropdown;\n",
       "    var format = format_dropdown.options[format_dropdown.selectedIndex].value;\n",
       "    fig.ondownload(fig, format);\n",
       "}\n",
       "\n",
       "\n",
       "mpl.figure.prototype.handle_resize = function(fig, msg) {\n",
       "    var size = msg['size'];\n",
       "    if (size[0] != fig.canvas.width || size[1] != fig.canvas.height) {\n",
       "        fig._resize_canvas(size[0], size[1]);\n",
       "        fig.send_message(\"refresh\", {});\n",
       "    };\n",
       "}\n",
       "\n",
       "mpl.figure.prototype.handle_rubberband = function(fig, msg) {\n",
       "    var x0 = msg['x0'] / mpl.ratio;\n",
       "    var y0 = (fig.canvas.height - msg['y0']) / mpl.ratio;\n",
       "    var x1 = msg['x1'] / mpl.ratio;\n",
       "    var y1 = (fig.canvas.height - msg['y1']) / mpl.ratio;\n",
       "    x0 = Math.floor(x0) + 0.5;\n",
       "    y0 = Math.floor(y0) + 0.5;\n",
       "    x1 = Math.floor(x1) + 0.5;\n",
       "    y1 = Math.floor(y1) + 0.5;\n",
       "    var min_x = Math.min(x0, x1);\n",
       "    var min_y = Math.min(y0, y1);\n",
       "    var width = Math.abs(x1 - x0);\n",
       "    var height = Math.abs(y1 - y0);\n",
       "\n",
       "    fig.rubberband_context.clearRect(\n",
       "        0, 0, fig.canvas.width, fig.canvas.height);\n",
       "\n",
       "    fig.rubberband_context.strokeRect(min_x, min_y, width, height);\n",
       "}\n",
       "\n",
       "mpl.figure.prototype.handle_figure_label = function(fig, msg) {\n",
       "    // Updates the figure title.\n",
       "    fig.header.textContent = msg['label'];\n",
       "}\n",
       "\n",
       "mpl.figure.prototype.handle_cursor = function(fig, msg) {\n",
       "    var cursor = msg['cursor'];\n",
       "    switch(cursor)\n",
       "    {\n",
       "    case 0:\n",
       "        cursor = 'pointer';\n",
       "        break;\n",
       "    case 1:\n",
       "        cursor = 'default';\n",
       "        break;\n",
       "    case 2:\n",
       "        cursor = 'crosshair';\n",
       "        break;\n",
       "    case 3:\n",
       "        cursor = 'move';\n",
       "        break;\n",
       "    }\n",
       "    fig.rubberband_canvas.style.cursor = cursor;\n",
       "}\n",
       "\n",
       "mpl.figure.prototype.handle_message = function(fig, msg) {\n",
       "    fig.message.textContent = msg['message'];\n",
       "}\n",
       "\n",
       "mpl.figure.prototype.handle_draw = function(fig, msg) {\n",
       "    // Request the server to send over a new figure.\n",
       "    fig.send_draw_message();\n",
       "}\n",
       "\n",
       "mpl.figure.prototype.handle_image_mode = function(fig, msg) {\n",
       "    fig.image_mode = msg['mode'];\n",
       "}\n",
       "\n",
       "mpl.figure.prototype.updated_canvas_event = function() {\n",
       "    // Called whenever the canvas gets updated.\n",
       "    this.send_message(\"ack\", {});\n",
       "}\n",
       "\n",
       "// A function to construct a web socket function for onmessage handling.\n",
       "// Called in the figure constructor.\n",
       "mpl.figure.prototype._make_on_message_function = function(fig) {\n",
       "    return function socket_on_message(evt) {\n",
       "        if (evt.data instanceof Blob) {\n",
       "            /* FIXME: We get \"Resource interpreted as Image but\n",
       "             * transferred with MIME type text/plain:\" errors on\n",
       "             * Chrome.  But how to set the MIME type?  It doesn't seem\n",
       "             * to be part of the websocket stream */\n",
       "            evt.data.type = \"image/png\";\n",
       "\n",
       "            /* Free the memory for the previous frames */\n",
       "            if (fig.imageObj.src) {\n",
       "                (window.URL || window.webkitURL).revokeObjectURL(\n",
       "                    fig.imageObj.src);\n",
       "            }\n",
       "\n",
       "            fig.imageObj.src = (window.URL || window.webkitURL).createObjectURL(\n",
       "                evt.data);\n",
       "            fig.updated_canvas_event();\n",
       "            fig.waiting = false;\n",
       "            return;\n",
       "        }\n",
       "        else if (typeof evt.data === 'string' && evt.data.slice(0, 21) == \"data:image/png;base64\") {\n",
       "            fig.imageObj.src = evt.data;\n",
       "            fig.updated_canvas_event();\n",
       "            fig.waiting = false;\n",
       "            return;\n",
       "        }\n",
       "\n",
       "        var msg = JSON.parse(evt.data);\n",
       "        var msg_type = msg['type'];\n",
       "\n",
       "        // Call the  \"handle_{type}\" callback, which takes\n",
       "        // the figure and JSON message as its only arguments.\n",
       "        try {\n",
       "            var callback = fig[\"handle_\" + msg_type];\n",
       "        } catch (e) {\n",
       "            console.log(\"No handler for the '\" + msg_type + \"' message type: \", msg);\n",
       "            return;\n",
       "        }\n",
       "\n",
       "        if (callback) {\n",
       "            try {\n",
       "                // console.log(\"Handling '\" + msg_type + \"' message: \", msg);\n",
       "                callback(fig, msg);\n",
       "            } catch (e) {\n",
       "                console.log(\"Exception inside the 'handler_\" + msg_type + \"' callback:\", e, e.stack, msg);\n",
       "            }\n",
       "        }\n",
       "    };\n",
       "}\n",
       "\n",
       "// from http://stackoverflow.com/questions/1114465/getting-mouse-location-in-canvas\n",
       "mpl.findpos = function(e) {\n",
       "    //this section is from http://www.quirksmode.org/js/events_properties.html\n",
       "    var targ;\n",
       "    if (!e)\n",
       "        e = window.event;\n",
       "    if (e.target)\n",
       "        targ = e.target;\n",
       "    else if (e.srcElement)\n",
       "        targ = e.srcElement;\n",
       "    if (targ.nodeType == 3) // defeat Safari bug\n",
       "        targ = targ.parentNode;\n",
       "\n",
       "    // jQuery normalizes the pageX and pageY\n",
       "    // pageX,Y are the mouse positions relative to the document\n",
       "    // offset() returns the position of the element relative to the document\n",
       "    var x = e.pageX - $(targ).offset().left;\n",
       "    var y = e.pageY - $(targ).offset().top;\n",
       "\n",
       "    return {\"x\": x, \"y\": y};\n",
       "};\n",
       "\n",
       "/*\n",
       " * return a copy of an object with only non-object keys\n",
       " * we need this to avoid circular references\n",
       " * http://stackoverflow.com/a/24161582/3208463\n",
       " */\n",
       "function simpleKeys (original) {\n",
       "  return Object.keys(original).reduce(function (obj, key) {\n",
       "    if (typeof original[key] !== 'object')\n",
       "        obj[key] = original[key]\n",
       "    return obj;\n",
       "  }, {});\n",
       "}\n",
       "\n",
       "mpl.figure.prototype.mouse_event = function(event, name) {\n",
       "    var canvas_pos = mpl.findpos(event)\n",
       "\n",
       "    if (name === 'button_press')\n",
       "    {\n",
       "        this.canvas.focus();\n",
       "        this.canvas_div.focus();\n",
       "    }\n",
       "\n",
       "    var x = canvas_pos.x * mpl.ratio;\n",
       "    var y = canvas_pos.y * mpl.ratio;\n",
       "\n",
       "    this.send_message(name, {x: x, y: y, button: event.button,\n",
       "                             step: event.step,\n",
       "                             guiEvent: simpleKeys(event)});\n",
       "\n",
       "    /* This prevents the web browser from automatically changing to\n",
       "     * the text insertion cursor when the button is pressed.  We want\n",
       "     * to control all of the cursor setting manually through the\n",
       "     * 'cursor' event from matplotlib */\n",
       "    event.preventDefault();\n",
       "    return false;\n",
       "}\n",
       "\n",
       "mpl.figure.prototype._key_event_extra = function(event, name) {\n",
       "    // Handle any extra behaviour associated with a key event\n",
       "}\n",
       "\n",
       "mpl.figure.prototype.key_event = function(event, name) {\n",
       "\n",
       "    // Prevent repeat events\n",
       "    if (name == 'key_press')\n",
       "    {\n",
       "        if (event.which === this._key)\n",
       "            return;\n",
       "        else\n",
       "            this._key = event.which;\n",
       "    }\n",
       "    if (name == 'key_release')\n",
       "        this._key = null;\n",
       "\n",
       "    var value = '';\n",
       "    if (event.ctrlKey && event.which != 17)\n",
       "        value += \"ctrl+\";\n",
       "    if (event.altKey && event.which != 18)\n",
       "        value += \"alt+\";\n",
       "    if (event.shiftKey && event.which != 16)\n",
       "        value += \"shift+\";\n",
       "\n",
       "    value += 'k';\n",
       "    value += event.which.toString();\n",
       "\n",
       "    this._key_event_extra(event, name);\n",
       "\n",
       "    this.send_message(name, {key: value,\n",
       "                             guiEvent: simpleKeys(event)});\n",
       "    return false;\n",
       "}\n",
       "\n",
       "mpl.figure.prototype.toolbar_button_onclick = function(name) {\n",
       "    if (name == 'download') {\n",
       "        this.handle_save(this, null);\n",
       "    } else {\n",
       "        this.send_message(\"toolbar_button\", {name: name});\n",
       "    }\n",
       "};\n",
       "\n",
       "mpl.figure.prototype.toolbar_button_onmouseover = function(tooltip) {\n",
       "    this.message.textContent = tooltip;\n",
       "};\n",
       "mpl.toolbar_items = [[\"Home\", \"Reset original view\", \"fa fa-home icon-home\", \"home\"], [\"Back\", \"Back to  previous view\", \"fa fa-arrow-left icon-arrow-left\", \"back\"], [\"Forward\", \"Forward to next view\", \"fa fa-arrow-right icon-arrow-right\", \"forward\"], [\"\", \"\", \"\", \"\"], [\"Pan\", \"Pan axes with left mouse, zoom with right\", \"fa fa-arrows icon-move\", \"pan\"], [\"Zoom\", \"Zoom to rectangle\", \"fa fa-square-o icon-check-empty\", \"zoom\"], [\"\", \"\", \"\", \"\"], [\"Download\", \"Download plot\", \"fa fa-floppy-o icon-save\", \"download\"]];\n",
       "\n",
       "mpl.extensions = [\"eps\", \"jpeg\", \"pdf\", \"png\", \"ps\", \"raw\", \"svg\", \"tif\"];\n",
       "\n",
       "mpl.default_extension = \"png\";var comm_websocket_adapter = function(comm) {\n",
       "    // Create a \"websocket\"-like object which calls the given IPython comm\n",
       "    // object with the appropriate methods. Currently this is a non binary\n",
       "    // socket, so there is still some room for performance tuning.\n",
       "    var ws = {};\n",
       "\n",
       "    ws.close = function() {\n",
       "        comm.close()\n",
       "    };\n",
       "    ws.send = function(m) {\n",
       "        //console.log('sending', m);\n",
       "        comm.send(m);\n",
       "    };\n",
       "    // Register the callback with on_msg.\n",
       "    comm.on_msg(function(msg) {\n",
       "        //console.log('receiving', msg['content']['data'], msg);\n",
       "        // Pass the mpl event to the overriden (by mpl) onmessage function.\n",
       "        ws.onmessage(msg['content']['data'])\n",
       "    });\n",
       "    return ws;\n",
       "}\n",
       "\n",
       "mpl.mpl_figure_comm = function(comm, msg) {\n",
       "    // This is the function which gets called when the mpl process\n",
       "    // starts-up an IPython Comm through the \"matplotlib\" channel.\n",
       "\n",
       "    var id = msg.content.data.id;\n",
       "    // Get hold of the div created by the display call when the Comm\n",
       "    // socket was opened in Python.\n",
       "    var element = $(\"#\" + id);\n",
       "    var ws_proxy = comm_websocket_adapter(comm)\n",
       "\n",
       "    function ondownload(figure, format) {\n",
       "        window.open(figure.imageObj.src);\n",
       "    }\n",
       "\n",
       "    var fig = new mpl.figure(id, ws_proxy,\n",
       "                           ondownload,\n",
       "                           element.get(0));\n",
       "\n",
       "    // Call onopen now - mpl needs it, as it is assuming we've passed it a real\n",
       "    // web socket which is closed, not our websocket->open comm proxy.\n",
       "    ws_proxy.onopen();\n",
       "\n",
       "    fig.parent_element = element.get(0);\n",
       "    fig.cell_info = mpl.find_output_cell(\"<div id='\" + id + \"'></div>\");\n",
       "    if (!fig.cell_info) {\n",
       "        console.error(\"Failed to find cell for figure\", id, fig);\n",
       "        return;\n",
       "    }\n",
       "\n",
       "    var output_index = fig.cell_info[2]\n",
       "    var cell = fig.cell_info[0];\n",
       "\n",
       "};\n",
       "\n",
       "mpl.figure.prototype.handle_close = function(fig, msg) {\n",
       "    var width = fig.canvas.width/mpl.ratio\n",
       "    fig.root.unbind('remove')\n",
       "\n",
       "    // Update the output cell to use the data from the current canvas.\n",
       "    fig.push_to_output();\n",
       "    var dataURL = fig.canvas.toDataURL();\n",
       "    // Re-enable the keyboard manager in IPython - without this line, in FF,\n",
       "    // the notebook keyboard shortcuts fail.\n",
       "    IPython.keyboard_manager.enable()\n",
       "    $(fig.parent_element).html('<img src=\"' + dataURL + '\" width=\"' + width + '\">');\n",
       "    fig.close_ws(fig, msg);\n",
       "}\n",
       "\n",
       "mpl.figure.prototype.close_ws = function(fig, msg){\n",
       "    fig.send_message('closing', msg);\n",
       "    // fig.ws.close()\n",
       "}\n",
       "\n",
       "mpl.figure.prototype.push_to_output = function(remove_interactive) {\n",
       "    // Turn the data on the canvas into data in the output cell.\n",
       "    var width = this.canvas.width/mpl.ratio\n",
       "    var dataURL = this.canvas.toDataURL();\n",
       "    this.cell_info[1]['text/html'] = '<img src=\"' + dataURL + '\" width=\"' + width + '\">';\n",
       "}\n",
       "\n",
       "mpl.figure.prototype.updated_canvas_event = function() {\n",
       "    // Tell IPython that the notebook contents must change.\n",
       "    IPython.notebook.set_dirty(true);\n",
       "    this.send_message(\"ack\", {});\n",
       "    var fig = this;\n",
       "    // Wait a second, then push the new image to the DOM so\n",
       "    // that it is saved nicely (might be nice to debounce this).\n",
       "    setTimeout(function () { fig.push_to_output() }, 1000);\n",
       "}\n",
       "\n",
       "mpl.figure.prototype._init_toolbar = function() {\n",
       "    var fig = this;\n",
       "\n",
       "    var nav_element = $('<div/>')\n",
       "    nav_element.attr('style', 'width: 100%');\n",
       "    this.root.append(nav_element);\n",
       "\n",
       "    // Define a callback function for later on.\n",
       "    function toolbar_event(event) {\n",
       "        return fig.toolbar_button_onclick(event['data']);\n",
       "    }\n",
       "    function toolbar_mouse_event(event) {\n",
       "        return fig.toolbar_button_onmouseover(event['data']);\n",
       "    }\n",
       "\n",
       "    for(var toolbar_ind in mpl.toolbar_items){\n",
       "        var name = mpl.toolbar_items[toolbar_ind][0];\n",
       "        var tooltip = mpl.toolbar_items[toolbar_ind][1];\n",
       "        var image = mpl.toolbar_items[toolbar_ind][2];\n",
       "        var method_name = mpl.toolbar_items[toolbar_ind][3];\n",
       "\n",
       "        if (!name) { continue; };\n",
       "\n",
       "        var button = $('<button class=\"btn btn-default\" href=\"#\" title=\"' + name + '\"><i class=\"fa ' + image + ' fa-lg\"></i></button>');\n",
       "        button.click(method_name, toolbar_event);\n",
       "        button.mouseover(tooltip, toolbar_mouse_event);\n",
       "        nav_element.append(button);\n",
       "    }\n",
       "\n",
       "    // Add the status bar.\n",
       "    var status_bar = $('<span class=\"mpl-message\" style=\"text-align:right; float: right;\"/>');\n",
       "    nav_element.append(status_bar);\n",
       "    this.message = status_bar[0];\n",
       "\n",
       "    // Add the close button to the window.\n",
       "    var buttongrp = $('<div class=\"btn-group inline pull-right\"></div>');\n",
       "    var button = $('<button class=\"btn btn-mini btn-primary\" href=\"#\" title=\"Stop Interaction\"><i class=\"fa fa-power-off icon-remove icon-large\"></i></button>');\n",
       "    button.click(function (evt) { fig.handle_close(fig, {}); } );\n",
       "    button.mouseover('Stop Interaction', toolbar_mouse_event);\n",
       "    buttongrp.append(button);\n",
       "    var titlebar = this.root.find($('.ui-dialog-titlebar'));\n",
       "    titlebar.prepend(buttongrp);\n",
       "}\n",
       "\n",
       "mpl.figure.prototype._root_extra_style = function(el){\n",
       "    var fig = this\n",
       "    el.on(\"remove\", function(){\n",
       "\tfig.close_ws(fig, {});\n",
       "    });\n",
       "}\n",
       "\n",
       "mpl.figure.prototype._canvas_extra_style = function(el){\n",
       "    // this is important to make the div 'focusable\n",
       "    el.attr('tabindex', 0)\n",
       "    // reach out to IPython and tell the keyboard manager to turn it's self\n",
       "    // off when our div gets focus\n",
       "\n",
       "    // location in version 3\n",
       "    if (IPython.notebook.keyboard_manager) {\n",
       "        IPython.notebook.keyboard_manager.register_events(el);\n",
       "    }\n",
       "    else {\n",
       "        // location in version 2\n",
       "        IPython.keyboard_manager.register_events(el);\n",
       "    }\n",
       "\n",
       "}\n",
       "\n",
       "mpl.figure.prototype._key_event_extra = function(event, name) {\n",
       "    var manager = IPython.notebook.keyboard_manager;\n",
       "    if (!manager)\n",
       "        manager = IPython.keyboard_manager;\n",
       "\n",
       "    // Check for shift+enter\n",
       "    if (event.shiftKey && event.which == 13) {\n",
       "        this.canvas_div.blur();\n",
       "        // select the cell after this one\n",
       "        var index = IPython.notebook.find_cell_index(this.cell_info[0]);\n",
       "        IPython.notebook.select(index + 1);\n",
       "    }\n",
       "}\n",
       "\n",
       "mpl.figure.prototype.handle_save = function(fig, msg) {\n",
       "    fig.ondownload(fig, null);\n",
       "}\n",
       "\n",
       "\n",
       "mpl.find_output_cell = function(html_output) {\n",
       "    // Return the cell and output element which can be found *uniquely* in the notebook.\n",
       "    // Note - this is a bit hacky, but it is done because the \"notebook_saving.Notebook\"\n",
       "    // IPython event is triggered only after the cells have been serialised, which for\n",
       "    // our purposes (turning an active figure into a static one), is too late.\n",
       "    var cells = IPython.notebook.get_cells();\n",
       "    var ncells = cells.length;\n",
       "    for (var i=0; i<ncells; i++) {\n",
       "        var cell = cells[i];\n",
       "        if (cell.cell_type === 'code'){\n",
       "            for (var j=0; j<cell.output_area.outputs.length; j++) {\n",
       "                var data = cell.output_area.outputs[j];\n",
       "                if (data.data) {\n",
       "                    // IPython >= 3 moved mimebundle to data attribute of output\n",
       "                    data = data.data;\n",
       "                }\n",
       "                if (data['text/html'] == html_output) {\n",
       "                    return [cell, data, j];\n",
       "                }\n",
       "            }\n",
       "        }\n",
       "    }\n",
       "}\n",
       "\n",
       "// Register the function which deals with the matplotlib target/channel.\n",
       "// The kernel may be null if the page has been refreshed.\n",
       "if (IPython.notebook.kernel != null) {\n",
       "    IPython.notebook.kernel.comm_manager.register_target('matplotlib', mpl.mpl_figure_comm);\n",
       "}\n"
      ],
      "text/plain": [
       "<IPython.core.display.Javascript object>"
      ]
     },
     "metadata": {},
     "output_type": "display_data"
    },
    {
     "data": {
      "text/html": [
       "<img src=\"data:image/png;base64,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\" width=\"432\">"
      ],
      "text/plain": [
       "<IPython.core.display.HTML object>"
      ]
     },
     "metadata": {},
     "output_type": "display_data"
    }
   ],
   "source": [
    "%matplotlib notebook\n",
    "from mpl_toolkits.mplot3d import Axes3D\n",
    "import matplotlib.pyplot as plt\n",
    "import numpy as np\n",
    "\n",
    "def f(x,y):\n",
    "    return x**2-y**2 #4*x+2*y-6*x*y\n",
    "\n",
    "x = np.arange(-3, 3, 0.25)\n",
    "y = np.arange(-3, 3, 0.25)\n",
    "X, Y = np.meshgrid(x, y)\n",
    "Z1 = f(X,Y)\n",
    "\n",
    "fig = plt.figure()\n",
    "plot3d = Axes3D(fig)\n",
    "plot3d.plot_surface(X,Y,Z1) \n",
    "\n",
    "plt.show()"
   ]
  },
  {
   "cell_type": "markdown",
   "metadata": {},
   "source": [
    "Dが正であることが確認できる．plot3dによって3次元表示すると，鞍のような表面となり，極値でないことが確認できる．すなわち，fxxの曲率が正，fyyの曲率は負であり，2方向によって曲率が違い鞍点(saddle point)となる．"
   ]
  },
  {
   "cell_type": "markdown",
   "metadata": {},
   "source": [
    "## (フーリエ積分)\n",
    "  関数$f(x)= \\sin(x) \\sin(2x)$の不定積分を求めよ．$f(x)$を$x=-\\pi..\\pi$でプロットし，この区間での積分値を求めよ．結果についてコメントせよ． (15点)\n",
    "\n"
   ]
  },
  {
   "cell_type": "code",
   "execution_count": 33,
   "metadata": {},
   "outputs": [
    {
     "name": "stdout",
     "output_type": "stream",
     "text": [
      "IPython console for SymPy 1.0 (Python 3.6.1-64-bit) (ground types: python)\n",
      "\n",
      "These commands were executed:\n",
      ">>> from __future__ import division\n",
      ">>> from sympy import *\n",
      ">>> x, y, z, t = symbols('x y z t')\n",
      ">>> k, m, n = symbols('k m n', integer=True)\n",
      ">>> f, g, h = symbols('f g h', cls=Function)\n",
      ">>> init_printing()\n",
      "\n",
      "Documentation can be found at http://docs.sympy.org/1.0/\n"
     ]
    }
   ],
   "source": [
    "# kernel->Restart\n",
    "from sympy import *\n",
    "init_session()\n"
   ]
  },
  {
   "cell_type": "code",
   "execution_count": 38,
   "metadata": {},
   "outputs": [
    {
     "data": {
      "image/png": "[encoded data removed]",
      "text/latex": [
       "$$- \\frac{2}{3} \\sin{\\left (x \\right )} \\cos{\\left (2 x \\right )} + \\frac{1}{3} \\sin{\\left (2 x \\right )} \\cos{\\left (x \\right )}$$"
      ],
      "text/plain": [
       "  2⋅sin(x)⋅cos(2⋅x)   sin(2⋅x)⋅cos(x)\n",
       "- ───────────────── + ───────────────\n",
       "          3                  3       "
      ]
     },
     "execution_count": 38,
     "metadata": {},
     "output_type": "execute_result"
    }
   ],
   "source": [
    "integrate(sin(x)*sin(2*x), x)"
   ]
  },
  {
   "cell_type": "code",
   "execution_count": 39,
   "metadata": {},
   "outputs": [
    {
     "data": {
      "image/png": "[encoded data removed]",
      "text/plain": [
       "<matplotlib.figure.Figure at 0x114849f28>"
      ]
     },
     "metadata": {
      "needs_background": "light"
     },
     "output_type": "display_data"
    },
    {
     "data": {
      "text/plain": [
       "<sympy.plotting.plot.Plot at 0x114866ba8>"
      ]
     },
     "execution_count": 39,
     "metadata": {},
     "output_type": "execute_result"
    }
   ],
   "source": [
    "%matplotlib inline\n",
    "\n",
    "\n",
    "x = Symbol('x')\n",
    "plot(sin(x)*sin(2*x), (x, -pi, pi))"
   ]
  },
  {
   "cell_type": "code",
   "execution_count": 40,
   "metadata": {},
   "outputs": [
    {
     "data": {
      "image/png": "[encoded data removed]",
      "text/latex": [
       "$$0$$"
      ],
      "text/plain": [
       "0"
      ]
     },
     "execution_count": 40,
     "metadata": {},
     "output_type": "execute_result"
    }
   ],
   "source": [
    "integrate(sin(x)*sin(2*x), (x, -pi, pi))"
   ]
  },
  {
   "cell_type": "markdown",
   "metadata": {},
   "source": [
    "不定積分の結果は，ややこしいが，プロットからわかるとおり，関数は正の領域と負の領域が対称に出て来ている．したがって，積分すれば正負で相殺して0となる．"
   ]
  },
  {
   "cell_type": "markdown",
   "metadata": {},
   "source": [
    "# 線形代数\n",
    "## ヌルスペース\n",
    "\n",
    "行列$A = \\left(\\begin{array}{cccc}\n",
    "4 & -1 & -1 & 1\\\\\n",
    "1 & 2 & -1 & -2\\\\\n",
    "\\end{array}\n",
    "\\right)\n",
    "$を表現行列とする$R^4\\rightarrow R^2$の線形写像$f$のKer($f$)の1組の基底を求めよ．(15点)\n",
    "\n"
   ]
  },
  {
   "cell_type": "code",
   "execution_count": 42,
   "metadata": {},
   "outputs": [
    {
     "name": "stdout",
     "output_type": "stream",
     "text": [
      "IPython console for SymPy 1.0 (Python 3.6.1-64-bit) (ground types: python)\n",
      "\n",
      "These commands were executed:\n",
      ">>> from __future__ import division\n",
      ">>> from sympy import *\n",
      ">>> x, y, z, t = symbols('x y z t')\n",
      ">>> k, m, n = symbols('k m n', integer=True)\n",
      ">>> f, g, h = symbols('f g h', cls=Function)\n",
      ">>> init_printing()\n",
      "\n",
      "Documentation can be found at http://docs.sympy.org/1.0/\n"
     ]
    }
   ],
   "source": [
    "from sympy import *\n",
    "\n",
    "init_session()"
   ]
  },
  {
   "cell_type": "code",
   "execution_count": 45,
   "metadata": {},
   "outputs": [
    {
     "data": {
      "image/png": "[encoded data removed]",
      "text/latex": [
       "$$\\left [ \\left[\\begin{matrix}- \\frac{1}{9}\\\\\\frac{5}{9}\\\\1\\\\0\\end{matrix}\\right], \\quad \\left[\\begin{matrix}0\\\\1\\\\0\\\\1\\end{matrix}\\right]\\right ]$$"
      ],
      "text/plain": [
       "⎡⎡-1/9⎤, ⎡0⎤⎤\n",
       "⎢⎢    ⎥  ⎢ ⎥⎥\n",
       "⎢⎢5/9 ⎥  ⎢1⎥⎥\n",
       "⎢⎢    ⎥  ⎢ ⎥⎥\n",
       "⎢⎢ 1  ⎥  ⎢0⎥⎥\n",
       "⎢⎢    ⎥  ⎢ ⎥⎥\n",
       "⎣⎣ 0  ⎦  ⎣1⎦⎦"
      ]
     },
     "execution_count": 45,
     "metadata": {},
     "output_type": "execute_result"
    }
   ],
   "source": [
    "A=Matrix([[4,-1,1,1],[1,2,-1,-2]])\n",
    "A.nullspace()"
   ]
  },
  {
   "cell_type": "markdown",
   "metadata": {},
   "source": [
    "## 対角化\n",
    "行列$A = \\left(\\begin{array}{cccc}\n",
    "4 & -1 & -1 \\\\\n",
    "1 & 2 & -1 \\\\\n",
    "3 & -1 & 0\n",
    "\\end{array}\n",
    "\\right)\n",
    "$の固有値と固有ベクトルを求めよ．\n",
    "また，対角化行列$P$を求めて，\n",
    "$P^{-1}AP$と$P^{t}AP$を求め，違いを確かめよ．(15点)"
   ]
  },
  {
   "cell_type": "code",
   "execution_count": 46,
   "metadata": {},
   "outputs": [
    {
     "data": {
      "image/png": "[encoded data removed]",
      "text/latex": [
       "$$\\left [ \\left ( 1, \\quad 1, \\quad \\left [ \\left[\\begin{matrix}\\frac{1}{2}\\\\\\frac{1}{2}\\\\1\\end{matrix}\\right]\\right ]\\right ), \\quad \\left ( 2, \\quad 1, \\quad \\left [ \\left[\\begin{matrix}1\\\\1\\\\1\\end{matrix}\\right]\\right ]\\right ), \\quad \\left ( 3, \\quad 1, \\quad \\left [ \\left[\\begin{matrix}1\\\\0\\\\1\\end{matrix}\\right]\\right ]\\right )\\right ]$$"
      ],
      "text/plain": [
       "⎡⎛1, 1, ⎡⎡1/2⎤⎤⎞, ⎛2, 1, ⎡⎡1⎤⎤⎞, ⎛3, 1, ⎡⎡1⎤⎤⎞⎤\n",
       "⎢⎜      ⎢⎢   ⎥⎥⎟  ⎜      ⎢⎢ ⎥⎥⎟  ⎜      ⎢⎢ ⎥⎥⎟⎥\n",
       "⎢⎜      ⎢⎢1/2⎥⎥⎟  ⎜      ⎢⎢1⎥⎥⎟  ⎜      ⎢⎢0⎥⎥⎟⎥\n",
       "⎢⎜      ⎢⎢   ⎥⎥⎟  ⎜      ⎢⎢ ⎥⎥⎟  ⎜      ⎢⎢ ⎥⎥⎟⎥\n",
       "⎣⎝      ⎣⎣ 1 ⎦⎦⎠  ⎝      ⎣⎣1⎦⎦⎠  ⎝      ⎣⎣1⎦⎦⎠⎦"
      ]
     },
     "execution_count": 46,
     "metadata": {},
     "output_type": "execute_result"
    }
   ],
   "source": [
    "A = Matrix([[4,-1,-1],[1,2,-1],[3,-1,0]])\n",
    "A.eigenvects()"
   ]
  },
  {
   "cell_type": "code",
   "execution_count": 47,
   "metadata": {},
   "outputs": [],
   "source": [
    "P,D = A.diagonalize()"
   ]
  },
  {
   "cell_type": "code",
   "execution_count": 48,
   "metadata": {},
   "outputs": [
    {
     "data": {
      "image/png": "[encoded data removed]",
      "text/latex": [
       "$$\\left[\\begin{matrix}1 & 0 & 0\\\\0 & 2 & 0\\\\0 & 0 & 3\\end{matrix}\\right]$$"
      ],
      "text/plain": [
       "⎡1  0  0⎤\n",
       "⎢       ⎥\n",
       "⎢0  2  0⎥\n",
       "⎢       ⎥\n",
       "⎣0  0  3⎦"
      ]
     },
     "execution_count": 48,
     "metadata": {},
     "output_type": "execute_result"
    }
   ],
   "source": [
    "P.inv()*A*P"
   ]
  },
  {
   "cell_type": "code",
   "execution_count": 50,
   "metadata": {},
   "outputs": [
    {
     "data": {
      "image/png": "[encoded data removed]",
      "text/latex": [
       "$$\\left[\\begin{matrix}6 & 8 & 9\\\\4 & 6 & 6\\\\3 & 4 & 6\\end{matrix}\\right]$$"
      ],
      "text/plain": [
       "⎡6  8  9⎤\n",
       "⎢       ⎥\n",
       "⎢4  6  6⎥\n",
       "⎢       ⎥\n",
       "⎣3  4  6⎦"
      ]
     },
     "execution_count": 50,
     "metadata": {},
     "output_type": "execute_result"
    }
   ],
   "source": [
    "P.transpose()*A*P"
   ]
  },
  {
   "cell_type": "markdown",
   "metadata": {},
   "source": [
    "# 2015年度大学入試センター試験 本試験 数学II・B第2問\n",
    "\n",
    "以下のセンター試験問題をpythonでcode化せよ．ただし，関数$f(x)$は\n",
    "``` python\n",
    "f =Rational(1,2)*x**2\n",
    "f.subs({x:a})\n",
    "```\n",
    "などとするべし．\n",
    "\n",
    "## 微分係数\n",
    "関数$f(x)=\\frac{1}{2}x^2$の$x=a$における微分係数$f'(a)$を\n",
    "    求めよう．$h$が0でないとき，\n",
    "    $x$が$a$から$a+h$まで変化するときの$f(x)$の\n",
    "平均変化率は$\\fbox{ ア }+\\frac{h}{\\fbox{ イ }}$である．\n",
    "    したがって，求める微分係数は\n",
    "    \\begin{equation*}\n",
    "      f'(a) = \\lim_{h \\rightarrow \\fbox{ ウ }}\n",
    "      \\left(\\fbox{ ア }+\\frac{h}{\\fbox{ イ }}\\right) = \\fbox{ エ }\n",
    "    \\end{equation*}\n",
    "    である．\n",
    "\n",
    "\n",
    "\n"
   ]
  },
  {
   "cell_type": "code",
   "execution_count": 1,
   "metadata": {},
   "outputs": [
    {
     "name": "stdout",
     "output_type": "stream",
     "text": [
      "IPython console for SymPy 1.0 (Python 3.6.1-64-bit) (ground types: python)\n",
      "\n",
      "These commands were executed:\n",
      ">>> from __future__ import division\n",
      ">>> from sympy import *\n",
      ">>> x, y, z, t = symbols('x y z t')\n",
      ">>> k, m, n = symbols('k m n', integer=True)\n",
      ">>> f, g, h = symbols('f g h', cls=Function)\n",
      ">>> init_printing()\n",
      "\n",
      "Documentation can be found at http://docs.sympy.org/1.0/\n"
     ]
    }
   ],
   "source": [
    "from sympy import *\n",
    "\n",
    "init_session()"
   ]
  },
  {
   "cell_type": "code",
   "execution_count": 2,
   "metadata": {},
   "outputs": [
    {
     "data": {
      "image/png": "[encoded data removed]",
      "text/latex": [
       "$$\\frac{x^{2}}{2}$$"
      ],
      "text/plain": [
       " 2\n",
       "x \n",
       "──\n",
       "2 "
      ]
     },
     "execution_count": 2,
     "metadata": {},
     "output_type": "execute_result"
    }
   ],
   "source": [
    "a,b,h,x = symbols('a b h x')\n",
    "f =Rational(1,2)*x**2\n",
    "f"
   ]
  },
  {
   "cell_type": "code",
   "execution_count": 3,
   "metadata": {},
   "outputs": [
    {
     "data": {
      "image/png": "[encoded data removed]",
      "text/latex": [
       "$$\\frac{1}{2} \\left(a + h\\right)^{2}$$"
      ],
      "text/plain": [
       "       2\n",
       "(a + h) \n",
       "────────\n",
       "   2    "
      ]
     },
     "execution_count": 3,
     "metadata": {},
     "output_type": "execute_result"
    }
   ],
   "source": [
    "f.subs({x:a+h})"
   ]
  },
  {
   "cell_type": "code",
   "execution_count": 4,
   "metadata": {},
   "outputs": [
    {
     "data": {
      "image/png": "[encoded data removed]",
      "text/latex": [
       "$$- \\frac{a^{2}}{2} + \\frac{1}{2} \\left(a + h\\right)^{2}$$"
      ],
      "text/plain": [
       "   2          2\n",
       "  a    (a + h) \n",
       "- ── + ────────\n",
       "  2       2    "
      ]
     },
     "execution_count": 4,
     "metadata": {},
     "output_type": "execute_result"
    }
   ],
   "source": [
    "f.subs({x:a+h}) - f.subs({x:a})"
   ]
  },
  {
   "cell_type": "code",
   "execution_count": 5,
   "metadata": {},
   "outputs": [
    {
     "data": {
      "image/png": "[encoded data removed]",
      "text/latex": [
       "$$\\frac{1}{h} \\left(- \\frac{a^{2}}{2} + \\frac{1}{2} \\left(a + h\\right)^{2}\\right)$$"
      ],
      "text/plain": [
       "   2          2\n",
       "  a    (a + h) \n",
       "- ── + ────────\n",
       "  2       2    \n",
       "───────────────\n",
       "       h       "
      ]
     },
     "execution_count": 5,
     "metadata": {},
     "output_type": "execute_result"
    }
   ],
   "source": [
    "(f.subs({x:a+h}) - f.subs({x:a}))/h"
   ]
  },
  {
   "cell_type": "code",
   "execution_count": 6,
   "metadata": {},
   "outputs": [
    {
     "data": {
      "image/png": "[encoded data removed]",
      "text/latex": [
       "$$a + \\frac{h}{2}$$"
      ],
      "text/plain": [
       "    h\n",
       "a + ─\n",
       "    2"
      ]
     },
     "execution_count": 6,
     "metadata": {},
     "output_type": "execute_result"
    }
   ],
   "source": [
    "expand( (f.subs({x:a+h}) - f.subs({x:a}))/h )"
   ]
  },
  {
   "cell_type": "code",
   "execution_count": 7,
   "metadata": {},
   "outputs": [
    {
     "data": {
      "image/png": "[encoded data removed]",
      "text/latex": [
       "$$a$$"
      ],
      "text/plain": [
       "a"
      ]
     },
     "execution_count": 7,
     "metadata": {},
     "output_type": "execute_result"
    }
   ],
   "source": [
    "limit(expand( (f.subs({x:a+h}) - f.subs({x:a}))/h ), h, 0)"
   ]
  },
  {
   "cell_type": "markdown",
   "metadata": {},
   "source": [
    "少し冗長ですが，ゆっくりと数式処理のステップを示しています．\n",
    "\n",
    "* 1/2だと0.5になるので明示的に有理数(Rational)と宣言\n",
    "* 関数の代入はsubs(tituion) で実行\n",
    "* a+hとaとの差をとる\n",
    "* さらに展開(expand)を実行\n",
    "* limitを取る．これはテキストでは微分のsectionで紹介している"
   ]
  },
  {
   "cell_type": "markdown",
   "metadata": {},
   "source": [
    "## 放物線，接線\n",
    "\n",
    "放物線$y=\\frac{1}{2}x^2$を$C$とし，$C$上に点P$\\left(a, \\frac{1}{2}a^2\\right)$をとる．\n",
    "    ただし，$a > 0$とする．点Pにおける$C$の接線$l$の方程式は\n",
    "    \\begin{equation*}\n",
    "      y = \\fbox{ オ }x - \\frac{1}{\\fbox{ カ }}a^2\n",
    "    \\end{equation*}\n",
    "    である．\n",
    "    直線$l$と$x$軸との交点$Q$の座標は$\\left(\\frac{\\fbox{ キ }}{\\fbox{ ク }}, 0\\right)$である．\n",
    "    点Qを通り$l$に垂直な直線を$m$とすると，$m$の方程式は\n",
    "    \\begin{equation*}\n",
    "      y = \\frac{\\fbox{ ケコ }}{\\fbox{ サ }}x + \\frac{\\fbox{ シ }}{\\fbox{ ス }}\n",
    "    \\end{equation*}\n",
    "    である．\n",
    "\n"
   ]
  },
  {
   "cell_type": "markdown",
   "metadata": {},
   "source": [
    "### プロット\n",
    "まずは関数をplotしてさらに，aを適当に仮定して図を書いています．\n",
    "こいつが面倒なんですが，pythonを許してあげてください．\n",
    "コードを覚え必要はなくて，ここにサンプルがあることを覚えておいてください．"
   ]
  },
  {
   "cell_type": "code",
   "execution_count": 8,
   "metadata": {},
   "outputs": [
    {
     "data": {
      "image/png": "[encoded data removed]",
      "text/plain": [
       "<matplotlib.figure.Figure at 0x1154b7c18>"
      ]
     },
     "metadata": {
      "needs_background": "light"
     },
     "output_type": "display_data"
    }
   ],
   "source": [
    "%matplotlib inline\n",
    "import matplotlib.pyplot as plt\n",
    "import numpy as np\n",
    "\n",
    "from sympy import *\n",
    "\n",
    "def func(x):\n",
    "  return 1/2*x**2\n",
    "\n",
    "xx = np.linspace(-1, 2.2, 100)  #0から2πまでの範囲を100分割した\n",
    "yy = func(xx)\n",
    "plt.plot(xx, yy, color = 'b')\n",
    "\n",
    "plt.plot(2, func(2), \"o\", color = 'k')\n",
    "plt.hlines(0, -1, 3, color='k', linestyle='-', linewidth=2)\n",
    "plt.vlines(0, -1, 3, color='k', linestyle='-', linewidth=2)\n",
    "plt.grid()\n",
    "plt.show()"
   ]
  },
  {
   "cell_type": "code",
   "execution_count": 9,
   "metadata": {},
   "outputs": [
    {
     "ename": "NameError",
     "evalue": "name 'aa' is not defined",
     "output_type": "error",
     "traceback": [
      "\u001b[0;31m---------------------------------------------------------------------------\u001b[0m",
      "\u001b[0;31mNameError\u001b[0m                                 Traceback (most recent call last)",
      "\u001b[0;32m<ipython-input-9-c204fe214fb7>\u001b[0m in \u001b[0;36m<module>\u001b[0;34m\u001b[0m\n\u001b[0;32m----> 1\u001b[0;31m \u001b[0mll\u001b[0m \u001b[0;34m=\u001b[0m \u001b[0maa\u001b[0m\u001b[0;34m*\u001b[0m\u001b[0;34m(\u001b[0m\u001b[0mx\u001b[0m\u001b[0;34m-\u001b[0m\u001b[0mx0\u001b[0m\u001b[0;34m)\u001b[0m\u001b[0;34m+\u001b[0m\u001b[0my0\u001b[0m\u001b[0;34m\u001b[0m\u001b[0m\n\u001b[0m",
      "\u001b[0;31mNameError\u001b[0m: name 'aa' is not defined"
     ]
    }
   ],
   "source": [
    "ll = aa*(x-x0)+y0"
   ]
  },
  {
   "cell_type": "code",
   "execution_count": 10,
   "metadata": {},
   "outputs": [
    {
     "data": {
      "image/png": "[encoded data removed]",
      "text/latex": [
       "$$x$$"
      ],
      "text/plain": [
       "x"
      ]
     },
     "execution_count": 10,
     "metadata": {},
     "output_type": "execute_result"
    }
   ],
   "source": [
    "diff(f,x)"
   ]
  },
  {
   "cell_type": "code",
   "execution_count": 11,
   "metadata": {},
   "outputs": [
    {
     "data": {
      "image/png": "[encoded data removed]",
      "text/latex": [
       "$$a$$"
      ],
      "text/plain": [
       "a"
      ]
     },
     "execution_count": 11,
     "metadata": {},
     "output_type": "execute_result"
    }
   ],
   "source": [
    "diff(f,x).subs({x:a})"
   ]
  },
  {
   "cell_type": "code",
   "execution_count": 12,
   "metadata": {},
   "outputs": [],
   "source": [
    "aa = diff(f,x).subs({x:a})"
   ]
  },
  {
   "cell_type": "code",
   "execution_count": 13,
   "metadata": {},
   "outputs": [
    {
     "data": {
      "image/png": "[encoded data removed]",
      "text/latex": [
       "$$- \\frac{a^{2}}{2} + a x$$"
      ],
      "text/plain": [
       "   2      \n",
       "  a       \n",
       "- ── + a⋅x\n",
       "  2       "
      ]
     },
     "execution_count": 13,
     "metadata": {},
     "output_type": "execute_result"
    }
   ],
   "source": [
    "x0 = a\n",
    "y0 = Rational(1,2)*a**2\n",
    "ll = aa*(x-x0)+y0\n",
    "expand(ll)"
   ]
  },
  {
   "cell_type": "code",
   "execution_count": 14,
   "metadata": {},
   "outputs": [
    {
     "data": {
      "image/png": "[encoded data removed]",
      "text/latex": [
       "$$\\left [ \\frac{a}{2}\\right ]$$"
      ],
      "text/plain": [
       "⎡a⎤\n",
       "⎢─⎥\n",
       "⎣2⎦"
      ]
     },
     "execution_count": 14,
     "metadata": {},
     "output_type": "execute_result"
    }
   ],
   "source": [
    "solve(ll,x)"
   ]
  },
  {
   "cell_type": "code",
   "execution_count": 15,
   "metadata": {},
   "outputs": [
    {
     "ename": "NameError",
     "evalue": "name 'bb' is not defined",
     "output_type": "error",
     "traceback": [
      "\u001b[0;31m---------------------------------------------------------------------------\u001b[0m",
      "\u001b[0;31mNameError\u001b[0m                                 Traceback (most recent call last)",
      "\u001b[0;32m<ipython-input-15-871c2a4e54a6>\u001b[0m in \u001b[0;36m<module>\u001b[0;34m\u001b[0m\n\u001b[0;32m----> 1\u001b[0;31m \u001b[0mmm\u001b[0m \u001b[0;34m=\u001b[0m \u001b[0mbb\u001b[0m\u001b[0;34m*\u001b[0m\u001b[0;34m(\u001b[0m\u001b[0mx\u001b[0m\u001b[0;34m-\u001b[0m\u001b[0mx0\u001b[0m\u001b[0;34m)\u001b[0m\u001b[0;34m+\u001b[0m\u001b[0my0\u001b[0m\u001b[0;34m\u001b[0m\u001b[0m\n\u001b[0m",
      "\u001b[0;31mNameError\u001b[0m: name 'bb' is not defined"
     ]
    }
   ],
   "source": [
    "mm = bb*(x-x0)+y0"
   ]
  },
  {
   "cell_type": "code",
   "execution_count": 16,
   "metadata": {},
   "outputs": [
    {
     "data": {
      "image/png": "[encoded data removed]",
      "text/latex": [
       "$$- \\frac{1}{a}$$"
      ],
      "text/plain": [
       "-1 \n",
       "───\n",
       " a "
      ]
     },
     "execution_count": 16,
     "metadata": {},
     "output_type": "execute_result"
    }
   ],
   "source": [
    "bb = solve(a*b+1,b)[0]\n",
    "bb"
   ]
  },
  {
   "cell_type": "code",
   "execution_count": 17,
   "metadata": {},
   "outputs": [
    {
     "data": {
      "image/png": "[encoded data removed]",
      "text/latex": [
       "$$\\frac{1}{2} - \\frac{x}{a}$$"
      ],
      "text/plain": [
       "1   x\n",
       "─ - ─\n",
       "2   a"
      ]
     },
     "execution_count": 17,
     "metadata": {},
     "output_type": "execute_result"
    }
   ],
   "source": [
    "mm = bb*(x-a/2)\n",
    "expand(mm)"
   ]
  },
  {
   "cell_type": "code",
   "execution_count": 18,
   "metadata": {},
   "outputs": [
    {
     "name": "stdout",
     "output_type": "stream",
     "text": [
      "-x/2 + 1/2\n"
     ]
    },
    {
     "data": {
      "image/png": "[encoded data removed]",
      "text/latex": [
       "$$2 x - 2$$"
      ],
      "text/plain": [
       "2⋅x - 2"
      ]
     },
     "execution_count": 18,
     "metadata": {},
     "output_type": "execute_result"
    }
   ],
   "source": [
    "print(mm.subs({a:2}))\n",
    "ll.subs({a:2})"
   ]
  },
  {
   "cell_type": "code",
   "execution_count": 36,
   "metadata": {},
   "outputs": [
    {
     "data": {
      "image/png": "[encoded data removed]",
      "text/plain": [
       "<matplotlib.figure.Figure at 0x116b43630>"
      ]
     },
     "metadata": {
      "needs_background": "light"
     },
     "output_type": "display_data"
    }
   ],
   "source": [
    "%matplotlib inline\n",
    "import matplotlib.pyplot as plt\n",
    "import numpy as np\n",
    "\n",
    "from sympy import *\n",
    "\n",
    "def func(x):\n",
    "  return 1/2*x**2\n",
    "\n",
    "def l_func(x):\n",
    "  return 2*x-2\n",
    "\n",
    "def m_func(x):\n",
    "  return -x/2+1/2\n",
    "\n",
    "\n",
    "g = plt.subplot()\n",
    "g.set_ylim([-3,3])\n",
    "g.set_xlim([-3,3])\n",
    "g.set_aspect('equal')\n",
    "\n",
    "\n",
    "xx = np.linspace(-1, 2.2, 100)  #0から2πまでの範囲を100分割した\n",
    "yy = func(xx)\n",
    "g.plot(xx, yy, color = 'b')\n",
    "yy = l_func(xx)\n",
    "g.plot(xx, yy, color = 'r')\n",
    "yy = m_func(xx)\n",
    "g.plot(xx, yy, color = 'r')\n",
    "\n",
    "plt.plot(2, func(2), \"o\", color = 'k')\n",
    "plt.text(2+0.5, func(2), \"P(a,1/2a^2)\", color = 'k')\n",
    "plt.plot(1,0, \"o\", color = 'k')\n",
    "plt.text(1.2, 0.2, \"Q(a/2, 0)\", color = 'k')\n",
    "plt.plot(0,1/2, \"o\", color = 'k')\n",
    "plt.text(0.2, 1/2+0.2, \"A(0, 1/2)\", color = 'k')\n",
    "plt.plot(0,0, \"o\", color = 'k')\n",
    "plt.text(0.2, -0.3, \"O\", color = 'k')\n",
    "plt.plot(2,0, \"o\", color = 'k')\n",
    "plt.text(2.2,-0.3, \"R\", color = 'k')\n",
    "\n",
    "\n",
    "plt.hlines(0, -1, 3, color='k', linestyle='-', linewidth=2)\n",
    "plt.vlines(0, -1, 3, color='k', linestyle='-', linewidth=2)\n",
    "plt.grid()\n",
    "plt.show()"
   ]
  },
  {
   "cell_type": "markdown",
   "metadata": {},
   "source": [
    "aspect比が1のplotは少しコツがいりそう．上の例を参照してください．\n",
    "subplotを使わないとエラーが出たんですが，よくわかりません．\n",
    "\n",
    "実はここで間違いをしていました．曲線$m$の傾きを求める式が間違ってたんですが，\n",
    "aspect比が1のplotをして，間違いに気がつきました．\n",
    "視覚化はいつも大事ですね．\n",
    "\n",
    "直線の方程式ですが，エラーを出しています．\n",
    "これはわざとです．直線の方程式の公式\n",
    "$$\n",
    "y-f(a) = f'(a)(x-a)\n",
    "$$\n",
    "をpythonでアレンジして\n",
    "``` python\n",
    "mm = bb*(x-x0)+y0\n",
    "```\n",
    "と書いておくと，どの値が足りないかがわかります．\n",
    "傾き(bb)，x0, y0と値(あるいはパラメータ)を\n",
    "指定していって直線が出来上がります．\n",
    "\n",
    "グラフには以下の問題を解くために，点O,Rを足しています．\n",
    "また，後の計算で間違いが起こりにくいように，座標を書き加えています．\n"
   ]
  },
  {
   "cell_type": "markdown",
   "metadata": {},
   "source": [
    "## 面積\n",
    "直線$m$と$y$軸との交点をAとする．三角形APQの面積を$S$とおくと\n",
    "    \\begin{equation*}\n",
    "      S = \\frac{a\\left(a^2+\\fbox{ セ }\\right)}{\\fbox{ ソ }}\n",
    "    \\end{equation*}\n",
    "    となる．また，$y$軸と線分APおよび曲線$C$によって囲まれた図形の面積を$T$とおくと\n",
    "    \\begin{equation*}\n",
    "      T = \\frac{a\\left(a^2+\\fbox{ タ }\\right)}{\\fbox{ チツ }}\n",
    "    \\end{equation*}\n",
    "    となる．\n",
    "\n",
    "$a>0$の範囲における$S-T$の値について調べよう．\n",
    "    \\begin{equation*}\n",
    "      S -T = \\frac{a\\left(a^2-\\fbox{ テ }\\right)}{\\fbox{ トナ }}\n",
    "    \\end{equation*}\n",
    "    である．\n",
    "    $a>0$であるから，$S-T>0$となるような$a$ のとり得る値の範囲は\n",
    "    $ a > \\sqrt{\\fbox{ ニ }}$である．\n",
    "    また，$a>0$のときの$S-T$の増減を調べると，\n",
    "    $S-T$は$a=\\fbox{ ヌ }$で最小値$\\frac{\\fbox{ ネノ }}{\\fbox{ ハヒ }}$をとることがわかる．\n"
   ]
  },
  {
   "cell_type": "code",
   "execution_count": 20,
   "metadata": {},
   "outputs": [
    {
     "data": {
      "image/png": "[encoded data removed]",
      "text/latex": [
       "$$\\frac{1}{2}$$"
      ],
      "text/plain": [
       "1/2"
      ]
     },
     "execution_count": 20,
     "metadata": {},
     "output_type": "execute_result"
    }
   ],
   "source": [
    "mm.subs({x:0})"
   ]
  },
  {
   "cell_type": "code",
   "execution_count": 55,
   "metadata": {},
   "outputs": [
    {
     "data": {
      "image/png": "[encoded data removed]",
      "text/latex": [
       "$$\\frac{a}{2} \\left(\\frac{a^{2}}{2} + \\frac{1}{2}\\right)$$"
      ],
      "text/plain": [
       "  ⎛ 2    ⎞\n",
       "  ⎜a    1⎟\n",
       "a⋅⎜── + ─⎟\n",
       "  ⎝2    2⎠\n",
       "──────────\n",
       "    2     "
      ]
     },
     "execution_count": 55,
     "metadata": {},
     "output_type": "execute_result"
    }
   ],
   "source": [
    "OAPR = (Rational(1,2)+f.subs({x:a}))*a/2\n",
    "OAQ = Rational(1,2)*Rational(1,2)*a/2\n",
    "QPR = (a-a/2)*1/2*a**2/2\n",
    "OAPR"
   ]
  },
  {
   "cell_type": "code",
   "execution_count": 57,
   "metadata": {},
   "outputs": [
    {
     "data": {
      "image/png": "[encoded data removed]",
      "text/latex": [
       "$$\\frac{a}{8} \\left(a^{2} + 1\\right)$$"
      ],
      "text/plain": [
       "  ⎛ 2    ⎞\n",
       "a⋅⎝a  + 1⎠\n",
       "──────────\n",
       "    8     "
      ]
     },
     "execution_count": 57,
     "metadata": {},
     "output_type": "execute_result"
    }
   ],
   "source": [
    "SS = factor(OAPR - OAQ - QPR)\n",
    "SS"
   ]
  },
  {
   "cell_type": "code",
   "execution_count": 61,
   "metadata": {},
   "outputs": [
    {
     "data": {
      "image/png": "[encoded data removed]",
      "text/latex": [
       "$$\\frac{a}{12} \\left(a^{2} + 3\\right)$$"
      ],
      "text/plain": [
       "  ⎛ 2    ⎞\n",
       "a⋅⎝a  + 3⎠\n",
       "──────────\n",
       "    12    "
      ]
     },
     "execution_count": 61,
     "metadata": {},
     "output_type": "execute_result"
    }
   ],
   "source": [
    "TT = factor(OAPR-integrate(f,(x,0,a)))\n",
    "TT"
   ]
  },
  {
   "cell_type": "code",
   "execution_count": 64,
   "metadata": {},
   "outputs": [
    {
     "data": {
      "image/png": "[encoded data removed]",
      "text/latex": [
       "$$\\frac{a}{24} \\left(a^{2} - 3\\right)$$"
      ],
      "text/plain": [
       "  ⎛ 2    ⎞\n",
       "a⋅⎝a  - 3⎠\n",
       "──────────\n",
       "    24    "
      ]
     },
     "execution_count": 64,
     "metadata": {},
     "output_type": "execute_result"
    }
   ],
   "source": [
    "ST = factor(SS-TT)\n",
    "ST"
   ]
  },
  {
   "cell_type": "code",
   "execution_count": 65,
   "metadata": {},
   "outputs": [
    {
     "data": {
      "image/png": "[encoded data removed]",
      "text/plain": [
       "<matplotlib.figure.Figure at 0x116b581d0>"
      ]
     },
     "metadata": {
      "needs_background": "light"
     },
     "output_type": "display_data"
    },
    {
     "data": {
      "text/plain": [
       "<sympy.plotting.plot.Plot at 0x116b58fd0>"
      ]
     },
     "execution_count": 65,
     "metadata": {},
     "output_type": "execute_result"
    }
   ],
   "source": [
    "plot(ST, (a,0,4))"
   ]
  },
  {
   "cell_type": "code",
   "execution_count": 66,
   "metadata": {},
   "outputs": [
    {
     "data": {
      "image/png": "[encoded data removed]",
      "text/latex": [
       "$$\\left [ 0, \\quad - \\sqrt{3}, \\quad \\sqrt{3}\\right ]$$"
      ],
      "text/plain": [
       "[0, -√3, √3]"
      ]
     },
     "execution_count": 66,
     "metadata": {},
     "output_type": "execute_result"
    }
   ],
   "source": [
    "solve(ST,a)"
   ]
  },
  {
   "cell_type": "code",
   "execution_count": 67,
   "metadata": {},
   "outputs": [
    {
     "data": {
      "image/png": "[encoded data removed]",
      "text/latex": [
       "$$\\frac{a^{2}}{8} - \\frac{1}{8}$$"
      ],
      "text/plain": [
       " 2    \n",
       "a    1\n",
       "── - ─\n",
       "8    8"
      ]
     },
     "execution_count": 67,
     "metadata": {},
     "output_type": "execute_result"
    }
   ],
   "source": [
    "diff(ST,a)"
   ]
  },
  {
   "cell_type": "code",
   "execution_count": 68,
   "metadata": {},
   "outputs": [
    {
     "data": {
      "image/png": "[encoded data removed]",
      "text/latex": [
       "$$\\left [ -1, \\quad 1\\right ]$$"
      ],
      "text/plain": [
       "[-1, 1]"
      ]
     },
     "execution_count": 68,
     "metadata": {},
     "output_type": "execute_result"
    }
   ],
   "source": [
    "solve(diff(ST,a),a)"
   ]
  },
  {
   "cell_type": "code",
   "execution_count": 69,
   "metadata": {},
   "outputs": [
    {
     "data": {
      "image/png": "[encoded data removed]",
      "text/latex": [
       "$$- \\frac{1}{12}$$"
      ],
      "text/plain": [
       "-1/12"
      ]
     },
     "execution_count": 69,
     "metadata": {},
     "output_type": "execute_result"
    }
   ],
   "source": [
    "ST.subs({a:1})"
   ]
  },
  {
   "cell_type": "markdown",
   "metadata": {},
   "source": [
    "これでセンター試験の問題は解けました．\n",
    "pythonで解いたら綺麗にセンター試験の解答ボックスを\n",
    "埋めていくことができるはずです．\n",
    "出題者は検算をpythonにやらしているのではと訝るほどです．\n",
    "でも，次の問題をこのままでは解けません．"
   ]
  },
  {
   "cell_type": "markdown",
   "metadata": {},
   "source": [
    "# センター試験数値計算化\n",
    "\n",
    "前問の関数を$f(x)=0.49x^2$および放物線$C$の方程式を$y=0.49x^2$として問題を解け．\n",
    "  数値解となるので，答えはかっこによらず小数点となる．最後の最小値は-0.08676940ぐらい．(30点)"
   ]
  },
  {
   "cell_type": "raw",
   "metadata": {},
   "source": [
    "## 解法の指針\n",
    "\n",
    "代数計算でできた問題を数値計算にするという作業はよくあります．\n",
    "研究や実装においては日常的な作業です．\n",
    "コツは，できるだけ自動化しておくことです．\n",
    "\n",
    "上の解法では，出て来た結果をそのままベタ打ちしてるところがあります．\n",
    "そうすると変数が変わった時に「もれ」が出て来ます．\n",
    "まずは答えを取り出す時に，手打ちではなく変数として取り出す工夫をします．\n",
    "\n",
    "例えば，P点の座標を$(a,1/2*a^2)$ではなく$(a,f(a))$とするだけで大分自動化が進みます．\n",
    "\n",
    "他のもやっていきます．"
   ]
  },
  {
   "cell_type": "code",
   "execution_count": 70,
   "metadata": {},
   "outputs": [
    {
     "name": "stdout",
     "output_type": "stream",
     "text": [
      "IPython console for SymPy 1.0 (Python 3.6.1-64-bit) (ground types: python)\n",
      "\n",
      "These commands were executed:\n",
      ">>> from __future__ import division\n",
      ">>> from sympy import *\n",
      ">>> x, y, z, t = symbols('x y z t')\n",
      ">>> k, m, n = symbols('k m n', integer=True)\n",
      ">>> f, g, h = symbols('f g h', cls=Function)\n",
      ">>> init_printing()\n",
      "\n",
      "Documentation can be found at http://docs.sympy.org/1.0/\n"
     ]
    }
   ],
   "source": [
    "from sympy import *\n",
    "\n",
    "init_session()"
   ]
  },
  {
   "cell_type": "code",
   "execution_count": 99,
   "metadata": {},
   "outputs": [
    {
     "data": {
      "image/png": "[encoded data removed]",
      "text/latex": [
       "$$0.49 x^{2}$$"
      ],
      "text/plain": [
       "      2\n",
       "0.49⋅x "
      ]
     },
     "execution_count": 99,
     "metadata": {},
     "output_type": "execute_result"
    }
   ],
   "source": [
    "a,b,h,x = symbols('a b h x')\n",
    "#f =Rational(1,2)*x**2\n",
    "f =0.49*x**2\n",
    "f"
   ]
  },
  {
   "cell_type": "code",
   "execution_count": 100,
   "metadata": {},
   "outputs": [
    {
     "data": {
      "image/png": "[encoded data removed]",
      "text/latex": [
       "$$0.98 a + 0.49 h$$"
      ],
      "text/plain": [
       "0.98⋅a + 0.49⋅h"
      ]
     },
     "execution_count": 100,
     "metadata": {},
     "output_type": "execute_result"
    }
   ],
   "source": [
    "df = expand( (f.subs({x:a+h}) - f.subs({x:a}))/h )\n",
    "df"
   ]
  },
  {
   "cell_type": "code",
   "execution_count": 101,
   "metadata": {},
   "outputs": [
    {
     "data": {
      "image/png": "[encoded data removed]",
      "text/latex": [
       "$$0.98 a$$"
      ],
      "text/plain": [
       "0.98⋅a"
      ]
     },
     "execution_count": 101,
     "metadata": {},
     "output_type": "execute_result"
    }
   ],
   "source": [
    "limit( df, h, 0)"
   ]
  },
  {
   "cell_type": "code",
   "execution_count": 103,
   "metadata": {},
   "outputs": [
    {
     "data": {
      "image/png": "[encoded data removed]",
      "text/latex": [
       "$$0.98 a$$"
      ],
      "text/plain": [
       "0.98⋅a"
      ]
     },
     "execution_count": 103,
     "metadata": {},
     "output_type": "execute_result"
    }
   ],
   "source": [
    "aa = diff(f,x).subs({x:a})\n",
    "aa"
   ]
  },
  {
   "cell_type": "code",
   "execution_count": 118,
   "metadata": {},
   "outputs": [
    {
     "data": {
      "image/png": "[encoded data removed]",
      "text/latex": [
       "$$- 0.49 a^{2} + 0.98 a x$$"
      ],
      "text/plain": [
       "        2           \n",
       "- 0.49⋅a  + 0.98⋅a⋅x"
      ]
     },
     "execution_count": 118,
     "metadata": {},
     "output_type": "execute_result"
    }
   ],
   "source": [
    "x0 = a\n",
    "y0 = f.subs({x:a})\n",
    "ll = aa*(x-x0)+y0\n",
    "expand(ll)"
   ]
  },
  {
   "cell_type": "code",
   "execution_count": 119,
   "metadata": {},
   "outputs": [
    {
     "data": {
      "image/png": "[encoded data removed]",
      "text/latex": [
       "$$0.5 a$$"
      ],
      "text/plain": [
       "0.5⋅a"
      ]
     },
     "execution_count": 119,
     "metadata": {},
     "output_type": "execute_result"
    }
   ],
   "source": [
    "Q_x = solve(ll,x)[0]\n",
    "Q_x"
   ]
  },
  {
   "cell_type": "code",
   "execution_count": 120,
   "metadata": {},
   "outputs": [
    {
     "data": {
      "image/png": "[encoded data removed]",
      "text/latex": [
       "$$- \\frac{1.02040816326531}{a}$$"
      ],
      "text/plain": [
       "-1.02040816326531 \n",
       "──────────────────\n",
       "        a         "
      ]
     },
     "execution_count": 120,
     "metadata": {},
     "output_type": "execute_result"
    }
   ],
   "source": [
    "bb = solve(aa*b+1,b)[0]\n",
    "bb"
   ]
  },
  {
   "cell_type": "code",
   "execution_count": 121,
   "metadata": {},
   "outputs": [
    {
     "data": {
      "image/png": "[encoded data removed]",
      "text/latex": [
       "$$0.510204081632653 - \\frac{1.02040816326531 x}{a}$$"
      ],
      "text/plain": [
       "                    1.02040816326531⋅x\n",
       "0.510204081632653 - ──────────────────\n",
       "                            a         "
      ]
     },
     "execution_count": 121,
     "metadata": {},
     "output_type": "execute_result"
    }
   ],
   "source": [
    "mm = bb*(x-Q_x)\n",
    "expand(mm)"
   ]
  },
  {
   "cell_type": "code",
   "execution_count": 122,
   "metadata": {},
   "outputs": [
    {
     "data": {
      "image/png": "[encoded data removed]",
      "text/latex": [
       "$$0.510204081632653$$"
      ],
      "text/plain": [
       "0.510204081632653"
      ]
     },
     "execution_count": 122,
     "metadata": {},
     "output_type": "execute_result"
    }
   ],
   "source": [
    "A_y = mm.subs({x:0})\n",
    "A_y"
   ]
  },
  {
   "cell_type": "code",
   "execution_count": 123,
   "metadata": {},
   "outputs": [
    {
     "data": {
      "image/png": "[encoded data removed]",
      "text/latex": [
       "$$\\frac{a}{2} \\left(0.49 a^{2} + 0.510204081632653\\right)$$"
      ],
      "text/plain": [
       "  ⎛      2                    ⎞\n",
       "a⋅⎝0.49⋅a  + 0.510204081632653⎠\n",
       "───────────────────────────────\n",
       "               2               "
      ]
     },
     "execution_count": 123,
     "metadata": {},
     "output_type": "execute_result"
    }
   ],
   "source": [
    "OAPR = (A_y+f.subs({x:a}))*a/2\n",
    "OAQ = A_y*Q_x/2\n",
    "QPR = (a-Q_x)*f.subs({x:a})/2\n",
    "OAPR"
   ]
  },
  {
   "cell_type": "code",
   "execution_count": 124,
   "metadata": {},
   "outputs": [
    {
     "data": {
      "image/png": "[encoded data removed]",
      "text/latex": [
       "$$0.5 a \\left(0.245 a^{2} + 0.255102040816327\\right)$$"
      ],
      "text/plain": [
       "      ⎛       2                    ⎞\n",
       "0.5⋅a⋅⎝0.245⋅a  + 0.255102040816327⎠"
      ]
     },
     "execution_count": 124,
     "metadata": {},
     "output_type": "execute_result"
    }
   ],
   "source": [
    "SS = factor(OAPR - OAQ - QPR)\n",
    "SS"
   ]
  },
  {
   "cell_type": "code",
   "execution_count": 125,
   "metadata": {},
   "outputs": [
    {
     "data": {
      "image/png": "[encoded data removed]",
      "text/latex": [
       "$$0.5 a \\left(0.163333333333333 a^{2} + 0.510204081632653\\right)$$"
      ],
      "text/plain": [
       "      ⎛                   2                    ⎞\n",
       "0.5⋅a⋅⎝0.163333333333333⋅a  + 0.510204081632653⎠"
      ]
     },
     "execution_count": 125,
     "metadata": {},
     "output_type": "execute_result"
    }
   ],
   "source": [
    "TT = factor(OAPR-integrate(f,(x,0,a)))\n",
    "TT"
   ]
  },
  {
   "cell_type": "code",
   "execution_count": 126,
   "metadata": {},
   "outputs": [
    {
     "data": {
      "image/png": "[encoded data removed]",
      "text/latex": [
       "$$0.5 a \\left(0.0816666666666667 a^{2} - 0.255102040816327\\right)$$"
      ],
      "text/plain": [
       "      ⎛                    2                    ⎞\n",
       "0.5⋅a⋅⎝0.0816666666666667⋅a  - 0.255102040816327⎠"
      ]
     },
     "execution_count": 126,
     "metadata": {},
     "output_type": "execute_result"
    }
   ],
   "source": [
    "ST = factor(SS-TT)\n",
    "ST"
   ]
  },
  {
   "cell_type": "code",
   "execution_count": 127,
   "metadata": {},
   "outputs": [
    {
     "data": {
      "text/plain": [
       "<sympy.plotting.plot.Plot at 0x1169a3b00>"
      ]
     },
     "execution_count": 127,
     "metadata": {},
     "output_type": "execute_result"
    },
    {
     "data": {
      "image/png": "[encoded data removed]",
      "text/plain": [
       "<matplotlib.figure.Figure at 0x116c579e8>"
      ]
     },
     "metadata": {
      "needs_background": "light"
     },
     "output_type": "display_data"
    }
   ],
   "source": [
    "plot(ST, (a,0,4))"
   ]
  },
  {
   "cell_type": "code",
   "execution_count": 128,
   "metadata": {},
   "outputs": [
    {
     "data": {
      "image/png": "[encoded data removed]",
      "text/latex": [
       "$$\\left [ -1.76739878323355, \\quad 0.0, \\quad 1.76739878323355\\right ]$$"
      ],
      "text/plain": [
       "[-1.76739878323355, 0.0, 1.76739878323355]"
      ]
     },
     "execution_count": 128,
     "metadata": {},
     "output_type": "execute_result"
    }
   ],
   "source": [
    "solve(ST,a)"
   ]
  },
  {
   "cell_type": "code",
   "execution_count": 132,
   "metadata": {},
   "outputs": [
    {
     "data": {
      "image/png": "[encoded data removed]",
      "text/latex": [
       "$$1.02040816326531$$"
      ],
      "text/plain": [
       "1.02040816326531"
      ]
     },
     "execution_count": 132,
     "metadata": {},
     "output_type": "execute_result"
    }
   ],
   "source": [
    "ST_min = solve(diff(ST,a),a)\n",
    "ST_min[1]"
   ]
  },
  {
   "cell_type": "code",
   "execution_count": 133,
   "metadata": {},
   "outputs": [
    {
     "data": {
      "image/png": "[encoded data removed]",
      "text/latex": [
       "$$-0.0867694016382063$$"
      ],
      "text/plain": [
       "-0.0867694016382063"
      ]
     },
     "execution_count": 133,
     "metadata": {},
     "output_type": "execute_result"
    }
   ],
   "source": [
    "ST.subs({a:ST_min[1]})"
   ]
  },
  {
   "cell_type": "markdown",
   "metadata": {},
   "source": [
    "どうです．最初は$f=1/2x^2$で結果を確認しながらコードを整理していきます．\n",
    "最後に係数を0.49に変えて実行します．\n",
    "最後の結果が違う人はどこかで変数への変換が不十分なのだと思います．チェックしてみてください．\n",
    "\n",
    "「重複」あるいは冗長な部分を省くとみやすくなっていると思います．\n",
    "普通のテキストやネットのサンプルは綺麗なコードを書きたがります．\n",
    "でも，ここで示したように，\n",
    "初めから綺麗な答えがあると思わないでください．\n",
    "プロもグタグタのcodeを書いて，その後でこそっと直しています．\n",
    "初心者は，特に試行錯誤が必要です．\n",
    "この辺りが，「programmingは数学の問題を解くのに似ている」\n",
    "と言われる所以(ゆえん)です．\n",
    "\n",
    "数式処理のコツがわかったでしょうか？\n",
    "プログラミングの極意に似ています．\n",
    "「綺麗な動くコード」です．\n",
    "まずは動くコードを書いて，その後重複を省いて綺麗にしてください．\n",
    "この過程がREPLと表現されています．"
   ]
  },
  {
   "cell_type": "code",
   "execution_count": null,
   "metadata": {},
   "outputs": [],
   "source": []
  }
 ],
 "metadata": {
  "kernelspec": {
   "display_name": "Python 3",
   "language": "python",
   "name": "python3"
  },
  "language_info": {
   "codemirror_mode": {
    "name": "ipython",
    "version": 3
   },
   "file_extension": ".py",
   "mimetype": "text/x-python",
   "name": "python",
   "nbconvert_exporter": "python",
   "pygments_lexer": "ipython3",
   "version": "3.6.1"
  },
  "latex_envs": {
   "LaTeX_envs_menu_present": true,
   "autocomplete": true,
   "bibliofile": "biblio.bib",
   "cite_by": "apalike",
   "current_citInitial": 1,
   "eqLabelWithNumbers": true,
   "eqNumInitial": 1,
   "hotkeys": {
    "equation": "Ctrl-E",
    "itemize": "Ctrl-I"
   },
   "labels_anchors": false,
   "latex_user_defs": false,
   "report_style_numbering": false,
   "user_envs_cfg": false
  },
  "toc": {
   "colors": {
    "hover_highlight": "#DAA520",
    "navigate_num": "#000000",
    "navigate_text": "#333333",
    "running_highlight": "#FF0000",
    "selected_highlight": "#FFD700",
    "sidebar_border": "#EEEEEE",
    "wrapper_background": "#FFFFFF"
   },
   "moveMenuLeft": true,
   "nav_menu": {
    "height": "30px",
    "width": "252px"
   },
   "navigate_menu": true,
   "number_sections": true,
   "sideBar": true,
   "threshold": 4,
   "toc_cell": true,
   "toc_position": {
    "height": "572px",
    "left": "0px",
    "right": "688px",
    "top": "62px",
    "width": "26px"
   },
   "toc_section_display": "block",
   "toc_window_display": true,
   "widenNotebook": false
  }
 },
 "nbformat": 4,
 "nbformat_minor": 2
}
