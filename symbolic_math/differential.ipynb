{
 "cells": [
  {
   "cell_type": "markdown",
   "metadata": {
    "toc": "true"
   },
   "source": [
    "# Table of Contents\n",
    " <p><div class=\"lev1 toc-item\"><a href=\"#微分(Diff)-I\" data-toc-modified-id=\"微分(Diff)-I-1\"><span class=\"toc-item-num\">1&nbsp;&nbsp;</span>微分(Diff)-I</a></div><div class=\"lev2 toc-item\"><a href=\"#単純な微分(diff)\" data-toc-modified-id=\"単純な微分(diff)-11\"><span class=\"toc-item-num\">1.1&nbsp;&nbsp;</span>単純な微分(diff)</a></div><div class=\"lev2 toc-item\"><a href=\"#偏微分(PartialDiff)\" data-toc-modified-id=\"偏微分(PartialDiff)-12\"><span class=\"toc-item-num\">1.2&nbsp;&nbsp;</span>偏微分(PartialDiff)</a></div><div class=\"lev2 toc-item\"><a href=\"#例題:関数の微分と増減表\" data-toc-modified-id=\"例題:関数の微分と増減表-13\"><span class=\"toc-item-num\">1.3&nbsp;&nbsp;</span>例題:関数の微分と増減表</a></div><div class=\"lev3 toc-item\"><a href=\"#解答例\" data-toc-modified-id=\"解答例-131\"><span class=\"toc-item-num\">1.3.1&nbsp;&nbsp;</span>解答例</a></div><div class=\"lev2 toc-item\"><a href=\"#例題:接線(Tangent)\" data-toc-modified-id=\"例題:接線(Tangent)-14\"><span class=\"toc-item-num\">1.4&nbsp;&nbsp;</span>例題:接線(Tangent)</a></div><div class=\"lev3 toc-item\"><a href=\"#解答例\" data-toc-modified-id=\"解答例-141\"><span class=\"toc-item-num\">1.4.1&nbsp;&nbsp;</span>解答例</a></div><div class=\"lev1 toc-item\"><a href=\"#極限(limit)\" data-toc-modified-id=\"極限(limit)-2\"><span class=\"toc-item-num\">2&nbsp;&nbsp;</span>極限(limit)</a></div><div class=\"lev1 toc-item\"><a href=\"#微分(Diff)-II\" data-toc-modified-id=\"微分(Diff)-II-3\"><span class=\"toc-item-num\">3&nbsp;&nbsp;</span>微分(Diff)-II</a></div><div class=\"lev2 toc-item\"><a href=\"#級数展開(series)\" data-toc-modified-id=\"級数展開(series)-31\"><span class=\"toc-item-num\">3.1&nbsp;&nbsp;</span>級数展開(series)</a></div><div class=\"lev2 toc-item\"><a href=\"#全微分(D)\" data-toc-modified-id=\"全微分(D)-32\"><span class=\"toc-item-num\">3.2&nbsp;&nbsp;</span>全微分(D)</a></div><div class=\"lev2 toc-item\"><a href=\"#複合関数の微分\" data-toc-modified-id=\"複合関数の微分-33\"><span class=\"toc-item-num\">3.3&nbsp;&nbsp;</span>複合関数の微分</a></div><div class=\"lev2 toc-item\"><a href=\"#課題\" data-toc-modified-id=\"課題-34\"><span class=\"toc-item-num\">3.4&nbsp;&nbsp;</span>課題</a></div><div class=\"lev2 toc-item\"><a href=\"#解答例\" data-toc-modified-id=\"解答例-35\"><span class=\"toc-item-num\">3.5&nbsp;&nbsp;</span>解答例</a></div><div class=\"lev3 toc-item\"><a href=\"#幾つかの関数の微分\" data-toc-modified-id=\"幾つかの関数の微分-351\"><span class=\"toc-item-num\">3.5.1&nbsp;&nbsp;</span>幾つかの関数の微分</a></div><div class=\"lev3 toc-item\"><a href=\"#高階微分\" data-toc-modified-id=\"高階微分-352\"><span class=\"toc-item-num\">3.5.2&nbsp;&nbsp;</span>高階微分</a></div><div class=\"lev3 toc-item\"><a href=\"#0以外での級数展開と表示\" data-toc-modified-id=\"0以外での級数展開と表示-353\"><span class=\"toc-item-num\">3.5.3&nbsp;&nbsp;</span>0以外での級数展開と表示</a></div><div class=\"lev3 toc-item\"><a href=\"#2次元関数の級数展開と3dplot\" data-toc-modified-id=\"2次元関数の級数展開と3dplot-354\"><span class=\"toc-item-num\">3.5.4&nbsp;&nbsp;</span>2次元関数の級数展開と3dplot</a></div><div class=\"lev1 toc-item\"><a href=\"#きれいな微分表示\" data-toc-modified-id=\"きれいな微分表示-4\"><span class=\"toc-item-num\">4&nbsp;&nbsp;</span>きれいな微分表示</a></div>"
   ]
  },
  {
   "cell_type": "markdown",
   "metadata": {},
   "source": [
    "<br />\n",
    "\n",
    "<div style=\"text-align: center;\">\n",
    "<font size=\"7\">微分(differential)</font>\n",
    "</div>\n",
    "<br />\n",
    "<div style=\"text-align: right;\">\n",
    "<font size=\"4\">file:/~/python/doing_math_with_python/differential.ipynb</font>\n",
    "<br />\n",
    "<font size=\"4\">cc by Shigeto R. Nishitani 2017 </font>\n",
    "</div>"
   ]
  },
  {
   "cell_type": "markdown",
   "metadata": {},
   "source": [
    "# 微分(Diff)-I"
   ]
  },
  {
   "cell_type": "markdown",
   "metadata": {},
   "source": [
    "## 単純な微分(diff) "
   ]
  },
  {
   "cell_type": "markdown",
   "metadata": {},
   "source": [
    "単純な一変数関数の一次微分は，以下の通り．"
   ]
  },
  {
   "cell_type": "code",
   "execution_count": 1,
   "metadata": {},
   "outputs": [
    {
     "data": {
      "text/latex": [
       "$\\displaystyle 2 x - 3$"
      ],
      "text/plain": [
       "2*x - 3"
      ]
     },
     "execution_count": 1,
     "metadata": {},
     "output_type": "execute_result"
    }
   ],
   "source": [
    "from sympy import *\n",
    "x,y = symbols('x y')\n",
    "\n",
    "diff(x**2-3*x+2,x)"
   ]
  },
  {
   "cell_type": "markdown",
   "metadata": {},
   "source": [
    "高次の微分は，微分変数を必要なだけ並べる．"
   ]
  },
  {
   "cell_type": "code",
   "execution_count": 2,
   "metadata": {},
   "outputs": [
    {
     "data": {
      "text/latex": [
       "$\\displaystyle - \\sin{\\left(x \\right)}$"
      ],
      "text/plain": [
       "-sin(x)"
      ]
     },
     "execution_count": 2,
     "metadata": {},
     "output_type": "execute_result"
    }
   ],
   "source": [
    "diff(sin(x),x,x)"
   ]
  },
  {
   "cell_type": "markdown",
   "metadata": {},
   "source": [
    "さらに高階微分は次のように．これはxについての3次微分を表わす．"
   ]
  },
  {
   "cell_type": "code",
   "execution_count": 3,
   "metadata": {},
   "outputs": [
    {
     "data": {
      "text/latex": [
       "$\\displaystyle 24 x$"
      ],
      "text/plain": [
       "24*x"
      ]
     },
     "execution_count": 3,
     "metadata": {},
     "output_type": "execute_result"
    }
   ],
   "source": [
    "diff(x**4,x,3)"
   ]
  },
  {
   "cell_type": "markdown",
   "metadata": {},
   "source": [
    "## 偏微分(PartialDiff) \n",
    "複数の変数を持つ多変数の関数では，微分する変数を明示すれば偏微分が求められる．"
   ]
  },
  {
   "cell_type": "code",
   "execution_count": 4,
   "metadata": {},
   "outputs": [
    {
     "name": "stdout",
     "output_type": "stream",
     "text": [
      " 1    x + y\n",
      "─── - ─────\n",
      "x⋅y     2  \n",
      "       x ⋅y\n"
     ]
    }
   ],
   "source": [
    "eq1=(x+y)/(x*y)\n",
    "pprint(diff(eq1,x))"
   ]
  },
  {
   "cell_type": "markdown",
   "metadata": {},
   "source": [
    "## 例題:関数の微分と増減表 \n",
    "\n",
    "次の関数とその1次導関数を同時にプロットし概形を確認し，さらに増減表を求めよ．\n",
    "\n",
    "\n",
    "$$\n",
    "\\frac {x}{{x}^{2}-2x+4}\n",
    "$$"
   ]
  },
  {
   "cell_type": "markdown",
   "metadata": {},
   "source": [
    "### 解答例 "
   ]
  },
  {
   "cell_type": "code",
   "execution_count": 5,
   "metadata": {},
   "outputs": [
    {
     "name": "stdout",
     "output_type": "stream",
     "text": [
      "     x      \n",
      "────────────\n",
      " 2          \n",
      "x  - 2⋅x + 4\n",
      "  x⋅(2 - 2⋅x)          1      \n",
      "─────────────── + ────────────\n",
      "              2    2          \n",
      "⎛ 2          ⎞    x  - 2⋅x + 4\n",
      "⎝x  - 2⋅x + 4⎠                \n"
     ]
    },
    {
     "data": {
      "image/png": "[encoded data removed]",
      "text/plain": [
       "<Figure size 432x288 with 1 Axes>"
      ]
     },
     "metadata": {
      "needs_background": "light"
     },
     "output_type": "display_data"
    }
   ],
   "source": [
    "from sympy import *\n",
    "from sympy.plotting import plot\n",
    "x = symbols('x')\n",
    "\n",
    "f0 = x/(x**2 -2*x + 4)\n",
    "pprint(f0)\n",
    "pprint(diff(f0,x))\n",
    "\n",
    "df0 = diff(f0,x)\n",
    "\n",
    "p = plot(f0,df0, show=False)\n",
    "p[0].line_color = 'b'\n",
    "p[1].line_color = 'r'\n",
    "p.show()"
   ]
  },
  {
   "cell_type": "markdown",
   "metadata": {},
   "source": [
    "## 例題:接線(Tangent) \n",
    "次の関数の$ x=3$での接線を求め，2つの関数を同時にプロットせよ．\n",
    "\n",
    "$$\n",
    "y={x}^{3}-2\\,{x}^{2}-35\\,x\n",
    "$$"
   ]
  },
  {
   "cell_type": "markdown",
   "metadata": {},
   "source": [
    "### 解答例 \n",
    "与関数をf0と定義．"
   ]
  },
  {
   "cell_type": "code",
   "execution_count": 6,
   "metadata": {},
   "outputs": [
    {
     "data": {
      "text/latex": [
       "$\\displaystyle x^{3} - 2 x^{2} - 35 x$"
      ],
      "text/plain": [
       "x**3 - 2*x**2 - 35*x"
      ]
     },
     "execution_count": 6,
     "metadata": {},
     "output_type": "execute_result"
    }
   ],
   "source": [
    "from sympy import *\n",
    "from sympy.plotting import plot\n",
    "x = symbols('x')\n",
    "\n",
    "f0 = x**3 -2*x**2 - 35*x\n",
    "f0"
   ]
  },
  {
   "cell_type": "markdown",
   "metadata": {},
   "source": [
    "微分関数をdfと定義"
   ]
  },
  {
   "cell_type": "code",
   "execution_count": 7,
   "metadata": {},
   "outputs": [
    {
     "name": "stdout",
     "output_type": "stream",
     "text": [
      "   2           \n",
      "3⋅x  - 4⋅x - 35\n"
     ]
    }
   ],
   "source": [
    "pprint(diff(f0,x))\n",
    "df0 = diff(f0,x)"
   ]
  },
  {
   "cell_type": "markdown",
   "metadata": {},
   "source": [
    "接点(x0,f0(x0))で傾きdf(x0)の直線をf1と定義．"
   ]
  },
  {
   "cell_type": "code",
   "execution_count": 8,
   "metadata": {},
   "outputs": [
    {
     "name": "stdout",
     "output_type": "stream",
     "text": [
      "-20⋅x - 36\n"
     ]
    }
   ],
   "source": [
    "x0 = 3\n",
    "a = df0.subs({x:x0})\n",
    "f1 = a*(x-x0)+f0.subs({x:x0})\n",
    "pprint(f1)"
   ]
  },
  {
   "cell_type": "markdown",
   "metadata": {},
   "source": [
    "2つの関数を同時にプロット．"
   ]
  },
  {
   "cell_type": "code",
   "execution_count": 9,
   "metadata": {},
   "outputs": [
    {
     "data": {
      "image/png": "[encoded data removed]",
      "text/plain": [
       "<Figure size 432x288 with 1 Axes>"
      ]
     },
     "metadata": {
      "needs_background": "light"
     },
     "output_type": "display_data"
    }
   ],
   "source": [
    "p = plot(f0,f1, show=False)\n",
    "p[0].line_color = 'b'\n",
    "p[1].line_color = 'r'\n",
    "p.show()"
   ]
  },
  {
   "cell_type": "markdown",
   "metadata": {},
   "source": [
    "# 極限(limit)"
   ]
  },
  {
   "cell_type": "markdown",
   "metadata": {},
   "source": [
    "微分の原理を理解する時に不可欠な極限(limit)について記す．"
   ]
  },
  {
   "cell_type": "code",
   "execution_count": 10,
   "metadata": {},
   "outputs": [
    {
     "name": "stdout",
     "output_type": "stream",
     "text": [
      "0\n",
      "oo\n",
      "0\n",
      "1\n"
     ]
    }
   ],
   "source": [
    "from sympy import *\n",
    "x = symbols('x')\n",
    "print(limit(x, x, 0))\n",
    "print(limit(x, x, oo))\n",
    "print(limit(1/x, x, oo))\n",
    "print(limit(x/sin(x), x, 0))"
   ]
  },
  {
   "cell_type": "code",
   "execution_count": 11,
   "metadata": {},
   "outputs": [
    {
     "name": "stdout",
     "output_type": "stream",
     "text": [
      "4\n"
     ]
    },
    {
     "data": {
      "text/latex": [
       "$\\displaystyle 2 x$"
      ],
      "text/plain": [
       "2*x"
      ]
     },
     "execution_count": 11,
     "metadata": {},
     "output_type": "execute_result"
    }
   ],
   "source": [
    "d = symbols('d')\n",
    "f = x**2\n",
    "df = diff(f,x)\n",
    "print(df.subs({x:2}))\n",
    "\n",
    "limit((f.subs({x:x+d})-f.subs({x:x}))/d,d,0)"
   ]
  },
  {
   "cell_type": "markdown",
   "metadata": {},
   "source": [
    "# 微分(Diff)-II"
   ]
  },
  {
   "cell_type": "markdown",
   "metadata": {},
   "source": [
    "## 級数展開(series) \n",
    "Taylor級数は以下のようにして，中心点(x=a)，次数(4次)を指定する．"
   ]
  },
  {
   "cell_type": "code",
   "execution_count": 12,
   "metadata": {},
   "outputs": [
    {
     "data": {
      "image/png": "[encoded data removed]",
      "text/latex": [
       "$\\displaystyle \\sin{\\left(a \\right)} + \\left(- a + x\\right) \\cos{\\left(a \\right)} - \\frac{\\left(- a + x\\right)^{2} \\sin{\\left(a \\right)}}{2} - \\frac{\\left(- a + x\\right)^{3} \\cos{\\left(a \\right)}}{6} + O\\left(\\left(- a + x\\right)^{4}; x\\rightarrow a\\right)$"
      ],
      "text/plain": [
       "                                   2                  3                       \n",
       "                           (-a + x) ⋅sin(a)   (-a + x) ⋅cos(a)    ⎛        4  \n",
       "sin(a) + (-a + x)⋅cos(a) - ──────────────── - ──────────────── + O⎝(-a + x) ; \n",
       "                                  2                  6                        \n",
       "\n",
       "      \n",
       "     ⎞\n",
       "x → a⎠\n",
       "      "
      ]
     },
     "execution_count": 12,
     "metadata": {},
     "output_type": "execute_result"
    }
   ],
   "source": [
    "from sympy import *\n",
    "from sympy.plotting import plot\n",
    "init_printing()\n",
    "\n",
    "x,a = symbols('x a')\n",
    "\n",
    "sin(x).series(x,a,4)"
   ]
  },
  {
   "cell_type": "markdown",
   "metadata": {},
   "source": [
    "Oはどれくらいのエラーがあるかの表示ですが，関数として取り込むにはOのところが邪魔です．これはremoveO(まんまやん！)で取り除けます．"
   ]
  },
  {
   "cell_type": "code",
   "execution_count": 13,
   "metadata": {},
   "outputs": [
    {
     "name": "stdout",
     "output_type": "stream",
     "text": [
      "          3                  2                                  \n",
      "  (-a + x) ⋅cos(a)   (-a + x) ⋅sin(a)                           \n",
      "- ──────────────── - ──────────────── + (-a + x)⋅cos(a) + sin(a)\n",
      "         6                  2                                   \n",
      "            3    \n",
      "     (x - π)     \n",
      "-x + ──────── + π\n",
      "        6        \n"
     ]
    }
   ],
   "source": [
    "fs = series(sin(x),x,a,4)\n",
    "\n",
    "f0 = fs.removeO()\n",
    "pprint(f0)\n",
    "f1 = f0.subs({a:pi})\n",
    "pprint(f1)"
   ]
  },
  {
   "cell_type": "code",
   "execution_count": 14,
   "metadata": {},
   "outputs": [
    {
     "data": {
      "image/png": "[encoded data removed]",
      "text/plain": [
       "<Figure size 432x288 with 1 Axes>"
      ]
     },
     "metadata": {
      "needs_background": "light"
     },
     "output_type": "display_data"
    }
   ],
   "source": [
    "y = symbols('y')\n",
    "p = plot(sin(x),f1, (x,0,2*pi), ylim=[-1,1], show=False)\n",
    "p[0].line_color = 'b'\n",
    "p[1].line_color = 'r'\n",
    "p.show()"
   ]
  },
  {
   "cell_type": "markdown",
   "metadata": {},
   "source": [
    "## 全微分(D) \n",
    "sympyでは全微分(total derivatives)は用意されてないようです．\n",
    "\n",
    "下のMapleコマンドDを参照して，考えてください．\n",
    "```maple\n",
    "> f:=unapply(x^4*exp(-y^2),(x,y));\n",
    "> D(f(x,y));\n",
    "> (D@@2)(f(x,y));\n",
    "```\n",
    "$$\n",
    "f\\, := \\,( {x,y} )\\mapsto {x}^{4}\\exp(-{y}^{2}) \\notag \\\\\n",
    "4\\, {D} \\left( x \\right) {x}^{3}\\exp(-{y}^{2})+{x}^{4} {D} \\left( \\exp(-{y}^{2}) \\right) \\notag \\\\\n",
    "4\\, \\left( D^{ \\left( 2 \\right) } \\right)  \\left( x \\right) {x}^{3}\\exp(-{y}^{2})+12\\, \\left(  {D} \\left( x \\right)  \\right) ^{2}{x}^{2}\\exp(-{y}^{2})+8\\, {D} \\left( x \\right) {x}^{3} {D} \\left( \\exp(-{y}^{2}) \\right) +{x}^{4} \\left( D^{ \\left( 2 \\right) } \\right)  \\left( \\exp(-{y}^{2}) \\right) \\notag\n",
    "$$\n",
    "\n",
    "ここで，D(x)などはxの全微分を表わす．これは，x,yを変数としているので\n",
    "```maple\n",
    "> diff(x,x);\n",
    "> diff(exp(-y^2),y);\n",
    "```\n",
    "$$\n",
    "1 \\notag \\\\\n",
    "-2\\,y\\exp(-{y}^{2}) \\notag\n",
    "$$\n",
    "であるがMapleには分からない．そこで全微分の最終形を得るには，あらかじめD(x)などの結果を求めておき，subsで明示的に代入する必要がある．\n",
    "```maple\n",
    "> dd:=D(f(x,y)):\n",
    "> eqs:={D(x)=diff(x,x),D(exp(-y^2))=diff(exp(-y^2),y)};\n",
    "> subs(eqs,dd);\n",
    "```\n",
    "$$\n",
    "{\\it eqs}\\, := \\, \\left\\{  {D} \\left( x \\right) =1, {D} \\left( \\exp(-{y}^{2}) \\right) =-2\\,y\\exp(-{y}^{2}) \\right\\}  \\notag \\\\\n",
    "4\\,{x}^{3}\\exp(-{y}^{2})-2\\,{x}^{4}y\\exp(-{y}^{2}) \\notag\n",
    "$$"
   ]
  },
  {
   "cell_type": "markdown",
   "metadata": {},
   "source": [
    "## 複合関数の微分 \n",
    "```maple\n",
    "> diff(f(x)*g(x),x);\n",
    "> diff(f(g(x)),x);\n",
    "```\n",
    "$$\n",
    "\\left( {\\frac {d}{dx}}f \\left( x \\right)  \\right) g \\left( x \\right) +f \\left( x \\right) {\\frac {d}{dx}}g \\left( x \\right) \\notag \\\\\n",
    "\\mbox {D} \\left( f \\right)  \\left( g \\left( x \\right)  \\right) {\\frac {d}{dx}}g \\left( x \\right) \\notag\n",
    "$$\n",
    "\n",
    "```maple\n",
    "> f:=x->exp(x);\n",
    "> g:=x->cos(x);\n",
    "> diff(f(x)*g(x),x);\n",
    "> diff(f(g(x)),x);\n",
    "```\n",
    "$$\n",
    "f\\, := \\,x\\mapsto \\exp(x) \\notag \\\\\n",
    "g\\, := \\,x\\mapsto \\cos \\left( x \\right)  \\notag \\\\\n",
    "\\exp(x)\\cos \\left( x \\right) -\\exp(x)\\sin \\left( x \\right)  \\notag \\\\\n",
    "-\\sin \\left( x \\right) \\exp(\\cos x ) \\notag\n",
    "$$"
   ]
  },
  {
   "cell_type": "code",
   "execution_count": 15,
   "metadata": {},
   "outputs": [
    {
     "name": "stdout",
     "output_type": "stream",
     "text": [
      "   x           x       \n",
      "- ℯ ⋅sin(x) + ℯ ⋅cos(x)\n",
      "  cos(x)       \n",
      "-ℯ      ⋅sin(x)\n"
     ]
    }
   ],
   "source": [
    "f = exp(x)\n",
    "g = cos(x)\n",
    "\n",
    "pprint(diff(f*g, x))\n",
    "pprint(diff(f.subs({x:g}), x))"
   ]
  },
  {
   "cell_type": "markdown",
   "metadata": {},
   "source": [
    "## 課題 \n",
    "1. 次の関数を微分せよ．\n",
    "  1. $ {x} \\log x$, \n",
    "  1. $ \\frac{1}{  \\left( 1+x \\right) ^{3}}$, \n",
    "  1. $ \\sqrt{4\\,x+3}$, \n",
    "  1. $ \\frac{1}{ a^2+ \\left( x-x_0 \\right)^2 }$\n",
    "1. 次の関数の1次から5次導関数を求めよ．\n",
    "  1. $\\sin^2 x$, \n",
    "  1. ${e}^{x}$\n",
    "1.  以下の関数をx0まわりで３次までテイラー展開し，得られた関数ともとの関数をプロットせよ．さらに5次まで展開した場合はどう変化するか．\n",
    "  1. $ y=\\sin x, x_0=0 $, \n",
    "  1. $ y=\\cos x, x_0=\\frac{\\pi}{2}$\n",
    "1. (発展課題）$f \\left( x,y \\right) ={e}^{x}{\\it log} \\left( 1+y \\right) $を$ x=0,\\,y=0$のまわりで3次まで展開せよ．"
   ]
  },
  {
   "cell_type": "markdown",
   "metadata": {},
   "source": [
    "## 解答例"
   ]
  },
  {
   "cell_type": "markdown",
   "metadata": {},
   "source": [
    "### 幾つかの関数の微分\n",
    "```maple\n",
    "> diff(x*log(x),x);\n",
    "> diff(1/(1 + x)^3,x);\n",
    "> diff(sqrt(4*x + 3),x);\n",
    ">diff(1/(a^2+(x-x0)^2),x);\n",
    "```\n",
    "$$\n",
    "\\ln  \\left( x \\right) +1 \\notag \\\\\n",
    "-3\\, \\left( 1+x \\right) ^{-4} \\notag \\\\\n",
    "2\\, \\left(  \\sqrt{4\\,x+3} \\right) ^{-1} \\notag \\\\\n",
    "-{\\frac {2\\,x-2\\,{\\it x0}}{ \\left( {a}^{2}+ \\left( x-{\\it x0} \\right) ^{2} \\right) ^{2}}} \\notag\n",
    "$$"
   ]
  },
  {
   "cell_type": "code",
   "execution_count": 16,
   "metadata": {},
   "outputs": [
    {
     "name": "stdout",
     "output_type": "stream",
     "text": [
      "log(x) + 1\n",
      "  -3    \n",
      "────────\n",
      "       4\n",
      "(x + 1) \n",
      "2/sqrt(4*x + 3)\n",
      "   -2⋅x + 2⋅x₀   \n",
      "─────────────────\n",
      "                2\n",
      "⎛ 2           2⎞ \n",
      "⎝a  + (x - x₀) ⎠ \n"
     ]
    }
   ],
   "source": [
    "from sympy import *\n",
    "x,a,x0 = symbols('x a x0')\n",
    "\n",
    "pprint(diff(x*log(x),x))\n",
    "pprint(diff(1/(1+x)**3,x))\n",
    "print(diff(sqrt(4*x+3),x))\n",
    "pprint(diff(1/(a**2+(x-x0)**2),x))"
   ]
  },
  {
   "cell_type": "markdown",
   "metadata": {},
   "source": [
    "### 高階微分\n",
    "```maple\n",
    "> diff(sin(x)^2,x);\n",
    "> diff(sin(x)^2,x$2);\n",
    "```\n",
    "\n",
    "$$\n",
    "2\\,\\sin \\left( x \\right) \\cos \\left( x \\right) \\notag \\\\\n",
    "2\\, \\left( \\cos \\left( x \\right)  \\right) ^{2}-2\\, \\left( \\sin \\left( x \\right)  \\right) ^{2}\\notag\n",
    "$$"
   ]
  },
  {
   "cell_type": "code",
   "execution_count": 17,
   "metadata": {},
   "outputs": [
    {
     "name": "stdout",
     "output_type": "stream",
     "text": [
      "0\n",
      "   2   \n",
      "sin (x)\n",
      "1\n",
      "2⋅sin(x)⋅cos(x)\n",
      "2\n",
      "  ⎛     2         2   ⎞\n",
      "2⋅⎝- sin (x) + cos (x)⎠\n",
      "3\n",
      "-8⋅sin(x)⋅cos(x)\n",
      "4\n",
      "  ⎛   2         2   ⎞\n",
      "8⋅⎝sin (x) - cos (x)⎠\n"
     ]
    }
   ],
   "source": [
    "from sympy import *\n",
    "x = symbols('x')\n",
    "for i in range(0,5):\n",
    "    print(i)\n",
    "    pprint(diff(sin(x)**2,x,i))"
   ]
  },
  {
   "cell_type": "code",
   "execution_count": 18,
   "metadata": {},
   "outputs": [
    {
     "name": "stdout",
     "output_type": "stream",
     "text": [
      "0\n",
      " x\n",
      "ℯ \n",
      "1\n",
      " x\n",
      "ℯ \n",
      "2\n",
      " x\n",
      "ℯ \n",
      "3\n",
      " x\n",
      "ℯ \n",
      "4\n",
      " x\n",
      "ℯ \n"
     ]
    }
   ],
   "source": [
    "from sympy import *\n",
    "x = symbols('x')\n",
    "for i in range(0,5):\n",
    "    print(i)\n",
    "    pprint(diff(exp(x),x,i))"
   ]
  },
  {
   "cell_type": "markdown",
   "metadata": {},
   "source": [
    "### 0以外での級数展開と表示\n",
    "テキストを参照して．"
   ]
  },
  {
   "cell_type": "markdown",
   "metadata": {},
   "source": [
    "### 2次元関数の級数展開と3dplot"
   ]
  },
  {
   "cell_type": "code",
   "execution_count": 19,
   "metadata": {},
   "outputs": [
    {
     "data": {
      "image/png": "[encoded data removed]",
      "text/latex": [
       "$\\displaystyle y^{2} \\left(- \\frac{x^{2}}{4} - \\frac{x}{2} - \\frac{1}{2}\\right) + y \\left(\\frac{x^{2}}{2} + x + 1\\right)$"
      ],
      "text/plain": [
       "   ⎛   2        ⎞     ⎛ 2        ⎞\n",
       " 2 ⎜  x    x   1⎟     ⎜x         ⎟\n",
       "y ⋅⎜- ── - ─ - ─⎟ + y⋅⎜── + x + 1⎟\n",
       "   ⎝  4    2   2⎠     ⎝2         ⎠"
      ]
     },
     "execution_count": 19,
     "metadata": {},
     "output_type": "execute_result"
    }
   ],
   "source": [
    "from sympy import *\n",
    "\n",
    "x,y = symbols('x y')\n",
    "f = exp(x)*log(1+y)\n",
    "fx = f.series(x,0,3).removeO()\n",
    "fxy = fx.series(y,0,3).removeO()\n",
    "\n",
    "fxy"
   ]
  },
  {
   "cell_type": "code",
   "execution_count": 20,
   "metadata": {},
   "outputs": [
    {
     "data": {
      "image/png": "[encoded data removed]",
      "text/plain": [
       "<Figure size 432x288 with 1 Axes>"
      ]
     },
     "metadata": {
      "needs_background": "light"
     },
     "output_type": "display_data"
    }
   ],
   "source": [
    "from sympy.plotting import plot3d\n",
    "\n",
    "p = plot3d(f, fxy, (x, -0.5, 2), (y, -0.5, 2), show = False)\n",
    "p[0].surface_color  = 'r'\n",
    "p[1].surface_color  = 'b'\n",
    "p.show()"
   ]
  },
  {
   "cell_type": "markdown",
   "metadata": {},
   "source": [
    "# きれいな微分表示 \n",
    "\n",
    "以下のようにすると表示がきれい．"
   ]
  },
  {
   "cell_type": "code",
   "execution_count": 21,
   "metadata": {},
   "outputs": [
    {
     "name": "stdout",
     "output_type": "stream",
     "text": [
      "      2\n",
      " 4  -y \n",
      "x ⋅ℯ   \n"
     ]
    },
    {
     "data": {
      "image/png": "[encoded data removed]",
      "text/latex": [
       "$\\displaystyle \\frac{\\partial}{\\partial x} x^{4} e^{- y^{2}}$"
      ],
      "text/plain": [
       "  ⎛      2⎞\n",
       "∂ ⎜ 4  -y ⎟\n",
       "──⎝x ⋅ℯ   ⎠\n",
       "∂x         "
      ]
     },
     "execution_count": 21,
     "metadata": {},
     "output_type": "execute_result"
    }
   ],
   "source": [
    "f = x**4*exp(-y**2)\n",
    "pprint(f)\n",
    "\n",
    "df = Derivative(f,x)\n",
    "#df.doit()\n",
    "df"
   ]
  },
  {
   "cell_type": "code",
   "execution_count": null,
   "metadata": {},
   "outputs": [],
   "source": []
  }
 ],
 "metadata": {
  "kernelspec": {
   "display_name": "Python 3",
   "language": "python",
   "name": "python3"
  },
  "language_info": {
   "codemirror_mode": {
    "name": "ipython",
    "version": 3
   },
   "file_extension": ".py",
   "mimetype": "text/x-python",
   "name": "python",
   "nbconvert_exporter": "python",
   "pygments_lexer": "ipython3",
   "version": "3.8.5"
  },
  "latex_envs": {
   "LaTeX_envs_menu_present": true,
   "autocomplete": true,
   "bibliofile": "biblio.bib",
   "cite_by": "apalike",
   "current_citInitial": 1,
   "eqLabelWithNumbers": true,
   "eqNumInitial": 1,
   "hotkeys": {
    "equation": "Ctrl-E",
    "itemize": "Ctrl-I"
   },
   "labels_anchors": false,
   "latex_user_defs": false,
   "report_style_numbering": false,
   "user_envs_cfg": false
  },
  "toc": {
   "colors": {
    "hover_highlight": "#DAA520",
    "navigate_num": "#000000",
    "navigate_text": "#333333",
    "running_highlight": "#FF0000",
    "selected_highlight": "#FFD700",
    "sidebar_border": "#EEEEEE",
    "wrapper_background": "#FFFFFF"
   },
   "moveMenuLeft": true,
   "nav_menu": {
    "height": "260px",
    "width": "253px"
   },
   "navigate_menu": true,
   "number_sections": true,
   "sideBar": true,
   "threshold": 4,
   "toc_cell": true,
   "toc_section_display": "block",
   "toc_window_display": false,
   "widenNotebook": false
  }
 },
 "nbformat": 4,
 "nbformat_minor": 2
}
