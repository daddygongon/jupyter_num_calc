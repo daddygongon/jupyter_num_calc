{
 "cells": [
  {
   "cell_type": "code",
   "execution_count": 1,
   "metadata": {},
   "outputs": [
    {
     "data": {
      "image/png": "[encoded data removed]",
      "text/latex": [
       "$\\displaystyle \\left[\\begin{matrix}0 & 1 & 1 & 1 & 1 & 0 & 1\\\\1 & 0 & 0 & 0 & 0 & 0 & 0\\\\1 & 1 & 0 & 0 & 0 & 0 & 0\\\\0 & 1 & 1 & 0 & 1 & 0 & 0\\\\1 & 0 & 1 & 1 & 0 & 1 & 0\\\\1 & 0 & 0 & 0 & 1 & 0 & 0\\\\0 & 0 & 0 & 0 & 1 & 0 & 0\\end{matrix}\\right]$"
      ],
      "text/plain": [
       "⎡0  1  1  1  1  0  1⎤\n",
       "⎢                   ⎥\n",
       "⎢1  0  0  0  0  0  0⎥\n",
       "⎢                   ⎥\n",
       "⎢1  1  0  0  0  0  0⎥\n",
       "⎢                   ⎥\n",
       "⎢0  1  1  0  1  0  0⎥\n",
       "⎢                   ⎥\n",
       "⎢1  0  1  1  0  1  0⎥\n",
       "⎢                   ⎥\n",
       "⎢1  0  0  0  1  0  0⎥\n",
       "⎢                   ⎥\n",
       "⎣0  0  0  0  1  0  0⎦"
      ]
     },
     "execution_count": 1,
     "metadata": {},
     "output_type": "execute_result"
    }
   ],
   "source": [
    "from sympy import *\n",
    "init_printing()\n",
    "M = Matrix([[0, 1, 1, 1, 1, 0, 1],\n",
    "[1, 0, 0, 0, 0, 0, 0],\n",
    "[1, 1, 0, 0, 0, 0, 0],\n",
    "[0, 1, 1, 0, 1, 0, 0],\n",
    "[1, 0, 1, 1, 0, 1, 0],\n",
    "[1, 0, 0, 0, 1, 0, 0],\n",
    "[0, 0, 0, 0, 1, 0, 0]])\n",
    "M"
   ]
  },
  {
   "cell_type": "code",
   "execution_count": 2,
   "metadata": {},
   "outputs": [
    {
     "data": {
      "image/png": "[encoded data removed]",
      "text/latex": [
       "$\\displaystyle \\left[\\begin{matrix}0 & 1 & 1 & 0 & 1 & 1 & 0\\\\1 & 0 & 1 & 1 & 0 & 0 & 0\\\\1 & 0 & 0 & 1 & 1 & 0 & 0\\\\1 & 0 & 0 & 0 & 1 & 0 & 0\\\\1 & 0 & 0 & 1 & 0 & 1 & 1\\\\0 & 0 & 0 & 0 & 1 & 0 & 0\\\\1 & 0 & 0 & 0 & 0 & 0 & 0\\end{matrix}\\right]$"
      ],
      "text/plain": [
       "⎡0  1  1  0  1  1  0⎤\n",
       "⎢                   ⎥\n",
       "⎢1  0  1  1  0  0  0⎥\n",
       "⎢                   ⎥\n",
       "⎢1  0  0  1  1  0  0⎥\n",
       "⎢                   ⎥\n",
       "⎢1  0  0  0  1  0  0⎥\n",
       "⎢                   ⎥\n",
       "⎢1  0  0  1  0  1  1⎥\n",
       "⎢                   ⎥\n",
       "⎢0  0  0  0  1  0  0⎥\n",
       "⎢                   ⎥\n",
       "⎣1  0  0  0  0  0  0⎦"
      ]
     },
     "execution_count": 2,
     "metadata": {},
     "output_type": "execute_result"
    }
   ],
   "source": [
    "Mt = M.T\n",
    "Mt"
   ]
  },
  {
   "cell_type": "code",
   "execution_count": 43,
   "metadata": {},
   "outputs": [
    {
     "data": {
      "image/png": "[encoded data removed]",
      "text/latex": [
       "$\\displaystyle \\left[\\begin{matrix}\\frac{1}{5} & 0 & 0 & 0 & 0 & 0 & 0\\\\0 & 1 & 0 & 0 & 0 & 0 & 0\\\\0 & 0 & \\frac{1}{2} & 0 & 0 & 0 & 0\\\\0 & 0 & 0 & \\frac{1}{3} & 0 & 0 & 0\\\\0 & 0 & 0 & 0 & \\frac{1}{4} & 0 & 0\\\\0 & 0 & 0 & 0 & 0 & \\frac{1}{2} & 0\\\\0 & 0 & 0 & 0 & 0 & 0 & 1\\end{matrix}\\right]$"
      ],
      "text/plain": [
       "⎡1/5  0   0    0    0    0   0⎤\n",
       "⎢                             ⎥\n",
       "⎢ 0   1   0    0    0    0   0⎥\n",
       "⎢                             ⎥\n",
       "⎢ 0   0  1/2   0    0    0   0⎥\n",
       "⎢                             ⎥\n",
       "⎢ 0   0   0   1/3   0    0   0⎥\n",
       "⎢                             ⎥\n",
       "⎢ 0   0   0    0   1/4   0   0⎥\n",
       "⎢                             ⎥\n",
       "⎢ 0   0   0    0    0   1/2  0⎥\n",
       "⎢                             ⎥\n",
       "⎣ 0   0   0    0    0    0   1⎦"
      ]
     },
     "execution_count": 43,
     "metadata": {},
     "output_type": "execute_result"
    }
   ],
   "source": [
    "#V = [1/5,1,1/2,1/3,1/4,1/2,1]\n",
    "V = [Rational(1,5),1,Rational(1,2),Rational(1,3),Rational(1,4),Rational(1,2),1]\n",
    "VA = diag(*V)\n",
    "VA"
   ]
  },
  {
   "cell_type": "code",
   "execution_count": 44,
   "metadata": {},
   "outputs": [
    {
     "data": {
      "image/png": "[encoded data removed]",
      "text/latex": [
       "$\\displaystyle \\left[\\begin{matrix}0 & 1 & \\frac{1}{2} & 0 & \\frac{1}{4} & \\frac{1}{2} & 0\\\\\\frac{1}{5} & 0 & \\frac{1}{2} & \\frac{1}{3} & 0 & 0 & 0\\\\\\frac{1}{5} & 0 & 0 & \\frac{1}{3} & \\frac{1}{4} & 0 & 0\\\\\\frac{1}{5} & 0 & 0 & 0 & \\frac{1}{4} & 0 & 0\\\\\\frac{1}{5} & 0 & 0 & \\frac{1}{3} & 0 & \\frac{1}{2} & 1\\\\0 & 0 & 0 & 0 & \\frac{1}{4} & 0 & 0\\\\\\frac{1}{5} & 0 & 0 & 0 & 0 & 0 & 0\\end{matrix}\\right]$"
      ],
      "text/plain": [
       "⎡ 0   1  1/2   0   1/4  1/2  0⎤\n",
       "⎢                             ⎥\n",
       "⎢1/5  0  1/2  1/3   0    0   0⎥\n",
       "⎢                             ⎥\n",
       "⎢1/5  0   0   1/3  1/4   0   0⎥\n",
       "⎢                             ⎥\n",
       "⎢1/5  0   0    0   1/4   0   0⎥\n",
       "⎢                             ⎥\n",
       "⎢1/5  0   0   1/3   0   1/2  1⎥\n",
       "⎢                             ⎥\n",
       "⎢ 0   0   0    0   1/4   0   0⎥\n",
       "⎢                             ⎥\n",
       "⎣1/5  0   0    0    0    0   0⎦"
      ]
     },
     "execution_count": 44,
     "metadata": {},
     "output_type": "execute_result"
    }
   ],
   "source": [
    "trans_mat = Mt*VA\n",
    "trans_mat"
   ]
  },
  {
   "cell_type": "code",
   "execution_count": 50,
   "metadata": {},
   "outputs": [
    {
     "name": "stdout",
     "output_type": "stream",
     "text": [
      "[(0, 1, [Matrix([\n",
      "[ 0],\n",
      "[ 1],\n",
      "[ 0],\n",
      "[ 0],\n",
      "[ 0],\n",
      "[-2],\n",
      "[ 1]])]), (1, 1, [Matrix([\n",
      "[    5],\n",
      "[52/19],\n",
      "[44/19],\n",
      "[33/19],\n",
      "[56/19],\n",
      "[14/19],\n",
      "[    1]])])]\n"
     ]
    }
   ],
   "source": [
    "trans_mat.eigenvects(error_when_incomplete=False)\n",
    "v_all = trans_mat.eigenvects(error_when_incomplete=False)\n",
    "print(v_all)"
   ]
  },
  {
   "cell_type": "code",
   "execution_count": 52,
   "metadata": {},
   "outputs": [
    {
     "name": "stdout",
     "output_type": "stream",
     "text": [
      "Matrix([[5], [52/19], [44/19], [33/19], [56/19], [14/19], [1]])\n"
     ]
    }
   ],
   "source": [
    "v = Matrix(trans_mat.eigenvects(error_when_incomplete=False)[1][2])\n",
    "print(v)"
   ]
  },
  {
   "cell_type": "code",
   "execution_count": 53,
   "metadata": {},
   "outputs": [
    {
     "name": "stdout",
     "output_type": "stream",
     "text": [
      "0.699456533837389\n",
      "0.382860418521518\n",
      "0.323958815672054\n",
      "0.242969111754040\n",
      "0.412311219946250\n",
      "0.103077804986563\n"
     ]
    }
   ],
   "source": [
    "v_n = v.norm().evalf()\n",
    "for i in range(0,6):\n",
    "    print(v[i]/v_n)"
   ]
  },
  {
   "cell_type": "code",
   "execution_count": null,
   "metadata": {},
   "outputs": [],
   "source": []
  }
 ],
 "metadata": {
  "kernelspec": {
   "display_name": "Python 3.8.5 ('base')",
   "language": "python",
   "name": "python3"
  },
  "language_info": {
   "codemirror_mode": {
    "name": "ipython",
    "version": 3
   },
   "file_extension": ".py",
   "mimetype": "text/x-python",
   "name": "python",
   "nbconvert_exporter": "python",
   "pygments_lexer": "ipython3",
   "version": "3.8.5"
  },
  "toc": {
   "base_numbering": 1,
   "nav_menu": {},
   "number_sections": true,
   "sideBar": true,
   "skip_h1_title": false,
   "title_cell": "Table of Contents",
   "title_sidebar": "Contents",
   "toc_cell": false,
   "toc_position": {},
   "toc_section_display": true,
   "toc_window_display": false
  },
  "vscode": {
   "interpreter": {
    "hash": "f3f87633aac09da3bda522f97956bee375b5501d1579e6458804e567301cb62a"
   }
  }
 },
 "nbformat": 4,
 "nbformat_minor": 4
}
