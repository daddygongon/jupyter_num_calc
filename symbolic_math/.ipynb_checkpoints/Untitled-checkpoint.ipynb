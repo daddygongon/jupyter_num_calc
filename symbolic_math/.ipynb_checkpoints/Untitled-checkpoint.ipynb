{
 "cells": [
  {
   "cell_type": "markdown",
   "metadata": {},
   "source": [
    "# 16_pre\n",
    "\n",
    "\n",
    "# 1(a,b) 微分"
   ]
  },
  {
   "cell_type": "code",
   "execution_count": 1,
   "metadata": {},
   "outputs": [],
   "source": [
    "from sympy import *\n",
    "a,x,y,t = symbols('a, x y t')"
   ]
  },
  {
   "cell_type": "code",
   "execution_count": 2,
   "metadata": {},
   "outputs": [],
   "source": [
    "eq1 = sqrt(x**2+1)*(x**3+1)**(Rational(1,3))"
   ]
  },
  {
   "cell_type": "code",
   "execution_count": 4,
   "metadata": {},
   "outputs": [
    {
     "data": {
      "text/latex": [
       "$\\displaystyle \\frac{x \\left(2 x^{3} + x + 1\\right)}{\\sqrt{x^{2} + 1} \\left(x^{3} + 1\\right)^{\\frac{2}{3}}}$"
      ],
      "text/plain": [
       "x*(2*x**3 + x + 1)/(sqrt(x**2 + 1)*(x**3 + 1)**(2/3))"
      ]
     },
     "execution_count": 4,
     "metadata": {},
     "output_type": "execute_result"
    }
   ],
   "source": [
    "simplify(diff(eq1,x))"
   ]
  },
  {
   "cell_type": "code",
   "execution_count": 22,
   "metadata": {},
   "outputs": [],
   "source": [
    "x = a*cos(t)**3\n",
    "y = a*sin(t)**3"
   ]
  },
  {
   "cell_type": "code",
   "execution_count": 25,
   "metadata": {},
   "outputs": [
    {
     "data": {
      "text/latex": [
       "$\\displaystyle - \\frac{\\sin{\\left(t \\right)}}{\\cos{\\left(t \\right)}}$"
      ],
      "text/plain": [
       "-sin(t)/cos(t)"
      ]
     },
     "execution_count": 25,
     "metadata": {},
     "output_type": "execute_result"
    }
   ],
   "source": [
    "diff(y,t)/diff(x,t)"
   ]
  },
  {
   "cell_type": "markdown",
   "metadata": {},
   "source": [
    "# 2(a,b) 積分"
   ]
  },
  {
   "cell_type": "code",
   "execution_count": 33,
   "metadata": {},
   "outputs": [
    {
     "data": {
      "text/latex": [
       "$\\displaystyle \\frac{1}{4 \\sin^{2}{\\left(x \\right)} + \\cos^{2}{\\left(x \\right)}}$"
      ],
      "text/plain": [
       "1/(4*sin(x)**2 + cos(x)**2)"
      ]
     },
     "execution_count": 33,
     "metadata": {},
     "output_type": "execute_result"
    }
   ],
   "source": [
    "from sympy import *\n",
    "a,x,y,t = symbols('a x y t')\n",
    "\n",
    "1/(cos(x)**2+4*sin(x)**2)"
   ]
  },
  {
   "cell_type": "code",
   "execution_count": null,
   "metadata": {},
   "outputs": [],
   "source": [
    "simplify(integrate(1/(cos(x)**2+4*sin(x)**2),x))"
   ]
  },
  {
   "cell_type": "markdown",
   "metadata": {},
   "source": [
    "あきらめましょう．積分はパスろう．"
   ]
  },
  {
   "cell_type": "markdown",
   "metadata": {},
   "source": [
    "# 3(a)"
   ]
  },
  {
   "cell_type": "code",
   "execution_count": 9,
   "metadata": {},
   "outputs": [
    {
     "data": {
      "text/latex": [
       "$\\displaystyle \\left[\\begin{matrix}1 & -1 & 1\\\\-7 & 2 & 1\\\\2 & 1 & 2\\end{matrix}\\right]$"
      ],
      "text/plain": [
       "⎡1   -1  1⎤\n",
       "⎢         ⎥\n",
       "⎢-7  2   1⎥\n",
       "⎢         ⎥\n",
       "⎣2   1   2⎦"
      ]
     },
     "execution_count": 9,
     "metadata": {},
     "output_type": "execute_result"
    }
   ],
   "source": [
    "from sympy import *\n",
    "\n",
    "#init_session()\n",
    "#init_printing(use_unicode=True)\n",
    "init_printing()\n",
    "list_a = [1,-1,1]\n",
    "list_b = [-7,2,1]\n",
    "list_c = [2,1,2]\n",
    "A=Matrix([list_a, list_b, list_c])\n",
    "A"
   ]
  },
  {
   "cell_type": "code",
   "execution_count": 10,
   "metadata": {},
   "outputs": [
    {
     "data": {
      "text/latex": [
       "$\\displaystyle \\left[ \\left( -2, \\  1, \\  \\left[ \\left[\\begin{matrix}-1\\\\-2\\\\1\\end{matrix}\\right]\\right]\\right), \\  \\left( 3, \\  1, \\  \\left[ \\left[\\begin{matrix}0\\\\1\\\\1\\end{matrix}\\right]\\right]\\right), \\  \\left( 4, \\  1, \\  \\left[ \\left[\\begin{matrix}-1\\\\4\\\\1\\end{matrix}\\right]\\right]\\right)\\right]$"
      ],
      "text/plain": [
       "⎡⎛       ⎡⎡-1⎤⎤⎞  ⎛      ⎡⎡0⎤⎤⎞  ⎛      ⎡⎡-1⎤⎤⎞⎤\n",
       "⎢⎜       ⎢⎢  ⎥⎥⎟  ⎜      ⎢⎢ ⎥⎥⎟  ⎜      ⎢⎢  ⎥⎥⎟⎥\n",
       "⎢⎜-2, 1, ⎢⎢-2⎥⎥⎟, ⎜3, 1, ⎢⎢1⎥⎥⎟, ⎜4, 1, ⎢⎢4 ⎥⎥⎟⎥\n",
       "⎢⎜       ⎢⎢  ⎥⎥⎟  ⎜      ⎢⎢ ⎥⎥⎟  ⎜      ⎢⎢  ⎥⎥⎟⎥\n",
       "⎣⎝       ⎣⎣1 ⎦⎦⎠  ⎝      ⎣⎣1⎦⎦⎠  ⎝      ⎣⎣1 ⎦⎦⎠⎦"
      ]
     },
     "execution_count": 10,
     "metadata": {},
     "output_type": "execute_result"
    }
   ],
   "source": [
    "A.eigenvects()"
   ]
  },
  {
   "cell_type": "code",
   "execution_count": 12,
   "metadata": {},
   "outputs": [],
   "source": [
    "P,D = A.diagonalize()"
   ]
  },
  {
   "cell_type": "code",
   "execution_count": 13,
   "metadata": {},
   "outputs": [
    {
     "data": {
      "text/latex": [
       "$\\displaystyle \\left( \\left[\\begin{matrix}-1 & 0 & -1\\\\-2 & 1 & 4\\\\1 & 1 & 1\\end{matrix}\\right], \\  \\left[\\begin{matrix}-2 & 0 & 0\\\\0 & 3 & 0\\\\0 & 0 & 4\\end{matrix}\\right]\\right)$"
      ],
      "text/plain": [
       "⎛⎡-1  0  -1⎤  ⎡-2  0  0⎤⎞\n",
       "⎜⎢         ⎥  ⎢        ⎥⎟\n",
       "⎜⎢-2  1  4 ⎥, ⎢0   3  0⎥⎟\n",
       "⎜⎢         ⎥  ⎢        ⎥⎟\n",
       "⎝⎣1   1  1 ⎦  ⎣0   0  4⎦⎠"
      ]
     },
     "execution_count": 13,
     "metadata": {},
     "output_type": "execute_result"
    }
   ],
   "source": [
    "P,D"
   ]
  },
  {
   "cell_type": "code",
   "execution_count": 15,
   "metadata": {},
   "outputs": [
    {
     "data": {
      "text/latex": [
       "$\\displaystyle \\left[\\begin{matrix}-2 & 0 & 0\\\\0 & 3 & 0\\\\0 & 0 & 4\\end{matrix}\\right]$"
      ],
      "text/plain": [
       "⎡-2  0  0⎤\n",
       "⎢        ⎥\n",
       "⎢0   3  0⎥\n",
       "⎢        ⎥\n",
       "⎣0   0  4⎦"
      ]
     },
     "execution_count": 15,
     "metadata": {},
     "output_type": "execute_result"
    }
   ],
   "source": [
    "P.inv()*A*P"
   ]
  },
  {
   "cell_type": "markdown",
   "metadata": {},
   "source": [
    "# 3(b)"
   ]
  },
  {
   "cell_type": "code",
   "execution_count": 16,
   "metadata": {},
   "outputs": [
    {
     "data": {
      "text/latex": [
       "$\\displaystyle \\left[\\begin{matrix}0 & c & b\\\\c & 0 & a\\\\b & a & 0\\end{matrix}\\right]$"
      ],
      "text/plain": [
       "⎡0  c  b⎤\n",
       "⎢       ⎥\n",
       "⎢c  0  a⎥\n",
       "⎢       ⎥\n",
       "⎣b  a  0⎦"
      ]
     },
     "execution_count": 16,
     "metadata": {},
     "output_type": "execute_result"
    }
   ],
   "source": [
    "from sympy import *\n",
    "a,b,c = symbols('a b c')\n",
    "#init_session()\n",
    "#init_printing(use_unicode=True)\n",
    "init_printing()\n",
    "list_a = [0,c,b]\n",
    "list_b = [c,0,a]\n",
    "list_c = [b,a,0]\n",
    "A=Matrix([list_a, list_b, list_c])\n",
    "A"
   ]
  },
  {
   "cell_type": "code",
   "execution_count": 17,
   "metadata": {},
   "outputs": [
    {
     "data": {
      "text/latex": [
       "$\\displaystyle \\left[\\begin{matrix}0 & 1 & 1\\\\1 & 0 & 1\\\\1 & 1 & 0\\end{matrix}\\right]$"
      ],
      "text/plain": [
       "⎡0  1  1⎤\n",
       "⎢       ⎥\n",
       "⎢1  0  1⎥\n",
       "⎢       ⎥\n",
       "⎣1  1  0⎦"
      ]
     },
     "execution_count": 17,
     "metadata": {},
     "output_type": "execute_result"
    }
   ],
   "source": [
    "list_a = [0,1,1]\n",
    "list_b = [1,0,1]\n",
    "list_c = [1,1,0]\n",
    "B=Matrix([list_a, list_b, list_c])\n",
    "B"
   ]
  },
  {
   "cell_type": "code",
   "execution_count": 20,
   "metadata": {},
   "outputs": [
    {
     "data": {
      "image/png": "[encoded data removed]",
      "text/latex": [
       "$\\displaystyle 4 a b c$"
      ],
      "text/plain": [
       "4⋅a⋅b⋅c"
      ]
     },
     "execution_count": 20,
     "metadata": {},
     "output_type": "execute_result"
    }
   ],
   "source": [
    "det(B*A)"
   ]
  },
  {
   "cell_type": "markdown",
   "metadata": {},
   "source": [
    "# 4"
   ]
  },
  {
   "cell_type": "code",
   "execution_count": 150,
   "metadata": {},
   "outputs": [],
   "source": [
    "from sympy import *\n",
    "x,x0,y0 = symbols('x x0 y0')\n",
    "f1 = x\n",
    "f2=-3*x+12"
   ]
  },
  {
   "cell_type": "code",
   "execution_count": 151,
   "metadata": {
    "scrolled": true
   },
   "outputs": [
    {
     "data": {
      "image/png": "[encoded data removed]",
      "text/plain": [
       "<Figure size 432x288 with 1 Axes>"
      ]
     },
     "metadata": {
      "needs_background": "light"
     },
     "output_type": "display_data"
    }
   ],
   "source": [
    "from sympy.plotting import plot\n",
    "p1 = plot(f1, f2, (x,-1,5),\n",
    "         legend=True, show=False)\n",
    "p1[0].line_color = 'b'\n",
    "p1[1].line_color = 'r'\n",
    "p1.show()"
   ]
  },
  {
   "cell_type": "code",
   "execution_count": 156,
   "metadata": {},
   "outputs": [],
   "source": [
    "x00 = solve(f1-f2,x)[0]"
   ]
  },
  {
   "cell_type": "code",
   "execution_count": 157,
   "metadata": {},
   "outputs": [
    {
     "data": {
      "image/png": "[encoded data removed]",
      "text/latex": [
       "$\\displaystyle \\frac{x^{2}}{2}$"
      ],
      "text/plain": [
       " 2\n",
       "x \n",
       "──\n",
       "2 "
      ]
     },
     "execution_count": 157,
     "metadata": {},
     "output_type": "execute_result"
    }
   ],
   "source": [
    "g1 =  integrate(f1.subs({x:t}),(t,0,x))\n",
    "g1"
   ]
  },
  {
   "cell_type": "code",
   "execution_count": 158,
   "metadata": {},
   "outputs": [
    {
     "data": {
      "image/png": "[encoded data removed]",
      "text/latex": [
       "$\\displaystyle - \\frac{3 x^{2}}{2} + 12 x - 18$"
      ],
      "text/plain": [
       "     2            \n",
       "  3⋅x             \n",
       "- ──── + 12⋅x - 18\n",
       "   2              "
      ]
     },
     "execution_count": 158,
     "metadata": {},
     "output_type": "execute_result"
    }
   ],
   "source": [
    "integrate(f2.subs({x:t}),(t,x00,x))+g1.subs({x:x00})"
   ]
  },
  {
   "cell_type": "code",
   "execution_count": null,
   "metadata": {},
   "outputs": [],
   "source": []
  },
  {
   "cell_type": "code",
   "execution_count": 159,
   "metadata": {},
   "outputs": [
    {
     "data": {
      "image/png": "[encoded data removed]",
      "text/latex": [
       "$\\displaystyle - \\frac{3 x^{2}}{2} + 12 x - 18$"
      ],
      "text/plain": [
       "     2            \n",
       "  3⋅x             \n",
       "- ──── + 12⋅x - 18\n",
       "   2              "
      ]
     },
     "execution_count": 159,
     "metadata": {},
     "output_type": "execute_result"
    }
   ],
   "source": [
    "g2 =  integrate(f2.subs({x:t}),(t,3,x))+g1.subs({x:3})\n",
    "g2"
   ]
  },
  {
   "cell_type": "code",
   "execution_count": 160,
   "metadata": {},
   "outputs": [
    {
     "data": {
      "image/png": "[encoded data removed]",
      "text/plain": [
       "<Figure size 432x288 with 1 Axes>"
      ]
     },
     "metadata": {
      "needs_background": "light"
     },
     "output_type": "display_data"
    }
   ],
   "source": [
    "from sympy.plotting import plot\n",
    "p1 = plot(g1, g2, (x,-1,5),\n",
    "         legend=True, show=False)\n",
    "p1[0].line_color = 'b'\n",
    "p1[1].line_color = 'r'\n",
    "p1.show()"
   ]
  },
  {
   "cell_type": "code",
   "execution_count": 161,
   "metadata": {},
   "outputs": [
    {
     "data": {
      "image/png": "[encoded data removed]",
      "text/latex": [
       "$\\displaystyle x$"
      ],
      "text/plain": [
       "x"
      ]
     },
     "execution_count": 161,
     "metadata": {},
     "output_type": "execute_result"
    }
   ],
   "source": [
    "diff(g1,x)"
   ]
  },
  {
   "cell_type": "code",
   "execution_count": 162,
   "metadata": {},
   "outputs": [
    {
     "data": {
      "image/png": "[encoded data removed]",
      "text/latex": [
       "$\\displaystyle - \\frac{a^{2}}{2} + a x$"
      ],
      "text/plain": [
       "   2      \n",
       "  a       \n",
       "- ── + a⋅x\n",
       "  2       "
      ]
     },
     "execution_count": 162,
     "metadata": {},
     "output_type": "execute_result"
    }
   ],
   "source": [
    "yl = diff(g1,x).subs({x:a})*(x-a)+g1.subs({x:a})\n",
    "expand(yl)"
   ]
  },
  {
   "cell_type": "code",
   "execution_count": 163,
   "metadata": {},
   "outputs": [
    {
     "data": {
      "image/png": "[encoded data removed]",
      "text/latex": [
       "$\\displaystyle \\frac{a}{2}$"
      ],
      "text/plain": [
       "a\n",
       "─\n",
       "2"
      ]
     },
     "execution_count": 163,
     "metadata": {},
     "output_type": "execute_result"
    }
   ],
   "source": [
    "s1=solve(yl,x)\n",
    "qx = s1[0]\n",
    "qx"
   ]
  },
  {
   "cell_type": "code",
   "execution_count": 164,
   "metadata": {},
   "outputs": [
    {
     "data": {
      "image/png": "[encoded data removed]",
      "text/latex": [
       "$\\displaystyle \\left[ 6 - a, \\  \\frac{a}{3} + 2\\right]$"
      ],
      "text/plain": [
       "⎡       a    ⎤\n",
       "⎢6 - a, ─ + 2⎥\n",
       "⎣       3    ⎦"
      ]
     },
     "execution_count": 164,
     "metadata": {},
     "output_type": "execute_result"
    }
   ],
   "source": [
    "s2=solve(yl-g2,x)\n",
    "s2"
   ]
  },
  {
   "cell_type": "code",
   "execution_count": 165,
   "metadata": {},
   "outputs": [
    {
     "data": {
      "image/png": "[encoded data removed]",
      "text/latex": [
       "$\\displaystyle 6 - a$"
      ],
      "text/plain": [
       "6 - a"
      ]
     },
     "execution_count": 165,
     "metadata": {},
     "output_type": "execute_result"
    }
   ],
   "source": [
    "rx=s2[0]\n",
    "rx"
   ]
  },
  {
   "cell_type": "code",
   "execution_count": 166,
   "metadata": {},
   "outputs": [
    {
     "data": {
      "image/png": "[encoded data removed]",
      "text/latex": [
       "$\\displaystyle - \\frac{3 a^{2}}{2} + 6 a$"
      ],
      "text/plain": [
       "     2      \n",
       "  3⋅a       \n",
       "- ──── + 6⋅a\n",
       "   2        "
      ]
     },
     "execution_count": 166,
     "metadata": {},
     "output_type": "execute_result"
    }
   ],
   "source": [
    "ry = expand(g2.subs({x:rx}))\n",
    "ry"
   ]
  },
  {
   "cell_type": "code",
   "execution_count": 167,
   "metadata": {},
   "outputs": [
    {
     "data": {
      "image/png": "[encoded data removed]",
      "text/latex": [
       "$\\displaystyle \\frac{9 a^{3}}{8} - 9 a^{2} + 18 a$"
      ],
      "text/plain": [
       "   3              \n",
       "9⋅a       2       \n",
       "──── - 9⋅a  + 18⋅a\n",
       " 8                "
      ]
     },
     "execution_count": 167,
     "metadata": {},
     "output_type": "execute_result"
    }
   ],
   "source": [
    "S = expand((rx-qx)*ry/2)\n",
    "S"
   ]
  },
  {
   "cell_type": "code",
   "execution_count": 168,
   "metadata": {
    "scrolled": false
   },
   "outputs": [
    {
     "data": {
      "image/png": "[encoded data removed]",
      "text/latex": [
       "$\\displaystyle \\left[ \\frac{4}{3}, \\  4\\right]$"
      ],
      "text/plain": [
       "[4/3, 4]"
      ]
     },
     "execution_count": 168,
     "metadata": {},
     "output_type": "execute_result"
    }
   ],
   "source": [
    "solve(diff(S,a),a)"
   ]
  },
  {
   "cell_type": "markdown",
   "metadata": {},
   "source": [
    "# 5"
   ]
  },
  {
   "cell_type": "code",
   "execution_count": 169,
   "metadata": {},
   "outputs": [],
   "source": [
    "from sympy import *\n",
    "x,x0,y0 = symbols('x x0 y0')\n",
    "f1 = x\n",
    "f2=-3.1*x+12"
   ]
  },
  {
   "cell_type": "code",
   "execution_count": 170,
   "metadata": {},
   "outputs": [
    {
     "data": {
      "image/png": "[encoded data removed]",
      "text/plain": [
       "<Figure size 432x288 with 1 Axes>"
      ]
     },
     "metadata": {
      "needs_background": "light"
     },
     "output_type": "display_data"
    }
   ],
   "source": [
    "from sympy.plotting import plot\n",
    "p1 = plot(f1, f2, (x,-1,5),\n",
    "         legend=True, show=False)\n",
    "p1[0].line_color = 'b'\n",
    "p1[1].line_color = 'r'\n",
    "p1.show()"
   ]
  },
  {
   "cell_type": "code",
   "execution_count": 172,
   "metadata": {},
   "outputs": [
    {
     "data": {
      "image/png": "[encoded data removed]",
      "text/latex": [
       "$\\displaystyle 2.92682926829268$"
      ],
      "text/plain": [
       "2.92682926829268"
      ]
     },
     "execution_count": 172,
     "metadata": {},
     "output_type": "execute_result"
    }
   ],
   "source": [
    "x00 = solve(f1-f2,x)[0]\n",
    "x00"
   ]
  },
  {
   "cell_type": "code",
   "execution_count": 173,
   "metadata": {},
   "outputs": [
    {
     "data": {
      "image/png": "[encoded data removed]",
      "text/latex": [
       "$\\displaystyle \\frac{x^{2}}{2}$"
      ],
      "text/plain": [
       " 2\n",
       "x \n",
       "──\n",
       "2 "
      ]
     },
     "execution_count": 173,
     "metadata": {},
     "output_type": "execute_result"
    }
   ],
   "source": [
    "g1 =  integrate(f1.subs({x:t}),(t,0,x))\n",
    "g1"
   ]
  },
  {
   "cell_type": "code",
   "execution_count": 177,
   "metadata": {},
   "outputs": [],
   "source": [
    "g2 = integrate(f2.subs({x:t}),(t,x00,x))+g1.subs({x:x00})"
   ]
  },
  {
   "cell_type": "code",
   "execution_count": 178,
   "metadata": {},
   "outputs": [
    {
     "data": {
      "image/png": "[encoded data removed]",
      "text/plain": [
       "<Figure size 432x288 with 1 Axes>"
      ]
     },
     "metadata": {
      "needs_background": "light"
     },
     "output_type": "display_data"
    }
   ],
   "source": [
    "from sympy.plotting import plot\n",
    "p1 = plot(g1, g2, (x,-1,5),\n",
    "         legend=True, show=False)\n",
    "p1[0].line_color = 'b'\n",
    "p1[1].line_color = 'r'\n",
    "p1.show()"
   ]
  },
  {
   "cell_type": "code",
   "execution_count": 179,
   "metadata": {},
   "outputs": [
    {
     "data": {
      "image/png": "[encoded data removed]",
      "text/latex": [
       "$\\displaystyle x$"
      ],
      "text/plain": [
       "x"
      ]
     },
     "execution_count": 179,
     "metadata": {},
     "output_type": "execute_result"
    }
   ],
   "source": [
    "diff(g1,x)"
   ]
  },
  {
   "cell_type": "code",
   "execution_count": 180,
   "metadata": {},
   "outputs": [
    {
     "data": {
      "image/png": "[encoded data removed]",
      "text/latex": [
       "$\\displaystyle - \\frac{a^{2}}{2} + a x$"
      ],
      "text/plain": [
       "   2      \n",
       "  a       \n",
       "- ── + a⋅x\n",
       "  2       "
      ]
     },
     "execution_count": 180,
     "metadata": {},
     "output_type": "execute_result"
    }
   ],
   "source": [
    "yl = diff(g1,x).subs({x:a})*(x-a)+g1.subs({x:a})\n",
    "expand(yl)"
   ]
  },
  {
   "cell_type": "code",
   "execution_count": 181,
   "metadata": {},
   "outputs": [
    {
     "data": {
      "image/png": "[encoded data removed]",
      "text/latex": [
       "$\\displaystyle \\frac{a}{2}$"
      ],
      "text/plain": [
       "a\n",
       "─\n",
       "2"
      ]
     },
     "execution_count": 181,
     "metadata": {},
     "output_type": "execute_result"
    }
   ],
   "source": [
    "s1=solve(yl,x)\n",
    "qx = s1[0]\n",
    "qx"
   ]
  },
  {
   "cell_type": "code",
   "execution_count": 182,
   "metadata": {},
   "outputs": [
    {
     "data": {
      "image/png": "[encoded data removed]",
      "text/latex": [
       "$\\displaystyle \\left[ 5.78270244512824 - 0.975756668752148 a, \\  0.330595378429567 a + 1.95923303874273\\right]$"
      ],
      "text/plain": [
       "[5.78270244512824 - 0.975756668752148⋅a, 0.330595378429567⋅a + 1.9592330387427\n",
       "3]"
      ]
     },
     "execution_count": 182,
     "metadata": {},
     "output_type": "execute_result"
    }
   ],
   "source": [
    "s2=solve(yl-g2,x)\n",
    "s2"
   ]
  },
  {
   "cell_type": "code",
   "execution_count": 183,
   "metadata": {},
   "outputs": [
    {
     "data": {
      "image/png": "[encoded data removed]",
      "text/latex": [
       "$\\displaystyle 5.78270244512824 - 0.975756668752148 a$"
      ],
      "text/plain": [
       "5.78270244512824 - 0.975756668752148⋅a"
      ]
     },
     "execution_count": 183,
     "metadata": {},
     "output_type": "execute_result"
    }
   ],
   "source": [
    "rx=s2[0]\n",
    "rx"
   ]
  },
  {
   "cell_type": "code",
   "execution_count": 184,
   "metadata": {},
   "outputs": [
    {
     "data": {
      "image/png": "[encoded data removed]",
      "text/latex": [
       "$\\displaystyle - 1.47575666875215 a^{2} + 5.78270244512825 a - 7.105427357601 \\cdot 10^{-15}$"
      ],
      "text/plain": [
       "                    2                                          \n",
       "- 1.47575666875215⋅a  + 5.78270244512825⋅a - 7.105427357601e-15"
      ]
     },
     "execution_count": 184,
     "metadata": {},
     "output_type": "execute_result"
    }
   ],
   "source": [
    "ry = expand(g2.subs({x:rx}))\n",
    "ry"
   ]
  },
  {
   "cell_type": "code",
   "execution_count": 185,
   "metadata": {},
   "outputs": [
    {
     "data": {
      "image/png": "[encoded data removed]",
      "text/latex": [
       "$\\displaystyle 1.08892887268322 a^{3} - 8.53386169680736 a^{2} + 16.7198237844461 a - 2.05442860772402 \\cdot 10^{-14}$"
      ],
      "text/plain": [
       "                  3                     2                                     \n",
       "1.08892887268322⋅a  - 8.53386169680736⋅a  + 16.7198237844461⋅a - 2.05442860772\n",
       "\n",
       "       \n",
       "402e-14"
      ]
     },
     "execution_count": 185,
     "metadata": {},
     "output_type": "execute_result"
    }
   ],
   "source": [
    "S = expand((rx-qx)*ry/2)\n",
    "S"
   ]
  },
  {
   "cell_type": "code",
   "execution_count": 186,
   "metadata": {
    "scrolled": false
   },
   "outputs": [
    {
     "data": {
      "image/png": "[encoded data removed]",
      "text/latex": [
       "$\\displaystyle \\left[ 1.30615535916183, \\  3.91846607748545\\right]$"
      ],
      "text/plain": [
       "[1.30615535916183, 3.91846607748545]"
      ]
     },
     "execution_count": 186,
     "metadata": {},
     "output_type": "execute_result"
    }
   ],
   "source": [
    "solve(diff(S,a),a)"
   ]
  },
  {
   "cell_type": "code",
   "execution_count": null,
   "metadata": {},
   "outputs": [],
   "source": []
  },
  {
   "cell_type": "code",
   "execution_count": null,
   "metadata": {},
   "outputs": [],
   "source": []
  },
  {
   "cell_type": "code",
   "execution_count": null,
   "metadata": {},
   "outputs": [],
   "source": []
  }
 ],
 "metadata": {
  "kernelspec": {
   "display_name": "Python 3",
   "language": "python",
   "name": "python3"
  },
  "language_info": {
   "codemirror_mode": {
    "name": "ipython",
    "version": 3
   },
   "file_extension": ".py",
   "mimetype": "text/x-python",
   "name": "python",
   "nbconvert_exporter": "python",
   "pygments_lexer": "ipython3",
   "version": "3.8.5"
  }
 },
 "nbformat": 4,
 "nbformat_minor": 4
}
