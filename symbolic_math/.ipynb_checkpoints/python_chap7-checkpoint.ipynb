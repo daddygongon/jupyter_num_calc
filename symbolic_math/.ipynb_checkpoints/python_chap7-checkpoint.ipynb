{
 "cells": [
  {
   "cell_type": "markdown",
   "metadata": {},
   "source": [
    "<br />\n",
    "\n",
    "<div style=\"text-align: center;\">\n",
    "<font size=\"6\">ニューラルネットワーク・ディープラーニング p247 </font>\n",
    "</div>\n",
    "<br />\n",
    "<div style=\"text-align: right;\">\n",
    "<font size=\"4\"></font>\n",
    "<br />\n",
    "<font size=\"4\"></font>\n",
    "</div>"
   ]
  },
  {
   "cell_type": "markdown",
   "metadata": {},
   "source": [
    "jupyterに慣れていない人への注意点\n",
    "\n",
    "- 基本的に関数などは%resetをしない限り引き続くので，同じものを使う時は気を付ける．\n",
    "- 前の文を編集してrunさせずに次の文(In[n])を走らせるとエラーが出る場合がある．\n",
    "- コメント文を入れる時のスペースに気を付ける\n",
    "- 式を書く時は＄ 式 ＄とすることで書くことができる．\n",
    "- また下つき文字$X_i, x_2$ は，＄X＿i＄，＄x＿２＄と書くことでできる．\n",
    "\n",
    "箇条書きは-を先頭につけるとかける．"
   ]
  },
  {
   "cell_type": "markdown",
   "metadata": {},
   "source": [
    "# 7.1 ニューロンモデル"
   ]
  },
  {
   "cell_type": "markdown",
   "metadata": {},
   "source": [
    "ニューロンモデル\n",
    "- 脳の神経細胞をヒントを得て考案された数理モデル\n",
    "\n",
    "入力 $x_0$, $x_1$ から以下を求める\n",
    "- 入力総和 $a$ : 入力に重みをかけたものの総和\n",
    "- 出力 $y$ : 入力総和 $a$ にシグモイド関数を通したもの"
   ]
  },
  {
   "cell_type": "markdown",
   "metadata": {},
   "source": [
    "$y$ は 0 から 1 までの連続値をとり発火頻度を表す\n",
    "- $a$ が大きいほど発火頻度が 1 に近づく \n",
    "- $a$ が負の大きい値ほど0に近づく"
   ]
  },
  {
   "cell_type": "markdown",
   "metadata": {},
   "source": [
    "# 7.2 ニューラルネットワークモデル"
   ]
  },
  {
   "cell_type": "markdown",
   "metadata": {},
   "source": [
    "ニューラルネットワークモデル\n",
    "- ニューロンの集合体のモデル\n",
    "\n",
    "今回は信号が一方向のみ流れるフィードフォワードニューラルネットを考える"
   ]
  },
  {
   "cell_type": "markdown",
   "metadata": {},
   "source": [
    "# 7.2.2 2層フィードフォワードニューラルネットワークの実装"
   ]
  },
  {
   "cell_type": "markdown",
   "metadata": {},
   "source": [
    "## 使用するデータの設定"
   ]
  },
  {
   "cell_type": "code",
   "execution_count": 1,
   "metadata": {},
   "outputs": [],
   "source": [
    "#--  リスト 7-1-1(1)\n",
    "import numpy as np\n",
    "\n",
    "# データ生成 ------------------------------------------\n",
    "\n",
    "np.random.seed(seed=1)  # 乱数を固定\n",
    "N = 200 # データの数\n",
    "K = 3 # 分布の数\n",
    "T = np.zeros((N, 3), dtype=np.uint8)\n",
    "X = np.zeros((N, 2))\n",
    "\n",
    "X_range0 = [-3, 3] # X0 の範囲，表示用\n",
    "X_range1 = [-3, 3] # X1 の範囲，表示用\n",
    "\n",
    "Mu = np.array([[-.5, -.5], [.5, 1.0], [1, -.5]]) # 分布の中心\n",
    "Sig = np.array([[.7, .7], [.8, .3], [.3, .8]]) # 分布の分散\n",
    "Pi = np.array([0.4, 0.8, 1]) # 各分布への割合\n",
    "\n",
    "for n in range(N):\n",
    "    wk = np.random.rand()\n",
    "    for k in range(K):\n",
    "        if wk < Pi[k]:\n",
    "            T[n, k] = 1\n",
    "            break\n",
    "    for k in range(2):\n",
    "        X[n, k] = np.random.randn() * Sig[T[n, :] == 1, k] + Mu[T[n, :] == 1, k]"
   ]
  },
  {
   "cell_type": "markdown",
   "metadata": {},
   "source": [
    "## テストデータと訓練データに分割し保存"
   ]
  },
  {
   "cell_type": "code",
   "execution_count": 2,
   "metadata": {},
   "outputs": [],
   "source": [
    "# リスト 7-1-(2)\n",
    "\n",
    "# ------------ 2 分類のデータをテスト・訓練データに分割\n",
    "\n",
    "TrainingRatio = 0.5\n",
    "\n",
    "X_n_training = int(N * TrainingRatio)\n",
    "X_train = X[:X_n_training, :]\n",
    "X_test = X[X_n_training:, :]\n",
    "\n",
    "T_train = T[:X_n_training, :]\n",
    "T_test = T[X_n_training:, :]\n",
    "\n",
    "# ------------- データを 'class_data.npz'  に保存\n",
    "np.savez('class_data.npz', X_train=X_train, T_train=T_train, \n",
    "         X_test=X_test, T_test=T_test, \n",
    "         X_range0=X_range0, X_range1=X_range1)"
   ]
  },
  {
   "cell_type": "markdown",
   "metadata": {},
   "source": [
    "## 図で確認してみる"
   ]
  },
  {
   "cell_type": "code",
   "execution_count": 3,
   "metadata": {},
   "outputs": [
    {
     "data": {
      "image/png": "[encoded data removed]",
      "text/plain": [
       "<Figure size 576x266.4 with 2 Axes>"
      ]
     },
     "metadata": {
      "needs_background": "light"
     },
     "output_type": "display_data"
    }
   ],
   "source": [
    "# リスト 7-1-(3)\n",
    "import matplotlib.pyplot as plt\n",
    "%matplotlib inline\n",
    "\n",
    "# データの図示 -----------------------------------------\n",
    "\n",
    "def Show_data(x, t):\n",
    "      \n",
    "    wk, n = t.shape\n",
    "    c = [[0, 0, 0], [.5, .5, .5], [1, 1, 1]]\n",
    "    \n",
    "    for i in range(n):\n",
    "        plt.plot(x[t[:, i] == 1, 0], x[t[:, i] == 1, 1], \n",
    "                 linestyle = 'none', marker = 'o', markeredgecolor='black', \n",
    "                 color=c[i], alpha=0.8)\n",
    "    plt.grid(True)\n",
    "    \n",
    "# メイン --------------------------------------------------\n",
    "\n",
    "plt.figure(1, figsize=(8, 3.7))\n",
    "\n",
    "plt.subplot(1, 2, 1)\n",
    "Show_data(X_train, T_train)\n",
    "plt.xlim(X_range0)\n",
    "plt.ylim(X_range1)\n",
    "plt.title('Training Data')\n",
    "\n",
    "plt.subplot(1, 2, 2)\n",
    "Show_data(X_test, T_test)\n",
    "plt.xlim(X_range0)\n",
    "plt.ylim(X_range1)\n",
    "plt.title('Test Data')\n",
    "\n",
    "plt.show()"
   ]
  },
  {
   "cell_type": "markdown",
   "metadata": {},
   "source": [
    "左に訓練データ，右にテストデータが表示されている"
   ]
  },
  {
   "cell_type": "markdown",
   "metadata": {},
   "source": [
    "## 2層のフィードフォワードニューラルネットワークを FNN として定義して実装を行う"
   ]
  },
  {
   "cell_type": "code",
   "execution_count": 4,
   "metadata": {},
   "outputs": [
    {
     "data": {
      "text/plain": [
       "(array([[0.33333333, 0.33333333, 0.33333333],\n",
       "        [0.33333333, 0.33333333, 0.33333333]]),\n",
       " array([[2.6971835 , 2.6971835 , 2.6971835 ],\n",
       "        [1.49172649, 1.49172649, 1.49172649]]),\n",
       " array([[0.84859175, 0.84859175, 1.        ],\n",
       "        [0.24586324, 0.24586324, 1.        ]]),\n",
       " array([[ 1.72359839,  1.72359839,  0.        ],\n",
       "        [-1.12079826, -1.12079826,  0.        ]]))"
      ]
     },
     "execution_count": 4,
     "metadata": {},
     "output_type": "execute_result"
    }
   ],
   "source": [
    "# リスト 7-1-(4)\n",
    "\n",
    "# シグモイド関数 -------------------------------------------------------\n",
    "def Sigmoid(x):\n",
    "    y = 1 / (1 + np.exp(-x))\n",
    "    return y\n",
    "\n",
    "# ネットワーク ----------------------------------------------------------\n",
    "def FNN(wv, M, K, x):\n",
    "    N, D = x.shape # 入力次元\n",
    "    \n",
    "    w = wv[:M * (D+1)] # 中間層ニューロンへの重み\n",
    "    w = w.reshape(M, (D + 1))\n",
    "    v = wv[M * (D+1):] # 出力層ニューロンへの重み\n",
    "    v = v.reshape((K, M+1))\n",
    "    \n",
    "    b = np.zeros((N, M + 1)) # 中間層ニューロンの入力総和\n",
    "    z = np.zeros((N, M + 1)) # 中間層ニューロンの出力\n",
    "    a = np.zeros((N, K)) # 出力層ニューロンの入力総和\n",
    "    y = np.zeros((N, K)) # 出力層ニューロンの出力\n",
    "    \n",
    "    for n in range(N):\n",
    "        # 中間層の計算\n",
    "        for m in range(M):\n",
    "            b[n, m] = np.dot(w[m, :], np.r_[x[n, :], 1]) # (A)\n",
    "            z[n, m] = Sigmoid(b[n, m])\n",
    "            \n",
    "        # 出力層の計算\n",
    "        z[n, M] = 1 # ダミーニューロン\n",
    "        wkz = 0\n",
    "        for k in range(K):\n",
    "            a[n, k] = np.dot(v[k, :], z[n, :])\n",
    "            wkz = wkz + np.exp(a[n, k])\n",
    "        for k in range(K):\n",
    "            y[n, k] = np.exp(a[n, k]) / wkz\n",
    "        \n",
    "    return y, a, z, b\n",
    "    \n",
    "# test ---\n",
    "WV = np.ones(15)\n",
    "M = 2\n",
    "K = 3\n",
    "FNN(WV, M, K, X_train[:2, :])"
   ]
  },
  {
   "cell_type": "markdown",
   "metadata": {},
   "source": [
    "- $W$ は中間層の重み，$V$ は出力層の重み\n",
    "\n",
    "- wv は $W$ と $V$ をひとまとめにしたベクトル\n",
    "\n",
    "- np.r_[A , B] は行列を横に連結させるという命令"
   ]
  },
  {
   "cell_type": "markdown",
   "metadata": {},
   "source": [
    "# 7.2.3 数値微分法"
   ]
  },
  {
   "cell_type": "markdown",
   "metadata": {},
   "source": [
    "## 2層フィードフォワードニューラルネットワークに3分類問題を解かせる\n",
    "- 誤差関数として平均交差エントロピー誤差を使用"
   ]
  },
  {
   "cell_type": "markdown",
   "metadata": {},
   "source": [
    "## CE_FNNという関数で平均交差エントロピー誤差を実装"
   ]
  },
  {
   "cell_type": "code",
   "execution_count": 5,
   "metadata": {},
   "outputs": [
    {
     "data": {
      "text/plain": [
       "1.0986122886681098"
      ]
     },
     "execution_count": 5,
     "metadata": {},
     "output_type": "execute_result"
    }
   ],
   "source": [
    "# リスト 7-1-(5)\n",
    "\n",
    "# 平均交差エントロピー誤差 -------------\n",
    "def CE_FNN(wv, M, K, x, t):\n",
    "    N, D = x.shape\n",
    "    y, a, z, b = FNN(wv, M, K, x)\n",
    "    ce = -np.dot(t.reshape(-1), np.log(y.reshape(-1))) / N\n",
    "    return ce\n",
    "\n",
    "# test ---\n",
    "WV = np.ones(15)\n",
    "M = 2\n",
    "K = 3\n",
    "CE_FNN(WV, M, K, X_train[:2, :], T_train[:2, :])"
   ]
  },
  {
   "cell_type": "markdown",
   "metadata": {},
   "source": [
    "以下の流れで計算している\n",
    "- 入力データ $x$ と目標データ $t$ を入力\n",
    "- $x$ から FNN が $y$ を出力\n",
    "- $y$ と $t$ を比べて交差エントロピーを求める"
   ]
  },
  {
   "cell_type": "markdown",
   "metadata": {},
   "source": [
    "## CE_FNN の数値微分を出力する関数 dCE_FNN_num を実装"
   ]
  },
  {
   "cell_type": "code",
   "execution_count": 6,
   "metadata": {},
   "outputs": [
    {
     "name": "stdout",
     "output_type": "stream",
     "text": [
      "[ 0.0884813   0.19157999 -0.05139799  0.01281536 -0.14468029 -0.14242768\n",
      " -0.02992012  0.01351315 -0.11115648 -0.10104422 -0.09427964 -0.46855603\n",
      "  0.13096434  0.08076649  0.57971252]\n"
     ]
    },
    {
     "data": {
      "image/png": "[encoded data removed]",
      "text/plain": [
       "<Figure size 360x216 with 1 Axes>"
      ]
     },
     "metadata": {
      "needs_background": "light"
     },
     "output_type": "display_data"
    }
   ],
   "source": [
    "# リスト 7-1-(6)\n",
    "\n",
    "# - 数値計算 --------------------------------------\n",
    "def dCE_FNN_num(wv, M, K, x, t):\n",
    "    epsilon = 0.001\n",
    "    dwv = np.zeros_like(wv)\n",
    "    for iwv in range(len(wv)):\n",
    "        wv_modified = wv.copy()\n",
    "        wv_modified[iwv] = wv[iwv] - epsilon\n",
    "        mse1 = CE_FNN(wv_modified, M, K, x, t)\n",
    "        wv_modified[iwv] = wv[iwv] + epsilon\n",
    "        mse2 = CE_FNN(wv_modified, M, K, x, t)\n",
    "        dwv[iwv] = (mse2 - mse1) / (2 * epsilon)\n",
    "    \n",
    "    return dwv\n",
    "\n",
    "\n",
    "# -- dWVの表示 --------------------------------------\n",
    "def Show_WV(wv, M):\n",
    "    N = wv.shape[0]\n",
    "    plt.bar(range(1, M * 3 + 1), wv[:M * 3], align=\"center\", color='black')\n",
    "    plt.bar(range(M * 3 + 1, N + 1), wv[M * 3:],\n",
    "           align=\"center\", color='cornflowerblue')\n",
    "    plt.xticks(range(1, N + 1))\n",
    "    plt.xlim(0, N + 1)\n",
    "    \n",
    "# - test--------------------------------------------------\n",
    "M = 2\n",
    "K = 3\n",
    "nWV = M * 3 + K * (M + 1)\n",
    "np.random.seed(1)\n",
    "WV = np.random.normal(0, 1, nWV)\n",
    "dWV = dCE_FNN_num(WV, M, K, X_train[:2, :], T_train[:2, :])\n",
    "print(dWV)\n",
    "plt.figure(1, figsize=(5, 3))\n",
    "Show_WV(dWV, M)\n",
    "plt.show()"
   ]
  },
  {
   "cell_type": "markdown",
   "metadata": {},
   "source": [
    "M = 2, K = 3 のとき wv の長さは 2 × 2 + 3 × 3 = 15 である\n",
    "\n",
    "棒グラフは15個の重みパラメータそれぞれに対する数値偏微分値を表している\n",
    "\n",
    "黒の部分が $W$, 青の部分が $V$ "
   ]
  },
  {
   "cell_type": "markdown",
   "metadata": {},
   "source": [
    "# 7.2.4 数値微分法による勾配法"
   ]
  },
  {
   "cell_type": "markdown",
   "metadata": {},
   "source": [
    "CE_FNN や dCE_FNN_num を使って勾配法を適用し，分類問題を解く"
   ]
  },
  {
   "cell_type": "markdown",
   "metadata": {},
   "source": [
    "## Fit_FNN_num の実装"
   ]
  },
  {
   "cell_type": "markdown",
   "metadata": {},
   "source": [
    "入力\n",
    "- 重みの初期値 : wv_init\n",
    "- 訓練データ\n",
    "- テストデータ\n",
    "\n",
    "出力\n",
    "- 最適化されたパラメータ : wv\n",
    "\n",
    "その他変数\n",
    "- 学習ステップ数 : n\n",
    "- 学習定数 : alpha"
   ]
  },
  {
   "cell_type": "code",
   "execution_count": 7,
   "metadata": {},
   "outputs": [
    {
     "name": "stdout",
     "output_type": "stream",
     "text": [
      "Calculation time :  104.698 sec\n"
     ]
    }
   ],
   "source": [
    "# リスト 7-1-(7)\n",
    "import time\n",
    "\n",
    "# 数値微分を使った勾配法 ------------------------------\n",
    "def Fit_FNN_num(wv_init, M, K, x_train, t_train, x_test, t_test, n, alpha):\n",
    "    wv = wv_init\n",
    "    err_train = np.zeros(n)\n",
    "    err_test = np.zeros(n)\n",
    "    wv_hist = np.zeros((n, len(wv_init)))\n",
    "    \n",
    "    for i in range(n): # (A)\n",
    "        wv = wv - alpha * dCE_FNN_num(wv, M, K, x_train, t_train)\n",
    "        err_train[i] = CE_FNN(wv, M, K, x_train, t_train)\n",
    "        err_test[i] = CE_FNN(wv, M, K, x_test, t_test)\n",
    "        wv_hist[i, :] = wv\n",
    "        \n",
    "    return wv, wv_hist, err_train, err_test\n",
    "\n",
    "\n",
    "# メイン ----------------------------------------------------\n",
    "startTime = time.time()\n",
    "M = 2\n",
    "K = 3\n",
    "np.random.seed(1)\n",
    "WV_init = np.random.normal(0, 0.01, M * 3 + K * (M + 1))\n",
    "N_step = 1000 # (B) 学習ステップ\n",
    "alpha = 0.5\n",
    "WV, WV_hist, Err_train, Err_test = Fit_FNN_num(\n",
    "    WV_init, M, K, X_train, T_train, X_test, T_test, N_step, alpha)\n",
    "calculation_time = time.time() - startTime\n",
    "\n",
    "print(\"Calculation time : {0: .3f} sec\".format(calculation_time))"
   ]
  },
  {
   "cell_type": "markdown",
   "metadata": {},
   "source": [
    "## 図による誤差の表示"
   ]
  },
  {
   "cell_type": "code",
   "execution_count": 8,
   "metadata": {},
   "outputs": [
    {
     "data": {
      "image/png": "[encoded data removed]",
      "text/plain": [
       "<Figure size 216x216 with 1 Axes>"
      ]
     },
     "metadata": {
      "needs_background": "light"
     },
     "output_type": "display_data"
    }
   ],
   "source": [
    "# リスト 7-1-(8)\n",
    "\n",
    "# 学習誤差の表示 ----------------------------------------------------------\n",
    "plt.figure(1, figsize=(3, 3))\n",
    "plt.plot(Err_train, 'black', label='training')\n",
    "plt.plot(Err_test, 'cornflowerblue', label = 'test')\n",
    "plt.legend()\n",
    "plt.show()"
   ]
  },
  {
   "cell_type": "markdown",
   "metadata": {},
   "source": [
    "縦軸が誤差を表しており，単調的に減少していることがわかる\n",
    "\n",
    "400 ステップ辺りで学習が収束したように見えるが，そこからまた急激に変化している(学習が進んでいる)\n",
    "\n",
    "なぜだろう?"
   ]
  },
  {
   "cell_type": "markdown",
   "metadata": {},
   "source": [
    "## 重みの時間発展の表示"
   ]
  },
  {
   "cell_type": "code",
   "execution_count": 9,
   "metadata": {},
   "outputs": [
    {
     "data": {
      "image/png": "[encoded data removed]",
      "text/plain": [
       "<Figure size 216x216 with 1 Axes>"
      ]
     },
     "metadata": {
      "needs_background": "light"
     },
     "output_type": "display_data"
    }
   ],
   "source": [
    "# リスト 7-1-(9)\n",
    "\n",
    "# 重みの時間発展の表示 ------------------------------------------------------\n",
    "plt.figure(1, figsize=(3, 3))\n",
    "plt.plot(WV_hist[:, :M * 3], 'black')\n",
    "plt.plot(WV_hist[:, M * 3:], 'cornflowerblue')\n",
    "plt.show()"
   ]
  },
  {
   "cell_type": "markdown",
   "metadata": {},
   "source": [
    "- 黒の部分が $W$, 青の部分が $V$ \n",
    "- 0 周辺からスタートした重みが何らかの値に収束しようとしていることがわかる\n",
    "- よくみると，400 ステップ付近でそれぞれの重みのグラフが交差していることがわかる\n",
    "\n",
    "このことから，誤差関数の勾配の方向が変化したことがわかる"
   ]
  },
  {
   "cell_type": "markdown",
   "metadata": {},
   "source": [
    "## クラスの境界線の表示"
   ]
  },
  {
   "cell_type": "markdown",
   "metadata": {},
   "source": [
    "- 重みパラメータ wv を渡す\n",
    "- 表示する入力空間を 60 × 60 に分割する\n",
    "- 得られる領域を，等高線で表示"
   ]
  },
  {
   "cell_type": "code",
   "execution_count": 10,
   "metadata": {},
   "outputs": [
    {
     "ename": "TypeError",
     "evalue": "order must be str, not int",
     "output_type": "error",
     "traceback": [
      "\u001b[0;31m---------------------------------------------------------------------------\u001b[0m",
      "\u001b[0;31mTypeError\u001b[0m                                 Traceback (most recent call last)",
      "\u001b[0;32m~/opt/anaconda3/lib/python3.8/site-packages/numpy/core/fromnumeric.py\u001b[0m in \u001b[0;36m_wrapfunc\u001b[0;34m(obj, method, *args, **kwds)\u001b[0m\n\u001b[1;32m     57\u001b[0m     \u001b[0;32mtry\u001b[0m\u001b[0;34m:\u001b[0m\u001b[0;34m\u001b[0m\u001b[0;34m\u001b[0m\u001b[0m\n\u001b[0;32m---> 58\u001b[0;31m         \u001b[0;32mreturn\u001b[0m \u001b[0mbound\u001b[0m\u001b[0;34m(\u001b[0m\u001b[0;34m*\u001b[0m\u001b[0margs\u001b[0m\u001b[0;34m,\u001b[0m \u001b[0;34m**\u001b[0m\u001b[0mkwds\u001b[0m\u001b[0;34m)\u001b[0m\u001b[0;34m\u001b[0m\u001b[0;34m\u001b[0m\u001b[0m\n\u001b[0m\u001b[1;32m     59\u001b[0m     \u001b[0;32mexcept\u001b[0m \u001b[0mTypeError\u001b[0m\u001b[0;34m:\u001b[0m\u001b[0;34m\u001b[0m\u001b[0;34m\u001b[0m\u001b[0m\n",
      "\u001b[0;31mTypeError\u001b[0m: order must be str, not int",
      "\nDuring handling of the above exception, another exception occurred:\n",
      "\u001b[0;31mTypeError\u001b[0m                                 Traceback (most recent call last)",
      "\u001b[0;32m<ipython-input-10-543663684c49>\u001b[0m in \u001b[0;36m<module>\u001b[0;34m\u001b[0m\n\u001b[1;32m     23\u001b[0m \u001b[0mplt\u001b[0m\u001b[0;34m.\u001b[0m\u001b[0mfigure\u001b[0m\u001b[0;34m(\u001b[0m\u001b[0;36m1\u001b[0m\u001b[0;34m,\u001b[0m \u001b[0mfigsize\u001b[0m\u001b[0;34m=\u001b[0m\u001b[0;34m(\u001b[0m\u001b[0;36m3\u001b[0m\u001b[0;34m,\u001b[0m \u001b[0;36m3\u001b[0m\u001b[0;34m)\u001b[0m\u001b[0;34m)\u001b[0m\u001b[0;34m\u001b[0m\u001b[0;34m\u001b[0m\u001b[0m\n\u001b[1;32m     24\u001b[0m \u001b[0mShow_data\u001b[0m\u001b[0;34m(\u001b[0m\u001b[0mX_test\u001b[0m\u001b[0;34m,\u001b[0m \u001b[0mT_test\u001b[0m\u001b[0;34m)\u001b[0m\u001b[0;34m\u001b[0m\u001b[0;34m\u001b[0m\u001b[0m\n\u001b[0;32m---> 25\u001b[0;31m \u001b[0mshow_FNN\u001b[0m\u001b[0;34m(\u001b[0m\u001b[0mWV\u001b[0m\u001b[0;34m,\u001b[0m \u001b[0mM\u001b[0m\u001b[0;34m,\u001b[0m \u001b[0mK\u001b[0m\u001b[0;34m)\u001b[0m\u001b[0;34m\u001b[0m\u001b[0;34m\u001b[0m\u001b[0m\n\u001b[0m\u001b[1;32m     26\u001b[0m \u001b[0mplt\u001b[0m\u001b[0;34m.\u001b[0m\u001b[0mshow\u001b[0m\u001b[0;34m(\u001b[0m\u001b[0;34m)\u001b[0m\u001b[0;34m\u001b[0m\u001b[0;34m\u001b[0m\u001b[0m\n",
      "\u001b[0;32m<ipython-input-10-543663684c49>\u001b[0m in \u001b[0;36mshow_FNN\u001b[0;34m(wv, M, K)\u001b[0m\n\u001b[1;32m      7\u001b[0m     \u001b[0mx1\u001b[0m \u001b[0;34m=\u001b[0m \u001b[0mnp\u001b[0m\u001b[0;34m.\u001b[0m\u001b[0mlinspace\u001b[0m\u001b[0;34m(\u001b[0m\u001b[0mX_range1\u001b[0m\u001b[0;34m[\u001b[0m\u001b[0;36m0\u001b[0m\u001b[0;34m]\u001b[0m\u001b[0;34m,\u001b[0m \u001b[0mX_range1\u001b[0m\u001b[0;34m[\u001b[0m\u001b[0;36m1\u001b[0m\u001b[0;34m]\u001b[0m\u001b[0;34m,\u001b[0m \u001b[0mxn\u001b[0m\u001b[0;34m)\u001b[0m\u001b[0;34m\u001b[0m\u001b[0;34m\u001b[0m\u001b[0m\n\u001b[1;32m      8\u001b[0m     \u001b[0mxx0\u001b[0m\u001b[0;34m,\u001b[0m \u001b[0mxx1\u001b[0m \u001b[0;34m=\u001b[0m \u001b[0mnp\u001b[0m\u001b[0;34m.\u001b[0m\u001b[0mmeshgrid\u001b[0m\u001b[0;34m(\u001b[0m\u001b[0mx0\u001b[0m\u001b[0;34m,\u001b[0m \u001b[0mx1\u001b[0m\u001b[0;34m)\u001b[0m\u001b[0;34m\u001b[0m\u001b[0;34m\u001b[0m\u001b[0m\n\u001b[0;32m----> 9\u001b[0;31m     \u001b[0mx\u001b[0m \u001b[0;34m=\u001b[0m \u001b[0mnp\u001b[0m\u001b[0;34m.\u001b[0m\u001b[0mc_\u001b[0m\u001b[0;34m[\u001b[0m\u001b[0mnp\u001b[0m\u001b[0;34m.\u001b[0m\u001b[0mreshape\u001b[0m\u001b[0;34m(\u001b[0m\u001b[0mxx0\u001b[0m\u001b[0;34m,\u001b[0m \u001b[0mxn\u001b[0m \u001b[0;34m*\u001b[0m \u001b[0mxn\u001b[0m\u001b[0;34m,\u001b[0m \u001b[0;36m1\u001b[0m\u001b[0;34m)\u001b[0m\u001b[0;34m,\u001b[0m \u001b[0mnp\u001b[0m\u001b[0;34m.\u001b[0m\u001b[0mreshape\u001b[0m\u001b[0;34m(\u001b[0m\u001b[0mxx1\u001b[0m\u001b[0;34m,\u001b[0m \u001b[0mxn\u001b[0m \u001b[0;34m*\u001b[0m \u001b[0mxn\u001b[0m\u001b[0;34m,\u001b[0m \u001b[0;36m1\u001b[0m\u001b[0;34m)\u001b[0m\u001b[0;34m]\u001b[0m\u001b[0;34m\u001b[0m\u001b[0;34m\u001b[0m\u001b[0m\n\u001b[0m\u001b[1;32m     10\u001b[0m     \u001b[0my\u001b[0m\u001b[0;34m,\u001b[0m \u001b[0ma\u001b[0m\u001b[0;34m,\u001b[0m \u001b[0mz\u001b[0m\u001b[0;34m,\u001b[0m \u001b[0mb\u001b[0m \u001b[0;34m=\u001b[0m \u001b[0mFNN\u001b[0m\u001b[0;34m(\u001b[0m\u001b[0mwv\u001b[0m\u001b[0;34m,\u001b[0m \u001b[0mM\u001b[0m\u001b[0;34m,\u001b[0m \u001b[0mK\u001b[0m\u001b[0;34m,\u001b[0m \u001b[0mx\u001b[0m\u001b[0;34m)\u001b[0m\u001b[0;34m\u001b[0m\u001b[0;34m\u001b[0m\u001b[0m\n\u001b[1;32m     11\u001b[0m     \u001b[0mplt\u001b[0m\u001b[0;34m.\u001b[0m\u001b[0mfigure\u001b[0m\u001b[0;34m(\u001b[0m\u001b[0;36m1\u001b[0m\u001b[0;34m,\u001b[0m \u001b[0mfigsize\u001b[0m\u001b[0;34m=\u001b[0m\u001b[0;34m(\u001b[0m\u001b[0;36m4\u001b[0m\u001b[0;34m,\u001b[0m \u001b[0;36m4\u001b[0m\u001b[0;34m)\u001b[0m\u001b[0;34m)\u001b[0m\u001b[0;34m\u001b[0m\u001b[0;34m\u001b[0m\u001b[0m\n",
      "\u001b[0;32m<__array_function__ internals>\u001b[0m in \u001b[0;36mreshape\u001b[0;34m(*args, **kwargs)\u001b[0m\n",
      "\u001b[0;32m~/opt/anaconda3/lib/python3.8/site-packages/numpy/core/fromnumeric.py\u001b[0m in \u001b[0;36mreshape\u001b[0;34m(a, newshape, order)\u001b[0m\n\u001b[1;32m    297\u001b[0m            [5, 6]])\n\u001b[1;32m    298\u001b[0m     \"\"\"\n\u001b[0;32m--> 299\u001b[0;31m     \u001b[0;32mreturn\u001b[0m \u001b[0m_wrapfunc\u001b[0m\u001b[0;34m(\u001b[0m\u001b[0ma\u001b[0m\u001b[0;34m,\u001b[0m \u001b[0;34m'reshape'\u001b[0m\u001b[0;34m,\u001b[0m \u001b[0mnewshape\u001b[0m\u001b[0;34m,\u001b[0m \u001b[0morder\u001b[0m\u001b[0;34m=\u001b[0m\u001b[0morder\u001b[0m\u001b[0;34m)\u001b[0m\u001b[0;34m\u001b[0m\u001b[0;34m\u001b[0m\u001b[0m\n\u001b[0m\u001b[1;32m    300\u001b[0m \u001b[0;34m\u001b[0m\u001b[0m\n\u001b[1;32m    301\u001b[0m \u001b[0;34m\u001b[0m\u001b[0m\n",
      "\u001b[0;32m~/opt/anaconda3/lib/python3.8/site-packages/numpy/core/fromnumeric.py\u001b[0m in \u001b[0;36m_wrapfunc\u001b[0;34m(obj, method, *args, **kwds)\u001b[0m\n\u001b[1;32m     65\u001b[0m         \u001b[0;31m# Call _wrapit from within the except clause to ensure a potential\u001b[0m\u001b[0;34m\u001b[0m\u001b[0;34m\u001b[0m\u001b[0;34m\u001b[0m\u001b[0m\n\u001b[1;32m     66\u001b[0m         \u001b[0;31m# exception has a traceback chain.\u001b[0m\u001b[0;34m\u001b[0m\u001b[0;34m\u001b[0m\u001b[0;34m\u001b[0m\u001b[0m\n\u001b[0;32m---> 67\u001b[0;31m         \u001b[0;32mreturn\u001b[0m \u001b[0m_wrapit\u001b[0m\u001b[0;34m(\u001b[0m\u001b[0mobj\u001b[0m\u001b[0;34m,\u001b[0m \u001b[0mmethod\u001b[0m\u001b[0;34m,\u001b[0m \u001b[0;34m*\u001b[0m\u001b[0margs\u001b[0m\u001b[0;34m,\u001b[0m \u001b[0;34m**\u001b[0m\u001b[0mkwds\u001b[0m\u001b[0;34m)\u001b[0m\u001b[0;34m\u001b[0m\u001b[0;34m\u001b[0m\u001b[0m\n\u001b[0m\u001b[1;32m     68\u001b[0m \u001b[0;34m\u001b[0m\u001b[0m\n\u001b[1;32m     69\u001b[0m \u001b[0;34m\u001b[0m\u001b[0m\n",
      "\u001b[0;32m~/opt/anaconda3/lib/python3.8/site-packages/numpy/core/fromnumeric.py\u001b[0m in \u001b[0;36m_wrapit\u001b[0;34m(obj, method, *args, **kwds)\u001b[0m\n\u001b[1;32m     42\u001b[0m     \u001b[0;32mexcept\u001b[0m \u001b[0mAttributeError\u001b[0m\u001b[0;34m:\u001b[0m\u001b[0;34m\u001b[0m\u001b[0;34m\u001b[0m\u001b[0m\n\u001b[1;32m     43\u001b[0m         \u001b[0mwrap\u001b[0m \u001b[0;34m=\u001b[0m \u001b[0;32mNone\u001b[0m\u001b[0;34m\u001b[0m\u001b[0;34m\u001b[0m\u001b[0m\n\u001b[0;32m---> 44\u001b[0;31m     \u001b[0mresult\u001b[0m \u001b[0;34m=\u001b[0m \u001b[0mgetattr\u001b[0m\u001b[0;34m(\u001b[0m\u001b[0masarray\u001b[0m\u001b[0;34m(\u001b[0m\u001b[0mobj\u001b[0m\u001b[0;34m)\u001b[0m\u001b[0;34m,\u001b[0m \u001b[0mmethod\u001b[0m\u001b[0;34m)\u001b[0m\u001b[0;34m(\u001b[0m\u001b[0;34m*\u001b[0m\u001b[0margs\u001b[0m\u001b[0;34m,\u001b[0m \u001b[0;34m**\u001b[0m\u001b[0mkwds\u001b[0m\u001b[0;34m)\u001b[0m\u001b[0;34m\u001b[0m\u001b[0;34m\u001b[0m\u001b[0m\n\u001b[0m\u001b[1;32m     45\u001b[0m     \u001b[0;32mif\u001b[0m \u001b[0mwrap\u001b[0m\u001b[0;34m:\u001b[0m\u001b[0;34m\u001b[0m\u001b[0;34m\u001b[0m\u001b[0m\n\u001b[1;32m     46\u001b[0m         \u001b[0;32mif\u001b[0m \u001b[0;32mnot\u001b[0m \u001b[0misinstance\u001b[0m\u001b[0;34m(\u001b[0m\u001b[0mresult\u001b[0m\u001b[0;34m,\u001b[0m \u001b[0mmu\u001b[0m\u001b[0;34m.\u001b[0m\u001b[0mndarray\u001b[0m\u001b[0;34m)\u001b[0m\u001b[0;34m:\u001b[0m\u001b[0;34m\u001b[0m\u001b[0;34m\u001b[0m\u001b[0m\n",
      "\u001b[0;31mTypeError\u001b[0m: order must be str, not int"
     ]
    },
    {
     "data": {
      "image/png": "[encoded data removed]",
      "text/plain": [
       "<Figure size 216x216 with 1 Axes>"
      ]
     },
     "metadata": {
      "needs_background": "light"
     },
     "output_type": "display_data"
    }
   ],
   "source": [
    "# リスト 7-1-(10)\n",
    "\n",
    "# 境界線表示関数 ------------------------------------------------------------------\n",
    "def show_FNN(wv, M, K):\n",
    "    xn = 60 # 等高線表示の解像度\n",
    "    x0 = np.linspace(X_range0[0], X_range0[1], xn)\n",
    "    x1 = np.linspace(X_range1[0], X_range1[1], xn)\n",
    "    xx0, xx1 = np.meshgrid(x0, x1)\n",
    "    x = np.c_[np.reshape(xx0, xn * xn, 1), np.reshape(xx1, xn * xn, 1)]\n",
    "    y, a, z, b = FNN(wv, M, K, x)\n",
    "    plt.figure(1, figsize=(4, 4))\n",
    "    for ic in range(K):\n",
    "        f = y[:, ic]\n",
    "        f = f.reshape(xn, xn)\n",
    "        f = f.T\n",
    "        cont = plt.contour(xx0, xx1, f, levels=[0.5, 0.9],\n",
    "                          colors=['cornflowerblue', 'black'])\n",
    "        cont.clabel(fmt='%.1f', fontsize=9)\n",
    "    plt.xlim(X_range0)\n",
    "    plt.ylim(X_range1)\n",
    "\n",
    "# 境界線の表示 --------------------------------------------------------------------------\n",
    "plt.figure(1, figsize=(3, 3))\n",
    "Show_data(X_test, T_test)\n",
    "show_FNN(WV, M, K)\n",
    "plt.show()"
   ]
  },
  {
   "cell_type": "markdown",
   "metadata": {},
   "source": [
    "テストデータ上でも，うまく境界線が引けていることが確認できる"
   ]
  },
  {
   "cell_type": "markdown",
   "metadata": {},
   "source": [
    "## 7.2.8 誤差逆伝播法の実装"
   ]
  },
  {
   "cell_type": "markdown",
   "metadata": {},
   "source": [
    "誤差逆伝播法\n",
    "- ネットワークの出力で生じる誤差(教師信号との誤差)を使用\n",
    "- 出力層の重み $v_{k,j}$ から 中間層への重み $w_{j,i}$ を更新していく(改善していく)"
   ]
  },
  {
   "cell_type": "code",
   "execution_count": null,
   "metadata": {},
   "outputs": [],
   "source": [
    "# リスト 7-1-(11)\n",
    "\n",
    "# 解析的微分 ------------------------------------------------------------------------------\n",
    "def dCE_FNN(wv, M, K, x, t):\n",
    "    N, D = x.shape\n",
    "    \n",
    "    # wv を w と v に戻す\n",
    "    w = wv[:M * (D+1)]\n",
    "    w = w.reshape(M, (D + 1))\n",
    "    v = wv[M * (D+1):]\n",
    "    v = v.reshape((K, M+1))\n",
    "    \n",
    "    # 1. x を入力して y を得る\n",
    "    y, a, z, b = FNN(wv, M, K, x)\n",
    "    \n",
    "    # 出力変数の準備\n",
    "    dwv = np.zeros_like(wv)\n",
    "    dw = np.zeros((M, D+1))\n",
    "    dv = np.zeros((K, M+1))\n",
    "    delta1 = np.zeros(M) # 1層目誤差\n",
    "    delta2 = np.zeros(K) # 2層目誤差 (K=0 の部分は使わず)\n",
    "    \n",
    "    for n in range(N):\n",
    "        # 2. 出力層の誤差を求める\n",
    "        for k in range(K):\n",
    "            delta2[k] = (y[n, k] - t[n, k])\n",
    "            \n",
    "        # 3. 中間層の誤差を求める\n",
    "        for j in range(M):\n",
    "            delta1[j] = z[n, j] * (1 - z[n, j]) * np.dot(v[:, j], delta2)\n",
    "        \n",
    "        # 4.  v の勾配 dv を求める\n",
    "        for k in range(K):\n",
    "            dv[k, :] = dv[k, :] + delta2[k] * z[n, :] / N\n",
    "            \n",
    "        # 4. w の勾配 dw を求める\n",
    "        for j in range(M):\n",
    "            dw[j, :] = dw[j, :] + delta1[j] * np.r_[x[n, :], 1] / N\n",
    "            \n",
    "    # dw と dv を合体させて dwv とする\n",
    "    dwv = np.c_[dw.reshape((1, M * (D + 1))),  dv.reshape((1, K * (M + 1)))]\n",
    "    dwv = dwv.reshape(-1)\n",
    "    \n",
    "    return dwv\n",
    "    \n",
    "# ------------- Show dWV\n",
    "def Show_dWV(wv, M):\n",
    "    N = wv.shape[0]\n",
    "    \n",
    "    plt.bar(range(1, M * 3 + 1), wv[:M * 3], align = \"center\", color = 'black')\n",
    "    plt.bar(range(M * 3 + 1, N + 1), wv[M * 3:], align = \"center\", color = 'cornflowerblue')\n",
    "    \n",
    "    plt.xticks(range(1, N + 1))\n",
    "    plt.xlim(0, N + 1)\n",
    "    \n",
    "# --- 動作確認\n",
    "M = 2\n",
    "K = 3\n",
    "N = 2\n",
    "\n",
    "nWV = M * 3 + K * (M + 1)\n",
    "np.random.seed(1)\n",
    "WV = np.random.normal(0, 1, nWV)\n",
    "\n",
    "dWV_ana = dCE_FNN(WV, M, K, X_train[:N, :], T_train[:N, :])\n",
    "print(\"analytical dWV\")\n",
    "print(dWV_ana)\n",
    "\n",
    "dWV_num = dCE_FNN_num(WV, M, K, X_train[:N, :], T_train[:N, :])\n",
    "print(\"numerical dWV\")\n",
    "print(dWV_num)\n",
    "\n",
    "plt.figure(1, figsize=(8, 3))\n",
    "plt.subplots_adjust(wspace=0.5)\n",
    "plt.subplot(1, 2, 1)\n",
    "Show_dWV(dWV_ana, M)\n",
    "plt.title('analitical')\n",
    "plt.subplot(1, 2, 2)\n",
    "Show_dWV(dWV_num, M)\n",
    "plt.title('numerical')\n",
    "plt.show()"
   ]
  },
  {
   "cell_type": "markdown",
   "metadata": {},
   "source": [
    "左の図が解析的微分値(dWV_ana)，右の図が上で作成した数値微分の値(dWV_num)\n",
    "\n",
    "- 数値微分の値とほぼ一致していることが分かる\n",
    "- 正しく計算できることが確認できた\n",
    "\n",
    "次に，数値微分で解いた分類問題を誤差逆伝播法で解いてみる"
   ]
  },
  {
   "cell_type": "markdown",
   "metadata": {},
   "source": [
    "## 誤差逆伝播法で分類問題を解く"
   ]
  },
  {
   "cell_type": "code",
   "execution_count": null,
   "metadata": {},
   "outputs": [],
   "source": [
    "# リスト 7-1-(12)\n",
    "\n",
    "# 解析的微分を使った勾配法 --------------------------------------------------------\n",
    "def Fit_FNN(wv_init, M, K, x_train, t_train, x_test, t_test, n, alpha):\n",
    "    wv = wv_init.copy()\n",
    "    err_train = np.zeros(n)\n",
    "    err_test = np.zeros(n)\n",
    "    wv_hist = np.zeros((n, len(wv_init)))\n",
    "    for i in range(n):\n",
    "        wv = wv - alpha * dCE_FNN(wv, M, K, x_train, t_train) # (A)\n",
    "        err_train[i] = CE_FNN(wv, M, K, x_train, t_train)\n",
    "        err_test[i] = CE_FNN(wv, M, K, x_test, t_test)\n",
    "        wv_hist[i, :] = wv\n",
    "    return wv, wv_hist, err_train, err_test\n",
    "\n",
    "# メイン\n",
    "startTime = time.time()\n",
    "\n",
    "M = 2\n",
    "K = 3\n",
    "\n",
    "np.random.seed(1)\n",
    "WV_init = np.random.normal(0, 0.01, M * 3 + K * (M + 1))\n",
    "\n",
    "N_step = 1000\n",
    "alpha = 0.5\n",
    "\n",
    "WV, WV_hist, Err_train, Err_test = Fit_FNN(\n",
    "    WV_init, M, K, X_train, T_train, X_test, T_test, N_step, alpha)\n",
    "\n",
    "calculation_time = time.time() - startTime\n",
    "print(\"Calculation time : {0: .3f} sec\".format(calculation_time))\n",
    "        "
   ]
  },
  {
   "cell_type": "markdown",
   "metadata": {},
   "source": [
    "- 作業としては上の Fit_FNN_num での dCE_FNN_num の部分を dCE_FNN に変えるだけ (A)\n",
    "\n",
    "\n",
    "- 数値微分に比べてかなり早く計算できる\n",
    "- 私の PC だと約8倍になった\n",
    "- 嬉しいですね"
   ]
  },
  {
   "cell_type": "markdown",
   "metadata": {},
   "source": [
    "## 図の表示による確認"
   ]
  },
  {
   "cell_type": "code",
   "execution_count": null,
   "metadata": {},
   "outputs": [],
   "source": [
    "# リスト 7-1-(13)\n",
    "\n",
    "plt.figure(1, figsize=(12, 3))\n",
    "plt.subplots_adjust(wspace=0.5)\n",
    "\n",
    "# 学習誤差の表示 -------------------------------------------------------------\n",
    "plt.subplot(1, 3, 1)\n",
    "plt.plot(Err_train, 'black', label='training')\n",
    "plt.plot(Err_test, 'cornflowerblue', label='test')\n",
    "plt.legend()\n",
    "\n",
    "# 重みの時間発展の表示 -----------------------------------------------------\n",
    "plt.subplot(1, 3, 2)\n",
    "plt.plot(WV_hist[:, :M * 3],  'black')\n",
    "plt.plot(WV_hist[:, M * 3:], 'cornflowerblue')\n",
    "\n",
    "# 境界線の表示 ---------------------------------------------------------------\n",
    "plt.subplot(1, 3, 3)\n",
    "Show_data(X_test, T_test)\n",
    "\n",
    "M = 2\n",
    "K = 3\n",
    "show_FNN(WV, M, K)\n",
    "plt.show()"
   ]
  },
  {
   "cell_type": "markdown",
   "metadata": {},
   "source": [
    "数値微分のときと同じ結果を得られた\n",
    "\n",
    "\n",
    "- 数値微分は導出した微分の式が正しいかチェックする強力なツール\n",
    "\n",
    "- 新しい誤差関数の微分の式を求める必要があるときは，まず初めに数値微分で正しい値を出しておくことがおすすめ"
   ]
  },
  {
   "cell_type": "markdown",
   "metadata": {},
   "source": [
    "## プログラムのまとめ"
   ]
  },
  {
   "cell_type": "markdown",
   "metadata": {},
   "source": [
    "- X_train と T_train (訓練データ)で wv を学習\n",
    "- X_test と T_test (テストデータ)で評価\n",
    "- 交差エントロピーを小さくする wv を求めるために以下を使用\n",
    "    - 交差エントロピーを求める CE_FNN とその微分 dCE_FNN \n",
    "    - 両方の関数の中でネットワークの出力 FNN \n",
    "    - FNN の中では活性化関数 Sigmoid "
   ]
  },
  {
   "cell_type": "markdown",
   "metadata": {},
   "source": [
    "## 7.2.9  学習後のニューロンの特性"
   ]
  },
  {
   "cell_type": "markdown",
   "metadata": {},
   "source": [
    "なぜ2層ネットワークが上の右図のように曲線の境界を表示できたのだろう？\n",
    "\n",
    "各ニューロン $b_j$, $z_j$, $a_k$, $y_k$ の特性を図示してみよう "
   ]
  },
  {
   "cell_type": "markdown",
   "metadata": {},
   "source": [
    "## 図示によるニューロン特性の確認"
   ]
  },
  {
   "cell_type": "code",
   "execution_count": null,
   "metadata": {},
   "outputs": [],
   "source": [
    "# リスト 7-1-(14)\n",
    "from mpl_toolkits.mplot3d import Axes3D\n",
    "\n",
    "def show_activation3d(ax, v, v_ticks, title_str):\n",
    "    f = v.copy()\n",
    "    f = f.reshape(xn, xn)\n",
    "    f = f.T\n",
    "    ax.plot_surface(xx0, xx1, f, color='blue', edgecolor='black',\n",
    "                  rstride=1, cstride=1, alpha=0.5)\n",
    "    ax.view_init(70, -110)\n",
    "    ax.set_xticklabels([])\n",
    "    ax.set_yticklabels([])\n",
    "    ax.set_zticks(v_ticks)\n",
    "    ax.set_title(title_str, fontsize=18)\n",
    "    \n",
    "M = 2\n",
    "K = 3\n",
    "xn = 15 # 等高線表示の解像度\n",
    "x0 = np.linspace(X_range0[0], X_range0[1], xn)\n",
    "x1 = np.linspace(X_range1[0], X_range1[1], xn)\n",
    "xx0, xx1 = np.meshgrid(x0, x1)\n",
    "x = np.c_[np.reshape(xx0, xn * xn, 1), np.reshape(xx1, xn * xn, 1)]\n",
    "y, a, z, b = FNN(WV, M, K, x)\n",
    "\n",
    "fig = plt.figure(1, figsize=(12, 9))\n",
    "plt.subplots_adjust(left=0.075, bottom = 0.05, right=0.95,\n",
    "                   top = 0.95, wspace=0.4, hspace=0.4)\n",
    "for m in range(M):\n",
    "    ax = fig.add_subplot(3, 4, 1 + m * 4, projection='3d')\n",
    "    show_activation3d(ax, b[:, m], [-10, 10], '$b_{0:d}$'.format(m))\n",
    "    ax = fig.add_subplot(3, 4, 2 + m * 4, projection='3d')\n",
    "    show_activation3d(ax, z[:, m], [0, 1], '$z_{0:d}$'.format(m))\n",
    "\n",
    "for k in range(K):\n",
    "    ax = fig.add_subplot(3, 4, 3 + k * 4, projection='3d')\n",
    "    show_activation3d(ax, a[:, k], [-5, 5], '$a_{0:d}$'.format(k))\n",
    "    ax = fig.add_subplot(3, 4, 4 + k * 4, projection='3d')\n",
    "    show_activation3d(ax, y[:, k], [0, 1], '$y_{0:d}$'.format(k))\n",
    "    "
   ]
  },
  {
   "cell_type": "markdown",
   "metadata": {},
   "source": [
    "上の図は様々な入力 $x_0$, $x_1$ の場合の各変数を表している "
   ]
  },
  {
   "cell_type": "markdown",
   "metadata": {},
   "source": [
    "- 中間層の入力総和 $b_j$ は入力 $x_i$ の線形和なので平面になっている\n",
    "- シグモイド関数 $\\sigma()$ をくぐることによって $b_j$ の低い部分と高い部分に分かれて 0-1 の出力 $z_j$ になる\n",
    "\n",
    "\n",
    "- $a_k$ は $z_0$ と $z_1$ の線形和で作られている\n",
    "- 図をみると $a_0$ と $a_1$ は $z_0$ と $z_1$ を組み合わせたものだと分かる\n",
    "\n",
    "\n",
    "- $y_k$ は $a$ をソフトマックス関数で 0~1 の範囲に圧縮されて作られている\n",
    "- $y_0$ と $y_1$ と $y_2$ の面を全て足し合わせると高さが1の平面になる\n",
    "\n",
    "\n",
    "イメージできたでしょうか？"
   ]
  },
  {
   "cell_type": "markdown",
   "metadata": {},
   "source": [
    "# Keras でニューラルネットワークモデル"
   ]
  },
  {
   "cell_type": "markdown",
   "metadata": {},
   "source": [
    "- この節では TensorFlow および Keras を使用します．\n",
    "\n",
    "- これらを使うことによって大規模なニューラルネットワークが比較的短いコードで実装できかつ高速で動かすことができます．\n",
    "\n",
    "\n",
    "- Keras および TensorFlow は一章を参照してインストールを行ってください．\n",
    "\n",
    "- それぞれのバージョンは教科書のものに合わせた方が良いです(最新のものだと動かないことがありました)．"
   ]
  },
  {
   "cell_type": "code",
   "execution_count": null,
   "metadata": {},
   "outputs": [],
   "source": [
    "import keras"
   ]
  },
  {
   "cell_type": "markdown",
   "metadata": {},
   "source": [
    "こんな感じになってると OK"
   ]
  },
  {
   "cell_type": "code",
   "execution_count": null,
   "metadata": {},
   "outputs": [],
   "source": [
    "keras.__version__"
   ]
  },
  {
   "cell_type": "markdown",
   "metadata": {},
   "source": [
    "同じバージョンがおすすめです."
   ]
  },
  {
   "cell_type": "markdown",
   "metadata": {},
   "source": [
    "   # 7.3.1 2層フィードフォワードニューラルネット"
   ]
  },
  {
   "cell_type": "markdown",
   "metadata": {},
   "source": [
    "### Keras で上と同じ，3分類問題を解く二層フィードフォワードネットワークを作って動かしてみる"
   ]
  },
  {
   "cell_type": "markdown",
   "metadata": {},
   "source": [
    "まずメモリのリセットを行う\n",
    "\n",
    "- 変数や関数などの初期化"
   ]
  },
  {
   "cell_type": "code",
   "execution_count": null,
   "metadata": {},
   "outputs": [],
   "source": [
    "%reset"
   ]
  },
  {
   "cell_type": "markdown",
   "metadata": {},
   "source": [
    "なんかいっぱいエラーが出ますが大丈夫です．"
   ]
  },
  {
   "cell_type": "markdown",
   "metadata": {},
   "source": [
    "## 必要なライブラリの import  とデータの load"
   ]
  },
  {
   "cell_type": "markdown",
   "metadata": {},
   "source": [
    "- 初期化されているのでライブラリを再 import\n",
    "\n",
    "- リスト 7-1-(2) で保存していたデータから load "
   ]
  },
  {
   "cell_type": "code",
   "execution_count": null,
   "metadata": {},
   "outputs": [],
   "source": [
    "# リスト 7-2-(1)\n",
    "import numpy as np\n",
    "import matplotlib.pyplot as plt\n",
    "import time\n",
    "\n",
    "import tensorflow as tf\n",
    "\n",
    "np.random.seed(1) # (A)\n",
    "import keras.optimizers #  (B)\n",
    "from keras.models import Sequential # (C)\n",
    "from keras.layers.core import Dense, Activation # (D)\n",
    "\n",
    "\n",
    "\n",
    "# データの load -----------------------------------------------\n",
    "outfile = np.load('class_data.npz')\n",
    "X_train = outfile['X_train']\n",
    "T_train = outfile['T_train']\n",
    "X_test = outfile['X_test']\n",
    "T_test = outfile['T_test']\n",
    "X_range0 = outfile['X_range0']\n",
    "X_range1 = outfile['X_range1']"
   ]
  },
  {
   "cell_type": "markdown",
   "metadata": {},
   "source": [
    "(B),(C),(D) は Keras 関係のライブラリの import\n",
    "\n",
    "(A) は Keras 内で使われる乱数をリセットするためのコードで実行するたび同じ結果が得られます"
   ]
  },
  {
   "cell_type": "markdown",
   "metadata": {},
   "source": [
    "## 図示のための関数の再定義"
   ]
  },
  {
   "cell_type": "markdown",
   "metadata": {},
   "source": [
    "関数も初期化されているので再定義を行いましょう"
   ]
  },
  {
   "cell_type": "code",
   "execution_count": null,
   "metadata": {},
   "outputs": [],
   "source": [
    "# リスト 7-2-(2)\n",
    "# データの図示 -------------------------------------------------\n",
    "def Show_data(x, t):\n",
    "    wk, n = t.shape\n",
    "    c = [[0, 0, 0], [.5, .5, .5], [1, 1, 1]]\n",
    "    for i in range(n):\n",
    "        plt.plot(x[t[:, i] == 1, 0], x[t[:, i] == 1, 1],\n",
    "                linestyle='none', marker='o',\n",
    "                markeredgecolor='black',\n",
    "                color=c[i], alpha=0.8)\n",
    "        plt.grid(True)"
   ]
  },
  {
   "cell_type": "markdown",
   "metadata": {},
   "source": [
    "## Keras を使った2層フィードフォワードニューラルネットワークモデルの作成"
   ]
  },
  {
   "cell_type": "code",
   "execution_count": null,
   "metadata": {},
   "outputs": [],
   "source": [
    "# リスト 7-2-(3)\n",
    "\n",
    "# 乱数の初期化\n",
    "np.random.seed(1)\n",
    "\n",
    "# --- Sequential モデルの作成\n",
    "model = Sequential()\n",
    "\n",
    "model.add(Dense(2, input_dim=2, activation='sigmoid',\n",
    "                kernel_initializer='uniform')) # (A)\n",
    "model.add(Dense(3, activation='softmax',\n",
    "               kernel_initializer='uniform')) # (B)\n",
    "sgd = keras.optimizers.SGD(lr=0.5, momentum=0.0,\n",
    "                          decay=0.0, nesterov=False) # (C)\n",
    "model.compile(optimizer=sgd, loss='categorical_crossentropy',\n",
    "             metrics=['accuracy']) # (D)\n",
    "\n",
    "# ------------- 学習\n",
    "startTime = time.time()\n",
    "history = model.fit(X_train, T_train, epochs=1000, batch_size=100,\n",
    "                   verbose=0, validation_data=(X_test, T_test)) # (E)\n",
    "\n",
    "# -------------- モデル\n",
    "score = model.evaluate(X_test, T_test, verbose=0) # (F)\n",
    "print('cross entropy {0: .2f}, accuracy {1: .2f}'.format(score[0], score[1]))\n",
    "\n",
    "calculation_time = time.time() - startTime\n",
    "print(\"Calculation time:{0: .3f} sec\".format(calculation_time))\n"
   ]
  },
  {
   "cell_type": "markdown",
   "metadata": {},
   "source": [
    "- 7.2 節で作成した機能がこの短いプログラムで実現できている\n",
    "\n",
    "\n",
    "- 交差エントロピー誤差が 0.30 ，正答率が 0.88\n",
    "- 計算時間が上で作成した誤差逆伝播法や数値微分法に比べてかなり早くなっていることが分かる\n",
    "- Keras は非常に便利だといえる"
   ]
  },
  {
   "cell_type": "markdown",
   "metadata": {},
   "source": [
    "## 学習過程と結果の表示"
   ]
  },
  {
   "cell_type": "code",
   "execution_count": null,
   "metadata": {},
   "outputs": [],
   "source": [
    "# リスト 7-2-(4)\n",
    "plt.figure(1, figsize=(12, 3))\n",
    "plt.subplots_adjust(wspace=0.5)\n",
    "\n",
    "# 学習曲線表示 -------------------------------------------------\n",
    "plt.subplot(1, 3, 1)\n",
    "plt.plot(history.history['loss'], 'black', label='training') # (A)\n",
    "plt.plot(history.history['val_loss'], 'cornflowerblue', label='test') # (B)\n",
    "plt.legend()\n",
    "\n",
    "# 精度表示 -------------------------------------------------------\n",
    "plt.subplot(1, 3, 2)\n",
    "plt.plot(history.history['acc'], 'black', label='training') # (C)\n",
    "plt.plot(history.history['val_acc'], 'cornflowerblue', label='test') # (D)\n",
    "plt.legend()\n",
    "\n",
    "# 境界線表示 ----------------------------------------------------\n",
    "plt.subplot(1, 3, 3)\n",
    "Show_data(X_test, T_test)\n",
    "xn = 60 # 等高線表示の解像度\n",
    "x0 = np.linspace(X_range0[0], X_range0[1], xn)\n",
    "x1 = np.linspace(X_range1[0], X_range1[1], xn)\n",
    "xx0, xx1 = np.meshgrid(x0, x1)\n",
    "x = np.c_[np.reshape(xx0, xn * xn, 1), np.reshape(xx1, xn * xn, 1)]\n",
    "y = model.predict(x) # (E)\n",
    "K = 3 \n",
    "\n",
    "for ic in range(K):\n",
    "    f = y[:, ic]\n",
    "    f = f.reshape(xn, xn)\n",
    "    f = f.T\n",
    "    cont = plt.contour(xx0, xx1, f, levels=[0.5, 0.9], colors=['cornflowerblue', 'black'])\n",
    "    cont.clabel(fmt='%.1f', fontsize=9)\n",
    "    plt.xlim(X_range0)\n",
    "    plt.ylim(X_range1)\n",
    "plt.show()"
   ]
  },
  {
   "cell_type": "markdown",
   "metadata": {},
   "source": [
    "データの参照\n",
    "- history.history['loss'] → 訓練データの交差エントロピー誤差 (A)\n",
    "- history.history['val_loss'] → テストデータデータの交差エントロピー誤差 (B)\n",
    "- history.history['acc'] → 訓練データの正答率 (C)\n",
    "- history.history['val_acc'] → テストデータの正答率 (D)\n",
    "\n",
    "\n",
    "それぞれの図について\n",
    "- 左図\n",
    "    - 訓練データの誤差が速やかに減少していることがわかる \n",
    "    - テストデータの誤差も増加していないことからオーバーフィッティングが起きていないことがわかる\n",
    "\n",
    "\n",
    "- 真ん中の図\n",
    "    - 訓練データとテストデータの正答率を示している\n",
    "    - 学習が上手くいっていれば 1 に近づく\n",
    "    - ただし，目的関数とは異なるので減少することもある\n",
    "\n",
    "\n",
    "- 右図\n",
    "    - 学習したモデルが 7.2 節のモデルと同様にカテゴリー間の境界を表していることがわかる\n",
    "    \n",
    "\n",
    "以上で Keras を使用してこれまでのモデルと変わらずに学習させることができた."
   ]
  },
  {
   "cell_type": "code",
   "execution_count": null,
   "metadata": {},
   "outputs": [],
   "source": []
  }
 ],
 "metadata": {
  "kernelspec": {
   "display_name": "Python 3",
   "language": "python",
   "name": "python3"
  },
  "language_info": {
   "codemirror_mode": {
    "name": "ipython",
    "version": 3
   },
   "file_extension": ".py",
   "mimetype": "text/x-python",
   "name": "python",
   "nbconvert_exporter": "python",
   "pygments_lexer": "ipython3",
   "version": "3.8.5"
  }
 },
 "nbformat": 4,
 "nbformat_minor": 2
}
