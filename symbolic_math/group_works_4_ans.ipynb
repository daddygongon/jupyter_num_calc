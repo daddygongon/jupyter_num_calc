{
 "cells": [
  {
   "cell_type": "markdown",
   "metadata": {
    "toc": "true"
   },
   "source": [
    "# Table of Contents\n",
    " <p><div class=\"lev1 toc-item\"><a href=\"#目的：Google-page-rankと線形代数\" data-toc-modified-id=\"目的：Google-page-rankと線形代数-1\"><span class=\"toc-item-num\">1&nbsp;&nbsp;</span>目的：Google page rankと線形代数</a></div><div class=\"lev1 toc-item\"><a href=\"#解説\" data-toc-modified-id=\"解説-2\"><span class=\"toc-item-num\">2&nbsp;&nbsp;</span>解説</a></div><div class=\"lev2 toc-item\"><a href=\"#Google-page-rank\" data-toc-modified-id=\"Google-page-rank-21\"><span class=\"toc-item-num\">2.1&nbsp;&nbsp;</span>Google page rank</a></div><div class=\"lev2 toc-item\"><a href=\"#ランクの計算手順\" data-toc-modified-id=\"ランクの計算手順-22\"><span class=\"toc-item-num\">2.2&nbsp;&nbsp;</span>ランクの計算手順</a></div><div class=\"lev1 toc-item\"><a href=\"#演習\" data-toc-modified-id=\"演習-3\"><span class=\"toc-item-num\">3&nbsp;&nbsp;</span>演習</a></div><div class=\"lev2 toc-item\"><a href=\"#Page-Rankの手順の確認\" data-toc-modified-id=\"Page-Rankの手順の確認-31\"><span class=\"toc-item-num\">3.1&nbsp;&nbsp;</span>Page Rankの手順の確認</a></div><div class=\"lev3 toc-item\"><a href=\"#ヒント\" data-toc-modified-id=\"ヒント-311\"><span class=\"toc-item-num\">3.1.1&nbsp;&nbsp;</span>ヒント</a></div><div class=\"lev3 toc-item\"><a href=\"#ヒント\" data-toc-modified-id=\"ヒント-312\"><span class=\"toc-item-num\">3.1.2&nbsp;&nbsp;</span>ヒント</a></div><div class=\"lev3 toc-item\"><a href=\"#ヒント\" data-toc-modified-id=\"ヒント-313\"><span class=\"toc-item-num\">3.1.3&nbsp;&nbsp;</span>ヒント</a></div><div class=\"lev3 toc-item\"><a href=\"#解答例\" data-toc-modified-id=\"解答例-314\"><span class=\"toc-item-num\">3.1.4&nbsp;&nbsp;</span>解答例</a></div><div class=\"lev2 toc-item\"><a href=\"#初期ベクトルがちがうと...\" data-toc-modified-id=\"初期ベクトルがちがうと...-32\"><span class=\"toc-item-num\">3.2&nbsp;&nbsp;</span>初期ベクトルがちがうと...</a></div><div class=\"lev3 toc-item\"><a href=\"#解答例\" data-toc-modified-id=\"解答例-321\"><span class=\"toc-item-num\">3.2.1&nbsp;&nbsp;</span>解答例</a></div><div class=\"lev2 toc-item\"><a href=\"#固有ベクトルから確認\" data-toc-modified-id=\"固有ベクトルから確認-33\"><span class=\"toc-item-num\">3.3&nbsp;&nbsp;</span>固有ベクトルから確認</a></div><div class=\"lev3 toc-item\"><a href=\"#解答例\" data-toc-modified-id=\"解答例-331\"><span class=\"toc-item-num\">3.3.1&nbsp;&nbsp;</span>解答例</a></div>"
   ]
  },
  {
   "cell_type": "markdown",
   "metadata": {},
   "source": [
    "<br />\n",
    "\n",
    "<div style=\"text-align: center;\">\n",
    "<font size=\"5\">数式処理group work-4(Google page rank)</font>\n",
    "</div>\n",
    "<br />\n",
    "<div style=\"text-align: right;\">\n",
    "<font size=\"4\">file:/~/python/doing_math_with_python/group_works_4.ipynb</font>\n",
    "<br />\n",
    "<font size=\"4\">cc by Shigeto R. Nishitani 2009-2018  </font>\n",
    "</div> \n",
    "\n"
   ]
  },
  {
   "cell_type": "markdown",
   "metadata": {},
   "source": [
    "# 目的：Google page rankと線形代数\n",
    "\n",
    "Googleの躍進の土台となったPageRankは線形代数の計算です．\n",
    "線形代数のコマンドを実際に使いながら，その中身を理解して行くことを\n",
    "目的としています．"
   ]
  },
  {
   "cell_type": "markdown",
   "metadata": {},
   "source": [
    "# 解説\n",
    "## Google page rank\n",
    "\n",
    "Googleのpage rankは非常に単純な仮定\n",
    ">「多くの良質なページからリンクされているページはやはり良質なページである」\n",
    "\n",
    "から成り立っている．博士論文のテーマを探していたスタンフォード大学院コンピュータサイエンス学部時代のラリー・ペイジ(Larry Page)が考案しました．\n",
    "\n",
    "> 『そのアルゴリズムはペイジの名をとって「ページランク(Page Rank)」と呼ばれたが，\n",
    "> 特定のサイトに入るリンクの数と，リンクしたサイトのそれぞれに入るリンクの数の，\n",
    "> その両方を考慮に入れる．\n",
    "> これは学術論文の引用の度数計算の方法を手本にしており、予想通りに機能した』\n",
    "> (『ザ・サーチ　グーグルが世界を変えた』ジョン・バッテル著、中谷和男訳,2005年日経BP社)　\n",
    "\n",
    "詳しい解説はhttp://ja.wikipedia.org/wiki/ページランク\n",
    "にある．"
   ]
  },
  {
   "cell_type": "markdown",
   "metadata": {},
   "source": [
    "## ランクの計算手順\n",
    "\n",
    "つぎのようなリンクが張られたページ群を考える．\n",
    "<!-- ![](./figs/page_rank_sample.png) -->\n",
    "<img src=\"./figs/page_rank_sample.png\" alt=\"Drawing\" style=\"width: 400px;\"/>\n",
    "\n",
    "まずは，リンクを再現する隣接行列を作る．ページに番号をつけて，その間が結ばれている$i-j$要素を1，そうでない要素を0とする．\n",
    "上の例では，\n",
    "```\n",
    "1 2 3 4 5 6 7\n",
    "---\n",
    "0 1 1 1 1 0 1\n",
    "1 0 0 0 0 0 0\n",
    "1 1 0 0 0 0 0\n",
    "0 1 1 0 1 0 0\n",
    "1 0 1 1 0 1 0\n",
    "1 0 0 0 1 0 0\n",
    "0 0 0 0 1 0 0\n",
    "```\n",
    "となる．\n",
    "2.  この隣接行列を転置する．これはページランクが「どれだけリンクしているか」ではなく，「どれだけリンクされているか」を評価するためである．\n",
    "3.  転置した隣接行列tMのそれぞれの列ベクトルの総和が1となるように規格化して「推移確率行列」をつくる．（ヒント参照）\n",
    "4.  初期ベクトルとして，すべての要素が同じ値で，足して1になるような長さ7の列ベクトルを用意する．\n",
    "5.  初期ベクトルに何度か(例えば10回，あるいは収束するまで)推移確率行列を掛ける．この操作は，行列の最大固有値に属する固有ベクトルを見つけることに相当する．\n",
    "6.  得られたベクトルの各要素が対応するページの得点とみなせ，得点順にランクが高くなる．"
   ]
  },
  {
   "cell_type": "markdown",
   "metadata": {},
   "source": [
    "# 演習<a id=\"sec-3\" name=\"sec-3\"></a>"
   ]
  },
  {
   "cell_type": "markdown",
   "metadata": {},
   "source": [
    "## Page Rankの手順の確認\n",
    "\n",
    "うえの手順にしたがって，「推移確率行列(transition probability matrix)」trans_matを作り，初期ベクトル(init_v)に5回ほど作用させて数字の変化を観察せよ．ページランクはどうなるか．\n",
    "\n",
    "### ヒント\n",
    "\n",
    "手順２，３に於いて，和を取って規格化する代わりに，\n",
    "以下のようにして作成した対角(diagonal)行列VAを，\n",
    "転置した隣接行列tMに右からかければ推移確率行列が得られる．\n",
    "``` python\n",
    "> V = [1/5,1,1/2,1/3,1/4,1/2,1]\n",
    "> diag(*V)\n",
    "```\n",
    "\n",
    "### ヒント\n",
    "pythonでMatrixでvectorを作ろうとすると行ベクトルになります．\n",
    "右から掛けるときには転置(transpose)操作が必要です．\n",
    "\n",
    "### ヒント\n",
    "はじめに\n",
    "> init_printing()\n",
    "\n",
    "をいれておくと，固有値ベクトルとかの表示が綺麗．"
   ]
  },
  {
   "cell_type": "markdown",
   "metadata": {},
   "source": [
    "### 解答例"
   ]
  },
  {
   "cell_type": "code",
   "execution_count": 1,
   "metadata": {},
   "outputs": [
    {
     "data": {
      "image/png": "[encoded data removed]",
      "text/latex": [
       "$$\\left[\\begin{matrix}0 & 1 & 1 & 1 & 1 & 0 & 1\\\\1 & 0 & 0 & 0 & 0 & 0 & 0\\\\1 & 1 & 0 & 0 & 0 & 0 & 0\\\\0 & 1 & 1 & 0 & 1 & 0 & 0\\\\1 & 0 & 1 & 1 & 0 & 1 & 0\\\\1 & 0 & 0 & 0 & 1 & 0 & 0\\\\0 & 0 & 0 & 0 & 1 & 0 & 0\\end{matrix}\\right]$$"
      ],
      "text/plain": [
       "⎡0  1  1  1  1  0  1⎤\n",
       "⎢                   ⎥\n",
       "⎢1  0  0  0  0  0  0⎥\n",
       "⎢                   ⎥\n",
       "⎢1  1  0  0  0  0  0⎥\n",
       "⎢                   ⎥\n",
       "⎢0  1  1  0  1  0  0⎥\n",
       "⎢                   ⎥\n",
       "⎢1  0  1  1  0  1  0⎥\n",
       "⎢                   ⎥\n",
       "⎢1  0  0  0  1  0  0⎥\n",
       "⎢                   ⎥\n",
       "⎣0  0  0  0  1  0  0⎦"
      ]
     },
     "execution_count": 1,
     "metadata": {},
     "output_type": "execute_result"
    }
   ],
   "source": [
    "from sympy import *\n",
    "init_printing()\n",
    "M = Matrix([[0, 1, 1, 1, 1, 0, 1],\n",
    "[1, 0, 0, 0, 0, 0, 0],\n",
    "[1, 1, 0, 0, 0, 0, 0],\n",
    "[0, 1, 1, 0, 1, 0, 0],\n",
    "[1, 0, 1, 1, 0, 1, 0],\n",
    "[1, 0, 0, 0, 1, 0, 0],\n",
    "[0, 0, 0, 0, 1, 0, 0]])\n",
    "M"
   ]
  },
  {
   "cell_type": "code",
   "execution_count": 2,
   "metadata": {},
   "outputs": [
    {
     "data": {
      "image/png": "[encoded data removed]",
      "text/latex": [
       "$$\\left[\\begin{matrix}0 & 1 & 1 & 0 & 1 & 1 & 0\\\\1 & 0 & 1 & 1 & 0 & 0 & 0\\\\1 & 0 & 0 & 1 & 1 & 0 & 0\\\\1 & 0 & 0 & 0 & 1 & 0 & 0\\\\1 & 0 & 0 & 1 & 0 & 1 & 1\\\\0 & 0 & 0 & 0 & 1 & 0 & 0\\\\1 & 0 & 0 & 0 & 0 & 0 & 0\\end{matrix}\\right]$$"
      ],
      "text/plain": [
       "⎡0  1  1  0  1  1  0⎤\n",
       "⎢                   ⎥\n",
       "⎢1  0  1  1  0  0  0⎥\n",
       "⎢                   ⎥\n",
       "⎢1  0  0  1  1  0  0⎥\n",
       "⎢                   ⎥\n",
       "⎢1  0  0  0  1  0  0⎥\n",
       "⎢                   ⎥\n",
       "⎢1  0  0  1  0  1  1⎥\n",
       "⎢                   ⎥\n",
       "⎢0  0  0  0  1  0  0⎥\n",
       "⎢                   ⎥\n",
       "⎣1  0  0  0  0  0  0⎦"
      ]
     },
     "execution_count": 2,
     "metadata": {},
     "output_type": "execute_result"
    }
   ],
   "source": [
    "Mt = M.T\n",
    "Mt"
   ]
  },
  {
   "cell_type": "code",
   "execution_count": 3,
   "metadata": {},
   "outputs": [
    {
     "data": {
      "image/png": "[encoded data removed]",
      "text/latex": [
       "$$\\left[\\begin{matrix}\\frac{1}{5} & 0 & 0 & 0 & 0 & 0 & 0\\\\0 & 1 & 0 & 0 & 0 & 0 & 0\\\\0 & 0 & \\frac{1}{2} & 0 & 0 & 0 & 0\\\\0 & 0 & 0 & \\frac{1}{3} & 0 & 0 & 0\\\\0 & 0 & 0 & 0 & \\frac{1}{4} & 0 & 0\\\\0 & 0 & 0 & 0 & 0 & \\frac{1}{2} & 0\\\\0 & 0 & 0 & 0 & 0 & 0 & 1\\end{matrix}\\right]$$"
      ],
      "text/plain": [
       "⎡1/5  0   0    0    0    0   0⎤\n",
       "⎢                             ⎥\n",
       "⎢ 0   1   0    0    0    0   0⎥\n",
       "⎢                             ⎥\n",
       "⎢ 0   0  1/2   0    0    0   0⎥\n",
       "⎢                             ⎥\n",
       "⎢ 0   0   0   1/3   0    0   0⎥\n",
       "⎢                             ⎥\n",
       "⎢ 0   0   0    0   1/4   0   0⎥\n",
       "⎢                             ⎥\n",
       "⎢ 0   0   0    0    0   1/2  0⎥\n",
       "⎢                             ⎥\n",
       "⎣ 0   0   0    0    0    0   1⎦"
      ]
     },
     "execution_count": 3,
     "metadata": {},
     "output_type": "execute_result"
    }
   ],
   "source": [
    "V = [1/5,1,1/2,1/3,1/4,1/2,1]\n",
    "V = [Rational(1,5),1,Rational(1,2),Rational(1,3),Rational(1,4),Rational(1,2),1]\n",
    "VA = diag(*V)\n",
    "VA"
   ]
  },
  {
   "cell_type": "code",
   "execution_count": 4,
   "metadata": {},
   "outputs": [
    {
     "data": {
      "image/png": "[encoded data removed]",
      "text/latex": [
       "$$\\left[\\begin{matrix}0 & 1 & \\frac{1}{2} & 0 & \\frac{1}{4} & \\frac{1}{2} & 0\\\\\\frac{1}{5} & 0 & \\frac{1}{2} & \\frac{1}{3} & 0 & 0 & 0\\\\\\frac{1}{5} & 0 & 0 & \\frac{1}{3} & \\frac{1}{4} & 0 & 0\\\\\\frac{1}{5} & 0 & 0 & 0 & \\frac{1}{4} & 0 & 0\\\\\\frac{1}{5} & 0 & 0 & \\frac{1}{3} & 0 & \\frac{1}{2} & 1\\\\0 & 0 & 0 & 0 & \\frac{1}{4} & 0 & 0\\\\\\frac{1}{5} & 0 & 0 & 0 & 0 & 0 & 0\\end{matrix}\\right]$$"
      ],
      "text/plain": [
       "⎡ 0   1  1/2   0   1/4  1/2  0⎤\n",
       "⎢                             ⎥\n",
       "⎢1/5  0  1/2  1/3   0    0   0⎥\n",
       "⎢                             ⎥\n",
       "⎢1/5  0   0   1/3  1/4   0   0⎥\n",
       "⎢                             ⎥\n",
       "⎢1/5  0   0    0   1/4   0   0⎥\n",
       "⎢                             ⎥\n",
       "⎢1/5  0   0   1/3   0   1/2  1⎥\n",
       "⎢                             ⎥\n",
       "⎢ 0   0   0    0   1/4   0   0⎥\n",
       "⎢                             ⎥\n",
       "⎣1/5  0   0    0    0    0   0⎦"
      ]
     },
     "execution_count": 4,
     "metadata": {},
     "output_type": "execute_result"
    }
   ],
   "source": [
    "trans_mat = Mt*VA\n",
    "trans_mat"
   ]
  },
  {
   "cell_type": "code",
   "execution_count": 5,
   "metadata": {},
   "outputs": [
    {
     "data": {
      "image/png": "[encoded data removed]",
      "text/latex": [
       "$$\\left ( 1, \\quad 7\\right )$$"
      ],
      "text/plain": [
       "(1, 7)"
      ]
     },
     "execution_count": 5,
     "metadata": {},
     "output_type": "execute_result"
    }
   ],
   "source": [
    "v_init = Matrix([[1/7,1/7,1/7,1/7,1/7,1/7,1/7]])\n",
    "v_init.shape"
   ]
  },
  {
   "cell_type": "code",
   "execution_count": 6,
   "metadata": {},
   "outputs": [
    {
     "data": {
      "image/png": "[encoded data removed]",
      "text/latex": [
       "$$\\left[\\begin{matrix}0.321428571428571\\\\0.147619047619048\\\\0.111904761904762\\\\0.0642857142857143\\\\0.29047619047619\\\\0.0357142857142857\\\\0.0285714285714286\\end{matrix}\\right]$$"
      ],
      "text/plain": [
       "⎡0.321428571428571 ⎤\n",
       "⎢                  ⎥\n",
       "⎢0.147619047619048 ⎥\n",
       "⎢                  ⎥\n",
       "⎢0.111904761904762 ⎥\n",
       "⎢                  ⎥\n",
       "⎢0.0642857142857143⎥\n",
       "⎢                  ⎥\n",
       "⎢ 0.29047619047619 ⎥\n",
       "⎢                  ⎥\n",
       "⎢0.0357142857142857⎥\n",
       "⎢                  ⎥\n",
       "⎣0.0285714285714286⎦"
      ]
     },
     "execution_count": 6,
     "metadata": {},
     "output_type": "execute_result"
    }
   ],
   "source": [
    "trans_mat* v_init.T"
   ]
  },
  {
   "cell_type": "code",
   "execution_count": 7,
   "metadata": {},
   "outputs": [
    {
     "data": {
      "image/png": "[encoded data removed]",
      "text/latex": [
       "$$\\left[\\begin{matrix}0.30766724537037\\\\0.164527033730159\\\\0.139831762566138\\\\0.104824983465608\\\\0.178323991402116\\\\0.0460308366402116\\\\0.0587941468253968\\end{matrix}\\right]$$"
      ],
      "text/plain": [
       "⎡ 0.30766724537037 ⎤\n",
       "⎢                  ⎥\n",
       "⎢0.164527033730159 ⎥\n",
       "⎢                  ⎥\n",
       "⎢0.139831762566138 ⎥\n",
       "⎢                  ⎥\n",
       "⎢0.104824983465608 ⎥\n",
       "⎢                  ⎥\n",
       "⎢0.178323991402116 ⎥\n",
       "⎢                  ⎥\n",
       "⎢0.0460308366402116⎥\n",
       "⎢                  ⎥\n",
       "⎣0.0587941468253968⎦"
      ]
     },
     "execution_count": 7,
     "metadata": {},
     "output_type": "execute_result"
    }
   ],
   "source": [
    "trans_mat* trans_mat* trans_mat* trans_mat* trans_mat* trans_mat* v_init.T"
   ]
  },
  {
   "cell_type": "markdown",
   "metadata": {},
   "source": [
    "ページランクは1->5->2->3->4->7->6となる"
   ]
  },
  {
   "cell_type": "markdown",
   "metadata": {},
   "source": [
    "## 初期ベクトルがちがうと...<a id=\"sec-3-2\" name=\"sec-3-2\"></a>\n",
    "\n",
    "初期ベクトルを\n",
    "``` python\n",
    "> v_init=Matrix([100,0,0,0,0,0,0])\n",
    "```\n",
    "\n",
    "として，推移確率行列に右から掛け，それに伴うベクトルの各要素の変化を観察し，前問と比較せよ．その結果から，推移確率行列を掛けることによってどのように状態が推移していくか，漸近していく様子を記述せよ．\n"
   ]
  },
  {
   "cell_type": "markdown",
   "metadata": {},
   "source": [
    "### 解答例"
   ]
  },
  {
   "cell_type": "code",
   "execution_count": 9,
   "metadata": {},
   "outputs": [
    {
     "data": {
      "image/png": "[encoded data removed]",
      "text/latex": [
       "$$\\left[\\begin{matrix}\\frac{2311}{72}\\\\\\frac{11189}{720}\\\\\\frac{2521}{180}\\\\\\frac{3947}{360}\\\\\\frac{3943}{240}\\\\\\frac{191}{36}\\\\\\frac{679}{120}\\end{matrix}\\right]$$"
      ],
      "text/plain": [
       "⎡2311 ⎤\n",
       "⎢──── ⎥\n",
       "⎢ 72  ⎥\n",
       "⎢     ⎥\n",
       "⎢11189⎥\n",
       "⎢─────⎥\n",
       "⎢ 720 ⎥\n",
       "⎢     ⎥\n",
       "⎢2521 ⎥\n",
       "⎢──── ⎥\n",
       "⎢180  ⎥\n",
       "⎢     ⎥\n",
       "⎢3947 ⎥\n",
       "⎢──── ⎥\n",
       "⎢360  ⎥\n",
       "⎢     ⎥\n",
       "⎢3943 ⎥\n",
       "⎢──── ⎥\n",
       "⎢240  ⎥\n",
       "⎢     ⎥\n",
       "⎢ 191 ⎥\n",
       "⎢ ─── ⎥\n",
       "⎢  36 ⎥\n",
       "⎢     ⎥\n",
       "⎢ 679 ⎥\n",
       "⎢ ─── ⎥\n",
       "⎣ 120 ⎦"
      ]
     },
     "execution_count": 9,
     "metadata": {},
     "output_type": "execute_result"
    }
   ],
   "source": [
    "v_init=Matrix([100,0,0,0,0,0,0])\n",
    "trans_mat * trans_mat * trans_mat * trans_mat * trans_mat * v_init"
   ]
  },
  {
   "cell_type": "markdown",
   "metadata": {},
   "source": [
    "要素のそれぞれの値は初期値が違うので，異なっている．しかし，何度かかけた後のページランク(順位)は先ほどの等確率の初期値を使った場合と同じである．初期値がどうであろうと，つまりどこから入ったとしても，いくつかリンクをたどった後は同じサイトに行き着く．ステップを繰り返すと定常状態になることが期待される．これがPage Rankの値の安定性を保証し，ランクの信頼性につながっている．"
   ]
  },
  {
   "cell_type": "markdown",
   "metadata": {},
   "source": [
    "## 固有ベクトルから確認<a id=\"sec-3-3\" name=\"sec-3-3\"></a>\n",
    "\n",
    "推移確率行列の固有値・固有ベクトルをもとめ，最大固有値に対応する固有ベクトルを取り出せ．\n",
    "前問までに得られた結果と比較し，一致していることを確かめよ．\n",
    "ただし，固有ベクトルの大きさは任意であるため，norm()で規格化しておくと比較しやすい．\n",
    "\n",
    "### 解答例"
   ]
  },
  {
   "cell_type": "code",
   "execution_count": 10,
   "metadata": {},
   "outputs": [
    {
     "data": {
      "image/png": "[encoded data removed]",
      "text/latex": [
       "$$\\left [ \\left ( 0, \\quad 1, \\quad \\left [ \\left[\\begin{matrix}0\\\\1\\\\0\\\\0\\\\0\\\\-2\\\\1\\end{matrix}\\right]\\right ]\\right ), \\quad \\left ( 1, \\quad 1, \\quad \\left [ \\left[\\begin{matrix}5\\\\\\frac{52}{19}\\\\\\frac{44}{19}\\\\\\frac{33}{19}\\\\\\frac{56}{19}\\\\\\frac{14}{19}\\\\1\\end{matrix}\\right]\\right ]\\right )\\right ]$$"
      ],
      "text/plain": [
       "⎡⎛0, 1, ⎡⎡0 ⎤⎤⎞, ⎛1, 1, ⎡⎡5 ⎤⎤⎞⎤\n",
       "⎢⎜      ⎢⎢  ⎥⎥⎟  ⎜      ⎢⎢  ⎥⎥⎟⎥\n",
       "⎢⎜      ⎢⎢1 ⎥⎥⎟  ⎜      ⎢⎢52⎥⎥⎟⎥\n",
       "⎢⎜      ⎢⎢  ⎥⎥⎟  ⎜      ⎢⎢──⎥⎥⎟⎥\n",
       "⎢⎜      ⎢⎢0 ⎥⎥⎟  ⎜      ⎢⎢19⎥⎥⎟⎥\n",
       "⎢⎜      ⎢⎢  ⎥⎥⎟  ⎜      ⎢⎢  ⎥⎥⎟⎥\n",
       "⎢⎜      ⎢⎢0 ⎥⎥⎟  ⎜      ⎢⎢44⎥⎥⎟⎥\n",
       "⎢⎜      ⎢⎢  ⎥⎥⎟  ⎜      ⎢⎢──⎥⎥⎟⎥\n",
       "⎢⎜      ⎢⎢0 ⎥⎥⎟  ⎜      ⎢⎢19⎥⎥⎟⎥\n",
       "⎢⎜      ⎢⎢  ⎥⎥⎟  ⎜      ⎢⎢  ⎥⎥⎟⎥\n",
       "⎢⎜      ⎢⎢-2⎥⎥⎟  ⎜      ⎢⎢33⎥⎥⎟⎥\n",
       "⎢⎜      ⎢⎢  ⎥⎥⎟  ⎜      ⎢⎢──⎥⎥⎟⎥\n",
       "⎢⎝      ⎣⎣1 ⎦⎦⎠  ⎜      ⎢⎢19⎥⎥⎟⎥\n",
       "⎢                ⎜      ⎢⎢  ⎥⎥⎟⎥\n",
       "⎢                ⎜      ⎢⎢56⎥⎥⎟⎥\n",
       "⎢                ⎜      ⎢⎢──⎥⎥⎟⎥\n",
       "⎢                ⎜      ⎢⎢19⎥⎥⎟⎥\n",
       "⎢                ⎜      ⎢⎢  ⎥⎥⎟⎥\n",
       "⎢                ⎜      ⎢⎢14⎥⎥⎟⎥\n",
       "⎢                ⎜      ⎢⎢──⎥⎥⎟⎥\n",
       "⎢                ⎜      ⎢⎢19⎥⎥⎟⎥\n",
       "⎢                ⎜      ⎢⎢  ⎥⎥⎟⎥\n",
       "⎣                ⎝      ⎣⎣1 ⎦⎦⎠⎦"
      ]
     },
     "execution_count": 10,
     "metadata": {},
     "output_type": "execute_result"
    }
   ],
   "source": [
    "# trans_mat.eigenvects(error_when_incomplete=False)\n",
    "trans_mat.eigenvects()"
   ]
  },
  {
   "cell_type": "markdown",
   "metadata": {},
   "source": [
    "my mac上ではうまく行くが，大学PC上ではエラーが出る場合がある．versionの違いによるらしい．eigenvectorsをerror_when_incomplete=Falseのオプションをつけてやると通る．その場合，初めの推移確率行列の値を単に分数で与えるのでなく，Rationalとして与える必要がある．（挙動の細かいところは不明なので，sympyのversionによるかもしれない．要確認19/5/24)\n"
   ]
  },
  {
   "cell_type": "code",
   "execution_count": 11,
   "metadata": {},
   "outputs": [],
   "source": [
    "v = Matrix(trans_mat.eigenvects()[1][2])"
   ]
  },
  {
   "cell_type": "code",
   "execution_count": 12,
   "metadata": {},
   "outputs": [
    {
     "data": {
      "image/png": "[encoded data removed]",
      "text/latex": [
       "$$\\left[\\begin{matrix}\\frac{9500 \\sqrt{18447}}{18447}\\\\\\frac{400 \\sqrt{18447}}{1419}\\\\\\frac{400 \\sqrt{18447}}{1677}\\\\\\frac{100 \\sqrt{18447}}{559}\\\\\\frac{5600 \\sqrt{18447}}{18447}\\\\\\frac{1400 \\sqrt{18447}}{18447}\\\\\\frac{1900 \\sqrt{18447}}{18447}\\end{matrix}\\right]$$"
      ],
      "text/plain": [
       "⎡9500⋅√18447⎤\n",
       "⎢───────────⎥\n",
       "⎢   18447   ⎥\n",
       "⎢           ⎥\n",
       "⎢400⋅√18447 ⎥\n",
       "⎢────────── ⎥\n",
       "⎢   1419    ⎥\n",
       "⎢           ⎥\n",
       "⎢400⋅√18447 ⎥\n",
       "⎢────────── ⎥\n",
       "⎢   1677    ⎥\n",
       "⎢           ⎥\n",
       "⎢100⋅√18447 ⎥\n",
       "⎢────────── ⎥\n",
       "⎢   559     ⎥\n",
       "⎢           ⎥\n",
       "⎢5600⋅√18447⎥\n",
       "⎢───────────⎥\n",
       "⎢   18447   ⎥\n",
       "⎢           ⎥\n",
       "⎢1400⋅√18447⎥\n",
       "⎢───────────⎥\n",
       "⎢   18447   ⎥\n",
       "⎢           ⎥\n",
       "⎢1900⋅√18447⎥\n",
       "⎢───────────⎥\n",
       "⎣   18447   ⎦"
      ]
     },
     "execution_count": 12,
     "metadata": {},
     "output_type": "execute_result"
    }
   ],
   "source": [
    "v/v.norm()*100"
   ]
  },
  {
   "cell_type": "markdown",
   "metadata": {
    "collapsed": true
   },
   "source": [
    "Page Rankが最大固有値の固有ベクトルと一致することが，どのような初期値であろうと最終状態のベクトルが安定することを保証している．この導出は，[la_eigen_vectors.ipynb](https://nbviewer.jupyter.org/github/daddygongon/jupyter_num_calc/blob/master/numerical_calc/la_eigen_vectors.ipynb)の4節に示した．"
   ]
  },
  {
   "cell_type": "code",
   "execution_count": null,
   "metadata": {},
   "outputs": [],
   "source": [
    "\n"
   ]
  },
  {
   "cell_type": "code",
   "execution_count": null,
   "metadata": {},
   "outputs": [],
   "source": []
  }
 ],
 "metadata": {
  "kernelspec": {
   "display_name": "Python 3",
   "language": "python",
   "name": "python3"
  },
  "language_info": {
   "codemirror_mode": {
    "name": "ipython",
    "version": 3
   },
   "file_extension": ".py",
   "mimetype": "text/x-python",
   "name": "python",
   "nbconvert_exporter": "python",
   "pygments_lexer": "ipython3",
   "version": "3.6.1"
  },
  "latex_envs": {
   "LaTeX_envs_menu_present": true,
   "autocomplete": true,
   "bibliofile": "biblio.bib",
   "cite_by": "apalike",
   "current_citInitial": 1,
   "eqLabelWithNumbers": true,
   "eqNumInitial": 1,
   "hotkeys": {
    "equation": "Ctrl-E",
    "itemize": "Ctrl-I"
   },
   "labels_anchors": false,
   "latex_user_defs": false,
   "report_style_numbering": false,
   "user_envs_cfg": false
  },
  "toc": {
   "colors": {
    "hover_highlight": "#DAA520",
    "navigate_num": "#000000",
    "navigate_text": "#333333",
    "running_highlight": "#FF0000",
    "selected_highlight": "#FFD700",
    "sidebar_border": "#EEEEEE",
    "wrapper_background": "#FFFFFF"
   },
   "moveMenuLeft": true,
   "nav_menu": {
    "height": "30px",
    "width": "252px"
   },
   "navigate_menu": true,
   "number_sections": true,
   "sideBar": true,
   "threshold": 4,
   "toc_cell": true,
   "toc_section_display": "block",
   "toc_window_display": false,
   "widenNotebook": false
  }
 },
 "nbformat": 4,
 "nbformat_minor": 2
}
