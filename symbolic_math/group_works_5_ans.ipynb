{
 "cells": [
  {
   "cell_type": "markdown",
   "metadata": {
    "toc": "true"
   },
   "source": [
    "# Table of Contents\n",
    " <p><div class=\"lev1 toc-item\"><a href=\"#解答例\" data-toc-modified-id=\"解答例-1\"><span class=\"toc-item-num\">1&nbsp;&nbsp;</span>解答例</a></div><div class=\"lev2 toc-item\"><a href=\"#1\" data-toc-modified-id=\"1-11\"><span class=\"toc-item-num\">1.1&nbsp;&nbsp;</span>1</a></div><div class=\"lev2 toc-item\"><a href=\"#2\" data-toc-modified-id=\"2-12\"><span class=\"toc-item-num\">1.2&nbsp;&nbsp;</span>2</a></div><div class=\"lev2 toc-item\"><a href=\"#3\" data-toc-modified-id=\"3-13\"><span class=\"toc-item-num\">1.3&nbsp;&nbsp;</span>3</a></div><div class=\"lev2 toc-item\"><a href=\"#別解\" data-toc-modified-id=\"別解-14\"><span class=\"toc-item-num\">1.4&nbsp;&nbsp;</span>別解</a></div><div class=\"lev2 toc-item\"><a href=\"#4\" data-toc-modified-id=\"4-15\"><span class=\"toc-item-num\">1.5&nbsp;&nbsp;</span>4</a></div>"
   ]
  },
  {
   "cell_type": "markdown",
   "metadata": {},
   "source": [
    "# 解答例\n"
   ]
  },
  {
   "cell_type": "markdown",
   "metadata": {
    "heading_collapsed": true
   },
   "source": [
    "## 1\n",
    "\n",
    "代入して方程式の解を求める典型的な問題です．\n",
    "\n",
    "一歩づつ，出力しながら変形していくのがコツ．\n",
    "数式処理ソフトはやり方を教えないと動かないよ．\n",
    "\n",
    "```\n",
    "代入:  subs\n",
    "展開:  expand\n",
    "方程式の解: solve(eq, a)\n",
    "```\n",
    "\n",
    "sympyでは方程式の解solveに渡す式(eq)=0が成り立つ未知数(a)をとく．eqにはあらかじめ0となるように右辺を移項した式を求めておく必要がある．"
   ]
  },
  {
   "cell_type": "code",
   "execution_count": 1,
   "metadata": {
    "hidden": true
   },
   "outputs": [
    {
     "name": "stdout",
     "output_type": "stream",
     "text": [
      "IPython console for SymPy 1.0 (Python 3.6.1-64-bit) (ground types: python)\n",
      "\n",
      "These commands were executed:\n",
      ">>> from __future__ import division\n",
      ">>> from sympy import *\n",
      ">>> x, y, z, t = symbols('x y z t')\n",
      ">>> k, m, n = symbols('k m n', integer=True)\n",
      ">>> f, g, h = symbols('f g h', cls=Function)\n",
      ">>> init_printing()\n",
      "\n",
      "Documentation can be found at http://docs.sympy.org/1.0/\n"
     ]
    }
   ],
   "source": [
    "from sympy import *\n",
    "init_session()"
   ]
  },
  {
   "cell_type": "code",
   "execution_count": 2,
   "metadata": {
    "collapsed": true,
    "hidden": true
   },
   "outputs": [],
   "source": [
    "x,a = symbols('x a')"
   ]
  },
  {
   "cell_type": "code",
   "execution_count": 3,
   "metadata": {
    "collapsed": true,
    "hidden": true
   },
   "outputs": [],
   "source": [
    "P = x*(x+3)*(2*x-3)"
   ]
  },
  {
   "cell_type": "code",
   "execution_count": 4,
   "metadata": {
    "hidden": true
   },
   "outputs": [
    {
     "data": {
      "image/png": "[encoded data removed]",
      "text/latex": [
       "$$2 a^{3} + 9 a^{2} + 3 a - 4$$"
      ],
      "text/plain": [
       "   3      2          \n",
       "2⋅a  + 9⋅a  + 3⋅a - 4"
      ]
     },
     "execution_count": 4,
     "metadata": {},
     "output_type": "execute_result"
    }
   ],
   "source": [
    "P0 = expand(P.subs({x:a+1}))\n",
    "P0"
   ]
  },
  {
   "cell_type": "code",
   "execution_count": 5,
   "metadata": {
    "hidden": true
   },
   "outputs": [
    {
     "data": {
      "image/png": "[encoded data removed]",
      "text/latex": [
       "$$2 a^{3} + 3 a^{2} - 9 a$$"
      ],
      "text/plain": [
       "   3      2      \n",
       "2⋅a  + 3⋅a  - 9⋅a"
      ]
     },
     "execution_count": 5,
     "metadata": {},
     "output_type": "execute_result"
    }
   ],
   "source": [
    "P1 = expand(P.subs({x:a}))\n",
    "P1"
   ]
  },
  {
   "cell_type": "code",
   "execution_count": 6,
   "metadata": {
    "hidden": true
   },
   "outputs": [
    {
     "data": {
      "image/png": "[encoded data removed]",
      "text/latex": [
       "$$3 a^{2} + 6 a - 2$$"
      ],
      "text/plain": [
       "   2          \n",
       "3⋅a  + 6⋅a - 2"
      ]
     },
     "execution_count": 6,
     "metadata": {},
     "output_type": "execute_result"
    }
   ],
   "source": [
    "eq1 = (P0-P1)/2\n",
    "eq1"
   ]
  },
  {
   "cell_type": "code",
   "execution_count": 7,
   "metadata": {
    "hidden": true
   },
   "outputs": [
    {
     "data": {
      "image/png": "[encoded data removed]",
      "text/latex": [
       "$$\\left [ -1 + \\frac{\\sqrt{15}}{3}, \\quad - \\frac{\\sqrt{15}}{3} - 1\\right ]$$"
      ],
      "text/plain": [
       "⎡     √15    √15    ⎤\n",
       "⎢-1 + ───, - ─── - 1⎥\n",
       "⎣      3      3     ⎦"
      ]
     },
     "execution_count": 7,
     "metadata": {},
     "output_type": "execute_result"
    }
   ],
   "source": [
    "solve(eq1,a)"
   ]
  },
  {
   "cell_type": "markdown",
   "metadata": {
    "heading_collapsed": true
   },
   "source": [
    "## 2\n",
    "\n",
    "高校の一年生の時にやる平方完成ですが，sympyに限らず数式処理ソフトは苦手なようです．微分して頂点の座標を求めて作って行きます．"
   ]
  },
  {
   "cell_type": "code",
   "execution_count": 8,
   "metadata": {
    "hidden": true
   },
   "outputs": [
    {
     "name": "stdout",
     "output_type": "stream",
     "text": [
      "IPython console for SymPy 1.0 (Python 3.6.1-64-bit) (ground types: python)\n",
      "\n",
      "These commands were executed:\n",
      ">>> from __future__ import division\n",
      ">>> from sympy import *\n",
      ">>> x, y, z, t = symbols('x y z t')\n",
      ">>> k, m, n = symbols('k m n', integer=True)\n",
      ">>> f, g, h = symbols('f g h', cls=Function)\n",
      ">>> init_printing()\n",
      "\n",
      "Documentation can be found at http://docs.sympy.org/1.0/\n"
     ]
    },
    {
     "data": {
      "image/png": "[encoded data removed]",
      "text/latex": [
       "$$2 x + 3$$"
      ],
      "text/plain": [
       "2⋅x + 3"
      ]
     },
     "execution_count": 8,
     "metadata": {},
     "output_type": "execute_result"
    }
   ],
   "source": [
    "from sympy import *\n",
    "init_session()\n",
    "x = symbols('x')\n",
    "\n",
    "f = x**2+3*x-2\n",
    "eq1 = diff(f,x)\n",
    "eq1"
   ]
  },
  {
   "cell_type": "code",
   "execution_count": 9,
   "metadata": {
    "hidden": true
   },
   "outputs": [
    {
     "data": {
      "image/png": "[encoded data removed]",
      "text/latex": [
       "$$\\left [ - \\frac{3}{2}\\right ]$$"
      ],
      "text/plain": [
       "[-3/2]"
      ]
     },
     "execution_count": 9,
     "metadata": {},
     "output_type": "execute_result"
    }
   ],
   "source": [
    "solve(eq1,x)"
   ]
  },
  {
   "cell_type": "code",
   "execution_count": 10,
   "metadata": {
    "hidden": true
   },
   "outputs": [
    {
     "data": {
      "image/png": "[encoded data removed]",
      "text/latex": [
       "$$-4.25$$"
      ],
      "text/plain": [
       "-4.25000000000000"
      ]
     },
     "execution_count": 10,
     "metadata": {},
     "output_type": "execute_result"
    }
   ],
   "source": [
    "f.subs({x:-3/2})"
   ]
  },
  {
   "cell_type": "code",
   "execution_count": 11,
   "metadata": {
    "hidden": true
   },
   "outputs": [
    {
     "data": {
      "image/png": "[encoded data removed]",
      "text/latex": [
       "$$\\left [ - \\frac{3}{2} + \\frac{\\sqrt{17}}{2}, \\quad - \\frac{\\sqrt{17}}{2} - \\frac{3}{2}\\right ]$$"
      ],
      "text/plain": [
       "⎡  3   √17    √17   3⎤\n",
       "⎢- ─ + ───, - ─── - ─⎥\n",
       "⎣  2    2      2    2⎦"
      ]
     },
     "execution_count": 11,
     "metadata": {},
     "output_type": "execute_result"
    }
   ],
   "source": [
    "solve(f,x)"
   ]
  },
  {
   "cell_type": "code",
   "execution_count": 12,
   "metadata": {
    "hidden": true
   },
   "outputs": [
    {
     "name": "stdout",
     "output_type": "stream",
     "text": [
      "7*x - 6\n"
     ]
    }
   ],
   "source": [
    "def l_y(x, x1):\n",
    "    m = diff(f,x)\n",
    "    eq = m.subs({x:x1})*(x-x1)+f.subs({x:x1})\n",
    "    return eq\n",
    "\n",
    "print(l_y(x,2))"
   ]
  },
  {
   "cell_type": "code",
   "execution_count": 13,
   "metadata": {
    "hidden": true
   },
   "outputs": [
    {
     "data": {
      "image/png": "[encoded data removed]",
      "text/plain": [
       "<matplotlib.figure.Figure at 0x10f2c8eb8>"
      ]
     },
     "metadata": {},
     "output_type": "display_data"
    },
    {
     "data": {
      "text/plain": [
       "<sympy.plotting.plot.Plot at 0x10f2c8f28>"
      ]
     },
     "execution_count": 13,
     "metadata": {},
     "output_type": "execute_result"
    }
   ],
   "source": [
    "%matplotlib inline\n",
    "plot(f,l_y(x,2), (x,-4,4))"
   ]
  },
  {
   "cell_type": "markdown",
   "metadata": {
    "heading_collapsed": true
   },
   "source": [
    "## 3\n",
    "\n",
    "頂点を一致させる問題です．1番の問題と本質的には同じなんですが，未知数が二つになったので途端に見通しが悪くなります．\n",
    "\n",
    "一般の解答例では，紙面の都合上，解の導出を短く表示していますが，解いていく最中では，一つ一つ積み上げていってます．解答例を見ながら，「かっこの中側から打つ」ということの意味を理解して，実践してください．"
   ]
  },
  {
   "cell_type": "code",
   "execution_count": 1,
   "metadata": {
    "hidden": true,
    "scrolled": true
   },
   "outputs": [],
   "source": [
    "from sympy import *\n",
    "#init_session()\n",
    "init_printing()"
   ]
  },
  {
   "cell_type": "markdown",
   "metadata": {
    "hidden": true
   },
   "source": [
    "まずは二つの曲線の方程式をy1, y2として打ち込みます．変数として宣言しとくことを忘れないように．"
   ]
  },
  {
   "cell_type": "code",
   "execution_count": 2,
   "metadata": {
    "collapsed": true,
    "hidden": true
   },
   "outputs": [],
   "source": [
    "x, y,a,b = symbols('x y a b')\n",
    "y1 = 4*x**2-8*x+5\n",
    "y2 = -2*(x+a)**2+b"
   ]
  },
  {
   "cell_type": "markdown",
   "metadata": {
    "hidden": true
   },
   "source": [
    "y1の頂点を求めます．微分して傾きがゼロになるxをx0とします．　[0]は配列の中身を取り出すためです．"
   ]
  },
  {
   "cell_type": "code",
   "execution_count": 3,
   "metadata": {
    "hidden": true
   },
   "outputs": [
    {
     "data": {
      "image/png": "[encoded data removed]",
      "text/latex": [
       "$$1$$"
      ],
      "text/plain": [
       "1"
      ]
     },
     "execution_count": 3,
     "metadata": {},
     "output_type": "execute_result"
    }
   ],
   "source": [
    "x0=solve(diff(y1,x),x)[0]\n",
    "x0"
   ]
  },
  {
   "cell_type": "markdown",
   "metadata": {
    "hidden": true
   },
   "source": [
    "これ(x=x0)をy1に代入して，その値をy0とします．"
   ]
  },
  {
   "cell_type": "code",
   "execution_count": 4,
   "metadata": {
    "hidden": true
   },
   "outputs": [
    {
     "data": {
      "image/png": "[encoded data removed]",
      "text/latex": [
       "$$1$$"
      ],
      "text/plain": [
       "1"
      ]
     },
     "execution_count": 4,
     "metadata": {},
     "output_type": "execute_result"
    }
   ],
   "source": [
    "y0 = y1.subs({x:x0})\n",
    "y0"
   ]
  },
  {
   "cell_type": "markdown",
   "metadata": {
    "hidden": true
   },
   "source": [
    "x=x0でy2が頂点となるようなa0を求めます．"
   ]
  },
  {
   "cell_type": "code",
   "execution_count": 5,
   "metadata": {
    "hidden": true
   },
   "outputs": [
    {
     "data": {
      "image/png": "[encoded data removed]",
      "text/latex": [
       "$$-1$$"
      ],
      "text/plain": [
       "-1"
      ]
     },
     "execution_count": 5,
     "metadata": {},
     "output_type": "execute_result"
    }
   ],
   "source": [
    "a0=solve(solve(diff(y2,x),x)[0]-x0,a)[0]\n",
    "a0"
   ]
  },
  {
   "cell_type": "markdown",
   "metadata": {
    "hidden": true
   },
   "source": [
    "一度にやると上のようですが，これの中身を見て，一つ一つのstepをsympyに教えてやっているのを見盗ってください．"
   ]
  },
  {
   "cell_type": "code",
   "execution_count": 6,
   "metadata": {
    "hidden": true
   },
   "outputs": [
    {
     "data": {
      "image/png": "[encoded data removed]",
      "text/latex": [
       "$$- 4 a - 4 x$$"
      ],
      "text/plain": [
       "-4⋅a - 4⋅x"
      ]
     },
     "execution_count": 6,
     "metadata": {},
     "output_type": "execute_result"
    }
   ],
   "source": [
    "diff(y2,x)"
   ]
  },
  {
   "cell_type": "code",
   "execution_count": 7,
   "metadata": {
    "hidden": true
   },
   "outputs": [
    {
     "data": {
      "image/png": "[encoded data removed]",
      "text/latex": [
       "$$\\left [ - a\\right ]$$"
      ],
      "text/plain": [
       "[-a]"
      ]
     },
     "execution_count": 7,
     "metadata": {},
     "output_type": "execute_result"
    }
   ],
   "source": [
    "solve(diff(y2,x),x)"
   ]
  },
  {
   "cell_type": "code",
   "execution_count": 8,
   "metadata": {
    "hidden": true
   },
   "outputs": [
    {
     "data": {
      "image/png": "[encoded data removed]",
      "text/latex": [
       "$$- a$$"
      ],
      "text/plain": [
       "-a"
      ]
     },
     "execution_count": 8,
     "metadata": {},
     "output_type": "execute_result"
    }
   ],
   "source": [
    "solve(diff(y2,x),x)[0]"
   ]
  },
  {
   "cell_type": "code",
   "execution_count": 9,
   "metadata": {
    "hidden": true
   },
   "outputs": [
    {
     "data": {
      "image/png": "[encoded data removed]",
      "text/latex": [
       "$$- a - 1$$"
      ],
      "text/plain": [
       "-a - 1"
      ]
     },
     "execution_count": 9,
     "metadata": {},
     "output_type": "execute_result"
    }
   ],
   "source": [
    "solve(diff(y2,x),x)[0]-x0"
   ]
  },
  {
   "cell_type": "code",
   "execution_count": 10,
   "metadata": {
    "hidden": true
   },
   "outputs": [
    {
     "data": {
      "image/png": "[encoded data removed]",
      "text/latex": [
       "$$\\left [ -1\\right ]$$"
      ],
      "text/plain": [
       "[-1]"
      ]
     },
     "execution_count": 10,
     "metadata": {},
     "output_type": "execute_result"
    }
   ],
   "source": [
    "solve(solve(diff(y2,x),x)[0]-x0,a)"
   ]
  },
  {
   "cell_type": "code",
   "execution_count": 11,
   "metadata": {
    "hidden": true
   },
   "outputs": [
    {
     "data": {
      "image/png": "[encoded data removed]",
      "text/latex": [
       "$$-1$$"
      ],
      "text/plain": [
       "-1"
      ]
     },
     "execution_count": 11,
     "metadata": {},
     "output_type": "execute_result"
    }
   ],
   "source": [
    "solve(solve(diff(y2,x),x)[0]-x0,a)[0]"
   ]
  },
  {
   "cell_type": "markdown",
   "metadata": {
    "hidden": true
   },
   "source": [
    "出てきた答えをそのまま次のステップの代入にして，次々と操作を加えていく様子が見えますでしょうか？　\n",
    "\n",
    "わからんようになったら，間の結果を変数として取り出して，それを次の式に代入(subs)していくと見やすいです．"
   ]
  },
  {
   "cell_type": "code",
   "execution_count": 12,
   "metadata": {
    "hidden": true
   },
   "outputs": [
    {
     "data": {
      "image/png": "[encoded data removed]",
      "text/latex": [
       "$$1$$"
      ],
      "text/plain": [
       "1"
      ]
     },
     "execution_count": 12,
     "metadata": {},
     "output_type": "execute_result"
    }
   ],
   "source": [
    "b0 =solve((y2-y0).subs({a:a0}).subs({x:x0}),b)[0]\n",
    "b0"
   ]
  },
  {
   "cell_type": "code",
   "execution_count": 13,
   "metadata": {
    "hidden": true
   },
   "outputs": [
    {
     "data": {
      "image/png": "[encoded data removed]",
      "text/plain": [
       "<matplotlib.figure.Figure at 0x118c60710>"
      ]
     },
     "metadata": {},
     "output_type": "display_data"
    },
    {
     "data": {
      "text/plain": [
       "<sympy.plotting.plot.Plot at 0x118c60550>"
      ]
     },
     "execution_count": 13,
     "metadata": {},
     "output_type": "execute_result"
    }
   ],
   "source": [
    "%matplotlib inline\n",
    "line_1 = y1\n",
    "line_2 = y2.subs({a:a0}).subs({b:b0})\n",
    "line_2\n",
    "plot(line_1, line_2, (x,-1,3))"
   ]
  },
  {
   "cell_type": "markdown",
   "metadata": {
    "heading_collapsed": true
   },
   "source": [
    "## 別解\n",
    "こういった問題では，判別式を使った解法を指導しているというTAさんからの指導(?)があったんで，やって見た．"
   ]
  },
  {
   "cell_type": "code",
   "execution_count": 1,
   "metadata": {
    "hidden": true
   },
   "outputs": [
    {
     "name": "stdout",
     "output_type": "stream",
     "text": [
      "IPython console for SymPy 1.0 (Python 3.6.1-64-bit) (ground types: python)\n",
      "\n",
      "These commands were executed:\n",
      ">>> from __future__ import division\n",
      ">>> from sympy import *\n",
      ">>> x, y, z, t = symbols('x y z t')\n",
      ">>> k, m, n = symbols('k m n', integer=True)\n",
      ">>> f, g, h = symbols('f g h', cls=Function)\n",
      ">>> init_printing()\n",
      "\n",
      "Documentation can be found at http://docs.sympy.org/1.0/\n"
     ]
    }
   ],
   "source": [
    "from sympy import *\n",
    "init_session()\n",
    "\n"
   ]
  },
  {
   "cell_type": "code",
   "execution_count": 2,
   "metadata": {
    "collapsed": true,
    "hidden": true
   },
   "outputs": [],
   "source": [
    "x, y,a,b = symbols('x y a b')\n",
    "y1 = 4*x**2-8*x+5\n",
    "y2 = -2*(x+a)**2+b"
   ]
  },
  {
   "cell_type": "code",
   "execution_count": 10,
   "metadata": {
    "hidden": true
   },
   "outputs": [
    {
     "data": {
      "image/png": "[encoded data removed]",
      "text/latex": [
       "$$2 a^{2} + 4 a x - b + 6 x^{2} - 8 x + 5$$"
      ],
      "text/plain": [
       "   2                  2          \n",
       "2⋅a  + 4⋅a⋅x - b + 6⋅x  - 8⋅x + 5"
      ]
     },
     "execution_count": 10,
     "metadata": {},
     "output_type": "execute_result"
    }
   ],
   "source": [
    "y3 = expand(y1-y2)\n",
    "y3"
   ]
  },
  {
   "cell_type": "code",
   "execution_count": 15,
   "metadata": {
    "hidden": true
   },
   "outputs": [
    {
     "name": "stdout",
     "output_type": "stream",
     "text": [
      "6 4*a - 8 2*a**2 - b + 5\n"
     ]
    }
   ],
   "source": [
    "cc=y3.coeff(x,0)\n",
    "bb=y3.coeff(x,1)\n",
    "aa=y3.coeff(x,2)\n",
    "print(aa,bb,cc)"
   ]
  },
  {
   "cell_type": "code",
   "execution_count": 17,
   "metadata": {
    "hidden": true
   },
   "outputs": [
    {
     "data": {
      "image/png": "[encoded data removed]",
      "text/latex": [
       "$$- 32 a^{2} - 64 a + 24 b - 56$$"
      ],
      "text/plain": [
       "      2                   \n",
       "- 32⋅a  - 64⋅a + 24⋅b - 56"
      ]
     },
     "execution_count": 17,
     "metadata": {},
     "output_type": "execute_result"
    }
   ],
   "source": [
    "expand(bb**2-4*aa*cc)"
   ]
  },
  {
   "cell_type": "markdown",
   "metadata": {
    "heading_collapsed": true
   },
   "source": [
    "## 4\n",
    "\n",
    "頂点を代数式で出す問題で，式変形が必要になる典型的な問題です．factorとかsimplifyとかは試行錯誤が必要です．fractionは分数式での基本となるやり方なんで，idiom的に覚えてください．\n",
    "\n",
    "```\n",
    "代入:   subs\n",
    "展開:   expand\n",
    "簡単化: simplify\n",
    "通分:   together\n",
    "因数分解:factor\n",
    "分数:   fraction\n",
    "分母:   d(enominator)\n",
    "分子:   n(umerator)\n",
    "```"
   ]
  },
  {
   "cell_type": "code",
   "execution_count": 1,
   "metadata": {
    "hidden": true
   },
   "outputs": [],
   "source": [
    "from sympy import *\n",
    "#init_session()\n",
    "init_printing()\n",
    "x, y,a,b = symbols('x y a b')\n",
    "\n",
    "y = a*x**2-b*x-a+b"
   ]
  },
  {
   "cell_type": "code",
   "execution_count": 2,
   "metadata": {
    "hidden": true
   },
   "outputs": [
    {
     "data": {
      "image/png": "[encoded data removed]",
      "text/latex": [
       "$$3 a + 3 b - 6$$"
      ],
      "text/plain": [
       "3⋅a + 3⋅b - 6"
      ]
     },
     "execution_count": 2,
     "metadata": {},
     "output_type": "execute_result"
    }
   ],
   "source": [
    "y.subs({x:-2})-6"
   ]
  },
  {
   "cell_type": "code",
   "execution_count": 3,
   "metadata": {
    "hidden": true
   },
   "outputs": [
    {
     "data": {
      "image/png": "[encoded data removed]",
      "text/latex": [
       "$$\\left [ - a + 2\\right ]$$"
      ],
      "text/plain": [
       "[-a + 2]"
      ]
     },
     "execution_count": 3,
     "metadata": {},
     "output_type": "execute_result"
    }
   ],
   "source": [
    "b0=solve(y.subs({x:-2})-6,b)\n",
    "b0"
   ]
  },
  {
   "cell_type": "code",
   "execution_count": 4,
   "metadata": {
    "hidden": true
   },
   "outputs": [
    {
     "data": {
      "image/png": "[encoded data removed]",
      "text/latex": [
       "$$2 a x - b$$"
      ],
      "text/plain": [
       "2⋅a⋅x - b"
      ]
     },
     "execution_count": 4,
     "metadata": {},
     "output_type": "execute_result"
    }
   ],
   "source": [
    "df = diff(y,x)\n",
    "df"
   ]
  },
  {
   "cell_type": "code",
   "execution_count": 5,
   "metadata": {
    "hidden": true
   },
   "outputs": [
    {
     "data": {
      "image/png": "[encoded data removed]",
      "text/latex": [
       "$$\\left [ \\frac{b}{2 a}\\right ]$$"
      ],
      "text/plain": [
       "⎡ b ⎤\n",
       "⎢───⎥\n",
       "⎣2⋅a⎦"
      ]
     },
     "execution_count": 5,
     "metadata": {},
     "output_type": "execute_result"
    }
   ],
   "source": [
    "s1 = solve(df,x)\n",
    "s1"
   ]
  },
  {
   "cell_type": "code",
   "execution_count": 6,
   "metadata": {
    "hidden": true
   },
   "outputs": [
    {
     "data": {
      "image/png": "[encoded data removed]",
      "text/latex": [
       "$$\\frac{- a + 2}{2 a}$$"
      ],
      "text/plain": [
       "-a + 2\n",
       "──────\n",
       " 2⋅a  "
      ]
     },
     "execution_count": 6,
     "metadata": {},
     "output_type": "execute_result"
    }
   ],
   "source": [
    "x0 = s1[0].subs({b:b0[0]})\n",
    "x0"
   ]
  },
  {
   "cell_type": "code",
   "execution_count": 7,
   "metadata": {
    "hidden": true
   },
   "outputs": [
    {
     "data": {
      "image/png": "[encoded data removed]",
      "text/latex": [
       "$$- 2 a + 2 - \\frac{\\left(a - 2\\right)^{2}}{4 a}$$"
      ],
      "text/plain": [
       "                  2\n",
       "           (a - 2) \n",
       "-2⋅a + 2 - ────────\n",
       "             4⋅a   "
      ]
     },
     "execution_count": 7,
     "metadata": {},
     "output_type": "execute_result"
    }
   ],
   "source": [
    "simplify((y.subs({x:x0}).subs({b:b0[0]})))"
   ]
  },
  {
   "cell_type": "markdown",
   "metadata": {
    "hidden": true
   },
   "source": [
    "簡単化しなさいというのに反応していない典型的な例です．まぁ，簡単というのは人間とコンピュータで違うのでしょうね．地道にばらして，教えて行きましょう．"
   ]
  },
  {
   "cell_type": "code",
   "execution_count": 8,
   "metadata": {
    "hidden": true
   },
   "outputs": [
    {
     "data": {
      "image/png": "[encoded data removed]",
      "text/latex": [
       "$$\\frac{1}{4 a} \\left(- 8 a^{2} + 8 a - \\left(- a + 2\\right)^{2}\\right)$$"
      ],
      "text/plain": [
       "     2                 2\n",
       "- 8⋅a  + 8⋅a - (-a + 2) \n",
       "────────────────────────\n",
       "          4⋅a           "
      ]
     },
     "execution_count": 8,
     "metadata": {},
     "output_type": "execute_result"
    }
   ],
   "source": [
    "eq2 = together((y.subs({x:x0}).subs({b:b0[0]})))\n",
    "eq2"
   ]
  },
  {
   "cell_type": "code",
   "execution_count": 9,
   "metadata": {
    "collapsed": true,
    "hidden": true
   },
   "outputs": [],
   "source": [
    "n,d = fraction(eq2)"
   ]
  },
  {
   "cell_type": "code",
   "execution_count": 10,
   "metadata": {
    "hidden": true
   },
   "outputs": [
    {
     "data": {
      "image/png": "[encoded data removed]",
      "text/latex": [
       "$$- \\left(3 a - 2\\right)^{2}$$"
      ],
      "text/plain": [
       "          2\n",
       "-(3⋅a - 2) "
      ]
     },
     "execution_count": 10,
     "metadata": {},
     "output_type": "execute_result"
    }
   ],
   "source": [
    "factor(expand(n))"
   ]
  },
  {
   "cell_type": "markdown",
   "metadata": {
    "hidden": true
   },
   "source": [
    "時々sympyとの意見があって，スパッと綺麗にしてくれることがあります．たまにです．嬉しくなりますが．．．"
   ]
  },
  {
   "cell_type": "code",
   "execution_count": 11,
   "metadata": {
    "hidden": true,
    "scrolled": true
   },
   "outputs": [
    {
     "data": {
      "image/png": "[encoded data removed]",
      "text/latex": [
       "$$- \\frac{\\left(3 a - 2\\right)^{2}}{4 a}$$"
      ],
      "text/plain": [
       "          2 \n",
       "-(3⋅a - 2)  \n",
       "────────────\n",
       "    4⋅a     "
      ]
     },
     "execution_count": 11,
     "metadata": {},
     "output_type": "execute_result"
    }
   ],
   "source": [
    "factor(together((y.subs({x:x0}).subs({b:b0[0]}))))"
   ]
  },
  {
   "cell_type": "code",
   "execution_count": null,
   "metadata": {
    "collapsed": true,
    "hidden": true
   },
   "outputs": [],
   "source": []
  }
 ],
 "metadata": {
  "kernelspec": {
   "display_name": "Python 3",
   "language": "python",
   "name": "python3"
  },
  "language_info": {
   "codemirror_mode": {
    "name": "ipython",
    "version": 3
   },
   "file_extension": ".py",
   "mimetype": "text/x-python",
   "name": "python",
   "nbconvert_exporter": "python",
   "pygments_lexer": "ipython3",
   "version": "3.6.1"
  },
  "latex_envs": {
   "LaTeX_envs_menu_present": true,
   "autocomplete": true,
   "bibliofile": "biblio.bib",
   "cite_by": "apalike",
   "current_citInitial": 1,
   "eqLabelWithNumbers": true,
   "eqNumInitial": 1,
   "hotkeys": {
    "equation": "Ctrl-E",
    "itemize": "Ctrl-I"
   },
   "labels_anchors": false,
   "latex_user_defs": false,
   "report_style_numbering": false,
   "user_envs_cfg": false
  },
  "toc": {
   "colors": {
    "hover_highlight": "#DAA520",
    "navigate_num": "#000000",
    "navigate_text": "#333333",
    "running_highlight": "#FF0000",
    "selected_highlight": "#FFD700",
    "sidebar_border": "#EEEEEE",
    "wrapper_background": "#FFFFFF"
   },
   "moveMenuLeft": true,
   "nav_menu": {
    "height": "49px",
    "width": "252px"
   },
   "navigate_menu": true,
   "number_sections": true,
   "sideBar": true,
   "threshold": 4,
   "toc_cell": true,
   "toc_section_display": "block",
   "toc_window_display": false,
   "widenNotebook": false
  }
 },
 "nbformat": 4,
 "nbformat_minor": 2
}
