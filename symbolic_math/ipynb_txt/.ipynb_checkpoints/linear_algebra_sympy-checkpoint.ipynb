{
 "cells": [
  {
   "cell_type": "markdown",
   "metadata": {},
   "source": [
    "<div style=\"text-align: center;\">\n",
    "  <font size=\"5\"> 線形代数(Linear algebra) </font>\n",
    "</div>\n",
    "<div style=\"text-align: right;\">\n",
    "  <font size=\"3\"> cc by Shigeto R. Nishitani, 2017-10-31 </font>\n",
    "</div>\n",
    "* file: /Users/bob/python/doing_math_with_python/linear_algebra.ipynb"
   ]
  },
  {
   "cell_type": "markdown",
   "metadata": {
    "toc": "true"
   },
   "source": [
    "<h1>Table of Contents<span class=\"tocSkip\"></span></h1>\n",
    "<div class=\"toc\"><ul class=\"toc-item\"><li><span><a href=\"#sympy\" data-toc-modified-id=\"sympy-1\"><span class=\"toc-item-num\">1&nbsp;&nbsp;</span>sympy</a></span></li><li><span><a href=\"#行列，ベクトルの生成\" data-toc-modified-id=\"行列，ベクトルの生成-2\"><span class=\"toc-item-num\">2&nbsp;&nbsp;</span>行列，ベクトルの生成</a></span><ul class=\"toc-item\"><li><span><a href=\"#直接的に\" data-toc-modified-id=\"直接的に-2.1\"><span class=\"toc-item-num\">2.1&nbsp;&nbsp;</span>直接的に</a></span></li><li><span><a href=\"#ゼロ行列，単位行列\" data-toc-modified-id=\"ゼロ行列，単位行列-2.2\"><span class=\"toc-item-num\">2.2&nbsp;&nbsp;</span>ゼロ行列，単位行列</a></span></li><li><span><a href=\"#行列要素のとりだし，追加\" data-toc-modified-id=\"行列要素のとりだし，追加-2.3\"><span class=\"toc-item-num\">2.3&nbsp;&nbsp;</span>行列要素のとりだし，追加</a></span></li></ul></li><li><span><a href=\"#行列・ベクトル間の単純な演算\" data-toc-modified-id=\"行列・ベクトル間の単純な演算-3\"><span class=\"toc-item-num\">3&nbsp;&nbsp;</span>行列・ベクトル間の単純な演算</a></span><ul class=\"toc-item\"><li><span><a href=\"#次元の確認\" data-toc-modified-id=\"次元の確認-3.1\"><span class=\"toc-item-num\">3.1&nbsp;&nbsp;</span>次元の確認</a></span></li><li><span><a href=\"#転置(transpose)\" data-toc-modified-id=\"転置(transpose)-3.2\"><span class=\"toc-item-num\">3.2&nbsp;&nbsp;</span>転置(transpose)</a></span></li><li><span><a href=\"#ドット積(内積)\" data-toc-modified-id=\"ドット積(内積)-3.3\"><span class=\"toc-item-num\">3.3&nbsp;&nbsp;</span>ドット積(内積)</a></span></li><li><span><a href=\"#外積，outer,-cross\" data-toc-modified-id=\"外積，outer,-cross-3.4\"><span class=\"toc-item-num\">3.4&nbsp;&nbsp;</span>外積，outer, cross</a></span></li><li><span><a href=\"#スカラー三重積\" data-toc-modified-id=\"スカラー三重積-3.5\"><span class=\"toc-item-num\">3.5&nbsp;&nbsp;</span>スカラー三重積</a></span></li></ul></li><li><span><a href=\"#行列操作\" data-toc-modified-id=\"行列操作-4\"><span class=\"toc-item-num\">4&nbsp;&nbsp;</span>行列操作</a></span><ul class=\"toc-item\"><li><span><a href=\"#掃き出し,-LU分解\" data-toc-modified-id=\"掃き出し,-LU分解-4.1\"><span class=\"toc-item-num\">4.1&nbsp;&nbsp;</span>掃き出し, LU分解</a></span></li><li><span><a href=\"#階数,-rank\" data-toc-modified-id=\"階数,-rank-4.2\"><span class=\"toc-item-num\">4.2&nbsp;&nbsp;</span>階数, rank</a></span></li><li><span><a href=\"#行列式,-determinant\" data-toc-modified-id=\"行列式,-determinant-4.3\"><span class=\"toc-item-num\">4.3&nbsp;&nbsp;</span>行列式, determinant</a></span><ul class=\"toc-item\"><li><span><a href=\"#課題\" data-toc-modified-id=\"課題-4.3.1\"><span class=\"toc-item-num\">4.3.1&nbsp;&nbsp;</span>課題</a></span></li></ul></li><li><span><a href=\"#逆行列\" data-toc-modified-id=\"逆行列-4.4\"><span class=\"toc-item-num\">4.4&nbsp;&nbsp;</span>逆行列</a></span><ul class=\"toc-item\"><li><span><a href=\"#課題\" data-toc-modified-id=\"課題-4.4.1\"><span class=\"toc-item-num\">4.4.1&nbsp;&nbsp;</span>課題</a></span></li></ul></li></ul></li><li><span><a href=\"#固有値，固有ベクトル\" data-toc-modified-id=\"固有値，固有ベクトル-5\"><span class=\"toc-item-num\">5&nbsp;&nbsp;</span>固有値，固有ベクトル</a></span><ul class=\"toc-item\"><li><span><a href=\"#ベクトルの規格化\" data-toc-modified-id=\"ベクトルの規格化-5.1\"><span class=\"toc-item-num\">5.1&nbsp;&nbsp;</span>ベクトルの規格化</a></span></li><li><span><a href=\"#対角化\" data-toc-modified-id=\"対角化-5.2\"><span class=\"toc-item-num\">5.2&nbsp;&nbsp;</span>対角化</a></span><ul class=\"toc-item\"><li><span><a href=\"#課題\" data-toc-modified-id=\"課題-5.2.1\"><span class=\"toc-item-num\">5.2.1&nbsp;&nbsp;</span>課題</a></span></li></ul></li></ul></li></ul></div>"
   ]
  },
  {
   "cell_type": "markdown",
   "metadata": {},
   "source": [
    "# sympy\n",
    "\n",
    "* [sympy tutorial](http://docs.sympy.org/latest/tutorial/index.html)\n",
    "* [module references](http://docs.sympy.org/latest/modules/matrices/matrices.html) LUdecompositionの記述あり．"
   ]
  },
  {
   "cell_type": "markdown",
   "metadata": {},
   "source": [
    "# 行列，ベクトルの生成"
   ]
  },
  {
   "cell_type": "markdown",
   "metadata": {},
   "source": [
    "## 直接的に"
   ]
  },
  {
   "cell_type": "code",
   "execution_count": 1,
   "metadata": {},
   "outputs": [
    {
     "data": {
      "image/png": "[encoded data removed]",
      "text/latex": [
       "$\\displaystyle \\left[\\begin{matrix}1 & 2\\\\3 & 4\\end{matrix}\\right]$"
      ],
      "text/plain": [
       "⎡1  2⎤\n",
       "⎢    ⎥\n",
       "⎣3  4⎦"
      ]
     },
     "execution_count": 1,
     "metadata": {},
     "output_type": "execute_result"
    }
   ],
   "source": [
    "from sympy import *\n",
    "\n",
    "#init_session()\n",
    "#init_printing(use_unicode=True)\n",
    "init_printing()\n",
    "list_a = [1,2]\n",
    "list_b = [3,4]\n",
    "A=Matrix([list_a, list_b])\n",
    "A"
   ]
  },
  {
   "cell_type": "code",
   "execution_count": 2,
   "metadata": {},
   "outputs": [
    {
     "data": {
      "image/png": "[encoded data removed]",
      "text/latex": [
       "$\\displaystyle \\left[\\begin{matrix}x\\\\y\\end{matrix}\\right]$"
      ],
      "text/plain": [
       "⎡x⎤\n",
       "⎢ ⎥\n",
       "⎣y⎦"
      ]
     },
     "execution_count": 2,
     "metadata": {},
     "output_type": "execute_result"
    }
   ],
   "source": [
    "x,y = symbols('x,y')\n",
    "v1=Matrix([x,y])\n",
    "v1"
   ]
  },
  {
   "cell_type": "markdown",
   "metadata": {},
   "source": [
    "## ゼロ行列，単位行列"
   ]
  },
  {
   "cell_type": "code",
   "execution_count": 3,
   "metadata": {},
   "outputs": [
    {
     "data": {
      "image/png": "[encoded data removed]",
      "text/latex": [
       "$\\displaystyle \\left[\\begin{matrix}0 & 0 & 0\\\\0 & 0 & 0\\end{matrix}\\right]$"
      ],
      "text/plain": [
       "⎡0  0  0⎤\n",
       "⎢       ⎥\n",
       "⎣0  0  0⎦"
      ]
     },
     "execution_count": 3,
     "metadata": {},
     "output_type": "execute_result"
    }
   ],
   "source": [
    "zeros(2,3)"
   ]
  },
  {
   "cell_type": "code",
   "execution_count": 4,
   "metadata": {},
   "outputs": [
    {
     "data": {
      "image/png": "[encoded data removed]",
      "text/latex": [
       "$\\displaystyle \\left[\\begin{matrix}1 & 1 & 1\\\\1 & 1 & 1\\end{matrix}\\right]$"
      ],
      "text/plain": [
       "⎡1  1  1⎤\n",
       "⎢       ⎥\n",
       "⎣1  1  1⎦"
      ]
     },
     "execution_count": 4,
     "metadata": {},
     "output_type": "execute_result"
    }
   ],
   "source": [
    "ones(2,3)"
   ]
  },
  {
   "cell_type": "code",
   "execution_count": 5,
   "metadata": {},
   "outputs": [
    {
     "data": {
      "image/png": "[encoded data removed]",
      "text/latex": [
       "$\\displaystyle \\left[\\begin{matrix}1 & 0 & 0\\\\0 & 1 & 0\\\\0 & 0 & 1\\end{matrix}\\right]$"
      ],
      "text/plain": [
       "⎡1  0  0⎤\n",
       "⎢       ⎥\n",
       "⎢0  1  0⎥\n",
       "⎢       ⎥\n",
       "⎣0  0  1⎦"
      ]
     },
     "execution_count": 5,
     "metadata": {},
     "output_type": "execute_result"
    }
   ],
   "source": [
    "eye(3)"
   ]
  },
  {
   "cell_type": "code",
   "execution_count": 6,
   "metadata": {},
   "outputs": [
    {
     "data": {
      "image/png": "[encoded data removed]",
      "text/latex": [
       "$\\displaystyle \\left[\\begin{matrix}1 & 0 & 0\\\\0 & 2 & 0\\\\0 & 0 & 3\\end{matrix}\\right]$"
      ],
      "text/plain": [
       "⎡1  0  0⎤\n",
       "⎢       ⎥\n",
       "⎢0  2  0⎥\n",
       "⎢       ⎥\n",
       "⎣0  0  3⎦"
      ]
     },
     "execution_count": 6,
     "metadata": {},
     "output_type": "execute_result"
    }
   ],
   "source": [
    "diag(1,2,3)"
   ]
  },
  {
   "cell_type": "markdown",
   "metadata": {},
   "source": [
    "## 行列要素のとりだし，追加"
   ]
  },
  {
   "cell_type": "code",
   "execution_count": 7,
   "metadata": {},
   "outputs": [
    {
     "data": {
      "image/png": "[encoded data removed]",
      "text/latex": [
       "$\\displaystyle 5$"
      ],
      "text/plain": [
       "5"
      ]
     },
     "execution_count": 7,
     "metadata": {},
     "output_type": "execute_result"
    }
   ],
   "source": [
    "A=Matrix([[1,2,3],[4,5,6],[7,8,9]])\n",
    "# i行j列の要素の取り出し\n",
    "A[1,1]"
   ]
  },
  {
   "cell_type": "code",
   "execution_count": 8,
   "metadata": {},
   "outputs": [
    {
     "data": {
      "image/png": "[encoded data removed]",
      "text/latex": [
       "$\\displaystyle \\left[\\begin{matrix}2 & 3\\\\5 & 6\\end{matrix}\\right]$"
      ],
      "text/plain": [
       "⎡2  3⎤\n",
       "⎢    ⎥\n",
       "⎣5  6⎦"
      ]
     },
     "execution_count": 8,
     "metadata": {},
     "output_type": "execute_result"
    }
   ],
   "source": [
    "A[:2,1:4]"
   ]
  },
  {
   "cell_type": "code",
   "execution_count": 9,
   "metadata": {},
   "outputs": [
    {
     "data": {
      "image/png": "[encoded data removed]",
      "text/latex": [
       "$\\displaystyle \\left[\\begin{matrix}1\\\\4\\\\7\\end{matrix}\\right]$"
      ],
      "text/plain": [
       "⎡1⎤\n",
       "⎢ ⎥\n",
       "⎢4⎥\n",
       "⎢ ⎥\n",
       "⎣7⎦"
      ]
     },
     "execution_count": 9,
     "metadata": {},
     "output_type": "execute_result"
    }
   ],
   "source": [
    "col_0 = A[:,0]\n",
    "col_0"
   ]
  },
  {
   "cell_type": "code",
   "execution_count": 10,
   "metadata": {},
   "outputs": [
    {
     "data": {
      "image/png": "[encoded data removed]",
      "text/latex": [
       "$\\displaystyle \\left[\\begin{matrix}4 & 5 & 6\\end{matrix}\\right]$"
      ],
      "text/plain": [
       "[4  5  6]"
      ]
     },
     "execution_count": 10,
     "metadata": {},
     "output_type": "execute_result"
    }
   ],
   "source": [
    "row_1 = A[1,:]\n",
    "row_1"
   ]
  },
  {
   "cell_type": "markdown",
   "metadata": {},
   "source": [
    "numpyではcolumn_stackを使って拡大係数行列を作った．\n",
    "sympyではrow_insert, col_insertを使う．"
   ]
  },
  {
   "cell_type": "code",
   "execution_count": 11,
   "metadata": {},
   "outputs": [
    {
     "data": {
      "image/png": "[encoded data removed]",
      "text/latex": [
       "$\\displaystyle \\left[\\begin{matrix}1 & 2 & 3\\\\4 & 5 & 6\\\\7 & 8 & 9\\\\1 & 2 & 3\\end{matrix}\\right]$"
      ],
      "text/plain": [
       "⎡1  2  3⎤\n",
       "⎢       ⎥\n",
       "⎢4  5  6⎥\n",
       "⎢       ⎥\n",
       "⎢7  8  9⎥\n",
       "⎢       ⎥\n",
       "⎣1  2  3⎦"
      ]
     },
     "execution_count": 11,
     "metadata": {},
     "output_type": "execute_result"
    }
   ],
   "source": [
    "b = Matrix([1,2,3])\n",
    "A.row_insert(3,b.T)"
   ]
  },
  {
   "cell_type": "code",
   "execution_count": 12,
   "metadata": {},
   "outputs": [
    {
     "data": {
      "image/png": "[encoded data removed]",
      "text/latex": [
       "$\\displaystyle \\left[\\begin{matrix}1 & 2 & 3 & 1\\\\4 & 5 & 6 & 2\\\\7 & 8 & 9 & 3\\end{matrix}\\right]$"
      ],
      "text/plain": [
       "⎡1  2  3  1⎤\n",
       "⎢          ⎥\n",
       "⎢4  5  6  2⎥\n",
       "⎢          ⎥\n",
       "⎣7  8  9  3⎦"
      ]
     },
     "execution_count": 12,
     "metadata": {},
     "output_type": "execute_result"
    }
   ],
   "source": [
    "A.col_insert(3,b)"
   ]
  },
  {
   "cell_type": "markdown",
   "metadata": {},
   "source": [
    "# 行列・ベクトル間の単純な演算"
   ]
  },
  {
   "cell_type": "markdown",
   "metadata": {},
   "source": [
    "## 次元の確認"
   ]
  },
  {
   "cell_type": "code",
   "execution_count": 13,
   "metadata": {},
   "outputs": [
    {
     "data": {
      "image/png": "[encoded data removed]",
      "text/latex": [
       "$\\displaystyle \\left( 3, \\  3\\right)$"
      ],
      "text/plain": [
       "(3, 3)"
      ]
     },
     "execution_count": 13,
     "metadata": {},
     "output_type": "execute_result"
    }
   ],
   "source": [
    "A.shape"
   ]
  },
  {
   "cell_type": "code",
   "execution_count": 14,
   "metadata": {},
   "outputs": [
    {
     "name": "stdout",
     "output_type": "stream",
     "text": [
      "(2, 1)\n",
      "(1, 2)\n"
     ]
    }
   ],
   "source": [
    "print(v1.shape)\n",
    "print(v1.T.shape)"
   ]
  },
  {
   "cell_type": "markdown",
   "metadata": {},
   "source": [
    "## 転置(transpose)"
   ]
  },
  {
   "cell_type": "code",
   "execution_count": 15,
   "metadata": {},
   "outputs": [
    {
     "data": {
      "image/png": "[encoded data removed]",
      "text/latex": [
       "$\\displaystyle \\left[\\begin{matrix}1 & 4 & 7\\\\2 & 5 & 8\\\\3 & 6 & 9\\end{matrix}\\right]$"
      ],
      "text/plain": [
       "⎡1  4  7⎤\n",
       "⎢       ⎥\n",
       "⎢2  5  8⎥\n",
       "⎢       ⎥\n",
       "⎣3  6  9⎦"
      ]
     },
     "execution_count": 15,
     "metadata": {},
     "output_type": "execute_result"
    }
   ],
   "source": [
    "A.T"
   ]
  },
  {
   "cell_type": "code",
   "execution_count": 16,
   "metadata": {},
   "outputs": [
    {
     "data": {
      "image/png": "[encoded data removed]",
      "text/latex": [
       "$\\displaystyle \\left[\\begin{matrix}x & y\\end{matrix}\\right]$"
      ],
      "text/plain": [
       "[x  y]"
      ]
     },
     "execution_count": 16,
     "metadata": {},
     "output_type": "execute_result"
    }
   ],
   "source": [
    "v1.T"
   ]
  },
  {
   "cell_type": "markdown",
   "metadata": {},
   "source": [
    "## ドット積(内積)\n",
    "numpyと違ってdot関数を使うと怒られる．\n",
    "\n",
    "\"\\*\" を使います．"
   ]
  },
  {
   "cell_type": "code",
   "execution_count": 17,
   "metadata": {},
   "outputs": [
    {
     "data": {
      "image/png": "[encoded data removed]",
      "text/latex": [
       "$\\displaystyle \\left[\\begin{matrix}x + 2 y\\\\3 x + 4 y\\end{matrix}\\right]$"
      ],
      "text/plain": [
       "⎡ x + 2⋅y ⎤\n",
       "⎢         ⎥\n",
       "⎣3⋅x + 4⋅y⎦"
      ]
     },
     "execution_count": 17,
     "metadata": {},
     "output_type": "execute_result"
    }
   ],
   "source": [
    "A = Matrix([[1,2],[3,4]])\n",
    "A*v1"
   ]
  },
  {
   "cell_type": "code",
   "execution_count": 18,
   "metadata": {},
   "outputs": [
    {
     "data": {
      "image/png": "[encoded data removed]",
      "text/latex": [
       "$\\displaystyle \\left[\\begin{matrix}x^{2} + y^{2}\\end{matrix}\\right]$"
      ],
      "text/plain": [
       "⎡ 2    2⎤\n",
       "⎣x  + y ⎦"
      ]
     },
     "execution_count": 18,
     "metadata": {},
     "output_type": "execute_result"
    }
   ],
   "source": [
    "v1.T*v1 #v1*v1ではerror"
   ]
  },
  {
   "cell_type": "code",
   "execution_count": 19,
   "metadata": {},
   "outputs": [
    {
     "data": {
      "image/png": "[encoded data removed]",
      "text/latex": [
       "$\\displaystyle \\left[\\begin{matrix}x + 3 y & 2 x + 4 y\\end{matrix}\\right]$"
      ],
      "text/plain": [
       "[x + 3⋅y  2⋅x + 4⋅y]"
      ]
     },
     "execution_count": 19,
     "metadata": {},
     "output_type": "execute_result"
    }
   ],
   "source": [
    "v1.T*A"
   ]
  },
  {
   "cell_type": "code",
   "execution_count": 20,
   "metadata": {},
   "outputs": [
    {
     "data": {
      "image/png": "[encoded data removed]",
      "text/latex": [
       "$\\displaystyle \\left[\\begin{matrix}x^{2} + y^{2}\\end{matrix}\\right]$"
      ],
      "text/plain": [
       "⎡ 2    2⎤\n",
       "⎣x  + y ⎦"
      ]
     },
     "execution_count": 20,
     "metadata": {},
     "output_type": "execute_result"
    }
   ],
   "source": [
    "v1.T*v1"
   ]
  },
  {
   "cell_type": "code",
   "execution_count": 21,
   "metadata": {},
   "outputs": [
    {
     "data": {
      "image/png": "[encoded data removed]",
      "text/latex": [
       "$\\displaystyle \\left[\\begin{matrix}x^{2} & x y\\\\x y & y^{2}\\end{matrix}\\right]$"
      ],
      "text/plain": [
       "⎡ 2      ⎤\n",
       "⎢x    x⋅y⎥\n",
       "⎢        ⎥\n",
       "⎢      2 ⎥\n",
       "⎣x⋅y  y  ⎦"
      ]
     },
     "execution_count": 21,
     "metadata": {},
     "output_type": "execute_result"
    }
   ],
   "source": [
    "v1*v1.T"
   ]
  },
  {
   "cell_type": "markdown",
   "metadata": {},
   "source": [
    "## 外積，outer, cross\n",
    "\n",
    "outer(v1,v2)がSympy1.1.1では見つからない．\n",
    "crossは使える．"
   ]
  },
  {
   "cell_type": "code",
   "execution_count": 22,
   "metadata": {},
   "outputs": [],
   "source": [
    "v1 = Matrix([1,1,3])\n",
    "v2 = Matrix([1,2,-1])"
   ]
  },
  {
   "cell_type": "code",
   "execution_count": 23,
   "metadata": {},
   "outputs": [
    {
     "ename": "AttributeError",
     "evalue": "'MutableDenseMatrix' object has no attribute 'outer'",
     "output_type": "error",
     "traceback": [
      "\u001b[0;31m---------------------------------------------------------------------------\u001b[0m",
      "\u001b[0;31mAttributeError\u001b[0m                            Traceback (most recent call last)",
      "\u001b[0;32m<ipython-input-23-2fa213ccebb0>\u001b[0m in \u001b[0;36m<module>\u001b[0;34m\u001b[0m\n\u001b[0;32m----> 1\u001b[0;31m \u001b[0mv1\u001b[0m\u001b[0;34m.\u001b[0m\u001b[0mouter\u001b[0m\u001b[0;34m(\u001b[0m\u001b[0mv2\u001b[0m\u001b[0;34m)\u001b[0m\u001b[0;34m\u001b[0m\u001b[0;34m\u001b[0m\u001b[0m\n\u001b[0m",
      "\u001b[0;31mAttributeError\u001b[0m: 'MutableDenseMatrix' object has no attribute 'outer'"
     ]
    }
   ],
   "source": [
    "v1.outer(v2)"
   ]
  },
  {
   "cell_type": "code",
   "execution_count": 24,
   "metadata": {},
   "outputs": [
    {
     "data": {
      "image/png": "[encoded data removed]",
      "text/latex": [
       "$\\displaystyle \\left[\\begin{matrix}-7\\\\4\\\\1\\end{matrix}\\right]$"
      ],
      "text/plain": [
       "⎡-7⎤\n",
       "⎢  ⎥\n",
       "⎢4 ⎥\n",
       "⎢  ⎥\n",
       "⎣1 ⎦"
      ]
     },
     "execution_count": 24,
     "metadata": {},
     "output_type": "execute_result"
    }
   ],
   "source": [
    "v1.cross(v2)"
   ]
  },
  {
   "cell_type": "markdown",
   "metadata": {},
   "source": [
    "## スカラー三重積"
   ]
  },
  {
   "cell_type": "code",
   "execution_count": 25,
   "metadata": {},
   "outputs": [
    {
     "data": {
      "image/png": "[encoded data removed]",
      "text/latex": [
       "$\\displaystyle 16$"
      ],
      "text/plain": [
       "16"
      ]
     },
     "execution_count": 25,
     "metadata": {},
     "output_type": "execute_result"
    }
   ],
   "source": [
    "v3 = Matrix([-1,2,1])\n",
    "v3.dot(v1.cross(v2))"
   ]
  },
  {
   "cell_type": "markdown",
   "metadata": {},
   "source": [
    "# 行列操作"
   ]
  },
  {
   "cell_type": "markdown",
   "metadata": {},
   "source": [
    "## 掃き出し, LU分解"
   ]
  },
  {
   "cell_type": "code",
   "execution_count": 26,
   "metadata": {},
   "outputs": [
    {
     "name": "stdout",
     "output_type": "stream",
     "text": [
      "[Matrix([\n",
      "[ 1],\n",
      "[-2],\n",
      "[ 1]])]\n",
      "⎡1  2  3  1⎤\n",
      "⎢          ⎥\n",
      "⎢4  5  6  2⎥\n",
      "⎢          ⎥\n",
      "⎣5  7  9  3⎦\n"
     ]
    },
    {
     "data": {
      "image/png": "[encoded data removed]",
      "text/latex": [
       "$\\displaystyle \\left( \\left[\\begin{matrix}1 & 0 & -1 & - \\frac{1}{3}\\\\0 & 1 & 2 & \\frac{2}{3}\\\\0 & 0 & 0 & 0\\end{matrix}\\right], \\  \\left( 0, \\  1\\right)\\right)$"
      ],
      "text/plain": [
       "⎛⎡1  0  -1  -1/3⎤        ⎞\n",
       "⎜⎢              ⎥        ⎟\n",
       "⎜⎢0  1  2   2/3 ⎥, (0, 1)⎟\n",
       "⎜⎢              ⎥        ⎟\n",
       "⎝⎣0  0  0    0  ⎦        ⎠"
      ]
     },
     "execution_count": 26,
     "metadata": {},
     "output_type": "execute_result"
    }
   ],
   "source": [
    "A=Matrix([[1,2,3],[4,5,6],[5,7,9]])\n",
    "print(A.nullspace())\n",
    "Aex = A.col_insert(3,b)\n",
    "pprint(Aex)\n",
    "Aex.rref()"
   ]
  },
  {
   "cell_type": "markdown",
   "metadata": {},
   "source": [
    "rrefはreduced row echelon formを取り出してくれる．これはGaussの消去法で下んとこまで行って，さらに上んとこへ戻ってきたやつ．拡張行列もそのままやってくれるはず．もうすこし，試す必要があるが，一応MapleのLUDecompositionに近い結果を与えてくれる．"
   ]
  },
  {
   "cell_type": "code",
   "execution_count": 27,
   "metadata": {},
   "outputs": [
    {
     "data": {
      "image/png": "[encoded data removed]",
      "text/latex": [
       "$\\displaystyle \\left( \\left[\\begin{matrix}1 & 0 & 0\\\\4 & 1 & 0\\\\7 & \\frac{5}{3} & 1\\end{matrix}\\right], \\  \\left[\\begin{matrix}1 & 2 & 3\\\\0 & -3 & -6\\\\0 & 0 & -3\\end{matrix}\\right], \\  \\left[ \\right]\\right)$"
      ],
      "text/plain": [
       "⎛⎡1   0   0⎤  ⎡1  2   3 ⎤    ⎞\n",
       "⎜⎢         ⎥  ⎢         ⎥    ⎟\n",
       "⎜⎢4   1   0⎥, ⎢0  -3  -6⎥, []⎟\n",
       "⎜⎢         ⎥  ⎢         ⎥    ⎟\n",
       "⎝⎣7  5/3  1⎦  ⎣0  0   -3⎦    ⎠"
      ]
     },
     "execution_count": 27,
     "metadata": {},
     "output_type": "execute_result"
    }
   ],
   "source": [
    "A=Matrix([[1,2,3],[4,5,6],[7,9,8]])\n",
    "L, U, P = A.LUdecomposition()\n",
    "L, U, P"
   ]
  },
  {
   "cell_type": "markdown",
   "metadata": {},
   "source": [
    "## 階数, rank"
   ]
  },
  {
   "cell_type": "code",
   "execution_count": 28,
   "metadata": {},
   "outputs": [
    {
     "name": "stdout",
     "output_type": "stream",
     "text": [
      "Matrix([[1, 2, 3], [4, 5, 6], [7, 9, 8]])\n",
      "3\n"
     ]
    }
   ],
   "source": [
    "print(A)\n",
    "\n",
    "print(A.rank())"
   ]
  },
  {
   "cell_type": "markdown",
   "metadata": {},
   "source": [
    "## 行列式, determinant"
   ]
  },
  {
   "cell_type": "code",
   "execution_count": 29,
   "metadata": {},
   "outputs": [
    {
     "name": "stdout",
     "output_type": "stream",
     "text": [
      "1\n"
     ]
    },
    {
     "data": {
      "image/png": "[encoded data removed]",
      "text/latex": [
       "$\\displaystyle -2$"
      ],
      "text/plain": [
       "-2"
      ]
     },
     "execution_count": 29,
     "metadata": {},
     "output_type": "execute_result"
    }
   ],
   "source": [
    "c = Matrix([[1,1],[1,2]])\n",
    "print(c.det())\n",
    "\n",
    "a = Matrix([[1,2],[3,4]])\n",
    "a.det()"
   ]
  },
  {
   "cell_type": "markdown",
   "metadata": {},
   "source": [
    "### 課題"
   ]
  },
  {
   "cell_type": "markdown",
   "metadata": {},
   "source": [
    "次の行列式の計算を確認せよ．\n",
    "$$ \n",
    "\\left|\n",
    "\\begin {array}{cccc} \n",
    "1+a & 1 & 1 & 1\\\\\n",
    "1 & 1+b & 1 & 1\\\\\n",
    "1 & 1 & 1+c & 1\\\\\n",
    "1 & 1 & 1 & 1+d\n",
    "\\end {array} \\right|\n",
    "= abcd \\left(1+\\sum_{i=a}^d \\frac{1}{i}\\right)\n",
    "$$\n"
   ]
  },
  {
   "cell_type": "code",
   "execution_count": 30,
   "metadata": {},
   "outputs": [
    {
     "name": "stdout",
     "output_type": "stream",
     "text": [
      "⎡a + 1    1      1      1  ⎤\n",
      "⎢                          ⎥\n",
      "⎢  1    b + 1    1      1  ⎥\n",
      "⎢                          ⎥\n",
      "⎢  1      1    c + 1    1  ⎥\n",
      "⎢                          ⎥\n",
      "⎣  1      1      1    d + 1⎦\n"
     ]
    },
    {
     "data": {
      "image/png": "[encoded data removed]",
      "text/latex": [
       "$\\displaystyle a b c d + a b c + a b d + a c d + b c d$"
      ],
      "text/plain": [
       "a⋅b⋅c⋅d + a⋅b⋅c + a⋅b⋅d + a⋅c⋅d + b⋅c⋅d"
      ]
     },
     "execution_count": 30,
     "metadata": {},
     "output_type": "execute_result"
    }
   ],
   "source": [
    "from sympy import *\n",
    "a,b,c,d,x,y,z = symbols('a b c d x y z')\n",
    "\n",
    "A = Matrix([[1+a,1,1,1],[1,1+b,1,1],[1,1,1+c,1],[1,1,1,1+d]]\n",
    ")\n",
    "pprint(A)\n",
    "simplify(A.det())"
   ]
  },
  {
   "cell_type": "markdown",
   "metadata": {},
   "source": [
    "## 逆行列"
   ]
  },
  {
   "cell_type": "code",
   "execution_count": 31,
   "metadata": {},
   "outputs": [
    {
     "data": {
      "image/png": "[encoded data removed]",
      "text/latex": [
       "$\\displaystyle \\left[\\begin{matrix}-2 & 1\\\\\\frac{3}{2} & - \\frac{1}{2}\\end{matrix}\\right]$"
      ],
      "text/plain": [
       "⎡-2    1  ⎤\n",
       "⎢         ⎥\n",
       "⎣3/2  -1/2⎦"
      ]
     },
     "execution_count": 31,
     "metadata": {},
     "output_type": "execute_result"
    }
   ],
   "source": [
    "A = Matrix([[1,2],[3,4]])\n",
    "A.inv()"
   ]
  },
  {
   "cell_type": "markdown",
   "metadata": {},
   "source": [
    "### 課題\n",
    "次の連立方程式を解け．\n",
    "$$ \n",
    "\\left\\{\n",
    "\\begin {array}{cl} \n",
    "x+y+z&=0\\\\\n",
    "ax+by+cz&=0\\\\\n",
    "bcx+cay+abz&=(a-b)(b-c)(c-a)\n",
    "\\end {array} \\right.\n",
    "$$"
   ]
  },
  {
   "cell_type": "code",
   "execution_count": 32,
   "metadata": {},
   "outputs": [
    {
     "name": "stdout",
     "output_type": "stream",
     "text": [
      "Matrix([[1, 1, 1], [a, b, c], [b*c, a*c, a*b]])\n",
      "Matrix([[0], [0], [(-a + c)*(a - b)*(b - c)]])\n",
      "-b + c\n",
      "a - c\n",
      "-a + b\n"
     ]
    }
   ],
   "source": [
    "from pprint import pprint\n",
    "from sympy import *\n",
    "a,b,c,x,y,z = symbols('a b c x y z')\n",
    "\n",
    "A = Matrix([[1,1,1],[a,b,c],[b*c,c*a,a*b]])\n",
    "bb = Matrix([0,0,(a-b)*(b-c)*(c-a)])\n",
    "print(A)\n",
    "print(bb)\n",
    "Ainv = A.inv()\n",
    "res = Ainv * bb\n",
    "pprint(simplify(res[0]))\n",
    "pprint(simplify(res[1]))\n",
    "pprint(simplify(res[2]))"
   ]
  },
  {
   "cell_type": "markdown",
   "metadata": {},
   "source": [
    "# 固有値，固有ベクトル\n",
    "\n",
    "sympyでは固有値・固有ベクトルは，eigenvects()で求められます．\n",
    "戻り値は，\n",
    "> [(固有値, 重複度, [固有ベクトル]), ...]\n",
    "\n",
    "です．"
   ]
  },
  {
   "cell_type": "code",
   "execution_count": 33,
   "metadata": {},
   "outputs": [
    {
     "data": {
      "image/png": "[encoded data removed]",
      "text/latex": [
       "$\\displaystyle \\left[ \\left( -1, \\  1, \\  \\left[ \\left[\\begin{matrix}-1\\\\1\\end{matrix}\\right]\\right]\\right), \\  \\left( 3, \\  1, \\  \\left[ \\left[\\begin{matrix}1\\\\1\\end{matrix}\\right]\\right]\\right)\\right]$"
      ],
      "text/plain": [
       "⎡⎛       ⎡⎡-1⎤⎤⎞  ⎛      ⎡⎡1⎤⎤⎞⎤\n",
       "⎢⎜-1, 1, ⎢⎢  ⎥⎥⎟, ⎜3, 1, ⎢⎢ ⎥⎥⎟⎥\n",
       "⎣⎝       ⎣⎣1 ⎦⎦⎠  ⎝      ⎣⎣1⎦⎦⎠⎦"
      ]
     },
     "execution_count": 33,
     "metadata": {},
     "output_type": "execute_result"
    }
   ],
   "source": [
    "A = Matrix([[1,2],[2,1]])\n",
    "A.eigenvects()"
   ]
  },
  {
   "cell_type": "markdown",
   "metadata": {},
   "source": [
    "## ベクトルの規格化\n",
    "\n",
    "eigenvectsの固有ベクトルは規格化されていません．norm()を使うとかんたんに規格化してくれます．"
   ]
  },
  {
   "cell_type": "code",
   "execution_count": 34,
   "metadata": {},
   "outputs": [
    {
     "data": {
      "image/png": "[encoded data removed]",
      "text/latex": [
       "$\\displaystyle \\left[\\begin{matrix}2\\end{matrix}\\right]$"
      ],
      "text/plain": [
       "[2]"
      ]
     },
     "execution_count": 34,
     "metadata": {},
     "output_type": "execute_result"
    }
   ],
   "source": [
    "v1=Matrix(A.eigenvects()[0][2])\n",
    "v2=Matrix(A.eigenvects()[1][2])\n",
    "\n",
    "simplify(v1.T*v1)"
   ]
  },
  {
   "cell_type": "code",
   "execution_count": 35,
   "metadata": {},
   "outputs": [
    {
     "data": {
      "image/png": "[encoded data removed]",
      "text/latex": [
       "$\\displaystyle \\sqrt{2}$"
      ],
      "text/plain": [
       "√2"
      ]
     },
     "execution_count": 35,
     "metadata": {},
     "output_type": "execute_result"
    }
   ],
   "source": [
    "v_norm = v1.norm()\n",
    "v_norm"
   ]
  },
  {
   "cell_type": "code",
   "execution_count": 36,
   "metadata": {},
   "outputs": [
    {
     "data": {
      "image/png": "[encoded data removed]",
      "text/latex": [
       "$\\displaystyle \\left[\\begin{matrix}- \\frac{\\sqrt{2}}{2}\\\\\\frac{\\sqrt{2}}{2}\\end{matrix}\\right]$"
      ],
      "text/plain": [
       "⎡-√2 ⎤\n",
       "⎢────⎥\n",
       "⎢ 2  ⎥\n",
       "⎢    ⎥\n",
       "⎢ √2 ⎥\n",
       "⎢ ── ⎥\n",
       "⎣ 2  ⎦"
      ]
     },
     "execution_count": 36,
     "metadata": {},
     "output_type": "execute_result"
    }
   ],
   "source": [
    "v1n = v1/v_norm\n",
    "v1n"
   ]
  },
  {
   "cell_type": "markdown",
   "metadata": {
    "collapsed": true
   },
   "source": [
    "## 対角化\n",
    "\n",
    "ちょいとわかりやすい行列を作成してみてみます．"
   ]
  },
  {
   "cell_type": "code",
   "execution_count": 37,
   "metadata": {},
   "outputs": [
    {
     "data": {
      "image/png": "[encoded data removed]",
      "text/latex": [
       "$\\displaystyle \\left( \\left[\\begin{matrix}1 & 1\\\\0 & 2\\end{matrix}\\right], \\  \\left[\\begin{matrix}1 & 1\\\\0 & 1\\end{matrix}\\right], \\  \\left[\\begin{matrix}1 & 0\\\\0 & 2\\end{matrix}\\right]\\right)$"
      ],
      "text/plain": [
       "⎛⎡1  1⎤  ⎡1  1⎤  ⎡1  0⎤⎞\n",
       "⎜⎢    ⎥, ⎢    ⎥, ⎢    ⎥⎟\n",
       "⎝⎣0  2⎦  ⎣0  1⎦  ⎣0  2⎦⎠"
      ]
     },
     "execution_count": 37,
     "metadata": {},
     "output_type": "execute_result"
    }
   ],
   "source": [
    "D = diag(1,2)\n",
    "P = Matrix([[1,0],[1,1]]).T\n",
    "A = P*D*P.inv()\n",
    "A, P, D"
   ]
  },
  {
   "cell_type": "code",
   "execution_count": 38,
   "metadata": {},
   "outputs": [
    {
     "data": {
      "image/png": "[encoded data removed]",
      "text/latex": [
       "$\\displaystyle \\left[\\begin{matrix}1 & 0\\\\0 & 2\\end{matrix}\\right]$"
      ],
      "text/plain": [
       "⎡1  0⎤\n",
       "⎢    ⎥\n",
       "⎣0  2⎦"
      ]
     },
     "execution_count": 38,
     "metadata": {},
     "output_type": "execute_result"
    }
   ],
   "source": [
    "P,D = A.diagonalize()\n",
    "\n",
    "P.inv()*A*P\n"
   ]
  },
  {
   "cell_type": "code",
   "execution_count": 39,
   "metadata": {},
   "outputs": [
    {
     "data": {
      "image/png": "[encoded data removed]",
      "text/latex": [
       "$\\displaystyle \\left[\\begin{matrix}1 & 1\\\\0 & 1\\end{matrix}\\right]$"
      ],
      "text/plain": [
       "⎡1  1⎤\n",
       "⎢    ⎥\n",
       "⎣0  1⎦"
      ]
     },
     "execution_count": 39,
     "metadata": {},
     "output_type": "execute_result"
    }
   ],
   "source": [
    "eigs = A.eigenvects()\n",
    "v1 = eigs[0][-1][0]\n",
    "v2 = eigs[1][-1][0]\n",
    "\n",
    "Matrix([v1,v2]).reshape(2,2).T"
   ]
  },
  {
   "cell_type": "markdown",
   "metadata": {},
   "source": [
    "対角化行列$P$をeigenvectsから作ろうとして苦労した．まず，固有ベクトルの取り出しが自動的にできない．重複しているときには，固有ベクトルは二つ出てくる．さらに，タプルからの取り出しがこれでいいいのか．．．さらに，ベクトルから行列を作るときに横置きのができない．うううんん．他のやり方をしたでやってみる．上では仕方がないので，一旦4x1のMatrixにしてそのあとreshape，さらにTransposeで．．．"
   ]
  },
  {
   "cell_type": "code",
   "execution_count": 40,
   "metadata": {},
   "outputs": [
    {
     "data": {
      "image/png": "[encoded data removed]",
      "text/latex": [
       "$\\displaystyle \\left[\\begin{matrix}1 & 1\\\\0 & 1\\end{matrix}\\right]$"
      ],
      "text/plain": [
       "⎡1  1⎤\n",
       "⎢    ⎥\n",
       "⎣0  1⎦"
      ]
     },
     "execution_count": 40,
     "metadata": {},
     "output_type": "execute_result"
    }
   ],
   "source": [
    "v1.col_insert(1,v2)"
   ]
  },
  {
   "cell_type": "markdown",
   "metadata": {},
   "source": [
    "numpyにはravel()というフラット化の関数があるがsympyにはない．\n",
    "\n",
    "結論：3つほど上でやっているdiagonalizeで取り出しましょう．重複があっても取り出してくれるんで．"
   ]
  },
  {
   "cell_type": "markdown",
   "metadata": {},
   "source": [
    "### 課題\n",
    "行列\n",
    "$$\n",
    "A\\, := \\, \\left[\n",
    "\\begin {array}{ccc} \n",
    "2&0&1\\\\\n",
    "0&3&0\\\\\n",
    "1&0&2\n",
    "\\end {array} \\right]\n",
    "$$\n",
    "\n",
    "を対角化する変換行列$P$を求め，対角化せよ．"
   ]
  },
  {
   "cell_type": "code",
   "execution_count": 41,
   "metadata": {},
   "outputs": [
    {
     "data": {
      "image/png": "[encoded data removed]",
      "text/latex": [
       "$\\displaystyle \\left[ \\left( 1, \\  1, \\  \\left[ \\left[\\begin{matrix}-1\\\\0\\\\1\\end{matrix}\\right]\\right]\\right), \\  \\left( 3, \\  2, \\  \\left[ \\left[\\begin{matrix}0\\\\1\\\\0\\end{matrix}\\right], \\  \\left[\\begin{matrix}1\\\\0\\\\1\\end{matrix}\\right]\\right]\\right)\\right]$"
      ],
      "text/plain": [
       "⎡⎛      ⎡⎡-1⎤⎤⎞  ⎛      ⎡⎡0⎤  ⎡1⎤⎤⎞⎤\n",
       "⎢⎜      ⎢⎢  ⎥⎥⎟  ⎜      ⎢⎢ ⎥  ⎢ ⎥⎥⎟⎥\n",
       "⎢⎜1, 1, ⎢⎢0 ⎥⎥⎟, ⎜3, 2, ⎢⎢1⎥, ⎢0⎥⎥⎟⎥\n",
       "⎢⎜      ⎢⎢  ⎥⎥⎟  ⎜      ⎢⎢ ⎥  ⎢ ⎥⎥⎟⎥\n",
       "⎣⎝      ⎣⎣1 ⎦⎦⎠  ⎝      ⎣⎣0⎦  ⎣1⎦⎦⎠⎦"
      ]
     },
     "execution_count": 41,
     "metadata": {},
     "output_type": "execute_result"
    }
   ],
   "source": [
    "A = Matrix([[2,0,1],[0,3,0],[1,0,2]])\n",
    "evs = A.eigenvects()\n",
    "evs\n",
    "#"
   ]
  },
  {
   "cell_type": "code",
   "execution_count": 42,
   "metadata": {},
   "outputs": [
    {
     "data": {
      "image/png": "[encoded data removed]",
      "text/latex": [
       "$\\displaystyle \\left( \\left[\\begin{matrix}-1 & 0 & 1\\\\0 & 1 & 0\\\\1 & 0 & 1\\end{matrix}\\right], \\  \\left[\\begin{matrix}1 & 0 & 0\\\\0 & 3 & 0\\\\0 & 0 & 3\\end{matrix}\\right]\\right)$"
      ],
      "text/plain": [
       "⎛⎡-1  0  1⎤  ⎡1  0  0⎤⎞\n",
       "⎜⎢        ⎥  ⎢       ⎥⎟\n",
       "⎜⎢0   1  0⎥, ⎢0  3  0⎥⎟\n",
       "⎜⎢        ⎥  ⎢       ⎥⎟\n",
       "⎝⎣1   0  1⎦  ⎣0  0  3⎦⎠"
      ]
     },
     "execution_count": 42,
     "metadata": {},
     "output_type": "execute_result"
    }
   ],
   "source": [
    "P,D = A.diagonalize()\n",
    "P,D"
   ]
  },
  {
   "cell_type": "code",
   "execution_count": 43,
   "metadata": {},
   "outputs": [
    {
     "data": {
      "image/png": "[encoded data removed]",
      "text/latex": [
       "$\\displaystyle \\left[\\begin{matrix}1 & 0 & 0\\\\0 & 3 & 0\\\\0 & 0 & 3\\end{matrix}\\right]$"
      ],
      "text/plain": [
       "⎡1  0  0⎤\n",
       "⎢       ⎥\n",
       "⎢0  3  0⎥\n",
       "⎢       ⎥\n",
       "⎣0  0  3⎦"
      ]
     },
     "execution_count": 43,
     "metadata": {},
     "output_type": "execute_result"
    }
   ],
   "source": [
    "P.inv()*A*P"
   ]
  },
  {
   "cell_type": "code",
   "execution_count": null,
   "metadata": {},
   "outputs": [],
   "source": []
  },
  {
   "cell_type": "code",
   "execution_count": null,
   "metadata": {},
   "outputs": [],
   "source": []
  }
 ],
 "metadata": {
  "kernelspec": {
   "display_name": "Python 3",
   "language": "python",
   "name": "python3"
  },
  "language_info": {
   "codemirror_mode": {
    "name": "ipython",
    "version": 3
   },
   "file_extension": ".py",
   "mimetype": "text/x-python",
   "name": "python",
   "nbconvert_exporter": "python",
   "pygments_lexer": "ipython3",
   "version": "3.8.5"
  },
  "latex_envs": {
   "LaTeX_envs_menu_present": true,
   "autocomplete": true,
   "bibliofile": "biblio.bib",
   "cite_by": "apalike",
   "current_citInitial": 1,
   "eqLabelWithNumbers": true,
   "eqNumInitial": 1,
   "hotkeys": {
    "equation": "Ctrl-E",
    "itemize": "Ctrl-I"
   },
   "labels_anchors": false,
   "latex_user_defs": false,
   "report_style_numbering": false,
   "user_envs_cfg": false
  },
  "toc": {
   "base_numbering": 1,
   "nav_menu": {
    "height": "84px",
    "width": "252px"
   },
   "number_sections": true,
   "sideBar": true,
   "skip_h1_title": false,
   "title_cell": "Table of Contents",
   "title_sidebar": "Contents",
   "toc_cell": true,
   "toc_position": {
    "height": "583px",
    "left": "0px",
    "right": "929px",
    "top": "106px",
    "width": "212px"
   },
   "toc_section_display": "block",
   "toc_window_display": true
  }
 },
 "nbformat": 4,
 "nbformat_minor": 2
}
