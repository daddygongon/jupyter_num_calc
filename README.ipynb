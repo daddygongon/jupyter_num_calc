{
 "cells": [
  {
   "cell_type": "markdown",
   "metadata": {
    "toc": "true"
   },
   "source": [
    "# Table of Contents\n",
    " <p><div class=\"lev1 toc-item\"><a href=\"#pythonで数学\" data-toc-modified-id=\"pythonで数学-1\"><span class=\"toc-item-num\">1&nbsp;&nbsp;</span>pythonで数学</a></div><div class=\"lev1 toc-item\"><a href=\"#目次と目標\" data-toc-modified-id=\"目次と目標-2\"><span class=\"toc-item-num\">2&nbsp;&nbsp;</span>目次と目標</a></div><div class=\"lev2 toc-item\"><a href=\"#数式処理\" data-toc-modified-id=\"数式処理-21\"><span class=\"toc-item-num\">2.1&nbsp;&nbsp;</span><a href=\"./symbolic_math/README.org\" target=\"_blank\">数式処理</a></a></div><div class=\"lev2 toc-item\"><a href=\"#線形代数\" data-toc-modified-id=\"線形代数-22\"><span class=\"toc-item-num\">2.2&nbsp;&nbsp;</span><a href=\"./linear_algebra/README.org\" target=\"_blank\">線形代数</a></a></div><div class=\"lev2 toc-item\"><a href=\"#coding\" data-toc-modified-id=\"coding-23\"><span class=\"toc-item-num\">2.3&nbsp;&nbsp;</span><a href=\"./program_coding/README.ipynb\" target=\"_blank\">coding</a></a></div><div class=\"lev2 toc-item\"><a href=\"#数値計算\" data-toc-modified-id=\"数値計算-24\"><span class=\"toc-item-num\">2.4&nbsp;&nbsp;</span><a href=\"./numerical_calc/README.ipynb\" target=\"_blank\">数値計算</a></a></div>"
   ]
  },
  {
   "cell_type": "markdown",
   "metadata": {},
   "source": [
    "pythonで数学\n",
    "============\n",
    "\n",
    "-   mapleで作っていたテキストをpythonに書き換えてみた．\n",
    "-   rubyのほうがやりたいけど．．．\n",
    "-   emacs keybindが使えるぜ．\n",
    "-   hikiのformatからの変換コードと手順,\n",
    "    \\~/ipynb\\_utils/md\\_to\\_ipynb.ipynbにあるが．．．\n",
    "\n",
    "目次と目標\n",
    "==========\n",
    "\n",
    "[数式処理](./symbolic_math/README.org)\n",
    "--------------------------------------\n",
    "\n",
    "[線形代数](./linear_algebra/README.org)\n",
    "---------------------------------------\n",
    "\n",
    "[coding](./program_coding/README.ipynb)\n",
    "---------------------------------------\n",
    "\n",
    "[数値計算](./numerical_calc/README.ipynb)\n",
    "-----------------------------------------\n"
   ]
  },
  {
   "cell_type": "code",
   "execution_count": null,
   "metadata": {
    "collapsed": true
   },
   "outputs": [],
   "source": []
  }
 ],
 "metadata": {
  "kernelspec": {
   "display_name": "Python 3",
   "language": "python",
   "name": "python3"
  },
  "language_info": {
   "codemirror_mode": {
    "name": "ipython",
    "version": 3
   },
   "file_extension": ".py",
   "mimetype": "text/x-python",
   "name": "python",
   "nbconvert_exporter": "python",
   "pygments_lexer": "ipython3",
   "version": "3.6.1"
  },
  "latex_envs": {
   "LaTeX_envs_menu_present": true,
   "autocomplete": true,
   "bibliofile": "biblio.bib",
   "cite_by": "apalike",
   "current_citInitial": 1,
   "eqLabelWithNumbers": true,
   "eqNumInitial": 1,
   "hotkeys": {
    "equation": "Ctrl-E",
    "itemize": "Ctrl-I"
   },
   "labels_anchors": false,
   "latex_user_defs": false,
   "report_style_numbering": false,
   "user_envs_cfg": false
  },
  "toc": {
   "colors": {
    "hover_highlight": "#DAA520",
    "navigate_num": "#000000",
    "navigate_text": "#333333",
    "running_highlight": "#FF0000",
    "selected_highlight": "#FFD700",
    "sidebar_border": "#EEEEEE",
    "wrapper_background": "#FFFFFF"
   },
   "moveMenuLeft": true,
   "nav_menu": {
    "height": "13px",
    "width": "253px"
   },
   "navigate_menu": true,
   "number_sections": true,
   "sideBar": true,
   "threshold": 4,
   "toc_cell": true,
   "toc_section_display": "block",
   "toc_window_display": true,
   "widenNotebook": false
  }
 },
 "nbformat": 4,
 "nbformat_minor": 2
}
