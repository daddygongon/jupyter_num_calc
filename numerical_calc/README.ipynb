{
 "cells": [
  {
   "cell_type": "markdown",
   "metadata": {
    "toc": "true"
   },
   "source": [
    "<h1>Table of Contents<span class=\"tocSkip\"></span></h1>\n",
    "<div class=\"toc\"><ul class=\"toc-item\"><li><span><a href=\"#数値計算\" data-toc-modified-id=\"数値計算-1\"><span class=\"toc-item-num\">1&nbsp;&nbsp;</span>数値計算</a></span></li><li><span><a href=\"#目次\" data-toc-modified-id=\"目次-2\"><span class=\"toc-item-num\">2&nbsp;&nbsp;</span>目次</a></span></li></ul></div>"
   ]
  },
  {
   "cell_type": "markdown",
   "metadata": {},
   "source": [
    "# 数値計算\n",
    "\n",
    "* mapleで作っていたテキストをpythonに書き換えてみた．\n",
    "* rubyのほうがやりたいけど．．．\n",
    "* emacs keybindが使えるぜ．\n",
    "* [hikiのformatからの変換コードと手順](md_ipynb_conv/md_to_ipynb.ipynb)"
   ]
  },
  {
   "cell_type": "markdown",
   "metadata": {},
   "source": [
    "# 目次\n",
    "* [ode](./ode/python_ode.ipynb)常微分方程式odrinary differential equation\n",
    "* [fsolve](./ipynb_text/fsolve.ipynb)数値解\n",
    "  * [fsolve_ex_ans](./report_ans/r2_fsolve_ans.ipynb)\n",
    "* [error](./ipynb_text/error.ipynb)誤差\n",
    "  * [error_ans](./report_ans/r2_error_ans.ipynb)\n",
    "* 線形代数(Linear Algebra)\n",
    "  * [LA fundamentals](./ipynb_text/la_fundamentals.ipynb)基礎\n",
    "    * [LA fundamentals_ans](./report_ans/r2_la_fundamentals_ans.ipynb)\n",
    "  * [LA matrix inverse](./ipynb_text/la_matrix_inverse.ipynb)逆行列\n",
    "    * [la_matrix_inverse_ans](./report_ans/r2_la_matrix_inverse_ans.ipynb)\n",
    "  * [LA eigenvectors](./ipynb_text/la_eigen_vectors.ipynb)固有値，固有ベクトル\n",
    "    * [la_eigen_ans](./report_ans/r2_la_eigen_ans.ipynb)\n",
    "    * [LA speed race](./ipynb_text/la_speed_race.ipynb)\n",
    "    * [breast cancer detector](breast_cancer_detector/python.ipynb)乳がん検出\n",
    "* [Interpolation and integrations](./ipynb_text/interpolation_integral.ipynb)内挿と積分\n",
    "    * [interpolation_integral_ans](./interpolation_integral_ans.ipynb)\n",
    "* [least square fit](./ipynb_text/least_square_fit.ipynb)線形フィッティング\n",
    "    * [least_square_fit_ex_ans.ipynb](./least_square_fit_ex_ans.ipynb)\n",
    "* [non_linear fit](./ipynb_text/non_linear_fit.ipynb)非線形フィッティング\n",
    "* [fft](./ipynb_text/fft.ipynb)フーリエ変換fast Fourier transform\n"
   ]
  },
  {
   "cell_type": "code",
   "execution_count": null,
   "metadata": {
    "collapsed": true
   },
   "outputs": [],
   "source": []
  }
 ],
 "metadata": {
  "kernelspec": {
   "display_name": "Julia 1.5.3",
   "language": "julia",
   "name": "julia-1.5"
  },
  "language_info": {
   "file_extension": ".jl",
   "mimetype": "application/julia",
   "name": "julia",
   "version": "1.5.3"
  },
  "latex_envs": {
   "LaTeX_envs_menu_present": true,
   "autocomplete": true,
   "bibliofile": "biblio.bib",
   "cite_by": "apalike",
   "current_citInitial": 1,
   "eqLabelWithNumbers": true,
   "eqNumInitial": 1,
   "hotkeys": {
    "equation": "Ctrl-E",
    "itemize": "Ctrl-I"
   },
   "labels_anchors": false,
   "latex_user_defs": false,
   "report_style_numbering": false,
   "user_envs_cfg": false
  },
  "toc": {
   "base_numbering": 1,
   "nav_menu": {
    "height": "12px",
    "width": "252px"
   },
   "number_sections": true,
   "sideBar": true,
   "skip_h1_title": false,
   "title_cell": "Table of Contents",
   "title_sidebar": "Contents",
   "toc_cell": true,
   "toc_position": {},
   "toc_section_display": "block",
   "toc_window_display": true
  }
 },
 "nbformat": 4,
 "nbformat_minor": 2
}
