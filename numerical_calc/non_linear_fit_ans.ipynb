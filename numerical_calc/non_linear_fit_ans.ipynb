{
 "cells": [
  {
   "cell_type": "markdown",
   "metadata": {
    "toc": "true"
   },
   "source": [
    "# Table of Contents\n",
    " <p><div class=\"lev1 toc-item\"><a href=\"#課題解答例\" data-toc-modified-id=\"課題解答例-1\"><span class=\"toc-item-num\">1&nbsp;&nbsp;</span>課題解答例</a></div><div class=\"lev2 toc-item\"><a href=\"#Gaussian(正規分布)へのフィット\" data-toc-modified-id=\"Gaussian(正規分布)へのフィット-11\"><span class=\"toc-item-num\">1.1&nbsp;&nbsp;</span>Gaussian(正規分布)へのフィット</a></div>"
   ]
  },
  {
   "cell_type": "markdown",
   "metadata": {},
   "source": [
    "# 課題解答例\n",
    "\n",
    "##  Gaussian(正規分布)へのフィット\n",
    "\n",
    "正規分布で知られる，ガウス関数\n",
    "$$\n",
    "f(x)= \\frac{1}{\\sqrt{2\\pi\\sigma}}\n",
    "\\exp \\left(\\frac{- (x-\\mu)^2}{2\\sigma^2} \\right)\n",
    "$$\n",
    "フィットをやってみましょう．\n",
    "\n",
    "例えば，平均値($\\mu$)が60点，偏差値($\\sigma$)が15点として，ピークの人数が20人としましょう．"
   ]
  },
  {
   "cell_type": "code",
   "execution_count": 16,
   "metadata": {},
   "outputs": [
    {
     "data": {
      "image/png": "[encoded data removed]",
      "text/plain": [
       "<matplotlib.figure.Figure at 0x11872c3c8>"
      ]
     },
     "metadata": {
      "needs_background": "light"
     },
     "output_type": "display_data"
    }
   ],
   "source": [
    "import numpy as np\n",
    "import matplotlib.pyplot as plt\n",
    "\n",
    "def func(x, a1, a2, a3):\n",
    "    return a1*np.exp(-(x-a2)**2/a3**2)\n",
    "\n",
    "ndata = 100\n",
    "xdata = np.linspace(1, ndata, ndata)\n",
    "y = func(xdata, 20, 60, 15)\n",
    "ydata = y\n",
    "plt.plot(xdata, ydata, 'b-', label='data')\n",
    "\n",
    "popt, pcov = curve_fit(func, xdata, ydata)\n",
    "plt.plot(xdata, func(xdata, *popt), 'r-', label='fit')\n",
    "plt.show()"
   ]
  },
  {
   "cell_type": "code",
   "execution_count": 17,
   "metadata": {},
   "outputs": [],
   "source": [
    "from pprint import pprint\n",
    "import scipy.linalg as linalg\n",
    "\n",
    "def dfda1(x,a1,a2,a3):\n",
    "    return np.exp(-(x - a2) ** 2 / a3 ** 2 / 2)\n",
    "def dfda2(x,a1,a2,a3):\n",
    "    return  a1 * (x - a2) / a3 ** 2 * np.exp(-(x - a2) ** 2 / a3 ** 2 / 2)\n",
    "def dfda3(x,a1,a2,a3):\n",
    "    return a1 * (x - a2) ** 2 / a3 ** 3 * np.exp(-(x - a2) ** 2 / a3 ** 2 / 2)"
   ]
  },
  {
   "cell_type": "code",
   "execution_count": 18,
   "metadata": {},
   "outputs": [],
   "source": [
    "nparam = 3\n",
    "guess1 = [10,50,10]"
   ]
  },
  {
   "cell_type": "code",
   "execution_count": 24,
   "metadata": {},
   "outputs": [
    {
     "name": "stdout",
     "output_type": "stream",
     "text": [
      "array([ 19.866,  59.841,  14.878])\n"
     ]
    },
    {
     "data": {
      "image/png": "[encoded data removed]",
      "text/plain": [
       "<matplotlib.figure.Figure at 0x11619be80>"
      ]
     },
     "metadata": {
      "needs_background": "light"
     },
     "output_type": "display_data"
    }
   ],
   "source": [
    "df=np.zeros([ndata])\n",
    "for i in range(0,ndata):\n",
    "    dy = ydata[i]-func(xdata[i], *guess1)\n",
    "    df[i]=dy\n",
    "#pprint(df)\n",
    "Jac=np.zeros([ndata,nparam])\n",
    "for i in range(0,ndata):\n",
    "    Jac[i,0] = dfda1(xdata[i], *guess1)\n",
    "    Jac[i,1] = dfda2(xdata[i], *guess1)\n",
    "    Jac[i,2] = dfda3(xdata[i], *guess1)\n",
    "# pprint(Jac)\n",
    "iJac = linalg.inv(np.dot(np.transpose(Jac),Jac))\n",
    "# print(iJac)\n",
    "Jdf = np.dot(np.transpose(Jac),df)\n",
    "# pprint(Jdf)\n",
    "guess1 = guess1 + np.dot(iJac, Jdf)\n",
    "pprint(guess1)\n",
    "plt.plot(xdata, ydata, 'b-', label='data')\n",
    "\n",
    "popt, pcov = curve_fit(func, xdata, ydata)\n",
    "plt.plot(xdata, func(xdata, *guess1), 'r-', label='fit')\n",
    "plt.show()"
   ]
  },
  {
   "cell_type": "code",
   "execution_count": null,
   "metadata": {
    "collapsed": true
   },
   "outputs": [],
   "source": []
  }
 ],
 "metadata": {
  "kernelspec": {
   "display_name": "Python 3",
   "language": "python",
   "name": "python3"
  },
  "language_info": {
   "codemirror_mode": {
    "name": "ipython",
    "version": 3
   },
   "file_extension": ".py",
   "mimetype": "text/x-python",
   "name": "python",
   "nbconvert_exporter": "python",
   "pygments_lexer": "ipython3",
   "version": "3.6.1"
  },
  "latex_envs": {
   "LaTeX_envs_menu_present": true,
   "autocomplete": true,
   "bibliofile": "biblio.bib",
   "cite_by": "apalike",
   "current_citInitial": 1,
   "eqLabelWithNumbers": true,
   "eqNumInitial": 1,
   "hotkeys": {
    "equation": "Ctrl-E",
    "itemize": "Ctrl-I"
   },
   "labels_anchors": false,
   "latex_user_defs": false,
   "report_style_numbering": false,
   "user_envs_cfg": false
  },
  "toc": {
   "colors": {
    "hover_highlight": "#DAA520",
    "navigate_num": "#000000",
    "navigate_text": "#333333",
    "running_highlight": "#FF0000",
    "selected_highlight": "#FFD700",
    "sidebar_border": "#EEEEEE",
    "wrapper_background": "#FFFFFF"
   },
   "moveMenuLeft": true,
   "nav_menu": {
    "height": "12px",
    "width": "252px"
   },
   "navigate_menu": true,
   "number_sections": true,
   "sideBar": true,
   "threshold": 4,
   "toc_cell": true,
   "toc_section_display": "block",
   "toc_window_display": true,
   "widenNotebook": false
  }
 },
 "nbformat": 4,
 "nbformat_minor": 2
}
