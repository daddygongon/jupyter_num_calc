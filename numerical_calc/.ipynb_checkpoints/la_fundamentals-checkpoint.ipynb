{
 "cells": [
  {
   "cell_type": "markdown",
   "metadata": {
    "toc": "true"
   },
   "source": [
    "# Table of Contents\n",
    " <p><div class=\"lev1 toc-item\"><a href=\"#行列と連立方程式\" data-toc-modified-id=\"行列と連立方程式-1\"><span class=\"toc-item-num\">1&nbsp;&nbsp;</span>行列と連立方程式</a></div><div class=\"lev2 toc-item\"><a href=\"#python-code\" data-toc-modified-id=\"python-code-11\"><span class=\"toc-item-num\">1.1&nbsp;&nbsp;</span>python code</a></div><div class=\"lev1 toc-item\"><a href=\"#掃き出し\" data-toc-modified-id=\"掃き出し-2\"><span class=\"toc-item-num\">2&nbsp;&nbsp;</span>掃き出し</a></div><div class=\"lev1 toc-item\"><a href=\"#写像\" data-toc-modified-id=\"写像-3\"><span class=\"toc-item-num\">3&nbsp;&nbsp;</span>写像</a></div><div class=\"lev2 toc-item\"><a href=\"#一点からの写像\" data-toc-modified-id=\"一点からの写像-31\"><span class=\"toc-item-num\">3.1&nbsp;&nbsp;</span>一点からの写像</a></div><div class=\"lev2 toc-item\"><a href=\"#写像のポンチ絵の正体\" data-toc-modified-id=\"写像のポンチ絵の正体-32\"><span class=\"toc-item-num\">3.2&nbsp;&nbsp;</span>写像のポンチ絵の正体</a></div><div class=\"lev1 toc-item\"><a href=\"#固有ベクトルの幾何学的意味\" data-toc-modified-id=\"固有ベクトルの幾何学的意味-4\"><span class=\"toc-item-num\">4&nbsp;&nbsp;</span>固有ベクトルの幾何学的意味</a></div><div class=\"lev2 toc-item\"><a href=\"#解答\" data-toc-modified-id=\"解答-41\"><span class=\"toc-item-num\">4.1&nbsp;&nbsp;</span>解答</a></div><div class=\"lev1 toc-item\"><a href=\"#行列式の幾何学的意味\" data-toc-modified-id=\"行列式の幾何学的意味-5\"><span class=\"toc-item-num\">5&nbsp;&nbsp;</span>行列式の幾何学的意味</a></div><div class=\"lev1 toc-item\"><a href=\"#行列式が0の写像\" data-toc-modified-id=\"行列式が0の写像-6\"><span class=\"toc-item-num\">6&nbsp;&nbsp;</span>行列式が0の写像</a></div><div class=\"lev1 toc-item\"><a href=\"#全単射\" data-toc-modified-id=\"全単射-7\"><span class=\"toc-item-num\">7&nbsp;&nbsp;</span>全単射</a></div><div class=\"lev1 toc-item\"><a href=\"#課題\" data-toc-modified-id=\"課題-8\"><span class=\"toc-item-num\">8&nbsp;&nbsp;</span>課題</a></div>"
   ]
  },
  {
   "cell_type": "markdown",
   "metadata": {},
   "source": [
    "<br />\n",
    "\n",
    "<div style=\"text-align: center;\">\n",
    "<font size=\"7\">線形代数-写像</font>\n",
    "</div>\n",
    "<br />\n",
    "<div style=\"text-align: right;\">\n",
    "<font size=\"4\">file:/Users/bob/Github/TeamNishitani/jupyter_num_calc/lafundamentals</font>\n",
    "<br />\n",
    "<font size=\"4\">https://github.com/daddygongon/jupyter_num_calc/tree/master/notebooks_python</font>\n",
    "<br />\n",
    "<font size=\"4\">cc by Shigeto R. Nishitani 2017 </font>\n",
    "</div>\n"
   ]
  },
  {
   "cell_type": "markdown",
   "metadata": {},
   "source": [
    "# 行列と連立方程式\n"
   ]
  },
  {
   "cell_type": "markdown",
   "metadata": {},
   "source": [
    "\n",
    "大学の理系で必修なのは微積分と線形代数です．線形代数というと逆行列と固有値の計算がすぐに思い浮かぶでしょう．計算がややこしくてそれだけでいやになります．でも，行列の計算法は一連の手順で記述できるので，pythonでは微積分とおなじように一個のコマンドで片が付きます．それが3x3以上でも同じです．問題はその意味です．ここでは，線形代数の計算がpythonを使えばどれほど簡単にできるかを示すと共に，線形代数の基本となる概念についてスクリプトと描画を使って，直観的に理解することを目的とします．\n",
    "\n",
    "先ずは連立方程式から入っていきます．中学の時に\n",
    "\n",
    "$$\n",
    "4x = 2\n",
    "$$\n",
    "というのを解きますよね．一般的には\n",
    "\n",
    "$$\n",
    "\\begin {array}{rl}\n",
    "ax &= b \\\\\n",
    "x &= b/a\n",
    "\\end {array}\n",
    "$$\n",
    "と書けるというのは皆さんご存知のはず．これと同じようにして連立方程式を書こうというのが逆行列の基本．つまり\n",
    "\n",
    "$$\n",
    "\\begin {array}{rrl}\n",
    "2x\\, + &5y &=7 \\\\\n",
    "4x\\, + &y &=5\n",
    "\\end {array}\n",
    "$$\n",
    "という連立方程式は，係数から作られる2x2行列を係数行列$A$，左辺の値で作るベクトルを$b$として，\n",
    "\n",
    "$$\n",
    "\\begin {array}{rll}\n",
    "Ax &= b & \\\\\n",
    "x &= b/A &= A^{-1}b\n",
    "\\end {array}\n",
    "$$\n",
    "としたいわけです．\n"
   ]
  },
  {
   "cell_type": "markdown",
   "metadata": {},
   "source": [
    "## python code\n",
    "\n",
    "線形代数の問題をpythonで扱うには，scipyに用意されているlinalgパッケージを使うのが現在主流．numpyにある線形代数関数をすべてカバー(包含)しているから．\n",
    "\n",
    "まずは行列\n",
    "$$\n",
    "\\left[ \\begin {array}{cc} 2&5\\\\ 4&1\\end {array} \\right]\n",
    "$$\n",
    "を作ります．"
   ]
  },
  {
   "cell_type": "code",
   "execution_count": 1,
   "metadata": {},
   "outputs": [
    {
     "name": "stdout",
     "output_type": "stream",
     "text": [
      "array([[2, 5],\n",
      "       [4, 1]])\n"
     ]
    }
   ],
   "source": [
    "import numpy as np\n",
    "from pprint import pprint\n",
    "aa = np.array([[2,5], [4,1]])\n",
    "pprint(aa)"
   ]
  },
  {
   "cell_type": "markdown",
   "metadata": {},
   "source": [
    "pprintのimportと呼び出しの仕方は微妙なんで，\n",
    "上で示した順番を守ってください．\n",
    "\n",
    "で，次は$b$ ベクトル\n",
    "$$\n",
    "\\left[ \\begin {array}{c} \n",
    "7\\\\\n",
    "5\n",
    "\\end {array} \\right]\n",
    "$$\n",
    "です．"
   ]
  },
  {
   "cell_type": "code",
   "execution_count": 5,
   "metadata": {},
   "outputs": [
    {
     "name": "stdout",
     "output_type": "stream",
     "text": [
      "array([7, 5])\n"
     ]
    }
   ],
   "source": [
    "b = np.array([7,5])\n",
    "pprint(b)"
   ]
  },
  {
   "cell_type": "markdown",
   "metadata": {},
   "source": [
    "連立方程式の解(Solve a linear matrix equation, or system of linear scalar equations)を一発で求める関数は次の通りです．"
   ]
  },
  {
   "cell_type": "code",
   "execution_count": 6,
   "metadata": {},
   "outputs": [
    {
     "name": "stdout",
     "output_type": "stream",
     "text": [
      "array([ 1.,  1.])\n"
     ]
    }
   ],
   "source": [
    "import scipy.linalg as linalg\n",
    "pprint(linalg.solve(aa,b))"
   ]
  },
  {
   "cell_type": "markdown",
   "metadata": {},
   "source": [
    "逆行列と$b$ の積から求めるのは次の通りです．"
   ]
  },
  {
   "cell_type": "code",
   "execution_count": 36,
   "metadata": {},
   "outputs": [
    {
     "name": "stdout",
     "output_type": "stream",
     "text": [
      "array([[-0.056,  0.278],\n",
      "       [ 0.222, -0.111]])\n"
     ]
    }
   ],
   "source": [
    "# 逆行列(matrix inverse)\n",
    "inv_a = linalg.inv(aa)\n",
    "pprint(inv_a)"
   ]
  },
  {
   "cell_type": "code",
   "execution_count": 37,
   "metadata": {},
   "outputs": [
    {
     "name": "stdout",
     "output_type": "stream",
     "text": [
      "array([ 1.,  1.])\n"
     ]
    }
   ],
   "source": [
    "# 逆行列と，定数項(ordinate)の転置(transpose)との\n",
    "t_b = np.transpose(b)\n",
    "pprint(np.dot(inv_a,t_b))"
   ]
  },
  {
   "cell_type": "markdown",
   "metadata": {},
   "source": [
    "pythonのarrayは横ベクトルということに注意してください．\n",
    "行列に右から掛けるには，転置しておく必要があります．"
   ]
  },
  {
   "cell_type": "markdown",
   "metadata": {},
   "source": [
    "# 掃き出し\n"
   ]
  },
  {
   "cell_type": "markdown",
   "metadata": {},
   "source": [
    "係数行列$A$とベクトル$b$を足して作られる行列は拡大係数行列と呼ばれます．numpyでは，これは"
   ]
  },
  {
   "cell_type": "code",
   "execution_count": 38,
   "metadata": {},
   "outputs": [
    {
     "name": "stdout",
     "output_type": "stream",
     "text": [
      "array([[2, 5, 7],\n",
      "       [4, 1, 5]])\n"
     ]
    }
   ],
   "source": [
    "ab = np.column_stack((aa,b))\n",
    "pprint(ab)"
   ]
  },
  {
   "cell_type": "markdown",
   "metadata": {},
   "source": [
    "として作られます．ここから行列の掃き出し操作をおこなうには,luというコマンドを使います．"
   ]
  },
  {
   "cell_type": "code",
   "execution_count": 39,
   "metadata": {},
   "outputs": [
    {
     "name": "stdout",
     "output_type": "stream",
     "text": [
      "P=\n",
      "array([[ 0.,  1.],\n",
      "       [ 1.,  0.]])\n",
      "L=\n",
      "array([[ 1. ,  0. ],\n",
      "       [ 0.5,  1. ]])\n",
      "U=\n",
      "array([[ 4. ,  1. ,  5. ],\n",
      "       [ 0. ,  4.5,  4.5]])\n"
     ]
    }
   ],
   "source": [
    "P, L, U = linalg.lu(ab)\n",
    "print(\"P=\")\n",
    "pprint(P)\n",
    "print(\"L=\")\n",
    "pprint(L)\n",
    "print(\"U=\")\n",
    "pprint(U)"
   ]
  },
  {
   "cell_type": "markdown",
   "metadata": {},
   "source": [
    "これは，下三角行列(Lower Triangle Matrix)と上三角行列(Upper Triangle Matrix)に分解(decompose)するコマンドです．この操作はLU分解と呼ばれます．$P$行列は置換(permutation)行列を意味します．luの出力は，前進消去が終わっただけの状態です．後退代入(back substitution)して得られる，reduced row echelon form(rref)にする方法は問題があるとして，numpyでは関数を用意してないようです．\n",
    "\n",
    "rrefはsympyには用意されています．"
   ]
  },
  {
   "cell_type": "code",
   "execution_count": 40,
   "metadata": {},
   "outputs": [
    {
     "name": "stdout",
     "output_type": "stream",
     "text": [
      "Matrix([\n",
      "[2, 5, 7],\n",
      "[4, 1, 5]])\n"
     ]
    },
    {
     "data": {
      "text/plain": [
       "(Matrix([\n",
       " [1, 0, 1],\n",
       " [0, 1, 1]]), [0, 1])"
      ]
     },
     "execution_count": 40,
     "metadata": {},
     "output_type": "execute_result"
    }
   ],
   "source": [
    "from sympy import Matrix\n",
    "\n",
    "Aex = Matrix([[2,5,7],[4,1,5]])\n",
    "pprint(Aex)\n",
    "Aex.rref()"
   ]
  },
  {
   "cell_type": "markdown",
   "metadata": {},
   "source": [
    "# 写像\n"
   ]
  },
  {
   "cell_type": "markdown",
   "metadata": {},
   "source": [
    "## 一点からの写像\n",
    "\n",
    "次に，先ほどの行列による点の移動\n",
    "$$\n",
    "\\left(\n",
    "\\begin{array}{c} 1 \\\\ 1 \\end{array}\n",
    "\\right)\n",
    "\\xrightarrow{f:A}\n",
    "\\left(\n",
    "\\begin{array}{c} 5 \\\\ 7 \\end{array}\n",
    "\\right)\n",
    "$$\n",
    "を2次元上のグラフで見てみましょう．\n",
    "\n",
    "draw_projcetion_line_pointsは座標(x,y)を受け取り，\n",
    "1. 位置p0(x,y)を作り，\n",
    "1. 行列(aa)によって写像される位置p1を作ります．\n",
    "1. p0に丸を赤色r(ed)で描き，\n",
    "1. 同じように位置p1に青色b(lue)で丸を描きます．\n",
    "1. もう一つ，p0からp1をつなぐlineを引きます．\n",
    "\n",
    "さらに，表示範囲を0..7,0..5として軸をdraw_axesで書いています．\n",
    "\n",
    "<!---\n",
    " ![LAFundamentalsplot2d1.png](figs/LAFundamentalsplot2d1.png)\n",
    "-->"
   ]
  },
  {
   "cell_type": "code",
   "execution_count": 15,
   "metadata": {},
   "outputs": [
    {
     "name": "stdout",
     "output_type": "stream",
     "text": [
      "array([[2, 5],\n",
      "       [4, 1]])\n"
     ]
    },
    {
     "data": {
      "image/png": "[encoded data removed]",
      "text/plain": [
       "<matplotlib.figure.Figure at 0x10f49ea58>"
      ]
     },
     "metadata": {},
     "output_type": "display_data"
    }
   ],
   "source": [
    "import matplotlib.pyplot as plt\n",
    "import numpy as np\n",
    "def draw_projcetion_line_points(x,y):\n",
    "    p0 = np.array([x,y])\n",
    "    p1 = np.dot(aa,p0)\n",
    "\n",
    "    plt.plot(p0[0],p0[1],'o',color='r')\n",
    "    plt.plot(p1[0],p1[1],'o',color='b')\n",
    "    plt.plot([p0[0],p1[0]],[p0[1],p1[1]],\n",
    "             color='k', linestyle='-', linewidth=1)\n",
    "\n",
    "def draw_axes(x_min,x_max,y_min,y_max):\n",
    "    plt.hlines(0, x_min, x_max, color='k', linestyle='-',\n",
    "               linewidth=1)\n",
    "    plt.vlines(0, y_min, y_max, color='k', linestyle='-',\n",
    "               linewidth=1)\n",
    "\n",
    "aa = np.array([[2,5], [4,1]])\n",
    "pprint(aa)\n",
    "draw_projcetion_line_points(1,1)\n",
    "\n",
    "draw_axes(0,7,0,5)\n",
    "\n",
    "plt.axes().set_aspect('equal', 'datalim')\n",
    "plt.grid(b=None, which='major', axis='both')\n",
    "plt.show()"
   ]
  },
  {
   "cell_type": "markdown",
   "metadata": {},
   "source": [
    "逆行列は"
   ]
  },
  {
   "cell_type": "code",
   "execution_count": 8,
   "metadata": {},
   "outputs": [
    {
     "name": "stdout",
     "output_type": "stream",
     "text": [
      "array([[-0.05555556,  0.27777778],\n",
      "       [ 0.22222222, -0.11111111]])\n"
     ]
    }
   ],
   "source": [
    "inv_aa = linalg.inv(aa)\n",
    "pprint(inv_aa)"
   ]
  },
  {
   "cell_type": "markdown",
   "metadata": {},
   "source": [
    "です．先ほどと逆に青から赤へたどる変換になっています．これが，連立方程式を解く様子をグラフで示しています．つまり，行列Aで示される変換によって求まる青点で示したベクトルb(7,5)を指す元の赤点を捜すというものです．答えは(1,1)となります．"
   ]
  },
  {
   "cell_type": "markdown",
   "metadata": {},
   "source": [
    "## 写像のポンチ絵の正体\n",
    "\n",
    "では，元の赤点をもう少しいろいろ取って，行列Aでどのような点へ写されるかを見てみましょう．\n",
    "\n",
    "1. n=32で分割した円周上の点(x0,y0)を求めて，\n",
    "1. draw_projcetion_line_pointsでそれぞれの点の写像\n",
    "\n",
    "します．\n"
   ]
  },
  {
   "cell_type": "code",
   "execution_count": 16,
   "metadata": {
    "scrolled": true
   },
   "outputs": [
    {
     "data": {
      "image/png": "[encoded data removed]",
      "text/plain": [
       "<matplotlib.figure.Figure at 0x10f3ec5f8>"
      ]
     },
     "metadata": {},
     "output_type": "display_data"
    }
   ],
   "source": [
    "aa = np.array([[2,5], [4,1]])\n",
    "\n",
    "div = 32\n",
    "for i in range(0,div):\n",
    "    theta = 2*np.pi/div*i\n",
    "    x0 = np.sin(theta)\n",
    "    y0 = np.cos(theta)\n",
    "    # print('%10.5f-%10.5f' % (x,y))\n",
    "    draw_projcetion_line_points(x0,y0)\n",
    "\n",
    "draw_axes(-7,7,-5,5)\n",
    "\n",
    "plt.axes().set_aspect('equal', 'datalim')\n",
    "plt.show()"
   ]
  },
  {
   "cell_type": "markdown",
   "metadata": {},
   "source": [
    "できあがりの図を見てください．何やっているか分かります? 中心の赤点で示される円が，青点で示される楕円へ写されていることが分かるでしょうか．\n",
    "\n",
    "線形代数の講義で，写像を示すときによく使われるポンチ絵を現実の空間で示すとこのようになります．ポンチ絵では，赤で示した$V$空間が青で示した$W$空間へ行列$A$によって写像され，それぞれの要素$v$が$w$へ移されると意図しています．\n",
    "\n",
    "![la_fundamentals.001.png](figs/la_fundamentals.001.png)"
   ]
  },
  {
   "cell_type": "markdown",
   "metadata": {},
   "source": [
    "# 固有ベクトルの幾何学的意味\n"
   ]
  },
  {
   "cell_type": "markdown",
   "metadata": {},
   "source": [
    "では，ここでクイズです．固有ベクトルは上のグラフの何処に対応するか?　ヒントは，\n",
    "> 行列Aの固有値，固有ベクトルを$\\lambda, x_0$とすると，\n",
    "> $$\n",
    " A \\,x_0 = \\lambda \\, x_0\n",
    " $$\n",
    "> が成立する\n",
    "\n",
    "です．"
   ]
  },
  {
   "cell_type": "markdown",
   "metadata": {},
   "source": [
    "## 解答 \n"
   ]
  },
  {
   "cell_type": "markdown",
   "metadata": {},
   "source": [
    "固有値$\\lambda$，固有ベクトル$x_0$の関係式\n",
    "\n",
    "$$\n",
    "A \\,x_0 = \\lambda \\, x_0\n",
    "$$\n",
    "を言葉で言い直すと，\n",
    ">固有ベクトル$x_0$は変換行列$A$によって，自分の固有値倍のベクトル$\\lambda x_0$に写されるベクトル\n",
    "となります．つまり変換の図で言うと，\n",
    ">変換しても方向が変わらない赤点（の方向）\n",
    "となります．\n",
    "\n",
    "固有値と固有ベクトルはpythonでは以下のeigコマンドで求まります．"
   ]
  },
  {
   "cell_type": "code",
   "execution_count": 11,
   "metadata": {},
   "outputs": [
    {
     "name": "stdout",
     "output_type": "stream",
     "text": [
      "array([[2, 5],\n",
      "       [4, 1]])\n",
      "array([ 6., -3.])\n",
      "array([[ 0.781, -0.707],\n",
      "       [ 0.625,  0.707]])\n"
     ]
    }
   ],
   "source": [
    "import numpy as np\n",
    "from pprint import pprint\n",
    "import scipy.linalg as linalg\n",
    "\n",
    "np.set_printoptions(precision=3, suppress=True)\n",
    "\n",
    "aa = np.array([[2,5], [4,1]])\n",
    "pprint(aa)\n",
    "#a = np.array([[3,2/3], [2/3,2]])\n",
    "l,P = np.linalg.eig(aa)\n",
    "pprint(l)\n",
    "pprint(P)"
   ]
  },
  {
   "cell_type": "markdown",
   "metadata": {},
   "source": [
    "ここではeigで戻り値をl ($\\lambda$(lambdaと書きます))，と$P$に代入しています．この後ろ側にある行列$P$の1列目で構成されるベクトルが固有値6に対応する固有ベクトル，2列目のベクトルが固有値-3に対応する固有ベクトルです．\n",
    "\n",
    "これを取り出すのは次のようにします．"
   ]
  },
  {
   "cell_type": "code",
   "execution_count": 12,
   "metadata": {},
   "outputs": [
    {
     "name": "stdout",
     "output_type": "stream",
     "text": [
      "array([ 0.781,  0.625])\n",
      "array([-0.707,  0.707])\n"
     ]
    }
   ],
   "source": [
    "v0 = P[:,0]\n",
    "v1 = P[:,1]\n",
    "pprint(v0)\n",
    "pprint(v1)"
   ]
  },
  {
   "cell_type": "markdown",
   "metadata": {},
   "source": [
    "これを書き加えた図を示します．ちゃんと固有ベクトルになってるでしょう．"
   ]
  },
  {
   "cell_type": "code",
   "execution_count": 13,
   "metadata": {
    "scrolled": true
   },
   "outputs": [
    {
     "data": {
      "image/png": "[encoded data removed]",
      "text/plain": [
       "<matplotlib.figure.Figure at 0x10e2f1160>"
      ]
     },
     "metadata": {},
     "output_type": "display_data"
    }
   ],
   "source": [
    "import matplotlib.pyplot as plt\n",
    "\n",
    "def draw_eigen_vector(v, t):\n",
    "    plt.plot([-t*v[0],t*v[0]], [-t*v[1],t*v[1]], \n",
    "             color='g', linestyle='-', linewidth=2)\n",
    "\n",
    "div = 32\n",
    "for i in range(0,div):\n",
    "    theta = 2*np.pi/div*i\n",
    "    x0 = np.sin(theta)\n",
    "    y0 = np.cos(theta)\n",
    "    # print('%10.5f-%10.5f' % (x,y))\n",
    "    draw_projcetion_line_points(x0,y0)\n",
    "\n",
    "draw_axes(-7,7,-5,5)\n",
    "\n",
    "draw_eigen_vector(v0, 7)\n",
    "draw_eigen_vector(v1, 5)\n",
    "\n",
    "plt.axes().set_aspect('equal', 'datalim')\n",
    "plt.show()"
   ]
  },
  {
   "cell_type": "markdown",
   "metadata": {},
   "source": [
    "\n",
    "おまけですが，行列の対角化は次のようにしてできます．\n"
   ]
  },
  {
   "cell_type": "code",
   "execution_count": 14,
   "metadata": {},
   "outputs": [
    {
     "data": {
      "text/plain": [
       "array([[ 6.,  0.],\n",
       "       [ 0., -3.]])"
      ]
     },
     "execution_count": 14,
     "metadata": {},
     "output_type": "execute_result"
    }
   ],
   "source": [
    "np.dot(np.dot(np.linalg.inv(P),aa),P)"
   ]
  },
  {
   "cell_type": "markdown",
   "metadata": {},
   "source": [
    "# 行列式の幾何学的意味\n"
   ]
  },
  {
   "cell_type": "markdown",
   "metadata": {},
   "source": [
    "\n",
    "行列Aの行列式(determinant, $\\left|A\\right|$あるいはdet$A$と表記)はdetで求まります．"
   ]
  },
  {
   "cell_type": "code",
   "execution_count": 17,
   "metadata": {},
   "outputs": [
    {
     "data": {
      "text/plain": [
       "-17.999999999999996"
      ]
     },
     "execution_count": 17,
     "metadata": {},
     "output_type": "execute_result"
    }
   ],
   "source": [
    "np.linalg.det(aa)"
   ]
  },
  {
   "cell_type": "markdown",
   "metadata": {},
   "source": [
    "では次のクイズ．先ほど求めた，行列Aの行列式は，どこに対応するでしょう?\n",
    "以下の(1,0),(0,1)の点を変換した点に原点からベクトルを結んでその意味を説明してください．さらに，そのマイナスの意味は？．"
   ]
  },
  {
   "cell_type": "code",
   "execution_count": 16,
   "metadata": {},
   "outputs": [
    {
     "name": "stdout",
     "output_type": "stream",
     "text": [
      "array([[2, 5],\n",
      "       [4, 1]])\n"
     ]
    },
    {
     "data": {
      "image/png": "[encoded data removed]",
      "text/plain": [
       "<matplotlib.figure.Figure at 0x10e2e3828>"
      ]
     },
     "metadata": {},
     "output_type": "display_data"
    }
   ],
   "source": [
    "aa = np.array([[2,5], [4,1]])\n",
    "pprint(a)\n",
    "draw_projcetion_line_points(1,0)\n",
    "draw_projcetion_line_points(0,1)\n",
    "\n",
    "\n",
    "draw_axes(0,8,0,8)\n",
    "\n",
    "plt.axes().set_aspect('equal', 'datalim')\n",
    "plt.grid(b=None, which='major', axis='both')\n",
    "plt.show()"
   ]
  },
  {
   "cell_type": "markdown",
   "metadata": {},
   "source": []
  },
  {
   "cell_type": "markdown",
   "metadata": {},
   "source": [
    "# 行列式が0の写像\n"
   ]
  },
  {
   "cell_type": "markdown",
   "metadata": {},
   "source": [
    "では，行列式が０になるというのはどういう状態でしょう? 次のような行列を考えてみましょう．\n",
    "$$\n",
    "\\left[ \\begin {array}{cc} 2&1\\\\ 4&2\n",
    "\\end {array} \\right]\n",
    "$$\n",
    "\n",
    "この行列の行列式は"
   ]
  },
  {
   "cell_type": "code",
   "execution_count": 17,
   "metadata": {},
   "outputs": [
    {
     "data": {
      "text/plain": [
       "0.0"
      ]
     },
     "execution_count": 17,
     "metadata": {},
     "output_type": "execute_result"
    }
   ],
   "source": [
    "aa = np.array([[2,1],[4,2]])\n",
    "np.linalg.det(aa)"
   ]
  },
  {
   "cell_type": "markdown",
   "metadata": {},
   "source": [
    "です．この変換行列で，上と同じように写像の様子を表示させてみましょう．"
   ]
  },
  {
   "cell_type": "code",
   "execution_count": 18,
   "metadata": {
    "scrolled": true
   },
   "outputs": [
    {
     "data": {
      "image/png": "[encoded data removed]",
      "text/plain": [
       "<matplotlib.figure.Figure at 0x10fd2ef28>"
      ]
     },
     "metadata": {},
     "output_type": "display_data"
    }
   ],
   "source": [
    "aa = np.array([[2,1], [4,2]])\n",
    "\n",
    "div = 32\n",
    "for i in range(0,div):\n",
    "    theta = 2*np.pi/div*i\n",
    "    x0 = np.sin(theta)\n",
    "    y0 = np.cos(theta)\n",
    "    # print('%10.5f-%10.5f' % (x,y))\n",
    "    draw_projcetion_line_points(x0,y0)\n",
    "\n",
    "draw_axes(-7,7,-5,5)\n",
    "\n",
    "plt.axes().set_aspect('equal', 'datalim')\n",
    "plt.show()"
   ]
  },
  {
   "cell_type": "markdown",
   "metadata": {},
   "source": [
    "今回の移動先の青点は直線となっています．つまり，determinantが0ということは，変換すると面積がつぶれるという事を意味しています．平面がひとつ次元を落として線になるということです．"
   ]
  },
  {
   "cell_type": "markdown",
   "metadata": {},
   "source": [
    "次に，この行列の表わす写像によって原点(0,0)に写される元の座標を求めてみます．連立方程式に戻してみると\n",
    "$$\n",
    "\\left[ \\begin {array}{c} 2\\,x+y\\\\ 4\\,x+2\\,y\\end {array} \\right] = \\left[ \\begin {array}{c} 0\\\\ 0\\end {array} \\right]\n",
    "$$\n",
    "となります．とよく見ると，1行目も2行目もおなじ式になっています．2次元正方行列で，行列式が0の時には必ずこういう形になり，直線の式となります．これを表示すると\n",
    "\n",
    "![LAFundamentalsKernelImage.png](figs/LAFundamentalsKernelImage.png)\n",
    "\n",
    "左図の赤線となります．この直線上の全ての点が[0,0]へ写されることを確認してください．また，緑の線上の点は全て[1,2]へ写されることが確認できます．"
   ]
  },
  {
   "cell_type": "markdown",
   "metadata": {},
   "source": [
    "\n",
    "こうしてすべて調べていけば，左の平面上のすべて点は右の青の直線上へ写されることが分かります．今まで見てきた円と楕円とはまったく違った写像が，行列式が0の行列では起こっていることが分かると思います．右の青線を行列Aによる像(Image, Im$A$と表記)，左の赤線，つまり写像によって[0,0]へ写される集合を核(Kernel, Ker$A$と表記)と呼びます．\n",
    "\n",
    "これをポンチ絵で描くと，次の通りです．\n",
    "\n",
    "\n",
    "|像(Image) | 核(Kernel) |\n",
    "|:----|:----|\n",
    "|![la_fundamentals.002.png](figs/la_fundamentals.002.png)\n",
    "\n",
    "<!---\n",
    "![la_fundamentals.002.png](figs/la_fundamentals.003.png)\n",
    "--->"
   ]
  },
  {
   "cell_type": "markdown",
   "metadata": {},
   "source": [
    "# 全単射\n"
   ]
  },
  {
   "cell_type": "markdown",
   "metadata": {},
   "source": [
    "行列$A$による写像を$f$として，赤点に限らず元の点の集合を$V$, 移った先の点の集合を$W$とすると，\n",
    "\n",
    "$$\n",
    "f: V \\rightarrow W\n",
    "$$\n",
    "と表記されます．$v,w$を$V,W$の要素としたとき，異なる$v$が異なる$w$に写されることを単射，全ての$w$に対応する$v$がある写像を全射と言います．全単射，つまり全射でかつ単射，だと要素は一対一に対応します．先ほどのAは全射でもなく，単射でもない例です．\n",
    "\n",
    "行列式が0の場合の写像は単射ではありません．このとき，逆写像が作れそうにありません．これを連立方程式に戻して考えましょう．もともと，\n",
    "\n",
    "$$\n",
    "v = A^{-1} w\n",
    "$$\n",
    "の解$v$は点$w$が写像$A$によってどこから写されてきたかという意味を持ちます．逆写像が作れない場合は，連立方程式の解はパラメータをひとつ持った複数の解(直線)となります．これが係数行列の行列式が0の場合に，連立方程式の解が不定となる，あるいは像がつぶれるという関係です．"
   ]
  },
  {
   "cell_type": "markdown",
   "metadata": {},
   "source": [
    "行列の次元が高い場合には，いろいろなつぶれかたをします．行列の階数(rank)と次元(dimension)は"
   ]
  },
  {
   "cell_type": "code",
   "execution_count": 19,
   "metadata": {},
   "outputs": [
    {
     "name": "stdout",
     "output_type": "stream",
     "text": [
      "1\n",
      "(2, 2)\n"
     ]
    }
   ],
   "source": [
    "print(np.linalg.matrix_rank(aa))\n",
    "print(aa.shape)"
   ]
  },
  {
   "cell_type": "markdown",
   "metadata": {},
   "source": [
    "で求まります．\n",
    "\n",
    "Aをm行n列の行列とするとき，\n",
    ">Rank(A) = Dimension (Im A)\n",
    "\n",
    ">Dimension (Ker A) = n - Rank(A) \n",
    "\n",
    "が成立し，これを次元定理といいます．\n",
    "全射と単射の関係は，下の表のような一変数の方程式での解の性質の拡張と捉えることができます．"
   ]
  },
  {
   "cell_type": "markdown",
   "metadata": {},
   "source": [
    "|呼び名|条件|意味|\n",
    "|:----|:----|:----|\n",
    "|一意|$a<>0$ |解は$x=b/a$のみ|\n",
    "|不定|$a=0, b=0$ |解は無数 |\n",
    "|不能|$a=0, b<>0$ |解は存在しない|\n",
    "Table: 代数方程式$a x =b$の解の存在性．"
   ]
  },
  {
   "cell_type": "markdown",
   "metadata": {},
   "source": [
    "|m x n行列A|全射でない(Im $A < m$), 値域上にあるときのみ解が存在|全射(Im $A =m$), 解は必ず存在|\n",
    "|:----|:----|:----|\n",
    "|単射でない(Ker $A <> 0$), 解は複数 |![004-1](figs/la_fundamentals.004-1.png)|![004-2](figs/la_fundamentals.004-2.png)\n",
    "|単射(Ker $A = 0$), 解はひとつ|![004-3](figs/la_fundamentals.004-3.png)|![004-4](figs/la_fundamentals.004-4.png)\n",
    "\n",
    "Table: 全射と単射を示すポンチ絵．"
   ]
  },
  {
   "cell_type": "markdown",
   "metadata": {},
   "source": [
    "# 課題\n"
   ]
  },
  {
   "cell_type": "markdown",
   "metadata": {},
   "source": [
    "\n",
    "1.  下の図は\n",
    "$$A\\, = \\, \\left[ \\begin {array}{cc} 6 & 2\\\\ 2& 4\\end {array} \\right]$$\n",
    "\n",
    "を用いて変換される像を表わしている．この絵をpythonで描画せよ．また，この行列の固有値，行列式が何処に対応するか説明せよ．また，固有ベクトルの方向を記せ．(2007年度期末試験改)\n",
    "\n",
    "![la_fund_ex1.png](figs/la_fund_ex1.png)\n"
   ]
  },
  {
   "cell_type": "code",
   "execution_count": null,
   "metadata": {
    "collapsed": true
   },
   "outputs": [],
   "source": []
  }
 ],
 "metadata": {
  "kernelspec": {
   "display_name": "Python 3",
   "language": "python",
   "name": "python3"
  },
  "language_info": {
   "codemirror_mode": {
    "name": "ipython",
    "version": 3
   },
   "file_extension": ".py",
   "mimetype": "text/x-python",
   "name": "python",
   "nbconvert_exporter": "python",
   "pygments_lexer": "ipython3",
   "version": "3.6.1"
  },
  "latex_envs": {
   "LaTeX_envs_menu_present": true,
   "autocomplete": true,
   "bibliofile": "biblio.bib",
   "cite_by": "apalike",
   "current_citInitial": 1,
   "eqLabelWithNumbers": true,
   "eqNumInitial": 1,
   "hotkeys": {
    "equation": "Ctrl-E",
    "itemize": "Ctrl-I"
   },
   "labels_anchors": false,
   "latex_user_defs": false,
   "report_style_numbering": false,
   "user_envs_cfg": false
  },
  "toc": {
   "colors": {
    "hover_highlight": "#DAA520",
    "navigate_num": "#000000",
    "navigate_text": "#333333",
    "running_highlight": "#FF0000",
    "selected_highlight": "#FFD700",
    "sidebar_border": "#EEEEEE",
    "wrapper_background": "#FFFFFF"
   },
   "moveMenuLeft": true,
   "nav_menu": {
    "height": "12px",
    "width": "252px"
   },
   "navigate_menu": true,
   "number_sections": true,
   "sideBar": true,
   "threshold": 4,
   "toc_cell": true,
   "toc_position": {
    "height": "581px",
    "left": "0px",
    "right": "auto",
    "top": "105px",
    "width": "212px"
   },
   "toc_section_display": "block",
   "toc_window_display": true,
   "widenNotebook": false
  }
 },
 "nbformat": 4,
 "nbformat_minor": 2
}
