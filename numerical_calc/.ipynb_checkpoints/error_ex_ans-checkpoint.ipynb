{
 "cells": [
  {
   "cell_type": "markdown",
   "metadata": {
    "toc": "true"
   },
   "source": [
    "# Table of Contents\n",
    " <p><div class=\"lev1 toc-item\"><a href=\"#丸め誤差\" data-toc-modified-id=\"丸め誤差-1\"><span class=\"toc-item-num\">1&nbsp;&nbsp;</span>丸め誤差</a></div><div class=\"lev1 toc-item\"><a href=\"#複利計算\" data-toc-modified-id=\"複利計算-2\"><span class=\"toc-item-num\">2&nbsp;&nbsp;</span>複利計算</a></div>"
   ]
  },
  {
   "cell_type": "markdown",
   "metadata": {},
   "source": [
    "# 丸め誤差\n",
    "大きな数どおしのわずかな差は，丸め誤差にとくに影響を受ける.\n",
    "1. 23.173-23.094 を有効数字がそれぞれ5桁，4桁，3桁，2桁で計算した結果を示せ. \n",
    "2. 同様に，0.81321/(23.173-23.094) を有効数字がそれぞれ5桁，4桁，3桁，2桁で計算した結果を示せ."
   ]
  },
  {
   "cell_type": "code",
   "execution_count": 1,
   "metadata": {
    "collapsed": true
   },
   "outputs": [],
   "source": [
    "from decimal import *\n",
    "\n",
    "def pretty_p(result,a,b,operator):\n",
    "    print('context.prec:{}'.format(getcontext().prec))\n",
    "    print(' %20.14f' % (a))\n",
    "    print( '%1s%20.14f' % (operator, b))\n",
    "    print('-----------')\n",
    "    print( ' %20.14f' % (result))"
   ]
  },
  {
   "cell_type": "code",
   "execution_count": 2,
   "metadata": {},
   "outputs": [
    {
     "name": "stdout",
     "output_type": "stream",
     "text": [
      "context.prec:5\n",
      "    23.17300000000000\n",
      "-   23.09400000000000\n",
      "-----------\n",
      "     0.07900000000000\n"
     ]
    },
    {
     "data": {
      "text/plain": [
       "Decimal('10.294')"
      ]
     },
     "execution_count": 2,
     "metadata": {},
     "output_type": "execute_result"
    }
   ],
   "source": [
    "getcontext().prec = 5\n",
    "\n",
    "a=Decimal('0.81321')\n",
    "b=Decimal('23.173')\n",
    "c=Decimal('23.094')\n",
    "pretty_p(b-c,b,c,'-')\n",
    "\n",
    "a/(b-c)"
   ]
  },
  {
   "cell_type": "code",
   "execution_count": 3,
   "metadata": {},
   "outputs": [
    {
     "name": "stdout",
     "output_type": "stream",
     "text": [
      "context.prec:4\n",
      "    23.17000000000000\n",
      "-   23.09000000000000\n",
      "-----------\n",
      "     0.08000000000000\n"
     ]
    },
    {
     "data": {
      "text/plain": [
       "Decimal('10.16')"
      ]
     },
     "execution_count": 3,
     "metadata": {},
     "output_type": "execute_result"
    }
   ],
   "source": [
    "TWOPLACES = Decimal(10) ** -2 \n",
    "getcontext().prec = 4\n",
    "a=Decimal('0.81321').quantize(Decimal(10) ** -4)\n",
    "b=Decimal('23.173').quantize(Decimal('0.01'))\n",
    "c=Decimal('23.094').quantize(Decimal('0.01'))\n",
    "\n",
    "pretty_p(b-c,b,c,'-')\n",
    "a/(b-c)"
   ]
  },
  {
   "cell_type": "code",
   "execution_count": 4,
   "metadata": {},
   "outputs": [
    {
     "name": "stdout",
     "output_type": "stream",
     "text": [
      "context.prec:3\n",
      "    23.20000000000000\n",
      "-   23.10000000000000\n",
      "-----------\n",
      "     0.10000000000000\n"
     ]
    },
    {
     "data": {
      "text/plain": [
       "Decimal('8.13')"
      ]
     },
     "execution_count": 4,
     "metadata": {},
     "output_type": "execute_result"
    }
   ],
   "source": [
    "ONEPLACES = Decimal(10) ** -1\n",
    "getcontext().prec = 3\n",
    "a=Decimal('0.81321').quantize(Decimal(10) ** -3)\n",
    "b=Decimal('23.173').quantize(ONEPLACES)\n",
    "c=Decimal('23.094').quantize(ONEPLACES)\n",
    "\n",
    "pretty_p(b-c,b,c,'-')\n",
    "a/(b-c)"
   ]
  },
  {
   "cell_type": "code",
   "execution_count": 5,
   "metadata": {},
   "outputs": [
    {
     "name": "stdout",
     "output_type": "stream",
     "text": [
      "context.prec:2\n",
      "    23.00000000000000\n",
      "-   23.00000000000000\n",
      "-----------\n",
      "     0.00000000000000\n"
     ]
    },
    {
     "ename": "DivisionByZero",
     "evalue": "[<class 'decimal.DivisionByZero'>]",
     "output_type": "error",
     "traceback": [
      "\u001b[0;31m---------------------------------------------------------------------------\u001b[0m",
      "\u001b[0;31mDivisionByZero\u001b[0m                            Traceback (most recent call last)",
      "\u001b[0;32m<ipython-input-5-2050c7731b85>\u001b[0m in \u001b[0;36m<module>\u001b[0;34m()\u001b[0m\n\u001b[1;32m      6\u001b[0m \u001b[0;34m\u001b[0m\u001b[0m\n\u001b[1;32m      7\u001b[0m \u001b[0mpretty_p\u001b[0m\u001b[0;34m(\u001b[0m\u001b[0mb\u001b[0m\u001b[0;34m-\u001b[0m\u001b[0mc\u001b[0m\u001b[0;34m,\u001b[0m\u001b[0mb\u001b[0m\u001b[0;34m,\u001b[0m\u001b[0mc\u001b[0m\u001b[0;34m,\u001b[0m\u001b[0;34m'-'\u001b[0m\u001b[0;34m)\u001b[0m\u001b[0;34m\u001b[0m\u001b[0m\n\u001b[0;32m----> 8\u001b[0;31m \u001b[0ma\u001b[0m\u001b[0;34m/\u001b[0m\u001b[0;34m(\u001b[0m\u001b[0mb\u001b[0m\u001b[0;34m-\u001b[0m\u001b[0mc\u001b[0m\u001b[0;34m)\u001b[0m\u001b[0;34m\u001b[0m\u001b[0m\n\u001b[0m",
      "\u001b[0;31mDivisionByZero\u001b[0m: [<class 'decimal.DivisionByZero'>]"
     ]
    }
   ],
   "source": [
    "ZEROPLACES = Decimal(10) ** 0\n",
    "getcontext().prec = 2\n",
    "a=Decimal('0.81321').quantize(Decimal(10) ** -2)\n",
    "b=Decimal('23.173').quantize(ZEROPLACES)\n",
    "c=Decimal('23.094').quantize(ZEROPLACES)\n",
    "\n",
    "pretty_p(b-c,b,c,'-')\n",
    "a/(b-c)"
   ]
  },
  {
   "cell_type": "markdown",
   "metadata": {
    "collapsed": true
   },
   "source": [
    "# 複利計算\n",
    "\n",
    "10 進数10桁および3桁の有効桁数をもった計算機になったつもりで，以下の条件で預金を求める計算をおこなえ．\n",
    "元本を10000万円とする\n",
    "利息0.3%とする\n",
    "複利計算で10年でいくらになるか．"
   ]
  },
  {
   "cell_type": "code",
   "execution_count": 6,
   "metadata": {
    "collapsed": true
   },
   "outputs": [],
   "source": [
    "from decimal import *"
   ]
  },
  {
   "cell_type": "code",
   "execution_count": 23,
   "metadata": {},
   "outputs": [
    {
     "data": {
      "text/plain": [
       "Decimal('100300405.3')"
      ]
     },
     "execution_count": 23,
     "metadata": {},
     "output_type": "execute_result"
    }
   ],
   "source": [
    "digits = Decimal(10) ** -10 \n",
    "getcontext().prec = 10\n",
    "\n",
    "x = Decimal('0.1').quantize(digits)*10000*100000\n",
    "rate = Decimal('0.3').quantize(digits)/1000\n",
    "x*(1+rate)**10"
   ]
  },
  {
   "cell_type": "code",
   "execution_count": 22,
   "metadata": {},
   "outputs": [
    {
     "data": {
      "text/plain": [
       "Decimal('1.00E+8')"
      ]
     },
     "execution_count": 22,
     "metadata": {},
     "output_type": "execute_result"
    }
   ],
   "source": [
    "digits = Decimal(10) ** -3 \n",
    "getcontext().prec = 3\n",
    "\n",
    "x = Decimal('0.1').quantize(digits)*10000*100000\n",
    "rate = Decimal('0.3').quantize(digits)/1000\n",
    "x*(1+rate)**10"
   ]
  },
  {
   "cell_type": "code",
   "execution_count": null,
   "metadata": {
    "collapsed": true
   },
   "outputs": [],
   "source": []
  }
 ],
 "metadata": {
  "kernelspec": {
   "display_name": "Python 3",
   "language": "python",
   "name": "python3"
  },
  "language_info": {
   "codemirror_mode": {
    "name": "ipython",
    "version": 3
   },
   "file_extension": ".py",
   "mimetype": "text/x-python",
   "name": "python",
   "nbconvert_exporter": "python",
   "pygments_lexer": "ipython3",
   "version": "3.6.1"
  },
  "latex_envs": {
   "LaTeX_envs_menu_present": true,
   "autocomplete": true,
   "bibliofile": "biblio.bib",
   "cite_by": "apalike",
   "current_citInitial": 1,
   "eqLabelWithNumbers": true,
   "eqNumInitial": 1,
   "hotkeys": {
    "equation": "Ctrl-E",
    "itemize": "Ctrl-I"
   },
   "labels_anchors": false,
   "latex_user_defs": false,
   "report_style_numbering": false,
   "user_envs_cfg": false
  },
  "toc": {
   "colors": {
    "hover_highlight": "#DAA520",
    "navigate_num": "#000000",
    "navigate_text": "#333333",
    "running_highlight": "#FF0000",
    "selected_highlight": "#FFD700",
    "sidebar_border": "#EEEEEE",
    "wrapper_background": "#FFFFFF"
   },
   "moveMenuLeft": true,
   "nav_menu": {
    "height": "13px",
    "width": "253px"
   },
   "navigate_menu": true,
   "number_sections": true,
   "sideBar": true,
   "threshold": 4,
   "toc_cell": true,
   "toc_section_display": "block",
   "toc_window_display": true,
   "widenNotebook": false
  }
 },
 "nbformat": 4,
 "nbformat_minor": 2
}
