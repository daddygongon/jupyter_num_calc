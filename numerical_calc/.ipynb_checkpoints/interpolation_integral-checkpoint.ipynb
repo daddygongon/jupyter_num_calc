{
 "cells": [
  {
   "cell_type": "markdown",
   "metadata": {
    "toc": "true"
   },
   "source": [
    "<h1>Table of Contents<span class=\"tocSkip\"></span></h1>\n",
    "<div class=\"toc\"><ul class=\"toc-item\"><li><span><a href=\"#概要:補間と近似\" data-toc-modified-id=\"概要:補間と近似-1\"><span class=\"toc-item-num\">1&nbsp;&nbsp;</span>概要:補間と近似</a></span></li><li><span><a href=\"#多項式補間(polynomial-interpolation)\" data-toc-modified-id=\"多項式補間(polynomial-interpolation)-2\"><span class=\"toc-item-num\">2&nbsp;&nbsp;</span>多項式補間(polynomial interpolation)</a></span></li><li><span><a href=\"#Lagrange(ラグランジュ)-の内挿公式\" data-toc-modified-id=\"Lagrange(ラグランジュ)-の内挿公式-3\"><span class=\"toc-item-num\">3&nbsp;&nbsp;</span>Lagrange(ラグランジュ) の内挿公式</a></span><ul class=\"toc-item\"><li><ul class=\"toc-item\"><li><span><a href=\"#python-code\" data-toc-modified-id=\"python-code-3.0.1\"><span class=\"toc-item-num\">3.0.1&nbsp;&nbsp;</span>python code</a></span></li></ul></li></ul></li><li><span><a href=\"#Newton(ニュートン)-の差分商公式\" data-toc-modified-id=\"Newton(ニュートン)-の差分商公式-4\"><span class=\"toc-item-num\">4&nbsp;&nbsp;</span>Newton(ニュートン) の差分商公式</a></span><ul class=\"toc-item\"><li><span><a href=\"#Newton補間と多項式補間の一致の検証\" data-toc-modified-id=\"Newton補間と多項式補間の一致の検証-4.1\"><span class=\"toc-item-num\">4.1&nbsp;&nbsp;</span>Newton補間と多項式補間の一致の検証</a></span></li></ul></li><li><span><a href=\"#数値積分-(Numerical-integration)\" data-toc-modified-id=\"数値積分-(Numerical-integration)-5\"><span class=\"toc-item-num\">5&nbsp;&nbsp;</span>数値積分 (Numerical integration)</a></span><ul class=\"toc-item\"><li><span><a href=\"#中点則-(midpoint-rule)\" data-toc-modified-id=\"中点則-(midpoint-rule)-5.1\"><span class=\"toc-item-num\">5.1&nbsp;&nbsp;</span>中点則 (midpoint rule)</a></span></li><li><span><a href=\"#台形則-(trapezoidal-rule)\" data-toc-modified-id=\"台形則-(trapezoidal-rule)-5.2\"><span class=\"toc-item-num\">5.2&nbsp;&nbsp;</span>台形則 (trapezoidal rule)</a></span></li><li><span><a href=\"#Simpson(シンプソン)則\" data-toc-modified-id=\"Simpson(シンプソン)則-5.3\"><span class=\"toc-item-num\">5.3&nbsp;&nbsp;</span>Simpson(シンプソン)則</a></span></li></ul></li><li><span><a href=\"#数値積分のコード\" data-toc-modified-id=\"数値積分のコード-6\"><span class=\"toc-item-num\">6&nbsp;&nbsp;</span>数値積分のコード</a></span><ul class=\"toc-item\"><li><ul class=\"toc-item\"><li><ul class=\"toc-item\"><li><span><a href=\"#Midpoint-rule(中点法)\" data-toc-modified-id=\"Midpoint-rule(中点法)-6.0.0.1\"><span class=\"toc-item-num\">6.0.0.1&nbsp;&nbsp;</span>Midpoint rule(中点法)</a></span></li><li><span><a href=\"#Trapezoidal-rule(台形公式)\" data-toc-modified-id=\"Trapezoidal-rule(台形公式)-6.0.0.2\"><span class=\"toc-item-num\">6.0.0.2&nbsp;&nbsp;</span>Trapezoidal rule(台形公式)</a></span></li><li><span><a href=\"#Simpson's-rule(シンプソンの公式)\" data-toc-modified-id=\"Simpson's-rule(シンプソンの公式)-6.0.0.3\"><span class=\"toc-item-num\">6.0.0.3&nbsp;&nbsp;</span>Simpson's rule(シンプソンの公式)</a></span></li></ul></li></ul></li></ul></li><li><span><a href=\"#課題\" data-toc-modified-id=\"課題-7\"><span class=\"toc-item-num\">7&nbsp;&nbsp;</span>課題</a></span><ul class=\"toc-item\"><li><span><a href=\"#補間法\" data-toc-modified-id=\"補間法-7.1\"><span class=\"toc-item-num\">7.1&nbsp;&nbsp;</span>補間法</a></span></li><li><span><a href=\"#対数関数のニュートンの差分商補間(2014期末試験，25点)\" data-toc-modified-id=\"対数関数のニュートンの差分商補間(2014期末試験，25点)-7.2\"><span class=\"toc-item-num\">7.2&nbsp;&nbsp;</span>対数関数のニュートンの差分商補間(2014期末試験，25点)</a></span><ul class=\"toc-item\"><li><span><a href=\"#差分商補間の表中の開いている箇所[-XXX-]を埋めよ．\" data-toc-modified-id=\"差分商補間の表中の開いている箇所[-XXX-]を埋めよ．-7.2.1\"><span class=\"toc-item-num\">7.2.1&nbsp;&nbsp;</span>差分商補間の表中の開いている箇所[ XXX ]を埋めよ．</a></span></li><li><span><a href=\"#ニュートンの二次多項式\" data-toc-modified-id=\"ニュートンの二次多項式-7.2.2\"><span class=\"toc-item-num\">7.2.2&nbsp;&nbsp;</span>ニュートンの二次多項式</a></span></li><li><span><a href=\"#ニュートンの三次多項式の値を求めよ．\" data-toc-modified-id=\"ニュートンの三次多項式の値を求めよ．-7.2.3\"><span class=\"toc-item-num\">7.2.3&nbsp;&nbsp;</span>ニュートンの三次多項式の値を求めよ．</a></span></li></ul></li><li><span><a href=\"#数値積分(I)\" data-toc-modified-id=\"数値積分(I)-7.3\"><span class=\"toc-item-num\">7.3&nbsp;&nbsp;</span>数値積分(I)</a></span></li></ul></li><li><span><a href=\"#解答例[7.3]\" data-toc-modified-id=\"解答例[7.3]-8\"><span class=\"toc-item-num\">8&nbsp;&nbsp;</span>解答例[7.3]</a></span></li></ul></div>"
   ]
  },
  {
   "cell_type": "markdown",
   "metadata": {},
   "source": [
    "<br />\n",
    "\n",
    "<div style=\"text-align: center;\">\n",
    "<font size=\"7\">補間(interpolation)と数値積分(Integral)</font>\n",
    "</div>\n",
    "<br />\n",
    "<div style=\"text-align: right;\">\n",
    "<font size=\"4\">file:/Users/bob/Github/TeamNishitani/jupyter_num_calc/interpolationintegral</font>\n",
    "<br />\n",
    "<font size=\"4\">https://github.com/daddygongon/jupyter_num_calc/tree/master/notebooks_python</font>\n",
    "<br />\n",
    "<font size=\"4\">cc by Shigeto R. Nishitani 2017 </font>\n",
    "</div>\n",
    "\n",
    "\n",
    "\n",
    "\n"
   ]
  },
  {
   "cell_type": "markdown",
   "metadata": {},
   "source": [
    "# 概要:補間と近似\n"
   ]
  },
  {
   "cell_type": "markdown",
   "metadata": {},
   "source": [
    "\n",
    "単純な2次元データについて補間と近似を考える．補間はたんに点を「滑らかに」つなぐことを，近似はある関数にできるだけ近くなるように「フィット」することを言う．補間はIllustratorなどのドロー系ツールで曲線を引くときの，ベジエやスプライン補間の基本となる．本章では補間とそれに密接に関連した積分について述べる．\n"
   ]
  },
  {
   "cell_type": "code",
   "execution_count": 1,
   "metadata": {},
   "outputs": [
    {
     "data": {
      "image/png": "[encoded data removed]",
      "text/plain": [
       "<Figure size 720x288 with 2 Axes>"
      ]
     },
     "metadata": {
      "needs_background": "light"
     },
     "output_type": "display_data"
    }
   ],
   "source": [
    "%matplotlib inline\n",
    "\n",
    "import matplotlib.pyplot as plt\n",
    "import numpy as np\n",
    "\n",
    "\n",
    "fig, (axL, axR) = plt.subplots(ncols=2, figsize=(10,4))\n",
    "\n",
    "x = np.array([0,1,2,3])\n",
    "y = np.array([1.2,3.2,3.8,3.2])\n",
    "for i in range(0,4):\n",
    "    axL.plot(x[i],y[i],'o',color='r')\n",
    "axL.hlines(0, -1, 4, linewidth=1)\n",
    "axL.vlines(0, -1, 4, linewidth=1)\n",
    "axL.set_title('Interpolation')\n",
    "axL.grid(True)\n",
    "\n",
    "x = np.array([0,1,2,3])\n",
    "y = np.array([0.2,1.2,1.8,3.2])\n",
    "for i in range(0,4):\n",
    "    axR.plot(x[i],y[i],'o',color='r')\n",
    "axR.hlines(0, -1, 4, linewidth=1)\n",
    "axR.vlines(0, -1, 4, linewidth=1)\n",
    "axR.set_title('Fitting')\n",
    "axR.grid(True)\n",
    "\n",
    "# fig.show()"
   ]
  },
  {
   "cell_type": "markdown",
   "metadata": {},
   "source": [
    "# 多項式補間(polynomial interpolation)\n"
   ]
  },
  {
   "cell_type": "markdown",
   "metadata": {},
   "source": [
    "\n",
    "データを単純に多項式で補間する方法を先ず示そう．$N+1$点を$N$次の多項式でつなぐ．この場合の補間関数は，\n",
    "\n",
    "$$\n",
    "F \\left(x \\right)={\\sum_{i=0}^{N} } a _{i }x ^{i }=a_{0}+a_{1}x +a_{2}x^{2}+\\cdots +a_{N}x^{N}\n",
    "$$\n",
    "である．データの点を$(x_{i},\\,y_{i}),i=0..N$とすると\n",
    "\n",
    "$$\n",
    "\\begin{array}{cl}\n",
    "a _{0}+a _{1}x _{0}+a _{2}x _{0}^{2}+\\cdots +a _{N }x _{0}^{N }& =y _{0}\\\\\n",
    "a _{0}+a _{1}x _{1}+a _{2}x _{1}^{2}+\\cdots +a _{N }x _{1}^{N }& =y _{1}\\\\\n",
    "\\vdots& \\\\\n",
    "a _{0}+a _{1}x _{N}+a _{2}x _{N}^{2}+\\cdots +a _{N }x _{N}^{N }& =y _{N}\n",
    "\\end{array}\n",
    "$$\n",
    "が，係数 $a_i$を未知数と見なした線形の連立方程式となっている．係数行列は\n",
    "\n",
    "$$\n",
    "A=\\left[\n",
    "\\begin{array}{ccccc}\n",
    "1&x_0&x_0^2&\\cdots&x_0^N \\\\\n",
    "1&x_1&x_1^2&\\cdots&x_1^N \\\\\n",
    "\\vdots& & & & \\vdots \\\\\n",
    "1&x_N&x_N^2&\\cdots&x_N^N \n",
    "\\end{array} \\right]\n",
    "$$\n",
    "となる．$a_i$と$y_i$をそれぞれベクトルとみなすと\n",
    "\n",
    "&nbsp;\n",
    "\n",
    "$A$と$y$から$a_i$を導出：\n",
    "\n",
    "&nbsp;\n",
    "\n",
    "により未知数ベクトル$a_i$が求まる．これは単純に，前に紹介した Gauss の消去法や LU 分解で解ける．\n",
    "\n",
    "\n"
   ]
  },
  {
   "cell_type": "markdown",
   "metadata": {},
   "source": [
    "# Lagrange(ラグランジュ) の内挿公式\n"
   ]
  },
  {
   "cell_type": "markdown",
   "metadata": {},
   "source": [
    "\n",
    "多項式補間は手続きが簡単であるため，計算間違いが少なく，プログラムとして組むのに適している．しかし，あまり\"みとうし\"のよい方法とはいえない．その点，Lagrange(ラグランジュ)の内挿公式は見通しがよい．これは\n",
    "\n",
    "$$\n",
    "F(x)= \\sum_{k=0}^N \\frac{ \\prod_{j \\ne k} (x-x_j)}\n",
    "{ \\prod_{j \\ne k} (x_k-x_j)} y_k\n",
    "=\\sum_{k=0}^N \\frac{ \\frac{ (x-x_0)(x-x_1)\\cdots(x-x_N)}{ (x-x_k)}}\n",
    "{\\frac{ (x_k-x_0)(x_k-x_1)\\cdots(x_k-x_N)}{ (x_k-x_k)}} y_k\n",
    "$$\n",
    "と表わされる．数学的に 2つ目の表記は間違っているが，先に割り算を実行すると読み取って欲しい．これは一見複雑に見えるが，単純な発想から出発している．求めたい関数$F(x)$を\n",
    "\n",
    "$$\n",
    "F(x) = y_0 L_0(x)+y_1 L_1(x)+y_2 L_2(x)\n",
    "$$\n",
    "とすると\n",
    "\n",
    "$$\n",
    "\\begin{array}{ccc}\n",
    "L_0(x_0) = 1 &L_0(x_1) = 0 &L_0(x_2) = 0 \\\\\n",
    "L_1(x_0) = 0 &L_1(x_1) = 1 &L_1(x_2) = 0 \\\\\n",
    "L_2(x_0) = 0 &L_2(x_1) = 0 &L_2(x_2) = 1 \n",
    "\\end{array}\n",
    "$$\n",
    "となるように関数$L_i(x)$を決めればよい．これを以下のようにとればLagrangeの内挿公式となる．\n",
    "\n",
    "&nbsp;\n",
    "\n",
    "$L_0(x)$：\n",
    "\n",
    "&nbsp;\n",
    "\n",
    "&nbsp;\n",
    "\n",
    "$L_1(x)$：\n",
    "\n",
    "&nbsp;\n",
    "\n",
    "\n",
    "&nbsp;\n",
    "\n",
    "$L_2(x)$：\n",
    "\n",
    "&nbsp;\n",
    "\n",
    "&nbsp;\n",
    "\n",
    "$F(x)$：\n",
    "\n",
    "&nbsp;\n",
    "\n",
    "\n"
   ]
  },
  {
   "cell_type": "markdown",
   "metadata": {},
   "source": [
    "### python code\n",
    "pythonではLagrange補間はinterpolate.lagrangeで用意されている．"
   ]
  },
  {
   "cell_type": "code",
   "execution_count": 2,
   "metadata": {},
   "outputs": [
    {
     "name": "stdout",
     "output_type": "stream",
     "text": [
      "    3     2\n",
      "-1 x + 3 x - 1 x + 1\n"
     ]
    },
    {
     "data": {
      "image/png": "[encoded data removed]",
      "text/plain": [
       "<Figure size 432x288 with 1 Axes>"
      ]
     },
     "metadata": {
      "needs_background": "light"
     },
     "output_type": "display_data"
    }
   ],
   "source": [
    "import numpy as np\n",
    "from scipy import interpolate\n",
    "import matplotlib.pyplot as plt\n",
    "\n",
    "# もとの点\n",
    "x = np.array([0,1,2,3])\n",
    "y = np.array([1,2,3,-2])\n",
    "for i in range(0,4):\n",
    "    plt.plot(x[i],y[i],'o',color='r')\n",
    "\n",
    "\n",
    "# Lagrange補間\n",
    "f = interpolate.lagrange(x,y)\n",
    "print(f)\n",
    "x = np.linspace(0,3, 100)\n",
    "y = f(x)\n",
    "plt.plot(x, y, color = 'b')\n",
    "\n",
    "plt.grid()\n",
    "plt.show()"
   ]
  },
  {
   "cell_type": "markdown",
   "metadata": {},
   "source": [
    "# Newton(ニュートン) の差分商公式\n"
   ]
  },
  {
   "cell_type": "markdown",
   "metadata": {},
   "source": [
    "\n",
    "もう一つ有名なNewton(ニュートン) の内挿公式は，\n",
    "\n",
    "$$\n",
    "\\begin{array}{rc}\n",
    "F (x )&=F (x _{0})+\n",
    "(x -x _{0})f _{1}\\lfloor x_0,x_1\\rfloor+\n",
    "(x -x _{0})(x -x _{1})\n",
    "f _{2}\\lfloor x_0,x_1,x_2\\rfloor + \\\\\n",
    "& \\cdots +  \\prod_{i=0}^{n-1} (x-x_i) \\, \n",
    "f_n \\lfloor x_0,x_1,\\cdots,x_n \\rfloor\n",
    "\\end{array}\n",
    "$$\n",
    "となる．ここで$f_i \\lfloor\\, \\rfloor$ は次のような関数を意味していて，\n",
    "\n",
    "$$\n",
    "\\begin{array}{rl}\n",
    "f _{1}\\lfloor x_0,x_1\\rfloor &=  \\frac{y_1-y_0}{x_1-x_0} \\\\\n",
    "f _{2}\\lfloor x_0,x_1,x_2\\rfloor &=  \\frac{f _{1}\\lfloor x_1,x_2\\rfloor-\n",
    "f _{1}\\lfloor x_0,x_1\\rfloor}{x_2-x_0} \\\\\n",
    "\\vdots & \\\\\n",
    "f _{n}\\lfloor x_0,x_1,\\cdots,x_n\\rfloor &=  \\frac{f_{n-1}\\lfloor x_1,x_2\\cdots,x_{n}\\rfloor-\n",
    "f _{n-1}\\lfloor x_0,x_1,\\cdots,x_{n-1}\\rfloor}{x_n-x_0} \\\\\n",
    "\\end{array}\n",
    "$$\n",
    "差分商と呼ばれる．得られた多項式は，Lagrange の内挿公式で得られたものと当然一致する．Newtonの内挿公式の利点は，新たなデータ点が増えたときに，新たな項を加えるだけで，内挿式が得られる点である．\n",
    "\n",
    "\n"
   ]
  },
  {
   "cell_type": "code",
   "execution_count": 3,
   "metadata": {},
   "outputs": [],
   "source": [
    "# https://stackoverflow.com/questions/14823891/newton-s-interpolating-polynomial-python\n",
    "# by Khalil Al Hooti (stackoverflow)\n",
    "\n",
    "\n",
    "def _poly_newton_coefficient(x,y):\n",
    "    \"\"\"\n",
    "    x: list or np array contanining x data points\n",
    "    y: list or np array contanining y data points\n",
    "    \"\"\"\n",
    "\n",
    "    m = len(x)\n",
    "\n",
    "    x = np.copy(x)\n",
    "    a = np.copy(y)\n",
    "    for k in range(1,m):\n",
    "        a[k:m] = (a[k:m] - a[k-1])/(x[k:m] - x[k-1])\n",
    "\n",
    "    return a\n",
    "\n",
    "def newton_polynomial(x_data, y_data, x):\n",
    "    \"\"\"\n",
    "    x_data: data points at x\n",
    "    y_data: data points at y\n",
    "    x: evaluation point(s)\n",
    "    \"\"\"\n",
    "    a = _poly_newton_coefficient(x_data, y_data)\n",
    "    n = len(x_data) - 1 # Degree of polynomial\n",
    "    p = a[n]\n",
    "    for k in range(1,n+1):\n",
    "        p = a[n-k] + (x -x_data[n-k])*p\n",
    "    return p"
   ]
  },
  {
   "cell_type": "code",
   "execution_count": 4,
   "metadata": {},
   "outputs": [
    {
     "name": "stdout",
     "output_type": "stream",
     "text": [
      "[ 1  1  0 -1]\n"
     ]
    },
    {
     "data": {
      "image/png": "[encoded data removed]",
      "text/plain": [
       "<Figure size 432x288 with 1 Axes>"
      ]
     },
     "metadata": {
      "needs_background": "light"
     },
     "output_type": "display_data"
    }
   ],
   "source": [
    "import numpy as np\n",
    "from scipy import interpolate\n",
    "import matplotlib.pyplot as plt\n",
    "\n",
    "# もとの点\n",
    "x = np.array([0,1,2,3])\n",
    "y = np.array([1,2,3,-2])\n",
    "for i in range(0,4):\n",
    "    plt.plot(x[i],y[i],'o',color='r')\n",
    "\n",
    "\n",
    "print(_poly_newton_coefficient(x,y))\n",
    "\n",
    "xx = np.linspace(0,3, 100)\n",
    "yy = newton_polynomial(x, y, xx)\n",
    "plt.plot(xx, yy, color = 'b')\n",
    "\n",
    "plt.grid()\n",
    "plt.show()"
   ]
  },
  {
   "cell_type": "markdown",
   "metadata": {},
   "source": [
    "## Newton補間と多項式補間の一致の検証 \n"
   ]
  },
  {
   "cell_type": "markdown",
   "metadata": {},
   "source": [
    "関数$F(x)$を$x$の多項式として展開．その時の，係数の取るべき値と，差分商で得られる値が一致．\n",
    "```maple\n",
    "> restart: F:=x->f0+(x-x0)*f1p+(x-x0)*(x-x1)*f2p;\n",
    "```\n",
    "$$\n",
    "F\\, := \\,x\\mapsto f0+ ( x-x0 ) f1p+ ( x-x0 )  ( x-x1 ) f2p\n",
    "$$\n",
    "```maple\n",
    "> F(x1); \n",
    "  sf1p:=solve(F(x1)=f1,f1p);\n",
    "```\n",
    "$$\n",
    "f0+ ( x1-x0 ) f1p \\notag \\\\\n",
    "sf1p\\, := \\,{\\frac {f0-f1}{-x1+x0}} \\notag\n",
    "$$\n",
    "f20の取るべき値の導出\n",
    "```maple\n",
    "> sf2p:=solve(F(x2)=f2,f2p); \n",
    "  fac_f2p:=factor(subs(f1p=sf1p,sf2p));\n",
    "```\n",
    "$$\n",
    "sf2p\\, :=  -{\\frac {f0+f1p\\,x2-f1p\\,x0-f2}{ ( -x2+x0 ) \n",
    "( -x2+x1 ) }} \\notag \\\\\n",
    "{\\it fac\\_f2p}\\, :=  {\\frac {f0\\,x1-x2\\,f0+x2\\,f1-x0\\,f1-f2\\,x1+f2\\,x0}{ ( -x1+x0 )  ( -x2+x0 )  ( -x2+x1 ) }} \\notag\n",
    "$$\n",
    "ニュートンの差分商公式を変形\n",
    "```maple\n",
    "> ff11:=(f0-f1)/(x0-x1); \n",
    "  ff12:=(f1-f2)/(x1-x2); \n",
    "  ff2:=(ff11-ff12)/(x0-x2);\n",
    "  fac_newton:=factor(ff2);\n",
    "```\n",
    "$$\n",
    "ff11:= { \\frac {f0-f1}{-x1+x0}} \\notag \\\\\n",
    "ff12 := { \\frac {f1-f2}{-x2+x1}} \\notag \\\\\n",
    "ff2 :=  \\frac{ { \\frac {f0-f1}{-x1+x0}}-{ \\frac {f1-f2}{-x2+x1}} }{-x2+x0 }\\notag \\\\\n",
    "{\\it fac\\_newton} := { \\frac {f0\\,x1-x2\\,f0+x2\\,f1-x0\\,f1-f2\\,x1+f2\\,x0}{ ( -x1+x0 )  ( -x2+x0 )  ( -x2+x1 ) }} \\notag \n",
    "$$\n",
    "\n",
    "二式が等しいかどうかをevalbで判定\n",
    "```maple\n",
    "> evalb(fac_f2p=fac_newton);\n",
    "```\n",
    "$$\n",
    "true\n",
    "$$\n",
    "\n",
    "\n"
   ]
  },
  {
   "cell_type": "markdown",
   "metadata": {},
   "source": [
    "# 数値積分 (Numerical integration)\n"
   ]
  },
  {
   "cell_type": "code",
   "execution_count": 5,
   "metadata": {},
   "outputs": [
    {
     "data": {
      "image/png": "[encoded data removed]",
      "text/plain": [
       "<Figure size 432x288 with 1 Axes>"
      ]
     },
     "metadata": {
      "needs_background": "light"
     },
     "output_type": "display_data"
    }
   ],
   "source": [
    "%matplotlib inline\n",
    "\n",
    "import matplotlib.pyplot as plt\n",
    "import numpy as np\n",
    "\n",
    "x = np.array([1,2,3,4])\n",
    "y = np.array([2.8,3.4,3.8,3.2])\n",
    "for i in range(0,4):\n",
    "    plt.plot(x[i],y[i],'o',color='r')\n",
    "plt.hlines(0, -1, 5, linewidth=1)\n",
    "plt.vlines(0, -1, 5, linewidth=1)\n",
    "plt.grid(True)\n",
    "\n",
    "# 数値積分の模式図"
   ]
  },
  {
   "cell_type": "markdown",
   "metadata": {},
   "source": [
    "\n",
    "積分，\n",
    "\n",
    "$$\n",
    "I = \\int_a^b f(x) dx\n",
    "$$\n",
    "を求めよう．1次元の数値積分法では連続した領域を細かい短冊に分けて，それぞれの面積を寄せ集めることに相当する．分点の数を N とすると，\n",
    "\n",
    "$$\n",
    "\\begin{array}{c}\n",
    "x_i = a+ \\frac{b-a}{N} i = a + h \\times i \\\\\n",
    "h = \\frac{b-a}{N}\n",
    "\\end{array}\n",
    "$$\n",
    "ととれる．そうすると，もっとも単純には，\n",
    "\n",
    "$$\n",
    "I_N = \\left\\{\\sum_{i=0}^{N-1} f(x_i)\\right\\}h =\n",
    "\\left\\{\\sum_{i=0}^{N-1} f(a+i \\times h)\\right\\}h\n",
    "$$\n",
    "となる．\n"
   ]
  },
  {
   "cell_type": "markdown",
   "metadata": {},
   "source": [
    "## 中点則 (midpoint rule) \n"
   ]
  },
  {
   "cell_type": "markdown",
   "metadata": {},
   "source": [
    "中点法 (midpoint rule) は，短冊を左端から書くのではなく，真ん中から書くことに対応し，\n",
    "\n",
    "$$\n",
    "I_N = \\left\\{\\sum_{i=0}^{N-1}f\\left(a+\\left(i+\\frac{1}{2}\\right) \\times h\\right)\\right\\}h\n",
    "$$\n",
    "となる．\n",
    "\n"
   ]
  },
  {
   "cell_type": "markdown",
   "metadata": {},
   "source": [
    "## 台形則 (trapezoidal rule) \n"
   ]
  },
  {
   "cell_type": "markdown",
   "metadata": {},
   "source": [
    "さらに短冊の上側を斜めにして，短冊を台形にすれば精度が上がりそうに思う．\n",
    "その場合は，短冊一枚の面積$S_i$は，\n",
    "\n",
    "$$\n",
    "S_i = \\frac{f(x_i)+f(x_{i+1})}{2}h\n",
    "$$\n",
    "で求まる．これを端から端まで加えあわせると，\n",
    "\n",
    "$$\n",
    "i_N =\\sum _{i=0}^{N-1}S_i =h \\left\\{ \\frac{1}{2} f ( x_0 ) +\\sum _{i=1}^{N-1}f ( x_i ) +\\frac{1}{2} f \\left( x_N \\right)  \\right\\} \n",
    "$$\n",
    "が得られる．\n",
    "\n"
   ]
  },
  {
   "cell_type": "markdown",
   "metadata": {},
   "source": [
    "## Simpson(シンプソン)則 \n"
   ]
  },
  {
   "cell_type": "markdown",
   "metadata": {},
   "source": [
    "Simpson(シンプソン) 則では，短冊を2次関数，\n",
    "\n",
    "$$\n",
    "f(x) = ax^2+bx+c\n",
    "$$\n",
    "で近似することに対応する．こうすると，\n",
    "\n",
    "$$\n",
    "S_i=\\int _{x_i}^{x_{i+1}}f ( x )\\, {dx}=\\int _{x_i}^{x_{i+1}}(ax^2+bx+c)\\,{dx}\n",
    "$$\n",
    "\n",
    "\n",
    "&nbsp;\n",
    "\n",
    "&nbsp;\n",
    "\n",
    "&nbsp;\n",
    "\n",
    "Simpson則の導出（数式変形）：\n",
    "\n",
    "&nbsp;\n",
    "\n",
    "&nbsp;\n",
    "\n",
    "&nbsp;\n",
    "\n",
    "\n",
    "\n",
    "$$\n",
    "\\frac{h}{6} \\left\\{f(x_i)+4f\\left(x_i+\\frac{h}{2}\\right)+f(x_i+h)\\right\\}\n",
    "$$\n",
    "となる．これより，\n",
    "\n",
    "$$\n",
    "I_N=\\frac{h}{6} \\left\\{ f \\left( x_0 \\right) +4\\,\\sum _{i=0}^{N-1}f \\left( x_i+\\frac{h}{2} \\right) +2\\,\\sum_{i=1}^{N-1}f \\left( x_i \\right) +f \\left( x_N \\right)  \\right\\}\n",
    "$$\n",
    "として計算できる．ただし，関数値を計算する点の数は台形則などの倍となっている．\n",
    "\n",
    "教科書によっては，分割数$N$を偶数にして，点を偶数番目 (even) と奇数番目 (odd) に分けて，\n",
    "\n",
    "$$\n",
    "I_{{N}}=\\frac{h}{3} \\left\\{ f \\left( x_{{0}} \\right) +4\\,\\sum _{i={\\it even}}^{N-2}f \\left( x_{{i}}+\\frac{h}{2} \\right) +2\\,\\sum _{i={\\it odd}}^{N-1}f \\left( x_{{i}} \\right) +f \\left( x_{{N}} \\right) \\right\\}\n",
    "$$\n",
    "としている記述があるが，同じ計算になるので誤解せぬよう．\n",
    "\n",
    "\n"
   ]
  },
  {
   "cell_type": "markdown",
   "metadata": {},
   "source": [
    "# 数値積分のコード\n"
   ]
  },
  {
   "cell_type": "markdown",
   "metadata": {},
   "source": [
    "次の積分を例に，pythonのコードを示す．\n",
    "\n",
    "$$\n",
    "\\int_0^1 \\frac{4}{1+x^2} \\, dx\n",
    "$$\n",
    "先ずは問題が与えられたらできるだけお任せで解いてしまう．答えをあらかじめ知っておくと間違いを見つけるのが容易．プロットしてみる．\n",
    "\n",
    "scipyで積分計算をお任せでしてくれる関数はquadで，これはFortran libraryのQUADPACKを利用している．自動で色々してくれるが，精度は1.49e_08以下．"
   ]
  },
  {
   "cell_type": "code",
   "execution_count": 6,
   "metadata": {},
   "outputs": [
    {
     "data": {
      "image/png": "[encoded data removed]",
      "text/plain": [
       "<Figure size 432x288 with 1 Axes>"
      ]
     },
     "metadata": {
      "needs_background": "light"
     },
     "output_type": "display_data"
    },
    {
     "name": "stdout",
     "output_type": "stream",
     "text": [
      "(3.1415926535897936, 3.4878684980086326e-14)\n"
     ]
    }
   ],
   "source": [
    "import matplotlib.pyplot as plt\n",
    "from scipy import integrate\n",
    "\n",
    "def func(x):\n",
    "    return 4.0/(1.0+x**2)\n",
    "\n",
    "x = np.linspace(0,3, 100)\n",
    "y = func(x)\n",
    "\n",
    "plt.plot(x, y, color = 'r')\n",
    "\n",
    "plt.grid()\n",
    "plt.show()\n",
    "\n",
    "print(integrate.quad(func, 0, 1))"
   ]
  },
  {
   "cell_type": "markdown",
   "metadata": {},
   "source": [
    "なんでと思うかもしれないが，\n",
    "```maple\n",
    ">int(1/(1+x^2),x);\n",
    "```\n",
    "$$\n",
    "arctan(x)\n",
    "$$\n",
    "となるので，納得できるでしょう．"
   ]
  },
  {
   "cell_type": "markdown",
   "metadata": {},
   "source": [
    "#### Midpoint rule(中点法) \n"
   ]
  },
  {
   "cell_type": "code",
   "execution_count": 7,
   "metadata": {},
   "outputs": [
    {
     "name": "stdout",
     "output_type": "stream",
     "text": [
      "3.142894729591689\n"
     ]
    }
   ],
   "source": [
    "def func(x):\n",
    "    return 4.0/(1.0+x**2)\n",
    "\n",
    "N, x0, xn = 8, 0.0, 1.0\n",
    "\n",
    "h = (xn-x0)/N\n",
    "S = 0.0\n",
    "for i in range(0, N):\n",
    "    xi = x0 + (i+0.5)*h\n",
    "    dS = h * func(xi)\n",
    "    S = S + dS\n",
    "\n",
    "print(S)"
   ]
  },
  {
   "cell_type": "markdown",
   "metadata": {},
   "source": [
    "#### Trapezoidal rule(台形公式) \n"
   ]
  },
  {
   "cell_type": "code",
   "execution_count": 8,
   "metadata": {},
   "outputs": [
    {
     "name": "stdout",
     "output_type": "stream",
     "text": [
      "1\n",
      "2\n",
      "3\n",
      "4\n",
      "5\n",
      "6\n",
      "7\n",
      "3.138988494491089\n"
     ]
    }
   ],
   "source": [
    "def func(x):\n",
    "    return 4.0/(1.0+x**2)\n",
    "\n",
    "N, x0, xn = 8, 0.0, 1.0\n",
    "\n",
    "h = (xn-x0)/N\n",
    "S = func(x0)/2.0\n",
    "for i in range(1, N):\n",
    "    xi = x0 + i*h\n",
    "    dS = func(xi)\n",
    "    S = S + dS\n",
    "    print(\"{0}\".format(i))\n",
    "\n",
    "S = S + func(xn)/2.0\n",
    "print(h*S)"
   ]
  },
  {
   "cell_type": "markdown",
   "metadata": {},
   "source": [
    "#### Simpson's rule(シンプソンの公式) \n"
   ]
  },
  {
   "cell_type": "code",
   "execution_count": 9,
   "metadata": {},
   "outputs": [
    {
     "name": "stdout",
     "output_type": "stream",
     "text": [
      "1\n",
      "3\n",
      "5\n",
      "7\n",
      "2\n",
      "4\n",
      "6\n",
      "3.141592502458707\n"
     ]
    }
   ],
   "source": [
    "def func(x):\n",
    "    return 4.0/(1.0+x**2)\n",
    "\n",
    "N, x0, xn = 8, 0.0, 1.0\n",
    "\n",
    "M = int(N/2)\n",
    "h = (xn-x0)/N\n",
    "Seven, Sodd = 0.0, 0.0\n",
    "for i in range(1, 2*M, 2): #rangeの終わりに注意\n",
    "    xi = x0 + i*h\n",
    "    Sodd += func(xi)\n",
    "    print(\"{0}\".format(i))\n",
    "for i in range(2, 2*M, 2):\n",
    "    xi = x0 + i*h\n",
    "    Seven += func(xi)\n",
    "    print(\"{0}\".format(i))\n",
    "\n",
    "print(h*(func(x0)+4*Sodd+2*Seven+func(xn))/3)"
   ]
  },
  {
   "cell_type": "markdown",
   "metadata": {},
   "source": [
    "# 課題\n"
   ]
  },
  {
   "cell_type": "markdown",
   "metadata": {},
   "source": [
    "##  補間法\n",
    "次の4点\n",
    "```maple\n",
    "x y \n",
    "0 1 \n",
    "1 2\n",
    "2 3\n",
    "3 1\n",
    "```\n",
    "を通る多項式を逆行列で求めよ．"
   ]
  },
  {
   "cell_type": "markdown",
   "metadata": {},
   "source": [
    "## 対数関数のニュートンの差分商補間(2014期末試験，25点) \n",
    "\n",
    "2を底とする対数関数(Mapleでは$\\log[2](x)$)の$F(9.2)=2.219203$をニュートンの差分商補間を用いて求める．ニュートンの内挿公式は，\n",
    "\n",
    "$$\n",
    "\\begin{array}{rc}\n",
    "F (x )&=F (x _{0})+\n",
    "(x -x _{0})f _{1}\\lfloor x_0,x_1\\rfloor+\n",
    "(x -x _{0})(x -x _{1})\n",
    "f _{2}\\lfloor x_0,x_1,x_2\\rfloor + \\\\\n",
    "& \\cdots +  \\prod_{i=0}^{n-1} (x-x_i) \\, \n",
    "f_n \\lfloor x_0,x_1,\\cdots,x_n \\rfloor\n",
    "\\end{array}\n",
    "$$\n",
    "である．ここで$f_i \\lfloor\\, \\rfloor$ は次のような関数を意味していて，\n",
    "$$\n",
    "\\begin{array}{rc}\n",
    "f _{1}\\lfloor x_0,x_1\\rfloor &=&  \\frac{y_1-y_0}{x_1-x_0} \\\\\n",
    "f _{2}\\lfloor x_0,x_1,x_2\\rfloor &=&  \\frac{f _{1}\\lfloor x_1,x_2\\rfloor-\n",
    "f _{1}\\lfloor x_0,x_1\\rfloor}{x_2-x_0} \\\\\n",
    "\\vdots & \\\\\n",
    "f _{n}\\lfloor x_0,x_1,\\cdots,x_n\\rfloor &=&  \\frac{f_{n-1}\\lfloor x_1,x_2\\cdots,x_{n}\\rfloor-\n",
    "f _{n-1}\\lfloor x_0,x_1,\\cdots,x_{n-1}\\rfloor}{x_n-x_0} \n",
    "\\end{array}\n",
    "$$\n",
    "差分商と呼ばれる．$x_k=8.0,9.0,10.0,11.0$をそれぞれ選ぶと，差分商補間のそれぞれの項は以下の通りとなる．\n",
    "\n",
    "$$\n",
    "\\begin{array}{ccl|lll}\n",
    "\\hline\n",
    "k  &  x_k & y_k=F_0( x_k) &f_1\\lfloor x_k,x_{k+1}\\rfloor & f_2\\lfloor x_k,x_{k+1},x_{k+2}\\rfloor &  f_3\\lfloor x_k,x_{k+1},x_{k+2},x_{k+3}\\rfloor \\\\\n",
    "\\hline\n",
    "0  &   8.0  &  2.079442  &          &              &\\\\\n",
    "&      &     &     0.117783     &              &\\\\ \n",
    "1  &   9.0  &  2.197225  &           &       [ XXX ]      &\\\\\n",
    "&      &     &     0.105360     &              & 0.0003955000 \\\\\n",
    "2  &  10.0  &  2.302585  &           &       -0.0050250      &\\\\ \n",
    "&      &     &     0.095310    &              &\\\\ \n",
    "3  &  11.0  &  2.397895 &           &              &\\\\ \n",
    "\\hline\n",
    "\\end{array}\n",
    "$$\n",
    "それぞれの項は，例えば，\n",
    "\n",
    "$$\n",
    "f_2\\lfloor x_1,x_2,x_3 \\rfloor =\\frac{0.095310-0.105360}{11.0-9.0}=-0.0050250\n",
    "$$\n",
    "で求められる．ニュートンの差分商の一次多項式の値はx=9.2で\n",
    "\n",
    "$$\n",
    "F(x)=F_0(8.0)+(x-x_0)f_1\\lfloor x_1,x_0\\rfloor =2.079442+0.117783(9.2-8.0)=2.220782\n",
    "$$\n",
    "となる．\n",
    "\n",
    "###  差分商補間の表中の開いている箇所[ XXX ]を埋めよ．\n",
    "###  ニュートンの二次多項式\n",
    "\n",
    "$$\n",
    "F (x )=F (x _{0})+(x -x _{0})f _{1}\\lfloor x_0,x_1\\rfloor+(x -x _{0})(x -x _{1})\n",
    "f _{2}\\lfloor x_0,x_1,x_2\\rfloor\n",
    "$$\n",
    "の値を求めよ．\n",
    "###  ニュートンの三次多項式の値を求めよ．\n",
    "ただし，ここでは有効数字7桁程度はとるように．(E.クライツィグ著「数値解析」(培風館,2003), p.31, 例4改)"
   ]
  },
  {
   "cell_type": "markdown",
   "metadata": {},
   "source": [
    "## 数値積分(I)\n",
    "次の関数\n",
    "\n",
    "$$\n",
    "f(x) = \\frac{4}{1+x^2}\n",
    "$$\n",
    "を$x = 0..1$で数値積分する．\n",
    "1.  $N$を2,4,8,…256ととり，$N$個の等間隔な区間にわけて中点法と台形則で求めよ．(15)\n",
    "1.  小数点以下10桁まで求めた値3.141592654との差をdXとする．dXと分割数Nとを両対数プロット(loglogplot)して比較せよ(10)\n",
    "(2008年度期末試験）"
   ]
  },
  {
   "cell_type": "markdown",
   "metadata": {},
   "source": [
    "# 解答例[7.3]\n",
    "\n",
    "以下には，中点則の結果を示した．課題では，台形則を加えて，両者を比較せよ．予測とどう違うか．\n"
   ]
  },
  {
   "cell_type": "code",
   "execution_count": 10,
   "metadata": {},
   "outputs": [],
   "source": [
    "import numpy as np\n",
    "\n",
    "def func(x):\n",
    "    return 4.0/(1.0+x**2)\n",
    "\n",
    "def mid(N):\n",
    "    x0, xn = 0.0, 1.0\n",
    "\n",
    "    h = (xn-x0)/N\n",
    "    S = 0.0\n",
    "    for i in range(0, N):\n",
    "        xi = x0 + (i+0.5)*h\n",
    "        dS = h * func(xi)\n",
    "        S = S + dS\n",
    "    return S\n",
    "\n",
    "x, y = [], []\n",
    "for i in range(1,8):\n",
    "    x.append(2**i)\n",
    "    y.append(abs(mid(2**i)-np.pi))\n"
   ]
  },
  {
   "cell_type": "code",
   "execution_count": 11,
   "metadata": {},
   "outputs": [
    {
     "data": {
      "image/png": "[encoded data removed]",
      "text/plain": [
       "<Figure size 432x288 with 1 Axes>"
      ]
     },
     "metadata": {
      "needs_background": "light"
     },
     "output_type": "display_data"
    }
   ],
   "source": [
    "plt.plot(x, y, color = 'r')\n",
    "plt.yscale('log')\n",
    "plt.grid()\n",
    "plt.show()"
   ]
  },
  {
   "cell_type": "code",
   "execution_count": 12,
   "metadata": {},
   "outputs": [
    {
     "data": {
      "image/png": "[encoded data removed]",
      "text/plain": [
       "<Figure size 432x288 with 1 Axes>"
      ]
     },
     "metadata": {
      "needs_background": "light"
     },
     "output_type": "display_data"
    }
   ],
   "source": [
    "plt.plot(x, y, color = 'r')\n",
    "plt.yscale('log')\n",
    "plt.xscale('log')\n",
    "plt.grid()\n",
    "plt.show()"
   ]
  },
  {
   "cell_type": "code",
   "execution_count": null,
   "metadata": {},
   "outputs": [],
   "source": []
  }
 ],
 "metadata": {
  "kernelspec": {
   "display_name": "Python 3",
   "language": "python",
   "name": "python3"
  },
  "language_info": {
   "codemirror_mode": {
    "name": "ipython",
    "version": 3
   },
   "file_extension": ".py",
   "mimetype": "text/x-python",
   "name": "python",
   "nbconvert_exporter": "python",
   "pygments_lexer": "ipython3",
   "version": "3.8.5"
  },
  "latex_envs": {
   "LaTeX_envs_menu_present": true,
   "autocomplete": true,
   "bibliofile": "biblio.bib",
   "cite_by": "apalike",
   "current_citInitial": 1,
   "eqLabelWithNumbers": true,
   "eqNumInitial": 1,
   "hotkeys": {
    "equation": "Ctrl-E",
    "itemize": "Ctrl-I"
   },
   "labels_anchors": false,
   "latex_user_defs": false,
   "report_style_numbering": false,
   "user_envs_cfg": false
  },
  "toc": {
   "base_numbering": 1,
   "nav_menu": {
    "height": "12px",
    "width": "252px"
   },
   "number_sections": true,
   "sideBar": true,
   "skip_h1_title": false,
   "title_cell": "Table of Contents",
   "title_sidebar": "Contents",
   "toc_cell": true,
   "toc_position": {},
   "toc_section_display": "block",
   "toc_window_display": true
  }
 },
 "nbformat": 4,
 "nbformat_minor": 2
}
