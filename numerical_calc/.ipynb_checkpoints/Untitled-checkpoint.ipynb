{
 "cells": [
  {
   "cell_type": "markdown",
   "metadata": {
    "toc": "true"
   },
   "source": [
    "# Table of Contents\n",
    " <p>"
   ]
  },
  {
   "cell_type": "code",
   "execution_count": 1,
   "metadata": {
    "collapsed": true
   },
   "outputs": [],
   "source": [
    "from decimal import *\n",
    "\n",
    "def pretty_p(result,a,b,operator):\n",
    "    print('context.prec:{}'.format(getcontext().prec))\n",
    "    print(' %20.14f' % (a))\n",
    "    print( '%1s%20.14f' % (operator, b))\n",
    "    print('-----------')\n",
    "    print( ' %20.14f' % (result))"
   ]
  },
  {
   "cell_type": "code",
   "execution_count": 2,
   "metadata": {},
   "outputs": [
    {
     "name": "stdout",
     "output_type": "stream",
     "text": [
      "context.prec:10\n",
      "     0.72365700000000\n",
      "-    0.72364900000000\n",
      "-----------\n",
      "     0.00000800000000\n",
      "context.prec:10\n",
      " 72365.69999999999709\n",
      "+    1.23659000000000\n",
      "-----------\n",
      " 72366.93658999999752\n",
      "context.prec:10\n",
      " 72365.69999999999709\n",
      "+    0.00100000000000\n",
      "-----------\n",
      " 72365.70100000000093\n"
     ]
    }
   ],
   "source": [
    "getcontext().prec = 10\n",
    "\n",
    "a=Decimal('0.723657')\n",
    "b=Decimal('0.723649')\n",
    "pretty_p(a-b,a,b,'-')\n",
    "\n",
    "a=Decimal('72365.7')\n",
    "b=Decimal('1.23659')\n",
    "pretty_p(a+b,a,b,'+')\n",
    "\n",
    "a=Decimal('72365.7')\n",
    "b=Decimal('0.001')\n",
    "pretty_p(a+b,a,b,'+')"
   ]
  },
  {
   "cell_type": "markdown",
   "metadata": {},
   "source": [
    "###### 1. 10 進数 4 桁の有効桁数をもった計算機になったつもりで，a=0.81543, b=35.724, c=35.596として，以下の計算をおこなえ．\n",
    "   1.  b-c\n",
    "   1.  a/(b-c)"
   ]
  },
  {
   "cell_type": "code",
   "execution_count": 5,
   "metadata": {},
   "outputs": [
    {
     "name": "stdout",
     "output_type": "stream",
     "text": [
      "context.prec:4\n",
      "    35.72400000000000\n",
      "-   35.59600000000000\n",
      "-----------\n",
      "     0.12800000000000\n"
     ]
    },
    {
     "data": {
      "text/plain": [
       "Decimal('6.371')"
      ]
     },
     "execution_count": 5,
     "metadata": {},
     "output_type": "execute_result"
    }
   ],
   "source": [
    "getcontext().prec = 4\n",
    "\n",
    "a=Decimal('0.81543')\n",
    "b=Decimal('35.724')\n",
    "c=Decimal('35.596')\n",
    "pretty_p(b-c,b,c,'-')\n",
    "\n",
    "a/(b-c)"
   ]
  },
  {
   "cell_type": "code",
   "execution_count": 6,
   "metadata": {},
   "outputs": [
    {
     "name": "stdout",
     "output_type": "stream",
     "text": [
      "context.prec:10\n",
      "    35.72400000000000\n",
      "-   35.59600000000000\n",
      "-----------\n",
      "     0.12800000000000\n"
     ]
    },
    {
     "data": {
      "text/plain": [
       "Decimal('6.370546875')"
      ]
     },
     "execution_count": 6,
     "metadata": {},
     "output_type": "execute_result"
    }
   ],
   "source": [
    "getcontext().prec = 10\n",
    "\n",
    "a=Decimal('0.81543')\n",
    "b=Decimal('35.724')\n",
    "c=Decimal('35.596')\n",
    "pretty_p(b-c,b,c,'-')\n",
    "\n",
    "a/(b-c)"
   ]
  },
  {
   "cell_type": "code",
   "execution_count": null,
   "metadata": {
    "collapsed": true
   },
   "outputs": [],
   "source": []
  }
 ],
 "metadata": {
  "kernelspec": {
   "display_name": "Python 3",
   "language": "python",
   "name": "python3"
  },
  "language_info": {
   "codemirror_mode": {
    "name": "ipython",
    "version": 3
   },
   "file_extension": ".py",
   "mimetype": "text/x-python",
   "name": "python",
   "nbconvert_exporter": "python",
   "pygments_lexer": "ipython3",
   "version": "3.6.1"
  },
  "latex_envs": {
   "LaTeX_envs_menu_present": true,
   "autocomplete": true,
   "bibliofile": "biblio.bib",
   "cite_by": "apalike",
   "current_citInitial": 1,
   "eqLabelWithNumbers": true,
   "eqNumInitial": 1,
   "hotkeys": {
    "equation": "Ctrl-E",
    "itemize": "Ctrl-I"
   },
   "labels_anchors": false,
   "latex_user_defs": false,
   "report_style_numbering": false,
   "user_envs_cfg": false
  },
  "toc": {
   "colors": {
    "hover_highlight": "#DAA520",
    "navigate_num": "#000000",
    "navigate_text": "#333333",
    "running_highlight": "#FF0000",
    "selected_highlight": "#FFD700",
    "sidebar_border": "#EEEEEE",
    "wrapper_background": "#FFFFFF"
   },
   "moveMenuLeft": true,
   "nav_menu": {
    "height": "13px",
    "width": "253px"
   },
   "navigate_menu": true,
   "number_sections": true,
   "sideBar": true,
   "threshold": 4,
   "toc_cell": true,
   "toc_section_display": "block",
   "toc_window_display": true,
   "widenNotebook": false
  }
 },
 "nbformat": 4,
 "nbformat_minor": 2
}
