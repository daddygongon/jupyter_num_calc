{
 "cells": [
  {
   "cell_type": "markdown",
   "metadata": {
    "toc": "true"
   },
   "source": [
    "<h1>Table of Contents<span class=\"tocSkip\"></span></h1>\n",
    "<div class=\"toc\"><ul class=\"toc-item\"><li><span><a href=\"#行列計算の概要\" data-toc-modified-id=\"行列計算の概要-1\"><span class=\"toc-item-num\">1&nbsp;&nbsp;</span>行列計算の概要</a></span></li><li><span><a href=\"#ガウス消去法による連立一次方程式の解\" data-toc-modified-id=\"ガウス消去法による連立一次方程式の解-2\"><span class=\"toc-item-num\">2&nbsp;&nbsp;</span>ガウス消去法による連立一次方程式の解</a></span></li><li><span><a href=\"#pythonによるLU分解\" data-toc-modified-id=\"pythonによるLU分解-3\"><span class=\"toc-item-num\">3&nbsp;&nbsp;</span>pythonによるLU分解</a></span></li><li><span><a href=\"#LU分解のコード\" data-toc-modified-id=\"LU分解のコード-4\"><span class=\"toc-item-num\">4&nbsp;&nbsp;</span>LU分解のコード</a></span></li><li><span><a href=\"#ピボット操作\" data-toc-modified-id=\"ピボット操作-5\"><span class=\"toc-item-num\">5&nbsp;&nbsp;</span>ピボット操作</a></span></li><li><span><a href=\"#反復法による連立方程式の解\" data-toc-modified-id=\"反復法による連立方程式の解-6\"><span class=\"toc-item-num\">6&nbsp;&nbsp;</span>反復法による連立方程式の解</a></span></li><li><span><a href=\"#課題\" data-toc-modified-id=\"課題-7\"><span class=\"toc-item-num\">7&nbsp;&nbsp;</span>課題</a></span><ul class=\"toc-item\"><li><span><a href=\"#行列AをLU分解\" data-toc-modified-id=\"行列AをLU分解-7.1\"><span class=\"toc-item-num\">7.1&nbsp;&nbsp;</span>行列AをLU分解</a></span></li><li><span><a href=\"#pivot付きのLU分解\" data-toc-modified-id=\"pivot付きのLU分解-7.2\"><span class=\"toc-item-num\">7.2&nbsp;&nbsp;</span>pivot付きのLU分解</a></span></li><li><span><a href=\"#Gauss-Seidel法\" data-toc-modified-id=\"Gauss-Seidel法-7.3\"><span class=\"toc-item-num\">7.3&nbsp;&nbsp;</span>Gauss-Seidel法</a></span></li></ul></li></ul></div>"
   ]
  },
  {
   "cell_type": "markdown",
   "metadata": {},
   "source": [
    "<br />\n",
    "\n",
    "<div style=\"text-align: center;\">\n",
    "<font size=\"7\">線形代数-逆行列</font>\n",
    "</div>\n",
    "<br />\n",
    "<div style=\"text-align: right;\">\n",
    "<font size=\"4\">cc by Shigeto R. Nishitani 2017-19 </font>\n",
    "</div>\n",
    "\n",
    "\n",
    "\n"
   ]
  },
  {
   "cell_type": "markdown",
   "metadata": {},
   "source": [
    "# 行列計算の概要\n"
   ]
  },
  {
   "cell_type": "markdown",
   "metadata": {},
   "source": [
    "\n",
    "数値計算の中心課題の一つである，行列に関する演算について見ていきます．\n",
    "多次元，大規模な行列に対する効率のよい計算法が多数開発されており，\n",
    "多くの既存のライブラリが用意されています．\n",
    "本章ではそれらの中心をなす，\n",
    "逆行列(matrix inverse)と固有値(Eigen　values)に関して具体的な計算方法を示します．\n",
    "現実的な問題には既存のライブラリを使うのが上策ですが，\n",
    "それでも基礎となる原理の理解や，ちょっとした計算，\n",
    "ライブラリの結果の検証に使えるルーチンを示します．\n",
    "\n",
    "逆行列は連立一次方程式を解くことと等価です．\n",
    "ルーチン的なやり方にガウスの消去法があります．\n",
    "これは上三角行列になれば代入を適宜おこなうことで\n",
    "解が容易に求まることを利用します．\n",
    "さらに，初期値から始めて次々に解に近づけていく反復法があります．\n",
    "この代表例であるJacobi(ヤコビ)法と，\n",
    "収束性を高めたGauss-Seidel(ガウス-ザイデル)法を紹介します．\n",
    "\n",
    "上記の手法をより高速にした修正コレスキー分解と共役傾斜(共役勾配)法がありますが，\n",
    "複雑になるのでパスります．\n",
    "必要ならばNumRecipeを読んでください．\n",
    "\n"
   ]
  },
  {
   "cell_type": "markdown",
   "metadata": {},
   "source": [
    "# ガウス消去法による連立一次方程式の解\n"
   ]
  },
  {
   "cell_type": "markdown",
   "metadata": {},
   "source": [
    "逆行列は連立一次方程式を解くことと等価です．\n",
    "すなわち，$A$を行列，$x$を未知数ベクトル，$b$を数値ベクトルとすると，\n",
    "\n",
    "$$\n",
    "\\begin{array}{rl} Ax &= b \\\\\n",
    "A^{-1}Ax &= A^{-1}b \\\\\n",
    "x &= A^{-1}b \n",
    "\\end{array}\n",
    "$$\n",
    "です．\n",
    "未知数の少ない連立一次方程式では，適当に組み合わせて未知数を消していけばいいですが，\n",
    "未知数が多くなってしまうと破綻します．\n",
    "未知数の多い多元連立一次方程式で，ルーチン的に解を求めていく方法がガウス消去法で，\n",
    "**前進消去**と**後退代入**という2つの操作からなります．"
   ]
  },
  {
   "cell_type": "markdown",
   "metadata": {},
   "source": [
    "後退代入(Backward substitution)による解の求め方を先ず見ましょう．\n",
    "たとえば，\n",
    "\n",
    "$$\n",
    "\\begin{array}{rl}\n",
    "x+y-2z & = -4 \\\\\n",
    "-3y+3z & = 9\\\\\n",
    "-2z & = -3\n",
    "\\end{array}\n",
    "$$\n",
    "では，下から順番に$z\\rightarrow y\\rightarrow x$と適宜代入することによって，\n",
    "簡単に解を求めることが出来ます．\n",
    "係数で作る行列でこのような形をした上三角行列にする操作を\n",
    "前進消去あるいはガウスの消去法(Gaussian elimination)といいます．\n",
    "下三角行列L(lower triangular matrix)と上三角行列U(upper triangular matrix)の積に分解する操作\n",
    "\n",
    "$$\n",
    "A = L.U\n",
    "$$\n",
    "をLU分解(LU decomposition)といいます．\n",
    "例えば先に示した上三角行列を係数とする連立方程式は，\n",
    "\n",
    "$$\n",
    "\\begin{array}{rl}\n",
    "x+y-2z&=-4 \\\\\n",
    "x-2y+z&=5 \\\\\n",
    "x-2y-z&=2\n",
    "\\end{array}\n",
    "$$\n",
    "を変形することで得られます．連立方程式からの変形を示してください．\n",
    "\n",
    "|　　　　　　　　  |\n",
    "|:----|\n",
    "\n",
    "\n",
    "\n",
    "```\n",
    "\n",
    "```"
   ]
  },
  {
   "cell_type": "markdown",
   "metadata": {},
   "source": [
    "# pythonによるLU分解\n",
    "\n",
    "係数行列(coefficient matrix)Aと定数項(b)を定義します．"
   ]
  },
  {
   "cell_type": "code",
   "execution_count": 1,
   "metadata": {},
   "outputs": [
    {
     "name": "stdout",
     "output_type": "stream",
     "text": [
      "array([[ 1,  1, -2],\n",
      "       [ 1, -2,  1],\n",
      "       [ 1, -2, -1]])\n",
      "array([[-4],\n",
      "       [ 5],\n",
      "       [ 2]])\n"
     ]
    }
   ],
   "source": [
    "from pprint import pprint\n",
    "import scipy.linalg as linalg   # SciPy Linear Algebra Library\n",
    "import numpy as np\n",
    "\n",
    "# A = np.array([[1,1,-2,-4],[1,-2,1,5],[2,-2,-1,2]])\n",
    "A = np.array([[1,1,-2],[1,-2,1],[1,-2,-1]])\n",
    "b = np.array([[-4],[5],[2]])\n",
    "pprint(A)\n",
    "pprint(b)"
   ]
  },
  {
   "cell_type": "markdown",
   "metadata": {},
   "source": [
    "単に逆行列を求める際は"
   ]
  },
  {
   "cell_type": "code",
   "execution_count": 2,
   "metadata": {
    "scrolled": true
   },
   "outputs": [
    {
     "name": "stdout",
     "output_type": "stream",
     "text": [
      "[[ 0.66666667  0.83333333 -0.5       ]\n",
      " [ 0.33333333  0.16666667 -0.5       ]\n",
      " [ 0.          0.5        -0.5       ]]\n"
     ]
    },
    {
     "data": {
      "text/plain": [
       "array([[ 0.5],\n",
       "       [-1.5],\n",
       "       [ 1.5]])"
      ]
     },
     "execution_count": 2,
     "metadata": {},
     "output_type": "execute_result"
    }
   ],
   "source": [
    "inv_A = linalg.inv(A)\n",
    "print(inv_A)\n",
    "np.dot(inv_A,b)"
   ]
  },
  {
   "cell_type": "markdown",
   "metadata": {},
   "source": [
    "拡大係数行列はhstack(horizontal stack)かcolumn_stackを使います．"
   ]
  },
  {
   "cell_type": "code",
   "execution_count": 3,
   "metadata": {},
   "outputs": [
    {
     "name": "stdout",
     "output_type": "stream",
     "text": [
      "array([[ 1,  1, -2, -4],\n",
      "       [ 1, -2,  1,  5],\n",
      "       [ 1, -2, -1,  2]])\n",
      "array([[ 1,  1, -2, -4],\n",
      "       [ 1, -2,  1,  5],\n",
      "       [ 1, -2, -1,  2]])\n"
     ]
    }
   ],
   "source": [
    "e_A = np.hstack((A, b))\n",
    "pprint(e_A)\n",
    "pprint(np.column_stack((A,b)))"
   ]
  },
  {
   "cell_type": "code",
   "execution_count": 4,
   "metadata": {},
   "outputs": [
    {
     "name": "stdout",
     "output_type": "stream",
     "text": [
      "P:\n",
      "array([[1., 0., 0.],\n",
      "       [0., 1., 0.],\n",
      "       [0., 0., 1.]])\n",
      "L:\n",
      "array([[1., 0., 0.],\n",
      "       [1., 1., 0.],\n",
      "       [1., 1., 1.]])\n",
      "U:\n",
      "array([[ 1.,  1., -2., -4.],\n",
      "       [ 0., -3.,  3.,  9.],\n",
      "       [ 0.,  0., -2., -3.]])\n"
     ]
    }
   ],
   "source": [
    "P, L, U = linalg.lu(e_A)\n",
    "\n",
    "print(\"P:\")\n",
    "pprint(P)\n",
    "\n",
    "print(\"L:\")\n",
    "pprint(L)\n",
    "\n",
    "print(\"U:\")\n",
    "pprint(U)"
   ]
  },
  {
   "cell_type": "markdown",
   "metadata": {},
   "source": [
    "元の拡大行列はこれらの掛け算で求められます．"
   ]
  },
  {
   "cell_type": "code",
   "execution_count": 5,
   "metadata": {},
   "outputs": [
    {
     "name": "stdout",
     "output_type": "stream",
     "text": [
      "e_A=P.L.U:\n",
      "array([[ 1.,  1., -2., -4.],\n",
      "       [ 1., -2.,  1.,  5.],\n",
      "       [ 1., -2., -1.,  2.]])\n"
     ]
    }
   ],
   "source": [
    "print(\"e_A=P.L.U:\")\n",
    "pprint(np.dot(np.dot(P,L),U))"
   ]
  },
  {
   "cell_type": "markdown",
   "metadata": {},
   "source": [
    "# LU分解のコード\n",
    "\n",
    "LU分解すれば線形方程式の解が容易に求まることは理解できると思う．具体的に$A$をLU分解する行列(消去行列と称す)T1,T2の係数は次のようにして求められる．"
   ]
  },
  {
   "cell_type": "code",
   "execution_count": 6,
   "metadata": {},
   "outputs": [
    {
     "name": "stdout",
     "output_type": "stream",
     "text": [
      "array([[ 1.,  1., -2.],\n",
      "       [ 0., -3.,  3.],\n",
      "       [ 0.,  0., -2.]])\n",
      "array([[-4.],\n",
      "       [ 9.],\n",
      "       [-3.]])\n"
     ]
    }
   ],
   "source": [
    "from pprint import pprint\n",
    "import scipy.linalg as linalg   # SciPy Linear Algebra Library\n",
    "import numpy as np\n",
    "\n",
    "\n",
    "A = np.array([[1.0,1,-2],[1,-2,1],[1,-2,-1]])\n",
    "A0 = np.array([[1.0,1,-2],[1,-2,1],[1,-2,-1]])\n",
    "b = np.array([[-4.0],[5],[2]])\n",
    "\n",
    "n = 3\n",
    "L = np.identity(n)\n",
    "T = []\n",
    "for i in range(n):        #i行目\n",
    "    T.append(np.identity(n))\n",
    "    for j in range(i+1, n):\n",
    "        am = A[j,i]/A[i,i]    #i行の要素を使って，i+1行目の先頭を消す係数を求める\n",
    "        T[i][j,i]=-am         #i番目の消去行列に要素を入れる\n",
    "        L[j,i]=am             #LTMの要素\n",
    "        for k in range(n):\n",
    "            A[j,k] -= am*A[i,k] #もとの行列をUTMにしていく\n",
    "        b[j] -= b[i]*am   #数値ベクトルも操作\n",
    "pprint(A)\n",
    "pprint(b)"
   ]
  },
  {
   "cell_type": "markdown",
   "metadata": {},
   "source": [
    "上のコードによって得られた消去行列．"
   ]
  },
  {
   "cell_type": "code",
   "execution_count": 7,
   "metadata": {},
   "outputs": [
    {
     "name": "stdout",
     "output_type": "stream",
     "text": [
      "[array([[ 1.,  0.,  0.],\n",
      "       [-1.,  1.,  0.],\n",
      "       [-1.,  0.,  1.]]),\n",
      " array([[ 1.,  0.,  0.],\n",
      "       [ 0.,  1.,  0.],\n",
      "       [ 0., -1.,  1.]]),\n",
      " array([[1., 0., 0.],\n",
      "       [0., 1., 0.],\n",
      "       [0., 0., 1.]])]\n"
     ]
    }
   ],
   "source": [
    "pprint(T)"
   ]
  },
  {
   "cell_type": "markdown",
   "metadata": {},
   "source": [
    "これを実際に元の行列$A0$に作用させると，UTMが求められる．"
   ]
  },
  {
   "cell_type": "code",
   "execution_count": 8,
   "metadata": {},
   "outputs": [
    {
     "data": {
      "text/plain": [
       "array([[ 1.,  1., -2.],\n",
       "       [ 0., -3.,  3.],\n",
       "       [ 0.,  0., -2.]])"
      ]
     },
     "execution_count": 8,
     "metadata": {},
     "output_type": "execute_result"
    }
   ],
   "source": [
    "np.dot(T[1],np.dot(T[0],A0))"
   ]
  },
  {
   "cell_type": "markdown",
   "metadata": {},
   "source": [
    "求められたLTM, UTMを掛けると"
   ]
  },
  {
   "cell_type": "code",
   "execution_count": 9,
   "metadata": {},
   "outputs": [
    {
     "data": {
      "text/plain": [
       "array([[ 1.,  1., -2.],\n",
       "       [ 1., -2.,  1.],\n",
       "       [ 1., -2., -1.]])"
      ]
     },
     "execution_count": 9,
     "metadata": {},
     "output_type": "execute_result"
    }
   ],
   "source": [
    "np.dot(L,A)"
   ]
  },
  {
   "cell_type": "markdown",
   "metadata": {},
   "source": [
    "元の行列を得られる．L,Aに求めたい行列が入っていることを確認．"
   ]
  },
  {
   "cell_type": "code",
   "execution_count": 10,
   "metadata": {},
   "outputs": [
    {
     "name": "stdout",
     "output_type": "stream",
     "text": [
      "array([[1., 0., 0.],\n",
      "       [1., 1., 0.],\n",
      "       [1., 1., 1.]])\n",
      "array([[ 1.,  1., -2.],\n",
      "       [ 0., -3.,  3.],\n",
      "       [ 0.,  0., -2.]])\n"
     ]
    }
   ],
   "source": [
    "pprint(L)\n",
    "pprint(A)"
   ]
  },
  {
   "cell_type": "markdown",
   "metadata": {},
   "source": [
    "数値ベクトルも期待通り変換されている．"
   ]
  },
  {
   "cell_type": "code",
   "execution_count": 11,
   "metadata": {},
   "outputs": [
    {
     "name": "stdout",
     "output_type": "stream",
     "text": [
      "array([[-4.],\n",
      "       [ 9.],\n",
      "       [-3.]])\n"
     ]
    }
   ],
   "source": [
    "pprint(b)"
   ]
  },
  {
   "cell_type": "markdown",
   "metadata": {},
   "source": [
    "luの出力で得られる拡張係数行列のUTMは，次の通り．"
   ]
  },
  {
   "cell_type": "code",
   "execution_count": 12,
   "metadata": {},
   "outputs": [
    {
     "data": {
      "text/plain": [
       "array([[ 1.,  1., -2., -4.],\n",
       "       [ 0., -3.,  3.,  9.],\n",
       "       [ 0.,  0., -2., -3.]])"
      ]
     },
     "execution_count": 12,
     "metadata": {},
     "output_type": "execute_result"
    }
   ],
   "source": [
    "np.hstack((A, b))"
   ]
  },
  {
   "cell_type": "markdown",
   "metadata": {},
   "source": [
    "# ピボット操作\n"
   ]
  },
  {
   "cell_type": "markdown",
   "metadata": {},
   "source": [
    "\n",
    "ガウス消去法で困るのは，割ろうとした対角要素が0の場合である．\n",
    "\n",
    "\\begin{array}{rl}\n",
    "2x+y-2z&=-4 \\\\\n",
    "-2x-y+z&=5 \\\\\n",
    "2x-2y-z&=2\n",
    "\\end{array}\n",
    "\n",
    "第1式で第2，第3式を掃き出すと\n",
    "\n",
    "\\begin{array}{rl}\n",
    "x+y-2z&=-4 \\\\\n",
    "-z&=1 \\\\\n",
    "-3y+z&=6\n",
    "\\end{array}\n",
    "\n",
    "となり，第2式で第3式が掃き出せなくなる．\n",
    "しかし，この場合にも，方程式の順序を，行列の行と右辺の値をペアにして入れ替えれば解決する．\n",
    "\\begin{array}{rl}\n",
    "x+y-2z&=-4 \\\\\n",
    "-3y+z&=6 \\\\\n",
    "-z&=1\n",
    "\\end{array}\n",
    "これをピボット操作あるいはピボット(pivot,バスケの軸足を動かさずにくるくる回すやつ)と呼ぶ．\n",
    "この操作は，変数の並びを変えたわけではなく，\n",
    "単に方程式の順番を変更する操作に相当する．\n",
    "\n",
    "さらに対角要素の数値が厳密に0でなくとも，極端に0に近づいた場合にも，\n",
    "その数で割った数値が大きくなり他の数との差を取ると以前に示した情報落ちの可能性が出てくる．\n",
    "この現象を防ぐためには，絶対値が最大のピボットを選んで行の入れ替えを毎回おこなうといい結果が得られることが知られている．\n",
    "\n",
    "MapleのLUDecompositionコマンドをこのような行列に適用すると，置換行列(permutation\n",
    "matrix)Pが単位行列ではなく，ピボット操作に対応した行列となる．P.A=L.Uとなることに注意．\n",
    "\n",
    "実際に先ほどの例をpythonで解かせると，置換行列Pはidentity行列ではなく，\n",
    "2，3行目でpivotが起こっていることを表している．"
   ]
  },
  {
   "cell_type": "code",
   "execution_count": 16,
   "metadata": {},
   "outputs": [
    {
     "name": "stdout",
     "output_type": "stream",
     "text": [
      "array([[ 2.,  1., -2., -4.],\n",
      "       [-2., -1.,  1.,  5.],\n",
      "       [ 2., -2., -1.,  2.]])\n",
      "P:\n",
      "array([[1., 0., 0.],\n",
      "       [0., 0., 1.],\n",
      "       [0., 1., 0.]])\n",
      "L:\n",
      "array([[ 1.,  0.,  0.],\n",
      "       [ 1.,  1.,  0.],\n",
      "       [-1., -0.,  1.]])\n",
      "U:\n",
      "array([[ 2.,  1., -2., -4.],\n",
      "       [ 0., -3.,  1.,  6.],\n",
      "       [ 0.,  0., -1.,  1.]])\n"
     ]
    }
   ],
   "source": [
    "A = np.array([[2,1,-2],[-2,-1,1],[2,-2,-1]])\n",
    "b = np.array([[-4.0],[5],[2]])\n",
    "e_A = np.hstack((A, b))\n",
    "pprint(e_A)\n",
    "P, L, U = linalg.lu(e_A)\n",
    "\n",
    "print(\"P:\")\n",
    "pprint(P)\n",
    "\n",
    "print(\"L:\")\n",
    "pprint(L)\n",
    "\n",
    "print(\"U:\")\n",
    "pprint(U)"
   ]
  },
  {
   "cell_type": "markdown",
   "metadata": {},
   "source": [
    "# 反復法による連立方程式の解\n"
   ]
  },
  {
   "cell_type": "markdown",
   "metadata": {},
   "source": [
    "\n",
    "以下のような連立方程式を\n",
    "\n",
    "$$\n",
    "\\left[ \\begin {array}{c} 5\\,x+y+z+u\\\\ x+3\\,y+z+u\\\\ x-2\\,y-9\\,z+u\\\\ x+3\\,y-2\\,z+5\\,u\\end {array} \\right] = \\left[ \\begin {array}{c} -6\\\\ 2\\\\ -7\\\\ 3\\end {array} \\right]\n",
    "$$\n",
    "形式的に解くと\n",
    "\n",
    "$$\n",
    "x=\\frac{-6-(y+z+u)}{5}\n",
    "$$\n",
    "となる．他の未知数も，\n",
    "\n",
    "|y=|　　　　　　　　 |\n",
    "|:----|:----|\n",
    "|z=|　　　　　　　　 |\n",
    "|u=|　　　　　　　　 |\n",
    "\n",
    "となる．適当に初期値($x_0,y_0,z_0,u_0$)をとり，下側の方程式に代入すると，得られた出力($x_1,y_1,z_1,u_1$)はより精解に近い値となる．これを繰り返すことによって精解が得られる．これをヤコビ(Jacobi)法と呼び，係数行列の対角要素が非対角要素にくらべて大きいときに適用できる．多くの現実の問題ではこの状況が成り立っている．\n",
    "\n",
    "Gauss-Seidel法はJacobi法の高速版である．$n$番目の解の組が得られた後に一度に次の解の組に入れ替えるのではなく，得られた解を順次改良した解として使っていく．これにより，収束が早まる．以下にはヤコビ法のコードを示した．x1[i]の配列を変数に換えるだけで，Gauss-Seidel法となる．\n"
   ]
  },
  {
   "cell_type": "code",
   "execution_count": 14,
   "metadata": {
    "scrolled": true
   },
   "outputs": [
    {
     "name": "stdout",
     "output_type": "stream",
     "text": [
      "[-1.2       0.666667  0.777778  0.6     ]\n",
      "[-1.608889  0.607407  0.562963  0.751111]\n",
      "[-1.584296  0.764938  0.54749   0.782519]\n",
      "[-1.618989  0.751429  0.518705  0.676892]\n",
      "[-1.589405  0.807797  0.506116  0.680422]\n",
      "[-1.598867  0.800956  0.497269  0.635649]\n",
      "[-1.586775  0.821983  0.492763  0.638108]\n",
      "[-1.590571  0.818635  0.489707  0.621271]\n",
      "[-1.585923  0.826531  0.488159  0.622816]\n",
      "[-1.587501  0.824982  0.487092  0.61653 ]\n",
      "[-1.585721  0.82796   0.486563  0.617348]\n",
      "[-1.586374  0.82727   0.48619   0.614993]\n",
      "[-1.585691  0.828397  0.486009  0.615389]\n",
      "[-1.585959  0.828098  0.485878  0.614503]\n",
      "[-1.585696  0.828526  0.485817  0.614684]\n",
      "[-1.585805  0.828398  0.485771  0.61435 ]\n",
      "[-1.585704  0.828561  0.48575   0.61443 ]\n",
      "[-1.585748  0.828508  0.485734  0.614304]\n",
      "[-1.585709  0.82857   0.485727  0.614338]\n",
      "[-1.585727  0.828548  0.485721  0.61429 ]\n"
     ]
    }
   ],
   "source": [
    "# Jacobi iterative method for solving Ax=b by bob\n",
    "import numpy as np\n",
    "np.set_printoptions(precision=6, suppress=True)\n",
    "\n",
    "A=np.array([[5,1,1,1],[1,3,1,1],[1,-2,-9,1],[1,3,-2,5]])\n",
    "b=np.array([-6,2,-7,3])\n",
    "n=4\n",
    "x0=np.zeros(n)\n",
    "x1=np.zeros(n)\n",
    "\n",
    "for iter in range(0, 20):\n",
    "    for i in range(0, n):\n",
    "        x1[i]=b[i]\n",
    "        for j in range(0, n):\n",
    "            x1[i]=x1[i]-A[i][j]*x0[j]\n",
    "        x1[i]=x1[i]+A[i][i]*x0[i]\n",
    "        x1[i]=x1[i]/A[i][i]\n",
    "    for j in range(0, n):\n",
    "        x0[j]=x1[j]\n",
    "    print(x0)\n"
   ]
  },
  {
   "cell_type": "markdown",
   "metadata": {},
   "source": [
    "もう少しpython(numpy)の機能を使うとおしゃれな書き方ができる．\n",
    "以下は，ネットから拾ってきたcode. \n",
    "上(by bob)とやってることの本質的なところは同じですが，\n",
    "numpyのindexを自動的に判断する機能を使って簡潔に書いています．\n",
    "こういうのを読める，書けるようになれば，あなたもpython使い．\n",
    "私はまだpythonに馴染めてなくて，いちいち頭の中で治しています．．．"
   ]
  },
  {
   "cell_type": "code",
   "execution_count": 15,
   "metadata": {},
   "outputs": [
    {
     "name": "stdout",
     "output_type": "stream",
     "text": [
      "[-1.2       0.666667  0.777778  0.6     ]\n",
      "[-1.608889  0.607407  0.562963  0.751111]\n",
      "[-1.584296  0.764938  0.54749   0.782519]\n",
      "[-1.618989  0.751429  0.518705  0.676892]\n",
      "[-1.589405  0.807797  0.506116  0.680422]\n",
      "[-1.598867  0.800956  0.497269  0.635649]\n",
      "[-1.586775  0.821983  0.492763  0.638108]\n",
      "[-1.590571  0.818635  0.489707  0.621271]\n",
      "[-1.585923  0.826531  0.488159  0.622816]\n",
      "[-1.587501  0.824982  0.487092  0.61653 ]\n"
     ]
    }
   ],
   "source": [
    "# https://www.quantstart.com/articles/Jacobi-Method-in-Python-and-NumPy\n",
    "from pprint import pprint\n",
    "from numpy import array, zeros, diag, diagflat, dot\n",
    "\n",
    "np.set_printoptions(precision=6, suppress=True)\n",
    "\n",
    "def jacobi(A,b,N=25,x=None):\n",
    "    if x is None:\n",
    "        x = zeros(len(A[0]))\n",
    "\n",
    "    D = diag(A)\n",
    "    R = A - diagflat(D)\n",
    "    # Iterate for N times\n",
    "    for i in range(N):\n",
    "        x = (b - dot(R,x)) / D\n",
    "        print(x)\n",
    "    return x\n",
    "\n",
    "A = array([[5,1,1,1],[1,3,1,1],[1,-2,-9,1],[1,3,-2,5]])\n",
    "b = array([-6,2,-7,3])\n",
    "\n",
    "sol = jacobi(A,b,N=10)\n"
   ]
  },
  {
   "cell_type": "markdown",
   "metadata": {},
   "source": [
    "# 課題\n"
   ]
  },
  {
   "cell_type": "markdown",
   "metadata": {},
   "source": [
    "##  行列AをLU分解\n",
    "次の行列AをLU分解し，上・下三角行列を求めよ．さらに連立方程式の解を求めよ.\n",
    "$$\n",
    " \\left[ \n",
    "\\begin {array}{c} x+4\\,y+3\\,z\\\\ \n",
    "x-2\\,y+z \\\\\n",
    "2\\,x-2\\,y-z\n",
    "\\end {array} \\right] = \n",
    "\\left[ \n",
    "\\begin {array}{c} 11\\\\\n",
    "11\\\\\n",
    "11\n",
    "\\end {array} \\right] \n",
    "$$"
   ]
  },
  {
   "cell_type": "markdown",
   "metadata": {},
   "source": [
    "## pivot付きのLU分解\n",
    "\n",
    "次の連立方程式の拡大行列をLU分解せよ．pivot操作が必要となる．\n",
    "P.A = L.Uを確かめよ．\n",
    "$$\n",
    "\\left[ \\begin {array}{c} 3\\,w+2\\,x+2\\,y+z\\\\ 3\\,w+2\\,x+3\\,y+z\\\\ w-2\\,x-3\\,y+z\\\\ 5\\,w+3\\,x-2\\,y+5\\,z\\end {array} \\right] = \\left[ \\begin {array}{c} -6\\\\ 2\\\\ -9\\\\ 2\\end {array} \\right]\n",
    "$$"
   ]
  },
  {
   "cell_type": "markdown",
   "metadata": {},
   "source": [
    "## Gauss-Seidel法\n",
    "Jacobi法のプログラムを参照してGauss-Seidel法のプログラムを作れ．\n",
    "```\n",
    "A=np.array([[5,1,1,1],[1,3,1,1],[1,-2,-9,1],[1,3,-2,5]])\n",
    "b=np.array([-6,2,-7,3])\n",
    "n=4\n",
    "```\n",
    "に対して計算を行い，Jacobi法と収束性を比べよ．\n",
    "\n",
    "最初の数回はこんな感じ．\n",
    "\n",
    "```\n",
    "[-1.2       1.066667  0.407407  0.362963]\n",
    "[-1.567407  0.932346  0.436763  0.528779]\n",
    "[-1.579578  0.871345  0.46739   0.580064]\n",
    "[-1.58376   0.845435  0.478382  0.600844]\n",
    "[-1.584932  0.835236  0.482827  0.608976]\n",
    "```"
   ]
  },
  {
   "cell_type": "code",
   "execution_count": null,
   "metadata": {},
   "outputs": [],
   "source": []
  }
 ],
 "metadata": {
  "kernelspec": {
   "display_name": "Python 3",
   "language": "python",
   "name": "python3"
  },
  "language_info": {
   "codemirror_mode": {
    "name": "ipython",
    "version": 3
   },
   "file_extension": ".py",
   "mimetype": "text/x-python",
   "name": "python",
   "nbconvert_exporter": "python",
   "pygments_lexer": "ipython3",
   "version": "3.8.3"
  },
  "latex_envs": {
   "LaTeX_envs_menu_present": true,
   "autocomplete": true,
   "bibliofile": "biblio.bib",
   "cite_by": "apalike",
   "current_citInitial": 1,
   "eqLabelWithNumbers": true,
   "eqNumInitial": 1,
   "hotkeys": {
    "equation": "Ctrl-E",
    "itemize": "Ctrl-I"
   },
   "labels_anchors": false,
   "latex_user_defs": false,
   "report_style_numbering": false,
   "user_envs_cfg": false
  },
  "toc": {
   "base_numbering": 1,
   "nav_menu": {
    "height": "12px",
    "width": "252px"
   },
   "number_sections": true,
   "sideBar": true,
   "skip_h1_title": false,
   "title_cell": "Table of Contents",
   "title_sidebar": "Contents",
   "toc_cell": true,
   "toc_position": {},
   "toc_section_display": "block",
   "toc_window_display": false
  }
 },
 "nbformat": 4,
 "nbformat_minor": 2
}
