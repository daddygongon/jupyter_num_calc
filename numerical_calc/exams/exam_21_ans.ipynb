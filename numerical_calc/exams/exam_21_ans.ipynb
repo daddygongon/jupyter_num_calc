{
 "cells": [
  {
   "cell_type": "markdown",
   "metadata": {},
   "source": [
    "<br />\n",
    "\n",
    "<div style=\"text-align: center;\">\n",
    "<font size=\"7\">数値計算試験問題</font>\n",
    "</div>\n",
    "<br />\n",
    "<div style=\"text-align: right;\">\n",
    "<font size=\"4\">2021/12/17 実施</font>\n",
    "<br />\n",
    "<font size=\"4\">2022/12/16 予行演習実施</font>\n",
    "<br />\n",
    "<font size=\"4\">cc by Shigeto R. Nishitani 2021-2 </font>\n",
    "</div>\n",
    "\n",
    "2022/12/16 予行演習:以下の問いに答えよ．答案はpdfとipynb形式でLUNAのd12へ全員が個別に提出せよ．pdfは2pageを一枚に集約して作成すること．\n"
   ]
  },
  {
   "cell_type": "markdown",
   "metadata": {},
   "source": [
    "# 1 簡単な行列計算(25点)\n",
    "次のデータにフィットした二次関数を求める．\n",
    "``` python\n",
    "import numpy as np\n",
    "\n",
    "xdata = np.array([1,2,3,4])\n",
    "ydata = np.array([1,2,5,11])\n",
    "```\n",
    "\n",
    "最小二乗法の正規方程式(normal equations)から求められるデザイン行列$A$は，\n",
    "$$\n",
    "A=\\left( \\begin {array}{ccc}  1. &  1. &   1.\\\\\n",
    " 1. & 2. &  4. \\\\\n",
    " 1. & 3. & 9. \\\\\n",
    " 1. & 4. & 16.\n",
    "\\end {array} \\right)\n",
    "$$\n",
    "となる．$A^TA$の逆行列から\n",
    "\n",
    "$$\n",
    "a = (A^TA)^{-1} A^T y\n",
    "$$\n",
    "により最適パラメータ$a$を求め，データと同時に plot せよ."
   ]
  },
  {
   "cell_type": "code",
   "execution_count": 1,
   "metadata": {},
   "outputs": [
    {
     "name": "stderr",
     "output_type": "stream",
     "text": [
      "/Users/bob/opt/anaconda3/lib/python3.8/site-packages/scipy/__init__.py:146: UserWarning: A NumPy version >=1.16.5 and <1.23.0 is required for this version of SciPy (detected version 1.23.4\n",
      "  warnings.warn(f\"A NumPy version >={np_minversion} and <{np_maxversion}\"\n"
     ]
    },
    {
     "name": "stdout",
     "output_type": "stream",
     "text": [
      "[[ 1.  1.  1.]\n",
      " [ 1.  2.  4.]\n",
      " [ 1.  3.  9.]\n",
      " [ 1.  4. 16.]]\n",
      "[ 2.75 -2.95  1.25]\n"
     ]
    },
    {
     "data": {
      "image/png": "[encoded data removed]",
      "text/plain": [
       "<Figure size 432x288 with 1 Axes>"
      ]
     },
     "metadata": {
      "needs_background": "light"
     },
     "output_type": "display_data"
    }
   ],
   "source": [
    "%matplotlib inline\n",
    "import numpy as np\n",
    "import matplotlib.pyplot as plt\n",
    "from pprint import pprint\n",
    "import scipy.linalg as linalg\n",
    "\n",
    "xdata=np.array([1,2,3,4])\n",
    "ydata=np.array([1,2,5,11])\n",
    "\n",
    "def f(x, a0, a1, a2):\n",
    "    return a0 + a1*x + a2*x**2\n",
    "\n",
    "def ff(x,i):\n",
    "    return x**i\n",
    "\n",
    "Av = np.zeros([4,3])\n",
    "for i in range(0,3):\n",
    "    for j in range(0,4):\n",
    "        Av[j][i]=ff(xdata[j],i)\n",
    "\n",
    "\n",
    "print(Av)\n",
    "Ai = linalg.inv(np.dot(np.transpose(Av),Av))\n",
    "b = np.dot(np.transpose(Av),ydata)\n",
    "params = np.dot(Ai,b)\n",
    "print(params)\n",
    "plt.plot(xdata,ydata, 'o', color='r')\n",
    "\n",
    "x =np.linspace(0,4,20)\n",
    "y = f(x,params[0],params[1],params[2])\n",
    "plt.plot(x,y, color='b')\n",
    "\n",
    "plt.grid()\n",
    "plt.show()"
   ]
  },
  {
   "cell_type": "markdown",
   "metadata": {},
   "source": [
    "# 2 ニュートンの差分商補間(25点)\n",
    "\n",
    "2を底とする対数関数($\\log[2](x)$)の$x=2$における値$F(2.0)$をニュートンの差分商補間を用いて求める．\n",
    "ニュートンの内挿公式は，\n",
    "$$\n",
    "\\begin{array}{rc}\n",
    "F (x )&=F (x _{0})+\n",
    "(x -x _{0})f _{1}\\lfloor x_0,x_1\\rfloor+\n",
    "(x -x _{0})(x -x _{1})\n",
    "f _{2}\\lfloor x_0,x_1,x_2\\rfloor + \\\\\n",
    "& \\cdots +  \\prod_{i=0}^{n-1} (x-x_i) \\, \n",
    "f_n \\lfloor x_0,x_1,\\cdots,x_n \\rfloor\n",
    "\\end{array}\n",
    "$$\n",
    "である．ここで$f_i \\lfloor\\, \\rfloor$ は次のような関数を意味していて，\n",
    "$$\n",
    "\\begin{array}{rc}\n",
    "f _{1}\\lfloor x_0,x_1\\rfloor &=&  \\frac{y_1-y_0}{x_1-x_0} \\\\\n",
    "f _{2}\\lfloor x_0,x_1,x_2\\rfloor &=&  \\frac{f _{1}\\lfloor x_1,x_2\\rfloor-\n",
    "f _{1}\\lfloor x_0,x_1\\rfloor}{x_2-x_0} \\\\\n",
    "\\vdots & \\\\\n",
    "f _{n}\\lfloor x_0,x_1,\\cdots,x_n\\rfloor &=&  \\frac{f_{n-1}\\lfloor x_1,x_2\\cdots,x_{n}\\rfloor-\n",
    "f _{n-1}\\lfloor x_0,x_1,\\cdots,x_{n-1}\\rfloor}{x_n-x_0} \n",
    "\\end{array}\n",
    "$$\n",
    "差分商と呼ばれる．$x_k=1.4, 1.8, 2.2, 2.6$をそれぞれ選ぶと，差分商補間のそれぞれの項は以下の通りとなる．\n",
    "\n",
    "$$\n",
    "\\begin{array}{ccl|lll}\n",
    "\\hline\n",
    "k  &  x_k & y_k=F_0( x_k) &f_1\\lfloor x_k,x_{k+1}\\rfloor & f_2\\lfloor x_k,x_{k+1},x_{k+2}\\rfloor &  f_3\\lfloor x_k,x_{k+1},x_{k+2},x_{k+3}\\rfloor \\\\\n",
    "\\hline\n",
    "0  &   1.4  &  0.4854268272  &          &              &\\\\\n",
    "&      &     &     0.906425198     &              &\\\\ \n",
    "1  &   1.8  &  0.8479969066  &           &    [ XXX ]     &\\\\\n",
    "&      &     &     0.723766544     &              & 0.0639712067 \\\\\n",
    "2  &  2.2  &  1.137503524  &           &      -0.1515578700     &\\\\ \n",
    "&      &     &     0.602520248    &              &\\\\ \n",
    "3  &  2.6  &  1.378511623 &           &              &\\\\ \n",
    "\\hline\n",
    "\\end{array}\n",
    "$$\n",
    "それぞれの項は，例えば，\n",
    "\n",
    "$$\n",
    "f_1\\lfloor x_0,x_1 \\rfloor =\\frac{0.8479969066 - 0.4854268272}{1.8-1.4}=0.906425198\n",
    "$$\n",
    "で求められる．ニュートンの差分商の一次多項式の値はx=2.0で\n",
    "\n",
    "\\begin{align}\n",
    "F(x)&=F_0(1.4)+(x-x_0)f_1\\lfloor x_0,x_1\\rfloor  \\\\\n",
    "& =0.4854268272+(2.0-1.4)\\times0.906425198\\\\\n",
    "& =1.029281946\n",
    "\\end{align}\n",
    "となる．\n",
    "\n",
    "## (1) 差分商補間の表中の開いている箇所[ XXX ]を埋めよ．\n",
    "## (2)  ニュートンの二次多項式\n",
    "\n",
    "$$\n",
    "F (x )=F (x _{0})+(x -x _{0})f _{1}\\lfloor x_0,x_1\\rfloor+(x -x _{0})(x -x _{1})\n",
    "f _{2}\\lfloor x_0,x_1,x_2\\rfloor\n",
    "$$\n",
    "の値を求めよ．\n",
    "## (3) ニュートンの三次多項式の値を求めよ．\n",
    "(E.クライツィグ著「数値解析」(培風館,2003), p.31, 例4改)"
   ]
  },
  {
   "cell_type": "code",
   "execution_count": 2,
   "metadata": {},
   "outputs": [
    {
     "name": "stdout",
     "output_type": "stream",
     "text": [
      "(1)\n",
      "-0.22832331749999996\n",
      "(2)\n",
      "1.029281946\n",
      "1.00188314784\n",
      "(3)\n",
      "1.0003478388792002\n"
     ]
    }
   ],
   "source": [
    "print('(1)')\n",
    "print((0.723766544 - 0.906425198)/(2.2-1.4))\n",
    "print('(2)')\n",
    "print(0.4854268272+(2.0-1.4)*0.906425198)\n",
    "print(0.4854268272+(2.0-1.4)*0.906425198+(2-1.4)*(2-1.8)*(-0.2283233180))\n",
    "print('(3)')\n",
    "print(0.4854268272+(2.0-1.4)*0.906425198+(2-1.4)*(2-1.8)*(-0.2283233180)+(2-1.4)*(2-1.8)*(2-2.2)*0.0639712067)\n"
   ]
  },
  {
   "cell_type": "markdown",
   "metadata": {},
   "source": [
    "# 3 数値積分(25点)\n",
    "$$\n",
    "\\int_1^2 \\frac{1}{x} dx　= \\log2\n",
    "$$\n",
    "の近似値をシンプソンの公式で求めよ．区間を2,4,8,16等分して片対数プロットで収束の様子を示せ．\n",
    "ただし$\\log_{e}(2)=0.6931471805599453$である．\n",
    "\n",
    "「大学教養数学」，児玉鹿三,技研社 1963, p.172."
   ]
  },
  {
   "cell_type": "code",
   "execution_count": 3,
   "metadata": {},
   "outputs": [
    {
     "name": "stdout",
     "output_type": "stream",
     "text": [
      "0.6931471805599453\n"
     ]
    }
   ],
   "source": [
    "import numpy as np\n",
    "print(np.log(2))"
   ]
  },
  {
   "cell_type": "code",
   "execution_count": 4,
   "metadata": {},
   "outputs": [],
   "source": [
    "def func(x):\n",
    "    return 1.0/x\n",
    "\n",
    "def simpson(N):\n",
    "    x0, xn =1.0, 2.0\n",
    "\n",
    "    M = int(N/2)\n",
    "    h = (xn-x0)/N\n",
    "    Seven, Sodd = 0.0, 0.0\n",
    "    for i in range(1, 2*M, 2): #rangeの終わりに注意\n",
    "        xi = x0 + i*h\n",
    "        Sodd += func(xi)\n",
    "#        print(\"{0}\".format(i))\n",
    "    for i in range(2, 2*M, 2):\n",
    "        xi = x0 + i*h\n",
    "        Seven += func(xi)\n",
    "#        print(\"{0}\".format(i))\n",
    "\n",
    "    return h*(func(x0)+4*Sodd+2*Seven+func(xn))/3"
   ]
  },
  {
   "cell_type": "code",
   "execution_count": 5,
   "metadata": {},
   "outputs": [
    {
     "data": {
      "image/png": "[encoded data removed]",
      "text/plain": [
       "<Figure size 432x288 with 1 Axes>"
      ]
     },
     "metadata": {
      "needs_background": "light"
     },
     "output_type": "display_data"
    }
   ],
   "source": [
    "x, y = [], []\n",
    "for i in range(1,4):\n",
    "    x.append(2**i)\n",
    "    y.append(abs(simpson(2**i)-0.6931471805599453))\n",
    "plt.plot(x, y, color = 'r')\n",
    "plt.yscale('log')\n",
    "plt.grid()\n",
    "plt.show()"
   ]
  },
  {
   "attachments": {
    "image-3.png": {
     "image/png": "[encoded data removed]"
    }
   },
   "cell_type": "markdown",
   "metadata": {},
   "source": [
    "# 4 スムースな静止(25点)\n",
    "\n",
    "バネと質点(mass)の運動において，地面から摩擦力(friction)が速度(velocity)に比例して働いているとする．\n",
    "以下のコードに「速度に比例する時間に依存しない一定の摩擦項」を加えると，質点が減衰(damping)する様子が図の通り再現される．\n",
    "1. friction=0.1でこの図を作成せよ．\n",
    "1. さらに，質点が原点を超えることなくできるだけ早く減衰するにはfrictionはどの程度の値が最適か．\n",
    "小数点以下一桁程度で答えよ（厳密に導かなくていいよ）．\n",
    "1. 摩擦力と質点の振る舞いを定性的に解説せよ．\n",
    "\n",
    "これは，ロボットアームなどの静止をダンパー制御するときの振る舞いとなる．\n",
    "\n",
    "![image-3.png](attachment:image-3.png)\n",
    "\n",
    "``` python\n",
    "import matplotlib.pyplot as plt\n",
    "\n",
    "def my_plot(xx, vv, tt):\n",
    "    plt.plot(tt, xx, color = 'b', linestyle='--',label=\"x-position\")\n",
    "    plt.plot(tt, vv, color = 'r', label=\"mass velocity\")\n",
    "    plt.legend()\n",
    "    plt.xlabel('time')\n",
    "    plt.ylabel('position and velocity')\n",
    "    plt.grid()\n",
    "    plt.show()\n",
    "def euler3(x0,v0):\n",
    "  v1 = v0 +(- k * x0 ) * dt\n",
    "  x1 = x0 + v0 * dt\n",
    "  return [x1, v1]\n",
    "\n",
    "friction = 0.1\n",
    "t, dt, k=0.0, 0.01, 0.1\n",
    "tt,xx,vv=[0.0],[1.0],[0.0]\n",
    "for i in range(0,6000):\n",
    "  t += dt\n",
    "  x, v = euler3(xx[-1],vv[-1])\n",
    "  tt.append(t)\n",
    "  xx.append(x)\n",
    "  vv.append(v)\n",
    "\n",
    "my_plot(xx, vv, tt)\n",
    "```"
   ]
  },
  {
   "cell_type": "code",
   "execution_count": 6,
   "metadata": {},
   "outputs": [
    {
     "data": {
      "image/png": "[encoded data removed]",
      "text/plain": [
       "<Figure size 432x288 with 1 Axes>"
      ]
     },
     "metadata": {
      "needs_background": "light"
     },
     "output_type": "display_data"
    }
   ],
   "source": [
    "import matplotlib.pyplot as plt\n",
    "\n",
    "def my_plot(xx, vv, tt):\n",
    "    plt.plot(tt, xx, color = 'b', linestyle='--',label=\"x-position\")\n",
    "    plt.plot(tt, vv, color = 'r', label=\"mass velocity\")\n",
    "    plt.legend()\n",
    "    plt.xlabel('time')\n",
    "    plt.ylabel('position and velocity')\n",
    "    plt.grid()\n",
    "    plt.show()\n",
    "def euler3(x0,v0):\n",
    "  v1 = v0 +(- k * x0 - friction*v0) * dt\n",
    "  x1 = x0 + v0 * dt\n",
    "  return [x1, v1]\n",
    "\n",
    "friction = 0.6\n",
    "t, dt, k=0.0, 0.01, 0.1\n",
    "tt,xx,vv=[0.0],[1.0],[0.0]\n",
    "for i in range(0,6000):\n",
    "  t += dt\n",
    "  x, v = euler3(xx[-1],vv[-1])\n",
    "  tt.append(t)\n",
    "  xx.append(x)\n",
    "  vv.append(v)\n",
    "\n",
    "my_plot(xx, vv, tt)"
   ]
  },
  {
   "cell_type": "code",
   "execution_count": null,
   "metadata": {},
   "outputs": [],
   "source": []
  }
 ],
 "metadata": {
  "kernelspec": {
   "display_name": "Python 3",
   "language": "python",
   "name": "python3"
  },
  "language_info": {
   "codemirror_mode": {
    "name": "ipython",
    "version": 3
   },
   "file_extension": ".py",
   "mimetype": "text/x-python",
   "name": "python",
   "nbconvert_exporter": "python",
   "pygments_lexer": "ipython3",
   "version": "3.8.5"
  },
  "toc": {
   "base_numbering": 1,
   "nav_menu": {},
   "number_sections": true,
   "sideBar": true,
   "skip_h1_title": false,
   "title_cell": "Table of Contents",
   "title_sidebar": "Contents",
   "toc_cell": false,
   "toc_position": {},
   "toc_section_display": true,
   "toc_window_display": true
  },
  "vscode": {
   "interpreter": {
    "hash": "f3f87633aac09da3bda522f97956bee375b5501d1579e6458804e567301cb62a"
   }
  }
 },
 "nbformat": 4,
 "nbformat_minor": 4
}
