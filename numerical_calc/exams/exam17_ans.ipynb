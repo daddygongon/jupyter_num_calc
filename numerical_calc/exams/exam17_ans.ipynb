{
 "cells": [
  {
   "cell_type": "markdown",
   "metadata": {},
   "source": [
    "<br />\n",
    "\n",
    "<div style=\"text-align: center;\">\n",
    "<font size=\"7\">数値計算2017 試験解答例</font>\n",
    "</div>\n",
    "<br />\n",
    "<div style=\"text-align: right;\">\n",
    "<font size=\"4\">cc by 西谷@関西学院大・理工 2017 </font>\n",
    "</div>\n"
   ]
  },
  {
   "cell_type": "markdown",
   "metadata": {
    "toc": "true"
   },
   "source": [
    "<h1>Table of Contents<span class=\"tocSkip\"></span></h1>\n",
    "<div class=\"toc\"><ul class=\"toc-item\"><li><span><a href=\"#Table-of-Contents\" data-toc-modified-id=\"Table-of-Contents-1\"><span class=\"toc-item-num\">1&nbsp;&nbsp;</span>Table of Contents</a></span></li><li><span><a href=\"#簡単な行列計算\" data-toc-modified-id=\"簡単な行列計算-2\"><span class=\"toc-item-num\">2&nbsp;&nbsp;</span>簡単な行列計算</a></span></li><li><span><a href=\"#誤差(2次方程式)\" data-toc-modified-id=\"誤差(2次方程式)-3\"><span class=\"toc-item-num\">3&nbsp;&nbsp;</span>誤差(2次方程式)</a></span></li><li><span><a href=\"#積分\" data-toc-modified-id=\"積分-4\"><span class=\"toc-item-num\">4&nbsp;&nbsp;</span>積分</a></span></li><li><span><a href=\"#最小2乗法(自動車の加速性能)\" data-toc-modified-id=\"最小2乗法(自動車の加速性能)-5\"><span class=\"toc-item-num\">5&nbsp;&nbsp;</span>最小2乗法(自動車の加速性能)</a></span></li><li><span><a href=\"#常微分方程式(ボールの自由落下)\" data-toc-modified-id=\"常微分方程式(ボールの自由落下)-6\"><span class=\"toc-item-num\">6&nbsp;&nbsp;</span>常微分方程式(ボールの自由落下)</a></span></li></ul></div>"
   ]
  },
  {
   "cell_type": "markdown",
   "metadata": {},
   "source": [
    "# 簡単な行列計算"
   ]
  },
  {
   "cell_type": "code",
   "execution_count": 8,
   "metadata": {
    "collapsed": true
   },
   "outputs": [],
   "source": [
    "from sympy import *\n",
    "import numpy as np"
   ]
  },
  {
   "cell_type": "code",
   "execution_count": 13,
   "metadata": {},
   "outputs": [
    {
     "name": "stdout",
     "output_type": "stream",
     "text": [
      "[[ 4. -1. -1.]\n",
      " [ 1.  2. -1.]\n",
      " [ 3. -1.  0.]]\n",
      "[ 1.+0.j  3.+0.j  2.+0.j]\n",
      "[[-0.40825 -0.70711 -0.57735]\n",
      " [-0.40825 -0.      -0.57735]\n",
      " [-0.8165  -0.70711 -0.57735]]\n"
     ]
    }
   ],
   "source": [
    "import scipy.linalg   # SciPy Linear Algebra Library\n",
    "\n",
    "np.set_printoptions(precision=5, suppress=True)\n",
    "\n",
    "dA = np.diag([1,2,3])\n",
    "P = np.array([[1,1,2],[1,1,1],[1,0,1]]).transpose()\n",
    "iP = scipy.linalg.inv(P)\n",
    "A = P.dot(dA).dot(iP)\n",
    "\n",
    "print(A)\n",
    "l, PP = scipy.linalg.eig(A)\n",
    "print(l)\n",
    "print(PP)"
   ]
  },
  {
   "cell_type": "markdown",
   "metadata": {},
   "source": [
    "# 誤差(2次方程式)"
   ]
  },
  {
   "cell_type": "code",
   "execution_count": 5,
   "metadata": {
    "collapsed": true
   },
   "outputs": [],
   "source": [
    "from decimal import *\n",
    "from numpy import sqrt\n",
    "def solve_normal_formula(a,b,c):\n",
    "    x0=(-b-sqrt(b**2-4*a*c))/(2*a)\n",
    "    x1=(-b+sqrt(b**2-4*a*c))/(2*a)\n",
    "    return (x0,x1)\n",
    "\n",
    "def solve_precise_formula(a,b,c):\n",
    "    x0=(-b-sqrt(b**2-4*a*c))/(2*a)\n",
    "    x1=c/(a*x0)\n",
    "    return (x0,x1)\n"
   ]
  },
  {
   "cell_type": "code",
   "execution_count": 11,
   "metadata": {},
   "outputs": [
    {
     "name": "stdout",
     "output_type": "stream",
     "text": [
      "(Decimal('-39.95'), Decimal('-0.05'))\n",
      "(Decimal('-39.95'), Decimal('-0.05006'))\n"
     ]
    }
   ],
   "source": [
    "getcontext().prec = 4\n",
    "\n",
    "print(solve_normal_formula(Decimal('1'),\n",
    "                           Decimal('40'),\n",
    "                           Decimal('2')))\n",
    "print(solve_precise_formula(Decimal('1'),\n",
    "                            Decimal('40'),\n",
    "                            Decimal('2')))"
   ]
  },
  {
   "cell_type": "markdown",
   "metadata": {},
   "source": [
    "# 積分"
   ]
  },
  {
   "cell_type": "code",
   "execution_count": 15,
   "metadata": {},
   "outputs": [
    {
     "data": {
      "text/plain": [
       "1/3"
      ]
     },
     "execution_count": 15,
     "metadata": {},
     "output_type": "execute_result"
    }
   ],
   "source": [
    "from sympy import *\n",
    "x = symbols('x')\n",
    "integrate(x**2,(x,0,1))"
   ]
  },
  {
   "cell_type": "code",
   "execution_count": 18,
   "metadata": {},
   "outputs": [
    {
     "name": "stdout",
     "output_type": "stream",
     "text": [
      "   1    0.5000000000 1.66667e-01\n",
      "   2    0.3750000000 4.16667e-02\n",
      "   4    0.3437500000 1.04167e-02\n",
      "   8    0.3359375000 2.60417e-03\n",
      "  16    0.3339843750 6.51042e-04\n",
      "  32    0.3334960938 1.62760e-04\n",
      "  64    0.3333740234 4.06901e-05\n",
      " 128    0.3333435059 1.01725e-05\n",
      " 256    0.3333358765 2.54313e-06\n",
      " 512    0.3333339691 6.35783e-07\n"
     ]
    }
   ],
   "source": [
    "def func(x):\n",
    "    return 1.0*x**2\n",
    "\n",
    "x, y = [], []\n",
    "for j in range(0, 10):\n",
    "    N, x0, xn = 2**j, 0.0, 1.0\n",
    "\n",
    "    h = (xn-x0)/N\n",
    "    S = func(x0)/2.0\n",
    "    for i in range(1, N):\n",
    "        xi = x0 + i*h\n",
    "        dS = func(xi)\n",
    "        S = S + dS\n",
    "\n",
    "    S = S + func(xn)/2.0\n",
    "    print(\"%4d %15.10f %10.5e\" % (N, h*S, h*S-1/3))\n",
    "    x.append(N)\n",
    "    y.append(abs(h*S-1/3))\n"
   ]
  },
  {
   "cell_type": "code",
   "execution_count": 17,
   "metadata": {},
   "outputs": [
    {
     "data": {
      "image/png": "[encoded data removed]",
      "text/plain": [
       "<matplotlib.figure.Figure at 0x11a90f8d0>"
      ]
     },
     "metadata": {},
     "output_type": "display_data"
    }
   ],
   "source": [
    "import matplotlib.pyplot as plt\n",
    "\n",
    "plt.plot(x, y, color = 'r')\n",
    "plt.yscale('log')\n",
    "plt.xscale('linear') # or log\n",
    "plt.grid()\n",
    "plt.show()"
   ]
  },
  {
   "cell_type": "markdown",
   "metadata": {},
   "source": [
    "必要な分点の数は，計算結果によると512ぐらい，プロットからは450ぐらい．"
   ]
  },
  {
   "cell_type": "markdown",
   "metadata": {},
   "source": [
    "# 最小2乗法(自動車の加速性能)"
   ]
  },
  {
   "cell_type": "code",
   "execution_count": 60,
   "metadata": {},
   "outputs": [
    {
     "name": "stdout",
     "output_type": "stream",
     "text": [
      "[ 17.34679]\n"
     ]
    },
    {
     "data": {
      "image/png": "[encoded data removed]",
      "text/plain": [
       "<matplotlib.figure.Figure at 0x11b884a58>"
      ]
     },
     "metadata": {},
     "output_type": "display_data"
    }
   ],
   "source": [
    "import numpy as np\n",
    "import matplotlib.pyplot as plt\n",
    "from scipy.optimize import curve_fit\n",
    "\n",
    "def f(x, a):\n",
    "    return a*x**2\n",
    "\n",
    "xdata = np.array([0,0.751,1.113,1.504])\n",
    "ydata = np.array([0,10,20,40])\n",
    "plt.plot(xdata,ydata, 'o', color='r')\n",
    "\n",
    "params, cov = curve_fit(f, xdata, ydata)\n",
    "print(params)\n",
    "\n",
    "x =np.linspace(0,5,20)\n",
    "a = params[0]\n",
    "y = f(x,a)\n",
    "plt.plot(x,y, color='b')\n",
    "\n",
    "plt.grid()\n",
    "plt.show()"
   ]
  },
  {
   "cell_type": "code",
   "execution_count": 54,
   "metadata": {},
   "outputs": [
    {
     "name": "stdout",
     "output_type": "stream",
     "text": [
      "[-2.40099080206130, 2.40099080206130]\n"
     ]
    }
   ],
   "source": [
    "from sympy import *\n",
    "t = symbols('t')\n",
    "s1 = solve(f(t,a)-100,t)\n",
    "print(s1)"
   ]
  },
  {
   "cell_type": "code",
   "execution_count": 55,
   "metadata": {},
   "outputs": [
    {
     "data": {
      "text/plain": [
       "149.938100425429"
      ]
     },
     "execution_count": 55,
     "metadata": {},
     "output_type": "execute_result"
    }
   ],
   "source": [
    "a*s1[1]*60*60/1000"
   ]
  },
  {
   "cell_type": "code",
   "execution_count": 56,
   "metadata": {},
   "outputs": [
    {
     "name": "stdout",
     "output_type": "stream",
     "text": [
      "[-4.80198160412261, 4.80198160412261]\n"
     ]
    },
    {
     "data": {
      "text/plain": [
       "299.876200850858"
      ]
     },
     "execution_count": 56,
     "metadata": {},
     "output_type": "execute_result"
    }
   ],
   "source": [
    "s2 = solve(f(t,a)-400,t)\n",
    "print(s2)\n",
    "a*s2[1]*60*60/1000"
   ]
  },
  {
   "cell_type": "markdown",
   "metadata": {},
   "source": [
    "# 常微分方程式(ボールの自由落下)"
   ]
  },
  {
   "cell_type": "code",
   "execution_count": 7,
   "metadata": {
    "collapsed": true
   },
   "outputs": [],
   "source": [
    "def euler(x0, v0):\n",
    "  v1 = v0 - g * dt\n",
    "  x1 = x0 + v0 * dt\n",
    "  return x1, v1"
   ]
  },
  {
   "cell_type": "code",
   "execution_count": 37,
   "metadata": {
    "collapsed": true
   },
   "outputs": [],
   "source": [
    "import matplotlib.pyplot as plt\n",
    "\n",
    "def my_plot(xx, vv, tt):\n",
    "    plt.plot(tt, xx, color = 'b')\n",
    "    plt.plot(tt, vv, color = 'r')\n",
    "    plt.grid()\n",
    "    plt.show()"
   ]
  },
  {
   "cell_type": "code",
   "execution_count": 42,
   "metadata": {},
   "outputs": [
    {
     "data": {
      "image/png": "[encoded data removed]",
      "text/plain": [
       "<matplotlib.figure.Figure at 0x10ef69400>"
      ]
     },
     "metadata": {},
     "output_type": "display_data"
    }
   ],
   "source": [
    "g, dt=9.8, 0.01\n",
    "tt,xx,vv=[0.0],[0.0],[19.6]\n",
    "t = 0.0\n",
    "\n",
    "for i in range(0,500):\n",
    "  t += dt\n",
    "  x, v = euler(xx[-1],vv[-1])\n",
    "  tt.append(t)\n",
    "  xx.append(x)\n",
    "  vv.append(v)\n",
    "\n",
    "\n",
    "my_plot(xx, vv, tt)"
   ]
  },
  {
   "cell_type": "code",
   "execution_count": 43,
   "metadata": {},
   "outputs": [
    {
     "data": {
      "image/png": "[encoded data removed]",
      "text/plain": [
       "<matplotlib.figure.Figure at 0x10f135c88>"
      ]
     },
     "metadata": {},
     "output_type": "display_data"
    }
   ],
   "source": [
    "plt.plot(tt, xx, color = 'b')\n",
    "plt.plot(tt, vv, color = 'r')\n",
    "plt.xlim(3.98,4.02)\n",
    "plt.ylim(-1,1)\n",
    "\n",
    "plt.grid()\n",
    "plt.show()"
   ]
  },
  {
   "cell_type": "markdown",
   "metadata": {
    "collapsed": true
   },
   "source": [
    "この条件では4.01秒後となります．解析的に得られる解4.00秒を数値解で得るには，Euler法の小時間刻みを細かくするか，Runge-Kutta法を使う必要があります."
   ]
  },
  {
   "cell_type": "code",
   "execution_count": null,
   "metadata": {
    "collapsed": true
   },
   "outputs": [],
   "source": []
  }
 ],
 "metadata": {
  "kernelspec": {
   "display_name": "Python 3",
   "language": "python",
   "name": "python3"
  },
  "language_info": {
   "codemirror_mode": {
    "name": "ipython",
    "version": 3
   },
   "file_extension": ".py",
   "mimetype": "text/x-python",
   "name": "python",
   "nbconvert_exporter": "python",
   "pygments_lexer": "ipython3",
   "version": "3.8.5"
  },
  "latex_envs": {
   "LaTeX_envs_menu_present": true,
   "autocomplete": true,
   "bibliofile": "biblio.bib",
   "cite_by": "apalike",
   "current_citInitial": 1,
   "eqLabelWithNumbers": true,
   "eqNumInitial": 1,
   "hotkeys": {
    "equation": "Ctrl-E",
    "itemize": "Ctrl-I"
   },
   "labels_anchors": false,
   "latex_user_defs": false,
   "report_style_numbering": false,
   "user_envs_cfg": false
  },
  "toc": {
   "base_numbering": 1,
   "nav_menu": {
    "height": "13px",
    "width": "253px"
   },
   "number_sections": true,
   "sideBar": true,
   "skip_h1_title": false,
   "title_cell": "Table of Contents",
   "title_sidebar": "Contents",
   "toc_cell": true,
   "toc_position": {},
   "toc_section_display": "block",
   "toc_window_display": true
  }
 },
 "nbformat": 4,
 "nbformat_minor": 2
}
