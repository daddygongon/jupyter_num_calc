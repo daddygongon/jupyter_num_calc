{
 "cells": [
  {
   "cell_type": "markdown",
   "metadata": {
    "toc": "true"
   },
   "source": [
    "<h1>Table of Contents<span class=\"tocSkip\"></span></h1>\n",
    "<div class=\"toc\"><ul class=\"toc-item\"><li><span><a href=\"#補間法\" data-toc-modified-id=\"補間法-1\"><span class=\"toc-item-num\">1&nbsp;&nbsp;</span>補間法</a></span><ul class=\"toc-item\"><li><span><a href=\"#ラグランジュ補間\" data-toc-modified-id=\"ラグランジュ補間-1.1\"><span class=\"toc-item-num\">1.1&nbsp;&nbsp;</span>ラグランジュ補間</a></span></li><li><span><a href=\"#逆行列から\" data-toc-modified-id=\"逆行列から-1.2\"><span class=\"toc-item-num\">1.2&nbsp;&nbsp;</span>逆行列から</a></span></li></ul></li><li><span><a href=\"#対数関数のニュートンの差分商補間(2014期末試験，25点)\" data-toc-modified-id=\"対数関数のニュートンの差分商補間(2014期末試験，25点)-2\"><span class=\"toc-item-num\">2&nbsp;&nbsp;</span>対数関数のニュートンの差分商補間(2014期末試験，25点)</a></span><ul class=\"toc-item\"><li><span><a href=\"#差分商補間の表中の開いている箇所[-XXX-]を埋めよ．\" data-toc-modified-id=\"差分商補間の表中の開いている箇所[-XXX-]を埋めよ．-2.1\"><span class=\"toc-item-num\">2.1&nbsp;&nbsp;</span>差分商補間の表中の開いている箇所[ XXX ]を埋めよ．</a></span></li><li><span><a href=\"#ニュートンの二次多項式\" data-toc-modified-id=\"ニュートンの二次多項式-2.2\"><span class=\"toc-item-num\">2.2&nbsp;&nbsp;</span>ニュートンの二次多項式</a></span></li><li><span><a href=\"#ニュートンの三次多項式の値を求めよ．\" data-toc-modified-id=\"ニュートンの三次多項式の値を求めよ．-2.3\"><span class=\"toc-item-num\">2.3&nbsp;&nbsp;</span>ニュートンの三次多項式の値を求めよ．</a></span></li><li><span><a href=\"#補足\" data-toc-modified-id=\"補足-2.4\"><span class=\"toc-item-num\">2.4&nbsp;&nbsp;</span>補足</a></span></li></ul></li><li><span><a href=\"#数値積分(I)\" data-toc-modified-id=\"数値積分(I)-3\"><span class=\"toc-item-num\">3&nbsp;&nbsp;</span>数値積分(I)</a></span></li></ul></div>"
   ]
  },
  {
   "cell_type": "markdown",
   "metadata": {},
   "source": [
    "##  補間法\n",
    "次の4点\n",
    "```maple\n",
    "x y \n",
    "0 1 \n",
    "1 2\n",
    "2 3\n",
    "3 1\n",
    "```\n",
    "を通る多項式を(a)ラグランジュ補間, (b) 逆行列で求めよ．"
   ]
  },
  {
   "cell_type": "markdown",
   "metadata": {},
   "source": [
    "### ラグランジュ補間"
   ]
  },
  {
   "cell_type": "code",
   "execution_count": 1,
   "metadata": {},
   "outputs": [
    {
     "name": "stdout",
     "output_type": "stream",
     "text": [
      "      3       2\n",
      "-0.5 x + 1.5 x + 2.776e-16 x + 1\n"
     ]
    },
    {
     "data": {
      "image/png": "[encoded data removed]",
      "text/plain": [
       "<Figure size 432x288 with 1 Axes>"
      ]
     },
     "metadata": {
      "needs_background": "light"
     },
     "output_type": "display_data"
    }
   ],
   "source": [
    "import numpy as np\n",
    "from scipy import interpolate\n",
    "import matplotlib.pyplot as plt\n",
    "\n",
    "# もとの点\n",
    "x = np.array([0,1,2,3])\n",
    "y = np.array([1,2,3,1])\n",
    "for i in range(0,4):\n",
    "    plt.plot(x[i],y[i],'o',color='r')\n",
    "\n",
    "\n",
    "# Lagrange補間\n",
    "f = interpolate.lagrange(x,y)\n",
    "print(f)\n",
    "x = np.linspace(0,3, 100)\n",
    "y = f(x)\n",
    "plt.plot(x, y, color = 'b')\n",
    "\n",
    "plt.grid()\n",
    "plt.show()"
   ]
  },
  {
   "cell_type": "markdown",
   "metadata": {},
   "source": [
    "### 逆行列から"
   ]
  },
  {
   "cell_type": "code",
   "execution_count": 2,
   "metadata": {},
   "outputs": [
    {
     "name": "stdout",
     "output_type": "stream",
     "text": [
      "array([[ 1.,  0.,  0.,  0.],\n",
      "       [ 1.,  1.,  1.,  1.],\n",
      "       [ 1.,  2.,  4.,  8.],\n",
      "       [ 1.,  3.,  9., 27.]])\n",
      "array([1., 2., 3., 1.])\n"
     ]
    }
   ],
   "source": [
    "from pprint import pprint\n",
    "\n",
    "x = np.array([0,1,2,3])\n",
    "y = np.array([1,2,3,1])\n",
    "n = 4\n",
    "A = np.zeros((n,n))\n",
    "b = np.zeros(n)\n",
    "for i in range(0,n):\n",
    "    for j in range(0,n):\n",
    "        A[i,j] += x[i]**j\n",
    "    b[i] = y[i]\n",
    "pprint(A)\n",
    "pprint(b)"
   ]
  },
  {
   "cell_type": "code",
   "execution_count": 3,
   "metadata": {},
   "outputs": [
    {
     "name": "stdout",
     "output_type": "stream",
     "text": [
      "array([[ 1.        ,  0.        ,  0.        , -0.        ],\n",
      "       [-1.83333333,  3.        , -1.5       ,  0.33333333],\n",
      "       [ 1.        , -2.5       ,  2.        , -0.5       ],\n",
      "       [-0.16666667,  0.5       , -0.5       ,  0.16666667]])\n"
     ]
    },
    {
     "data": {
      "text/plain": [
       "array([ 1.00000000e+00, -9.99200722e-16,  1.50000000e+00, -5.00000000e-01])"
      ]
     },
     "execution_count": 3,
     "metadata": {},
     "output_type": "execute_result"
    }
   ],
   "source": [
    "import scipy.linalg as linalg   # SciPy Linear Algebra Library\n",
    "\n",
    "inv_A = linalg.inv(A)\n",
    "pprint(inv_A)\n",
    "np.dot(inv_A,b)"
   ]
  },
  {
   "cell_type": "markdown",
   "metadata": {},
   "source": [
    "## 対数関数のニュートンの差分商補間(2014期末試験，25点) \n",
    "\n",
    "2を底とする対数関数(Mapleでは$\\log[2](x)$)の$F(9.2)=2.219203$をニュートンの差分商補間を用いて求める．ニュートンの内挿公式は，\n",
    "\n",
    "$$\n",
    "\\begin{array}{rc}\n",
    "F (x )&=F (x _{0})+\n",
    "(x -x _{0})f _{1}\\lfloor x_0,x_1\\rfloor+\n",
    "(x -x _{0})(x -x _{1})\n",
    "f _{2}\\lfloor x_0,x_1,x_2\\rfloor + \\\\\n",
    "& \\cdots +  \\prod_{i=0}^{n-1} (x-x_i) \\, \n",
    "f_n \\lfloor x_0,x_1,\\cdots,x_n \\rfloor\n",
    "\\end{array}\n",
    "$$\n",
    "である．ここで$f_i \\lfloor\\, \\rfloor$ は次のような関数を意味していて，\n",
    "$$\n",
    "\\begin{array}{rc}\n",
    "f _{1}\\lfloor x_0,x_1\\rfloor &=&  \\frac{y_1-y_0}{x_1-x_0} \\\\\n",
    "f _{2}\\lfloor x_0,x_1,x_2\\rfloor &=&  \\frac{f _{1}\\lfloor x_1,x_2\\rfloor-\n",
    "f _{1}\\lfloor x_0,x_1\\rfloor}{x_2-x_0} \\\\\n",
    "\\vdots & \\\\\n",
    "f _{n}\\lfloor x_0,x_1,\\cdots,x_n\\rfloor &=&  \\frac{f_{n-1}\\lfloor x_1,x_2\\cdots,x_{n}\\rfloor-\n",
    "f _{n-1}\\lfloor x_0,x_1,\\cdots,x_{n-1}\\rfloor}{x_n-x_0} \n",
    "\\end{array}\n",
    "$$\n",
    "差分商と呼ばれる．$x_k=8.0,9.0,10.0,11.0$をそれぞれ選ぶと，差分商補間のそれぞれの項は以下の通りとなる．\n",
    "\n",
    "$$\n",
    "\\begin{array}{ccl|lll}\n",
    "\\hline\n",
    "k  &  x_k & y_k=F_0( x_k) &f_1\\lfloor x_k,x_{k+1}\\rfloor & f_2\\lfloor x_k,x_{k+1},x_{k+2}\\rfloor &  f_3\\lfloor x_k,x_{k+1},x_{k+2},x_{k+3}\\rfloor \\\\\n",
    "\\hline\n",
    "0  &   8.0  &  2.079442  &          &              &\\\\\n",
    "&      &     &     0.117783     &              &\\\\ \n",
    "1  &   9.0  &  2.197225  &           &       [ XXX ]      &\\\\\n",
    "&      &     &     0.105360     &              & 0.0003955000 \\\\\n",
    "2  &  10.0  &  2.302585  &           &       -0.0050250      &\\\\ \n",
    "&      &     &     0.095310    &              &\\\\ \n",
    "3  &  11.0  &  2.397895 &           &              &\\\\ \n",
    "\\hline\n",
    "\\end{array}\n",
    "$$\n",
    "それぞれの項は，例えば，\n",
    "\n",
    "$$\n",
    "f_2\\lfloor x_1,x_2,x_3 \\rfloor =\\frac{0.095310-0.105360}{11.0-9.0}=-0.0050250\n",
    "$$\n",
    "で求められる．ニュートンの差分商の一次多項式の値はx=9.2で\n",
    "\n",
    "$$\n",
    "F(x)=F_0(8.0)+(x-x_0)f_1\\lfloor x_0,x_1\\rfloor =2.079442+0.117783(9.2-8.0)=2.220782\n",
    "$$\n",
    "となる．\n",
    "\n",
    "###  差分商補間の表中の開いている箇所[ XXX ]を埋めよ．\n",
    "###  ニュートンの二次多項式\n",
    "\n",
    "$$\n",
    "F (x )=F (x _{0})+(x -x _{0})f _{1}\\lfloor x_0,x_1\\rfloor+(x -x _{0})(x -x _{1})\n",
    "f _{2}\\lfloor x_0,x_1,x_2\\rfloor\n",
    "$$\n",
    "の値を求めよ．\n",
    "###  ニュートンの三次多項式の値を求めよ．\n",
    "ただし，ここでは有効数字7桁程度はとるように．(E.クライツィグ著「数値解析」(培風館,2003), p.31, 例4改)"
   ]
  },
  {
   "cell_type": "code",
   "execution_count": 4,
   "metadata": {},
   "outputs": [
    {
     "data": {
      "text/plain": [
       "2.2192034840549946"
      ]
     },
     "execution_count": 4,
     "metadata": {},
     "output_type": "execute_result"
    }
   ],
   "source": [
    "np.log(9.2)"
   ]
  },
  {
   "cell_type": "code",
   "execution_count": 5,
   "metadata": {},
   "outputs": [
    {
     "name": "stdout",
     "output_type": "stream",
     "text": [
      "-0.005024999999999995\n",
      "-0.006211500000000002\n"
     ]
    }
   ],
   "source": [
    "x_3 = 11\n",
    "x_1 = 9\n",
    "f1_23 = 0.095310\n",
    "f1_12 = 0.105360\n",
    "f2_123 = (f1_23-f1_12)/(x_3-x_1)\n",
    "print(f2_123)\n",
    "f1_01 = 0.117783\n",
    "x_0 = 8\n",
    "x_2 = 10\n",
    "f2_012 = (f1_12-f1_01)/(x_2-x_0)\n",
    "print((0.105360-0.117783)/(10-8))"
   ]
  },
  {
   "cell_type": "code",
   "execution_count": 6,
   "metadata": {},
   "outputs": [
    {
     "data": {
      "text/plain": [
       "2.2192908399999998"
      ]
     },
     "execution_count": 6,
     "metadata": {},
     "output_type": "execute_result"
    }
   ],
   "source": [
    "x = 9.2\n",
    "F_0 = 2.079442\n",
    "F_0 + (x-x_0)*(f1_01)+(x-x_0)*(x-x_1)*f2_012"
   ]
  },
  {
   "cell_type": "code",
   "execution_count": 7,
   "metadata": {},
   "outputs": [
    {
     "data": {
      "text/plain": [
       "2.2192149039999998"
      ]
     },
     "execution_count": 7,
     "metadata": {},
     "output_type": "execute_result"
    }
   ],
   "source": [
    "f3_0123 = 0.0003955000\n",
    "F_0 + (x-x_0)*(f1_01)+(x-x_0)*(x-x_1)*f2_012+(x-x_0)*(x-x_1)*(x-x_2)*f3_0123"
   ]
  },
  {
   "cell_type": "markdown",
   "metadata": {},
   "source": [
    "### 補足\n",
    "\n",
    "テキストに紹介したコードによって求められるNewton差分商補間の様子を以下に示しておく．"
   ]
  },
  {
   "cell_type": "code",
   "execution_count": 8,
   "metadata": {},
   "outputs": [],
   "source": [
    "# https://stackoverflow.com/questions/14823891/newton-s-interpolating-polynomial-python\n",
    "# by Khalil Al Hooti (stackoverflow)\n",
    "\n",
    "\n",
    "def _poly_newton_coefficient(x,y):\n",
    "    \"\"\"\n",
    "    x: list or np array contanining x data points\n",
    "    y: list or np array contanining y data points\n",
    "    \"\"\"\n",
    "\n",
    "    m = len(x)\n",
    "\n",
    "    x = np.copy(x)\n",
    "    a = np.copy(y)\n",
    "    for k in range(1,m):\n",
    "        a[k:m] = (a[k:m] - a[k-1])/(x[k:m] - x[k-1])\n",
    "\n",
    "    return a\n",
    "\n",
    "def newton_polynomial(x_data, y_data, x):\n",
    "    \"\"\"\n",
    "    x_data: data points at x\n",
    "    y_data: data points at y\n",
    "    x: evaluation point(s)\n",
    "    \"\"\"\n",
    "    a = _poly_newton_coefficient(x_data, y_data)\n",
    "    n = len(x_data) - 1 # Degree of polynomial\n",
    "    p = a[n]\n",
    "    for k in range(1,n+1):\n",
    "        p = a[n-k] + (x -x_data[n-k])*p\n",
    "    return p"
   ]
  },
  {
   "cell_type": "code",
   "execution_count": 9,
   "metadata": {},
   "outputs": [
    {
     "name": "stdout",
     "output_type": "stream",
     "text": [
      "[ 4.  -6.   3.4]\n"
     ]
    },
    {
     "data": {
      "image/png": "[encoded data removed]",
      "text/plain": [
       "<Figure size 432x288 with 1 Axes>"
      ]
     },
     "metadata": {
      "needs_background": "light"
     },
     "output_type": "display_data"
    }
   ],
   "source": [
    "import numpy as np\n",
    "from scipy import interpolate\n",
    "import matplotlib.pyplot as plt\n",
    "\n",
    "x = [-1, 0, 1]\n",
    "y = [4., -2., -1.2]\n",
    "\n",
    "for i in range(0,3):\n",
    "    plt.plot(x[i],y[i],'o',color='r')\n",
    "\n",
    "\n",
    "print(_poly_newton_coefficient(x,y))\n",
    "\n",
    "xx = np.linspace(-1,4, 100)\n",
    "yy = newton_polynomial(x, y, xx)\n",
    "plt.plot(xx, yy, color = 'b')\n",
    "\n",
    "plt.grid()\n",
    "plt.show()"
   ]
  },
  {
   "cell_type": "code",
   "execution_count": 10,
   "metadata": {},
   "outputs": [
    {
     "name": "stdout",
     "output_type": "stream",
     "text": [
      "[ 4.  -6.   3.4]\n"
     ]
    },
    {
     "data": {
      "image/png": "[encoded data removed]",
      "text/plain": [
       "<Figure size 432x288 with 1 Axes>"
      ]
     },
     "metadata": {
      "needs_background": "light"
     },
     "output_type": "display_data"
    }
   ],
   "source": [
    "x = [-1, 0, 1]\n",
    "y = [4., -2., -1.2]\n",
    "\n",
    "for i in range(0,3):\n",
    "    plt.plot(x[i],y[i],'o',color='r')\n",
    "\n",
    "\n",
    "print(_poly_newton_coefficient(x,y))\n",
    "\n",
    "xx = np.linspace(-1,4, 100)\n",
    "yy = newton_polynomial(x, y, xx)\n",
    "plt.plot(xx, yy, color = 'b')\n",
    "\n",
    "plt.grid()\n",
    "plt.show()"
   ]
  },
  {
   "cell_type": "markdown",
   "metadata": {},
   "source": [
    "## 数値積分(I)\n",
    "次の関数\n",
    "\n",
    "$$\n",
    "f(x) = \\frac{4}{1+x^2}\n",
    "$$\n",
    "を$x = 0..1$で数値積分する．\n",
    "1.  $N$を2,4,8,…256ととり，$N$個の等間隔な区間にわけて中点法で求めよ．(15)\n",
    "1.  小数点以下10桁まで求めた値3.141592654との差をdXとする．dXと分割数Nとを両対数プロット(loglogplot)して比較せよ(10)\n",
    "(2008年度期末試験）"
   ]
  },
  {
   "cell_type": "code",
   "execution_count": 4,
   "metadata": {},
   "outputs": [],
   "source": [
    "import numpy as np\n",
    "\n",
    "def func(x):\n",
    "    return 4.0/(1.0+x**2)\n",
    "\n",
    "def mid(N):\n",
    "    x0, xn = 0.0, 1.0\n",
    "\n",
    "    h = (xn-x0)/N\n",
    "    S = 0.0\n",
    "    for i in range(0, N):\n",
    "        xi = x0 + (i+0.5)*h\n",
    "        dS = h * func(xi)\n",
    "        S = S + dS\n",
    "    return S\n",
    "\n",
    "def trape(N):\n",
    "    x0, xn = 0.0, 1.0\n",
    "\n",
    "    h = (xn-x0)/N\n",
    "    S = func(x0)/2.0\n",
    "    for i in range(1, N):\n",
    "        xi = x0 + i*h\n",
    "        dS = func(xi)\n",
    "        S = S + dS\n",
    "    S = S + func(xn)/2.0\n",
    "    return h*S\n",
    "\n",
    "x, y = [], []\n",
    "for i in range(1,8):\n",
    "    x.append(2**i)\n",
    "    y.append(abs(mid(2**i)-np.pi))\n",
    "\n",
    "x2, y2 = [], []\n",
    "for i in range(1,8):\n",
    "    x2.append(2**i)\n",
    "    y2.append(abs(trape(2**i)-np.pi))\n"
   ]
  },
  {
   "cell_type": "code",
   "execution_count": 5,
   "metadata": {},
   "outputs": [
    {
     "data": {
      "image/png": "[encoded data removed]",
      "text/plain": [
       "<Figure size 432x288 with 1 Axes>"
      ]
     },
     "metadata": {
      "needs_background": "light"
     },
     "output_type": "display_data"
    }
   ],
   "source": [
    "import matplotlib.pyplot as plt\n",
    "\n",
    "plt.plot(x, y, color = 'r')\n",
    "plt.plot(x2, y2, color = 'b')\n",
    "plt.yscale('log')\n",
    "plt.grid()\n",
    "plt.show()"
   ]
  },
  {
   "cell_type": "code",
   "execution_count": 6,
   "metadata": {},
   "outputs": [
    {
     "data": {
      "image/png": "[encoded data removed]",
      "text/plain": [
       "<Figure size 432x288 with 1 Axes>"
      ]
     },
     "metadata": {
      "needs_background": "light"
     },
     "output_type": "display_data"
    }
   ],
   "source": [
    "plt.plot(x, y, color = 'r')\n",
    "plt.plot(x2, y2, color = 'b')\n",
    "plt.yscale('log')\n",
    "plt.xscale('log')\n",
    "plt.grid()\n",
    "plt.show()"
   ]
  },
  {
   "cell_type": "code",
   "execution_count": 7,
   "metadata": {},
   "outputs": [
    {
     "data": {
      "image/png": "[encoded data removed]",
      "text/plain": [
       "<Figure size 432x288 with 1 Axes>"
      ]
     },
     "metadata": {
      "needs_background": "light"
     },
     "output_type": "display_data"
    }
   ],
   "source": [
    "%matplotlib inline\n",
    "\n",
    "import matplotlib.pyplot as plt\n",
    "plt.plot(x,y, label=\"mid-point\")\n",
    "plt.plot(x2,y2, label=\"trapezoidal\")\n",
    "ax = plt.gca()\n",
    "ax.set_yscale('log')\n",
    "ax.set_xscale('log')\n",
    "plt.grid(which=\"both\")\n",
    "plt.legend(borderaxespad=0, fontsize=12)\n",
    "plt.show()"
   ]
  },
  {
   "cell_type": "code",
   "execution_count": null,
   "metadata": {},
   "outputs": [],
   "source": []
  }
 ],
 "metadata": {
  "kernelspec": {
   "display_name": "Python 3",
   "language": "python",
   "name": "python3"
  },
  "language_info": {
   "codemirror_mode": {
    "name": "ipython",
    "version": 3
   },
   "file_extension": ".py",
   "mimetype": "text/x-python",
   "name": "python",
   "nbconvert_exporter": "python",
   "pygments_lexer": "ipython3",
   "version": "3.8.3"
  },
  "latex_envs": {
   "LaTeX_envs_menu_present": true,
   "autocomplete": true,
   "bibliofile": "biblio.bib",
   "cite_by": "apalike",
   "current_citInitial": 1,
   "eqLabelWithNumbers": true,
   "eqNumInitial": 1,
   "hotkeys": {
    "equation": "Ctrl-E",
    "itemize": "Ctrl-I"
   },
   "labels_anchors": false,
   "latex_user_defs": false,
   "report_style_numbering": false,
   "user_envs_cfg": false
  },
  "toc": {
   "base_numbering": 1,
   "nav_menu": {
    "height": "174px",
    "width": "252px"
   },
   "number_sections": true,
   "sideBar": true,
   "skip_h1_title": false,
   "title_cell": "Table of Contents",
   "title_sidebar": "Contents",
   "toc_cell": true,
   "toc_position": {},
   "toc_section_display": "block",
   "toc_window_display": true
  }
 },
 "nbformat": 4,
 "nbformat_minor": 2
}
