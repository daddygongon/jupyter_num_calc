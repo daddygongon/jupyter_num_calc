{
 "cells": [
  {
   "cell_type": "markdown",
   "metadata": {
    "toc": "true"
   },
   "source": [
    "# Table of Contents\n",
    " <p><div class=\"lev1 toc-item\"><a href=\"#数値解の収束性:25点\" data-toc-modified-id=\"数値解の収束性:25点-1\"><span class=\"toc-item-num\">1&nbsp;&nbsp;</span>数値解の収束性:25点</a></div><div class=\"lev1 toc-item\"><a href=\"#丸め誤差:25点\" data-toc-modified-id=\"丸め誤差:25点-2\"><span class=\"toc-item-num\">2&nbsp;&nbsp;</span>丸め誤差:25点</a></div><div class=\"lev1 toc-item\"><a href=\"#Newtonの差分商公式:25点\" data-toc-modified-id=\"Newtonの差分商公式:25点-3\"><span class=\"toc-item-num\">3&nbsp;&nbsp;</span>Newtonの差分商公式:25点</a></div><div class=\"lev1 toc-item\"><a href=\"#ページランク:25点\" data-toc-modified-id=\"ページランク:25点-4\"><span class=\"toc-item-num\">4&nbsp;&nbsp;</span>ページランク:25点</a></div>"
   ]
  },
  {
   "cell_type": "markdown",
   "metadata": {},
   "source": [
    "# 数値解の収束性:25点\n",
    "\n",
    "次の関数\n",
    "$$\n",
    "f(x)=-4\\,\\exp(-x)+2\\,\\exp(-2\\, x)\n",
    "$$\n",
    "は$x=-1..0$に解$-\\ln(2)$を持つ．二分法によって数値解を求めよ．繰り返しは１０回程度でいい．また，収束の様子を片対数(logplot)でプロットせよ．\n"
   ]
  },
  {
   "cell_type": "code",
   "execution_count": 15,
   "metadata": {},
   "outputs": [
    {
     "data": {
      "image/png": "[encoded data removed]",
      "text/plain": [
       "<matplotlib.figure.Figure at 0x10d42f278>"
      ]
     },
     "metadata": {
      "needs_background": "light"
     },
     "output_type": "display_data"
    }
   ],
   "source": [
    "import matplotlib.pyplot as plt\n",
    "import numpy as np\n",
    "\n",
    "def func(x):\n",
    "    return -4*np.exp(-x)+2*np.exp(-2*x)\n",
    "\n",
    "x1, x2 = -1.0, 0.0\n",
    "x = np.linspace(x1,x2, 101)\n",
    "y = func(x)\n",
    "plt.plot(x, y, color = 'k')\n",
    "plt.plot([x1,x2],[0,0])\n",
    "plt.grid()\n",
    "plt.show()"
   ]
  },
  {
   "cell_type": "code",
   "execution_count": 16,
   "metadata": {},
   "outputs": [
    {
     "name": "stdout",
     "output_type": "stream",
     "text": [
      "             x1              x2              f1              f2\n",
      "  -1.0000000000   +0.0000000000   +3.9049848840   -2.0000000000\n",
      "  -1.0000000000   -0.5000000000   +3.9049848840   -1.1583214259\n",
      "  -0.7500000000   -0.5000000000   +0.4953780742   -1.1583214259\n",
      "  -0.7500000000   -0.6250000000   +0.4953780742   -0.4922979148\n",
      "  -0.7500000000   -0.6875000000   +0.4953780742   -0.0447964325\n",
      "  -0.7187500000   -0.6875000000   +0.2128474183   -0.0447964325\n",
      "  -0.7031250000   -0.6875000000   +0.0810265592   -0.0447964325\n",
      "  -0.6953125000   -0.6875000000   +0.0173789137   -0.0447964325\n",
      "  -0.6953125000   -0.6914062500   +0.0173789137   -0.0138911236\n",
      "  -0.6933593750   -0.6914062500   +0.0016980959   -0.0138911236\n",
      "  -0.6933593750   -0.6923828125   +0.0016980959   -0.0061079375\n",
      "  -0.6933593750   -0.6928710938   +0.0016980959   -0.0022077800\n",
      "  -0.6933593750   -0.6931152344   +0.0016980959   -0.0002555572\n",
      "  -0.6932373047   -0.6931152344   +0.0007210905   -0.0002555572\n",
      "  -0.6931762695   -0.6931152344   +0.0002327219   -0.0002555572\n",
      "  -0.6931762695   -0.6931457520   +0.0002327219   -0.0000114288\n",
      "  -0.6931610107   -0.6931457520   +0.0001106438   -0.0000114288\n",
      "  -0.6931533813   -0.6931457520   +0.0000496068   -0.0000114288\n",
      "  -0.6931495667   -0.6931457520   +0.0000190888   -0.0000114288\n",
      "  -0.6931476593   -0.6931457520   +0.0000038299   -0.0000114288\n",
      "  -0.6931476593   -0.6931467056   +0.0000038299   -0.0000037995\n",
      "\n"
     ]
    }
   ],
   "source": [
    "x1, x2 = -1.0, 0.0\n",
    "f1, f2 = func(x1), func(x2)\n",
    "print('%+15s %+15s %+15s %+15s'  % ('x1','x2','f1','f2'))\n",
    "print('%+15.10f %+15.10f %+15.10f %+15.10f' % (x1,x2,f1,f2))\n",
    "x0 = -np.log(2.0)\n",
    "list_bisec = [[0],[abs(x1-x0)]]\n",
    "for i in range(0, 20):\n",
    "    x = (x1 + x2)/2\n",
    "    f = func(x)\n",
    "    if (f*f1>=0.0):\n",
    "        x1, f1 = x, f\n",
    "        list_bisec[0].append(i)\n",
    "        list_bisec[1].append(abs(x1-x0))\n",
    "    else:\n",
    "        x2, f2 = x, f\n",
    "        list_bisec[0].append(i)\n",
    "        list_bisec[1].append(abs(x2-x0))\n",
    "\n",
    "    print('%+15.10f %+15.10f %+15.10f %+15.10f' % (x1,x2,f1,f2))\n",
    "\n",
    "list_bisec\n",
    "print()"
   ]
  },
  {
   "cell_type": "code",
   "execution_count": 17,
   "metadata": {},
   "outputs": [
    {
     "data": {
      "image/png": "[encoded data removed]",
      "text/plain": [
       "<matplotlib.figure.Figure at 0x10d29d748>"
      ]
     },
     "metadata": {
      "needs_background": "light"
     },
     "output_type": "display_data"
    }
   ],
   "source": [
    "import matplotlib.pyplot as plt\n",
    "\n",
    "X = list_bisec[0]\n",
    "Y = list_bisec[1]\n",
    "plt.plot(X, Y)\n",
    "\n",
    "plt.yscale(\"log\") # y軸を対数目盛に\n",
    "plt.show()"
   ]
  },
  {
   "cell_type": "markdown",
   "metadata": {},
   "source": [
    "# 丸め誤差:25点\n",
    "\n",
    "大きな数どおしのわずかな差は，丸め誤差にとくに影響を受ける．\n",
    "\\begin{enumerate}\n",
    "\\item 23.173-23.094を有効数字がそれぞれ５桁，４桁，３桁，２桁で計算した結果を示せ．\n",
    "\\item 同様に，0.81321/(23.173-23.094)を有効数字がそれぞれ５桁，４桁，３桁，２桁で計算した結果を示せ．\n",
    "\\end{enumerate}\n",
    "(E.クライツィグ著「数値解析」(培風館,2003), p.10, 問題1.1-3改)\n"
   ]
  },
  {
   "cell_type": "code",
   "execution_count": 18,
   "metadata": {},
   "outputs": [],
   "source": [
    "from decimal import *\n",
    "\n",
    "def pretty_p(result,a,b,operator):\n",
    "    print('context.prec:{}'.format(getcontext().prec))\n",
    "    print(' %20.14f' % (a))\n",
    "    print( '%1s%20.14f' % (operator, b))\n",
    "    print('-----------')\n",
    "    print( ' %20.14f' % (result))"
   ]
  },
  {
   "cell_type": "code",
   "execution_count": 28,
   "metadata": {},
   "outputs": [
    {
     "name": "stdout",
     "output_type": "stream",
     "text": [
      "context.prec:5\n",
      "    23.17300000000000\n",
      "-   23.09400000000000\n",
      "-----------\n",
      "     0.07900000000000\n"
     ]
    },
    {
     "data": {
      "text/plain": [
       "Decimal('10.294')"
      ]
     },
     "execution_count": 28,
     "metadata": {},
     "output_type": "execute_result"
    }
   ],
   "source": [
    "getcontext().prec = 5\n",
    "\n",
    "a=Decimal('0.81321')\n",
    "b=Decimal('23.173')\n",
    "c=Decimal('23.094')\n",
    "pretty_p(b-c,b,c,'-')\n",
    "\n",
    "a/(b-c)"
   ]
  },
  {
   "cell_type": "code",
   "execution_count": 29,
   "metadata": {},
   "outputs": [
    {
     "name": "stdout",
     "output_type": "stream",
     "text": [
      "context.prec:4\n",
      "    23.17000000000000\n",
      "-   23.09000000000000\n",
      "-----------\n",
      "     0.08000000000000\n"
     ]
    },
    {
     "data": {
      "text/plain": [
       "Decimal('10.16')"
      ]
     },
     "execution_count": 29,
     "metadata": {},
     "output_type": "execute_result"
    }
   ],
   "source": [
    "TWOPLACES = Decimal(10) ** -2 \n",
    "getcontext().prec = 4\n",
    "a=Decimal('0.81321').quantize(Decimal(10) ** -4)\n",
    "b=Decimal('23.173').quantize(Decimal('0.01'))\n",
    "c=Decimal('23.094').quantize(Decimal('0.01'))\n",
    "\n",
    "pretty_p(b-c,b,c,'-')\n",
    "a/(b-c)"
   ]
  },
  {
   "cell_type": "code",
   "execution_count": 30,
   "metadata": {},
   "outputs": [
    {
     "name": "stdout",
     "output_type": "stream",
     "text": [
      "context.prec:3\n",
      "    23.20000000000000\n",
      "-   23.10000000000000\n",
      "-----------\n",
      "     0.10000000000000\n"
     ]
    },
    {
     "data": {
      "text/plain": [
       "Decimal('8.13')"
      ]
     },
     "execution_count": 30,
     "metadata": {},
     "output_type": "execute_result"
    }
   ],
   "source": [
    "ONEPLACES = Decimal(10) ** -1\n",
    "getcontext().prec = 3\n",
    "a=Decimal('0.81321').quantize(Decimal(10) ** -3)\n",
    "b=Decimal('23.173').quantize(ONEPLACES)\n",
    "c=Decimal('23.094').quantize(ONEPLACES)\n",
    "\n",
    "pretty_p(b-c,b,c,'-')\n",
    "a/(b-c)"
   ]
  },
  {
   "cell_type": "code",
   "execution_count": 31,
   "metadata": {},
   "outputs": [
    {
     "name": "stdout",
     "output_type": "stream",
     "text": [
      "context.prec:2\n",
      "    23.00000000000000\n",
      "-   23.00000000000000\n",
      "-----------\n",
      "     0.00000000000000\n"
     ]
    },
    {
     "ename": "DivisionByZero",
     "evalue": "[<class 'decimal.DivisionByZero'>]",
     "output_type": "error",
     "traceback": [
      "\u001b[0;31m---------------------------------------------------------------------------\u001b[0m",
      "\u001b[0;31mDivisionByZero\u001b[0m                            Traceback (most recent call last)",
      "\u001b[0;32m<ipython-input-31-56d3ce31bec8>\u001b[0m in \u001b[0;36m<module>\u001b[0;34m\u001b[0m\n\u001b[1;32m      6\u001b[0m \u001b[0;34m\u001b[0m\u001b[0m\n\u001b[1;32m      7\u001b[0m \u001b[0mpretty_p\u001b[0m\u001b[0;34m(\u001b[0m\u001b[0mb\u001b[0m\u001b[0;34m-\u001b[0m\u001b[0mc\u001b[0m\u001b[0;34m,\u001b[0m\u001b[0mb\u001b[0m\u001b[0;34m,\u001b[0m\u001b[0mc\u001b[0m\u001b[0;34m,\u001b[0m\u001b[0;34m'-'\u001b[0m\u001b[0;34m)\u001b[0m\u001b[0;34m\u001b[0m\u001b[0m\n\u001b[0;32m----> 8\u001b[0;31m \u001b[0ma\u001b[0m\u001b[0;34m/\u001b[0m\u001b[0;34m(\u001b[0m\u001b[0mb\u001b[0m\u001b[0;34m-\u001b[0m\u001b[0mc\u001b[0m\u001b[0;34m)\u001b[0m\u001b[0;34m\u001b[0m\u001b[0m\n\u001b[0m",
      "\u001b[0;31mDivisionByZero\u001b[0m: [<class 'decimal.DivisionByZero'>]"
     ]
    }
   ],
   "source": [
    "ZEROPLACES = Decimal(10) ** 0\n",
    "getcontext().prec = 2\n",
    "a=Decimal('0.81321').quantize(Decimal(10) ** -2)\n",
    "b=Decimal('23.173').quantize(ZEROPLACES)\n",
    "c=Decimal('23.094').quantize(ZEROPLACES)\n",
    "\n",
    "pretty_p(b-c,b,c,'-')\n",
    "a/(b-c)"
   ]
  },
  {
   "cell_type": "markdown",
   "metadata": {},
   "source": [
    "# Newtonの差分商公式:25点\n",
    "\n",
    "次の4点の内挿式をNewtonの差分商公式を用いて求める．\n",
    "``` python\n",
    "X:=[-1, 0, 1, 2];\n",
    "Y:=[4., -2., -1.2, -.52];\n",
    "```\n",
    "最初の３点を用いて求めた2次の補間式は，\n",
    "$$\n",
    "- 2.00 - 6.00\\,x+ 3.40\\, \\left( x+1 \\right) x\n",
    "$$\n",
    "である．４点目を取り入れて３次の補間式を求めよ．"
   ]
  },
  {
   "cell_type": "code",
   "execution_count": 32,
   "metadata": {},
   "outputs": [],
   "source": [
    "# https://stackoverflow.com/questions/14823891/newton-s-interpolating-polynomial-python\n",
    "# by Khalil Al Hooti (stackoverflow)\n",
    "\n",
    "\n",
    "def _poly_newton_coefficient(x,y):\n",
    "    \"\"\"\n",
    "    x: list or np array contanining x data points\n",
    "    y: list or np array contanining y data points\n",
    "    \"\"\"\n",
    "\n",
    "    m = len(x)\n",
    "\n",
    "    x = np.copy(x)\n",
    "    a = np.copy(y)\n",
    "    for k in range(1,m):\n",
    "        a[k:m] = (a[k:m] - a[k-1])/(x[k:m] - x[k-1])\n",
    "\n",
    "    return a\n",
    "\n",
    "def newton_polynomial(x_data, y_data, x):\n",
    "    \"\"\"\n",
    "    x_data: data points at x\n",
    "    y_data: data points at y\n",
    "    x: evaluation point(s)\n",
    "    \"\"\"\n",
    "    a = _poly_newton_coefficient(x_data, y_data)\n",
    "    n = len(x_data) - 1 # Degree of polynomial\n",
    "    p = a[n]\n",
    "    for k in range(1,n+1):\n",
    "        p = a[n-k] + (x -x_data[n-k])*p\n",
    "    return p"
   ]
  },
  {
   "cell_type": "code",
   "execution_count": 33,
   "metadata": {},
   "outputs": [
    {
     "name": "stdout",
     "output_type": "stream",
     "text": [
      "[ 1  1  0 -1]\n"
     ]
    },
    {
     "data": {
      "image/png": "[encoded data removed]",
      "text/plain": [
       "<matplotlib.figure.Figure at 0x101adb9e8>"
      ]
     },
     "metadata": {
      "needs_background": "light"
     },
     "output_type": "display_data"
    }
   ],
   "source": [
    "import numpy as np\n",
    "from scipy import interpolate\n",
    "import matplotlib.pyplot as plt\n",
    "\n",
    "# もとの点\n",
    "x = np.array([0,1,2,3])\n",
    "y = np.array([1,2,3,-2])\n",
    "for i in range(0,4):\n",
    "    plt.plot(x[i],y[i],'o',color='r')\n",
    "\n",
    "\n",
    "print(_poly_newton_coefficient(x,y))\n",
    "\n",
    "xx = np.linspace(0,3, 100)\n",
    "yy = newton_polynomial(x, y, xx)\n",
    "plt.plot(xx, yy, color = 'b')\n",
    "\n",
    "plt.grid()\n",
    "plt.show()"
   ]
  },
  {
   "cell_type": "code",
   "execution_count": null,
   "metadata": {},
   "outputs": [],
   "source": []
  },
  {
   "cell_type": "markdown",
   "metadata": {},
   "source": [
    "# ページランク:25点\n",
    "\n",
    "次のようなリンクが張られたページ群のページランクを求めよ．"
   ]
  },
  {
   "cell_type": "code",
   "execution_count": null,
   "metadata": {},
   "outputs": [],
   "source": []
  }
 ],
 "metadata": {
  "kernelspec": {
   "display_name": "Python 3",
   "language": "python",
   "name": "python3"
  },
  "language_info": {
   "codemirror_mode": {
    "name": "ipython",
    "version": 3
   },
   "file_extension": ".py",
   "mimetype": "text/x-python",
   "name": "python",
   "nbconvert_exporter": "python",
   "pygments_lexer": "ipython3",
   "version": "3.6.1"
  },
  "latex_envs": {
   "LaTeX_envs_menu_present": true,
   "autocomplete": true,
   "bibliofile": "biblio.bib",
   "cite_by": "apalike",
   "current_citInitial": 1,
   "eqLabelWithNumbers": true,
   "eqNumInitial": 1,
   "hotkeys": {
    "equation": "Ctrl-E",
    "itemize": "Ctrl-I"
   },
   "labels_anchors": false,
   "latex_user_defs": false,
   "report_style_numbering": false,
   "user_envs_cfg": false
  },
  "toc": {
   "colors": {
    "hover_highlight": "#DAA520",
    "navigate_num": "#000000",
    "navigate_text": "#333333",
    "running_highlight": "#FF0000",
    "selected_highlight": "#FFD700",
    "sidebar_border": "#EEEEEE",
    "wrapper_background": "#FFFFFF"
   },
   "moveMenuLeft": true,
   "nav_menu": {
    "height": "12px",
    "width": "252px"
   },
   "navigate_menu": true,
   "number_sections": true,
   "sideBar": true,
   "threshold": 4,
   "toc_cell": true,
   "toc_section_display": "block",
   "toc_window_display": true,
   "widenNotebook": false
  }
 },
 "nbformat": 4,
 "nbformat_minor": 2
}
