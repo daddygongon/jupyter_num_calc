{
 "cells": [
  {
   "cell_type": "markdown",
   "metadata": {
    "toc": "true"
   },
   "source": [
    "# Table of Contents\n",
    " <p>"
   ]
  },
  {
   "cell_type": "markdown",
   "metadata": {},
   "source": [
    "$$\n",
    "\\frac{\\partial f}{\\partial a_1}\n",
    "={\\exp \\left({-\\,{\\frac { \\left( x-{\\it a_2} \\right) ^{2}}{{2{\\it a_3}}^{2\n",
    "}}}}\\right)} \\\\\n",
    "$$"
   ]
  },
  {
   "cell_type": "markdown",
   "metadata": {},
   "source": [
    "$$\n",
    "\\frac{\\partial f}{\\partial a_2}\n",
    "={\\frac {{\\it a_1}\\, \\left( x-{\\it a_2} \\right) }\n",
    "  {{{\\it a_3}}^{2}}\n",
    "  }\n",
    "\\exp\\left({\n",
    "      - {\\frac { \n",
    "      \\left( x-{\\it a_2} \\right) ^{2}}\n",
    "      {{2 \\it a_3^{2}}}}\n",
    "    }\\right)\n",
    "$$"
   ]
  },
  {
   "cell_type": "markdown",
   "metadata": {},
   "source": [
    "$$\n",
    "\\frac{\\partial f}{\\partial a_3}\n",
    "={\\frac {{\\it a_1}\\, \\left( x-{\\it a_2} \\right) ^{2}}{{{\\it a_3}}^{3}}\n",
    "{\n",
    "\\exp\\left({-\n",
    "{\\frac { \\left( x-{\\it a_2} \\right) ^{2} }\n",
    "{2{\\it a_3}^2} \n",
    "}}\\right)}}\n",
    "$$"
   ]
  },
  {
   "cell_type": "code",
   "execution_count": null,
   "metadata": {},
   "outputs": [],
   "source": []
  }
 ],
 "metadata": {
  "kernelspec": {
   "display_name": "Python 3",
   "language": "python",
   "name": "python3"
  },
  "language_info": {
   "codemirror_mode": {
    "name": "ipython",
    "version": 3
   },
   "file_extension": ".py",
   "mimetype": "text/x-python",
   "name": "python",
   "nbconvert_exporter": "python",
   "pygments_lexer": "ipython3",
   "version": "3.6.1"
  },
  "latex_envs": {
   "LaTeX_envs_menu_present": true,
   "autocomplete": true,
   "bibliofile": "biblio.bib",
   "cite_by": "apalike",
   "current_citInitial": 1,
   "eqLabelWithNumbers": true,
   "eqNumInitial": 1,
   "hotkeys": {
    "equation": "Ctrl-E",
    "itemize": "Ctrl-I"
   },
   "labels_anchors": false,
   "latex_user_defs": false,
   "report_style_numbering": false,
   "user_envs_cfg": false
  },
  "toc": {
   "colors": {
    "hover_highlight": "#DAA520",
    "navigate_num": "#000000",
    "navigate_text": "#333333",
    "running_highlight": "#FF0000",
    "selected_highlight": "#FFD700",
    "sidebar_border": "#EEEEEE",
    "wrapper_background": "#FFFFFF"
   },
   "moveMenuLeft": true,
   "nav_menu": {
    "height": "12px",
    "width": "252px"
   },
   "navigate_menu": true,
   "number_sections": true,
   "sideBar": true,
   "threshold": 4,
   "toc_cell": true,
   "toc_section_display": "block",
   "toc_window_display": true,
   "widenNotebook": false
  }
 },
 "nbformat": 4,
 "nbformat_minor": 2
}
