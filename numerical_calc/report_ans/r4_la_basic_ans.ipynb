{
 "cells": [
  {
   "cell_type": "markdown",
   "metadata": {
    "toc": "true"
   },
   "source": [
    "<h1>Table of Contents<span class=\"tocSkip\"></span></h1>\n",
    "<div class=\"toc\"><ul class=\"toc-item\"><li><span><a href=\"#Table-of-Contents\" data-toc-modified-id=\"Table-of-Contents-1\"><span class=\"toc-item-num\">1&nbsp;&nbsp;</span>Table of Contents</a></span></li></ul></div>"
   ]
  },
  {
   "cell_type": "code",
   "execution_count": 1,
   "metadata": {},
   "outputs": [
    {
     "name": "stdout",
     "output_type": "stream",
     "text": [
      "array([[ 0.99500417, -0.09983342],\n",
      "       [ 0.09983342,  0.99500417]])\n"
     ]
    }
   ],
   "source": [
    "import matplotlib.pyplot as plt\n",
    "import numpy as np\n",
    "from pprint import pprint\n",
    "\n",
    "def draw_projcetion_line_points(x,y):\n",
    "    p0 = np.array([x,y])\n",
    "    p1 = np.dot(aa,p0)\n",
    "\n",
    "    plt.plot(p0[0],p0[1],'o',color='r')\n",
    "    plt.plot(p1[0],p1[1],'o',color='b')\n",
    "    plt.plot([p0[0],p1[0]],[p0[1],p1[1]],\n",
    "              color='k', linestyle='-', linewidth=1)\n",
    "\n",
    "def draw_axes(x_min,x_max,y_min,y_max):\n",
    "    plt.hlines(0, x_min, x_max, color='k', linestyle='-',\n",
    "               linewidth=1)\n",
    "    plt.vlines(0, y_min, y_max, color='k', linestyle='-',\n",
    "               linewidth=1)\n",
    "\n",
    "# aa = np.array([[2,5], [4,1]])\n",
    "t = 0.1\n",
    "aa = np.array([[np.cos(t),-np.sin(t)], [np.sin(t),np.cos(t)]])\n",
    "\n",
    "pprint(aa)\n"
   ]
  },
  {
   "cell_type": "code",
   "execution_count": 2,
   "metadata": {},
   "outputs": [
    {
     "data": {
      "image/png": "[encoded data removed]",
      "text/plain": [
       "<Figure size 432x288 with 2 Axes>"
      ]
     },
     "metadata": {
      "needs_background": "light"
     },
     "output_type": "display_data"
    }
   ],
   "source": [
    "div = 8 #32\n",
    "for i in range(0,div):\n",
    "    theta = 2*np.pi/div*i\n",
    "    x0 = np.sin(theta)\n",
    "    y0 = np.cos(theta)\n",
    "    # print('%10.5f-%10.5f' % (x,y))\n",
    "    draw_projcetion_line_points(x0,y0)\n",
    "\n",
    "#draw_axes(-7,7,-5,5)\n",
    "draw_axes(-1.5,1.5,-1.5,1.5)\n",
    "plt.axes().set_aspect('equal', 'datalim')\n",
    "plt.show()"
   ]
  },
  {
   "cell_type": "code",
   "execution_count": 3,
   "metadata": {},
   "outputs": [
    {
     "name": "stdout",
     "output_type": "stream",
     "text": [
      "array([0.995+0.1j, 0.995-0.1j])\n",
      "array([[0.707+0.j   , 0.707-0.j   ],\n",
      "       [0.   -0.707j, 0.   +0.707j]])\n"
     ]
    }
   ],
   "source": [
    "np.set_printoptions(precision=3, suppress=True)\n",
    "\n",
    "l,P = np.linalg.eig(aa)\n",
    "pprint(l)\n",
    "pprint(P)"
   ]
  },
  {
   "cell_type": "code",
   "execution_count": 4,
   "metadata": {},
   "outputs": [
    {
     "name": "stdout",
     "output_type": "stream",
     "text": [
      "array([0.707+0.j   , 0.   -0.707j])\n",
      "array([0.707-0.j   , 0.   +0.707j])\n"
     ]
    }
   ],
   "source": [
    "v0 = P[:,0]\n",
    "v1 = P[:,1]\n",
    "pprint(v0)\n",
    "pprint(v1)"
   ]
  },
  {
   "cell_type": "code",
   "execution_count": 5,
   "metadata": {},
   "outputs": [
    {
     "name": "stderr",
     "output_type": "stream",
     "text": [
      "/Users/bob/opt/anaconda3/lib/python3.8/site-packages/numpy/core/_asarray.py:83: ComplexWarning: Casting complex values to real discards the imaginary part\n",
      "  return array(a, dtype, copy=False, order=order)\n"
     ]
    },
    {
     "data": {
      "image/png": "[encoded data removed]",
      "text/plain": [
       "<Figure size 432x288 with 2 Axes>"
      ]
     },
     "metadata": {
      "needs_background": "light"
     },
     "output_type": "display_data"
    }
   ],
   "source": [
    "def draw_eigen_vector(v, t):\n",
    "    plt.plot([-t*v[0],t*v[0]], [-t*v[1],t*v[1]], \n",
    "             color='g', linestyle='-', linewidth=2)\n",
    "\n",
    "div = 32\n",
    "for i in range(0,div):\n",
    "    theta = 2*np.pi/div*i\n",
    "    x0 = np.sin(theta)\n",
    "    y0 = np.cos(theta)\n",
    "    # print('%10.5f-%10.5f' % (x,y))\n",
    "    draw_projcetion_line_points(x0,y0)\n",
    "\n",
    "draw_axes(-7,7,-5,5)\n",
    "\n",
    "draw_eigen_vector(v0, 7)\n",
    "draw_eigen_vector(v1, 5)\n",
    "\n",
    "plt.axes().set_aspect('equal', 'datalim')\n",
    "plt.show()"
   ]
  },
  {
   "cell_type": "code",
   "execution_count": null,
   "metadata": {},
   "outputs": [],
   "source": []
  }
 ],
 "metadata": {
  "kernelspec": {
   "display_name": "Python 3",
   "language": "python",
   "name": "python3"
  },
  "language_info": {
   "codemirror_mode": {
    "name": "ipython",
    "version": 3
   },
   "file_extension": ".py",
   "mimetype": "text/x-python",
   "name": "python",
   "nbconvert_exporter": "python",
   "pygments_lexer": "ipython3",
   "version": "3.8.5"
  },
  "latex_envs": {
   "LaTeX_envs_menu_present": true,
   "autocomplete": true,
   "bibliofile": "biblio.bib",
   "cite_by": "apalike",
   "current_citInitial": 1,
   "eqLabelWithNumbers": true,
   "eqNumInitial": 1,
   "hotkeys": {
    "equation": "Ctrl-E",
    "itemize": "Ctrl-I"
   },
   "labels_anchors": false,
   "latex_user_defs": false,
   "report_style_numbering": false,
   "user_envs_cfg": false
  },
  "toc": {
   "base_numbering": 1,
   "nav_menu": {
    "height": "12px",
    "width": "252px"
   },
   "number_sections": true,
   "sideBar": true,
   "skip_h1_title": false,
   "title_cell": "Table of Contents",
   "title_sidebar": "Contents",
   "toc_cell": true,
   "toc_position": {},
   "toc_section_display": "block",
   "toc_window_display": true
  }
 },
 "nbformat": 4,
 "nbformat_minor": 2
}
