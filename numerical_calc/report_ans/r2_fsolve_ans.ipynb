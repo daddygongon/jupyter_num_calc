{
 "cells": [
  {
   "cell_type": "markdown",
   "metadata": {
    "toc": "true"
   },
   "source": [
    "<h1>Table of Contents<span class=\"tocSkip\"></span></h1>\n",
    "<div class=\"toc\"><ul class=\"toc-item\"><li><span><a href=\"#準備\" data-toc-modified-id=\"準備-1\"><span class=\"toc-item-num\">1&nbsp;&nbsp;</span>準備</a></span></li><li><span><a href=\"#bisection法\" data-toc-modified-id=\"bisection法-2\"><span class=\"toc-item-num\">2&nbsp;&nbsp;</span>bisection法</a></span></li><li><span><a href=\"#newton法\" data-toc-modified-id=\"newton法-3\"><span class=\"toc-item-num\">3&nbsp;&nbsp;</span>newton法</a></span></li><li><span><a href=\"#plot\" data-toc-modified-id=\"plot-4\"><span class=\"toc-item-num\">4&nbsp;&nbsp;</span>plot</a></span></li></ul></div>"
   ]
  },
  {
   "cell_type": "markdown",
   "metadata": {},
   "source": [
    "\n",
    "<br />\n",
    "\n",
    "<div style=\"text-align: center;\">\n",
    "<font size=\"7\">fsolveの課題</font>\n",
    "</div>\n",
    "<br />\n",
    "<div style=\"text-align: right;\">\n",
    "<font size=\"4\">file:/Users/bob/Github/TeamNishitani/jupyter_num_calc/fsolve</font>\n",
    "<br />\n",
    "<font size=\"4\">https://github.com/daddygongon/jupyter_num_calc/tree/master/notebooks_python</font>\n",
    "<br />\n",
    "<font size=\"4\"> 22/10/14 チーム西谷　40009 西谷滋人　</font>\n",
    "</div>\n",
    "\n",
    "関数\n",
    "$ \\exp(-x)= x^2$\n",
    "の解を二分法(bisection)とNewton法で求めて，収束性を比較する"
   ]
  },
  {
   "cell_type": "markdown",
   "metadata": {},
   "source": [
    "# 準備\n",
    "\n",
    "関数のdefと微分，plotで確かめておく．\n",
    "plotには，matplotlib.pyplotを使う．また，\n",
    "数値計算に向いたlibraryのnumpyを入れておく．\n",
    "数式処理での微分のためにsympyを入れておく．\n",
    "\n",
    "関数の微分は以下の通りにできる"
   ]
  },
  {
   "cell_type": "code",
   "execution_count": 1,
   "metadata": {},
   "outputs": [
    {
     "name": "stdout",
     "output_type": "stream",
     "text": [
      "-2*x - exp(-x)\n"
     ]
    }
   ],
   "source": [
    "import matplotlib.pyplot as plt\n",
    "import numpy as np\n",
    "\n",
    "from sympy import *\n",
    "\n",
    "x = symbols('x')\n",
    "\n",
    "\n",
    "def func(x):\n",
    "    return exp(-x)-x**2\n",
    "\n",
    "def df(x):\n",
    "    return diff(func(x), x)\n",
    "\n",
    "print(df(x))\n"
   ]
  },
  {
   "cell_type": "markdown",
   "metadata": {},
   "source": [
    "plotのdataはnumpyで用意する．\n",
    "その際に，exp関数としてnumpyのexp関数を使わないとエラーがでるので，def内ではnp.expと明示している．\n",
    "関数によっては解の範囲x0,x1を変更しなければならない．"
   ]
  },
  {
   "cell_type": "code",
   "execution_count": 2,
   "metadata": {},
   "outputs": [
    {
     "data": {
      "image/png": "[encoded data removed]",
      "text/plain": [
       "<matplotlib.figure.Figure at 0x10ff442e8>"
      ]
     },
     "metadata": {},
     "output_type": "display_data"
    }
   ],
   "source": [
    "def func(x):\n",
    "    return  np.exp(-x)-x**2\n",
    "def df(x):\n",
    "    return  -2*x - np.exp(-x)\n",
    "\n",
    "x0=0.0\n",
    "x1=1.0\n",
    "x = np.linspace(x0, x1, 101)\n",
    "y = func(x)\n",
    "plt.plot(x, y, color = 'k')\n",
    "plt.plot([x0,x1],[0,0])\n",
    "plt.grid()\n",
    "plt.show()\n"
   ]
  },
  {
   "cell_type": "markdown",
   "metadata": {},
   "source": [
    "pythonが用意している標準的な解法によって解(x0)をえておく．\n",
    "fsolveはarray構造を返すので，値として取り出すために[0]を指定している．"
   ]
  },
  {
   "cell_type": "code",
   "execution_count": 4,
   "metadata": {},
   "outputs": [
    {
     "data": {
      "text/plain": [
       "0.70346742249839178"
      ]
     },
     "execution_count": 4,
     "metadata": {},
     "output_type": "execute_result"
    }
   ],
   "source": [
    "from scipy.optimize import fsolve\n",
    "x0 = fsolve(func, 0.0)[0]\n",
    "x0"
   ]
  },
  {
   "cell_type": "markdown",
   "metadata": {},
   "source": [
    "# bisection法\n",
    "\n",
    "二分法(bisection)での解．\n",
    "list_bisecというarrayを用意しておき，それに値を追加(append)していく．"
   ]
  },
  {
   "cell_type": "code",
   "execution_count": 5,
   "metadata": {},
   "outputs": [
    {
     "name": "stdout",
     "output_type": "stream",
     "text": [
      "             x1              x2              f1              f2\n",
      "  +0.0000000000   +1.0000000000   +1.0000000000   -0.6321205588\n",
      "  +0.5000000000   +1.0000000000   +0.3565306597   -0.6321205588\n",
      "  +0.5000000000   +0.7500000000   +0.3565306597   -0.0901334473\n",
      "  +0.6250000000   +0.7500000000   +0.1446364285   -0.0901334473\n",
      "  +0.6875000000   +0.7500000000   +0.0301753280   -0.0901334473\n",
      "  +0.6875000000   +0.7187500000   +0.0301753280   -0.0292404858\n",
      "  +0.7031250000   +0.7187500000   +0.0006511313   -0.0292404858\n",
      "  +0.7031250000   +0.7109375000   +0.0006511313   -0.0142486319\n",
      "  +0.7031250000   +0.7070312500   +0.0006511313   -0.0067872536\n",
      "  +0.7031250000   +0.7050781250   +0.0006511313   -0.0030651888\n",
      "  +0.7031250000   +0.7041015625   +0.0006511313   -0.0012063109\n",
      "  +0.7031250000   +0.7036132812   +0.0006511313   -0.0002774104\n",
      "  +0.7033691406   +0.7036132812   +0.0001869053   -0.0002774104\n",
      "  +0.7033691406   +0.7034912109   +0.0001869053   -0.0000452413\n",
      "  +0.7034301758   +0.7034912109   +0.0000708348   -0.0000452413\n",
      "  +0.7034606934   +0.7034912109   +0.0000127975   -0.0000452413\n",
      "  +0.7034606934   +0.7034759521   +0.0000127975   -0.0000162218\n",
      "  +0.7034606934   +0.7034683228   +0.0000127975   -0.0000017121\n",
      "  +0.7034645081   +0.7034683228   +0.0000055427   -0.0000017121\n",
      "  +0.7034664154   +0.7034683228   +0.0000019153   -0.0000017121\n",
      "  +0.7034673691   +0.7034683228   +0.0000001016   -0.0000017121\n",
      "\n"
     ]
    }
   ],
   "source": [
    "x1, x2 = 0.0, 1.0\n",
    "f1, f2 = func(x1), func(x2)\n",
    "print('%+15s %+15s %+15s %+15s'  % ('x1','x2','f1','f2'))\n",
    "print('%+15.10f %+15.10f %+15.10f %+15.10f' % (x1,x2,f1,f2))\n",
    "\n",
    "list_bisec = [[0],[abs(x1-x0)]]\n",
    "for i in range(0, 20):\n",
    "    x = (x1 + x2)/2\n",
    "    f = func(x)\n",
    "    if (f*f1>=0.0):\n",
    "        x1, f1 = x, f\n",
    "        list_bisec[0].append(i)\n",
    "        list_bisec[1].append(abs(x1-x0))\n",
    "    else:\n",
    "        x2, f2 = x, f\n",
    "        list_bisec[0].append(i)\n",
    "        list_bisec[1].append(abs(x2-x0))\n",
    "\n",
    "    print('%+15.10f %+15.10f %+15.10f %+15.10f' % (x1,x2,f1,f2))\n",
    "\n",
    "list_bisec\n",
    "print()\n"
   ]
  },
  {
   "cell_type": "markdown",
   "metadata": {},
   "source": [
    "# newton法\n",
    "\n",
    "list_newtonに追加していく．"
   ]
  },
  {
   "cell_type": "code",
   "execution_count": 8,
   "metadata": {},
   "outputs": [
    {
     "name": "stdout",
     "output_type": "stream",
     "text": [
      "1.0000000000    -0.6321205588285576659757226\n",
      "0.7330436052454454287641283 -0.0569084480040253914978621\n",
      "0.7038077863241329890087172 -0.0006473915387465445370196\n",
      "0.7034674683317975185659066 -0.0000000871660306156485376\n",
      "0.7034674224983924473164620 -0.0000000000000014988010832\n",
      "\n"
     ]
    }
   ],
   "source": [
    "x1 = 1.0\n",
    "f1 = func(x1)\n",
    "list_newton = [[0],[x1]]\n",
    "print('%-15.10f %+24.25f' % (x1,f1))\n",
    "for i in range(0, 4):\n",
    "    x1 = x1 - f1 / df(x1)\n",
    "    f1 =func(x1)\n",
    "    print('%-24.25f %+24.25f' % (x1,f1))\n",
    "    list_newton[0].append(i)\n",
    "    list_newton[1].append(abs(x1-x0))\n",
    "\n",
    "list_newton\n",
    "print()"
   ]
  },
  {
   "cell_type": "markdown",
   "metadata": {},
   "source": [
    "# plot\n",
    "bisection法とnewton法による収束の様子をplotする．\n",
    "plt.yscale('log')でy軸を対数目盛りにすると見やすい．"
   ]
  },
  {
   "cell_type": "code",
   "execution_count": 9,
   "metadata": {},
   "outputs": [
    {
     "data": {
      "image/png": "[encoded data removed]",
      "text/plain": [
       "<matplotlib.figure.Figure at 0x114a75b00>"
      ]
     },
     "metadata": {},
     "output_type": "display_data"
    }
   ],
   "source": [
    "import matplotlib.pyplot as plt\n",
    "\n",
    "X = list_bisec[0]\n",
    "Y = list_bisec[1]\n",
    "plt.plot(X, Y)\n",
    "\n",
    "X = list_newton[0]\n",
    "Y = list_newton[1]\n",
    "plt.plot(X, Y)\n",
    "\n",
    "plt.yscale(\"log\") # y軸を対数目盛に\n",
    "plt.show()"
   ]
  },
  {
   "cell_type": "markdown",
   "metadata": {
    "collapsed": true
   },
   "source": [
    "Newton法の方が圧倒的に速く正しい解に収束している．例えば，青線で示した分割(bi section)法では，ステップ数が0回から五回になるにつれて， \n",
    "$10^{-1}$から$10^{-2}$程度にしか正解に近づいていない．\n",
    "しかし，赤線でしましたNewton法では一度のステップで一桁から２桁精度が上がっている．"
   ]
  }
 ],
 "metadata": {
  "kernelspec": {
   "display_name": "Python 3.10.6 64-bit",
   "language": "python",
   "name": "python3"
  },
  "language_info": {
   "codemirror_mode": {
    "name": "ipython",
    "version": 3
   },
   "file_extension": ".py",
   "mimetype": "text/x-python",
   "name": "python",
   "nbconvert_exporter": "python",
   "pygments_lexer": "ipython3",
   "version": "3.10.6"
  },
  "latex_envs": {
   "LaTeX_envs_menu_present": true,
   "autocomplete": true,
   "bibliofile": "biblio.bib",
   "cite_by": "apalike",
   "current_citInitial": 1,
   "eqLabelWithNumbers": true,
   "eqNumInitial": 1,
   "hotkeys": {
    "equation": "Ctrl-E",
    "itemize": "Ctrl-I"
   },
   "labels_anchors": false,
   "latex_user_defs": false,
   "report_style_numbering": false,
   "user_envs_cfg": false
  },
  "toc": {
   "base_numbering": 1,
   "nav_menu": {
    "height": "13px",
    "width": "253px"
   },
   "number_sections": true,
   "sideBar": true,
   "skip_h1_title": false,
   "title_cell": "Table of Contents",
   "title_sidebar": "Contents",
   "toc_cell": true,
   "toc_position": {},
   "toc_section_display": "block",
   "toc_window_display": true
  },
  "vscode": {
   "interpreter": {
    "hash": "b0fa6594d8f4cbf19f97940f81e996739fb7646882a419484c72d19e05852a7e"
   }
  }
 },
 "nbformat": 4,
 "nbformat_minor": 2
}
