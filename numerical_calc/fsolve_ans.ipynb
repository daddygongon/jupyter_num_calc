{
 "cells": [
  {
   "cell_type": "markdown",
   "metadata": {
    "toc": "true"
   },
   "source": [
    "# Table of Contents\n",
    " <p>"
   ]
  },
  {
   "cell_type": "code",
   "execution_count": 37,
   "metadata": {},
   "outputs": [
    {
     "name": "stdout",
     "output_type": "stream",
     "text": [
      "-exp(-x) + 4*exp(-2*x)\n"
     ]
    }
   ],
   "source": [
    "import matplotlib.pyplot as plt\n",
    "import numpy as np\n",
    "\n",
    "from sympy import *\n",
    "\n",
    "x = symbols('x')\n",
    "\n",
    "\n",
    "def func(x):\n",
    "    return exp(-x)-2*exp(-2*x)\n",
    "\n",
    "def df(x):\n",
    "    return diff(func(x), x)\n",
    "\n",
    "print(df(x))\n",
    "\n"
   ]
  },
  {
   "cell_type": "code",
   "execution_count": 39,
   "metadata": {},
   "outputs": [
    {
     "data": {
      "image/png": "[encoded data removed]",
      "text/plain": [
       "<matplotlib.figure.Figure at 0x10d3da0b8>"
      ]
     },
     "metadata": {},
     "output_type": "display_data"
    }
   ],
   "source": [
    "def func(x):\n",
    "    return np.exp(-x)-2*np.exp(-2*x)\n",
    "\n",
    "def df(x):\n",
    "    return -np.exp(-x) + 4*np.exp(-2*x)\n",
    "\n",
    "x0=0.0\n",
    "x1=1.0\n",
    "x = np.linspace(x0, x1, 100)\n",
    "y = func(x)\n",
    "plt.plot(x, y, color = 'k')\n",
    "plt.plot([x0,x1],[0,0])\n",
    "plt.grid()\n",
    "plt.show()"
   ]
  },
  {
   "cell_type": "code",
   "execution_count": 40,
   "metadata": {},
   "outputs": [
    {
     "name": "stdout",
     "output_type": "stream",
     "text": [
      "0.69314718056\n"
     ]
    }
   ],
   "source": [
    "from scipy.optimize import fsolve\n",
    "x0 = fsolve(func, 0.0)[0]\n",
    "pprint(x0)"
   ]
  },
  {
   "cell_type": "code",
   "execution_count": 41,
   "metadata": {},
   "outputs": [
    {
     "name": "stdout",
     "output_type": "stream",
     "text": [
      "             x1              x2              f1              f2\n",
      "0.000  1.000  -1.000 0.097 \n",
      "  +0.5000000000   +1.0000000000   -0.1292282226   +0.0972088747\n",
      "  +0.5000000000   +0.7500000000   -0.1292282226   +0.0261062324\n",
      "  +0.6250000000   +0.7500000000   -0.0377481652   +0.0261062324\n",
      "  +0.6875000000   +0.7500000000   -0.0028476136   +0.0261062324\n",
      "  +0.6875000000   +0.7187500000   -0.0028476136   +0.0123194385\n",
      "  +0.6875000000   +0.7031250000   -0.0028476136   +0.0049148184\n",
      "  +0.6875000000   +0.6953125000   -0.0028476136   +0.0010791492\n",
      "  +0.6914062500   +0.6953125000   -0.0008727415   +0.0010791492\n",
      "  +0.6914062500   +0.6933593750   -0.0008727415   +0.0001060635\n",
      "  +0.6923828125   +0.6933593750   -0.0003826225   +0.0001060635\n",
      "  +0.6928710938   +0.6933593750   -0.0001381006   +0.0001060635\n",
      "  +0.6931152344   +0.6933593750   -0.0000159739   +0.0001060635\n",
      "  +0.6931152344   +0.6932373047   -0.0000159739   +0.0000450560\n",
      "  +0.6931152344   +0.6931762695   -0.0000159739   +0.0000145439\n",
      "  +0.6931457520   +0.6931762695   -0.0000007143   +0.0000145439\n",
      "  +0.6931457520   +0.6931610107   -0.0000007143   +0.0000069149\n",
      "  +0.6931457520   +0.6931533813   -0.0000007143   +0.0000031004\n",
      "  +0.6931457520   +0.6931495667   -0.0000007143   +0.0000011930\n",
      "  +0.6931457520   +0.6931476593   -0.0000007143   +0.0000002394\n",
      "  +0.6931467056   +0.6931476593   -0.0000002375   +0.0000002394\n",
      "[[0, 0, 1, 2, 3, 4, 5, 6, 7, 8, 9, 10, 11, 12, 13, 14, 15, 16, 17, 18, 19], [0.69314718055994529, 0.19314718055994529, 0.056852819440054714, 0.068147180559945286, 0.0056471805599452862, 0.025602819440054714, 0.0099778194400547138, 0.0021653194400547138, 0.0017409305599452862, 0.00021219444005471377, 0.00076436805994528623, 0.00027608680994528623, 3.1946184945286227e-05, 9.0124127554713773e-05, 2.9088971304713773e-05, 1.4286068202862268e-06, 1.3830182242213773e-05, 6.2007877109637732e-06, 2.3860904453387732e-06, 4.7874181252627324e-07, 4.7493250387997676e-07]]\n"
     ]
    }
   ],
   "source": [
    "x1, x2 = 0.0, 1.0\n",
    "f1, f2 = func(x1), func(x2)\n",
    "print('%+15s %+15s %+15s %+15s'  % ('x1','x2','f1','f2'))\n",
    "print('%-6.3f %-6.3f %-6.3f %-6.3f' % (x1,x2,f1,f2))\n",
    "#x0 = 0.7034674224983916520498186018599021303429\n",
    "list_bisec = [[0],[abs(x1-x0)]]\n",
    "for i in range(0, 20):\n",
    "    x = (x1 + x2)/2\n",
    "    f = func(x)\n",
    "    if (f*f1>=0.0):\n",
    "        x1, f1 = x, f\n",
    "        list_bisec[0].append(i)\n",
    "        list_bisec[1].append(abs(x1-x0))\n",
    "    else:\n",
    "        x2, f2 = x, f\n",
    "        list_bisec[0].append(i)\n",
    "        list_bisec[1].append(abs(x2-x0))\n",
    "\n",
    "    print('%+15.10f %+15.10f %+15.10f %+15.10f' % (x1,x2,f1,f2))\n",
    "\n",
    "print(list_bisec)"
   ]
  },
  {
   "cell_type": "code",
   "execution_count": 42,
   "metadata": {},
   "outputs": [
    {
     "name": "stdout",
     "output_type": "stream",
     "text": [
      "1.0000000000    +0.0972088746982169293886500\n",
      "0.4395945658    -0.1859411764694577362533323\n",
      "0.6225751275    -0.0392343494594583619416994\n",
      "0.6863677429    -0.0034243718517862342665126\n",
      "0.6930789080    -0.0000341397924060737878449\n",
      "[[0, 0, 1, 2, 3], [1.0, 0.25355261477134106, 0.070572053060396933, 0.0067794376968084435, 6.8272592720464154e-05]]\n"
     ]
    }
   ],
   "source": [
    "x1 = 1.0\n",
    "f1 = func(x1)\n",
    "list_newton = [[0],[x1]]\n",
    "print('%-15.10f %+24.25f' % (x1,f1))\n",
    "for i in range(0, 4):\n",
    "    x1 = x1 - f1 / df(x1)\n",
    "    f1 =func(x1)\n",
    "    print('%-15.10f %+24.25f' % (x1,f1))\n",
    "    list_newton[0].append(i)\n",
    "    list_newton[1].append(abs(x1-x0))\n",
    "\n",
    "print(list_newton)"
   ]
  },
  {
   "cell_type": "code",
   "execution_count": 43,
   "metadata": {},
   "outputs": [
    {
     "data": {
      "image/png": "[encoded data removed]",
      "text/plain": [
       "<matplotlib.figure.Figure at 0x10e82f5f8>"
      ]
     },
     "metadata": {},
     "output_type": "display_data"
    }
   ],
   "source": [
    "import matplotlib.pyplot as plt\n",
    "\n",
    "X = list_bisec[0]\n",
    "Y = list_bisec[1]\n",
    "plt.plot(X, Y)\n",
    "\n",
    "X = list_newton[0]\n",
    "Y = list_newton[1]\n",
    "plt.plot(X, Y)\n",
    "\n",
    "\n",
    "plt.yscale(\"log\") # y軸を対数目盛に\n",
    "plt.show()\n"
   ]
  },
  {
   "cell_type": "code",
   "execution_count": null,
   "metadata": {
    "collapsed": true
   },
   "outputs": [],
   "source": []
  }
 ],
 "metadata": {
  "kernelspec": {
   "display_name": "Python 3",
   "language": "python",
   "name": "python3"
  },
  "language_info": {
   "codemirror_mode": {
    "name": "ipython",
    "version": 3
   },
   "file_extension": ".py",
   "mimetype": "text/x-python",
   "name": "python",
   "nbconvert_exporter": "python",
   "pygments_lexer": "ipython3",
   "version": "3.6.1"
  },
  "latex_envs": {
   "LaTeX_envs_menu_present": true,
   "autocomplete": true,
   "bibliofile": "biblio.bib",
   "cite_by": "apalike",
   "current_citInitial": 1,
   "eqLabelWithNumbers": true,
   "eqNumInitial": 1,
   "hotkeys": {
    "equation": "Ctrl-E",
    "itemize": "Ctrl-I"
   },
   "labels_anchors": false,
   "latex_user_defs": false,
   "report_style_numbering": false,
   "user_envs_cfg": false
  },
  "toc": {
   "colors": {
    "hover_highlight": "#DAA520",
    "navigate_num": "#000000",
    "navigate_text": "#333333",
    "running_highlight": "#FF0000",
    "selected_highlight": "#FFD700",
    "sidebar_border": "#EEEEEE",
    "wrapper_background": "#FFFFFF"
   },
   "moveMenuLeft": true,
   "nav_menu": {
    "height": "12px",
    "width": "252px"
   },
   "navigate_menu": true,
   "number_sections": true,
   "sideBar": true,
   "threshold": 4,
   "toc_cell": true,
   "toc_section_display": "block",
   "toc_window_display": true,
   "widenNotebook": false
  }
 },
 "nbformat": 4,
 "nbformat_minor": 2
}
