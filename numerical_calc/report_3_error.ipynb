{
 "cells": [
  {
   "cell_type": "markdown",
   "metadata": {},
   "source": [
    "# 誤差の課題\n",
    "グループ名\n",
    "\n",
    "# 大きな数どおしのわずかな差\n",
    "\n",
    "\n",
    "\n",
    "## 1. \n",
    "大きな数どおしのわずかな差は，丸め誤差にとくに影響を受ける. 23.173-23.094 を有効数字がそれぞれ5桁，4桁，3桁，2桁で計算した結果を示せ. 同様に，0.81321/(23.173-23.094) を有効数字がそれぞれ5桁，4桁，3桁，2桁で計算した結果を示せ."
   ]
  },
  {
   "cell_type": "code",
   "execution_count": 11,
   "metadata": {},
   "outputs": [
    {
     "name": "stdout",
     "output_type": "stream",
     "text": [
      "context.prec:5\n",
      "    23.17300000000000\n",
      "-   23.09400000000000\n",
      "-----------\n",
      "     0.07900000000000\n"
     ]
    }
   ],
   "source": [
    "from decimal import *\n",
    "\n",
    "def pretty_p(result,a,b,operator):\n",
    "    print('context.prec:{}'.format(getcontext().prec))\n",
    "    print(' %20.14f' % (a))\n",
    "    print( '%1s%20.14f' % (operator, b))\n",
    "    print('-----------')\n",
    "    print( ' %20.14f' % (result))\n",
    "\n",
    "n = 5\n",
    "getcontext().prec = n\n",
    "\n",
    "a=Decimal('23.173').quantize(Decimal(10) ** -(n-2))\n",
    "b=Decimal('23.094').quantize(Decimal(10) ** -(n-2))\n",
    "pretty_p(a-b,a,b,'-')"
   ]
  },
  {
   "cell_type": "code",
   "execution_count": 12,
   "metadata": {},
   "outputs": [
    {
     "name": "stdout",
     "output_type": "stream",
     "text": [
      "context.prec:4\n",
      "    23.17000000000000\n",
      "-   23.09000000000000\n",
      "-----------\n",
      "     0.08000000000000\n"
     ]
    }
   ],
   "source": [
    "n = 4\n",
    "getcontext().prec = n\n",
    "\n",
    "a=Decimal('23.173').quantize(Decimal(10) ** -(n-2))\n",
    "b=Decimal('23.094').quantize(Decimal(10) ** -(n-2))\n",
    "pretty_p(a-b,a,b,'-')"
   ]
  },
  {
   "cell_type": "code",
   "execution_count": 13,
   "metadata": {},
   "outputs": [
    {
     "name": "stdout",
     "output_type": "stream",
     "text": [
      "context.prec:3\n",
      "    23.20000000000000\n",
      "-   23.10000000000000\n",
      "-----------\n",
      "     0.10000000000000\n"
     ]
    }
   ],
   "source": [
    "n = 3\n",
    "getcontext().prec = n\n",
    "\n",
    "a=Decimal('23.173').quantize(Decimal(10) ** -(n-2))\n",
    "b=Decimal('23.094').quantize(Decimal(10) ** -(n-2))\n",
    "pretty_p(a-b,a,b,'-')"
   ]
  },
  {
   "cell_type": "code",
   "execution_count": 14,
   "metadata": {},
   "outputs": [
    {
     "name": "stdout",
     "output_type": "stream",
     "text": [
      "context.prec:2\n",
      "    23.00000000000000\n",
      "-   23.00000000000000\n",
      "-----------\n",
      "     0.00000000000000\n"
     ]
    }
   ],
   "source": [
    "n = 2\n",
    "getcontext().prec = n\n",
    "\n",
    "a=Decimal('23.173').quantize(Decimal(10) ** -(n-2))\n",
    "b=Decimal('23.094').quantize(Decimal(10) ** -(n-2))\n",
    "pretty_p(a-b,a,b,'-')"
   ]
  },
  {
   "cell_type": "code",
   "execution_count": 15,
   "metadata": {},
   "outputs": [
    {
     "name": "stdout",
     "output_type": "stream",
     "text": [
      "context.prec:5\n",
      "    23.17300000000000\n",
      "-   23.09400000000000\n",
      "-----------\n",
      "     0.07900000000000\n"
     ]
    }
   ],
   "source": [
    "n = 5\n",
    "getcontext().prec = n\n",
    "\n",
    "a=Decimal('23.173').quantize(Decimal(10) ** -(n-2))\n",
    "b=Decimal('23.094').quantize(Decimal(10) ** -(n-2))\n",
    "pretty_p(a-b,a,b,'-')"
   ]
  },
  {
   "cell_type": "markdown",
   "metadata": {},
   "source": [
    "## 2"
   ]
  },
  {
   "cell_type": "code",
   "execution_count": 16,
   "metadata": {},
   "outputs": [
    {
     "name": "stdout",
     "output_type": "stream",
     "text": [
      "context.prec:5\n",
      "    23.17300000000000\n",
      "-   23.09400000000000\n",
      "-----------\n",
      "     0.07900000000000\n"
     ]
    },
    {
     "data": {
      "text/plain": [
       "Decimal('10.291')"
      ]
     },
     "execution_count": 16,
     "metadata": {},
     "output_type": "execute_result"
    }
   ],
   "source": [
    "n = 5\n",
    "getcontext().prec = n\n",
    "\n",
    "a=Decimal('23.173').quantize(Decimal(10) ** -(n-2))\n",
    "b=Decimal('23.094').quantize(Decimal(10) ** -(n-2))\n",
    "c=Decimal('0.81321').quantize(Decimal(10) ** -(n-2))\n",
    "pretty_p(a-b,a,b,'-')\n",
    "c/(a-b)"
   ]
  },
  {
   "cell_type": "code",
   "execution_count": 17,
   "metadata": {},
   "outputs": [
    {
     "name": "stdout",
     "output_type": "stream",
     "text": [
      "context.prec:4\n",
      "    23.17000000000000\n",
      "-   23.09000000000000\n",
      "-----------\n",
      "     0.08000000000000\n"
     ]
    },
    {
     "data": {
      "text/plain": [
       "Decimal('10.12')"
      ]
     },
     "execution_count": 17,
     "metadata": {},
     "output_type": "execute_result"
    }
   ],
   "source": [
    "n = 4\n",
    "getcontext().prec = n\n",
    "\n",
    "a=Decimal('23.173').quantize(Decimal(10) ** -(n-2))\n",
    "b=Decimal('23.094').quantize(Decimal(10) ** -(n-2))\n",
    "c=Decimal('0.81321').quantize(Decimal(10) ** -(n-2))\n",
    "pretty_p(a-b,a,b,'-')\n",
    "c/(a-b)"
   ]
  },
  {
   "cell_type": "code",
   "execution_count": 18,
   "metadata": {},
   "outputs": [
    {
     "name": "stdout",
     "output_type": "stream",
     "text": [
      "context.prec:3\n",
      "    23.20000000000000\n",
      "-   23.10000000000000\n",
      "-----------\n",
      "     0.10000000000000\n"
     ]
    },
    {
     "data": {
      "text/plain": [
       "Decimal('8')"
      ]
     },
     "execution_count": 18,
     "metadata": {},
     "output_type": "execute_result"
    }
   ],
   "source": [
    "n = 3\n",
    "getcontext().prec = n\n",
    "\n",
    "a=Decimal('23.173').quantize(Decimal(10) ** -(n-2))\n",
    "b=Decimal('23.094').quantize(Decimal(10) ** -(n-2))\n",
    "c=Decimal('0.81321').quantize(Decimal(10) ** -(n-2))\n",
    "pretty_p(a-b,a,b,'-')\n",
    "c/(a-b)"
   ]
  },
  {
   "cell_type": "code",
   "execution_count": 19,
   "metadata": {},
   "outputs": [
    {
     "name": "stdout",
     "output_type": "stream",
     "text": [
      "context.prec:2\n",
      "    23.00000000000000\n",
      "-   23.00000000000000\n",
      "-----------\n",
      "     0.00000000000000\n"
     ]
    },
    {
     "ename": "DivisionByZero",
     "evalue": "[<class 'decimal.DivisionByZero'>]",
     "output_type": "error",
     "traceback": [
      "\u001b[0;31m---------------------------------------------------------------------------\u001b[0m",
      "\u001b[0;31mDivisionByZero\u001b[0m                            Traceback (most recent call last)",
      "\u001b[0;32m<ipython-input-19-0b4e940db466>\u001b[0m in \u001b[0;36m<module>\u001b[0;34m\u001b[0m\n\u001b[1;32m      6\u001b[0m \u001b[0mc\u001b[0m\u001b[0;34m=\u001b[0m\u001b[0mDecimal\u001b[0m\u001b[0;34m(\u001b[0m\u001b[0;34m'0.81321'\u001b[0m\u001b[0;34m)\u001b[0m\u001b[0;34m.\u001b[0m\u001b[0mquantize\u001b[0m\u001b[0;34m(\u001b[0m\u001b[0mDecimal\u001b[0m\u001b[0;34m(\u001b[0m\u001b[0;36m10\u001b[0m\u001b[0;34m)\u001b[0m \u001b[0;34m**\u001b[0m \u001b[0;34m-\u001b[0m\u001b[0;34m(\u001b[0m\u001b[0mn\u001b[0m\u001b[0;34m-\u001b[0m\u001b[0;36m2\u001b[0m\u001b[0;34m)\u001b[0m\u001b[0;34m)\u001b[0m\u001b[0;34m\u001b[0m\u001b[0;34m\u001b[0m\u001b[0m\n\u001b[1;32m      7\u001b[0m \u001b[0mpretty_p\u001b[0m\u001b[0;34m(\u001b[0m\u001b[0ma\u001b[0m\u001b[0;34m-\u001b[0m\u001b[0mb\u001b[0m\u001b[0;34m,\u001b[0m\u001b[0ma\u001b[0m\u001b[0;34m,\u001b[0m\u001b[0mb\u001b[0m\u001b[0;34m,\u001b[0m\u001b[0;34m'-'\u001b[0m\u001b[0;34m)\u001b[0m\u001b[0;34m\u001b[0m\u001b[0;34m\u001b[0m\u001b[0m\n\u001b[0;32m----> 8\u001b[0;31m \u001b[0mc\u001b[0m\u001b[0;34m/\u001b[0m\u001b[0;34m(\u001b[0m\u001b[0ma\u001b[0m\u001b[0;34m-\u001b[0m\u001b[0mb\u001b[0m\u001b[0;34m)\u001b[0m\u001b[0;34m\u001b[0m\u001b[0;34m\u001b[0m\u001b[0m\n\u001b[0m",
      "\u001b[0;31mDivisionByZero\u001b[0m: [<class 'decimal.DivisionByZero'>]"
     ]
    }
   ],
   "source": [
    "n = 2\n",
    "getcontext().prec = n\n",
    "\n",
    "a=Decimal('23.173').quantize(Decimal(10) ** -(n-2))\n",
    "b=Decimal('23.094').quantize(Decimal(10) ** -(n-2))\n",
    "c=Decimal('0.81321').quantize(Decimal(10) ** -(n-2))\n",
    "pretty_p(a-b,a,b,'-')\n",
    "c/(a-b)"
   ]
  },
  {
   "cell_type": "markdown",
   "metadata": {},
   "source": [
    "# 複利計算\n",
    "10 進数10桁および3桁の有効桁数をもった計算機になったつもりで，以下の条件で預金を求める計算をおこなえ．\n",
    "1. 元本を10000万円とする\n",
    "1. 利息0.3%とする\n",
    "1. 複利計算で10年でいくらになるか．"
   ]
  },
  {
   "cell_type": "code",
   "execution_count": 32,
   "metadata": {},
   "outputs": [
    {
     "name": "stdout",
     "output_type": "stream",
     "text": [
      "10000000.00\n",
      "0.0030000000\n"
     ]
    },
    {
     "data": {
      "text/plain": [
       "Decimal('10304082.57')"
      ]
     },
     "execution_count": 32,
     "metadata": {},
     "output_type": "execute_result"
    }
   ],
   "source": [
    "from decimal import *\n",
    "\n",
    "n = 10\n",
    "digits = Decimal(10) ** -n\n",
    "getcontext().prec = n\n",
    "\n",
    "x = Decimal('0.1').quantize(digits)*10000*10000\n",
    "print(x)\n",
    "rate = Decimal('0.3').quantize(digits)/100\n",
    "print(rate)\n",
    "x*(1+rate)**10"
   ]
  },
  {
   "cell_type": "code",
   "execution_count": 35,
   "metadata": {},
   "outputs": [
    {
     "name": "stdout",
     "output_type": "stream",
     "text": [
      "1.00E+7\n",
      "0.003\n"
     ]
    },
    {
     "data": {
      "text/plain": [
       "Decimal('1.00E+7')"
      ]
     },
     "execution_count": 35,
     "metadata": {},
     "output_type": "execute_result"
    }
   ],
   "source": [
    "n = 3\n",
    "digits = Decimal(10) ** -n\n",
    "getcontext().prec = n\n",
    "\n",
    "x = Decimal('0.1').quantize(digits)*10000*10000\n",
    "print(x)\n",
    "rate = Decimal('0.3').quantize(digits)/100\n",
    "print(rate)\n",
    "x*(1+rate)**10"
   ]
  },
  {
   "cell_type": "markdown",
   "metadata": {},
   "source": [
    "# 2次方程式解の公式の罠\n",
    "係数を a = 1, b = 10000000($=10^7$), c = 1としたときに, 通常の解の公式を使った解と, 解と係数の関係(下記の記述を参照）を使った解とを出力するプログラムをpythonで作成すると以下の通りとなる．解の有効数字が2種類の計算方法の違いでどう違うか，いくつかの精度で実行させた結果を使って解説せよ．"
   ]
  },
  {
   "cell_type": "code",
   "execution_count": 41,
   "metadata": {},
   "outputs": [
    {
     "name": "stdout",
     "output_type": "stream",
     "text": [
      "(-9.96515154838562e-08, -9999999.9999999)\n",
      "(-9999999.9999999, -1.00000000000001e-07)\n"
     ]
    }
   ],
   "source": [
    "import numpy as np\n",
    "def solve_by_formula(a,b,c):\n",
    "    x0 = (-b + np.sqrt(b**2-4*a*c))/(2*a)\n",
    "    x1 = (-b - np.sqrt(b**2-4*a*c))/(2*a)\n",
    "    return (x0, x1)\n",
    "\n",
    "def solve_precise(a,b,c):\n",
    "    x0 = (-b - np.sqrt(b**2-4*a*c))/(2*a)\n",
    "    x1 = c/(a*x0)\n",
    "    return (x0, x1)\n",
    "\n",
    "b = 10**7\n",
    "\n",
    "print(solve_by_formula(1,b,1))\n",
    "print(solve_precise(1,b,1))"
   ]
  },
  {
   "cell_type": "code",
   "execution_count": 49,
   "metadata": {},
   "outputs": [
    {
     "name": "stdout",
     "output_type": "stream",
     "text": [
      "(-9999999.9999999, -9.96515154838562e-08)\n",
      "(-9999999.9999999, -1.00000000000001e-07)\n"
     ]
    }
   ],
   "source": [
    "from numpy import sqrt\n",
    "def solve_normal_formula(a,b,c):\n",
    "    x0=(-b-sqrt(b**2-4*a*c))/(2*a)\n",
    "    x1=(-b+sqrt(b**2-4*a*c))/(2*a)\n",
    "    return (x0,x1)\n",
    "\n",
    "def solve_precise_formula(a,b,c):\n",
    "    x0=(-b-sqrt(b**2-4*a*c))/(2*a)\n",
    "    x1=c/(a*x0)\n",
    "    return (x0,x1)\n",
    "\n",
    "b = 10**7\n",
    "\n",
    "print(solve_normal_formula(1,b,1))\n",
    "print(solve_precise_formula(1,b,1))"
   ]
  },
  {
   "cell_type": "code",
   "execution_count": 48,
   "metadata": {},
   "outputs": [
    {
     "name": "stdout",
     "output_type": "stream",
     "text": [
      "prec=40\n",
      "(Decimal('-9999999.99999989999999999999900000000000'), Decimal('-1.00000000000001000000000000E-7'))\n",
      "(Decimal('-9999999.99999989999999999999900000000000'), Decimal('-1.000000000000010000000000000200000000000E-7'))\n",
      "\n",
      "prec=20\n",
      "(Decimal('-9999999.999999900000'), Decimal('-1.000000E-7'))\n",
      "(Decimal('-9999999.999999900000'), Decimal('-1.0000000000000100000E-7'))\n"
     ]
    }
   ],
   "source": [
    "from decimal import *\n",
    "\n",
    "print(\"prec=40\")\n",
    "getcontext().prec = 40\n",
    "print(solve_normal_formula(Decimal('1'),\n",
    "                           Decimal('10000000'),\n",
    "                           Decimal('1')))\n",
    "print(solve_precise_formula(Decimal('1'),\n",
    "                            Decimal('10000000'),\n",
    "                            Decimal('1')))\n",
    "print(\"\\nprec=20\")\n",
    "getcontext().prec = 20\n",
    "print(solve_normal_formula(Decimal('1'),\n",
    "                           Decimal('10000000'),\n",
    "                           Decimal('1')))\n",
    "print(solve_precise_formula(Decimal('1'),\n",
    "                            Decimal('10000000'),\n",
    "                            Decimal('1')))"
   ]
  },
  {
   "cell_type": "code",
   "execution_count": 51,
   "metadata": {},
   "outputs": [
    {
     "data": {
      "text/plain": [
       "3.4848451614480015e-10"
      ]
     },
     "execution_count": 51,
     "metadata": {},
     "output_type": "execute_result"
    }
   ],
   "source": [
    "-9.96515154838562e-08\n",
    "-0.996515154838562e-07\n",
    "- (-1.00000000000001e-07)"
   ]
  },
  {
   "cell_type": "markdown",
   "metadata": {},
   "source": [
    "\n",
    "\\begin{eqnarray}\n",
    "{\\rm -9.96515154838562e-08} = -9.965 \\times 10^{-8}\\\\\n",
    "{\\rm -0.996515154838562e-07} = -0.9965 \\times 10^{-7}  \\\\\n",
    "{\\rm -1.00000000000001e-07} = -1.0 \\times 10^{-7}\n",
    "\\end{eqnarray}"
   ]
  }
 ],
 "metadata": {
  "kernelspec": {
   "display_name": "Python 3",
   "language": "python",
   "name": "python3"
  },
  "language_info": {
   "codemirror_mode": {
    "name": "ipython",
    "version": 3
   },
   "file_extension": ".py",
   "mimetype": "text/x-python",
   "name": "python",
   "nbconvert_exporter": "python",
   "pygments_lexer": "ipython3",
   "version": "3.8.3"
  },
  "toc": {
   "base_numbering": 1,
   "nav_menu": {},
   "number_sections": true,
   "sideBar": true,
   "skip_h1_title": false,
   "title_cell": "Table of Contents",
   "title_sidebar": "Contents",
   "toc_cell": false,
   "toc_position": {},
   "toc_section_display": true,
   "toc_window_display": true
  }
 },
 "nbformat": 4,
 "nbformat_minor": 4
}
