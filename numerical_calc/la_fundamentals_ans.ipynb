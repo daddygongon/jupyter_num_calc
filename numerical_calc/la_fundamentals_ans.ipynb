{
 "cells": [
  {
   "cell_type": "markdown",
   "metadata": {
    "toc": "true"
   },
   "source": [
    "# Table of Contents\n",
    " <p>"
   ]
  },
  {
   "cell_type": "code",
   "execution_count": 22,
   "metadata": {},
   "outputs": [
    {
     "name": "stdout",
     "output_type": "stream",
     "text": [
      "array([[ 0.99500417, -0.09983342],\n",
      "       [ 0.09983342,  0.99500417]])\n"
     ]
    }
   ],
   "source": [
    "import matplotlib.pyplot as plt\n",
    "import numpy as np\n",
    "from pprint import pprint\n",
    "\n",
    "def draw_projcetion_line_points(x,y):\n",
    "    p0 = np.array([x,y])\n",
    "    p1 = np.dot(aa,p0)\n",
    "\n",
    "    plt.plot(p0[0],p0[1],'o',color='r')\n",
    "    plt.plot(p1[0],p1[1],'o',color='b')\n",
    "    plt.plot([p0[0],p1[0]],[p0[1],p1[1]],\n",
    "              color='k', linestyle='-', linewidth=1)\n",
    "\n",
    "def draw_axes(x_min,x_max,y_min,y_max):\n",
    "    plt.hlines(0, x_min, x_max, color='k', linestyle='-',\n",
    "               linewidth=1)\n",
    "    plt.vlines(0, y_min, y_max, color='k', linestyle='-',\n",
    "               linewidth=1)\n",
    "\n",
    "# aa = np.array([[2,5], [4,1]])\n",
    "t = 0.1\n",
    "aa = np.array([[np.cos(t),-np.sin(t)], [np.sin(t),np.cos(t)]])\n",
    "\n",
    "pprint(aa)\n"
   ]
  },
  {
   "cell_type": "code",
   "execution_count": 23,
   "metadata": {},
   "outputs": [
    {
     "data": {
      "image/png": "[encoded data removed]",
      "text/plain": [
       "<matplotlib.figure.Figure at 0x10cf82550>"
      ]
     },
     "metadata": {},
     "output_type": "display_data"
    }
   ],
   "source": [
    "div = 8 #32\n",
    "for i in range(0,div):\n",
    "    theta = 2*np.pi/div*i\n",
    "    x0 = np.sin(theta)\n",
    "    y0 = np.cos(theta)\n",
    "    # print('%10.5f-%10.5f' % (x,y))\n",
    "    draw_projcetion_line_points(x0,y0)\n",
    "\n",
    "#draw_axes(-7,7,-5,5)\n",
    "draw_axes(-1.5,1.5,-1.5,1.5)\n",
    "plt.axes().set_aspect('equal', 'datalim')\n",
    "plt.show()"
   ]
  },
  {
   "cell_type": "code",
   "execution_count": 24,
   "metadata": {},
   "outputs": [
    {
     "name": "stdout",
     "output_type": "stream",
     "text": [
      "array([ 0.995+0.1j,  0.995-0.1j])\n",
      "array([[ 0.707+0.j   ,  0.707-0.j   ],\n",
      "       [ 0.000-0.707j,  0.000+0.707j]])\n"
     ]
    }
   ],
   "source": [
    "np.set_printoptions(precision=3, suppress=True)\n",
    "\n",
    "l,P = np.linalg.eig(aa)\n",
    "pprint(l)\n",
    "pprint(P)"
   ]
  },
  {
   "cell_type": "code",
   "execution_count": 25,
   "metadata": {},
   "outputs": [
    {
     "name": "stdout",
     "output_type": "stream",
     "text": [
      "array([ 0.707+0.j   ,  0.000-0.707j])\n",
      "array([ 0.707-0.j   ,  0.000+0.707j])\n"
     ]
    }
   ],
   "source": [
    "v0 = P[:,0]\n",
    "v1 = P[:,1]\n",
    "pprint(v0)\n",
    "pprint(v1)"
   ]
  },
  {
   "cell_type": "code",
   "execution_count": 26,
   "metadata": {},
   "outputs": [
    {
     "name": "stderr",
     "output_type": "stream",
     "text": [
      "/Users/bob/anaconda3/lib/python3.6/site-packages/numpy/core/numeric.py:531: ComplexWarning: Casting complex values to real discards the imaginary part\n",
      "  return array(a, dtype, copy=False, order=order)\n"
     ]
    },
    {
     "data": {
      "image/png": "[encoded data removed]",
      "text/plain": [
       "<matplotlib.figure.Figure at 0x10cfe0390>"
      ]
     },
     "metadata": {},
     "output_type": "display_data"
    }
   ],
   "source": [
    "def draw_eigen_vector(v, t):\n",
    "    plt.plot([-t*v[0],t*v[0]], [-t*v[1],t*v[1]], \n",
    "             color='g', linestyle='-', linewidth=2)\n",
    "\n",
    "div = 32\n",
    "for i in range(0,div):\n",
    "    theta = 2*np.pi/div*i\n",
    "    x0 = np.sin(theta)\n",
    "    y0 = np.cos(theta)\n",
    "    # print('%10.5f-%10.5f' % (x,y))\n",
    "    draw_projcetion_line_points(x0,y0)\n",
    "\n",
    "draw_axes(-7,7,-5,5)\n",
    "\n",
    "draw_eigen_vector(v0, 7)\n",
    "draw_eigen_vector(v1, 5)\n",
    "\n",
    "plt.axes().set_aspect('equal', 'datalim')\n",
    "plt.show()"
   ]
  },
  {
   "cell_type": "code",
   "execution_count": null,
   "metadata": {
    "collapsed": true
   },
   "outputs": [],
   "source": []
  }
 ],
 "metadata": {
  "kernelspec": {
   "display_name": "Python 3",
   "language": "python",
   "name": "python3"
  },
  "language_info": {
   "codemirror_mode": {
    "name": "ipython",
    "version": 3
   },
   "file_extension": ".py",
   "mimetype": "text/x-python",
   "name": "python",
   "nbconvert_exporter": "python",
   "pygments_lexer": "ipython3",
   "version": "3.6.1"
  },
  "latex_envs": {
   "LaTeX_envs_menu_present": true,
   "autocomplete": true,
   "bibliofile": "biblio.bib",
   "cite_by": "apalike",
   "current_citInitial": 1,
   "eqLabelWithNumbers": true,
   "eqNumInitial": 1,
   "hotkeys": {
    "equation": "Ctrl-E",
    "itemize": "Ctrl-I"
   },
   "labels_anchors": false,
   "latex_user_defs": false,
   "report_style_numbering": false,
   "user_envs_cfg": false
  },
  "toc": {
   "colors": {
    "hover_highlight": "#DAA520",
    "navigate_num": "#000000",
    "navigate_text": "#333333",
    "running_highlight": "#FF0000",
    "selected_highlight": "#FFD700",
    "sidebar_border": "#EEEEEE",
    "wrapper_background": "#FFFFFF"
   },
   "moveMenuLeft": true,
   "nav_menu": {
    "height": "12px",
    "width": "252px"
   },
   "navigate_menu": true,
   "number_sections": true,
   "sideBar": true,
   "threshold": 4,
   "toc_cell": true,
   "toc_section_display": "block",
   "toc_window_display": true,
   "widenNotebook": false
  }
 },
 "nbformat": 4,
 "nbformat_minor": 2
}
